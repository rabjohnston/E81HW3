{
 "cells": [
  {
   "cell_type": "markdown",
   "metadata": {
    "collapsed": false
   },
   "source": [
    "# The Journey\n",
    "\n",
    "This section describes the decisions taken to get to our final solution\n",
    " "
   ]
  },
  {
   "cell_type": "markdown",
   "metadata": {},
   "source": [
    "## The Baseline\n",
    "\n",
    "This section is the code we were given"
   ]
  },
  {
   "cell_type": "code",
   "execution_count": 1,
   "metadata": {
    "collapsed": false
   },
   "outputs": [
    {
     "name": "stderr",
     "output_type": "stream",
     "text": [
      "/Users/rob/anaconda/lib/python3.5/site-packages/sklearn/cross_validation.py:44: DeprecationWarning: This module was deprecated in version 0.18 in favor of the model_selection module into which all the refactored classes and functions are moved. Also note that the interface of the new CV iterators are different from that of this module. This module will be removed in 0.20.\n",
      "  \"This module will be removed in 0.20.\", DeprecationWarning)\n",
      "/Users/rob/anaconda/lib/python3.5/site-packages/sklearn/grid_search.py:43: DeprecationWarning: This module was deprecated in version 0.18 in favor of the model_selection module into which all the refactored classes and functions are moved. This module will be removed in 0.20.\n",
      "  DeprecationWarning)\n"
     ]
    },
    {
     "name": "stdout",
     "output_type": "stream",
     "text": [
      "Preprocessing data.\n",
      "Run model\n",
      "Calc ROC\n",
      "Baseline AUC is:  {0: 0.99996212682662722, 1: 0.99993172956870668, 2: 0.99996736488783788, 3: 0.99986086891635195}\n"
     ]
    }
   ],
   "source": [
    "# requires sciket-learn 0.18\n",
    "# if required, conda update scikit-learn\n",
    "\n",
    "import pandas as pd\n",
    "import numpy as np\n",
    "from sklearn.ensemble import RandomForestClassifier\n",
    "from sklearn.preprocessing import label_binarize\n",
    "from sklearn.multiclass import OneVsRestClassifier\n",
    "from sklearn.metrics import roc_curve, auc\n",
    "from sklearn.grid_search import GridSearchCV   #Perforing grid search\n",
    "\n",
    "\n",
    "def readFiles():\n",
    "    #Reading files\n",
    "    X = pd.read_csv(\"trainingData.txt\",sep='\\t',header=None)\n",
    "    Y = pd.read_csv(\"trainingTruth.txt\",sep='\\t',header=None)\n",
    "    Y = np.array(Y).ravel()\n",
    "    \n",
    "    return (X,Y)\n",
    "\n",
    "\n",
    "def preprocessData1( X, Y ):\n",
    "    print('Preprocessing data.')\n",
    "    \n",
    "    # Replace NAs with 0\n",
    "    X = X.fillna(0) \n",
    "    \n",
    "    return (X,Y)\n",
    "\n",
    "\n",
    "def runModel1(X,Y):\n",
    "    print('Run model')\n",
    "    \n",
    "    clf = OneVsRestClassifier(RandomForestClassifier(n_estimators = 10,random_state=25))\n",
    "    clf.fit(X,Y)\n",
    "    Y_predict = clf.predict_proba(X)\n",
    "    \n",
    "    return Y_predict, clf\n",
    "\n",
    "\n",
    "def calculateROC(Y, Y_predict):\n",
    "    print('Calc ROC')\n",
    "    # Binarize the output\n",
    "    y_bin = label_binarize(Y, classes=[1, 2, 3,4])\n",
    "\n",
    "    #Calculate AUC\n",
    "    fpr = dict()\n",
    "    tpr = dict()\n",
    "    roc_auc = dict()\n",
    "    for i in range(4):\n",
    "        fpr[i], tpr[i], _ = roc_curve(y_bin[:, i], Y_predict[:, i])\n",
    "        roc_auc[i] = auc(fpr[i], tpr[i])\n",
    "\n",
    "    return roc_auc\n",
    "\n",
    "def createSubmission(clf):\n",
    "    #Create submission\n",
    "    Xtest = pd.read_csv(\"testData.txt\",sep=\"\\t\",header=None)\n",
    "    y_final_prob = clf.predict_proba(Xtest)\n",
    "    y_final_label = clf.predict(Xtest)\n",
    "\n",
    "    sample = pd.DataFrame(np.hstack([y_final_prob.round(5),y_final_label.reshape(y_final_prob.shape[0],1)]))\n",
    "    sample.columns = [\"prob1\",\"prob2\",\"prob3\",\"prob4\",\"label\"]\n",
    "    sample.label = sample.label.astype(int)\n",
    "    \n",
    "    #Submit this file to dropbox\n",
    "    sample.to_csv(\"Johnston_Memic.csv\",sep=\"\\t\" ,index=False,header=None)\n",
    "    \n",
    "\n",
    "# Read the files in.   \n",
    "(X,Y) = readFiles()\n",
    "\n",
    "# Clean up the data\n",
    "(X,Y) = preprocessData1(X,Y)\n",
    "\n",
    "# Run the model\n",
    "Y_predict, clf = runModel1(X,Y)\n",
    "\n",
    "baselineAUC = calculateROC(Y, Y_predict)\n",
    "\n",
    "print('Baseline AUC is: ', baselineAUC)\n",
    "\n",
    "#createSubmission(clf)\n",
    "\n",
    "\n"
   ]
  },
  {
   "cell_type": "markdown",
   "metadata": {},
   "source": [
    "## Pre-processing the data\n",
    "\n"
   ]
  },
  {
   "cell_type": "markdown",
   "metadata": {},
   "source": [
    "### Analysing NAs\n",
    "\n",
    "First we analyse the prevalance on NAs in our features. For each feature, we calculate the frequency of NAs. This will help determine whether we think the feature is worth keeping as too many NAs indicates that the feature is not giving us enough information.\n"
   ]
  },
  {
   "cell_type": "code",
   "execution_count": 2,
   "metadata": {
    "collapsed": false
   },
   "outputs": [
    {
     "name": "stdout",
     "output_type": "stream",
     "text": [
      "Maximum number of NAs in one column:  81\n",
      "Minimum number of NAs in one column:  40\n",
      "Maximum number of NAs in one row:  7\n",
      "Minimum number of NAs in one row:  0\n"
     ]
    }
   ],
   "source": [
    "# Read the files in.   \n",
    "(X,Y) = readFiles()\n",
    "\n",
    "sums = {}\n",
    "\n",
    "total = X.shape[0]\n",
    "\n",
    "for col in X.columns:\n",
    "    # Count the NAs\n",
    "    sums[col] = total - X[col].count()\n",
    "    \n",
    "# Do something more clever here? Plot a distribution?\n",
    "#print(sums)\n",
    "print('Maximum number of NAs in one column: ', max(sums.values()))\n",
    "print('Minimum number of NAs in one column: ', min(sums.values()))\n",
    "\n",
    "# Check the rows to see if there are any rows with excessive NAs\n",
    "rowSums = X.isnull().sum(axis=1).tolist()\n",
    "print('Maximum number of NAs in one row: ', max(rowSums))\n",
    "print('Minimum number of NAs in one row: ', min(rowSums))\n"
   ]
  },
  {
   "cell_type": "markdown",
   "metadata": {},
   "source": [
    "### NAs Replaced with Mean\n",
    "We first looked at the treatment of nulls. The first step is, instead of replacing NAs with 0, replace them with the mean of the feature."
   ]
  },
  {
   "cell_type": "code",
   "execution_count": 3,
   "metadata": {
    "collapsed": false
   },
   "outputs": [
    {
     "name": "stdout",
     "output_type": "stream",
     "text": [
      "Preprocessing data.\n",
      "Run model\n",
      "Calc ROC\n",
      "Baseline AUC is:  {0: 0.99996212682662722, 1: 0.99993172956870668, 2: 0.99996736488783788, 3: 0.99986086891635195}\n",
      "Mean NA AUC is:  {0: 0.99998479648620131, 1: 0.99993036758884135, 2: 0.99994417906316257, 3: 0.99988691290227649}\n"
     ]
    }
   ],
   "source": [
    "\n",
    "\n",
    "def preprocessData3( X, Y ):\n",
    "    print('Preprocessing data.')\n",
    "\n",
    "    # Q: Normalise data for SVMs - what about decision trees?\n",
    "    \n",
    "\n",
    "    #Rewrite this from the HW ipython book\n",
    "    # Replace any NaN in X with the mean of the column\n",
    "    # Replacing with the mean gives a better score\n",
    "    xMean = []\n",
    "    for col in X.columns:\n",
    "        xMean = X[col].mean()\n",
    "        #print(col, ' ', xMean)\n",
    "        X.loc[X[col].isnull(), col] = xMean\n",
    "    \n",
    "    return (X,Y)\n",
    "\n",
    "\n",
    "# Read the files in.   \n",
    "(X,Y) = readFiles()\n",
    "\n",
    "\n",
    "# Clean up the data\n",
    "(X,Y) = preprocessData3(X,Y)\n",
    "\n",
    "# Run the model\n",
    "Y_predict, clf = runModel1(X,Y)\n",
    "\n",
    "meanNAAUC = calculateROC(Y, Y_predict)\n",
    "\n",
    "print('Baseline AUC is: ', baselineAUC)\n",
    "print('Mean NA AUC is: ', meanNAAUC)\n",
    "\n",
    "\n"
   ]
  },
  {
   "cell_type": "markdown",
   "metadata": {},
   "source": [
    "## First Submission\n",
    "\n",
    "I tried this this morning to submit a trial entry but it just kept on running......."
   ]
  },
  {
   "cell_type": "code",
   "execution_count": 6,
   "metadata": {
    "collapsed": false
   },
   "outputs": [
    {
     "name": "stdout",
     "output_type": "stream",
     "text": [
      "Preprocessing data.\n",
      "Run model\n",
      "Fitting 5 folds for each of 270 candidates, totalling 1350 fits\n",
      "[CV] estimator__n_estimators=10, estimator__max_depth=3, estimator__min_samples_split=2, estimator__min_samples_leaf=1 \n",
      "[CV] estimator__n_estimators=10, estimator__max_depth=3, estimator__min_samples_split=2, estimator__min_samples_leaf=1 \n"
     ]
    },
    {
     "name": "stderr",
     "output_type": "stream",
     "text": [
      "/Users/rob/anaconda/lib/python3.5/site-packages/sklearn/externals/joblib/parallel.py:540: UserWarning: Multiprocessing-backed parallel loops cannot be nested, setting n_jobs=1\n",
      "  **self._backend_args)\n"
     ]
    },
    {
     "name": "stdout",
     "output_type": "stream",
     "text": [
      "[CV] estimator__n_estimators=10, estimator__max_depth=3, estimator__min_samples_split=2, estimator__min_samples_leaf=1 \n"
     ]
    },
    {
     "name": "stderr",
     "output_type": "stream",
     "text": [
      "/Users/rob/anaconda/lib/python3.5/site-packages/sklearn/externals/joblib/parallel.py:540: UserWarning: Multiprocessing-backed parallel loops cannot be nested, setting n_jobs=1\n",
      "  **self._backend_args)\n"
     ]
    },
    {
     "name": "stdout",
     "output_type": "stream",
     "text": [
      "[CV] estimator__n_estimators=10, estimator__max_depth=3, estimator__min_samples_split=2, estimator__min_samples_leaf=1 \n"
     ]
    },
    {
     "name": "stderr",
     "output_type": "stream",
     "text": [
      "/Users/rob/anaconda/lib/python3.5/site-packages/sklearn/externals/joblib/parallel.py:540: UserWarning: Multiprocessing-backed parallel loops cannot be nested, setting n_jobs=1\n",
      "  **self._backend_args)\n"
     ]
    },
    {
     "name": "stdout",
     "output_type": "stream",
     "text": [
      "[CV] estimator__n_estimators=10, estimator__max_depth=3, estimator__min_samples_split=2, estimator__min_samples_leaf=1 \n"
     ]
    },
    {
     "name": "stderr",
     "output_type": "stream",
     "text": [
      "/Users/rob/anaconda/lib/python3.5/site-packages/sklearn/externals/joblib/parallel.py:540: UserWarning: Multiprocessing-backed parallel loops cannot be nested, setting n_jobs=1\n",
      "  **self._backend_args)\n"
     ]
    },
    {
     "name": "stdout",
     "output_type": "stream",
     "text": [
      "[CV] estimator__n_estimators=20, estimator__max_depth=3, estimator__min_samples_split=2, estimator__min_samples_leaf=1 \n"
     ]
    },
    {
     "name": "stderr",
     "output_type": "stream",
     "text": [
      "/Users/rob/anaconda/lib/python3.5/site-packages/sklearn/externals/joblib/parallel.py:540: UserWarning: Multiprocessing-backed parallel loops cannot be nested, setting n_jobs=1\n",
      "  **self._backend_args)\n"
     ]
    },
    {
     "name": "stdout",
     "output_type": "stream",
     "text": [
      "[CV] estimator__n_estimators=20, estimator__max_depth=3, estimator__min_samples_split=2, estimator__min_samples_leaf=1 \n"
     ]
    },
    {
     "name": "stderr",
     "output_type": "stream",
     "text": [
      "/Users/rob/anaconda/lib/python3.5/site-packages/sklearn/externals/joblib/parallel.py:540: UserWarning: Multiprocessing-backed parallel loops cannot be nested, setting n_jobs=1\n",
      "  **self._backend_args)\n"
     ]
    },
    {
     "name": "stdout",
     "output_type": "stream",
     "text": [
      "[CV] estimator__n_estimators=20, estimator__max_depth=3, estimator__min_samples_split=2, estimator__min_samples_leaf=1 \n"
     ]
    },
    {
     "name": "stderr",
     "output_type": "stream",
     "text": [
      "/Users/rob/anaconda/lib/python3.5/site-packages/sklearn/externals/joblib/parallel.py:540: UserWarning: Multiprocessing-backed parallel loops cannot be nested, setting n_jobs=1\n",
      "  **self._backend_args)\n",
      "/Users/rob/anaconda/lib/python3.5/site-packages/sklearn/externals/joblib/parallel.py:540: UserWarning: Multiprocessing-backed parallel loops cannot be nested, setting n_jobs=1\n",
      "  **self._backend_args)\n"
     ]
    },
    {
     "name": "stdout",
     "output_type": "stream",
     "text": [
      "[CV]  estimator__n_estimators=10, estimator__max_depth=3, estimator__min_samples_split=2, estimator__min_samples_leaf=1 -   3.4s\n",
      "[CV] estimator__n_estimators=20, estimator__max_depth=3, estimator__min_samples_split=2, estimator__min_samples_leaf=1 \n",
      "[CV]  estimator__n_estimators=10, estimator__max_depth=3, estimator__min_samples_split=2, estimator__min_samples_leaf=1 -   3.5s\n",
      "[CV] estimator__n_estimators=20, estimator__max_depth=3, estimator__min_samples_split=2, estimator__min_samples_leaf=1 \n"
     ]
    },
    {
     "name": "stderr",
     "output_type": "stream",
     "text": [
      "/Users/rob/anaconda/lib/python3.5/site-packages/sklearn/externals/joblib/parallel.py:540: UserWarning: Multiprocessing-backed parallel loops cannot be nested, setting n_jobs=1\n",
      "  **self._backend_args)\n"
     ]
    },
    {
     "name": "stdout",
     "output_type": "stream",
     "text": [
      "[CV]  estimator__n_estimators=10, estimator__max_depth=3, estimator__min_samples_split=2, estimator__min_samples_leaf=1 -   3.5s\n",
      "[CV] estimator__n_estimators=30, estimator__max_depth=3, estimator__min_samples_split=2, estimator__min_samples_leaf=1 \n"
     ]
    },
    {
     "name": "stderr",
     "output_type": "stream",
     "text": [
      "/Users/rob/anaconda/lib/python3.5/site-packages/sklearn/externals/joblib/parallel.py:540: UserWarning: Multiprocessing-backed parallel loops cannot be nested, setting n_jobs=1\n",
      "  **self._backend_args)\n",
      "/Users/rob/anaconda/lib/python3.5/site-packages/sklearn/externals/joblib/parallel.py:540: UserWarning: Multiprocessing-backed parallel loops cannot be nested, setting n_jobs=1\n",
      "  **self._backend_args)\n"
     ]
    },
    {
     "name": "stdout",
     "output_type": "stream",
     "text": [
      "[CV]  estimator__n_estimators=10, estimator__max_depth=3, estimator__min_samples_split=2, estimator__min_samples_leaf=1 -   3.6s\n",
      "[CV] estimator__n_estimators=30, estimator__max_depth=3, estimator__min_samples_split=2, estimator__min_samples_leaf=1 \n"
     ]
    },
    {
     "name": "stderr",
     "output_type": "stream",
     "text": [
      "/Users/rob/anaconda/lib/python3.5/site-packages/sklearn/externals/joblib/parallel.py:540: UserWarning: Multiprocessing-backed parallel loops cannot be nested, setting n_jobs=1\n",
      "  **self._backend_args)\n"
     ]
    },
    {
     "name": "stdout",
     "output_type": "stream",
     "text": [
      "[CV]  estimator__n_estimators=10, estimator__max_depth=3, estimator__min_samples_split=2, estimator__min_samples_leaf=1 -   3.7s\n",
      "[CV] estimator__n_estimators=30, estimator__max_depth=3, estimator__min_samples_split=2, estimator__min_samples_leaf=1 \n"
     ]
    },
    {
     "name": "stderr",
     "output_type": "stream",
     "text": [
      "/Users/rob/anaconda/lib/python3.5/site-packages/sklearn/externals/joblib/parallel.py:540: UserWarning: Multiprocessing-backed parallel loops cannot be nested, setting n_jobs=1\n",
      "  **self._backend_args)\n"
     ]
    },
    {
     "name": "stdout",
     "output_type": "stream",
     "text": [
      "[CV]  estimator__n_estimators=20, estimator__max_depth=3, estimator__min_samples_split=2, estimator__min_samples_leaf=1 -   6.9s\n",
      "[CV] estimator__n_estimators=30, estimator__max_depth=3, estimator__min_samples_split=2, estimator__min_samples_leaf=1 \n",
      "[CV]  estimator__n_estimators=20, estimator__max_depth=3, estimator__min_samples_split=2, estimator__min_samples_leaf=1 -   7.0s\n",
      "[CV] estimator__n_estimators=30, estimator__max_depth=3, estimator__min_samples_split=2, estimator__min_samples_leaf=1 \n"
     ]
    },
    {
     "name": "stderr",
     "output_type": "stream",
     "text": [
      "/Users/rob/anaconda/lib/python3.5/site-packages/sklearn/externals/joblib/parallel.py:540: UserWarning: Multiprocessing-backed parallel loops cannot be nested, setting n_jobs=1\n",
      "  **self._backend_args)\n"
     ]
    },
    {
     "name": "stdout",
     "output_type": "stream",
     "text": [
      "[CV]  estimator__n_estimators=20, estimator__max_depth=3, estimator__min_samples_split=2, estimator__min_samples_leaf=1 -   7.0s\n"
     ]
    },
    {
     "name": "stderr",
     "output_type": "stream",
     "text": [
      "/Users/rob/anaconda/lib/python3.5/site-packages/sklearn/externals/joblib/parallel.py:540: UserWarning: Multiprocessing-backed parallel loops cannot be nested, setting n_jobs=1\n",
      "  **self._backend_args)\n"
     ]
    },
    {
     "name": "stdout",
     "output_type": "stream",
     "text": [
      "[CV] estimator__n_estimators=40, estimator__max_depth=3, estimator__min_samples_split=2, estimator__min_samples_leaf=1 \n"
     ]
    },
    {
     "name": "stderr",
     "output_type": "stream",
     "text": [
      "/Users/rob/anaconda/lib/python3.5/site-packages/sklearn/externals/joblib/parallel.py:540: UserWarning: Multiprocessing-backed parallel loops cannot be nested, setting n_jobs=1\n",
      "  **self._backend_args)\n"
     ]
    },
    {
     "name": "stdout",
     "output_type": "stream",
     "text": [
      "[CV]  estimator__n_estimators=20, estimator__max_depth=3, estimator__min_samples_split=2, estimator__min_samples_leaf=1 -   6.9s\n",
      "[CV] estimator__n_estimators=40, estimator__max_depth=3, estimator__min_samples_split=2, estimator__min_samples_leaf=1 \n"
     ]
    },
    {
     "name": "stderr",
     "output_type": "stream",
     "text": [
      "/Users/rob/anaconda/lib/python3.5/site-packages/sklearn/externals/joblib/parallel.py:540: UserWarning: Multiprocessing-backed parallel loops cannot be nested, setting n_jobs=1\n",
      "  **self._backend_args)\n"
     ]
    },
    {
     "name": "stdout",
     "output_type": "stream",
     "text": [
      "[CV]  estimator__n_estimators=20, estimator__max_depth=3, estimator__min_samples_split=2, estimator__min_samples_leaf=1 -   7.0s\n",
      "[CV] estimator__n_estimators=40, estimator__max_depth=3, estimator__min_samples_split=2, estimator__min_samples_leaf=1 \n"
     ]
    },
    {
     "name": "stderr",
     "output_type": "stream",
     "text": [
      "/Users/rob/anaconda/lib/python3.5/site-packages/sklearn/externals/joblib/parallel.py:540: UserWarning: Multiprocessing-backed parallel loops cannot be nested, setting n_jobs=1\n",
      "  **self._backend_args)\n"
     ]
    },
    {
     "name": "stdout",
     "output_type": "stream",
     "text": [
      "[CV]  estimator__n_estimators=30, estimator__max_depth=3, estimator__min_samples_split=2, estimator__min_samples_leaf=1 -  10.3s\n",
      "[CV] estimator__n_estimators=40, estimator__max_depth=3, estimator__min_samples_split=2, estimator__min_samples_leaf=1 \n",
      "[CV]  estimator__n_estimators=30, estimator__max_depth=3, estimator__min_samples_split=2, estimator__min_samples_leaf=1 -  10.2s\n",
      "[CV] estimator__n_estimators=40, estimator__max_depth=3, estimator__min_samples_split=2, estimator__min_samples_leaf=1 \n"
     ]
    },
    {
     "name": "stderr",
     "output_type": "stream",
     "text": [
      "/Users/rob/anaconda/lib/python3.5/site-packages/sklearn/externals/joblib/parallel.py:540: UserWarning: Multiprocessing-backed parallel loops cannot be nested, setting n_jobs=1\n",
      "  **self._backend_args)\n",
      "/Users/rob/anaconda/lib/python3.5/site-packages/sklearn/externals/joblib/parallel.py:540: UserWarning: Multiprocessing-backed parallel loops cannot be nested, setting n_jobs=1\n",
      "  **self._backend_args)\n"
     ]
    },
    {
     "name": "stdout",
     "output_type": "stream",
     "text": [
      "[CV]  estimator__n_estimators=30, estimator__max_depth=3, estimator__min_samples_split=2, estimator__min_samples_leaf=1 -  10.3s\n",
      "[CV] estimator__n_estimators=50, estimator__max_depth=3, estimator__min_samples_split=2, estimator__min_samples_leaf=1 \n"
     ]
    },
    {
     "name": "stderr",
     "output_type": "stream",
     "text": [
      "/Users/rob/anaconda/lib/python3.5/site-packages/sklearn/externals/joblib/parallel.py:540: UserWarning: Multiprocessing-backed parallel loops cannot be nested, setting n_jobs=1\n",
      "  **self._backend_args)\n"
     ]
    },
    {
     "name": "stdout",
     "output_type": "stream",
     "text": [
      "[CV]  estimator__n_estimators=30, estimator__max_depth=3, estimator__min_samples_split=2, estimator__min_samples_leaf=1 -  10.4s\n",
      "[CV] estimator__n_estimators=50, estimator__max_depth=3, estimator__min_samples_split=2, estimator__min_samples_leaf=1 \n"
     ]
    },
    {
     "name": "stderr",
     "output_type": "stream",
     "text": [
      "/Users/rob/anaconda/lib/python3.5/site-packages/sklearn/externals/joblib/parallel.py:540: UserWarning: Multiprocessing-backed parallel loops cannot be nested, setting n_jobs=1\n",
      "  **self._backend_args)\n"
     ]
    },
    {
     "name": "stdout",
     "output_type": "stream",
     "text": [
      "[CV]  estimator__n_estimators=30, estimator__max_depth=3, estimator__min_samples_split=2, estimator__min_samples_leaf=1 -  10.4s\n",
      "[CV] estimator__n_estimators=50, estimator__max_depth=3, estimator__min_samples_split=2, estimator__min_samples_leaf=1 \n"
     ]
    },
    {
     "name": "stderr",
     "output_type": "stream",
     "text": [
      "/Users/rob/anaconda/lib/python3.5/site-packages/sklearn/externals/joblib/parallel.py:540: UserWarning: Multiprocessing-backed parallel loops cannot be nested, setting n_jobs=1\n",
      "  **self._backend_args)\n"
     ]
    },
    {
     "name": "stdout",
     "output_type": "stream",
     "text": [
      "[CV]  estimator__n_estimators=40, estimator__max_depth=3, estimator__min_samples_split=2, estimator__min_samples_leaf=1 -  13.7s\n",
      "[CV] estimator__n_estimators=50, estimator__max_depth=3, estimator__min_samples_split=2, estimator__min_samples_leaf=1 \n"
     ]
    },
    {
     "name": "stderr",
     "output_type": "stream",
     "text": [
      "/Users/rob/anaconda/lib/python3.5/site-packages/sklearn/externals/joblib/parallel.py:540: UserWarning: Multiprocessing-backed parallel loops cannot be nested, setting n_jobs=1\n",
      "  **self._backend_args)\n"
     ]
    },
    {
     "name": "stdout",
     "output_type": "stream",
     "text": [
      "[CV]  estimator__n_estimators=40, estimator__max_depth=3, estimator__min_samples_split=2, estimator__min_samples_leaf=1 -  13.7s\n",
      "[CV] estimator__n_estimators=50, estimator__max_depth=3, estimator__min_samples_split=2, estimator__min_samples_leaf=1 \n"
     ]
    },
    {
     "name": "stderr",
     "output_type": "stream",
     "text": [
      "/Users/rob/anaconda/lib/python3.5/site-packages/sklearn/externals/joblib/parallel.py:540: UserWarning: Multiprocessing-backed parallel loops cannot be nested, setting n_jobs=1\n",
      "  **self._backend_args)\n"
     ]
    },
    {
     "name": "stdout",
     "output_type": "stream",
     "text": [
      "[CV]  estimator__n_estimators=40, estimator__max_depth=3, estimator__min_samples_split=2, estimator__min_samples_leaf=1 -  14.0s\n",
      "[CV] estimator__n_estimators=10, estimator__max_depth=3, estimator__min_samples_split=4, estimator__min_samples_leaf=1 \n"
     ]
    },
    {
     "name": "stderr",
     "output_type": "stream",
     "text": [
      "/Users/rob/anaconda/lib/python3.5/site-packages/sklearn/externals/joblib/parallel.py:540: UserWarning: Multiprocessing-backed parallel loops cannot be nested, setting n_jobs=1\n",
      "  **self._backend_args)\n"
     ]
    },
    {
     "name": "stdout",
     "output_type": "stream",
     "text": [
      "[CV]  estimator__n_estimators=40, estimator__max_depth=3, estimator__min_samples_split=2, estimator__min_samples_leaf=1 -  14.2s\n",
      "[CV] estimator__n_estimators=10, estimator__max_depth=3, estimator__min_samples_split=4, estimator__min_samples_leaf=1 \n",
      "[CV]  estimator__n_estimators=40, estimator__max_depth=3, estimator__min_samples_split=2, estimator__min_samples_leaf=1 -  14.2s\n"
     ]
    },
    {
     "name": "stderr",
     "output_type": "stream",
     "text": [
      "/Users/rob/anaconda/lib/python3.5/site-packages/sklearn/externals/joblib/parallel.py:540: UserWarning: Multiprocessing-backed parallel loops cannot be nested, setting n_jobs=1\n",
      "  **self._backend_args)\n"
     ]
    },
    {
     "name": "stdout",
     "output_type": "stream",
     "text": [
      "[CV]  estimator__n_estimators=10, estimator__max_depth=3, estimator__min_samples_split=4, estimator__min_samples_leaf=1 -   3.9s\n",
      "[CV] estimator__n_estimators=10, estimator__max_depth=3, estimator__min_samples_split=4, estimator__min_samples_leaf=1 \n"
     ]
    },
    {
     "name": "stderr",
     "output_type": "stream",
     "text": [
      "/Users/rob/anaconda/lib/python3.5/site-packages/sklearn/externals/joblib/parallel.py:540: UserWarning: Multiprocessing-backed parallel loops cannot be nested, setting n_jobs=1\n",
      "  **self._backend_args)\n"
     ]
    },
    {
     "name": "stdout",
     "output_type": "stream",
     "text": [
      "[CV] estimator__n_estimators=10, estimator__max_depth=3, estimator__min_samples_split=4, estimator__min_samples_leaf=1 \n"
     ]
    },
    {
     "name": "stderr",
     "output_type": "stream",
     "text": [
      "/Users/rob/anaconda/lib/python3.5/site-packages/sklearn/externals/joblib/parallel.py:540: UserWarning: Multiprocessing-backed parallel loops cannot be nested, setting n_jobs=1\n",
      "  **self._backend_args)\n"
     ]
    },
    {
     "name": "stdout",
     "output_type": "stream",
     "text": [
      "[CV]  estimator__n_estimators=10, estimator__max_depth=3, estimator__min_samples_split=4, estimator__min_samples_leaf=1 -   4.0s\n",
      "[CV] estimator__n_estimators=10, estimator__max_depth=3, estimator__min_samples_split=4, estimator__min_samples_leaf=1 \n"
     ]
    },
    {
     "name": "stderr",
     "output_type": "stream",
     "text": [
      "/Users/rob/anaconda/lib/python3.5/site-packages/sklearn/externals/joblib/parallel.py:540: UserWarning: Multiprocessing-backed parallel loops cannot be nested, setting n_jobs=1\n",
      "  **self._backend_args)\n"
     ]
    },
    {
     "name": "stdout",
     "output_type": "stream",
     "text": [
      "[CV]  estimator__n_estimators=10, estimator__max_depth=3, estimator__min_samples_split=4, estimator__min_samples_leaf=1 -   4.0s\n",
      "[CV] estimator__n_estimators=20, estimator__max_depth=3, estimator__min_samples_split=4, estimator__min_samples_leaf=1 \n",
      "[CV]  estimator__n_estimators=50, estimator__max_depth=3, estimator__min_samples_split=2, estimator__min_samples_leaf=1 -  18.0s\n"
     ]
    },
    {
     "name": "stderr",
     "output_type": "stream",
     "text": [
      "/Users/rob/anaconda/lib/python3.5/site-packages/sklearn/externals/joblib/parallel.py:540: UserWarning: Multiprocessing-backed parallel loops cannot be nested, setting n_jobs=1\n",
      "  **self._backend_args)\n"
     ]
    },
    {
     "name": "stdout",
     "output_type": "stream",
     "text": [
      "[CV] estimator__n_estimators=20, estimator__max_depth=3, estimator__min_samples_split=4, estimator__min_samples_leaf=1 \n",
      "[CV]  estimator__n_estimators=10, estimator__max_depth=3, estimator__min_samples_split=4, estimator__min_samples_leaf=1 -   4.0s\n"
     ]
    },
    {
     "name": "stderr",
     "output_type": "stream",
     "text": [
      "/Users/rob/anaconda/lib/python3.5/site-packages/sklearn/externals/joblib/parallel.py:540: UserWarning: Multiprocessing-backed parallel loops cannot be nested, setting n_jobs=1\n",
      "  **self._backend_args)\n"
     ]
    },
    {
     "name": "stdout",
     "output_type": "stream",
     "text": [
      "[CV] estimator__n_estimators=20, estimator__max_depth=3, estimator__min_samples_split=4, estimator__min_samples_leaf=1 \n"
     ]
    },
    {
     "name": "stderr",
     "output_type": "stream",
     "text": [
      "/Users/rob/anaconda/lib/python3.5/site-packages/sklearn/externals/joblib/parallel.py:540: UserWarning: Multiprocessing-backed parallel loops cannot be nested, setting n_jobs=1\n",
      "  **self._backend_args)\n",
      "[Parallel(n_jobs=8)]: Done  25 tasks      | elapsed:   32.7s\n"
     ]
    },
    {
     "name": "stdout",
     "output_type": "stream",
     "text": [
      "[CV]  estimator__n_estimators=10, estimator__max_depth=3, estimator__min_samples_split=4, estimator__min_samples_leaf=1 -   4.0s\n",
      "[CV] estimator__n_estimators=20, estimator__max_depth=3, estimator__min_samples_split=4, estimator__min_samples_leaf=1 \n",
      "[CV]  estimator__n_estimators=50, estimator__max_depth=3, estimator__min_samples_split=2, estimator__min_samples_leaf=1 -  18.6s\n",
      "[CV]  estimator__n_estimators=50, estimator__max_depth=3, estimator__min_samples_split=2, estimator__min_samples_leaf=1 -  18.5s\n",
      "[CV] estimator__n_estimators=20, estimator__max_depth=3, estimator__min_samples_split=4, estimator__min_samples_leaf=1 \n"
     ]
    },
    {
     "name": "stderr",
     "output_type": "stream",
     "text": [
      "/Users/rob/anaconda/lib/python3.5/site-packages/sklearn/externals/joblib/parallel.py:540: UserWarning: Multiprocessing-backed parallel loops cannot be nested, setting n_jobs=1\n",
      "  **self._backend_args)\n",
      "/Users/rob/anaconda/lib/python3.5/site-packages/sklearn/externals/joblib/parallel.py:540: UserWarning: Multiprocessing-backed parallel loops cannot be nested, setting n_jobs=1\n",
      "  **self._backend_args)\n"
     ]
    },
    {
     "name": "stdout",
     "output_type": "stream",
     "text": [
      "[CV] estimator__n_estimators=30, estimator__max_depth=3, estimator__min_samples_split=4, estimator__min_samples_leaf=1 \n"
     ]
    },
    {
     "name": "stderr",
     "output_type": "stream",
     "text": [
      "/Users/rob/anaconda/lib/python3.5/site-packages/sklearn/externals/joblib/parallel.py:540: UserWarning: Multiprocessing-backed parallel loops cannot be nested, setting n_jobs=1\n",
      "  **self._backend_args)\n"
     ]
    },
    {
     "name": "stdout",
     "output_type": "stream",
     "text": [
      "[CV]  estimator__n_estimators=20, estimator__max_depth=3, estimator__min_samples_split=4, estimator__min_samples_leaf=1 -   7.9s\n",
      "[CV] estimator__n_estimators=30, estimator__max_depth=3, estimator__min_samples_split=4, estimator__min_samples_leaf=1 \n"
     ]
    },
    {
     "name": "stderr",
     "output_type": "stream",
     "text": [
      "/Users/rob/anaconda/lib/python3.5/site-packages/sklearn/externals/joblib/parallel.py:540: UserWarning: Multiprocessing-backed parallel loops cannot be nested, setting n_jobs=1\n",
      "  **self._backend_args)\n"
     ]
    },
    {
     "name": "stdout",
     "output_type": "stream",
     "text": [
      "[CV]  estimator__n_estimators=20, estimator__max_depth=3, estimator__min_samples_split=4, estimator__min_samples_leaf=1 -   8.2s\n",
      "[CV] estimator__n_estimators=30, estimator__max_depth=3, estimator__min_samples_split=4, estimator__min_samples_leaf=1 \n",
      "[CV]  estimator__n_estimators=50, estimator__max_depth=3, estimator__min_samples_split=2, estimator__min_samples_leaf=1 -  19.2s\n",
      "[CV]  estimator__n_estimators=20, estimator__max_depth=3, estimator__min_samples_split=4, estimator__min_samples_leaf=1 -   8.0s\n",
      "[CV] estimator__n_estimators=30, estimator__max_depth=3, estimator__min_samples_split=4, estimator__min_samples_leaf=1 \n"
     ]
    },
    {
     "name": "stderr",
     "output_type": "stream",
     "text": [
      "/Users/rob/anaconda/lib/python3.5/site-packages/sklearn/externals/joblib/parallel.py:540: UserWarning: Multiprocessing-backed parallel loops cannot be nested, setting n_jobs=1\n",
      "  **self._backend_args)\n"
     ]
    },
    {
     "name": "stdout",
     "output_type": "stream",
     "text": [
      "[CV] estimator__n_estimators=30, estimator__max_depth=3, estimator__min_samples_split=4, estimator__min_samples_leaf=1 \n"
     ]
    },
    {
     "name": "stderr",
     "output_type": "stream",
     "text": [
      "/Users/rob/anaconda/lib/python3.5/site-packages/sklearn/externals/joblib/parallel.py:540: UserWarning: Multiprocessing-backed parallel loops cannot be nested, setting n_jobs=1\n",
      "  **self._backend_args)\n",
      "/Users/rob/anaconda/lib/python3.5/site-packages/sklearn/externals/joblib/parallel.py:540: UserWarning: Multiprocessing-backed parallel loops cannot be nested, setting n_jobs=1\n",
      "  **self._backend_args)\n"
     ]
    },
    {
     "name": "stdout",
     "output_type": "stream",
     "text": [
      "[CV]  estimator__n_estimators=50, estimator__max_depth=3, estimator__min_samples_split=2, estimator__min_samples_leaf=1 -  19.4s\n",
      "[CV] estimator__n_estimators=40, estimator__max_depth=3, estimator__min_samples_split=4, estimator__min_samples_leaf=1 \n"
     ]
    },
    {
     "name": "stderr",
     "output_type": "stream",
     "text": [
      "/Users/rob/anaconda/lib/python3.5/site-packages/sklearn/externals/joblib/parallel.py:540: UserWarning: Multiprocessing-backed parallel loops cannot be nested, setting n_jobs=1\n",
      "  **self._backend_args)\n"
     ]
    },
    {
     "name": "stdout",
     "output_type": "stream",
     "text": [
      "[CV]  estimator__n_estimators=20, estimator__max_depth=3, estimator__min_samples_split=4, estimator__min_samples_leaf=1 -   8.0s\n",
      "[CV] estimator__n_estimators=40, estimator__max_depth=3, estimator__min_samples_split=4, estimator__min_samples_leaf=1 \n",
      "[CV]  estimator__n_estimators=20, estimator__max_depth=3, estimator__min_samples_split=4, estimator__min_samples_leaf=1 -   7.9s\n"
     ]
    },
    {
     "name": "stderr",
     "output_type": "stream",
     "text": [
      "/Users/rob/anaconda/lib/python3.5/site-packages/sklearn/externals/joblib/parallel.py:540: UserWarning: Multiprocessing-backed parallel loops cannot be nested, setting n_jobs=1\n",
      "  **self._backend_args)\n"
     ]
    },
    {
     "name": "stdout",
     "output_type": "stream",
     "text": [
      "[CV] estimator__n_estimators=40, estimator__max_depth=3, estimator__min_samples_split=4, estimator__min_samples_leaf=1 \n"
     ]
    },
    {
     "name": "stderr",
     "output_type": "stream",
     "text": [
      "/Users/rob/anaconda/lib/python3.5/site-packages/sklearn/externals/joblib/parallel.py:540: UserWarning: Multiprocessing-backed parallel loops cannot be nested, setting n_jobs=1\n",
      "  **self._backend_args)\n"
     ]
    },
    {
     "name": "stdout",
     "output_type": "stream",
     "text": [
      "[CV]  estimator__n_estimators=30, estimator__max_depth=3, estimator__min_samples_split=4, estimator__min_samples_leaf=1 -  11.4s\n",
      "[CV] estimator__n_estimators=40, estimator__max_depth=3, estimator__min_samples_split=4, estimator__min_samples_leaf=1 \n"
     ]
    },
    {
     "name": "stderr",
     "output_type": "stream",
     "text": [
      "/Users/rob/anaconda/lib/python3.5/site-packages/sklearn/externals/joblib/parallel.py:540: UserWarning: Multiprocessing-backed parallel loops cannot be nested, setting n_jobs=1\n",
      "  **self._backend_args)\n"
     ]
    },
    {
     "name": "stdout",
     "output_type": "stream",
     "text": [
      "[CV]  estimator__n_estimators=30, estimator__max_depth=3, estimator__min_samples_split=4, estimator__min_samples_leaf=1 -  11.1s\n",
      "[CV] estimator__n_estimators=40, estimator__max_depth=3, estimator__min_samples_split=4, estimator__min_samples_leaf=1 \n",
      "[CV]  estimator__n_estimators=30, estimator__max_depth=3, estimator__min_samples_split=4, estimator__min_samples_leaf=1 -  11.1s\n",
      "[CV]  estimator__n_estimators=30, estimator__max_depth=3, estimator__min_samples_split=4, estimator__min_samples_leaf=1 -  11.0s\n",
      "[CV] estimator__n_estimators=50, estimator__max_depth=3, estimator__min_samples_split=4, estimator__min_samples_leaf=1 \n"
     ]
    },
    {
     "name": "stderr",
     "output_type": "stream",
     "text": [
      "/Users/rob/anaconda/lib/python3.5/site-packages/sklearn/externals/joblib/parallel.py:540: UserWarning: Multiprocessing-backed parallel loops cannot be nested, setting n_jobs=1\n",
      "  **self._backend_args)\n",
      "/Users/rob/anaconda/lib/python3.5/site-packages/sklearn/externals/joblib/parallel.py:540: UserWarning: Multiprocessing-backed parallel loops cannot be nested, setting n_jobs=1\n",
      "  **self._backend_args)\n"
     ]
    },
    {
     "name": "stdout",
     "output_type": "stream",
     "text": [
      "[CV]  estimator__n_estimators=30, estimator__max_depth=3, estimator__min_samples_split=4, estimator__min_samples_leaf=1 -  11.0s\n",
      "[CV] estimator__n_estimators=50, estimator__max_depth=3, estimator__min_samples_split=4, estimator__min_samples_leaf=1 \n"
     ]
    },
    {
     "name": "stderr",
     "output_type": "stream",
     "text": [
      "/Users/rob/anaconda/lib/python3.5/site-packages/sklearn/externals/joblib/parallel.py:540: UserWarning: Multiprocessing-backed parallel loops cannot be nested, setting n_jobs=1\n",
      "  **self._backend_args)\n"
     ]
    },
    {
     "name": "stdout",
     "output_type": "stream",
     "text": [
      "[CV] estimator__n_estimators=50, estimator__max_depth=3, estimator__min_samples_split=4, estimator__min_samples_leaf=1 \n"
     ]
    },
    {
     "name": "stderr",
     "output_type": "stream",
     "text": [
      "/Users/rob/anaconda/lib/python3.5/site-packages/sklearn/externals/joblib/parallel.py:540: UserWarning: Multiprocessing-backed parallel loops cannot be nested, setting n_jobs=1\n",
      "  **self._backend_args)\n"
     ]
    },
    {
     "name": "stdout",
     "output_type": "stream",
     "text": [
      "[CV]  estimator__n_estimators=40, estimator__max_depth=3, estimator__min_samples_split=4, estimator__min_samples_leaf=1 -  14.8s\n",
      "[CV] estimator__n_estimators=50, estimator__max_depth=3, estimator__min_samples_split=4, estimator__min_samples_leaf=1 \n"
     ]
    },
    {
     "name": "stderr",
     "output_type": "stream",
     "text": [
      "/Users/rob/anaconda/lib/python3.5/site-packages/sklearn/externals/joblib/parallel.py:540: UserWarning: Multiprocessing-backed parallel loops cannot be nested, setting n_jobs=1\n",
      "  **self._backend_args)\n"
     ]
    },
    {
     "name": "stdout",
     "output_type": "stream",
     "text": [
      "[CV]  estimator__n_estimators=40, estimator__max_depth=3, estimator__min_samples_split=4, estimator__min_samples_leaf=1 -  14.8s\n",
      "[CV] estimator__n_estimators=50, estimator__max_depth=3, estimator__min_samples_split=4, estimator__min_samples_leaf=1 \n"
     ]
    },
    {
     "name": "stderr",
     "output_type": "stream",
     "text": [
      "/Users/rob/anaconda/lib/python3.5/site-packages/sklearn/externals/joblib/parallel.py:540: UserWarning: Multiprocessing-backed parallel loops cannot be nested, setting n_jobs=1\n",
      "  **self._backend_args)\n"
     ]
    },
    {
     "name": "stdout",
     "output_type": "stream",
     "text": [
      "[CV]  estimator__n_estimators=40, estimator__max_depth=3, estimator__min_samples_split=4, estimator__min_samples_leaf=1 -  14.8s\n",
      "[CV] estimator__n_estimators=10, estimator__max_depth=3, estimator__min_samples_split=6, estimator__min_samples_leaf=1 \n"
     ]
    },
    {
     "name": "stderr",
     "output_type": "stream",
     "text": [
      "/Users/rob/anaconda/lib/python3.5/site-packages/sklearn/externals/joblib/parallel.py:540: UserWarning: Multiprocessing-backed parallel loops cannot be nested, setting n_jobs=1\n",
      "  **self._backend_args)\n"
     ]
    },
    {
     "name": "stdout",
     "output_type": "stream",
     "text": [
      "[CV]  estimator__n_estimators=40, estimator__max_depth=3, estimator__min_samples_split=4, estimator__min_samples_leaf=1 -  14.9s\n",
      "[CV] estimator__n_estimators=10, estimator__max_depth=3, estimator__min_samples_split=6, estimator__min_samples_leaf=1 \n"
     ]
    },
    {
     "name": "stderr",
     "output_type": "stream",
     "text": [
      "/Users/rob/anaconda/lib/python3.5/site-packages/sklearn/externals/joblib/parallel.py:540: UserWarning: Multiprocessing-backed parallel loops cannot be nested, setting n_jobs=1\n",
      "  **self._backend_args)\n"
     ]
    },
    {
     "name": "stdout",
     "output_type": "stream",
     "text": [
      "[CV]  estimator__n_estimators=10, estimator__max_depth=3, estimator__min_samples_split=6, estimator__min_samples_leaf=1 -   3.8s\n",
      "[CV] estimator__n_estimators=10, estimator__max_depth=3, estimator__min_samples_split=6, estimator__min_samples_leaf=1 \n"
     ]
    },
    {
     "name": "stderr",
     "output_type": "stream",
     "text": [
      "/Users/rob/anaconda/lib/python3.5/site-packages/sklearn/externals/joblib/parallel.py:540: UserWarning: Multiprocessing-backed parallel loops cannot be nested, setting n_jobs=1\n",
      "  **self._backend_args)\n"
     ]
    },
    {
     "name": "stdout",
     "output_type": "stream",
     "text": [
      "[CV]  estimator__n_estimators=40, estimator__max_depth=3, estimator__min_samples_split=4, estimator__min_samples_leaf=1 -  14.8s\n",
      "[CV] estimator__n_estimators=10, estimator__max_depth=3, estimator__min_samples_split=6, estimator__min_samples_leaf=1 \n"
     ]
    },
    {
     "name": "stderr",
     "output_type": "stream",
     "text": [
      "/Users/rob/anaconda/lib/python3.5/site-packages/sklearn/externals/joblib/parallel.py:540: UserWarning: Multiprocessing-backed parallel loops cannot be nested, setting n_jobs=1\n",
      "  **self._backend_args)\n"
     ]
    },
    {
     "name": "stdout",
     "output_type": "stream",
     "text": [
      "[CV]  estimator__n_estimators=10, estimator__max_depth=3, estimator__min_samples_split=6, estimator__min_samples_leaf=1 -   3.7s\n",
      "[CV] estimator__n_estimators=10, estimator__max_depth=3, estimator__min_samples_split=6, estimator__min_samples_leaf=1 \n"
     ]
    },
    {
     "name": "stderr",
     "output_type": "stream",
     "text": [
      "/Users/rob/anaconda/lib/python3.5/site-packages/sklearn/externals/joblib/parallel.py:540: UserWarning: Multiprocessing-backed parallel loops cannot be nested, setting n_jobs=1\n",
      "  **self._backend_args)\n"
     ]
    },
    {
     "name": "stdout",
     "output_type": "stream",
     "text": [
      "[CV]  estimator__n_estimators=10, estimator__max_depth=3, estimator__min_samples_split=6, estimator__min_samples_leaf=1 -   3.7s\n",
      "[CV] estimator__n_estimators=20, estimator__max_depth=3, estimator__min_samples_split=6, estimator__min_samples_leaf=1 \n"
     ]
    },
    {
     "name": "stderr",
     "output_type": "stream",
     "text": [
      "/Users/rob/anaconda/lib/python3.5/site-packages/sklearn/externals/joblib/parallel.py:540: UserWarning: Multiprocessing-backed parallel loops cannot be nested, setting n_jobs=1\n",
      "  **self._backend_args)\n"
     ]
    },
    {
     "name": "stdout",
     "output_type": "stream",
     "text": [
      "[CV]  estimator__n_estimators=50, estimator__max_depth=3, estimator__min_samples_split=4, estimator__min_samples_leaf=1 -  18.3s\n",
      "[CV] estimator__n_estimators=20, estimator__max_depth=3, estimator__min_samples_split=6, estimator__min_samples_leaf=1 \n",
      "[CV]  estimator__n_estimators=50, estimator__max_depth=3, estimator__min_samples_split=4, estimator__min_samples_leaf=1 -  18.3s\n"
     ]
    },
    {
     "name": "stderr",
     "output_type": "stream",
     "text": [
      "/Users/rob/anaconda/lib/python3.5/site-packages/sklearn/externals/joblib/parallel.py:540: UserWarning: Multiprocessing-backed parallel loops cannot be nested, setting n_jobs=1\n",
      "  **self._backend_args)\n"
     ]
    },
    {
     "name": "stdout",
     "output_type": "stream",
     "text": [
      "[CV] estimator__n_estimators=20, estimator__max_depth=3, estimator__min_samples_split=6, estimator__min_samples_leaf=1 \n",
      "[CV]  estimator__n_estimators=10, estimator__max_depth=3, estimator__min_samples_split=6, estimator__min_samples_leaf=1 -   3.7s\n",
      "[CV] estimator__n_estimators=20, estimator__max_depth=3, estimator__min_samples_split=6, estimator__min_samples_leaf=1 \n"
     ]
    },
    {
     "name": "stderr",
     "output_type": "stream",
     "text": [
      "/Users/rob/anaconda/lib/python3.5/site-packages/sklearn/externals/joblib/parallel.py:540: UserWarning: Multiprocessing-backed parallel loops cannot be nested, setting n_jobs=1\n",
      "  **self._backend_args)\n"
     ]
    },
    {
     "name": "stdout",
     "output_type": "stream",
     "text": [
      "[CV]  estimator__n_estimators=50, estimator__max_depth=3, estimator__min_samples_split=4, estimator__min_samples_leaf=1 -  18.4s\n",
      "[CV] estimator__n_estimators=20, estimator__max_depth=3, estimator__min_samples_split=6, estimator__min_samples_leaf=1 \n"
     ]
    },
    {
     "name": "stderr",
     "output_type": "stream",
     "text": [
      "/Users/rob/anaconda/lib/python3.5/site-packages/sklearn/externals/joblib/parallel.py:540: UserWarning: Multiprocessing-backed parallel loops cannot be nested, setting n_jobs=1\n",
      "  **self._backend_args)\n",
      "/Users/rob/anaconda/lib/python3.5/site-packages/sklearn/externals/joblib/parallel.py:540: UserWarning: Multiprocessing-backed parallel loops cannot be nested, setting n_jobs=1\n",
      "  **self._backend_args)\n"
     ]
    },
    {
     "name": "stdout",
     "output_type": "stream",
     "text": [
      "[CV]  estimator__n_estimators=10, estimator__max_depth=3, estimator__min_samples_split=6, estimator__min_samples_leaf=1 -   3.7s\n",
      "[CV] estimator__n_estimators=30, estimator__max_depth=3, estimator__min_samples_split=6, estimator__min_samples_leaf=1 \n"
     ]
    },
    {
     "name": "stderr",
     "output_type": "stream",
     "text": [
      "/Users/rob/anaconda/lib/python3.5/site-packages/sklearn/externals/joblib/parallel.py:540: UserWarning: Multiprocessing-backed parallel loops cannot be nested, setting n_jobs=1\n",
      "  **self._backend_args)\n"
     ]
    },
    {
     "name": "stdout",
     "output_type": "stream",
     "text": [
      "[CV]  estimator__n_estimators=20, estimator__max_depth=3, estimator__min_samples_split=6, estimator__min_samples_leaf=1 -   7.2s\n",
      "[CV] estimator__n_estimators=30, estimator__max_depth=3, estimator__min_samples_split=6, estimator__min_samples_leaf=1 \n"
     ]
    },
    {
     "name": "stderr",
     "output_type": "stream",
     "text": [
      "/Users/rob/anaconda/lib/python3.5/site-packages/sklearn/externals/joblib/parallel.py:540: UserWarning: Multiprocessing-backed parallel loops cannot be nested, setting n_jobs=1\n",
      "  **self._backend_args)\n"
     ]
    },
    {
     "name": "stdout",
     "output_type": "stream",
     "text": [
      "[CV]  estimator__n_estimators=50, estimator__max_depth=3, estimator__min_samples_split=4, estimator__min_samples_leaf=1 -  17.9s\n",
      "[CV] estimator__n_estimators=30, estimator__max_depth=3, estimator__min_samples_split=6, estimator__min_samples_leaf=1 \n"
     ]
    },
    {
     "name": "stderr",
     "output_type": "stream",
     "text": [
      "/Users/rob/anaconda/lib/python3.5/site-packages/sklearn/externals/joblib/parallel.py:540: UserWarning: Multiprocessing-backed parallel loops cannot be nested, setting n_jobs=1\n",
      "  **self._backend_args)\n"
     ]
    },
    {
     "name": "stdout",
     "output_type": "stream",
     "text": [
      "[CV]  estimator__n_estimators=50, estimator__max_depth=3, estimator__min_samples_split=4, estimator__min_samples_leaf=1 -  17.8s\n",
      "[CV] estimator__n_estimators=30, estimator__max_depth=3, estimator__min_samples_split=6, estimator__min_samples_leaf=1 \n"
     ]
    },
    {
     "name": "stderr",
     "output_type": "stream",
     "text": [
      "/Users/rob/anaconda/lib/python3.5/site-packages/sklearn/externals/joblib/parallel.py:540: UserWarning: Multiprocessing-backed parallel loops cannot be nested, setting n_jobs=1\n",
      "  **self._backend_args)\n"
     ]
    },
    {
     "name": "stdout",
     "output_type": "stream",
     "text": [
      "[CV]  estimator__n_estimators=20, estimator__max_depth=3, estimator__min_samples_split=6, estimator__min_samples_leaf=1 -   7.2s\n",
      "[CV] estimator__n_estimators=30, estimator__max_depth=3, estimator__min_samples_split=6, estimator__min_samples_leaf=1 \n",
      "[CV]  estimator__n_estimators=20, estimator__max_depth=3, estimator__min_samples_split=6, estimator__min_samples_leaf=1 -   7.2s\n"
     ]
    },
    {
     "name": "stderr",
     "output_type": "stream",
     "text": [
      "/Users/rob/anaconda/lib/python3.5/site-packages/sklearn/externals/joblib/parallel.py:540: UserWarning: Multiprocessing-backed parallel loops cannot be nested, setting n_jobs=1\n",
      "  **self._backend_args)\n"
     ]
    },
    {
     "name": "stdout",
     "output_type": "stream",
     "text": [
      "[CV] estimator__n_estimators=40, estimator__max_depth=3, estimator__min_samples_split=6, estimator__min_samples_leaf=1 \n",
      "[CV]  estimator__n_estimators=20, estimator__max_depth=3, estimator__min_samples_split=6, estimator__min_samples_leaf=1 -   7.2s\n"
     ]
    },
    {
     "name": "stderr",
     "output_type": "stream",
     "text": [
      "/Users/rob/anaconda/lib/python3.5/site-packages/sklearn/externals/joblib/parallel.py:540: UserWarning: Multiprocessing-backed parallel loops cannot be nested, setting n_jobs=1\n",
      "  **self._backend_args)\n"
     ]
    },
    {
     "name": "stdout",
     "output_type": "stream",
     "text": [
      "[CV] estimator__n_estimators=40, estimator__max_depth=3, estimator__min_samples_split=6, estimator__min_samples_leaf=1 \n",
      "[CV]  estimator__n_estimators=20, estimator__max_depth=3, estimator__min_samples_split=6, estimator__min_samples_leaf=1 -   7.2s\n"
     ]
    },
    {
     "name": "stderr",
     "output_type": "stream",
     "text": [
      "/Users/rob/anaconda/lib/python3.5/site-packages/sklearn/externals/joblib/parallel.py:540: UserWarning: Multiprocessing-backed parallel loops cannot be nested, setting n_jobs=1\n",
      "  **self._backend_args)\n"
     ]
    },
    {
     "name": "stdout",
     "output_type": "stream",
     "text": [
      "[CV] estimator__n_estimators=40, estimator__max_depth=3, estimator__min_samples_split=6, estimator__min_samples_leaf=1 \n"
     ]
    },
    {
     "name": "stderr",
     "output_type": "stream",
     "text": [
      "/Users/rob/anaconda/lib/python3.5/site-packages/sklearn/externals/joblib/parallel.py:540: UserWarning: Multiprocessing-backed parallel loops cannot be nested, setting n_jobs=1\n",
      "  **self._backend_args)\n"
     ]
    },
    {
     "name": "stdout",
     "output_type": "stream",
     "text": [
      "[CV]  estimator__n_estimators=30, estimator__max_depth=3, estimator__min_samples_split=6, estimator__min_samples_leaf=1 -  10.6s\n",
      "[CV] estimator__n_estimators=40, estimator__max_depth=3, estimator__min_samples_split=6, estimator__min_samples_leaf=1 \n"
     ]
    },
    {
     "name": "stderr",
     "output_type": "stream",
     "text": [
      "/Users/rob/anaconda/lib/python3.5/site-packages/sklearn/externals/joblib/parallel.py:540: UserWarning: Multiprocessing-backed parallel loops cannot be nested, setting n_jobs=1\n",
      "  **self._backend_args)\n"
     ]
    },
    {
     "name": "stdout",
     "output_type": "stream",
     "text": [
      "[CV]  estimator__n_estimators=30, estimator__max_depth=3, estimator__min_samples_split=6, estimator__min_samples_leaf=1 -  10.8s\n",
      "[CV] estimator__n_estimators=40, estimator__max_depth=3, estimator__min_samples_split=6, estimator__min_samples_leaf=1 \n"
     ]
    },
    {
     "name": "stderr",
     "output_type": "stream",
     "text": [
      "/Users/rob/anaconda/lib/python3.5/site-packages/sklearn/externals/joblib/parallel.py:540: UserWarning: Multiprocessing-backed parallel loops cannot be nested, setting n_jobs=1\n",
      "  **self._backend_args)\n"
     ]
    },
    {
     "name": "stdout",
     "output_type": "stream",
     "text": [
      "[CV]  estimator__n_estimators=30, estimator__max_depth=3, estimator__min_samples_split=6, estimator__min_samples_leaf=1 -  10.8s\n",
      "[CV] estimator__n_estimators=50, estimator__max_depth=3, estimator__min_samples_split=6, estimator__min_samples_leaf=1 \n"
     ]
    },
    {
     "name": "stderr",
     "output_type": "stream",
     "text": [
      "/Users/rob/anaconda/lib/python3.5/site-packages/sklearn/externals/joblib/parallel.py:540: UserWarning: Multiprocessing-backed parallel loops cannot be nested, setting n_jobs=1\n",
      "  **self._backend_args)\n"
     ]
    },
    {
     "name": "stdout",
     "output_type": "stream",
     "text": [
      "[CV]  estimator__n_estimators=30, estimator__max_depth=3, estimator__min_samples_split=6, estimator__min_samples_leaf=1 -  10.8s\n",
      "[CV] estimator__n_estimators=50, estimator__max_depth=3, estimator__min_samples_split=6, estimator__min_samples_leaf=1 \n"
     ]
    },
    {
     "name": "stderr",
     "output_type": "stream",
     "text": [
      "/Users/rob/anaconda/lib/python3.5/site-packages/sklearn/externals/joblib/parallel.py:540: UserWarning: Multiprocessing-backed parallel loops cannot be nested, setting n_jobs=1\n",
      "  **self._backend_args)\n"
     ]
    },
    {
     "name": "stdout",
     "output_type": "stream",
     "text": [
      "[CV]  estimator__n_estimators=30, estimator__max_depth=3, estimator__min_samples_split=6, estimator__min_samples_leaf=1 -  10.7s\n",
      "[CV] estimator__n_estimators=50, estimator__max_depth=3, estimator__min_samples_split=6, estimator__min_samples_leaf=1 \n"
     ]
    },
    {
     "name": "stderr",
     "output_type": "stream",
     "text": [
      "/Users/rob/anaconda/lib/python3.5/site-packages/sklearn/externals/joblib/parallel.py:540: UserWarning: Multiprocessing-backed parallel loops cannot be nested, setting n_jobs=1\n",
      "  **self._backend_args)\n"
     ]
    },
    {
     "name": "stdout",
     "output_type": "stream",
     "text": [
      "[CV]  estimator__n_estimators=40, estimator__max_depth=3, estimator__min_samples_split=6, estimator__min_samples_leaf=1 -  14.6s\n",
      "[CV] estimator__n_estimators=50, estimator__max_depth=3, estimator__min_samples_split=6, estimator__min_samples_leaf=1 \n",
      "[CV]  estimator__n_estimators=40, estimator__max_depth=3, estimator__min_samples_split=6, estimator__min_samples_leaf=1 -  14.6s\n",
      "[CV] estimator__n_estimators=50, estimator__max_depth=3, estimator__min_samples_split=6, estimator__min_samples_leaf=1 \n"
     ]
    },
    {
     "name": "stderr",
     "output_type": "stream",
     "text": [
      "/Users/rob/anaconda/lib/python3.5/site-packages/sklearn/externals/joblib/parallel.py:540: UserWarning: Multiprocessing-backed parallel loops cannot be nested, setting n_jobs=1\n",
      "  **self._backend_args)\n"
     ]
    },
    {
     "name": "stdout",
     "output_type": "stream",
     "text": [
      "[CV]  estimator__n_estimators=40, estimator__max_depth=3, estimator__min_samples_split=6, estimator__min_samples_leaf=1 -  14.8s\n"
     ]
    },
    {
     "name": "stderr",
     "output_type": "stream",
     "text": [
      "/Users/rob/anaconda/lib/python3.5/site-packages/sklearn/externals/joblib/parallel.py:540: UserWarning: Multiprocessing-backed parallel loops cannot be nested, setting n_jobs=1\n",
      "  **self._backend_args)\n"
     ]
    },
    {
     "name": "stdout",
     "output_type": "stream",
     "text": [
      "[CV] estimator__n_estimators=10, estimator__max_depth=3, estimator__min_samples_split=2, estimator__min_samples_leaf=2 \n"
     ]
    },
    {
     "name": "stderr",
     "output_type": "stream",
     "text": [
      "/Users/rob/anaconda/lib/python3.5/site-packages/sklearn/externals/joblib/parallel.py:540: UserWarning: Multiprocessing-backed parallel loops cannot be nested, setting n_jobs=1\n",
      "  **self._backend_args)\n"
     ]
    },
    {
     "name": "stdout",
     "output_type": "stream",
     "text": [
      "[CV]  estimator__n_estimators=40, estimator__max_depth=3, estimator__min_samples_split=6, estimator__min_samples_leaf=1 -  15.2s\n",
      "[CV] estimator__n_estimators=10, estimator__max_depth=3, estimator__min_samples_split=2, estimator__min_samples_leaf=2 \n",
      "[CV]  estimator__n_estimators=10, estimator__max_depth=3, estimator__min_samples_split=2, estimator__min_samples_leaf=2 -   4.0s\n"
     ]
    },
    {
     "name": "stderr",
     "output_type": "stream",
     "text": [
      "/Users/rob/anaconda/lib/python3.5/site-packages/sklearn/externals/joblib/parallel.py:540: UserWarning: Multiprocessing-backed parallel loops cannot be nested, setting n_jobs=1\n",
      "  **self._backend_args)\n"
     ]
    },
    {
     "name": "stdout",
     "output_type": "stream",
     "text": [
      "[CV] estimator__n_estimators=10, estimator__max_depth=3, estimator__min_samples_split=2, estimator__min_samples_leaf=2 \n"
     ]
    },
    {
     "name": "stderr",
     "output_type": "stream",
     "text": [
      "/Users/rob/anaconda/lib/python3.5/site-packages/sklearn/externals/joblib/parallel.py:540: UserWarning: Multiprocessing-backed parallel loops cannot be nested, setting n_jobs=1\n",
      "  **self._backend_args)\n"
     ]
    },
    {
     "name": "stdout",
     "output_type": "stream",
     "text": [
      "[CV]  estimator__n_estimators=40, estimator__max_depth=3, estimator__min_samples_split=6, estimator__min_samples_leaf=1 -  14.8s\n",
      "[CV] estimator__n_estimators=10, estimator__max_depth=3, estimator__min_samples_split=2, estimator__min_samples_leaf=2 \n"
     ]
    },
    {
     "name": "stderr",
     "output_type": "stream",
     "text": [
      "/Users/rob/anaconda/lib/python3.5/site-packages/sklearn/externals/joblib/parallel.py:540: UserWarning: Multiprocessing-backed parallel loops cannot be nested, setting n_jobs=1\n",
      "  **self._backend_args)\n"
     ]
    },
    {
     "name": "stdout",
     "output_type": "stream",
     "text": [
      "[CV]  estimator__n_estimators=10, estimator__max_depth=3, estimator__min_samples_split=2, estimator__min_samples_leaf=2 -   3.5s\n",
      "[CV] estimator__n_estimators=10, estimator__max_depth=3, estimator__min_samples_split=2, estimator__min_samples_leaf=2 \n"
     ]
    },
    {
     "name": "stderr",
     "output_type": "stream",
     "text": [
      "/Users/rob/anaconda/lib/python3.5/site-packages/sklearn/externals/joblib/parallel.py:540: UserWarning: Multiprocessing-backed parallel loops cannot be nested, setting n_jobs=1\n",
      "  **self._backend_args)\n"
     ]
    },
    {
     "name": "stdout",
     "output_type": "stream",
     "text": [
      "[CV]  estimator__n_estimators=10, estimator__max_depth=3, estimator__min_samples_split=2, estimator__min_samples_leaf=2 -   3.5s\n",
      "[CV] estimator__n_estimators=20, estimator__max_depth=3, estimator__min_samples_split=2, estimator__min_samples_leaf=2 \n"
     ]
    },
    {
     "name": "stderr",
     "output_type": "stream",
     "text": [
      "/Users/rob/anaconda/lib/python3.5/site-packages/sklearn/externals/joblib/parallel.py:540: UserWarning: Multiprocessing-backed parallel loops cannot be nested, setting n_jobs=1\n",
      "  **self._backend_args)\n"
     ]
    },
    {
     "name": "stdout",
     "output_type": "stream",
     "text": [
      "[CV]  estimator__n_estimators=10, estimator__max_depth=3, estimator__min_samples_split=2, estimator__min_samples_leaf=2 -   3.5s\n",
      "[CV] estimator__n_estimators=20, estimator__max_depth=3, estimator__min_samples_split=2, estimator__min_samples_leaf=2 \n"
     ]
    },
    {
     "name": "stderr",
     "output_type": "stream",
     "text": [
      "/Users/rob/anaconda/lib/python3.5/site-packages/sklearn/externals/joblib/parallel.py:540: UserWarning: Multiprocessing-backed parallel loops cannot be nested, setting n_jobs=1\n",
      "  **self._backend_args)\n"
     ]
    },
    {
     "name": "stdout",
     "output_type": "stream",
     "text": [
      "[CV]  estimator__n_estimators=10, estimator__max_depth=3, estimator__min_samples_split=2, estimator__min_samples_leaf=2 -   3.5s\n",
      "[CV] estimator__n_estimators=20, estimator__max_depth=3, estimator__min_samples_split=2, estimator__min_samples_leaf=2 \n"
     ]
    },
    {
     "name": "stderr",
     "output_type": "stream",
     "text": [
      "/Users/rob/anaconda/lib/python3.5/site-packages/sklearn/externals/joblib/parallel.py:540: UserWarning: Multiprocessing-backed parallel loops cannot be nested, setting n_jobs=1\n",
      "  **self._backend_args)\n"
     ]
    },
    {
     "name": "stdout",
     "output_type": "stream",
     "text": [
      "[CV]  estimator__n_estimators=50, estimator__max_depth=3, estimator__min_samples_split=6, estimator__min_samples_leaf=1 -  18.7s\n",
      "[CV] estimator__n_estimators=20, estimator__max_depth=3, estimator__min_samples_split=2, estimator__min_samples_leaf=2 \n"
     ]
    },
    {
     "name": "stderr",
     "output_type": "stream",
     "text": [
      "/Users/rob/anaconda/lib/python3.5/site-packages/sklearn/externals/joblib/parallel.py:540: UserWarning: Multiprocessing-backed parallel loops cannot be nested, setting n_jobs=1\n",
      "  **self._backend_args)\n"
     ]
    },
    {
     "name": "stdout",
     "output_type": "stream",
     "text": [
      "[CV]  estimator__n_estimators=50, estimator__max_depth=3, estimator__min_samples_split=6, estimator__min_samples_leaf=1 -  19.3s\n",
      "[CV] estimator__n_estimators=20, estimator__max_depth=3, estimator__min_samples_split=2, estimator__min_samples_leaf=2 \n",
      "[CV]  estimator__n_estimators=50, estimator__max_depth=3, estimator__min_samples_split=6, estimator__min_samples_leaf=1 -  19.2s\n"
     ]
    },
    {
     "name": "stderr",
     "output_type": "stream",
     "text": [
      "/Users/rob/anaconda/lib/python3.5/site-packages/sklearn/externals/joblib/parallel.py:540: UserWarning: Multiprocessing-backed parallel loops cannot be nested, setting n_jobs=1\n",
      "  **self._backend_args)\n"
     ]
    },
    {
     "name": "stdout",
     "output_type": "stream",
     "text": [
      "[CV] estimator__n_estimators=30, estimator__max_depth=3, estimator__min_samples_split=2, estimator__min_samples_leaf=2 \n"
     ]
    },
    {
     "name": "stderr",
     "output_type": "stream",
     "text": [
      "/Users/rob/anaconda/lib/python3.5/site-packages/sklearn/externals/joblib/parallel.py:540: UserWarning: Multiprocessing-backed parallel loops cannot be nested, setting n_jobs=1\n",
      "  **self._backend_args)\n"
     ]
    },
    {
     "name": "stdout",
     "output_type": "stream",
     "text": [
      "[CV]  estimator__n_estimators=20, estimator__max_depth=3, estimator__min_samples_split=2, estimator__min_samples_leaf=2 -   8.1s\n",
      "[CV] estimator__n_estimators=30, estimator__max_depth=3, estimator__min_samples_split=2, estimator__min_samples_leaf=2 \n"
     ]
    },
    {
     "name": "stderr",
     "output_type": "stream",
     "text": [
      "/Users/rob/anaconda/lib/python3.5/site-packages/sklearn/externals/joblib/parallel.py:540: UserWarning: Multiprocessing-backed parallel loops cannot be nested, setting n_jobs=1\n",
      "  **self._backend_args)\n"
     ]
    },
    {
     "name": "stdout",
     "output_type": "stream",
     "text": [
      "[CV]  estimator__n_estimators=50, estimator__max_depth=3, estimator__min_samples_split=6, estimator__min_samples_leaf=1 -  19.0s\n",
      "[CV] estimator__n_estimators=30, estimator__max_depth=3, estimator__min_samples_split=2, estimator__min_samples_leaf=2 \n",
      "[CV]  estimator__n_estimators=50, estimator__max_depth=3, estimator__min_samples_split=6, estimator__min_samples_leaf=1 -  18.8s\n",
      "[CV] estimator__n_estimators=30, estimator__max_depth=3, estimator__min_samples_split=2, estimator__min_samples_leaf=2 \n"
     ]
    },
    {
     "name": "stderr",
     "output_type": "stream",
     "text": [
      "/Users/rob/anaconda/lib/python3.5/site-packages/sklearn/externals/joblib/parallel.py:540: UserWarning: Multiprocessing-backed parallel loops cannot be nested, setting n_jobs=1\n",
      "  **self._backend_args)\n",
      "/Users/rob/anaconda/lib/python3.5/site-packages/sklearn/externals/joblib/parallel.py:540: UserWarning: Multiprocessing-backed parallel loops cannot be nested, setting n_jobs=1\n",
      "  **self._backend_args)\n"
     ]
    },
    {
     "name": "stdout",
     "output_type": "stream",
     "text": [
      "[CV]  estimator__n_estimators=20, estimator__max_depth=3, estimator__min_samples_split=2, estimator__min_samples_leaf=2 -   8.1s\n",
      "[CV] estimator__n_estimators=30, estimator__max_depth=3, estimator__min_samples_split=2, estimator__min_samples_leaf=2 \n"
     ]
    },
    {
     "name": "stderr",
     "output_type": "stream",
     "text": [
      "/Users/rob/anaconda/lib/python3.5/site-packages/sklearn/externals/joblib/parallel.py:540: UserWarning: Multiprocessing-backed parallel loops cannot be nested, setting n_jobs=1\n",
      "  **self._backend_args)\n"
     ]
    },
    {
     "name": "stdout",
     "output_type": "stream",
     "text": [
      "[CV]  estimator__n_estimators=20, estimator__max_depth=3, estimator__min_samples_split=2, estimator__min_samples_leaf=2 -   8.3s\n",
      "[CV] estimator__n_estimators=40, estimator__max_depth=3, estimator__min_samples_split=2, estimator__min_samples_leaf=2 \n"
     ]
    },
    {
     "name": "stderr",
     "output_type": "stream",
     "text": [
      "/Users/rob/anaconda/lib/python3.5/site-packages/sklearn/externals/joblib/parallel.py:540: UserWarning: Multiprocessing-backed parallel loops cannot be nested, setting n_jobs=1\n",
      "  **self._backend_args)\n"
     ]
    },
    {
     "name": "stdout",
     "output_type": "stream",
     "text": [
      "[CV]  estimator__n_estimators=20, estimator__max_depth=3, estimator__min_samples_split=2, estimator__min_samples_leaf=2 -   7.7s\n",
      "[CV] estimator__n_estimators=40, estimator__max_depth=3, estimator__min_samples_split=2, estimator__min_samples_leaf=2 \n"
     ]
    },
    {
     "name": "stderr",
     "output_type": "stream",
     "text": [
      "/Users/rob/anaconda/lib/python3.5/site-packages/sklearn/externals/joblib/parallel.py:540: UserWarning: Multiprocessing-backed parallel loops cannot be nested, setting n_jobs=1\n",
      "  **self._backend_args)\n"
     ]
    },
    {
     "name": "stdout",
     "output_type": "stream",
     "text": [
      "[CV]  estimator__n_estimators=20, estimator__max_depth=3, estimator__min_samples_split=2, estimator__min_samples_leaf=2 -   7.3s\n",
      "[CV] estimator__n_estimators=40, estimator__max_depth=3, estimator__min_samples_split=2, estimator__min_samples_leaf=2 \n"
     ]
    },
    {
     "name": "stderr",
     "output_type": "stream",
     "text": [
      "/Users/rob/anaconda/lib/python3.5/site-packages/sklearn/externals/joblib/parallel.py:540: UserWarning: Multiprocessing-backed parallel loops cannot be nested, setting n_jobs=1\n",
      "  **self._backend_args)\n"
     ]
    },
    {
     "name": "stdout",
     "output_type": "stream",
     "text": [
      "[CV]  estimator__n_estimators=30, estimator__max_depth=3, estimator__min_samples_split=2, estimator__min_samples_leaf=2 -  10.7s\n",
      "[CV] estimator__n_estimators=40, estimator__max_depth=3, estimator__min_samples_split=2, estimator__min_samples_leaf=2 \n"
     ]
    },
    {
     "name": "stderr",
     "output_type": "stream",
     "text": [
      "/Users/rob/anaconda/lib/python3.5/site-packages/sklearn/externals/joblib/parallel.py:540: UserWarning: Multiprocessing-backed parallel loops cannot be nested, setting n_jobs=1\n",
      "  **self._backend_args)\n"
     ]
    },
    {
     "name": "stdout",
     "output_type": "stream",
     "text": [
      "[CV]  estimator__n_estimators=30, estimator__max_depth=3, estimator__min_samples_split=2, estimator__min_samples_leaf=2 -  10.7s\n",
      "[CV] estimator__n_estimators=40, estimator__max_depth=3, estimator__min_samples_split=2, estimator__min_samples_leaf=2 \n"
     ]
    },
    {
     "name": "stderr",
     "output_type": "stream",
     "text": [
      "/Users/rob/anaconda/lib/python3.5/site-packages/sklearn/externals/joblib/parallel.py:540: UserWarning: Multiprocessing-backed parallel loops cannot be nested, setting n_jobs=1\n",
      "  **self._backend_args)\n"
     ]
    },
    {
     "name": "stdout",
     "output_type": "stream",
     "text": [
      "[CV]  estimator__n_estimators=30, estimator__max_depth=3, estimator__min_samples_split=2, estimator__min_samples_leaf=2 -  10.8s\n",
      "[CV] estimator__n_estimators=50, estimator__max_depth=3, estimator__min_samples_split=2, estimator__min_samples_leaf=2 \n",
      "[CV]  estimator__n_estimators=30, estimator__max_depth=3, estimator__min_samples_split=2, estimator__min_samples_leaf=2 -  10.7s\n",
      "[CV] estimator__n_estimators=50, estimator__max_depth=3, estimator__min_samples_split=2, estimator__min_samples_leaf=2 \n"
     ]
    },
    {
     "name": "stderr",
     "output_type": "stream",
     "text": [
      "/Users/rob/anaconda/lib/python3.5/site-packages/sklearn/externals/joblib/parallel.py:540: UserWarning: Multiprocessing-backed parallel loops cannot be nested, setting n_jobs=1\n",
      "  **self._backend_args)\n",
      "/Users/rob/anaconda/lib/python3.5/site-packages/sklearn/externals/joblib/parallel.py:540: UserWarning: Multiprocessing-backed parallel loops cannot be nested, setting n_jobs=1\n",
      "  **self._backend_args)\n"
     ]
    },
    {
     "name": "stdout",
     "output_type": "stream",
     "text": [
      "[CV]  estimator__n_estimators=30, estimator__max_depth=3, estimator__min_samples_split=2, estimator__min_samples_leaf=2 -  11.0s\n",
      "[CV] estimator__n_estimators=50, estimator__max_depth=3, estimator__min_samples_split=2, estimator__min_samples_leaf=2 \n"
     ]
    },
    {
     "name": "stderr",
     "output_type": "stream",
     "text": [
      "/Users/rob/anaconda/lib/python3.5/site-packages/sklearn/externals/joblib/parallel.py:540: UserWarning: Multiprocessing-backed parallel loops cannot be nested, setting n_jobs=1\n",
      "  **self._backend_args)\n"
     ]
    },
    {
     "name": "stdout",
     "output_type": "stream",
     "text": [
      "[CV]  estimator__n_estimators=40, estimator__max_depth=3, estimator__min_samples_split=2, estimator__min_samples_leaf=2 -  14.4s\n",
      "[CV] estimator__n_estimators=50, estimator__max_depth=3, estimator__min_samples_split=2, estimator__min_samples_leaf=2 \n"
     ]
    },
    {
     "name": "stderr",
     "output_type": "stream",
     "text": [
      "/Users/rob/anaconda/lib/python3.5/site-packages/sklearn/externals/joblib/parallel.py:540: UserWarning: Multiprocessing-backed parallel loops cannot be nested, setting n_jobs=1\n",
      "  **self._backend_args)\n"
     ]
    },
    {
     "name": "stdout",
     "output_type": "stream",
     "text": [
      "[CV]  estimator__n_estimators=40, estimator__max_depth=3, estimator__min_samples_split=2, estimator__min_samples_leaf=2 -  14.4s\n",
      "[CV] estimator__n_estimators=50, estimator__max_depth=3, estimator__min_samples_split=2, estimator__min_samples_leaf=2 \n"
     ]
    },
    {
     "name": "stderr",
     "output_type": "stream",
     "text": [
      "/Users/rob/anaconda/lib/python3.5/site-packages/sklearn/externals/joblib/parallel.py:540: UserWarning: Multiprocessing-backed parallel loops cannot be nested, setting n_jobs=1\n",
      "  **self._backend_args)\n"
     ]
    },
    {
     "name": "stdout",
     "output_type": "stream",
     "text": [
      "[CV]  estimator__n_estimators=40, estimator__max_depth=3, estimator__min_samples_split=2, estimator__min_samples_leaf=2 -  14.5s\n",
      "[CV] estimator__n_estimators=10, estimator__max_depth=3, estimator__min_samples_split=4, estimator__min_samples_leaf=2 \n"
     ]
    },
    {
     "name": "stderr",
     "output_type": "stream",
     "text": [
      "/Users/rob/anaconda/lib/python3.5/site-packages/sklearn/externals/joblib/parallel.py:540: UserWarning: Multiprocessing-backed parallel loops cannot be nested, setting n_jobs=1\n",
      "  **self._backend_args)\n"
     ]
    },
    {
     "name": "stdout",
     "output_type": "stream",
     "text": [
      "[CV]  estimator__n_estimators=40, estimator__max_depth=3, estimator__min_samples_split=2, estimator__min_samples_leaf=2 -  14.6s\n",
      "[CV] estimator__n_estimators=10, estimator__max_depth=3, estimator__min_samples_split=4, estimator__min_samples_leaf=2 \n"
     ]
    },
    {
     "name": "stderr",
     "output_type": "stream",
     "text": [
      "/Users/rob/anaconda/lib/python3.5/site-packages/sklearn/externals/joblib/parallel.py:540: UserWarning: Multiprocessing-backed parallel loops cannot be nested, setting n_jobs=1\n",
      "  **self._backend_args)\n"
     ]
    },
    {
     "name": "stdout",
     "output_type": "stream",
     "text": [
      "[CV]  estimator__n_estimators=10, estimator__max_depth=3, estimator__min_samples_split=4, estimator__min_samples_leaf=2 -   3.6s\n",
      "[CV] estimator__n_estimators=10, estimator__max_depth=3, estimator__min_samples_split=4, estimator__min_samples_leaf=2 \n"
     ]
    },
    {
     "name": "stderr",
     "output_type": "stream",
     "text": [
      "/Users/rob/anaconda/lib/python3.5/site-packages/sklearn/externals/joblib/parallel.py:540: UserWarning: Multiprocessing-backed parallel loops cannot be nested, setting n_jobs=1\n",
      "  **self._backend_args)\n"
     ]
    },
    {
     "name": "stdout",
     "output_type": "stream",
     "text": [
      "[CV]  estimator__n_estimators=40, estimator__max_depth=3, estimator__min_samples_split=2, estimator__min_samples_leaf=2 -  14.4s\n",
      "[CV] estimator__n_estimators=10, estimator__max_depth=3, estimator__min_samples_split=4, estimator__min_samples_leaf=2 \n"
     ]
    },
    {
     "name": "stderr",
     "output_type": "stream",
     "text": [
      "/Users/rob/anaconda/lib/python3.5/site-packages/sklearn/externals/joblib/parallel.py:540: UserWarning: Multiprocessing-backed parallel loops cannot be nested, setting n_jobs=1\n",
      "  **self._backend_args)\n"
     ]
    },
    {
     "name": "stdout",
     "output_type": "stream",
     "text": [
      "[CV]  estimator__n_estimators=10, estimator__max_depth=3, estimator__min_samples_split=4, estimator__min_samples_leaf=2 -   3.7s\n",
      "[CV] estimator__n_estimators=10, estimator__max_depth=3, estimator__min_samples_split=4, estimator__min_samples_leaf=2 \n"
     ]
    },
    {
     "name": "stderr",
     "output_type": "stream",
     "text": [
      "/Users/rob/anaconda/lib/python3.5/site-packages/sklearn/externals/joblib/parallel.py:540: UserWarning: Multiprocessing-backed parallel loops cannot be nested, setting n_jobs=1\n",
      "  **self._backend_args)\n"
     ]
    },
    {
     "name": "stdout",
     "output_type": "stream",
     "text": [
      "[CV]  estimator__n_estimators=10, estimator__max_depth=3, estimator__min_samples_split=4, estimator__min_samples_leaf=2 -   3.7s\n",
      "[CV] estimator__n_estimators=20, estimator__max_depth=3, estimator__min_samples_split=4, estimator__min_samples_leaf=2 \n"
     ]
    },
    {
     "name": "stderr",
     "output_type": "stream",
     "text": [
      "/Users/rob/anaconda/lib/python3.5/site-packages/sklearn/externals/joblib/parallel.py:540: UserWarning: Multiprocessing-backed parallel loops cannot be nested, setting n_jobs=1\n",
      "  **self._backend_args)\n"
     ]
    },
    {
     "name": "stdout",
     "output_type": "stream",
     "text": [
      "[CV]  estimator__n_estimators=10, estimator__max_depth=3, estimator__min_samples_split=4, estimator__min_samples_leaf=2 -   3.7s\n",
      "[CV] estimator__n_estimators=20, estimator__max_depth=3, estimator__min_samples_split=4, estimator__min_samples_leaf=2 \n"
     ]
    },
    {
     "name": "stderr",
     "output_type": "stream",
     "text": [
      "/Users/rob/anaconda/lib/python3.5/site-packages/sklearn/externals/joblib/parallel.py:540: UserWarning: Multiprocessing-backed parallel loops cannot be nested, setting n_jobs=1\n",
      "  **self._backend_args)\n"
     ]
    },
    {
     "name": "stdout",
     "output_type": "stream",
     "text": [
      "[CV]  estimator__n_estimators=50, estimator__max_depth=3, estimator__min_samples_split=2, estimator__min_samples_leaf=2 -  17.7s\n",
      "[CV] estimator__n_estimators=20, estimator__max_depth=3, estimator__min_samples_split=4, estimator__min_samples_leaf=2 \n",
      "[CV]  estimator__n_estimators=50, estimator__max_depth=3, estimator__min_samples_split=2, estimator__min_samples_leaf=2 -  17.9s\n",
      "[CV] estimator__n_estimators=20, estimator__max_depth=3, estimator__min_samples_split=4, estimator__min_samples_leaf=2 \n"
     ]
    },
    {
     "name": "stderr",
     "output_type": "stream",
     "text": [
      "/Users/rob/anaconda/lib/python3.5/site-packages/sklearn/externals/joblib/parallel.py:540: UserWarning: Multiprocessing-backed parallel loops cannot be nested, setting n_jobs=1\n",
      "  **self._backend_args)\n",
      "/Users/rob/anaconda/lib/python3.5/site-packages/sklearn/externals/joblib/parallel.py:540: UserWarning: Multiprocessing-backed parallel loops cannot be nested, setting n_jobs=1\n",
      "  **self._backend_args)\n"
     ]
    },
    {
     "name": "stdout",
     "output_type": "stream",
     "text": [
      "[CV]  estimator__n_estimators=10, estimator__max_depth=3, estimator__min_samples_split=4, estimator__min_samples_leaf=2 -   3.6s\n",
      "[CV] estimator__n_estimators=20, estimator__max_depth=3, estimator__min_samples_split=4, estimator__min_samples_leaf=2 \n"
     ]
    },
    {
     "name": "stderr",
     "output_type": "stream",
     "text": [
      "/Users/rob/anaconda/lib/python3.5/site-packages/sklearn/externals/joblib/parallel.py:540: UserWarning: Multiprocessing-backed parallel loops cannot be nested, setting n_jobs=1\n",
      "  **self._backend_args)\n"
     ]
    },
    {
     "name": "stdout",
     "output_type": "stream",
     "text": [
      "[CV]  estimator__n_estimators=50, estimator__max_depth=3, estimator__min_samples_split=2, estimator__min_samples_leaf=2 -  17.8s\n",
      "[CV] estimator__n_estimators=30, estimator__max_depth=3, estimator__min_samples_split=4, estimator__min_samples_leaf=2 \n"
     ]
    },
    {
     "name": "stderr",
     "output_type": "stream",
     "text": [
      "/Users/rob/anaconda/lib/python3.5/site-packages/sklearn/externals/joblib/parallel.py:540: UserWarning: Multiprocessing-backed parallel loops cannot be nested, setting n_jobs=1\n",
      "  **self._backend_args)\n"
     ]
    },
    {
     "name": "stdout",
     "output_type": "stream",
     "text": [
      "[CV]  estimator__n_estimators=20, estimator__max_depth=3, estimator__min_samples_split=4, estimator__min_samples_leaf=2 -   7.0s\n",
      "[CV] estimator__n_estimators=30, estimator__max_depth=3, estimator__min_samples_split=4, estimator__min_samples_leaf=2 \n"
     ]
    },
    {
     "name": "stderr",
     "output_type": "stream",
     "text": [
      "/Users/rob/anaconda/lib/python3.5/site-packages/sklearn/externals/joblib/parallel.py:540: UserWarning: Multiprocessing-backed parallel loops cannot be nested, setting n_jobs=1\n",
      "  **self._backend_args)\n"
     ]
    },
    {
     "name": "stdout",
     "output_type": "stream",
     "text": [
      "[CV]  estimator__n_estimators=50, estimator__max_depth=3, estimator__min_samples_split=2, estimator__min_samples_leaf=2 -  17.6s\n",
      "[CV] estimator__n_estimators=30, estimator__max_depth=3, estimator__min_samples_split=4, estimator__min_samples_leaf=2 \n"
     ]
    },
    {
     "name": "stderr",
     "output_type": "stream",
     "text": [
      "/Users/rob/anaconda/lib/python3.5/site-packages/sklearn/externals/joblib/parallel.py:540: UserWarning: Multiprocessing-backed parallel loops cannot be nested, setting n_jobs=1\n",
      "  **self._backend_args)\n"
     ]
    },
    {
     "name": "stdout",
     "output_type": "stream",
     "text": [
      "[CV]  estimator__n_estimators=20, estimator__max_depth=3, estimator__min_samples_split=4, estimator__min_samples_leaf=2 -   7.1s\n",
      "[CV] estimator__n_estimators=30, estimator__max_depth=3, estimator__min_samples_split=4, estimator__min_samples_leaf=2 \n"
     ]
    },
    {
     "name": "stderr",
     "output_type": "stream",
     "text": [
      "/Users/rob/anaconda/lib/python3.5/site-packages/sklearn/externals/joblib/parallel.py:540: UserWarning: Multiprocessing-backed parallel loops cannot be nested, setting n_jobs=1\n",
      "  **self._backend_args)\n"
     ]
    },
    {
     "name": "stdout",
     "output_type": "stream",
     "text": [
      "[CV]  estimator__n_estimators=50, estimator__max_depth=3, estimator__min_samples_split=2, estimator__min_samples_leaf=2 -  17.7s\n",
      "[CV] estimator__n_estimators=30, estimator__max_depth=3, estimator__min_samples_split=4, estimator__min_samples_leaf=2 \n"
     ]
    },
    {
     "name": "stderr",
     "output_type": "stream",
     "text": [
      "/Users/rob/anaconda/lib/python3.5/site-packages/sklearn/externals/joblib/parallel.py:540: UserWarning: Multiprocessing-backed parallel loops cannot be nested, setting n_jobs=1\n",
      "  **self._backend_args)\n"
     ]
    },
    {
     "name": "stdout",
     "output_type": "stream",
     "text": [
      "[CV]  estimator__n_estimators=20, estimator__max_depth=3, estimator__min_samples_split=4, estimator__min_samples_leaf=2 -   7.2s\n",
      "[CV] estimator__n_estimators=40, estimator__max_depth=3, estimator__min_samples_split=4, estimator__min_samples_leaf=2 \n",
      "[CV]  estimator__n_estimators=20, estimator__max_depth=3, estimator__min_samples_split=4, estimator__min_samples_leaf=2 -   7.1s\n",
      "[CV]  estimator__n_estimators=20, estimator__max_depth=3, estimator__min_samples_split=4, estimator__min_samples_leaf=2 -   7.0s\n",
      "[CV] estimator__n_estimators=40, estimator__max_depth=3, estimator__min_samples_split=4, estimator__min_samples_leaf=2 \n"
     ]
    },
    {
     "name": "stderr",
     "output_type": "stream",
     "text": [
      "/Users/rob/anaconda/lib/python3.5/site-packages/sklearn/externals/joblib/parallel.py:540: UserWarning: Multiprocessing-backed parallel loops cannot be nested, setting n_jobs=1\n",
      "  **self._backend_args)\n",
      "/Users/rob/anaconda/lib/python3.5/site-packages/sklearn/externals/joblib/parallel.py:540: UserWarning: Multiprocessing-backed parallel loops cannot be nested, setting n_jobs=1\n",
      "  **self._backend_args)\n"
     ]
    },
    {
     "name": "stdout",
     "output_type": "stream",
     "text": [
      "[CV] estimator__n_estimators=40, estimator__max_depth=3, estimator__min_samples_split=4, estimator__min_samples_leaf=2 \n"
     ]
    },
    {
     "name": "stderr",
     "output_type": "stream",
     "text": [
      "/Users/rob/anaconda/lib/python3.5/site-packages/sklearn/externals/joblib/parallel.py:540: UserWarning: Multiprocessing-backed parallel loops cannot be nested, setting n_jobs=1\n",
      "  **self._backend_args)\n"
     ]
    },
    {
     "name": "stdout",
     "output_type": "stream",
     "text": [
      "[CV]  estimator__n_estimators=30, estimator__max_depth=3, estimator__min_samples_split=4, estimator__min_samples_leaf=2 -  10.5s\n",
      "[CV] estimator__n_estimators=40, estimator__max_depth=3, estimator__min_samples_split=4, estimator__min_samples_leaf=2 \n"
     ]
    },
    {
     "name": "stderr",
     "output_type": "stream",
     "text": [
      "/Users/rob/anaconda/lib/python3.5/site-packages/sklearn/externals/joblib/parallel.py:540: UserWarning: Multiprocessing-backed parallel loops cannot be nested, setting n_jobs=1\n",
      "  **self._backend_args)\n"
     ]
    },
    {
     "name": "stdout",
     "output_type": "stream",
     "text": [
      "[CV]  estimator__n_estimators=30, estimator__max_depth=3, estimator__min_samples_split=4, estimator__min_samples_leaf=2 -  10.6s\n",
      "[CV] estimator__n_estimators=40, estimator__max_depth=3, estimator__min_samples_split=4, estimator__min_samples_leaf=2 \n"
     ]
    },
    {
     "name": "stderr",
     "output_type": "stream",
     "text": [
      "/Users/rob/anaconda/lib/python3.5/site-packages/sklearn/externals/joblib/parallel.py:540: UserWarning: Multiprocessing-backed parallel loops cannot be nested, setting n_jobs=1\n",
      "  **self._backend_args)\n"
     ]
    },
    {
     "name": "stdout",
     "output_type": "stream",
     "text": [
      "[CV]  estimator__n_estimators=30, estimator__max_depth=3, estimator__min_samples_split=4, estimator__min_samples_leaf=2 -  10.6s\n",
      "[CV] estimator__n_estimators=50, estimator__max_depth=3, estimator__min_samples_split=4, estimator__min_samples_leaf=2 \n"
     ]
    },
    {
     "name": "stderr",
     "output_type": "stream",
     "text": [
      "/Users/rob/anaconda/lib/python3.5/site-packages/sklearn/externals/joblib/parallel.py:540: UserWarning: Multiprocessing-backed parallel loops cannot be nested, setting n_jobs=1\n",
      "  **self._backend_args)\n"
     ]
    },
    {
     "name": "stdout",
     "output_type": "stream",
     "text": [
      "[CV]  estimator__n_estimators=30, estimator__max_depth=3, estimator__min_samples_split=4, estimator__min_samples_leaf=2 -  10.8s\n",
      "[CV] estimator__n_estimators=50, estimator__max_depth=3, estimator__min_samples_split=4, estimator__min_samples_leaf=2 \n"
     ]
    },
    {
     "name": "stderr",
     "output_type": "stream",
     "text": [
      "/Users/rob/anaconda/lib/python3.5/site-packages/sklearn/externals/joblib/parallel.py:540: UserWarning: Multiprocessing-backed parallel loops cannot be nested, setting n_jobs=1\n",
      "  **self._backend_args)\n"
     ]
    },
    {
     "name": "stdout",
     "output_type": "stream",
     "text": [
      "[CV]  estimator__n_estimators=30, estimator__max_depth=3, estimator__min_samples_split=4, estimator__min_samples_leaf=2 -  10.6s\n",
      "[CV] estimator__n_estimators=50, estimator__max_depth=3, estimator__min_samples_split=4, estimator__min_samples_leaf=2 \n"
     ]
    },
    {
     "name": "stderr",
     "output_type": "stream",
     "text": [
      "/Users/rob/anaconda/lib/python3.5/site-packages/sklearn/externals/joblib/parallel.py:540: UserWarning: Multiprocessing-backed parallel loops cannot be nested, setting n_jobs=1\n",
      "  **self._backend_args)\n"
     ]
    },
    {
     "name": "stdout",
     "output_type": "stream",
     "text": [
      "[CV]  estimator__n_estimators=40, estimator__max_depth=3, estimator__min_samples_split=4, estimator__min_samples_leaf=2 -  14.2s\n",
      "[CV] estimator__n_estimators=50, estimator__max_depth=3, estimator__min_samples_split=4, estimator__min_samples_leaf=2 \n",
      "[CV]  estimator__n_estimators=40, estimator__max_depth=3, estimator__min_samples_split=4, estimator__min_samples_leaf=2 -  14.3s\n",
      "[CV] estimator__n_estimators=50, estimator__max_depth=3, estimator__min_samples_split=4, estimator__min_samples_leaf=2 \n"
     ]
    },
    {
     "name": "stderr",
     "output_type": "stream",
     "text": [
      "/Users/rob/anaconda/lib/python3.5/site-packages/sklearn/externals/joblib/parallel.py:540: UserWarning: Multiprocessing-backed parallel loops cannot be nested, setting n_jobs=1\n",
      "  **self._backend_args)\n"
     ]
    },
    {
     "name": "stdout",
     "output_type": "stream",
     "text": [
      "[CV]  estimator__n_estimators=40, estimator__max_depth=3, estimator__min_samples_split=4, estimator__min_samples_leaf=2 -  14.3s\n"
     ]
    },
    {
     "name": "stderr",
     "output_type": "stream",
     "text": [
      "/Users/rob/anaconda/lib/python3.5/site-packages/sklearn/externals/joblib/parallel.py:540: UserWarning: Multiprocessing-backed parallel loops cannot be nested, setting n_jobs=1\n",
      "  **self._backend_args)\n"
     ]
    },
    {
     "name": "stdout",
     "output_type": "stream",
     "text": [
      "[CV] estimator__n_estimators=10, estimator__max_depth=3, estimator__min_samples_split=6, estimator__min_samples_leaf=2 \n"
     ]
    },
    {
     "name": "stderr",
     "output_type": "stream",
     "text": [
      "/Users/rob/anaconda/lib/python3.5/site-packages/sklearn/externals/joblib/parallel.py:540: UserWarning: Multiprocessing-backed parallel loops cannot be nested, setting n_jobs=1\n",
      "  **self._backend_args)\n"
     ]
    },
    {
     "name": "stdout",
     "output_type": "stream",
     "text": [
      "[CV]  estimator__n_estimators=10, estimator__max_depth=3, estimator__min_samples_split=6, estimator__min_samples_leaf=2 -   3.6s\n",
      "[CV] estimator__n_estimators=10, estimator__max_depth=3, estimator__min_samples_split=6, estimator__min_samples_leaf=2 \n"
     ]
    },
    {
     "name": "stderr",
     "output_type": "stream",
     "text": [
      "/Users/rob/anaconda/lib/python3.5/site-packages/sklearn/externals/joblib/parallel.py:540: UserWarning: Multiprocessing-backed parallel loops cannot be nested, setting n_jobs=1\n",
      "  **self._backend_args)\n"
     ]
    },
    {
     "name": "stdout",
     "output_type": "stream",
     "text": [
      "[CV]  estimator__n_estimators=40, estimator__max_depth=3, estimator__min_samples_split=4, estimator__min_samples_leaf=2 -  14.4s\n",
      "[CV] estimator__n_estimators=10, estimator__max_depth=3, estimator__min_samples_split=6, estimator__min_samples_leaf=2 \n"
     ]
    },
    {
     "name": "stderr",
     "output_type": "stream",
     "text": [
      "/Users/rob/anaconda/lib/python3.5/site-packages/sklearn/externals/joblib/parallel.py:540: UserWarning: Multiprocessing-backed parallel loops cannot be nested, setting n_jobs=1\n",
      "  **self._backend_args)\n"
     ]
    },
    {
     "name": "stdout",
     "output_type": "stream",
     "text": [
      "[CV]  estimator__n_estimators=40, estimator__max_depth=3, estimator__min_samples_split=4, estimator__min_samples_leaf=2 -  14.3s\n",
      "[CV] estimator__n_estimators=10, estimator__max_depth=3, estimator__min_samples_split=6, estimator__min_samples_leaf=2 \n",
      "[CV]  estimator__n_estimators=10, estimator__max_depth=3, estimator__min_samples_split=6, estimator__min_samples_leaf=2 -   3.7s\n",
      "[CV] estimator__n_estimators=10, estimator__max_depth=3, estimator__min_samples_split=6, estimator__min_samples_leaf=2 \n"
     ]
    },
    {
     "name": "stderr",
     "output_type": "stream",
     "text": [
      "/Users/rob/anaconda/lib/python3.5/site-packages/sklearn/externals/joblib/parallel.py:540: UserWarning: Multiprocessing-backed parallel loops cannot be nested, setting n_jobs=1\n",
      "  **self._backend_args)\n",
      "/Users/rob/anaconda/lib/python3.5/site-packages/sklearn/externals/joblib/parallel.py:540: UserWarning: Multiprocessing-backed parallel loops cannot be nested, setting n_jobs=1\n",
      "  **self._backend_args)\n"
     ]
    },
    {
     "name": "stdout",
     "output_type": "stream",
     "text": [
      "[CV]  estimator__n_estimators=10, estimator__max_depth=3, estimator__min_samples_split=6, estimator__min_samples_leaf=2 -   3.7s\n",
      "[CV] estimator__n_estimators=20, estimator__max_depth=3, estimator__min_samples_split=6, estimator__min_samples_leaf=2 \n"
     ]
    },
    {
     "name": "stderr",
     "output_type": "stream",
     "text": [
      "/Users/rob/anaconda/lib/python3.5/site-packages/sklearn/externals/joblib/parallel.py:540: UserWarning: Multiprocessing-backed parallel loops cannot be nested, setting n_jobs=1\n",
      "  **self._backend_args)\n"
     ]
    },
    {
     "name": "stdout",
     "output_type": "stream",
     "text": [
      "[CV]  estimator__n_estimators=50, estimator__max_depth=3, estimator__min_samples_split=4, estimator__min_samples_leaf=2 -  17.8s\n",
      "[CV] estimator__n_estimators=20, estimator__max_depth=3, estimator__min_samples_split=6, estimator__min_samples_leaf=2 \n"
     ]
    },
    {
     "name": "stderr",
     "output_type": "stream",
     "text": [
      "/Users/rob/anaconda/lib/python3.5/site-packages/sklearn/externals/joblib/parallel.py:540: UserWarning: Multiprocessing-backed parallel loops cannot be nested, setting n_jobs=1\n",
      "  **self._backend_args)\n"
     ]
    },
    {
     "name": "stdout",
     "output_type": "stream",
     "text": [
      "[CV]  estimator__n_estimators=10, estimator__max_depth=3, estimator__min_samples_split=6, estimator__min_samples_leaf=2 -   3.9s\n",
      "[CV]  estimator__n_estimators=10, estimator__max_depth=3, estimator__min_samples_split=6, estimator__min_samples_leaf=2 -   3.8s\n",
      "[CV] estimator__n_estimators=20, estimator__max_depth=3, estimator__min_samples_split=6, estimator__min_samples_leaf=2 \n",
      "[CV] estimator__n_estimators=20, estimator__max_depth=3, estimator__min_samples_split=6, estimator__min_samples_leaf=2 \n"
     ]
    },
    {
     "name": "stderr",
     "output_type": "stream",
     "text": [
      "/Users/rob/anaconda/lib/python3.5/site-packages/sklearn/externals/joblib/parallel.py:540: UserWarning: Multiprocessing-backed parallel loops cannot be nested, setting n_jobs=1\n",
      "  **self._backend_args)\n",
      "/Users/rob/anaconda/lib/python3.5/site-packages/sklearn/externals/joblib/parallel.py:540: UserWarning: Multiprocessing-backed parallel loops cannot be nested, setting n_jobs=1\n",
      "  **self._backend_args)\n"
     ]
    },
    {
     "name": "stdout",
     "output_type": "stream",
     "text": [
      "[CV]  estimator__n_estimators=50, estimator__max_depth=3, estimator__min_samples_split=4, estimator__min_samples_leaf=2 -  18.0s\n",
      "[CV] estimator__n_estimators=20, estimator__max_depth=3, estimator__min_samples_split=6, estimator__min_samples_leaf=2 \n"
     ]
    },
    {
     "name": "stderr",
     "output_type": "stream",
     "text": [
      "/Users/rob/anaconda/lib/python3.5/site-packages/sklearn/externals/joblib/parallel.py:540: UserWarning: Multiprocessing-backed parallel loops cannot be nested, setting n_jobs=1\n",
      "  **self._backend_args)\n"
     ]
    },
    {
     "name": "stdout",
     "output_type": "stream",
     "text": [
      "[CV]  estimator__n_estimators=50, estimator__max_depth=3, estimator__min_samples_split=4, estimator__min_samples_leaf=2 -  17.9s\n",
      "[CV] estimator__n_estimators=30, estimator__max_depth=3, estimator__min_samples_split=6, estimator__min_samples_leaf=2 \n"
     ]
    },
    {
     "name": "stderr",
     "output_type": "stream",
     "text": [
      "/Users/rob/anaconda/lib/python3.5/site-packages/sklearn/externals/joblib/parallel.py:540: UserWarning: Multiprocessing-backed parallel loops cannot be nested, setting n_jobs=1\n",
      "  **self._backend_args)\n"
     ]
    },
    {
     "name": "stdout",
     "output_type": "stream",
     "text": [
      "[CV]  estimator__n_estimators=20, estimator__max_depth=3, estimator__min_samples_split=6, estimator__min_samples_leaf=2 -   7.2s\n",
      "[CV] estimator__n_estimators=30, estimator__max_depth=3, estimator__min_samples_split=6, estimator__min_samples_leaf=2 \n"
     ]
    },
    {
     "name": "stderr",
     "output_type": "stream",
     "text": [
      "/Users/rob/anaconda/lib/python3.5/site-packages/sklearn/externals/joblib/parallel.py:540: UserWarning: Multiprocessing-backed parallel loops cannot be nested, setting n_jobs=1\n",
      "  **self._backend_args)\n"
     ]
    },
    {
     "name": "stdout",
     "output_type": "stream",
     "text": [
      "[CV]  estimator__n_estimators=50, estimator__max_depth=3, estimator__min_samples_split=4, estimator__min_samples_leaf=2 -  18.1s\n",
      "[CV] estimator__n_estimators=30, estimator__max_depth=3, estimator__min_samples_split=6, estimator__min_samples_leaf=2 \n",
      "[CV]  estimator__n_estimators=50, estimator__max_depth=3, estimator__min_samples_split=4, estimator__min_samples_leaf=2 -  18.1s\n",
      "[CV] estimator__n_estimators=30, estimator__max_depth=3, estimator__min_samples_split=6, estimator__min_samples_leaf=2 \n"
     ]
    },
    {
     "name": "stderr",
     "output_type": "stream",
     "text": [
      "/Users/rob/anaconda/lib/python3.5/site-packages/sklearn/externals/joblib/parallel.py:540: UserWarning: Multiprocessing-backed parallel loops cannot be nested, setting n_jobs=1\n",
      "  **self._backend_args)\n",
      "/Users/rob/anaconda/lib/python3.5/site-packages/sklearn/externals/joblib/parallel.py:540: UserWarning: Multiprocessing-backed parallel loops cannot be nested, setting n_jobs=1\n",
      "  **self._backend_args)\n"
     ]
    },
    {
     "name": "stdout",
     "output_type": "stream",
     "text": [
      "[CV]  estimator__n_estimators=20, estimator__max_depth=3, estimator__min_samples_split=6, estimator__min_samples_leaf=2 -   7.4s\n",
      "[CV] estimator__n_estimators=30, estimator__max_depth=3, estimator__min_samples_split=6, estimator__min_samples_leaf=2 \n"
     ]
    },
    {
     "name": "stderr",
     "output_type": "stream",
     "text": [
      "/Users/rob/anaconda/lib/python3.5/site-packages/sklearn/externals/joblib/parallel.py:540: UserWarning: Multiprocessing-backed parallel loops cannot be nested, setting n_jobs=1\n",
      "  **self._backend_args)\n"
     ]
    },
    {
     "name": "stdout",
     "output_type": "stream",
     "text": [
      "[CV]  estimator__n_estimators=20, estimator__max_depth=3, estimator__min_samples_split=6, estimator__min_samples_leaf=2 -   7.3s\n",
      "[CV] estimator__n_estimators=40, estimator__max_depth=3, estimator__min_samples_split=6, estimator__min_samples_leaf=2 \n"
     ]
    },
    {
     "name": "stderr",
     "output_type": "stream",
     "text": [
      "/Users/rob/anaconda/lib/python3.5/site-packages/sklearn/externals/joblib/parallel.py:540: UserWarning: Multiprocessing-backed parallel loops cannot be nested, setting n_jobs=1\n",
      "  **self._backend_args)\n"
     ]
    },
    {
     "name": "stdout",
     "output_type": "stream",
     "text": [
      "[CV]  estimator__n_estimators=20, estimator__max_depth=3, estimator__min_samples_split=6, estimator__min_samples_leaf=2 -   7.4s\n",
      "[CV] estimator__n_estimators=40, estimator__max_depth=3, estimator__min_samples_split=6, estimator__min_samples_leaf=2 \n"
     ]
    },
    {
     "name": "stderr",
     "output_type": "stream",
     "text": [
      "/Users/rob/anaconda/lib/python3.5/site-packages/sklearn/externals/joblib/parallel.py:540: UserWarning: Multiprocessing-backed parallel loops cannot be nested, setting n_jobs=1\n",
      "  **self._backend_args)\n"
     ]
    },
    {
     "name": "stdout",
     "output_type": "stream",
     "text": [
      "[CV]  estimator__n_estimators=20, estimator__max_depth=3, estimator__min_samples_split=6, estimator__min_samples_leaf=2 -   7.3s\n",
      "[CV] estimator__n_estimators=40, estimator__max_depth=3, estimator__min_samples_split=6, estimator__min_samples_leaf=2 \n"
     ]
    },
    {
     "name": "stderr",
     "output_type": "stream",
     "text": [
      "/Users/rob/anaconda/lib/python3.5/site-packages/sklearn/externals/joblib/parallel.py:540: UserWarning: Multiprocessing-backed parallel loops cannot be nested, setting n_jobs=1\n",
      "  **self._backend_args)\n"
     ]
    },
    {
     "name": "stdout",
     "output_type": "stream",
     "text": [
      "[CV]  estimator__n_estimators=30, estimator__max_depth=3, estimator__min_samples_split=6, estimator__min_samples_leaf=2 -  10.7s\n",
      "[CV] estimator__n_estimators=40, estimator__max_depth=3, estimator__min_samples_split=6, estimator__min_samples_leaf=2 \n"
     ]
    },
    {
     "name": "stderr",
     "output_type": "stream",
     "text": [
      "/Users/rob/anaconda/lib/python3.5/site-packages/sklearn/externals/joblib/parallel.py:540: UserWarning: Multiprocessing-backed parallel loops cannot be nested, setting n_jobs=1\n",
      "  **self._backend_args)\n"
     ]
    },
    {
     "name": "stdout",
     "output_type": "stream",
     "text": [
      "[CV]  estimator__n_estimators=30, estimator__max_depth=3, estimator__min_samples_split=6, estimator__min_samples_leaf=2 -  10.7s\n",
      "[CV] estimator__n_estimators=40, estimator__max_depth=3, estimator__min_samples_split=6, estimator__min_samples_leaf=2 \n"
     ]
    },
    {
     "name": "stderr",
     "output_type": "stream",
     "text": [
      "/Users/rob/anaconda/lib/python3.5/site-packages/sklearn/externals/joblib/parallel.py:540: UserWarning: Multiprocessing-backed parallel loops cannot be nested, setting n_jobs=1\n",
      "  **self._backend_args)\n"
     ]
    },
    {
     "name": "stdout",
     "output_type": "stream",
     "text": [
      "[CV]  estimator__n_estimators=30, estimator__max_depth=3, estimator__min_samples_split=6, estimator__min_samples_leaf=2 -  10.4s\n",
      "[CV] estimator__n_estimators=50, estimator__max_depth=3, estimator__min_samples_split=6, estimator__min_samples_leaf=2 \n"
     ]
    },
    {
     "name": "stderr",
     "output_type": "stream",
     "text": [
      "/Users/rob/anaconda/lib/python3.5/site-packages/sklearn/externals/joblib/parallel.py:540: UserWarning: Multiprocessing-backed parallel loops cannot be nested, setting n_jobs=1\n",
      "  **self._backend_args)\n"
     ]
    },
    {
     "name": "stdout",
     "output_type": "stream",
     "text": [
      "[CV]  estimator__n_estimators=30, estimator__max_depth=3, estimator__min_samples_split=6, estimator__min_samples_leaf=2 -  10.4s\n",
      "[CV] estimator__n_estimators=50, estimator__max_depth=3, estimator__min_samples_split=6, estimator__min_samples_leaf=2 \n"
     ]
    },
    {
     "name": "stderr",
     "output_type": "stream",
     "text": [
      "/Users/rob/anaconda/lib/python3.5/site-packages/sklearn/externals/joblib/parallel.py:540: UserWarning: Multiprocessing-backed parallel loops cannot be nested, setting n_jobs=1\n",
      "  **self._backend_args)\n"
     ]
    },
    {
     "name": "stdout",
     "output_type": "stream",
     "text": [
      "[CV]  estimator__n_estimators=30, estimator__max_depth=3, estimator__min_samples_split=6, estimator__min_samples_leaf=2 -  10.4s\n",
      "[CV] estimator__n_estimators=50, estimator__max_depth=3, estimator__min_samples_split=6, estimator__min_samples_leaf=2 \n"
     ]
    },
    {
     "name": "stderr",
     "output_type": "stream",
     "text": [
      "/Users/rob/anaconda/lib/python3.5/site-packages/sklearn/externals/joblib/parallel.py:540: UserWarning: Multiprocessing-backed parallel loops cannot be nested, setting n_jobs=1\n",
      "  **self._backend_args)\n"
     ]
    },
    {
     "name": "stdout",
     "output_type": "stream",
     "text": [
      "[CV]  estimator__n_estimators=40, estimator__max_depth=3, estimator__min_samples_split=6, estimator__min_samples_leaf=2 -  13.9s\n",
      "[CV] estimator__n_estimators=50, estimator__max_depth=3, estimator__min_samples_split=6, estimator__min_samples_leaf=2 \n",
      "[CV]  estimator__n_estimators=40, estimator__max_depth=3, estimator__min_samples_split=6, estimator__min_samples_leaf=2 -  13.9s\n",
      "[CV] estimator__n_estimators=50, estimator__max_depth=3, estimator__min_samples_split=6, estimator__min_samples_leaf=2 \n"
     ]
    },
    {
     "name": "stderr",
     "output_type": "stream",
     "text": [
      "/Users/rob/anaconda/lib/python3.5/site-packages/sklearn/externals/joblib/parallel.py:540: UserWarning: Multiprocessing-backed parallel loops cannot be nested, setting n_jobs=1\n",
      "  **self._backend_args)\n",
      "/Users/rob/anaconda/lib/python3.5/site-packages/sklearn/externals/joblib/parallel.py:540: UserWarning: Multiprocessing-backed parallel loops cannot be nested, setting n_jobs=1\n",
      "  **self._backend_args)\n"
     ]
    },
    {
     "name": "stdout",
     "output_type": "stream",
     "text": [
      "[CV]  estimator__n_estimators=40, estimator__max_depth=3, estimator__min_samples_split=6, estimator__min_samples_leaf=2 -  13.9s\n",
      "[CV] estimator__n_estimators=10, estimator__max_depth=3, estimator__min_samples_split=2, estimator__min_samples_leaf=4 \n"
     ]
    },
    {
     "name": "stderr",
     "output_type": "stream",
     "text": [
      "/Users/rob/anaconda/lib/python3.5/site-packages/sklearn/externals/joblib/parallel.py:540: UserWarning: Multiprocessing-backed parallel loops cannot be nested, setting n_jobs=1\n",
      "  **self._backend_args)\n"
     ]
    },
    {
     "name": "stdout",
     "output_type": "stream",
     "text": [
      "[CV]  estimator__n_estimators=10, estimator__max_depth=3, estimator__min_samples_split=2, estimator__min_samples_leaf=4 -   3.9s\n",
      "[CV] estimator__n_estimators=10, estimator__max_depth=3, estimator__min_samples_split=2, estimator__min_samples_leaf=4 \n"
     ]
    },
    {
     "name": "stderr",
     "output_type": "stream",
     "text": [
      "/Users/rob/anaconda/lib/python3.5/site-packages/sklearn/externals/joblib/parallel.py:540: UserWarning: Multiprocessing-backed parallel loops cannot be nested, setting n_jobs=1\n",
      "  **self._backend_args)\n"
     ]
    },
    {
     "name": "stdout",
     "output_type": "stream",
     "text": [
      "[CV]  estimator__n_estimators=40, estimator__max_depth=3, estimator__min_samples_split=6, estimator__min_samples_leaf=2 -  14.4s\n",
      "[CV] estimator__n_estimators=10, estimator__max_depth=3, estimator__min_samples_split=2, estimator__min_samples_leaf=4 \n"
     ]
    },
    {
     "name": "stderr",
     "output_type": "stream",
     "text": [
      "/Users/rob/anaconda/lib/python3.5/site-packages/sklearn/externals/joblib/parallel.py:540: UserWarning: Multiprocessing-backed parallel loops cannot be nested, setting n_jobs=1\n",
      "  **self._backend_args)\n"
     ]
    },
    {
     "name": "stdout",
     "output_type": "stream",
     "text": [
      "[CV]  estimator__n_estimators=40, estimator__max_depth=3, estimator__min_samples_split=6, estimator__min_samples_leaf=2 -  14.3s\n",
      "[CV] estimator__n_estimators=10, estimator__max_depth=3, estimator__min_samples_split=2, estimator__min_samples_leaf=4 \n"
     ]
    },
    {
     "name": "stderr",
     "output_type": "stream",
     "text": [
      "/Users/rob/anaconda/lib/python3.5/site-packages/sklearn/externals/joblib/parallel.py:540: UserWarning: Multiprocessing-backed parallel loops cannot be nested, setting n_jobs=1\n",
      "  **self._backend_args)\n",
      "[Parallel(n_jobs=8)]: Done 146 tasks      | elapsed:  3.4min\n"
     ]
    },
    {
     "name": "stdout",
     "output_type": "stream",
     "text": [
      "[CV]  estimator__n_estimators=10, estimator__max_depth=3, estimator__min_samples_split=2, estimator__min_samples_leaf=4 -   3.6s\n",
      "[CV] estimator__n_estimators=10, estimator__max_depth=3, estimator__min_samples_split=2, estimator__min_samples_leaf=4 \n"
     ]
    },
    {
     "name": "stderr",
     "output_type": "stream",
     "text": [
      "/Users/rob/anaconda/lib/python3.5/site-packages/sklearn/externals/joblib/parallel.py:540: UserWarning: Multiprocessing-backed parallel loops cannot be nested, setting n_jobs=1\n",
      "  **self._backend_args)\n"
     ]
    },
    {
     "name": "stdout",
     "output_type": "stream",
     "text": [
      "[CV]  estimator__n_estimators=10, estimator__max_depth=3, estimator__min_samples_split=2, estimator__min_samples_leaf=4 -   3.8s\n",
      "[CV] estimator__n_estimators=20, estimator__max_depth=3, estimator__min_samples_split=2, estimator__min_samples_leaf=4 \n"
     ]
    },
    {
     "name": "stderr",
     "output_type": "stream",
     "text": [
      "/Users/rob/anaconda/lib/python3.5/site-packages/sklearn/externals/joblib/parallel.py:540: UserWarning: Multiprocessing-backed parallel loops cannot be nested, setting n_jobs=1\n",
      "  **self._backend_args)\n"
     ]
    },
    {
     "name": "stdout",
     "output_type": "stream",
     "text": [
      "[CV]  estimator__n_estimators=10, estimator__max_depth=3, estimator__min_samples_split=2, estimator__min_samples_leaf=4 -   4.0s\n",
      "[CV] estimator__n_estimators=20, estimator__max_depth=3, estimator__min_samples_split=2, estimator__min_samples_leaf=4 \n"
     ]
    },
    {
     "name": "stderr",
     "output_type": "stream",
     "text": [
      "/Users/rob/anaconda/lib/python3.5/site-packages/sklearn/externals/joblib/parallel.py:540: UserWarning: Multiprocessing-backed parallel loops cannot be nested, setting n_jobs=1\n",
      "  **self._backend_args)\n"
     ]
    },
    {
     "name": "stdout",
     "output_type": "stream",
     "text": [
      "[CV]  estimator__n_estimators=10, estimator__max_depth=3, estimator__min_samples_split=2, estimator__min_samples_leaf=4 -   3.9s\n",
      "[CV] estimator__n_estimators=20, estimator__max_depth=3, estimator__min_samples_split=2, estimator__min_samples_leaf=4 \n"
     ]
    },
    {
     "name": "stderr",
     "output_type": "stream",
     "text": [
      "/Users/rob/anaconda/lib/python3.5/site-packages/sklearn/externals/joblib/parallel.py:540: UserWarning: Multiprocessing-backed parallel loops cannot be nested, setting n_jobs=1\n",
      "  **self._backend_args)\n"
     ]
    },
    {
     "name": "stdout",
     "output_type": "stream",
     "text": [
      "[CV]  estimator__n_estimators=50, estimator__max_depth=3, estimator__min_samples_split=6, estimator__min_samples_leaf=2 -  18.1s\n",
      "[CV] estimator__n_estimators=20, estimator__max_depth=3, estimator__min_samples_split=2, estimator__min_samples_leaf=4 \n",
      "[CV]  estimator__n_estimators=50, estimator__max_depth=3, estimator__min_samples_split=6, estimator__min_samples_leaf=2 -  18.0s\n"
     ]
    },
    {
     "name": "stderr",
     "output_type": "stream",
     "text": [
      "/Users/rob/anaconda/lib/python3.5/site-packages/sklearn/externals/joblib/parallel.py:540: UserWarning: Multiprocessing-backed parallel loops cannot be nested, setting n_jobs=1\n",
      "  **self._backend_args)\n"
     ]
    },
    {
     "name": "stdout",
     "output_type": "stream",
     "text": [
      "[CV] estimator__n_estimators=20, estimator__max_depth=3, estimator__min_samples_split=2, estimator__min_samples_leaf=4 \n"
     ]
    },
    {
     "name": "stderr",
     "output_type": "stream",
     "text": [
      "/Users/rob/anaconda/lib/python3.5/site-packages/sklearn/externals/joblib/parallel.py:540: UserWarning: Multiprocessing-backed parallel loops cannot be nested, setting n_jobs=1\n",
      "  **self._backend_args)\n"
     ]
    },
    {
     "name": "stdout",
     "output_type": "stream",
     "text": [
      "[CV]  estimator__n_estimators=50, estimator__max_depth=3, estimator__min_samples_split=6, estimator__min_samples_leaf=2 -  18.2s\n",
      "[CV] estimator__n_estimators=30, estimator__max_depth=3, estimator__min_samples_split=2, estimator__min_samples_leaf=4 \n"
     ]
    },
    {
     "name": "stderr",
     "output_type": "stream",
     "text": [
      "/Users/rob/anaconda/lib/python3.5/site-packages/sklearn/externals/joblib/parallel.py:540: UserWarning: Multiprocessing-backed parallel loops cannot be nested, setting n_jobs=1\n",
      "  **self._backend_args)\n"
     ]
    },
    {
     "name": "stdout",
     "output_type": "stream",
     "text": [
      "[CV]  estimator__n_estimators=20, estimator__max_depth=3, estimator__min_samples_split=2, estimator__min_samples_leaf=4 -   7.1s\n",
      "[CV] estimator__n_estimators=30, estimator__max_depth=3, estimator__min_samples_split=2, estimator__min_samples_leaf=4 \n"
     ]
    },
    {
     "name": "stderr",
     "output_type": "stream",
     "text": [
      "/Users/rob/anaconda/lib/python3.5/site-packages/sklearn/externals/joblib/parallel.py:540: UserWarning: Multiprocessing-backed parallel loops cannot be nested, setting n_jobs=1\n",
      "  **self._backend_args)\n"
     ]
    },
    {
     "name": "stdout",
     "output_type": "stream",
     "text": [
      "[CV]  estimator__n_estimators=50, estimator__max_depth=3, estimator__min_samples_split=6, estimator__min_samples_leaf=2 -  18.2s\n",
      "[CV] estimator__n_estimators=30, estimator__max_depth=3, estimator__min_samples_split=2, estimator__min_samples_leaf=4 \n",
      "[CV]  estimator__n_estimators=50, estimator__max_depth=3, estimator__min_samples_split=6, estimator__min_samples_leaf=2 -  18.1s\n",
      "[CV] estimator__n_estimators=30, estimator__max_depth=3, estimator__min_samples_split=2, estimator__min_samples_leaf=4 \n"
     ]
    },
    {
     "name": "stderr",
     "output_type": "stream",
     "text": [
      "/Users/rob/anaconda/lib/python3.5/site-packages/sklearn/externals/joblib/parallel.py:540: UserWarning: Multiprocessing-backed parallel loops cannot be nested, setting n_jobs=1\n",
      "  **self._backend_args)\n",
      "/Users/rob/anaconda/lib/python3.5/site-packages/sklearn/externals/joblib/parallel.py:540: UserWarning: Multiprocessing-backed parallel loops cannot be nested, setting n_jobs=1\n",
      "  **self._backend_args)\n"
     ]
    },
    {
     "name": "stdout",
     "output_type": "stream",
     "text": [
      "[CV]  estimator__n_estimators=20, estimator__max_depth=3, estimator__min_samples_split=2, estimator__min_samples_leaf=4 -   7.1s\n",
      "[CV] estimator__n_estimators=30, estimator__max_depth=3, estimator__min_samples_split=2, estimator__min_samples_leaf=4 \n"
     ]
    },
    {
     "name": "stderr",
     "output_type": "stream",
     "text": [
      "/Users/rob/anaconda/lib/python3.5/site-packages/sklearn/externals/joblib/parallel.py:540: UserWarning: Multiprocessing-backed parallel loops cannot be nested, setting n_jobs=1\n",
      "  **self._backend_args)\n"
     ]
    },
    {
     "name": "stdout",
     "output_type": "stream",
     "text": [
      "[CV]  estimator__n_estimators=20, estimator__max_depth=3, estimator__min_samples_split=2, estimator__min_samples_leaf=4 -   7.1s\n",
      "[CV] estimator__n_estimators=40, estimator__max_depth=3, estimator__min_samples_split=2, estimator__min_samples_leaf=4 \n"
     ]
    },
    {
     "name": "stderr",
     "output_type": "stream",
     "text": [
      "/Users/rob/anaconda/lib/python3.5/site-packages/sklearn/externals/joblib/parallel.py:540: UserWarning: Multiprocessing-backed parallel loops cannot be nested, setting n_jobs=1\n",
      "  **self._backend_args)\n"
     ]
    },
    {
     "name": "stdout",
     "output_type": "stream",
     "text": [
      "[CV]  estimator__n_estimators=20, estimator__max_depth=3, estimator__min_samples_split=2, estimator__min_samples_leaf=4 -   7.1s\n",
      "[CV] estimator__n_estimators=40, estimator__max_depth=3, estimator__min_samples_split=2, estimator__min_samples_leaf=4 \n",
      "[CV]  estimator__n_estimators=20, estimator__max_depth=3, estimator__min_samples_split=2, estimator__min_samples_leaf=4 -   7.0s\n",
      "[CV] estimator__n_estimators=40, estimator__max_depth=3, estimator__min_samples_split=2, estimator__min_samples_leaf=4 \n"
     ]
    },
    {
     "name": "stderr",
     "output_type": "stream",
     "text": [
      "/Users/rob/anaconda/lib/python3.5/site-packages/sklearn/externals/joblib/parallel.py:540: UserWarning: Multiprocessing-backed parallel loops cannot be nested, setting n_jobs=1\n",
      "  **self._backend_args)\n",
      "/Users/rob/anaconda/lib/python3.5/site-packages/sklearn/externals/joblib/parallel.py:540: UserWarning: Multiprocessing-backed parallel loops cannot be nested, setting n_jobs=1\n",
      "  **self._backend_args)\n"
     ]
    },
    {
     "name": "stdout",
     "output_type": "stream",
     "text": [
      "[CV]  estimator__n_estimators=30, estimator__max_depth=3, estimator__min_samples_split=2, estimator__min_samples_leaf=4 -  10.5s\n",
      "[CV] estimator__n_estimators=40, estimator__max_depth=3, estimator__min_samples_split=2, estimator__min_samples_leaf=4 \n"
     ]
    },
    {
     "name": "stderr",
     "output_type": "stream",
     "text": [
      "/Users/rob/anaconda/lib/python3.5/site-packages/sklearn/externals/joblib/parallel.py:540: UserWarning: Multiprocessing-backed parallel loops cannot be nested, setting n_jobs=1\n",
      "  **self._backend_args)\n"
     ]
    },
    {
     "name": "stdout",
     "output_type": "stream",
     "text": [
      "[CV]  estimator__n_estimators=30, estimator__max_depth=3, estimator__min_samples_split=2, estimator__min_samples_leaf=4 -  10.3s\n",
      "[CV] estimator__n_estimators=40, estimator__max_depth=3, estimator__min_samples_split=2, estimator__min_samples_leaf=4 \n"
     ]
    },
    {
     "name": "stderr",
     "output_type": "stream",
     "text": [
      "/Users/rob/anaconda/lib/python3.5/site-packages/sklearn/externals/joblib/parallel.py:540: UserWarning: Multiprocessing-backed parallel loops cannot be nested, setting n_jobs=1\n",
      "  **self._backend_args)\n"
     ]
    },
    {
     "name": "stdout",
     "output_type": "stream",
     "text": [
      "[CV]  estimator__n_estimators=30, estimator__max_depth=3, estimator__min_samples_split=2, estimator__min_samples_leaf=4 -  10.3s\n",
      "[CV] estimator__n_estimators=50, estimator__max_depth=3, estimator__min_samples_split=2, estimator__min_samples_leaf=4 \n",
      "[CV]  estimator__n_estimators=30, estimator__max_depth=3, estimator__min_samples_split=2, estimator__min_samples_leaf=4 -  10.4s\n"
     ]
    },
    {
     "name": "stderr",
     "output_type": "stream",
     "text": [
      "/Users/rob/anaconda/lib/python3.5/site-packages/sklearn/externals/joblib/parallel.py:540: UserWarning: Multiprocessing-backed parallel loops cannot be nested, setting n_jobs=1\n",
      "  **self._backend_args)\n"
     ]
    },
    {
     "name": "stdout",
     "output_type": "stream",
     "text": [
      "[CV] estimator__n_estimators=50, estimator__max_depth=3, estimator__min_samples_split=2, estimator__min_samples_leaf=4 \n"
     ]
    },
    {
     "name": "stderr",
     "output_type": "stream",
     "text": [
      "/Users/rob/anaconda/lib/python3.5/site-packages/sklearn/externals/joblib/parallel.py:540: UserWarning: Multiprocessing-backed parallel loops cannot be nested, setting n_jobs=1\n",
      "  **self._backend_args)\n"
     ]
    },
    {
     "name": "stdout",
     "output_type": "stream",
     "text": [
      "[CV]  estimator__n_estimators=30, estimator__max_depth=3, estimator__min_samples_split=2, estimator__min_samples_leaf=4 -  10.3s\n",
      "[CV] estimator__n_estimators=50, estimator__max_depth=3, estimator__min_samples_split=2, estimator__min_samples_leaf=4 \n"
     ]
    },
    {
     "name": "stderr",
     "output_type": "stream",
     "text": [
      "/Users/rob/anaconda/lib/python3.5/site-packages/sklearn/externals/joblib/parallel.py:540: UserWarning: Multiprocessing-backed parallel loops cannot be nested, setting n_jobs=1\n",
      "  **self._backend_args)\n"
     ]
    },
    {
     "name": "stdout",
     "output_type": "stream",
     "text": [
      "[CV]  estimator__n_estimators=40, estimator__max_depth=3, estimator__min_samples_split=2, estimator__min_samples_leaf=4 -  13.9s\n",
      "[CV] estimator__n_estimators=50, estimator__max_depth=3, estimator__min_samples_split=2, estimator__min_samples_leaf=4 \n"
     ]
    },
    {
     "name": "stderr",
     "output_type": "stream",
     "text": [
      "/Users/rob/anaconda/lib/python3.5/site-packages/sklearn/externals/joblib/parallel.py:540: UserWarning: Multiprocessing-backed parallel loops cannot be nested, setting n_jobs=1\n",
      "  **self._backend_args)\n"
     ]
    },
    {
     "name": "stdout",
     "output_type": "stream",
     "text": [
      "[CV]  estimator__n_estimators=40, estimator__max_depth=3, estimator__min_samples_split=2, estimator__min_samples_leaf=4 -  14.0s\n",
      "[CV] estimator__n_estimators=50, estimator__max_depth=3, estimator__min_samples_split=2, estimator__min_samples_leaf=4 \n"
     ]
    },
    {
     "name": "stderr",
     "output_type": "stream",
     "text": [
      "/Users/rob/anaconda/lib/python3.5/site-packages/sklearn/externals/joblib/parallel.py:540: UserWarning: Multiprocessing-backed parallel loops cannot be nested, setting n_jobs=1\n",
      "  **self._backend_args)\n"
     ]
    },
    {
     "name": "stdout",
     "output_type": "stream",
     "text": [
      "[CV]  estimator__n_estimators=40, estimator__max_depth=3, estimator__min_samples_split=2, estimator__min_samples_leaf=4 -  14.1s\n",
      "[CV] estimator__n_estimators=10, estimator__max_depth=3, estimator__min_samples_split=4, estimator__min_samples_leaf=4 \n"
     ]
    },
    {
     "name": "stderr",
     "output_type": "stream",
     "text": [
      "/Users/rob/anaconda/lib/python3.5/site-packages/sklearn/externals/joblib/parallel.py:540: UserWarning: Multiprocessing-backed parallel loops cannot be nested, setting n_jobs=1\n",
      "  **self._backend_args)\n"
     ]
    },
    {
     "name": "stdout",
     "output_type": "stream",
     "text": [
      "[CV]  estimator__n_estimators=10, estimator__max_depth=3, estimator__min_samples_split=4, estimator__min_samples_leaf=4 -   3.6s\n",
      "[CV] estimator__n_estimators=10, estimator__max_depth=3, estimator__min_samples_split=4, estimator__min_samples_leaf=4 \n"
     ]
    },
    {
     "name": "stderr",
     "output_type": "stream",
     "text": [
      "/Users/rob/anaconda/lib/python3.5/site-packages/sklearn/externals/joblib/parallel.py:540: UserWarning: Multiprocessing-backed parallel loops cannot be nested, setting n_jobs=1\n",
      "  **self._backend_args)\n"
     ]
    },
    {
     "name": "stdout",
     "output_type": "stream",
     "text": [
      "[CV]  estimator__n_estimators=40, estimator__max_depth=3, estimator__min_samples_split=2, estimator__min_samples_leaf=4 -  14.2s\n",
      "[CV] estimator__n_estimators=10, estimator__max_depth=3, estimator__min_samples_split=4, estimator__min_samples_leaf=4 \n"
     ]
    },
    {
     "name": "stderr",
     "output_type": "stream",
     "text": [
      "/Users/rob/anaconda/lib/python3.5/site-packages/sklearn/externals/joblib/parallel.py:540: UserWarning: Multiprocessing-backed parallel loops cannot be nested, setting n_jobs=1\n",
      "  **self._backend_args)\n"
     ]
    },
    {
     "name": "stdout",
     "output_type": "stream",
     "text": [
      "[CV]  estimator__n_estimators=40, estimator__max_depth=3, estimator__min_samples_split=2, estimator__min_samples_leaf=4 -  14.2s\n",
      "[CV] estimator__n_estimators=10, estimator__max_depth=3, estimator__min_samples_split=4, estimator__min_samples_leaf=4 \n"
     ]
    },
    {
     "name": "stderr",
     "output_type": "stream",
     "text": [
      "/Users/rob/anaconda/lib/python3.5/site-packages/sklearn/externals/joblib/parallel.py:540: UserWarning: Multiprocessing-backed parallel loops cannot be nested, setting n_jobs=1\n",
      "  **self._backend_args)\n"
     ]
    },
    {
     "name": "stdout",
     "output_type": "stream",
     "text": [
      "[CV]  estimator__n_estimators=10, estimator__max_depth=3, estimator__min_samples_split=4, estimator__min_samples_leaf=4 -   3.7s\n",
      "[CV] estimator__n_estimators=10, estimator__max_depth=3, estimator__min_samples_split=4, estimator__min_samples_leaf=4 \n"
     ]
    },
    {
     "name": "stderr",
     "output_type": "stream",
     "text": [
      "/Users/rob/anaconda/lib/python3.5/site-packages/sklearn/externals/joblib/parallel.py:540: UserWarning: Multiprocessing-backed parallel loops cannot be nested, setting n_jobs=1\n",
      "  **self._backend_args)\n"
     ]
    },
    {
     "name": "stdout",
     "output_type": "stream",
     "text": [
      "[CV]  estimator__n_estimators=10, estimator__max_depth=3, estimator__min_samples_split=4, estimator__min_samples_leaf=4 -   3.8s\n",
      "[CV] estimator__n_estimators=20, estimator__max_depth=3, estimator__min_samples_split=4, estimator__min_samples_leaf=4 \n"
     ]
    },
    {
     "name": "stderr",
     "output_type": "stream",
     "text": [
      "/Users/rob/anaconda/lib/python3.5/site-packages/sklearn/externals/joblib/parallel.py:540: UserWarning: Multiprocessing-backed parallel loops cannot be nested, setting n_jobs=1\n",
      "  **self._backend_args)\n"
     ]
    },
    {
     "name": "stdout",
     "output_type": "stream",
     "text": [
      "[CV]  estimator__n_estimators=10, estimator__max_depth=3, estimator__min_samples_split=4, estimator__min_samples_leaf=4 -   3.7s\n",
      "[CV] estimator__n_estimators=20, estimator__max_depth=3, estimator__min_samples_split=4, estimator__min_samples_leaf=4 \n"
     ]
    },
    {
     "name": "stderr",
     "output_type": "stream",
     "text": [
      "/Users/rob/anaconda/lib/python3.5/site-packages/sklearn/externals/joblib/parallel.py:540: UserWarning: Multiprocessing-backed parallel loops cannot be nested, setting n_jobs=1\n",
      "  **self._backend_args)\n"
     ]
    },
    {
     "name": "stdout",
     "output_type": "stream",
     "text": [
      "[CV]  estimator__n_estimators=10, estimator__max_depth=3, estimator__min_samples_split=4, estimator__min_samples_leaf=4 -   3.5s\n",
      "[CV] estimator__n_estimators=20, estimator__max_depth=3, estimator__min_samples_split=4, estimator__min_samples_leaf=4 \n",
      "[CV]  estimator__n_estimators=50, estimator__max_depth=3, estimator__min_samples_split=2, estimator__min_samples_leaf=4 -  17.7s\n",
      "[CV] estimator__n_estimators=20, estimator__max_depth=3, estimator__min_samples_split=4, estimator__min_samples_leaf=4 \n"
     ]
    },
    {
     "name": "stderr",
     "output_type": "stream",
     "text": [
      "/Users/rob/anaconda/lib/python3.5/site-packages/sklearn/externals/joblib/parallel.py:540: UserWarning: Multiprocessing-backed parallel loops cannot be nested, setting n_jobs=1\n",
      "  **self._backend_args)\n"
     ]
    },
    {
     "name": "stdout",
     "output_type": "stream",
     "text": [
      "[CV]  estimator__n_estimators=50, estimator__max_depth=3, estimator__min_samples_split=2, estimator__min_samples_leaf=4 -  17.7s\n"
     ]
    },
    {
     "name": "stderr",
     "output_type": "stream",
     "text": [
      "/Users/rob/anaconda/lib/python3.5/site-packages/sklearn/externals/joblib/parallel.py:540: UserWarning: Multiprocessing-backed parallel loops cannot be nested, setting n_jobs=1\n",
      "  **self._backend_args)\n"
     ]
    },
    {
     "name": "stdout",
     "output_type": "stream",
     "text": [
      "[CV] estimator__n_estimators=20, estimator__max_depth=3, estimator__min_samples_split=4, estimator__min_samples_leaf=4 \n"
     ]
    },
    {
     "name": "stderr",
     "output_type": "stream",
     "text": [
      "/Users/rob/anaconda/lib/python3.5/site-packages/sklearn/externals/joblib/parallel.py:540: UserWarning: Multiprocessing-backed parallel loops cannot be nested, setting n_jobs=1\n",
      "  **self._backend_args)\n"
     ]
    },
    {
     "name": "stdout",
     "output_type": "stream",
     "text": [
      "[CV]  estimator__n_estimators=50, estimator__max_depth=3, estimator__min_samples_split=2, estimator__min_samples_leaf=4 -  17.8s\n",
      "[CV] estimator__n_estimators=30, estimator__max_depth=3, estimator__min_samples_split=4, estimator__min_samples_leaf=4 \n"
     ]
    },
    {
     "name": "stderr",
     "output_type": "stream",
     "text": [
      "/Users/rob/anaconda/lib/python3.5/site-packages/sklearn/externals/joblib/parallel.py:540: UserWarning: Multiprocessing-backed parallel loops cannot be nested, setting n_jobs=1\n",
      "  **self._backend_args)\n"
     ]
    },
    {
     "name": "stdout",
     "output_type": "stream",
     "text": [
      "[CV]  estimator__n_estimators=20, estimator__max_depth=3, estimator__min_samples_split=4, estimator__min_samples_leaf=4 -   7.0s\n",
      "[CV] estimator__n_estimators=30, estimator__max_depth=3, estimator__min_samples_split=4, estimator__min_samples_leaf=4 \n"
     ]
    },
    {
     "name": "stderr",
     "output_type": "stream",
     "text": [
      "/Users/rob/anaconda/lib/python3.5/site-packages/sklearn/externals/joblib/parallel.py:540: UserWarning: Multiprocessing-backed parallel loops cannot be nested, setting n_jobs=1\n",
      "  **self._backend_args)\n"
     ]
    },
    {
     "name": "stdout",
     "output_type": "stream",
     "text": [
      "[CV]  estimator__n_estimators=50, estimator__max_depth=3, estimator__min_samples_split=2, estimator__min_samples_leaf=4 -  17.6s\n",
      "[CV] estimator__n_estimators=30, estimator__max_depth=3, estimator__min_samples_split=4, estimator__min_samples_leaf=4 \n"
     ]
    },
    {
     "name": "stderr",
     "output_type": "stream",
     "text": [
      "/Users/rob/anaconda/lib/python3.5/site-packages/sklearn/externals/joblib/parallel.py:540: UserWarning: Multiprocessing-backed parallel loops cannot be nested, setting n_jobs=1\n",
      "  **self._backend_args)\n"
     ]
    },
    {
     "name": "stdout",
     "output_type": "stream",
     "text": [
      "[CV]  estimator__n_estimators=20, estimator__max_depth=3, estimator__min_samples_split=4, estimator__min_samples_leaf=4 -   6.9s\n",
      "[CV] estimator__n_estimators=30, estimator__max_depth=3, estimator__min_samples_split=4, estimator__min_samples_leaf=4 \n"
     ]
    },
    {
     "name": "stderr",
     "output_type": "stream",
     "text": [
      "/Users/rob/anaconda/lib/python3.5/site-packages/sklearn/externals/joblib/parallel.py:540: UserWarning: Multiprocessing-backed parallel loops cannot be nested, setting n_jobs=1\n",
      "  **self._backend_args)\n"
     ]
    },
    {
     "name": "stdout",
     "output_type": "stream",
     "text": [
      "[CV]  estimator__n_estimators=50, estimator__max_depth=3, estimator__min_samples_split=2, estimator__min_samples_leaf=4 -  17.4s\n",
      "[CV] estimator__n_estimators=30, estimator__max_depth=3, estimator__min_samples_split=4, estimator__min_samples_leaf=4 \n"
     ]
    },
    {
     "name": "stderr",
     "output_type": "stream",
     "text": [
      "/Users/rob/anaconda/lib/python3.5/site-packages/sklearn/externals/joblib/parallel.py:540: UserWarning: Multiprocessing-backed parallel loops cannot be nested, setting n_jobs=1\n",
      "  **self._backend_args)\n"
     ]
    },
    {
     "name": "stdout",
     "output_type": "stream",
     "text": [
      "[CV]  estimator__n_estimators=20, estimator__max_depth=3, estimator__min_samples_split=4, estimator__min_samples_leaf=4 -   7.1s\n",
      "[CV] estimator__n_estimators=40, estimator__max_depth=3, estimator__min_samples_split=4, estimator__min_samples_leaf=4 \n",
      "[CV]  estimator__n_estimators=20, estimator__max_depth=3, estimator__min_samples_split=4, estimator__min_samples_leaf=4 -   7.0s\n"
     ]
    },
    {
     "name": "stderr",
     "output_type": "stream",
     "text": [
      "/Users/rob/anaconda/lib/python3.5/site-packages/sklearn/externals/joblib/parallel.py:540: UserWarning: Multiprocessing-backed parallel loops cannot be nested, setting n_jobs=1\n",
      "  **self._backend_args)\n"
     ]
    },
    {
     "name": "stdout",
     "output_type": "stream",
     "text": [
      "[CV] estimator__n_estimators=40, estimator__max_depth=3, estimator__min_samples_split=4, estimator__min_samples_leaf=4 \n"
     ]
    },
    {
     "name": "stderr",
     "output_type": "stream",
     "text": [
      "/Users/rob/anaconda/lib/python3.5/site-packages/sklearn/externals/joblib/parallel.py:540: UserWarning: Multiprocessing-backed parallel loops cannot be nested, setting n_jobs=1\n",
      "  **self._backend_args)\n"
     ]
    },
    {
     "name": "stdout",
     "output_type": "stream",
     "text": [
      "[CV]  estimator__n_estimators=20, estimator__max_depth=3, estimator__min_samples_split=4, estimator__min_samples_leaf=4 -   7.0s\n",
      "[CV] estimator__n_estimators=40, estimator__max_depth=3, estimator__min_samples_split=4, estimator__min_samples_leaf=4 \n"
     ]
    },
    {
     "name": "stderr",
     "output_type": "stream",
     "text": [
      "/Users/rob/anaconda/lib/python3.5/site-packages/sklearn/externals/joblib/parallel.py:540: UserWarning: Multiprocessing-backed parallel loops cannot be nested, setting n_jobs=1\n",
      "  **self._backend_args)\n"
     ]
    },
    {
     "name": "stdout",
     "output_type": "stream",
     "text": [
      "[CV]  estimator__n_estimators=30, estimator__max_depth=3, estimator__min_samples_split=4, estimator__min_samples_leaf=4 -  10.3s\n",
      "[CV] estimator__n_estimators=40, estimator__max_depth=3, estimator__min_samples_split=4, estimator__min_samples_leaf=4 \n"
     ]
    },
    {
     "name": "stderr",
     "output_type": "stream",
     "text": [
      "/Users/rob/anaconda/lib/python3.5/site-packages/sklearn/externals/joblib/parallel.py:540: UserWarning: Multiprocessing-backed parallel loops cannot be nested, setting n_jobs=1\n",
      "  **self._backend_args)\n"
     ]
    },
    {
     "name": "stdout",
     "output_type": "stream",
     "text": [
      "[CV]  estimator__n_estimators=30, estimator__max_depth=3, estimator__min_samples_split=4, estimator__min_samples_leaf=4 -  10.2s\n",
      "[CV] estimator__n_estimators=40, estimator__max_depth=3, estimator__min_samples_split=4, estimator__min_samples_leaf=4 \n"
     ]
    },
    {
     "name": "stderr",
     "output_type": "stream",
     "text": [
      "/Users/rob/anaconda/lib/python3.5/site-packages/sklearn/externals/joblib/parallel.py:540: UserWarning: Multiprocessing-backed parallel loops cannot be nested, setting n_jobs=1\n",
      "  **self._backend_args)\n"
     ]
    },
    {
     "name": "stdout",
     "output_type": "stream",
     "text": [
      "[CV]  estimator__n_estimators=30, estimator__max_depth=3, estimator__min_samples_split=4, estimator__min_samples_leaf=4 -  10.3s\n",
      "[CV] estimator__n_estimators=50, estimator__max_depth=3, estimator__min_samples_split=4, estimator__min_samples_leaf=4 \n"
     ]
    },
    {
     "name": "stderr",
     "output_type": "stream",
     "text": [
      "/Users/rob/anaconda/lib/python3.5/site-packages/sklearn/externals/joblib/parallel.py:540: UserWarning: Multiprocessing-backed parallel loops cannot be nested, setting n_jobs=1\n",
      "  **self._backend_args)\n"
     ]
    },
    {
     "name": "stdout",
     "output_type": "stream",
     "text": [
      "[CV]  estimator__n_estimators=30, estimator__max_depth=3, estimator__min_samples_split=4, estimator__min_samples_leaf=4 -  10.4s\n",
      "[CV] estimator__n_estimators=50, estimator__max_depth=3, estimator__min_samples_split=4, estimator__min_samples_leaf=4 \n"
     ]
    },
    {
     "name": "stderr",
     "output_type": "stream",
     "text": [
      "/Users/rob/anaconda/lib/python3.5/site-packages/sklearn/externals/joblib/parallel.py:540: UserWarning: Multiprocessing-backed parallel loops cannot be nested, setting n_jobs=1\n",
      "  **self._backend_args)\n"
     ]
    },
    {
     "name": "stdout",
     "output_type": "stream",
     "text": [
      "[CV]  estimator__n_estimators=30, estimator__max_depth=3, estimator__min_samples_split=4, estimator__min_samples_leaf=4 -  10.3s\n",
      "[CV] estimator__n_estimators=50, estimator__max_depth=3, estimator__min_samples_split=4, estimator__min_samples_leaf=4 \n"
     ]
    },
    {
     "name": "stderr",
     "output_type": "stream",
     "text": [
      "/Users/rob/anaconda/lib/python3.5/site-packages/sklearn/externals/joblib/parallel.py:540: UserWarning: Multiprocessing-backed parallel loops cannot be nested, setting n_jobs=1\n",
      "  **self._backend_args)\n"
     ]
    },
    {
     "name": "stdout",
     "output_type": "stream",
     "text": [
      "[CV]  estimator__n_estimators=40, estimator__max_depth=3, estimator__min_samples_split=4, estimator__min_samples_leaf=4 -  13.7s\n",
      "[CV]  estimator__n_estimators=40, estimator__max_depth=3, estimator__min_samples_split=4, estimator__min_samples_leaf=4 -  13.6s\n",
      "[CV] estimator__n_estimators=50, estimator__max_depth=3, estimator__min_samples_split=4, estimator__min_samples_leaf=4 \n",
      "[CV] estimator__n_estimators=50, estimator__max_depth=3, estimator__min_samples_split=4, estimator__min_samples_leaf=4 \n"
     ]
    },
    {
     "name": "stderr",
     "output_type": "stream",
     "text": [
      "/Users/rob/anaconda/lib/python3.5/site-packages/sklearn/externals/joblib/parallel.py:540: UserWarning: Multiprocessing-backed parallel loops cannot be nested, setting n_jobs=1\n",
      "  **self._backend_args)\n",
      "/Users/rob/anaconda/lib/python3.5/site-packages/sklearn/externals/joblib/parallel.py:540: UserWarning: Multiprocessing-backed parallel loops cannot be nested, setting n_jobs=1\n",
      "  **self._backend_args)\n"
     ]
    },
    {
     "name": "stdout",
     "output_type": "stream",
     "text": [
      "[CV]  estimator__n_estimators=40, estimator__max_depth=3, estimator__min_samples_split=4, estimator__min_samples_leaf=4 -  13.7s\n",
      "[CV] estimator__n_estimators=10, estimator__max_depth=3, estimator__min_samples_split=6, estimator__min_samples_leaf=4 \n"
     ]
    },
    {
     "name": "stderr",
     "output_type": "stream",
     "text": [
      "/Users/rob/anaconda/lib/python3.5/site-packages/sklearn/externals/joblib/parallel.py:540: UserWarning: Multiprocessing-backed parallel loops cannot be nested, setting n_jobs=1\n",
      "  **self._backend_args)\n"
     ]
    },
    {
     "name": "stdout",
     "output_type": "stream",
     "text": [
      "[CV]  estimator__n_estimators=10, estimator__max_depth=3, estimator__min_samples_split=6, estimator__min_samples_leaf=4 -   3.5s\n",
      "[CV] estimator__n_estimators=10, estimator__max_depth=3, estimator__min_samples_split=6, estimator__min_samples_leaf=4 \n",
      "[CV]  estimator__n_estimators=40, estimator__max_depth=3, estimator__min_samples_split=4, estimator__min_samples_leaf=4 -  13.8s\n"
     ]
    },
    {
     "name": "stderr",
     "output_type": "stream",
     "text": [
      "/Users/rob/anaconda/lib/python3.5/site-packages/sklearn/externals/joblib/parallel.py:540: UserWarning: Multiprocessing-backed parallel loops cannot be nested, setting n_jobs=1\n",
      "  **self._backend_args)\n"
     ]
    },
    {
     "name": "stdout",
     "output_type": "stream",
     "text": [
      "[CV] estimator__n_estimators=10, estimator__max_depth=3, estimator__min_samples_split=6, estimator__min_samples_leaf=4 \n"
     ]
    },
    {
     "name": "stderr",
     "output_type": "stream",
     "text": [
      "/Users/rob/anaconda/lib/python3.5/site-packages/sklearn/externals/joblib/parallel.py:540: UserWarning: Multiprocessing-backed parallel loops cannot be nested, setting n_jobs=1\n",
      "  **self._backend_args)\n"
     ]
    },
    {
     "name": "stdout",
     "output_type": "stream",
     "text": [
      "[CV]  estimator__n_estimators=40, estimator__max_depth=3, estimator__min_samples_split=4, estimator__min_samples_leaf=4 -  13.7s\n",
      "[CV] estimator__n_estimators=10, estimator__max_depth=3, estimator__min_samples_split=6, estimator__min_samples_leaf=4 \n",
      "[CV]  estimator__n_estimators=10, estimator__max_depth=3, estimator__min_samples_split=6, estimator__min_samples_leaf=4 -   3.5s\n"
     ]
    },
    {
     "name": "stderr",
     "output_type": "stream",
     "text": [
      "/Users/rob/anaconda/lib/python3.5/site-packages/sklearn/externals/joblib/parallel.py:540: UserWarning: Multiprocessing-backed parallel loops cannot be nested, setting n_jobs=1\n",
      "  **self._backend_args)\n"
     ]
    },
    {
     "name": "stdout",
     "output_type": "stream",
     "text": [
      "[CV] estimator__n_estimators=10, estimator__max_depth=3, estimator__min_samples_split=6, estimator__min_samples_leaf=4 \n"
     ]
    },
    {
     "name": "stderr",
     "output_type": "stream",
     "text": [
      "/Users/rob/anaconda/lib/python3.5/site-packages/sklearn/externals/joblib/parallel.py:540: UserWarning: Multiprocessing-backed parallel loops cannot be nested, setting n_jobs=1\n",
      "  **self._backend_args)\n"
     ]
    },
    {
     "name": "stdout",
     "output_type": "stream",
     "text": [
      "[CV]  estimator__n_estimators=10, estimator__max_depth=3, estimator__min_samples_split=6, estimator__min_samples_leaf=4 -   3.6s\n",
      "[CV] estimator__n_estimators=20, estimator__max_depth=3, estimator__min_samples_split=6, estimator__min_samples_leaf=4 \n"
     ]
    },
    {
     "name": "stderr",
     "output_type": "stream",
     "text": [
      "/Users/rob/anaconda/lib/python3.5/site-packages/sklearn/externals/joblib/parallel.py:540: UserWarning: Multiprocessing-backed parallel loops cannot be nested, setting n_jobs=1\n",
      "  **self._backend_args)\n"
     ]
    },
    {
     "name": "stdout",
     "output_type": "stream",
     "text": [
      "[CV]  estimator__n_estimators=10, estimator__max_depth=3, estimator__min_samples_split=6, estimator__min_samples_leaf=4 -   3.5s\n",
      "[CV] estimator__n_estimators=20, estimator__max_depth=3, estimator__min_samples_split=6, estimator__min_samples_leaf=4 \n",
      "[CV]  estimator__n_estimators=10, estimator__max_depth=3, estimator__min_samples_split=6, estimator__min_samples_leaf=4 -   3.5s\n"
     ]
    },
    {
     "name": "stderr",
     "output_type": "stream",
     "text": [
      "/Users/rob/anaconda/lib/python3.5/site-packages/sklearn/externals/joblib/parallel.py:540: UserWarning: Multiprocessing-backed parallel loops cannot be nested, setting n_jobs=1\n",
      "  **self._backend_args)\n"
     ]
    },
    {
     "name": "stdout",
     "output_type": "stream",
     "text": [
      "[CV] estimator__n_estimators=20, estimator__max_depth=3, estimator__min_samples_split=6, estimator__min_samples_leaf=4 \n"
     ]
    },
    {
     "name": "stderr",
     "output_type": "stream",
     "text": [
      "/Users/rob/anaconda/lib/python3.5/site-packages/sklearn/externals/joblib/parallel.py:540: UserWarning: Multiprocessing-backed parallel loops cannot be nested, setting n_jobs=1\n",
      "  **self._backend_args)\n"
     ]
    },
    {
     "name": "stdout",
     "output_type": "stream",
     "text": [
      "[CV]  estimator__n_estimators=50, estimator__max_depth=3, estimator__min_samples_split=4, estimator__min_samples_leaf=4 -  17.0s\n",
      "[CV] estimator__n_estimators=20, estimator__max_depth=3, estimator__min_samples_split=6, estimator__min_samples_leaf=4 \n"
     ]
    },
    {
     "name": "stderr",
     "output_type": "stream",
     "text": [
      "/Users/rob/anaconda/lib/python3.5/site-packages/sklearn/externals/joblib/parallel.py:540: UserWarning: Multiprocessing-backed parallel loops cannot be nested, setting n_jobs=1\n",
      "  **self._backend_args)\n"
     ]
    },
    {
     "name": "stdout",
     "output_type": "stream",
     "text": [
      "[CV]  estimator__n_estimators=50, estimator__max_depth=3, estimator__min_samples_split=4, estimator__min_samples_leaf=4 -  16.9s\n",
      "[CV] estimator__n_estimators=20, estimator__max_depth=3, estimator__min_samples_split=6, estimator__min_samples_leaf=4 \n"
     ]
    },
    {
     "name": "stderr",
     "output_type": "stream",
     "text": [
      "/Users/rob/anaconda/lib/python3.5/site-packages/sklearn/externals/joblib/parallel.py:540: UserWarning: Multiprocessing-backed parallel loops cannot be nested, setting n_jobs=1\n",
      "  **self._backend_args)\n"
     ]
    },
    {
     "name": "stdout",
     "output_type": "stream",
     "text": [
      "[CV]  estimator__n_estimators=50, estimator__max_depth=3, estimator__min_samples_split=4, estimator__min_samples_leaf=4 -  17.0s\n",
      "[CV] estimator__n_estimators=30, estimator__max_depth=3, estimator__min_samples_split=6, estimator__min_samples_leaf=4 \n"
     ]
    },
    {
     "name": "stderr",
     "output_type": "stream",
     "text": [
      "/Users/rob/anaconda/lib/python3.5/site-packages/sklearn/externals/joblib/parallel.py:540: UserWarning: Multiprocessing-backed parallel loops cannot be nested, setting n_jobs=1\n",
      "  **self._backend_args)\n"
     ]
    },
    {
     "name": "stdout",
     "output_type": "stream",
     "text": [
      "[CV]  estimator__n_estimators=20, estimator__max_depth=3, estimator__min_samples_split=6, estimator__min_samples_leaf=4 -   6.8s\n",
      "[CV] estimator__n_estimators=30, estimator__max_depth=3, estimator__min_samples_split=6, estimator__min_samples_leaf=4 \n"
     ]
    },
    {
     "name": "stderr",
     "output_type": "stream",
     "text": [
      "/Users/rob/anaconda/lib/python3.5/site-packages/sklearn/externals/joblib/parallel.py:540: UserWarning: Multiprocessing-backed parallel loops cannot be nested, setting n_jobs=1\n",
      "  **self._backend_args)\n"
     ]
    },
    {
     "name": "stdout",
     "output_type": "stream",
     "text": [
      "[CV]  estimator__n_estimators=50, estimator__max_depth=3, estimator__min_samples_split=4, estimator__min_samples_leaf=4 -  16.8s\n",
      "[CV] estimator__n_estimators=30, estimator__max_depth=3, estimator__min_samples_split=6, estimator__min_samples_leaf=4 \n",
      "[CV]  estimator__n_estimators=50, estimator__max_depth=3, estimator__min_samples_split=4, estimator__min_samples_leaf=4 -  16.9s\n",
      "[CV] estimator__n_estimators=30, estimator__max_depth=3, estimator__min_samples_split=6, estimator__min_samples_leaf=4 \n"
     ]
    },
    {
     "name": "stderr",
     "output_type": "stream",
     "text": [
      "/Users/rob/anaconda/lib/python3.5/site-packages/sklearn/externals/joblib/parallel.py:540: UserWarning: Multiprocessing-backed parallel loops cannot be nested, setting n_jobs=1\n",
      "  **self._backend_args)\n",
      "/Users/rob/anaconda/lib/python3.5/site-packages/sklearn/externals/joblib/parallel.py:540: UserWarning: Multiprocessing-backed parallel loops cannot be nested, setting n_jobs=1\n",
      "  **self._backend_args)\n"
     ]
    },
    {
     "name": "stdout",
     "output_type": "stream",
     "text": [
      "[CV]  estimator__n_estimators=20, estimator__max_depth=3, estimator__min_samples_split=6, estimator__min_samples_leaf=4 -   6.9s\n",
      "[CV] estimator__n_estimators=30, estimator__max_depth=3, estimator__min_samples_split=6, estimator__min_samples_leaf=4 \n"
     ]
    },
    {
     "name": "stderr",
     "output_type": "stream",
     "text": [
      "/Users/rob/anaconda/lib/python3.5/site-packages/sklearn/externals/joblib/parallel.py:540: UserWarning: Multiprocessing-backed parallel loops cannot be nested, setting n_jobs=1\n",
      "  **self._backend_args)\n"
     ]
    },
    {
     "name": "stdout",
     "output_type": "stream",
     "text": [
      "[CV]  estimator__n_estimators=20, estimator__max_depth=3, estimator__min_samples_split=6, estimator__min_samples_leaf=4 -   7.0s\n",
      "[CV] estimator__n_estimators=40, estimator__max_depth=3, estimator__min_samples_split=6, estimator__min_samples_leaf=4 \n"
     ]
    },
    {
     "name": "stderr",
     "output_type": "stream",
     "text": [
      "/Users/rob/anaconda/lib/python3.5/site-packages/sklearn/externals/joblib/parallel.py:540: UserWarning: Multiprocessing-backed parallel loops cannot be nested, setting n_jobs=1\n",
      "  **self._backend_args)\n"
     ]
    },
    {
     "name": "stdout",
     "output_type": "stream",
     "text": [
      "[CV]  estimator__n_estimators=20, estimator__max_depth=3, estimator__min_samples_split=6, estimator__min_samples_leaf=4 -   7.0s\n",
      "[CV] estimator__n_estimators=40, estimator__max_depth=3, estimator__min_samples_split=6, estimator__min_samples_leaf=4 \n"
     ]
    },
    {
     "name": "stderr",
     "output_type": "stream",
     "text": [
      "/Users/rob/anaconda/lib/python3.5/site-packages/sklearn/externals/joblib/parallel.py:540: UserWarning: Multiprocessing-backed parallel loops cannot be nested, setting n_jobs=1\n",
      "  **self._backend_args)\n"
     ]
    },
    {
     "name": "stdout",
     "output_type": "stream",
     "text": [
      "[CV]  estimator__n_estimators=20, estimator__max_depth=3, estimator__min_samples_split=6, estimator__min_samples_leaf=4 -   7.0s\n",
      "[CV] estimator__n_estimators=40, estimator__max_depth=3, estimator__min_samples_split=6, estimator__min_samples_leaf=4 \n"
     ]
    },
    {
     "name": "stderr",
     "output_type": "stream",
     "text": [
      "/Users/rob/anaconda/lib/python3.5/site-packages/sklearn/externals/joblib/parallel.py:540: UserWarning: Multiprocessing-backed parallel loops cannot be nested, setting n_jobs=1\n",
      "  **self._backend_args)\n"
     ]
    },
    {
     "name": "stdout",
     "output_type": "stream",
     "text": [
      "[CV]  estimator__n_estimators=30, estimator__max_depth=3, estimator__min_samples_split=6, estimator__min_samples_leaf=4 -  10.4s\n",
      "[CV] estimator__n_estimators=40, estimator__max_depth=3, estimator__min_samples_split=6, estimator__min_samples_leaf=4 \n"
     ]
    },
    {
     "name": "stderr",
     "output_type": "stream",
     "text": [
      "/Users/rob/anaconda/lib/python3.5/site-packages/sklearn/externals/joblib/parallel.py:540: UserWarning: Multiprocessing-backed parallel loops cannot be nested, setting n_jobs=1\n",
      "  **self._backend_args)\n"
     ]
    },
    {
     "name": "stdout",
     "output_type": "stream",
     "text": [
      "[CV]  estimator__n_estimators=30, estimator__max_depth=3, estimator__min_samples_split=6, estimator__min_samples_leaf=4 -  10.5s\n",
      "[CV] estimator__n_estimators=40, estimator__max_depth=3, estimator__min_samples_split=6, estimator__min_samples_leaf=4 \n"
     ]
    },
    {
     "name": "stderr",
     "output_type": "stream",
     "text": [
      "/Users/rob/anaconda/lib/python3.5/site-packages/sklearn/externals/joblib/parallel.py:540: UserWarning: Multiprocessing-backed parallel loops cannot be nested, setting n_jobs=1\n",
      "  **self._backend_args)\n"
     ]
    },
    {
     "name": "stdout",
     "output_type": "stream",
     "text": [
      "[CV]  estimator__n_estimators=30, estimator__max_depth=3, estimator__min_samples_split=6, estimator__min_samples_leaf=4 -  10.6s\n",
      "[CV] estimator__n_estimators=50, estimator__max_depth=3, estimator__min_samples_split=6, estimator__min_samples_leaf=4 \n",
      "[CV]  estimator__n_estimators=30, estimator__max_depth=3, estimator__min_samples_split=6, estimator__min_samples_leaf=4 -  10.5s\n"
     ]
    },
    {
     "name": "stderr",
     "output_type": "stream",
     "text": [
      "/Users/rob/anaconda/lib/python3.5/site-packages/sklearn/externals/joblib/parallel.py:540: UserWarning: Multiprocessing-backed parallel loops cannot be nested, setting n_jobs=1\n",
      "  **self._backend_args)\n"
     ]
    },
    {
     "name": "stdout",
     "output_type": "stream",
     "text": [
      "[CV] estimator__n_estimators=50, estimator__max_depth=3, estimator__min_samples_split=6, estimator__min_samples_leaf=4 \n"
     ]
    },
    {
     "name": "stderr",
     "output_type": "stream",
     "text": [
      "/Users/rob/anaconda/lib/python3.5/site-packages/sklearn/externals/joblib/parallel.py:540: UserWarning: Multiprocessing-backed parallel loops cannot be nested, setting n_jobs=1\n",
      "  **self._backend_args)\n"
     ]
    },
    {
     "name": "stdout",
     "output_type": "stream",
     "text": [
      "[CV]  estimator__n_estimators=30, estimator__max_depth=3, estimator__min_samples_split=6, estimator__min_samples_leaf=4 -  10.4s\n",
      "[CV] estimator__n_estimators=50, estimator__max_depth=3, estimator__min_samples_split=6, estimator__min_samples_leaf=4 \n"
     ]
    },
    {
     "name": "stderr",
     "output_type": "stream",
     "text": [
      "/Users/rob/anaconda/lib/python3.5/site-packages/sklearn/externals/joblib/parallel.py:540: UserWarning: Multiprocessing-backed parallel loops cannot be nested, setting n_jobs=1\n",
      "  **self._backend_args)\n"
     ]
    },
    {
     "name": "stdout",
     "output_type": "stream",
     "text": [
      "[CV]  estimator__n_estimators=40, estimator__max_depth=3, estimator__min_samples_split=6, estimator__min_samples_leaf=4 -  13.9s\n",
      "[CV] estimator__n_estimators=50, estimator__max_depth=3, estimator__min_samples_split=6, estimator__min_samples_leaf=4 \n"
     ]
    },
    {
     "name": "stderr",
     "output_type": "stream",
     "text": [
      "/Users/rob/anaconda/lib/python3.5/site-packages/sklearn/externals/joblib/parallel.py:540: UserWarning: Multiprocessing-backed parallel loops cannot be nested, setting n_jobs=1\n",
      "  **self._backend_args)\n"
     ]
    },
    {
     "name": "stdout",
     "output_type": "stream",
     "text": [
      "[CV]  estimator__n_estimators=40, estimator__max_depth=3, estimator__min_samples_split=6, estimator__min_samples_leaf=4 -  13.9s\n",
      "[CV] estimator__n_estimators=50, estimator__max_depth=3, estimator__min_samples_split=6, estimator__min_samples_leaf=4 \n"
     ]
    },
    {
     "name": "stderr",
     "output_type": "stream",
     "text": [
      "/Users/rob/anaconda/lib/python3.5/site-packages/sklearn/externals/joblib/parallel.py:540: UserWarning: Multiprocessing-backed parallel loops cannot be nested, setting n_jobs=1\n",
      "  **self._backend_args)\n"
     ]
    },
    {
     "name": "stdout",
     "output_type": "stream",
     "text": [
      "[CV]  estimator__n_estimators=40, estimator__max_depth=3, estimator__min_samples_split=6, estimator__min_samples_leaf=4 -  14.0s\n",
      "[CV] estimator__n_estimators=10, estimator__max_depth=6, estimator__min_samples_split=2, estimator__min_samples_leaf=1 \n"
     ]
    },
    {
     "name": "stderr",
     "output_type": "stream",
     "text": [
      "/Users/rob/anaconda/lib/python3.5/site-packages/sklearn/externals/joblib/parallel.py:540: UserWarning: Multiprocessing-backed parallel loops cannot be nested, setting n_jobs=1\n",
      "  **self._backend_args)\n"
     ]
    },
    {
     "name": "stdout",
     "output_type": "stream",
     "text": [
      "[CV]  estimator__n_estimators=40, estimator__max_depth=3, estimator__min_samples_split=6, estimator__min_samples_leaf=4 -  13.9s\n",
      "[CV] estimator__n_estimators=10, estimator__max_depth=6, estimator__min_samples_split=2, estimator__min_samples_leaf=1 \n"
     ]
    },
    {
     "name": "stderr",
     "output_type": "stream",
     "text": [
      "/Users/rob/anaconda/lib/python3.5/site-packages/sklearn/externals/joblib/parallel.py:540: UserWarning: Multiprocessing-backed parallel loops cannot be nested, setting n_jobs=1\n",
      "  **self._backend_args)\n"
     ]
    },
    {
     "name": "stdout",
     "output_type": "stream",
     "text": [
      "[CV]  estimator__n_estimators=40, estimator__max_depth=3, estimator__min_samples_split=6, estimator__min_samples_leaf=4 -  13.7s\n",
      "[CV] estimator__n_estimators=10, estimator__max_depth=6, estimator__min_samples_split=2, estimator__min_samples_leaf=1 \n"
     ]
    },
    {
     "name": "stderr",
     "output_type": "stream",
     "text": [
      "/Users/rob/anaconda/lib/python3.5/site-packages/sklearn/externals/joblib/parallel.py:540: UserWarning: Multiprocessing-backed parallel loops cannot be nested, setting n_jobs=1\n",
      "  **self._backend_args)\n"
     ]
    },
    {
     "name": "stdout",
     "output_type": "stream",
     "text": [
      "[CV]  estimator__n_estimators=10, estimator__max_depth=6, estimator__min_samples_split=2, estimator__min_samples_leaf=1 -   6.6s\n",
      "[CV] estimator__n_estimators=10, estimator__max_depth=6, estimator__min_samples_split=2, estimator__min_samples_leaf=1 \n"
     ]
    },
    {
     "name": "stderr",
     "output_type": "stream",
     "text": [
      "/Users/rob/anaconda/lib/python3.5/site-packages/sklearn/externals/joblib/parallel.py:540: UserWarning: Multiprocessing-backed parallel loops cannot be nested, setting n_jobs=1\n",
      "  **self._backend_args)\n"
     ]
    },
    {
     "name": "stdout",
     "output_type": "stream",
     "text": [
      "[CV]  estimator__n_estimators=10, estimator__max_depth=6, estimator__min_samples_split=2, estimator__min_samples_leaf=1 -   6.6s\n",
      "[CV] estimator__n_estimators=10, estimator__max_depth=6, estimator__min_samples_split=2, estimator__min_samples_leaf=1 \n"
     ]
    },
    {
     "name": "stderr",
     "output_type": "stream",
     "text": [
      "/Users/rob/anaconda/lib/python3.5/site-packages/sklearn/externals/joblib/parallel.py:540: UserWarning: Multiprocessing-backed parallel loops cannot be nested, setting n_jobs=1\n",
      "  **self._backend_args)\n"
     ]
    },
    {
     "name": "stdout",
     "output_type": "stream",
     "text": [
      "[CV]  estimator__n_estimators=50, estimator__max_depth=3, estimator__min_samples_split=6, estimator__min_samples_leaf=4 -  17.2s\n",
      "[CV] estimator__n_estimators=20, estimator__max_depth=6, estimator__min_samples_split=2, estimator__min_samples_leaf=1 \n"
     ]
    },
    {
     "name": "stderr",
     "output_type": "stream",
     "text": [
      "/Users/rob/anaconda/lib/python3.5/site-packages/sklearn/externals/joblib/parallel.py:540: UserWarning: Multiprocessing-backed parallel loops cannot be nested, setting n_jobs=1\n",
      "  **self._backend_args)\n"
     ]
    },
    {
     "name": "stdout",
     "output_type": "stream",
     "text": [
      "[CV]  estimator__n_estimators=50, estimator__max_depth=3, estimator__min_samples_split=6, estimator__min_samples_leaf=4 -  17.2s\n",
      "[CV] estimator__n_estimators=20, estimator__max_depth=6, estimator__min_samples_split=2, estimator__min_samples_leaf=1 \n"
     ]
    },
    {
     "name": "stderr",
     "output_type": "stream",
     "text": [
      "/Users/rob/anaconda/lib/python3.5/site-packages/sklearn/externals/joblib/parallel.py:540: UserWarning: Multiprocessing-backed parallel loops cannot be nested, setting n_jobs=1\n",
      "  **self._backend_args)\n"
     ]
    },
    {
     "name": "stdout",
     "output_type": "stream",
     "text": [
      "[CV]  estimator__n_estimators=10, estimator__max_depth=6, estimator__min_samples_split=2, estimator__min_samples_leaf=1 -   6.7s\n",
      "[CV] estimator__n_estimators=20, estimator__max_depth=6, estimator__min_samples_split=2, estimator__min_samples_leaf=1 \n"
     ]
    },
    {
     "name": "stderr",
     "output_type": "stream",
     "text": [
      "/Users/rob/anaconda/lib/python3.5/site-packages/sklearn/externals/joblib/parallel.py:540: UserWarning: Multiprocessing-backed parallel loops cannot be nested, setting n_jobs=1\n",
      "  **self._backend_args)\n"
     ]
    },
    {
     "name": "stdout",
     "output_type": "stream",
     "text": [
      "[CV]  estimator__n_estimators=50, estimator__max_depth=3, estimator__min_samples_split=6, estimator__min_samples_leaf=4 -  17.5s\n",
      "[CV] estimator__n_estimators=20, estimator__max_depth=6, estimator__min_samples_split=2, estimator__min_samples_leaf=1 \n"
     ]
    },
    {
     "name": "stderr",
     "output_type": "stream",
     "text": [
      "/Users/rob/anaconda/lib/python3.5/site-packages/sklearn/externals/joblib/parallel.py:540: UserWarning: Multiprocessing-backed parallel loops cannot be nested, setting n_jobs=1\n",
      "  **self._backend_args)\n"
     ]
    },
    {
     "name": "stdout",
     "output_type": "stream",
     "text": [
      "[CV]  estimator__n_estimators=10, estimator__max_depth=6, estimator__min_samples_split=2, estimator__min_samples_leaf=1 -   6.7s\n",
      "[CV] estimator__n_estimators=20, estimator__max_depth=6, estimator__min_samples_split=2, estimator__min_samples_leaf=1 \n"
     ]
    },
    {
     "name": "stderr",
     "output_type": "stream",
     "text": [
      "/Users/rob/anaconda/lib/python3.5/site-packages/sklearn/externals/joblib/parallel.py:540: UserWarning: Multiprocessing-backed parallel loops cannot be nested, setting n_jobs=1\n",
      "  **self._backend_args)\n"
     ]
    },
    {
     "name": "stdout",
     "output_type": "stream",
     "text": [
      "[CV]  estimator__n_estimators=50, estimator__max_depth=3, estimator__min_samples_split=6, estimator__min_samples_leaf=4 -  17.2s\n",
      "[CV] estimator__n_estimators=30, estimator__max_depth=6, estimator__min_samples_split=2, estimator__min_samples_leaf=1 \n"
     ]
    },
    {
     "name": "stderr",
     "output_type": "stream",
     "text": [
      "/Users/rob/anaconda/lib/python3.5/site-packages/sklearn/externals/joblib/parallel.py:540: UserWarning: Multiprocessing-backed parallel loops cannot be nested, setting n_jobs=1\n",
      "  **self._backend_args)\n"
     ]
    },
    {
     "name": "stdout",
     "output_type": "stream",
     "text": [
      "[CV]  estimator__n_estimators=50, estimator__max_depth=3, estimator__min_samples_split=6, estimator__min_samples_leaf=4 -  17.2s\n",
      "[CV] estimator__n_estimators=30, estimator__max_depth=6, estimator__min_samples_split=2, estimator__min_samples_leaf=1 \n"
     ]
    },
    {
     "name": "stderr",
     "output_type": "stream",
     "text": [
      "/Users/rob/anaconda/lib/python3.5/site-packages/sklearn/externals/joblib/parallel.py:540: UserWarning: Multiprocessing-backed parallel loops cannot be nested, setting n_jobs=1\n",
      "  **self._backend_args)\n"
     ]
    },
    {
     "name": "stdout",
     "output_type": "stream",
     "text": [
      "[CV]  estimator__n_estimators=10, estimator__max_depth=6, estimator__min_samples_split=2, estimator__min_samples_leaf=1 -   6.6s\n",
      "[CV] estimator__n_estimators=30, estimator__max_depth=6, estimator__min_samples_split=2, estimator__min_samples_leaf=1 \n"
     ]
    },
    {
     "name": "stderr",
     "output_type": "stream",
     "text": [
      "/Users/rob/anaconda/lib/python3.5/site-packages/sklearn/externals/joblib/parallel.py:540: UserWarning: Multiprocessing-backed parallel loops cannot be nested, setting n_jobs=1\n",
      "  **self._backend_args)\n"
     ]
    },
    {
     "name": "stdout",
     "output_type": "stream",
     "text": [
      "[CV]  estimator__n_estimators=20, estimator__max_depth=6, estimator__min_samples_split=2, estimator__min_samples_leaf=1 -  12.9s\n",
      "[CV] estimator__n_estimators=30, estimator__max_depth=6, estimator__min_samples_split=2, estimator__min_samples_leaf=1 \n",
      "[CV]  estimator__n_estimators=20, estimator__max_depth=6, estimator__min_samples_split=2, estimator__min_samples_leaf=1 -  12.8s\n",
      "[CV] estimator__n_estimators=30, estimator__max_depth=6, estimator__min_samples_split=2, estimator__min_samples_leaf=1 \n"
     ]
    },
    {
     "name": "stderr",
     "output_type": "stream",
     "text": [
      "/Users/rob/anaconda/lib/python3.5/site-packages/sklearn/externals/joblib/parallel.py:540: UserWarning: Multiprocessing-backed parallel loops cannot be nested, setting n_jobs=1\n",
      "  **self._backend_args)\n",
      "/Users/rob/anaconda/lib/python3.5/site-packages/sklearn/externals/joblib/parallel.py:540: UserWarning: Multiprocessing-backed parallel loops cannot be nested, setting n_jobs=1\n",
      "  **self._backend_args)\n"
     ]
    },
    {
     "name": "stdout",
     "output_type": "stream",
     "text": [
      "[CV]  estimator__n_estimators=20, estimator__max_depth=6, estimator__min_samples_split=2, estimator__min_samples_leaf=1 -  13.1s\n",
      "[CV] estimator__n_estimators=40, estimator__max_depth=6, estimator__min_samples_split=2, estimator__min_samples_leaf=1 \n"
     ]
    },
    {
     "name": "stderr",
     "output_type": "stream",
     "text": [
      "/Users/rob/anaconda/lib/python3.5/site-packages/sklearn/externals/joblib/parallel.py:540: UserWarning: Multiprocessing-backed parallel loops cannot be nested, setting n_jobs=1\n",
      "  **self._backend_args)\n"
     ]
    },
    {
     "name": "stdout",
     "output_type": "stream",
     "text": [
      "[CV]  estimator__n_estimators=20, estimator__max_depth=6, estimator__min_samples_split=2, estimator__min_samples_leaf=1 -  13.0s\n",
      "[CV] estimator__n_estimators=40, estimator__max_depth=6, estimator__min_samples_split=2, estimator__min_samples_leaf=1 \n"
     ]
    },
    {
     "name": "stderr",
     "output_type": "stream",
     "text": [
      "/Users/rob/anaconda/lib/python3.5/site-packages/sklearn/externals/joblib/parallel.py:540: UserWarning: Multiprocessing-backed parallel loops cannot be nested, setting n_jobs=1\n",
      "  **self._backend_args)\n"
     ]
    },
    {
     "name": "stdout",
     "output_type": "stream",
     "text": [
      "[CV]  estimator__n_estimators=20, estimator__max_depth=6, estimator__min_samples_split=2, estimator__min_samples_leaf=1 -  12.8s\n",
      "[CV] estimator__n_estimators=40, estimator__max_depth=6, estimator__min_samples_split=2, estimator__min_samples_leaf=1 \n"
     ]
    },
    {
     "name": "stderr",
     "output_type": "stream",
     "text": [
      "/Users/rob/anaconda/lib/python3.5/site-packages/sklearn/externals/joblib/parallel.py:540: UserWarning: Multiprocessing-backed parallel loops cannot be nested, setting n_jobs=1\n",
      "  **self._backend_args)\n"
     ]
    },
    {
     "name": "stdout",
     "output_type": "stream",
     "text": [
      "[CV]  estimator__n_estimators=30, estimator__max_depth=6, estimator__min_samples_split=2, estimator__min_samples_leaf=1 -  19.0s\n",
      "[CV] estimator__n_estimators=40, estimator__max_depth=6, estimator__min_samples_split=2, estimator__min_samples_leaf=1 \n"
     ]
    },
    {
     "name": "stderr",
     "output_type": "stream",
     "text": [
      "/Users/rob/anaconda/lib/python3.5/site-packages/sklearn/externals/joblib/parallel.py:540: UserWarning: Multiprocessing-backed parallel loops cannot be nested, setting n_jobs=1\n",
      "  **self._backend_args)\n"
     ]
    },
    {
     "name": "stdout",
     "output_type": "stream",
     "text": [
      "[CV]  estimator__n_estimators=30, estimator__max_depth=6, estimator__min_samples_split=2, estimator__min_samples_leaf=1 -  19.0s\n",
      "[CV] estimator__n_estimators=40, estimator__max_depth=6, estimator__min_samples_split=2, estimator__min_samples_leaf=1 \n"
     ]
    },
    {
     "name": "stderr",
     "output_type": "stream",
     "text": [
      "/Users/rob/anaconda/lib/python3.5/site-packages/sklearn/externals/joblib/parallel.py:540: UserWarning: Multiprocessing-backed parallel loops cannot be nested, setting n_jobs=1\n",
      "  **self._backend_args)\n"
     ]
    },
    {
     "name": "stdout",
     "output_type": "stream",
     "text": [
      "[CV]  estimator__n_estimators=30, estimator__max_depth=6, estimator__min_samples_split=2, estimator__min_samples_leaf=1 -  19.2s\n",
      "[CV] estimator__n_estimators=50, estimator__max_depth=6, estimator__min_samples_split=2, estimator__min_samples_leaf=1 \n"
     ]
    },
    {
     "name": "stderr",
     "output_type": "stream",
     "text": [
      "/Users/rob/anaconda/lib/python3.5/site-packages/sklearn/externals/joblib/parallel.py:540: UserWarning: Multiprocessing-backed parallel loops cannot be nested, setting n_jobs=1\n",
      "  **self._backend_args)\n"
     ]
    },
    {
     "name": "stdout",
     "output_type": "stream",
     "text": [
      "[CV]  estimator__n_estimators=30, estimator__max_depth=6, estimator__min_samples_split=2, estimator__min_samples_leaf=1 -  19.0s\n",
      "[CV] estimator__n_estimators=50, estimator__max_depth=6, estimator__min_samples_split=2, estimator__min_samples_leaf=1 \n",
      "[CV]  estimator__n_estimators=30, estimator__max_depth=6, estimator__min_samples_split=2, estimator__min_samples_leaf=1 -  19.2s\n",
      "[CV] estimator__n_estimators=50, estimator__max_depth=6, estimator__min_samples_split=2, estimator__min_samples_leaf=1 \n"
     ]
    },
    {
     "name": "stderr",
     "output_type": "stream",
     "text": [
      "/Users/rob/anaconda/lib/python3.5/site-packages/sklearn/externals/joblib/parallel.py:540: UserWarning: Multiprocessing-backed parallel loops cannot be nested, setting n_jobs=1\n",
      "  **self._backend_args)\n",
      "/Users/rob/anaconda/lib/python3.5/site-packages/sklearn/externals/joblib/parallel.py:540: UserWarning: Multiprocessing-backed parallel loops cannot be nested, setting n_jobs=1\n",
      "  **self._backend_args)\n"
     ]
    },
    {
     "name": "stdout",
     "output_type": "stream",
     "text": [
      "[CV]  estimator__n_estimators=40, estimator__max_depth=6, estimator__min_samples_split=2, estimator__min_samples_leaf=1 -  25.5s\n",
      "[CV] estimator__n_estimators=50, estimator__max_depth=6, estimator__min_samples_split=2, estimator__min_samples_leaf=1 \n",
      "[CV]  estimator__n_estimators=40, estimator__max_depth=6, estimator__min_samples_split=2, estimator__min_samples_leaf=1 -  25.5s\n",
      "[CV] estimator__n_estimators=50, estimator__max_depth=6, estimator__min_samples_split=2, estimator__min_samples_leaf=1 \n"
     ]
    },
    {
     "name": "stderr",
     "output_type": "stream",
     "text": [
      "/Users/rob/anaconda/lib/python3.5/site-packages/sklearn/externals/joblib/parallel.py:540: UserWarning: Multiprocessing-backed parallel loops cannot be nested, setting n_jobs=1\n",
      "  **self._backend_args)\n",
      "/Users/rob/anaconda/lib/python3.5/site-packages/sklearn/externals/joblib/parallel.py:540: UserWarning: Multiprocessing-backed parallel loops cannot be nested, setting n_jobs=1\n",
      "  **self._backend_args)\n"
     ]
    },
    {
     "name": "stdout",
     "output_type": "stream",
     "text": [
      "[CV]  estimator__n_estimators=40, estimator__max_depth=6, estimator__min_samples_split=2, estimator__min_samples_leaf=1 -  25.6s\n",
      "[CV] estimator__n_estimators=10, estimator__max_depth=6, estimator__min_samples_split=4, estimator__min_samples_leaf=1 \n"
     ]
    },
    {
     "name": "stderr",
     "output_type": "stream",
     "text": [
      "/Users/rob/anaconda/lib/python3.5/site-packages/sklearn/externals/joblib/parallel.py:540: UserWarning: Multiprocessing-backed parallel loops cannot be nested, setting n_jobs=1\n",
      "  **self._backend_args)\n"
     ]
    },
    {
     "name": "stdout",
     "output_type": "stream",
     "text": [
      "[CV]  estimator__n_estimators=10, estimator__max_depth=6, estimator__min_samples_split=4, estimator__min_samples_leaf=1 -   6.4s\n",
      "[CV] estimator__n_estimators=10, estimator__max_depth=6, estimator__min_samples_split=4, estimator__min_samples_leaf=1 \n"
     ]
    },
    {
     "name": "stderr",
     "output_type": "stream",
     "text": [
      "/Users/rob/anaconda/lib/python3.5/site-packages/sklearn/externals/joblib/parallel.py:540: UserWarning: Multiprocessing-backed parallel loops cannot be nested, setting n_jobs=1\n",
      "  **self._backend_args)\n"
     ]
    },
    {
     "name": "stdout",
     "output_type": "stream",
     "text": [
      "[CV]  estimator__n_estimators=40, estimator__max_depth=6, estimator__min_samples_split=2, estimator__min_samples_leaf=1 -  25.7s\n",
      "[CV] estimator__n_estimators=10, estimator__max_depth=6, estimator__min_samples_split=4, estimator__min_samples_leaf=1 \n",
      "[CV]  estimator__n_estimators=40, estimator__max_depth=6, estimator__min_samples_split=2, estimator__min_samples_leaf=1 -  25.6s\n",
      "[CV] estimator__n_estimators=10, estimator__max_depth=6, estimator__min_samples_split=4, estimator__min_samples_leaf=1 \n"
     ]
    },
    {
     "name": "stderr",
     "output_type": "stream",
     "text": [
      "/Users/rob/anaconda/lib/python3.5/site-packages/sklearn/externals/joblib/parallel.py:540: UserWarning: Multiprocessing-backed parallel loops cannot be nested, setting n_jobs=1\n",
      "  **self._backend_args)\n",
      "/Users/rob/anaconda/lib/python3.5/site-packages/sklearn/externals/joblib/parallel.py:540: UserWarning: Multiprocessing-backed parallel loops cannot be nested, setting n_jobs=1\n",
      "  **self._backend_args)\n"
     ]
    },
    {
     "name": "stdout",
     "output_type": "stream",
     "text": [
      "[CV]  estimator__n_estimators=10, estimator__max_depth=6, estimator__min_samples_split=4, estimator__min_samples_leaf=1 -   6.5s\n",
      "[CV] estimator__n_estimators=10, estimator__max_depth=6, estimator__min_samples_split=4, estimator__min_samples_leaf=1 \n"
     ]
    },
    {
     "name": "stderr",
     "output_type": "stream",
     "text": [
      "/Users/rob/anaconda/lib/python3.5/site-packages/sklearn/externals/joblib/parallel.py:540: UserWarning: Multiprocessing-backed parallel loops cannot be nested, setting n_jobs=1\n",
      "  **self._backend_args)\n"
     ]
    },
    {
     "name": "stdout",
     "output_type": "stream",
     "text": [
      "[CV]  estimator__n_estimators=10, estimator__max_depth=6, estimator__min_samples_split=4, estimator__min_samples_leaf=1 -   6.6s\n",
      "[CV] estimator__n_estimators=20, estimator__max_depth=6, estimator__min_samples_split=4, estimator__min_samples_leaf=1 \n"
     ]
    },
    {
     "name": "stderr",
     "output_type": "stream",
     "text": [
      "/Users/rob/anaconda/lib/python3.5/site-packages/sklearn/externals/joblib/parallel.py:540: UserWarning: Multiprocessing-backed parallel loops cannot be nested, setting n_jobs=1\n",
      "  **self._backend_args)\n"
     ]
    },
    {
     "name": "stdout",
     "output_type": "stream",
     "text": [
      "[CV]  estimator__n_estimators=10, estimator__max_depth=6, estimator__min_samples_split=4, estimator__min_samples_leaf=1 -   6.6s\n",
      "[CV] estimator__n_estimators=20, estimator__max_depth=6, estimator__min_samples_split=4, estimator__min_samples_leaf=1 \n"
     ]
    },
    {
     "name": "stderr",
     "output_type": "stream",
     "text": [
      "/Users/rob/anaconda/lib/python3.5/site-packages/sklearn/externals/joblib/parallel.py:540: UserWarning: Multiprocessing-backed parallel loops cannot be nested, setting n_jobs=1\n",
      "  **self._backend_args)\n"
     ]
    },
    {
     "name": "stdout",
     "output_type": "stream",
     "text": [
      "[CV]  estimator__n_estimators=50, estimator__max_depth=6, estimator__min_samples_split=2, estimator__min_samples_leaf=1 -  31.9s\n",
      "[CV] estimator__n_estimators=20, estimator__max_depth=6, estimator__min_samples_split=4, estimator__min_samples_leaf=1 \n"
     ]
    },
    {
     "name": "stderr",
     "output_type": "stream",
     "text": [
      "/Users/rob/anaconda/lib/python3.5/site-packages/sklearn/externals/joblib/parallel.py:540: UserWarning: Multiprocessing-backed parallel loops cannot be nested, setting n_jobs=1\n",
      "  **self._backend_args)\n"
     ]
    },
    {
     "name": "stdout",
     "output_type": "stream",
     "text": [
      "[CV]  estimator__n_estimators=10, estimator__max_depth=6, estimator__min_samples_split=4, estimator__min_samples_leaf=1 -   6.5s\n",
      "[CV] estimator__n_estimators=20, estimator__max_depth=6, estimator__min_samples_split=4, estimator__min_samples_leaf=1 \n"
     ]
    },
    {
     "name": "stderr",
     "output_type": "stream",
     "text": [
      "/Users/rob/anaconda/lib/python3.5/site-packages/sklearn/externals/joblib/parallel.py:540: UserWarning: Multiprocessing-backed parallel loops cannot be nested, setting n_jobs=1\n",
      "  **self._backend_args)\n"
     ]
    },
    {
     "name": "stdout",
     "output_type": "stream",
     "text": [
      "[CV]  estimator__n_estimators=50, estimator__max_depth=6, estimator__min_samples_split=2, estimator__min_samples_leaf=1 -  31.9s\n",
      "[CV] estimator__n_estimators=20, estimator__max_depth=6, estimator__min_samples_split=4, estimator__min_samples_leaf=1 \n"
     ]
    },
    {
     "name": "stderr",
     "output_type": "stream",
     "text": [
      "/Users/rob/anaconda/lib/python3.5/site-packages/sklearn/externals/joblib/parallel.py:540: UserWarning: Multiprocessing-backed parallel loops cannot be nested, setting n_jobs=1\n",
      "  **self._backend_args)\n"
     ]
    },
    {
     "name": "stdout",
     "output_type": "stream",
     "text": [
      "[CV]  estimator__n_estimators=50, estimator__max_depth=6, estimator__min_samples_split=2, estimator__min_samples_leaf=1 -  31.9s\n",
      "[CV] estimator__n_estimators=30, estimator__max_depth=6, estimator__min_samples_split=4, estimator__min_samples_leaf=1 \n"
     ]
    },
    {
     "name": "stderr",
     "output_type": "stream",
     "text": [
      "/Users/rob/anaconda/lib/python3.5/site-packages/sklearn/externals/joblib/parallel.py:540: UserWarning: Multiprocessing-backed parallel loops cannot be nested, setting n_jobs=1\n",
      "  **self._backend_args)\n"
     ]
    },
    {
     "name": "stdout",
     "output_type": "stream",
     "text": [
      "[CV]  estimator__n_estimators=20, estimator__max_depth=6, estimator__min_samples_split=4, estimator__min_samples_leaf=1 -  12.7s\n",
      "[CV] estimator__n_estimators=30, estimator__max_depth=6, estimator__min_samples_split=4, estimator__min_samples_leaf=1 \n"
     ]
    },
    {
     "name": "stderr",
     "output_type": "stream",
     "text": [
      "/Users/rob/anaconda/lib/python3.5/site-packages/sklearn/externals/joblib/parallel.py:540: UserWarning: Multiprocessing-backed parallel loops cannot be nested, setting n_jobs=1\n",
      "  **self._backend_args)\n"
     ]
    },
    {
     "name": "stdout",
     "output_type": "stream",
     "text": [
      "[CV]  estimator__n_estimators=20, estimator__max_depth=6, estimator__min_samples_split=4, estimator__min_samples_leaf=1 -  12.8s\n",
      "[CV] estimator__n_estimators=30, estimator__max_depth=6, estimator__min_samples_split=4, estimator__min_samples_leaf=1 \n"
     ]
    },
    {
     "name": "stderr",
     "output_type": "stream",
     "text": [
      "/Users/rob/anaconda/lib/python3.5/site-packages/sklearn/externals/joblib/parallel.py:540: UserWarning: Multiprocessing-backed parallel loops cannot be nested, setting n_jobs=1\n",
      "  **self._backend_args)\n"
     ]
    },
    {
     "name": "stdout",
     "output_type": "stream",
     "text": [
      "[CV]  estimator__n_estimators=20, estimator__max_depth=6, estimator__min_samples_split=4, estimator__min_samples_leaf=1 -  12.8s\n",
      "[CV] estimator__n_estimators=30, estimator__max_depth=6, estimator__min_samples_split=4, estimator__min_samples_leaf=1 \n"
     ]
    },
    {
     "name": "stderr",
     "output_type": "stream",
     "text": [
      "/Users/rob/anaconda/lib/python3.5/site-packages/sklearn/externals/joblib/parallel.py:540: UserWarning: Multiprocessing-backed parallel loops cannot be nested, setting n_jobs=1\n",
      "  **self._backend_args)\n"
     ]
    },
    {
     "name": "stdout",
     "output_type": "stream",
     "text": [
      "[CV]  estimator__n_estimators=50, estimator__max_depth=6, estimator__min_samples_split=2, estimator__min_samples_leaf=1 -  31.9s\n",
      "[CV] estimator__n_estimators=30, estimator__max_depth=6, estimator__min_samples_split=4, estimator__min_samples_leaf=1 \n"
     ]
    },
    {
     "name": "stderr",
     "output_type": "stream",
     "text": [
      "/Users/rob/anaconda/lib/python3.5/site-packages/sklearn/externals/joblib/parallel.py:540: UserWarning: Multiprocessing-backed parallel loops cannot be nested, setting n_jobs=1\n",
      "  **self._backend_args)\n"
     ]
    },
    {
     "name": "stdout",
     "output_type": "stream",
     "text": [
      "[CV]  estimator__n_estimators=50, estimator__max_depth=6, estimator__min_samples_split=2, estimator__min_samples_leaf=1 -  32.0s\n",
      "[CV] estimator__n_estimators=40, estimator__max_depth=6, estimator__min_samples_split=4, estimator__min_samples_leaf=1 \n"
     ]
    },
    {
     "name": "stderr",
     "output_type": "stream",
     "text": [
      "/Users/rob/anaconda/lib/python3.5/site-packages/sklearn/externals/joblib/parallel.py:540: UserWarning: Multiprocessing-backed parallel loops cannot be nested, setting n_jobs=1\n",
      "  **self._backend_args)\n"
     ]
    },
    {
     "name": "stdout",
     "output_type": "stream",
     "text": [
      "[CV]  estimator__n_estimators=20, estimator__max_depth=6, estimator__min_samples_split=4, estimator__min_samples_leaf=1 -  13.0s\n",
      "[CV] estimator__n_estimators=40, estimator__max_depth=6, estimator__min_samples_split=4, estimator__min_samples_leaf=1 \n"
     ]
    },
    {
     "name": "stderr",
     "output_type": "stream",
     "text": [
      "/Users/rob/anaconda/lib/python3.5/site-packages/sklearn/externals/joblib/parallel.py:540: UserWarning: Multiprocessing-backed parallel loops cannot be nested, setting n_jobs=1\n",
      "  **self._backend_args)\n"
     ]
    },
    {
     "name": "stdout",
     "output_type": "stream",
     "text": [
      "[CV]  estimator__n_estimators=20, estimator__max_depth=6, estimator__min_samples_split=4, estimator__min_samples_leaf=1 -  12.8s\n",
      "[CV] estimator__n_estimators=40, estimator__max_depth=6, estimator__min_samples_split=4, estimator__min_samples_leaf=1 \n"
     ]
    },
    {
     "name": "stderr",
     "output_type": "stream",
     "text": [
      "/Users/rob/anaconda/lib/python3.5/site-packages/sklearn/externals/joblib/parallel.py:540: UserWarning: Multiprocessing-backed parallel loops cannot be nested, setting n_jobs=1\n",
      "  **self._backend_args)\n"
     ]
    },
    {
     "name": "stdout",
     "output_type": "stream",
     "text": [
      "[CV]  estimator__n_estimators=30, estimator__max_depth=6, estimator__min_samples_split=4, estimator__min_samples_leaf=1 -  19.2s\n",
      "[CV] estimator__n_estimators=40, estimator__max_depth=6, estimator__min_samples_split=4, estimator__min_samples_leaf=1 \n"
     ]
    },
    {
     "name": "stderr",
     "output_type": "stream",
     "text": [
      "/Users/rob/anaconda/lib/python3.5/site-packages/sklearn/externals/joblib/parallel.py:540: UserWarning: Multiprocessing-backed parallel loops cannot be nested, setting n_jobs=1\n",
      "  **self._backend_args)\n"
     ]
    },
    {
     "name": "stdout",
     "output_type": "stream",
     "text": [
      "[CV]  estimator__n_estimators=30, estimator__max_depth=6, estimator__min_samples_split=4, estimator__min_samples_leaf=1 -  19.2s\n",
      "[CV] estimator__n_estimators=40, estimator__max_depth=6, estimator__min_samples_split=4, estimator__min_samples_leaf=1 \n"
     ]
    },
    {
     "name": "stderr",
     "output_type": "stream",
     "text": [
      "/Users/rob/anaconda/lib/python3.5/site-packages/sklearn/externals/joblib/parallel.py:540: UserWarning: Multiprocessing-backed parallel loops cannot be nested, setting n_jobs=1\n",
      "  **self._backend_args)\n"
     ]
    },
    {
     "name": "stdout",
     "output_type": "stream",
     "text": [
      "[CV]  estimator__n_estimators=30, estimator__max_depth=6, estimator__min_samples_split=4, estimator__min_samples_leaf=1 -  19.3s\n",
      "[CV] estimator__n_estimators=50, estimator__max_depth=6, estimator__min_samples_split=4, estimator__min_samples_leaf=1 \n"
     ]
    },
    {
     "name": "stderr",
     "output_type": "stream",
     "text": [
      "/Users/rob/anaconda/lib/python3.5/site-packages/sklearn/externals/joblib/parallel.py:540: UserWarning: Multiprocessing-backed parallel loops cannot be nested, setting n_jobs=1\n",
      "  **self._backend_args)\n"
     ]
    },
    {
     "name": "stdout",
     "output_type": "stream",
     "text": [
      "[CV]  estimator__n_estimators=30, estimator__max_depth=6, estimator__min_samples_split=4, estimator__min_samples_leaf=1 -  19.3s\n",
      "[CV] estimator__n_estimators=50, estimator__max_depth=6, estimator__min_samples_split=4, estimator__min_samples_leaf=1 \n"
     ]
    },
    {
     "name": "stderr",
     "output_type": "stream",
     "text": [
      "/Users/rob/anaconda/lib/python3.5/site-packages/sklearn/externals/joblib/parallel.py:540: UserWarning: Multiprocessing-backed parallel loops cannot be nested, setting n_jobs=1\n",
      "  **self._backend_args)\n"
     ]
    },
    {
     "name": "stdout",
     "output_type": "stream",
     "text": [
      "[CV]  estimator__n_estimators=30, estimator__max_depth=6, estimator__min_samples_split=4, estimator__min_samples_leaf=1 -  19.2s\n",
      "[CV] estimator__n_estimators=50, estimator__max_depth=6, estimator__min_samples_split=4, estimator__min_samples_leaf=1 \n"
     ]
    },
    {
     "name": "stderr",
     "output_type": "stream",
     "text": [
      "/Users/rob/anaconda/lib/python3.5/site-packages/sklearn/externals/joblib/parallel.py:540: UserWarning: Multiprocessing-backed parallel loops cannot be nested, setting n_jobs=1\n",
      "  **self._backend_args)\n"
     ]
    },
    {
     "name": "stdout",
     "output_type": "stream",
     "text": [
      "[CV]  estimator__n_estimators=40, estimator__max_depth=6, estimator__min_samples_split=4, estimator__min_samples_leaf=1 -  25.5s\n",
      "[CV] estimator__n_estimators=50, estimator__max_depth=6, estimator__min_samples_split=4, estimator__min_samples_leaf=1 \n"
     ]
    },
    {
     "name": "stderr",
     "output_type": "stream",
     "text": [
      "/Users/rob/anaconda/lib/python3.5/site-packages/sklearn/externals/joblib/parallel.py:540: UserWarning: Multiprocessing-backed parallel loops cannot be nested, setting n_jobs=1\n",
      "  **self._backend_args)\n"
     ]
    },
    {
     "name": "stdout",
     "output_type": "stream",
     "text": [
      "[CV]  estimator__n_estimators=40, estimator__max_depth=6, estimator__min_samples_split=4, estimator__min_samples_leaf=1 -  25.5s\n",
      "[CV] estimator__n_estimators=50, estimator__max_depth=6, estimator__min_samples_split=4, estimator__min_samples_leaf=1 \n"
     ]
    },
    {
     "name": "stderr",
     "output_type": "stream",
     "text": [
      "/Users/rob/anaconda/lib/python3.5/site-packages/sklearn/externals/joblib/parallel.py:540: UserWarning: Multiprocessing-backed parallel loops cannot be nested, setting n_jobs=1\n",
      "  **self._backend_args)\n"
     ]
    },
    {
     "name": "stdout",
     "output_type": "stream",
     "text": [
      "[CV]  estimator__n_estimators=40, estimator__max_depth=6, estimator__min_samples_split=4, estimator__min_samples_leaf=1 -  25.6s\n",
      "[CV] estimator__n_estimators=10, estimator__max_depth=6, estimator__min_samples_split=6, estimator__min_samples_leaf=1 \n"
     ]
    },
    {
     "name": "stderr",
     "output_type": "stream",
     "text": [
      "/Users/rob/anaconda/lib/python3.5/site-packages/sklearn/externals/joblib/parallel.py:540: UserWarning: Multiprocessing-backed parallel loops cannot be nested, setting n_jobs=1\n",
      "  **self._backend_args)\n"
     ]
    },
    {
     "name": "stdout",
     "output_type": "stream",
     "text": [
      "[CV]  estimator__n_estimators=10, estimator__max_depth=6, estimator__min_samples_split=6, estimator__min_samples_leaf=1 -   6.4s\n",
      "[CV] estimator__n_estimators=10, estimator__max_depth=6, estimator__min_samples_split=6, estimator__min_samples_leaf=1 \n"
     ]
    },
    {
     "name": "stderr",
     "output_type": "stream",
     "text": [
      "/Users/rob/anaconda/lib/python3.5/site-packages/sklearn/externals/joblib/parallel.py:540: UserWarning: Multiprocessing-backed parallel loops cannot be nested, setting n_jobs=1\n",
      "  **self._backend_args)\n"
     ]
    },
    {
     "name": "stdout",
     "output_type": "stream",
     "text": [
      "[CV]  estimator__n_estimators=40, estimator__max_depth=6, estimator__min_samples_split=4, estimator__min_samples_leaf=1 -  25.7s\n",
      "[CV] estimator__n_estimators=10, estimator__max_depth=6, estimator__min_samples_split=6, estimator__min_samples_leaf=1 \n"
     ]
    },
    {
     "name": "stderr",
     "output_type": "stream",
     "text": [
      "/Users/rob/anaconda/lib/python3.5/site-packages/sklearn/externals/joblib/parallel.py:540: UserWarning: Multiprocessing-backed parallel loops cannot be nested, setting n_jobs=1\n",
      "  **self._backend_args)\n"
     ]
    },
    {
     "name": "stdout",
     "output_type": "stream",
     "text": [
      "[CV]  estimator__n_estimators=40, estimator__max_depth=6, estimator__min_samples_split=4, estimator__min_samples_leaf=1 -  25.6s\n",
      "[CV] estimator__n_estimators=10, estimator__max_depth=6, estimator__min_samples_split=6, estimator__min_samples_leaf=1 \n"
     ]
    },
    {
     "name": "stderr",
     "output_type": "stream",
     "text": [
      "/Users/rob/anaconda/lib/python3.5/site-packages/sklearn/externals/joblib/parallel.py:540: UserWarning: Multiprocessing-backed parallel loops cannot be nested, setting n_jobs=1\n",
      "  **self._backend_args)\n"
     ]
    },
    {
     "name": "stdout",
     "output_type": "stream",
     "text": [
      "[CV]  estimator__n_estimators=10, estimator__max_depth=6, estimator__min_samples_split=6, estimator__min_samples_leaf=1 -   6.4s\n",
      "[CV] estimator__n_estimators=10, estimator__max_depth=6, estimator__min_samples_split=6, estimator__min_samples_leaf=1 \n"
     ]
    },
    {
     "name": "stderr",
     "output_type": "stream",
     "text": [
      "/Users/rob/anaconda/lib/python3.5/site-packages/sklearn/externals/joblib/parallel.py:540: UserWarning: Multiprocessing-backed parallel loops cannot be nested, setting n_jobs=1\n",
      "  **self._backend_args)\n"
     ]
    },
    {
     "name": "stdout",
     "output_type": "stream",
     "text": [
      "[CV]  estimator__n_estimators=10, estimator__max_depth=6, estimator__min_samples_split=6, estimator__min_samples_leaf=1 -   6.5s\n",
      "[CV] estimator__n_estimators=20, estimator__max_depth=6, estimator__min_samples_split=6, estimator__min_samples_leaf=1 \n"
     ]
    },
    {
     "name": "stderr",
     "output_type": "stream",
     "text": [
      "/Users/rob/anaconda/lib/python3.5/site-packages/sklearn/externals/joblib/parallel.py:540: UserWarning: Multiprocessing-backed parallel loops cannot be nested, setting n_jobs=1\n",
      "  **self._backend_args)\n"
     ]
    },
    {
     "name": "stdout",
     "output_type": "stream",
     "text": [
      "[CV]  estimator__n_estimators=50, estimator__max_depth=6, estimator__min_samples_split=4, estimator__min_samples_leaf=1 -  31.8s\n",
      "[CV] estimator__n_estimators=20, estimator__max_depth=6, estimator__min_samples_split=6, estimator__min_samples_leaf=1 \n",
      "[CV]  estimator__n_estimators=10, estimator__max_depth=6, estimator__min_samples_split=6, estimator__min_samples_leaf=1 -   6.6s\n"
     ]
    },
    {
     "name": "stderr",
     "output_type": "stream",
     "text": [
      "/Users/rob/anaconda/lib/python3.5/site-packages/sklearn/externals/joblib/parallel.py:540: UserWarning: Multiprocessing-backed parallel loops cannot be nested, setting n_jobs=1\n",
      "  **self._backend_args)\n"
     ]
    },
    {
     "name": "stdout",
     "output_type": "stream",
     "text": [
      "[CV] estimator__n_estimators=20, estimator__max_depth=6, estimator__min_samples_split=6, estimator__min_samples_leaf=1 \n"
     ]
    },
    {
     "name": "stderr",
     "output_type": "stream",
     "text": [
      "/Users/rob/anaconda/lib/python3.5/site-packages/sklearn/externals/joblib/parallel.py:540: UserWarning: Multiprocessing-backed parallel loops cannot be nested, setting n_jobs=1\n",
      "  **self._backend_args)\n"
     ]
    },
    {
     "name": "stdout",
     "output_type": "stream",
     "text": [
      "[CV]  estimator__n_estimators=50, estimator__max_depth=6, estimator__min_samples_split=4, estimator__min_samples_leaf=1 -  31.7s\n",
      "[CV] estimator__n_estimators=20, estimator__max_depth=6, estimator__min_samples_split=6, estimator__min_samples_leaf=1 \n"
     ]
    },
    {
     "name": "stderr",
     "output_type": "stream",
     "text": [
      "/Users/rob/anaconda/lib/python3.5/site-packages/sklearn/externals/joblib/parallel.py:540: UserWarning: Multiprocessing-backed parallel loops cannot be nested, setting n_jobs=1\n",
      "  **self._backend_args)\n"
     ]
    },
    {
     "name": "stdout",
     "output_type": "stream",
     "text": [
      "[CV]  estimator__n_estimators=10, estimator__max_depth=6, estimator__min_samples_split=6, estimator__min_samples_leaf=1 -   6.5s\n",
      "[CV] estimator__n_estimators=20, estimator__max_depth=6, estimator__min_samples_split=6, estimator__min_samples_leaf=1 \n"
     ]
    },
    {
     "name": "stderr",
     "output_type": "stream",
     "text": [
      "/Users/rob/anaconda/lib/python3.5/site-packages/sklearn/externals/joblib/parallel.py:540: UserWarning: Multiprocessing-backed parallel loops cannot be nested, setting n_jobs=1\n",
      "  **self._backend_args)\n"
     ]
    },
    {
     "name": "stdout",
     "output_type": "stream",
     "text": [
      "[CV]  estimator__n_estimators=50, estimator__max_depth=6, estimator__min_samples_split=4, estimator__min_samples_leaf=1 -  31.9s\n",
      "[CV] estimator__n_estimators=30, estimator__max_depth=6, estimator__min_samples_split=6, estimator__min_samples_leaf=1 \n"
     ]
    },
    {
     "name": "stderr",
     "output_type": "stream",
     "text": [
      "/Users/rob/anaconda/lib/python3.5/site-packages/sklearn/externals/joblib/parallel.py:540: UserWarning: Multiprocessing-backed parallel loops cannot be nested, setting n_jobs=1\n",
      "  **self._backend_args)\n"
     ]
    },
    {
     "name": "stdout",
     "output_type": "stream",
     "text": [
      "[CV]  estimator__n_estimators=20, estimator__max_depth=6, estimator__min_samples_split=6, estimator__min_samples_leaf=1 -  12.9s\n",
      "[CV] estimator__n_estimators=30, estimator__max_depth=6, estimator__min_samples_split=6, estimator__min_samples_leaf=1 \n"
     ]
    },
    {
     "name": "stderr",
     "output_type": "stream",
     "text": [
      "/Users/rob/anaconda/lib/python3.5/site-packages/sklearn/externals/joblib/parallel.py:540: UserWarning: Multiprocessing-backed parallel loops cannot be nested, setting n_jobs=1\n",
      "  **self._backend_args)\n"
     ]
    },
    {
     "name": "stdout",
     "output_type": "stream",
     "text": [
      "[CV]  estimator__n_estimators=50, estimator__max_depth=6, estimator__min_samples_split=4, estimator__min_samples_leaf=1 -  32.0s\n",
      "[CV] estimator__n_estimators=30, estimator__max_depth=6, estimator__min_samples_split=6, estimator__min_samples_leaf=1 \n"
     ]
    },
    {
     "name": "stderr",
     "output_type": "stream",
     "text": [
      "/Users/rob/anaconda/lib/python3.5/site-packages/sklearn/externals/joblib/parallel.py:540: UserWarning: Multiprocessing-backed parallel loops cannot be nested, setting n_jobs=1\n",
      "  **self._backend_args)\n"
     ]
    },
    {
     "name": "stdout",
     "output_type": "stream",
     "text": [
      "[CV]  estimator__n_estimators=50, estimator__max_depth=6, estimator__min_samples_split=4, estimator__min_samples_leaf=1 -  31.7s\n",
      "[CV] estimator__n_estimators=30, estimator__max_depth=6, estimator__min_samples_split=6, estimator__min_samples_leaf=1 \n"
     ]
    },
    {
     "name": "stderr",
     "output_type": "stream",
     "text": [
      "/Users/rob/anaconda/lib/python3.5/site-packages/sklearn/externals/joblib/parallel.py:540: UserWarning: Multiprocessing-backed parallel loops cannot be nested, setting n_jobs=1\n",
      "  **self._backend_args)\n"
     ]
    },
    {
     "name": "stdout",
     "output_type": "stream",
     "text": [
      "[CV]  estimator__n_estimators=20, estimator__max_depth=6, estimator__min_samples_split=6, estimator__min_samples_leaf=1 -  12.9s\n",
      "[CV] estimator__n_estimators=30, estimator__max_depth=6, estimator__min_samples_split=6, estimator__min_samples_leaf=1 \n"
     ]
    },
    {
     "name": "stderr",
     "output_type": "stream",
     "text": [
      "/Users/rob/anaconda/lib/python3.5/site-packages/sklearn/externals/joblib/parallel.py:540: UserWarning: Multiprocessing-backed parallel loops cannot be nested, setting n_jobs=1\n",
      "  **self._backend_args)\n"
     ]
    },
    {
     "name": "stdout",
     "output_type": "stream",
     "text": [
      "[CV]  estimator__n_estimators=20, estimator__max_depth=6, estimator__min_samples_split=6, estimator__min_samples_leaf=1 -  13.0s\n",
      "[CV] estimator__n_estimators=40, estimator__max_depth=6, estimator__min_samples_split=6, estimator__min_samples_leaf=1 \n"
     ]
    },
    {
     "name": "stderr",
     "output_type": "stream",
     "text": [
      "/Users/rob/anaconda/lib/python3.5/site-packages/sklearn/externals/joblib/parallel.py:540: UserWarning: Multiprocessing-backed parallel loops cannot be nested, setting n_jobs=1\n",
      "  **self._backend_args)\n"
     ]
    },
    {
     "name": "stdout",
     "output_type": "stream",
     "text": [
      "[CV]  estimator__n_estimators=20, estimator__max_depth=6, estimator__min_samples_split=6, estimator__min_samples_leaf=1 -  12.9s\n",
      "[CV] estimator__n_estimators=40, estimator__max_depth=6, estimator__min_samples_split=6, estimator__min_samples_leaf=1 \n"
     ]
    },
    {
     "name": "stderr",
     "output_type": "stream",
     "text": [
      "/Users/rob/anaconda/lib/python3.5/site-packages/sklearn/externals/joblib/parallel.py:540: UserWarning: Multiprocessing-backed parallel loops cannot be nested, setting n_jobs=1\n",
      "  **self._backend_args)\n"
     ]
    },
    {
     "name": "stdout",
     "output_type": "stream",
     "text": [
      "[CV]  estimator__n_estimators=20, estimator__max_depth=6, estimator__min_samples_split=6, estimator__min_samples_leaf=1 -  12.8s\n",
      "[CV] estimator__n_estimators=40, estimator__max_depth=6, estimator__min_samples_split=6, estimator__min_samples_leaf=1 \n"
     ]
    },
    {
     "name": "stderr",
     "output_type": "stream",
     "text": [
      "/Users/rob/anaconda/lib/python3.5/site-packages/sklearn/externals/joblib/parallel.py:540: UserWarning: Multiprocessing-backed parallel loops cannot be nested, setting n_jobs=1\n",
      "  **self._backend_args)\n"
     ]
    },
    {
     "name": "stdout",
     "output_type": "stream",
     "text": [
      "[CV]  estimator__n_estimators=30, estimator__max_depth=6, estimator__min_samples_split=6, estimator__min_samples_leaf=1 -  19.1s\n",
      "[CV] estimator__n_estimators=40, estimator__max_depth=6, estimator__min_samples_split=6, estimator__min_samples_leaf=1 \n"
     ]
    },
    {
     "name": "stderr",
     "output_type": "stream",
     "text": [
      "/Users/rob/anaconda/lib/python3.5/site-packages/sklearn/externals/joblib/parallel.py:540: UserWarning: Multiprocessing-backed parallel loops cannot be nested, setting n_jobs=1\n",
      "  **self._backend_args)\n"
     ]
    },
    {
     "name": "stdout",
     "output_type": "stream",
     "text": [
      "[CV]  estimator__n_estimators=30, estimator__max_depth=6, estimator__min_samples_split=6, estimator__min_samples_leaf=1 -  19.0s\n",
      "[CV] estimator__n_estimators=40, estimator__max_depth=6, estimator__min_samples_split=6, estimator__min_samples_leaf=1 \n"
     ]
    },
    {
     "name": "stderr",
     "output_type": "stream",
     "text": [
      "/Users/rob/anaconda/lib/python3.5/site-packages/sklearn/externals/joblib/parallel.py:540: UserWarning: Multiprocessing-backed parallel loops cannot be nested, setting n_jobs=1\n",
      "  **self._backend_args)\n"
     ]
    },
    {
     "name": "stdout",
     "output_type": "stream",
     "text": [
      "[CV]  estimator__n_estimators=30, estimator__max_depth=6, estimator__min_samples_split=6, estimator__min_samples_leaf=1 -  19.2s\n",
      "[CV] estimator__n_estimators=50, estimator__max_depth=6, estimator__min_samples_split=6, estimator__min_samples_leaf=1 \n"
     ]
    },
    {
     "name": "stderr",
     "output_type": "stream",
     "text": [
      "/Users/rob/anaconda/lib/python3.5/site-packages/sklearn/externals/joblib/parallel.py:540: UserWarning: Multiprocessing-backed parallel loops cannot be nested, setting n_jobs=1\n",
      "  **self._backend_args)\n"
     ]
    },
    {
     "name": "stdout",
     "output_type": "stream",
     "text": [
      "[CV]  estimator__n_estimators=30, estimator__max_depth=6, estimator__min_samples_split=6, estimator__min_samples_leaf=1 -  19.2s\n",
      "[CV] estimator__n_estimators=50, estimator__max_depth=6, estimator__min_samples_split=6, estimator__min_samples_leaf=1 \n"
     ]
    },
    {
     "name": "stderr",
     "output_type": "stream",
     "text": [
      "/Users/rob/anaconda/lib/python3.5/site-packages/sklearn/externals/joblib/parallel.py:540: UserWarning: Multiprocessing-backed parallel loops cannot be nested, setting n_jobs=1\n",
      "  **self._backend_args)\n"
     ]
    },
    {
     "name": "stdout",
     "output_type": "stream",
     "text": [
      "[CV]  estimator__n_estimators=30, estimator__max_depth=6, estimator__min_samples_split=6, estimator__min_samples_leaf=1 -  19.1s\n",
      "[CV] estimator__n_estimators=50, estimator__max_depth=6, estimator__min_samples_split=6, estimator__min_samples_leaf=1 \n"
     ]
    },
    {
     "name": "stderr",
     "output_type": "stream",
     "text": [
      "/Users/rob/anaconda/lib/python3.5/site-packages/sklearn/externals/joblib/parallel.py:540: UserWarning: Multiprocessing-backed parallel loops cannot be nested, setting n_jobs=1\n",
      "  **self._backend_args)\n"
     ]
    },
    {
     "name": "stdout",
     "output_type": "stream",
     "text": [
      "[CV]  estimator__n_estimators=40, estimator__max_depth=6, estimator__min_samples_split=6, estimator__min_samples_leaf=1 -  25.4s\n",
      "[CV] estimator__n_estimators=50, estimator__max_depth=6, estimator__min_samples_split=6, estimator__min_samples_leaf=1 \n"
     ]
    },
    {
     "name": "stderr",
     "output_type": "stream",
     "text": [
      "/Users/rob/anaconda/lib/python3.5/site-packages/sklearn/externals/joblib/parallel.py:540: UserWarning: Multiprocessing-backed parallel loops cannot be nested, setting n_jobs=1\n",
      "  **self._backend_args)\n"
     ]
    },
    {
     "name": "stdout",
     "output_type": "stream",
     "text": [
      "[CV]  estimator__n_estimators=40, estimator__max_depth=6, estimator__min_samples_split=6, estimator__min_samples_leaf=1 -  25.3s\n",
      "[CV] estimator__n_estimators=50, estimator__max_depth=6, estimator__min_samples_split=6, estimator__min_samples_leaf=1 \n"
     ]
    },
    {
     "name": "stderr",
     "output_type": "stream",
     "text": [
      "/Users/rob/anaconda/lib/python3.5/site-packages/sklearn/externals/joblib/parallel.py:540: UserWarning: Multiprocessing-backed parallel loops cannot be nested, setting n_jobs=1\n",
      "  **self._backend_args)\n"
     ]
    },
    {
     "name": "stdout",
     "output_type": "stream",
     "text": [
      "[CV]  estimator__n_estimators=40, estimator__max_depth=6, estimator__min_samples_split=6, estimator__min_samples_leaf=1 -  25.5s\n",
      "[CV] estimator__n_estimators=10, estimator__max_depth=6, estimator__min_samples_split=2, estimator__min_samples_leaf=2 \n"
     ]
    },
    {
     "name": "stderr",
     "output_type": "stream",
     "text": [
      "/Users/rob/anaconda/lib/python3.5/site-packages/sklearn/externals/joblib/parallel.py:540: UserWarning: Multiprocessing-backed parallel loops cannot be nested, setting n_jobs=1\n",
      "  **self._backend_args)\n"
     ]
    },
    {
     "name": "stdout",
     "output_type": "stream",
     "text": [
      "[CV]  estimator__n_estimators=10, estimator__max_depth=6, estimator__min_samples_split=2, estimator__min_samples_leaf=2 -   6.5s\n",
      "[CV]  estimator__n_estimators=40, estimator__max_depth=6, estimator__min_samples_split=6, estimator__min_samples_leaf=1 -  25.5s\n",
      "[CV] estimator__n_estimators=10, estimator__max_depth=6, estimator__min_samples_split=2, estimator__min_samples_leaf=2 \n"
     ]
    },
    {
     "name": "stderr",
     "output_type": "stream",
     "text": [
      "/Users/rob/anaconda/lib/python3.5/site-packages/sklearn/externals/joblib/parallel.py:540: UserWarning: Multiprocessing-backed parallel loops cannot be nested, setting n_jobs=1\n",
      "  **self._backend_args)\n"
     ]
    },
    {
     "name": "stdout",
     "output_type": "stream",
     "text": [
      "[CV] estimator__n_estimators=10, estimator__max_depth=6, estimator__min_samples_split=2, estimator__min_samples_leaf=2 \n"
     ]
    },
    {
     "name": "stderr",
     "output_type": "stream",
     "text": [
      "/Users/rob/anaconda/lib/python3.5/site-packages/sklearn/externals/joblib/parallel.py:540: UserWarning: Multiprocessing-backed parallel loops cannot be nested, setting n_jobs=1\n",
      "  **self._backend_args)\n"
     ]
    },
    {
     "name": "stdout",
     "output_type": "stream",
     "text": [
      "[CV]  estimator__n_estimators=40, estimator__max_depth=6, estimator__min_samples_split=6, estimator__min_samples_leaf=1 -  25.3s\n",
      "[CV] estimator__n_estimators=10, estimator__max_depth=6, estimator__min_samples_split=2, estimator__min_samples_leaf=2 \n"
     ]
    },
    {
     "name": "stderr",
     "output_type": "stream",
     "text": [
      "/Users/rob/anaconda/lib/python3.5/site-packages/sklearn/externals/joblib/parallel.py:540: UserWarning: Multiprocessing-backed parallel loops cannot be nested, setting n_jobs=1\n",
      "  **self._backend_args)\n"
     ]
    },
    {
     "name": "stdout",
     "output_type": "stream",
     "text": [
      "[CV]  estimator__n_estimators=10, estimator__max_depth=6, estimator__min_samples_split=2, estimator__min_samples_leaf=2 -   6.4s\n",
      "[CV] estimator__n_estimators=10, estimator__max_depth=6, estimator__min_samples_split=2, estimator__min_samples_leaf=2 \n"
     ]
    },
    {
     "name": "stderr",
     "output_type": "stream",
     "text": [
      "/Users/rob/anaconda/lib/python3.5/site-packages/sklearn/externals/joblib/parallel.py:540: UserWarning: Multiprocessing-backed parallel loops cannot be nested, setting n_jobs=1\n",
      "  **self._backend_args)\n"
     ]
    },
    {
     "name": "stdout",
     "output_type": "stream",
     "text": [
      "[CV]  estimator__n_estimators=10, estimator__max_depth=6, estimator__min_samples_split=2, estimator__min_samples_leaf=2 -   6.5s\n",
      "[CV] estimator__n_estimators=20, estimator__max_depth=6, estimator__min_samples_split=2, estimator__min_samples_leaf=2 \n"
     ]
    },
    {
     "name": "stderr",
     "output_type": "stream",
     "text": [
      "/Users/rob/anaconda/lib/python3.5/site-packages/sklearn/externals/joblib/parallel.py:540: UserWarning: Multiprocessing-backed parallel loops cannot be nested, setting n_jobs=1\n",
      "  **self._backend_args)\n"
     ]
    },
    {
     "name": "stdout",
     "output_type": "stream",
     "text": [
      "[CV]  estimator__n_estimators=10, estimator__max_depth=6, estimator__min_samples_split=2, estimator__min_samples_leaf=2 -   6.5s\n",
      "[CV] estimator__n_estimators=20, estimator__max_depth=6, estimator__min_samples_split=2, estimator__min_samples_leaf=2 \n"
     ]
    },
    {
     "name": "stderr",
     "output_type": "stream",
     "text": [
      "/Users/rob/anaconda/lib/python3.5/site-packages/sklearn/externals/joblib/parallel.py:540: UserWarning: Multiprocessing-backed parallel loops cannot be nested, setting n_jobs=1\n",
      "  **self._backend_args)\n"
     ]
    },
    {
     "name": "stdout",
     "output_type": "stream",
     "text": [
      "[CV]  estimator__n_estimators=50, estimator__max_depth=6, estimator__min_samples_split=6, estimator__min_samples_leaf=1 -  31.6s\n",
      "[CV] estimator__n_estimators=20, estimator__max_depth=6, estimator__min_samples_split=2, estimator__min_samples_leaf=2 \n",
      "[CV]  estimator__n_estimators=10, estimator__max_depth=6, estimator__min_samples_split=2, estimator__min_samples_leaf=2 -   6.5s\n",
      "[CV] estimator__n_estimators=20, estimator__max_depth=6, estimator__min_samples_split=2, estimator__min_samples_leaf=2 \n"
     ]
    },
    {
     "name": "stderr",
     "output_type": "stream",
     "text": [
      "/Users/rob/anaconda/lib/python3.5/site-packages/sklearn/externals/joblib/parallel.py:540: UserWarning: Multiprocessing-backed parallel loops cannot be nested, setting n_jobs=1\n",
      "  **self._backend_args)\n",
      "/Users/rob/anaconda/lib/python3.5/site-packages/sklearn/externals/joblib/parallel.py:540: UserWarning: Multiprocessing-backed parallel loops cannot be nested, setting n_jobs=1\n",
      "  **self._backend_args)\n"
     ]
    },
    {
     "name": "stdout",
     "output_type": "stream",
     "text": [
      "[CV]  estimator__n_estimators=50, estimator__max_depth=6, estimator__min_samples_split=6, estimator__min_samples_leaf=1 -  31.8s\n",
      "[CV] estimator__n_estimators=20, estimator__max_depth=6, estimator__min_samples_split=2, estimator__min_samples_leaf=2 \n"
     ]
    },
    {
     "name": "stderr",
     "output_type": "stream",
     "text": [
      "/Users/rob/anaconda/lib/python3.5/site-packages/sklearn/externals/joblib/parallel.py:540: UserWarning: Multiprocessing-backed parallel loops cannot be nested, setting n_jobs=1\n",
      "  **self._backend_args)\n"
     ]
    },
    {
     "name": "stdout",
     "output_type": "stream",
     "text": [
      "[CV]  estimator__n_estimators=50, estimator__max_depth=6, estimator__min_samples_split=6, estimator__min_samples_leaf=1 -  31.8s\n",
      "[CV] estimator__n_estimators=30, estimator__max_depth=6, estimator__min_samples_split=2, estimator__min_samples_leaf=2 \n"
     ]
    },
    {
     "name": "stderr",
     "output_type": "stream",
     "text": [
      "/Users/rob/anaconda/lib/python3.5/site-packages/sklearn/externals/joblib/parallel.py:540: UserWarning: Multiprocessing-backed parallel loops cannot be nested, setting n_jobs=1\n",
      "  **self._backend_args)\n"
     ]
    },
    {
     "name": "stdout",
     "output_type": "stream",
     "text": [
      "[CV]  estimator__n_estimators=20, estimator__max_depth=6, estimator__min_samples_split=2, estimator__min_samples_leaf=2 -  12.7s\n",
      "[CV] estimator__n_estimators=30, estimator__max_depth=6, estimator__min_samples_split=2, estimator__min_samples_leaf=2 \n"
     ]
    },
    {
     "name": "stderr",
     "output_type": "stream",
     "text": [
      "/Users/rob/anaconda/lib/python3.5/site-packages/sklearn/externals/joblib/parallel.py:540: UserWarning: Multiprocessing-backed parallel loops cannot be nested, setting n_jobs=1\n",
      "  **self._backend_args)\n"
     ]
    },
    {
     "name": "stdout",
     "output_type": "stream",
     "text": [
      "[CV]  estimator__n_estimators=50, estimator__max_depth=6, estimator__min_samples_split=6, estimator__min_samples_leaf=1 -  31.8s\n",
      "[CV] estimator__n_estimators=30, estimator__max_depth=6, estimator__min_samples_split=2, estimator__min_samples_leaf=2 \n"
     ]
    },
    {
     "name": "stderr",
     "output_type": "stream",
     "text": [
      "/Users/rob/anaconda/lib/python3.5/site-packages/sklearn/externals/joblib/parallel.py:540: UserWarning: Multiprocessing-backed parallel loops cannot be nested, setting n_jobs=1\n",
      "  **self._backend_args)\n"
     ]
    },
    {
     "name": "stdout",
     "output_type": "stream",
     "text": [
      "[CV]  estimator__n_estimators=50, estimator__max_depth=6, estimator__min_samples_split=6, estimator__min_samples_leaf=1 -  31.7s\n",
      "[CV] estimator__n_estimators=30, estimator__max_depth=6, estimator__min_samples_split=2, estimator__min_samples_leaf=2 \n"
     ]
    },
    {
     "name": "stderr",
     "output_type": "stream",
     "text": [
      "/Users/rob/anaconda/lib/python3.5/site-packages/sklearn/externals/joblib/parallel.py:540: UserWarning: Multiprocessing-backed parallel loops cannot be nested, setting n_jobs=1\n",
      "  **self._backend_args)\n"
     ]
    },
    {
     "name": "stdout",
     "output_type": "stream",
     "text": [
      "[CV]  estimator__n_estimators=20, estimator__max_depth=6, estimator__min_samples_split=2, estimator__min_samples_leaf=2 -  12.7s\n",
      "[CV] estimator__n_estimators=30, estimator__max_depth=6, estimator__min_samples_split=2, estimator__min_samples_leaf=2 \n"
     ]
    },
    {
     "name": "stderr",
     "output_type": "stream",
     "text": [
      "/Users/rob/anaconda/lib/python3.5/site-packages/sklearn/externals/joblib/parallel.py:540: UserWarning: Multiprocessing-backed parallel loops cannot be nested, setting n_jobs=1\n",
      "  **self._backend_args)\n"
     ]
    },
    {
     "name": "stdout",
     "output_type": "stream",
     "text": [
      "[CV]  estimator__n_estimators=20, estimator__max_depth=6, estimator__min_samples_split=2, estimator__min_samples_leaf=2 -  12.8s\n",
      "[CV] estimator__n_estimators=40, estimator__max_depth=6, estimator__min_samples_split=2, estimator__min_samples_leaf=2 \n"
     ]
    },
    {
     "name": "stderr",
     "output_type": "stream",
     "text": [
      "/Users/rob/anaconda/lib/python3.5/site-packages/sklearn/externals/joblib/parallel.py:540: UserWarning: Multiprocessing-backed parallel loops cannot be nested, setting n_jobs=1\n",
      "  **self._backend_args)\n"
     ]
    },
    {
     "name": "stdout",
     "output_type": "stream",
     "text": [
      "[CV]  estimator__n_estimators=20, estimator__max_depth=6, estimator__min_samples_split=2, estimator__min_samples_leaf=2 -  12.9s\n",
      "[CV] estimator__n_estimators=40, estimator__max_depth=6, estimator__min_samples_split=2, estimator__min_samples_leaf=2 \n"
     ]
    },
    {
     "name": "stderr",
     "output_type": "stream",
     "text": [
      "/Users/rob/anaconda/lib/python3.5/site-packages/sklearn/externals/joblib/parallel.py:540: UserWarning: Multiprocessing-backed parallel loops cannot be nested, setting n_jobs=1\n",
      "  **self._backend_args)\n"
     ]
    },
    {
     "name": "stdout",
     "output_type": "stream",
     "text": [
      "[CV]  estimator__n_estimators=20, estimator__max_depth=6, estimator__min_samples_split=2, estimator__min_samples_leaf=2 -  12.7s\n",
      "[CV] estimator__n_estimators=40, estimator__max_depth=6, estimator__min_samples_split=2, estimator__min_samples_leaf=2 \n"
     ]
    },
    {
     "name": "stderr",
     "output_type": "stream",
     "text": [
      "/Users/rob/anaconda/lib/python3.5/site-packages/sklearn/externals/joblib/parallel.py:540: UserWarning: Multiprocessing-backed parallel loops cannot be nested, setting n_jobs=1\n",
      "  **self._backend_args)\n"
     ]
    },
    {
     "name": "stdout",
     "output_type": "stream",
     "text": [
      "[CV]  estimator__n_estimators=30, estimator__max_depth=6, estimator__min_samples_split=2, estimator__min_samples_leaf=2 -  19.0s\n",
      "[CV] estimator__n_estimators=40, estimator__max_depth=6, estimator__min_samples_split=2, estimator__min_samples_leaf=2 \n"
     ]
    },
    {
     "name": "stderr",
     "output_type": "stream",
     "text": [
      "/Users/rob/anaconda/lib/python3.5/site-packages/sklearn/externals/joblib/parallel.py:540: UserWarning: Multiprocessing-backed parallel loops cannot be nested, setting n_jobs=1\n",
      "  **self._backend_args)\n"
     ]
    },
    {
     "name": "stdout",
     "output_type": "stream",
     "text": [
      "[CV]  estimator__n_estimators=30, estimator__max_depth=6, estimator__min_samples_split=2, estimator__min_samples_leaf=2 -  19.0s\n",
      "[CV] estimator__n_estimators=40, estimator__max_depth=6, estimator__min_samples_split=2, estimator__min_samples_leaf=2 \n"
     ]
    },
    {
     "name": "stderr",
     "output_type": "stream",
     "text": [
      "/Users/rob/anaconda/lib/python3.5/site-packages/sklearn/externals/joblib/parallel.py:540: UserWarning: Multiprocessing-backed parallel loops cannot be nested, setting n_jobs=1\n",
      "  **self._backend_args)\n"
     ]
    },
    {
     "name": "stdout",
     "output_type": "stream",
     "text": [
      "[CV]  estimator__n_estimators=30, estimator__max_depth=6, estimator__min_samples_split=2, estimator__min_samples_leaf=2 -  19.2s\n",
      "[CV] estimator__n_estimators=50, estimator__max_depth=6, estimator__min_samples_split=2, estimator__min_samples_leaf=2 \n"
     ]
    },
    {
     "name": "stderr",
     "output_type": "stream",
     "text": [
      "/Users/rob/anaconda/lib/python3.5/site-packages/sklearn/externals/joblib/parallel.py:540: UserWarning: Multiprocessing-backed parallel loops cannot be nested, setting n_jobs=1\n",
      "  **self._backend_args)\n"
     ]
    },
    {
     "name": "stdout",
     "output_type": "stream",
     "text": [
      "[CV]  estimator__n_estimators=30, estimator__max_depth=6, estimator__min_samples_split=2, estimator__min_samples_leaf=2 -  19.1s\n",
      "[CV] estimator__n_estimators=50, estimator__max_depth=6, estimator__min_samples_split=2, estimator__min_samples_leaf=2 \n"
     ]
    },
    {
     "name": "stderr",
     "output_type": "stream",
     "text": [
      "/Users/rob/anaconda/lib/python3.5/site-packages/sklearn/externals/joblib/parallel.py:540: UserWarning: Multiprocessing-backed parallel loops cannot be nested, setting n_jobs=1\n",
      "  **self._backend_args)\n"
     ]
    },
    {
     "name": "stdout",
     "output_type": "stream",
     "text": [
      "[CV]  estimator__n_estimators=30, estimator__max_depth=6, estimator__min_samples_split=2, estimator__min_samples_leaf=2 -  19.0s\n",
      "[CV] estimator__n_estimators=50, estimator__max_depth=6, estimator__min_samples_split=2, estimator__min_samples_leaf=2 \n"
     ]
    },
    {
     "name": "stderr",
     "output_type": "stream",
     "text": [
      "/Users/rob/anaconda/lib/python3.5/site-packages/sklearn/externals/joblib/parallel.py:540: UserWarning: Multiprocessing-backed parallel loops cannot be nested, setting n_jobs=1\n",
      "  **self._backend_args)\n"
     ]
    },
    {
     "name": "stdout",
     "output_type": "stream",
     "text": [
      "[CV]  estimator__n_estimators=40, estimator__max_depth=6, estimator__min_samples_split=2, estimator__min_samples_leaf=2 -  25.3s\n",
      "[CV] estimator__n_estimators=50, estimator__max_depth=6, estimator__min_samples_split=2, estimator__min_samples_leaf=2 \n",
      "[CV]  estimator__n_estimators=40, estimator__max_depth=6, estimator__min_samples_split=2, estimator__min_samples_leaf=2 -  25.2s\n",
      "[CV] estimator__n_estimators=50, estimator__max_depth=6, estimator__min_samples_split=2, estimator__min_samples_leaf=2 \n"
     ]
    },
    {
     "name": "stderr",
     "output_type": "stream",
     "text": [
      "/Users/rob/anaconda/lib/python3.5/site-packages/sklearn/externals/joblib/parallel.py:540: UserWarning: Multiprocessing-backed parallel loops cannot be nested, setting n_jobs=1\n",
      "  **self._backend_args)\n",
      "/Users/rob/anaconda/lib/python3.5/site-packages/sklearn/externals/joblib/parallel.py:540: UserWarning: Multiprocessing-backed parallel loops cannot be nested, setting n_jobs=1\n",
      "  **self._backend_args)\n"
     ]
    },
    {
     "name": "stdout",
     "output_type": "stream",
     "text": [
      "[CV]  estimator__n_estimators=40, estimator__max_depth=6, estimator__min_samples_split=2, estimator__min_samples_leaf=2 -  25.4s\n",
      "[CV] estimator__n_estimators=10, estimator__max_depth=6, estimator__min_samples_split=4, estimator__min_samples_leaf=2 \n"
     ]
    },
    {
     "name": "stderr",
     "output_type": "stream",
     "text": [
      "/Users/rob/anaconda/lib/python3.5/site-packages/sklearn/externals/joblib/parallel.py:540: UserWarning: Multiprocessing-backed parallel loops cannot be nested, setting n_jobs=1\n",
      "  **self._backend_args)\n"
     ]
    },
    {
     "name": "stdout",
     "output_type": "stream",
     "text": [
      "[CV]  estimator__n_estimators=10, estimator__max_depth=6, estimator__min_samples_split=4, estimator__min_samples_leaf=2 -   6.4s\n",
      "[CV] estimator__n_estimators=10, estimator__max_depth=6, estimator__min_samples_split=4, estimator__min_samples_leaf=2 \n"
     ]
    },
    {
     "name": "stderr",
     "output_type": "stream",
     "text": [
      "/Users/rob/anaconda/lib/python3.5/site-packages/sklearn/externals/joblib/parallel.py:540: UserWarning: Multiprocessing-backed parallel loops cannot be nested, setting n_jobs=1\n",
      "  **self._backend_args)\n"
     ]
    },
    {
     "name": "stdout",
     "output_type": "stream",
     "text": [
      "[CV]  estimator__n_estimators=40, estimator__max_depth=6, estimator__min_samples_split=2, estimator__min_samples_leaf=2 -  25.3s\n",
      "[CV] estimator__n_estimators=10, estimator__max_depth=6, estimator__min_samples_split=4, estimator__min_samples_leaf=2 \n"
     ]
    },
    {
     "name": "stderr",
     "output_type": "stream",
     "text": [
      "/Users/rob/anaconda/lib/python3.5/site-packages/sklearn/externals/joblib/parallel.py:540: UserWarning: Multiprocessing-backed parallel loops cannot be nested, setting n_jobs=1\n",
      "  **self._backend_args)\n"
     ]
    },
    {
     "name": "stdout",
     "output_type": "stream",
     "text": [
      "[CV]  estimator__n_estimators=40, estimator__max_depth=6, estimator__min_samples_split=2, estimator__min_samples_leaf=2 -  25.3s\n",
      "[CV] estimator__n_estimators=10, estimator__max_depth=6, estimator__min_samples_split=4, estimator__min_samples_leaf=2 \n"
     ]
    },
    {
     "name": "stderr",
     "output_type": "stream",
     "text": [
      "/Users/rob/anaconda/lib/python3.5/site-packages/sklearn/externals/joblib/parallel.py:540: UserWarning: Multiprocessing-backed parallel loops cannot be nested, setting n_jobs=1\n",
      "  **self._backend_args)\n"
     ]
    },
    {
     "name": "stdout",
     "output_type": "stream",
     "text": [
      "[CV]  estimator__n_estimators=10, estimator__max_depth=6, estimator__min_samples_split=4, estimator__min_samples_leaf=2 -   6.5s\n",
      "[CV] estimator__n_estimators=10, estimator__max_depth=6, estimator__min_samples_split=4, estimator__min_samples_leaf=2 \n"
     ]
    },
    {
     "name": "stderr",
     "output_type": "stream",
     "text": [
      "/Users/rob/anaconda/lib/python3.5/site-packages/sklearn/externals/joblib/parallel.py:540: UserWarning: Multiprocessing-backed parallel loops cannot be nested, setting n_jobs=1\n",
      "  **self._backend_args)\n"
     ]
    },
    {
     "name": "stdout",
     "output_type": "stream",
     "text": [
      "[CV]  estimator__n_estimators=10, estimator__max_depth=6, estimator__min_samples_split=4, estimator__min_samples_leaf=2 -   6.5s\n",
      "[CV] estimator__n_estimators=20, estimator__max_depth=6, estimator__min_samples_split=4, estimator__min_samples_leaf=2 \n"
     ]
    },
    {
     "name": "stderr",
     "output_type": "stream",
     "text": [
      "/Users/rob/anaconda/lib/python3.5/site-packages/sklearn/externals/joblib/parallel.py:540: UserWarning: Multiprocessing-backed parallel loops cannot be nested, setting n_jobs=1\n",
      "  **self._backend_args)\n"
     ]
    },
    {
     "name": "stdout",
     "output_type": "stream",
     "text": [
      "[CV]  estimator__n_estimators=10, estimator__max_depth=6, estimator__min_samples_split=4, estimator__min_samples_leaf=2 -   6.5s\n",
      "[CV] estimator__n_estimators=20, estimator__max_depth=6, estimator__min_samples_split=4, estimator__min_samples_leaf=2 \n"
     ]
    },
    {
     "name": "stderr",
     "output_type": "stream",
     "text": [
      "/Users/rob/anaconda/lib/python3.5/site-packages/sklearn/externals/joblib/parallel.py:540: UserWarning: Multiprocessing-backed parallel loops cannot be nested, setting n_jobs=1\n",
      "  **self._backend_args)\n"
     ]
    },
    {
     "name": "stdout",
     "output_type": "stream",
     "text": [
      "[CV]  estimator__n_estimators=10, estimator__max_depth=6, estimator__min_samples_split=4, estimator__min_samples_leaf=2 -   6.5s\n",
      "[CV] estimator__n_estimators=20, estimator__max_depth=6, estimator__min_samples_split=4, estimator__min_samples_leaf=2 \n"
     ]
    },
    {
     "name": "stderr",
     "output_type": "stream",
     "text": [
      "/Users/rob/anaconda/lib/python3.5/site-packages/sklearn/externals/joblib/parallel.py:540: UserWarning: Multiprocessing-backed parallel loops cannot be nested, setting n_jobs=1\n",
      "  **self._backend_args)\n"
     ]
    },
    {
     "name": "stdout",
     "output_type": "stream",
     "text": [
      "[CV]  estimator__n_estimators=50, estimator__max_depth=6, estimator__min_samples_split=2, estimator__min_samples_leaf=2 -  31.5s\n",
      "[CV] estimator__n_estimators=20, estimator__max_depth=6, estimator__min_samples_split=4, estimator__min_samples_leaf=2 \n"
     ]
    },
    {
     "name": "stderr",
     "output_type": "stream",
     "text": [
      "/Users/rob/anaconda/lib/python3.5/site-packages/sklearn/externals/joblib/parallel.py:540: UserWarning: Multiprocessing-backed parallel loops cannot be nested, setting n_jobs=1\n",
      "  **self._backend_args)\n"
     ]
    },
    {
     "name": "stdout",
     "output_type": "stream",
     "text": [
      "[CV]  estimator__n_estimators=50, estimator__max_depth=6, estimator__min_samples_split=2, estimator__min_samples_leaf=2 -  31.5s\n",
      "[CV] estimator__n_estimators=20, estimator__max_depth=6, estimator__min_samples_split=4, estimator__min_samples_leaf=2 \n"
     ]
    },
    {
     "name": "stderr",
     "output_type": "stream",
     "text": [
      "/Users/rob/anaconda/lib/python3.5/site-packages/sklearn/externals/joblib/parallel.py:540: UserWarning: Multiprocessing-backed parallel loops cannot be nested, setting n_jobs=1\n",
      "  **self._backend_args)\n"
     ]
    },
    {
     "name": "stdout",
     "output_type": "stream",
     "text": [
      "[CV]  estimator__n_estimators=50, estimator__max_depth=6, estimator__min_samples_split=2, estimator__min_samples_leaf=2 -  31.7s\n",
      "[CV] estimator__n_estimators=30, estimator__max_depth=6, estimator__min_samples_split=4, estimator__min_samples_leaf=2 \n"
     ]
    },
    {
     "name": "stderr",
     "output_type": "stream",
     "text": [
      "/Users/rob/anaconda/lib/python3.5/site-packages/sklearn/externals/joblib/parallel.py:540: UserWarning: Multiprocessing-backed parallel loops cannot be nested, setting n_jobs=1\n",
      "  **self._backend_args)\n"
     ]
    },
    {
     "name": "stdout",
     "output_type": "stream",
     "text": [
      "[CV]  estimator__n_estimators=20, estimator__max_depth=6, estimator__min_samples_split=4, estimator__min_samples_leaf=2 -  12.8s\n",
      "[CV] estimator__n_estimators=30, estimator__max_depth=6, estimator__min_samples_split=4, estimator__min_samples_leaf=2 \n"
     ]
    },
    {
     "name": "stderr",
     "output_type": "stream",
     "text": [
      "/Users/rob/anaconda/lib/python3.5/site-packages/sklearn/externals/joblib/parallel.py:540: UserWarning: Multiprocessing-backed parallel loops cannot be nested, setting n_jobs=1\n",
      "  **self._backend_args)\n"
     ]
    },
    {
     "name": "stdout",
     "output_type": "stream",
     "text": [
      "[CV]  estimator__n_estimators=50, estimator__max_depth=6, estimator__min_samples_split=2, estimator__min_samples_leaf=2 -  31.6s\n",
      "[CV] estimator__n_estimators=30, estimator__max_depth=6, estimator__min_samples_split=4, estimator__min_samples_leaf=2 \n",
      "[CV]  estimator__n_estimators=50, estimator__max_depth=6, estimator__min_samples_split=2, estimator__min_samples_leaf=2 -  31.8s\n",
      "[CV] estimator__n_estimators=30, estimator__max_depth=6, estimator__min_samples_split=4, estimator__min_samples_leaf=2 \n"
     ]
    },
    {
     "name": "stderr",
     "output_type": "stream",
     "text": [
      "/Users/rob/anaconda/lib/python3.5/site-packages/sklearn/externals/joblib/parallel.py:540: UserWarning: Multiprocessing-backed parallel loops cannot be nested, setting n_jobs=1\n",
      "  **self._backend_args)\n"
     ]
    },
    {
     "name": "stdout",
     "output_type": "stream",
     "text": [
      "[CV]  estimator__n_estimators=20, estimator__max_depth=6, estimator__min_samples_split=4, estimator__min_samples_leaf=2 -  12.7s\n",
      "[CV] estimator__n_estimators=30, estimator__max_depth=6, estimator__min_samples_split=4, estimator__min_samples_leaf=2 \n"
     ]
    },
    {
     "name": "stderr",
     "output_type": "stream",
     "text": [
      "/Users/rob/anaconda/lib/python3.5/site-packages/sklearn/externals/joblib/parallel.py:540: UserWarning: Multiprocessing-backed parallel loops cannot be nested, setting n_jobs=1\n",
      "  **self._backend_args)\n",
      "/Users/rob/anaconda/lib/python3.5/site-packages/sklearn/externals/joblib/parallel.py:540: UserWarning: Multiprocessing-backed parallel loops cannot be nested, setting n_jobs=1\n",
      "  **self._backend_args)\n"
     ]
    },
    {
     "name": "stdout",
     "output_type": "stream",
     "text": [
      "[CV]  estimator__n_estimators=20, estimator__max_depth=6, estimator__min_samples_split=4, estimator__min_samples_leaf=2 -  12.9s\n",
      "[CV] estimator__n_estimators=40, estimator__max_depth=6, estimator__min_samples_split=4, estimator__min_samples_leaf=2 \n"
     ]
    },
    {
     "name": "stderr",
     "output_type": "stream",
     "text": [
      "/Users/rob/anaconda/lib/python3.5/site-packages/sklearn/externals/joblib/parallel.py:540: UserWarning: Multiprocessing-backed parallel loops cannot be nested, setting n_jobs=1\n",
      "  **self._backend_args)\n"
     ]
    },
    {
     "name": "stdout",
     "output_type": "stream",
     "text": [
      "[CV]  estimator__n_estimators=20, estimator__max_depth=6, estimator__min_samples_split=4, estimator__min_samples_leaf=2 -  13.0s\n",
      "[CV] estimator__n_estimators=40, estimator__max_depth=6, estimator__min_samples_split=4, estimator__min_samples_leaf=2 \n"
     ]
    },
    {
     "name": "stderr",
     "output_type": "stream",
     "text": [
      "/Users/rob/anaconda/lib/python3.5/site-packages/sklearn/externals/joblib/parallel.py:540: UserWarning: Multiprocessing-backed parallel loops cannot be nested, setting n_jobs=1\n",
      "  **self._backend_args)\n"
     ]
    },
    {
     "name": "stdout",
     "output_type": "stream",
     "text": [
      "[CV]  estimator__n_estimators=20, estimator__max_depth=6, estimator__min_samples_split=4, estimator__min_samples_leaf=2 -  12.8s\n",
      "[CV] estimator__n_estimators=40, estimator__max_depth=6, estimator__min_samples_split=4, estimator__min_samples_leaf=2 \n"
     ]
    },
    {
     "name": "stderr",
     "output_type": "stream",
     "text": [
      "/Users/rob/anaconda/lib/python3.5/site-packages/sklearn/externals/joblib/parallel.py:540: UserWarning: Multiprocessing-backed parallel loops cannot be nested, setting n_jobs=1\n",
      "  **self._backend_args)\n"
     ]
    },
    {
     "name": "stdout",
     "output_type": "stream",
     "text": [
      "[CV]  estimator__n_estimators=30, estimator__max_depth=6, estimator__min_samples_split=4, estimator__min_samples_leaf=2 -  19.1s\n",
      "[CV] estimator__n_estimators=40, estimator__max_depth=6, estimator__min_samples_split=4, estimator__min_samples_leaf=2 \n"
     ]
    },
    {
     "name": "stderr",
     "output_type": "stream",
     "text": [
      "/Users/rob/anaconda/lib/python3.5/site-packages/sklearn/externals/joblib/parallel.py:540: UserWarning: Multiprocessing-backed parallel loops cannot be nested, setting n_jobs=1\n",
      "  **self._backend_args)\n"
     ]
    },
    {
     "name": "stdout",
     "output_type": "stream",
     "text": [
      "[CV]  estimator__n_estimators=30, estimator__max_depth=6, estimator__min_samples_split=4, estimator__min_samples_leaf=2 -  19.0s\n",
      "[CV] estimator__n_estimators=40, estimator__max_depth=6, estimator__min_samples_split=4, estimator__min_samples_leaf=2 \n"
     ]
    },
    {
     "name": "stderr",
     "output_type": "stream",
     "text": [
      "/Users/rob/anaconda/lib/python3.5/site-packages/sklearn/externals/joblib/parallel.py:540: UserWarning: Multiprocessing-backed parallel loops cannot be nested, setting n_jobs=1\n",
      "  **self._backend_args)\n"
     ]
    },
    {
     "name": "stdout",
     "output_type": "stream",
     "text": [
      "[CV]  estimator__n_estimators=30, estimator__max_depth=6, estimator__min_samples_split=4, estimator__min_samples_leaf=2 -  19.0s\n",
      "[CV] estimator__n_estimators=50, estimator__max_depth=6, estimator__min_samples_split=4, estimator__min_samples_leaf=2 \n",
      "[CV]  estimator__n_estimators=30, estimator__max_depth=6, estimator__min_samples_split=4, estimator__min_samples_leaf=2 -  19.0s\n"
     ]
    },
    {
     "name": "stderr",
     "output_type": "stream",
     "text": [
      "/Users/rob/anaconda/lib/python3.5/site-packages/sklearn/externals/joblib/parallel.py:540: UserWarning: Multiprocessing-backed parallel loops cannot be nested, setting n_jobs=1\n",
      "  **self._backend_args)\n"
     ]
    },
    {
     "name": "stdout",
     "output_type": "stream",
     "text": [
      "[CV] estimator__n_estimators=50, estimator__max_depth=6, estimator__min_samples_split=4, estimator__min_samples_leaf=2 \n",
      "[CV]  estimator__n_estimators=30, estimator__max_depth=6, estimator__min_samples_split=4, estimator__min_samples_leaf=2 -  19.0s\n"
     ]
    },
    {
     "name": "stderr",
     "output_type": "stream",
     "text": [
      "/Users/rob/anaconda/lib/python3.5/site-packages/sklearn/externals/joblib/parallel.py:540: UserWarning: Multiprocessing-backed parallel loops cannot be nested, setting n_jobs=1\n",
      "  **self._backend_args)\n"
     ]
    },
    {
     "name": "stdout",
     "output_type": "stream",
     "text": [
      "[CV] estimator__n_estimators=50, estimator__max_depth=6, estimator__min_samples_split=4, estimator__min_samples_leaf=2 \n"
     ]
    },
    {
     "name": "stderr",
     "output_type": "stream",
     "text": [
      "/Users/rob/anaconda/lib/python3.5/site-packages/sklearn/externals/joblib/parallel.py:540: UserWarning: Multiprocessing-backed parallel loops cannot be nested, setting n_jobs=1\n",
      "  **self._backend_args)\n"
     ]
    },
    {
     "name": "stdout",
     "output_type": "stream",
     "text": [
      "[CV]  estimator__n_estimators=40, estimator__max_depth=6, estimator__min_samples_split=4, estimator__min_samples_leaf=2 -  25.2s\n",
      "[CV] estimator__n_estimators=50, estimator__max_depth=6, estimator__min_samples_split=4, estimator__min_samples_leaf=2 \n"
     ]
    },
    {
     "name": "stderr",
     "output_type": "stream",
     "text": [
      "/Users/rob/anaconda/lib/python3.5/site-packages/sklearn/externals/joblib/parallel.py:540: UserWarning: Multiprocessing-backed parallel loops cannot be nested, setting n_jobs=1\n",
      "  **self._backend_args)\n"
     ]
    },
    {
     "name": "stdout",
     "output_type": "stream",
     "text": [
      "[CV]  estimator__n_estimators=40, estimator__max_depth=6, estimator__min_samples_split=4, estimator__min_samples_leaf=2 -  25.2s\n",
      "[CV] estimator__n_estimators=50, estimator__max_depth=6, estimator__min_samples_split=4, estimator__min_samples_leaf=2 \n"
     ]
    },
    {
     "name": "stderr",
     "output_type": "stream",
     "text": [
      "/Users/rob/anaconda/lib/python3.5/site-packages/sklearn/externals/joblib/parallel.py:540: UserWarning: Multiprocessing-backed parallel loops cannot be nested, setting n_jobs=1\n",
      "  **self._backend_args)\n"
     ]
    },
    {
     "name": "stdout",
     "output_type": "stream",
     "text": [
      "[CV]  estimator__n_estimators=40, estimator__max_depth=6, estimator__min_samples_split=4, estimator__min_samples_leaf=2 -  25.4s\n",
      "[CV] estimator__n_estimators=10, estimator__max_depth=6, estimator__min_samples_split=6, estimator__min_samples_leaf=2 \n"
     ]
    },
    {
     "name": "stderr",
     "output_type": "stream",
     "text": [
      "/Users/rob/anaconda/lib/python3.5/site-packages/sklearn/externals/joblib/parallel.py:540: UserWarning: Multiprocessing-backed parallel loops cannot be nested, setting n_jobs=1\n",
      "  **self._backend_args)\n"
     ]
    },
    {
     "name": "stdout",
     "output_type": "stream",
     "text": [
      "[CV]  estimator__n_estimators=10, estimator__max_depth=6, estimator__min_samples_split=6, estimator__min_samples_leaf=2 -   6.5s\n",
      "[CV] estimator__n_estimators=10, estimator__max_depth=6, estimator__min_samples_split=6, estimator__min_samples_leaf=2 \n"
     ]
    },
    {
     "name": "stderr",
     "output_type": "stream",
     "text": [
      "/Users/rob/anaconda/lib/python3.5/site-packages/sklearn/externals/joblib/parallel.py:540: UserWarning: Multiprocessing-backed parallel loops cannot be nested, setting n_jobs=1\n",
      "  **self._backend_args)\n"
     ]
    },
    {
     "name": "stdout",
     "output_type": "stream",
     "text": [
      "[CV]  estimator__n_estimators=40, estimator__max_depth=6, estimator__min_samples_split=4, estimator__min_samples_leaf=2 -  25.5s\n",
      "[CV] estimator__n_estimators=10, estimator__max_depth=6, estimator__min_samples_split=6, estimator__min_samples_leaf=2 \n"
     ]
    },
    {
     "name": "stderr",
     "output_type": "stream",
     "text": [
      "/Users/rob/anaconda/lib/python3.5/site-packages/sklearn/externals/joblib/parallel.py:540: UserWarning: Multiprocessing-backed parallel loops cannot be nested, setting n_jobs=1\n",
      "  **self._backend_args)\n"
     ]
    },
    {
     "name": "stdout",
     "output_type": "stream",
     "text": [
      "[CV]  estimator__n_estimators=40, estimator__max_depth=6, estimator__min_samples_split=4, estimator__min_samples_leaf=2 -  25.4s\n",
      "[CV] estimator__n_estimators=10, estimator__max_depth=6, estimator__min_samples_split=6, estimator__min_samples_leaf=2 \n"
     ]
    },
    {
     "name": "stderr",
     "output_type": "stream",
     "text": [
      "/Users/rob/anaconda/lib/python3.5/site-packages/sklearn/externals/joblib/parallel.py:540: UserWarning: Multiprocessing-backed parallel loops cannot be nested, setting n_jobs=1\n",
      "  **self._backend_args)\n"
     ]
    },
    {
     "name": "stdout",
     "output_type": "stream",
     "text": [
      "[CV]  estimator__n_estimators=10, estimator__max_depth=6, estimator__min_samples_split=6, estimator__min_samples_leaf=2 -   6.5s\n",
      "[CV] estimator__n_estimators=10, estimator__max_depth=6, estimator__min_samples_split=6, estimator__min_samples_leaf=2 \n"
     ]
    },
    {
     "name": "stderr",
     "output_type": "stream",
     "text": [
      "/Users/rob/anaconda/lib/python3.5/site-packages/sklearn/externals/joblib/parallel.py:540: UserWarning: Multiprocessing-backed parallel loops cannot be nested, setting n_jobs=1\n",
      "  **self._backend_args)\n"
     ]
    },
    {
     "name": "stdout",
     "output_type": "stream",
     "text": [
      "[CV]  estimator__n_estimators=10, estimator__max_depth=6, estimator__min_samples_split=6, estimator__min_samples_leaf=2 -   6.5s\n",
      "[CV] estimator__n_estimators=20, estimator__max_depth=6, estimator__min_samples_split=6, estimator__min_samples_leaf=2 \n"
     ]
    },
    {
     "name": "stderr",
     "output_type": "stream",
     "text": [
      "/Users/rob/anaconda/lib/python3.5/site-packages/sklearn/externals/joblib/parallel.py:540: UserWarning: Multiprocessing-backed parallel loops cannot be nested, setting n_jobs=1\n",
      "  **self._backend_args)\n"
     ]
    },
    {
     "name": "stdout",
     "output_type": "stream",
     "text": [
      "[CV]  estimator__n_estimators=10, estimator__max_depth=6, estimator__min_samples_split=6, estimator__min_samples_leaf=2 -   6.5s\n",
      "[CV] estimator__n_estimators=20, estimator__max_depth=6, estimator__min_samples_split=6, estimator__min_samples_leaf=2 \n"
     ]
    },
    {
     "name": "stderr",
     "output_type": "stream",
     "text": [
      "/Users/rob/anaconda/lib/python3.5/site-packages/sklearn/externals/joblib/parallel.py:540: UserWarning: Multiprocessing-backed parallel loops cannot be nested, setting n_jobs=1\n",
      "  **self._backend_args)\n",
      "[Parallel(n_jobs=8)]: Done 349 tasks      | elapsed: 10.1min\n"
     ]
    },
    {
     "name": "stdout",
     "output_type": "stream",
     "text": [
      "[CV]  estimator__n_estimators=10, estimator__max_depth=6, estimator__min_samples_split=6, estimator__min_samples_leaf=2 -   6.5s\n",
      "[CV] estimator__n_estimators=20, estimator__max_depth=6, estimator__min_samples_split=6, estimator__min_samples_leaf=2 \n"
     ]
    },
    {
     "name": "stderr",
     "output_type": "stream",
     "text": [
      "/Users/rob/anaconda/lib/python3.5/site-packages/sklearn/externals/joblib/parallel.py:540: UserWarning: Multiprocessing-backed parallel loops cannot be nested, setting n_jobs=1\n",
      "  **self._backend_args)\n"
     ]
    },
    {
     "name": "stdout",
     "output_type": "stream",
     "text": [
      "[CV]  estimator__n_estimators=50, estimator__max_depth=6, estimator__min_samples_split=4, estimator__min_samples_leaf=2 -  31.8s\n",
      "[CV] estimator__n_estimators=20, estimator__max_depth=6, estimator__min_samples_split=6, estimator__min_samples_leaf=2 \n"
     ]
    },
    {
     "name": "stderr",
     "output_type": "stream",
     "text": [
      "/Users/rob/anaconda/lib/python3.5/site-packages/sklearn/externals/joblib/parallel.py:540: UserWarning: Multiprocessing-backed parallel loops cannot be nested, setting n_jobs=1\n",
      "  **self._backend_args)\n"
     ]
    },
    {
     "name": "stdout",
     "output_type": "stream",
     "text": [
      "[CV]  estimator__n_estimators=50, estimator__max_depth=6, estimator__min_samples_split=4, estimator__min_samples_leaf=2 -  31.7s\n",
      "[CV] estimator__n_estimators=20, estimator__max_depth=6, estimator__min_samples_split=6, estimator__min_samples_leaf=2 \n",
      "[CV]  estimator__n_estimators=50, estimator__max_depth=6, estimator__min_samples_split=4, estimator__min_samples_leaf=2 -  31.9s\n"
     ]
    },
    {
     "name": "stderr",
     "output_type": "stream",
     "text": [
      "/Users/rob/anaconda/lib/python3.5/site-packages/sklearn/externals/joblib/parallel.py:540: UserWarning: Multiprocessing-backed parallel loops cannot be nested, setting n_jobs=1\n",
      "  **self._backend_args)\n"
     ]
    },
    {
     "name": "stdout",
     "output_type": "stream",
     "text": [
      "[CV] estimator__n_estimators=30, estimator__max_depth=6, estimator__min_samples_split=6, estimator__min_samples_leaf=2 \n"
     ]
    },
    {
     "name": "stderr",
     "output_type": "stream",
     "text": [
      "/Users/rob/anaconda/lib/python3.5/site-packages/sklearn/externals/joblib/parallel.py:540: UserWarning: Multiprocessing-backed parallel loops cannot be nested, setting n_jobs=1\n",
      "  **self._backend_args)\n"
     ]
    },
    {
     "name": "stdout",
     "output_type": "stream",
     "text": [
      "[CV]  estimator__n_estimators=20, estimator__max_depth=6, estimator__min_samples_split=6, estimator__min_samples_leaf=2 -  13.2s\n",
      "[CV] estimator__n_estimators=30, estimator__max_depth=6, estimator__min_samples_split=6, estimator__min_samples_leaf=2 \n"
     ]
    },
    {
     "name": "stderr",
     "output_type": "stream",
     "text": [
      "/Users/rob/anaconda/lib/python3.5/site-packages/sklearn/externals/joblib/parallel.py:540: UserWarning: Multiprocessing-backed parallel loops cannot be nested, setting n_jobs=1\n",
      "  **self._backend_args)\n"
     ]
    },
    {
     "name": "stdout",
     "output_type": "stream",
     "text": [
      "[CV]  estimator__n_estimators=50, estimator__max_depth=6, estimator__min_samples_split=4, estimator__min_samples_leaf=2 -  32.4s\n",
      "[CV] estimator__n_estimators=30, estimator__max_depth=6, estimator__min_samples_split=6, estimator__min_samples_leaf=2 \n"
     ]
    },
    {
     "name": "stderr",
     "output_type": "stream",
     "text": [
      "/Users/rob/anaconda/lib/python3.5/site-packages/sklearn/externals/joblib/parallel.py:540: UserWarning: Multiprocessing-backed parallel loops cannot be nested, setting n_jobs=1\n",
      "  **self._backend_args)\n"
     ]
    },
    {
     "name": "stdout",
     "output_type": "stream",
     "text": [
      "[CV]  estimator__n_estimators=50, estimator__max_depth=6, estimator__min_samples_split=4, estimator__min_samples_leaf=2 -  32.5s\n",
      "[CV] estimator__n_estimators=30, estimator__max_depth=6, estimator__min_samples_split=6, estimator__min_samples_leaf=2 \n",
      "[CV]  estimator__n_estimators=20, estimator__max_depth=6, estimator__min_samples_split=6, estimator__min_samples_leaf=2 -  13.5s\n",
      "[CV] estimator__n_estimators=30, estimator__max_depth=6, estimator__min_samples_split=6, estimator__min_samples_leaf=2 \n"
     ]
    },
    {
     "name": "stderr",
     "output_type": "stream",
     "text": [
      "/Users/rob/anaconda/lib/python3.5/site-packages/sklearn/externals/joblib/parallel.py:540: UserWarning: Multiprocessing-backed parallel loops cannot be nested, setting n_jobs=1\n",
      "  **self._backend_args)\n",
      "/Users/rob/anaconda/lib/python3.5/site-packages/sklearn/externals/joblib/parallel.py:540: UserWarning: Multiprocessing-backed parallel loops cannot be nested, setting n_jobs=1\n",
      "  **self._backend_args)\n"
     ]
    },
    {
     "name": "stdout",
     "output_type": "stream",
     "text": [
      "[CV]  estimator__n_estimators=20, estimator__max_depth=6, estimator__min_samples_split=6, estimator__min_samples_leaf=2 -  13.5s\n",
      "[CV] estimator__n_estimators=40, estimator__max_depth=6, estimator__min_samples_split=6, estimator__min_samples_leaf=2 \n"
     ]
    },
    {
     "name": "stderr",
     "output_type": "stream",
     "text": [
      "/Users/rob/anaconda/lib/python3.5/site-packages/sklearn/externals/joblib/parallel.py:540: UserWarning: Multiprocessing-backed parallel loops cannot be nested, setting n_jobs=1\n",
      "  **self._backend_args)\n"
     ]
    },
    {
     "name": "stdout",
     "output_type": "stream",
     "text": [
      "[CV]  estimator__n_estimators=20, estimator__max_depth=6, estimator__min_samples_split=6, estimator__min_samples_leaf=2 -  13.5s\n",
      "[CV] estimator__n_estimators=40, estimator__max_depth=6, estimator__min_samples_split=6, estimator__min_samples_leaf=2 \n"
     ]
    },
    {
     "name": "stderr",
     "output_type": "stream",
     "text": [
      "/Users/rob/anaconda/lib/python3.5/site-packages/sklearn/externals/joblib/parallel.py:540: UserWarning: Multiprocessing-backed parallel loops cannot be nested, setting n_jobs=1\n",
      "  **self._backend_args)\n"
     ]
    },
    {
     "name": "stdout",
     "output_type": "stream",
     "text": [
      "[CV]  estimator__n_estimators=20, estimator__max_depth=6, estimator__min_samples_split=6, estimator__min_samples_leaf=2 -  13.5s\n",
      "[CV] estimator__n_estimators=40, estimator__max_depth=6, estimator__min_samples_split=6, estimator__min_samples_leaf=2 \n"
     ]
    },
    {
     "name": "stderr",
     "output_type": "stream",
     "text": [
      "/Users/rob/anaconda/lib/python3.5/site-packages/sklearn/externals/joblib/parallel.py:540: UserWarning: Multiprocessing-backed parallel loops cannot be nested, setting n_jobs=1\n",
      "  **self._backend_args)\n"
     ]
    },
    {
     "name": "stdout",
     "output_type": "stream",
     "text": [
      "[CV]  estimator__n_estimators=30, estimator__max_depth=6, estimator__min_samples_split=6, estimator__min_samples_leaf=2 -  20.1s\n",
      "[CV] estimator__n_estimators=40, estimator__max_depth=6, estimator__min_samples_split=6, estimator__min_samples_leaf=2 \n"
     ]
    },
    {
     "name": "stderr",
     "output_type": "stream",
     "text": [
      "/Users/rob/anaconda/lib/python3.5/site-packages/sklearn/externals/joblib/parallel.py:540: UserWarning: Multiprocessing-backed parallel loops cannot be nested, setting n_jobs=1\n",
      "  **self._backend_args)\n"
     ]
    },
    {
     "name": "stdout",
     "output_type": "stream",
     "text": [
      "[CV]  estimator__n_estimators=30, estimator__max_depth=6, estimator__min_samples_split=6, estimator__min_samples_leaf=2 -  19.7s\n",
      "[CV] estimator__n_estimators=40, estimator__max_depth=6, estimator__min_samples_split=6, estimator__min_samples_leaf=2 \n"
     ]
    },
    {
     "name": "stderr",
     "output_type": "stream",
     "text": [
      "/Users/rob/anaconda/lib/python3.5/site-packages/sklearn/externals/joblib/parallel.py:540: UserWarning: Multiprocessing-backed parallel loops cannot be nested, setting n_jobs=1\n",
      "  **self._backend_args)\n"
     ]
    },
    {
     "name": "stdout",
     "output_type": "stream",
     "text": [
      "[CV]  estimator__n_estimators=30, estimator__max_depth=6, estimator__min_samples_split=6, estimator__min_samples_leaf=2 -  19.8s\n",
      "[CV] estimator__n_estimators=50, estimator__max_depth=6, estimator__min_samples_split=6, estimator__min_samples_leaf=2 \n"
     ]
    },
    {
     "name": "stderr",
     "output_type": "stream",
     "text": [
      "/Users/rob/anaconda/lib/python3.5/site-packages/sklearn/externals/joblib/parallel.py:540: UserWarning: Multiprocessing-backed parallel loops cannot be nested, setting n_jobs=1\n",
      "  **self._backend_args)\n"
     ]
    },
    {
     "name": "stdout",
     "output_type": "stream",
     "text": [
      "[CV]  estimator__n_estimators=30, estimator__max_depth=6, estimator__min_samples_split=6, estimator__min_samples_leaf=2 -  20.0s\n",
      "[CV]  estimator__n_estimators=30, estimator__max_depth=6, estimator__min_samples_split=6, estimator__min_samples_leaf=2 -  19.9s\n",
      "[CV] estimator__n_estimators=50, estimator__max_depth=6, estimator__min_samples_split=6, estimator__min_samples_leaf=2 \n"
     ]
    },
    {
     "name": "stderr",
     "output_type": "stream",
     "text": [
      "/Users/rob/anaconda/lib/python3.5/site-packages/sklearn/externals/joblib/parallel.py:540: UserWarning: Multiprocessing-backed parallel loops cannot be nested, setting n_jobs=1\n",
      "  **self._backend_args)\n"
     ]
    },
    {
     "name": "stdout",
     "output_type": "stream",
     "text": [
      "[CV] estimator__n_estimators=50, estimator__max_depth=6, estimator__min_samples_split=6, estimator__min_samples_leaf=2 \n"
     ]
    },
    {
     "name": "stderr",
     "output_type": "stream",
     "text": [
      "/Users/rob/anaconda/lib/python3.5/site-packages/sklearn/externals/joblib/parallel.py:540: UserWarning: Multiprocessing-backed parallel loops cannot be nested, setting n_jobs=1\n",
      "  **self._backend_args)\n"
     ]
    },
    {
     "name": "stdout",
     "output_type": "stream",
     "text": [
      "[CV]  estimator__n_estimators=40, estimator__max_depth=6, estimator__min_samples_split=6, estimator__min_samples_leaf=2 -  26.1s\n",
      "[CV] estimator__n_estimators=50, estimator__max_depth=6, estimator__min_samples_split=6, estimator__min_samples_leaf=2 \n"
     ]
    },
    {
     "name": "stderr",
     "output_type": "stream",
     "text": [
      "/Users/rob/anaconda/lib/python3.5/site-packages/sklearn/externals/joblib/parallel.py:540: UserWarning: Multiprocessing-backed parallel loops cannot be nested, setting n_jobs=1\n",
      "  **self._backend_args)\n"
     ]
    },
    {
     "name": "stdout",
     "output_type": "stream",
     "text": [
      "[CV]  estimator__n_estimators=40, estimator__max_depth=6, estimator__min_samples_split=6, estimator__min_samples_leaf=2 -  26.5s\n",
      "[CV] estimator__n_estimators=50, estimator__max_depth=6, estimator__min_samples_split=6, estimator__min_samples_leaf=2 \n"
     ]
    },
    {
     "name": "stderr",
     "output_type": "stream",
     "text": [
      "/Users/rob/anaconda/lib/python3.5/site-packages/sklearn/externals/joblib/parallel.py:540: UserWarning: Multiprocessing-backed parallel loops cannot be nested, setting n_jobs=1\n",
      "  **self._backend_args)\n"
     ]
    },
    {
     "name": "stdout",
     "output_type": "stream",
     "text": [
      "[CV]  estimator__n_estimators=40, estimator__max_depth=6, estimator__min_samples_split=6, estimator__min_samples_leaf=2 -  26.6s\n",
      "[CV] estimator__n_estimators=10, estimator__max_depth=6, estimator__min_samples_split=2, estimator__min_samples_leaf=4 \n"
     ]
    },
    {
     "name": "stderr",
     "output_type": "stream",
     "text": [
      "/Users/rob/anaconda/lib/python3.5/site-packages/sklearn/externals/joblib/parallel.py:540: UserWarning: Multiprocessing-backed parallel loops cannot be nested, setting n_jobs=1\n",
      "  **self._backend_args)\n"
     ]
    },
    {
     "name": "stdout",
     "output_type": "stream",
     "text": [
      "[CV]  estimator__n_estimators=40, estimator__max_depth=6, estimator__min_samples_split=6, estimator__min_samples_leaf=2 -  26.4s\n",
      "[CV] estimator__n_estimators=10, estimator__max_depth=6, estimator__min_samples_split=2, estimator__min_samples_leaf=4 \n"
     ]
    },
    {
     "name": "stderr",
     "output_type": "stream",
     "text": [
      "/Users/rob/anaconda/lib/python3.5/site-packages/sklearn/externals/joblib/parallel.py:540: UserWarning: Multiprocessing-backed parallel loops cannot be nested, setting n_jobs=1\n",
      "  **self._backend_args)\n"
     ]
    },
    {
     "name": "stdout",
     "output_type": "stream",
     "text": [
      "[CV]  estimator__n_estimators=10, estimator__max_depth=6, estimator__min_samples_split=2, estimator__min_samples_leaf=4 -   6.7s\n",
      "[CV] estimator__n_estimators=10, estimator__max_depth=6, estimator__min_samples_split=2, estimator__min_samples_leaf=4 \n"
     ]
    },
    {
     "name": "stderr",
     "output_type": "stream",
     "text": [
      "/Users/rob/anaconda/lib/python3.5/site-packages/sklearn/externals/joblib/parallel.py:540: UserWarning: Multiprocessing-backed parallel loops cannot be nested, setting n_jobs=1\n",
      "  **self._backend_args)\n"
     ]
    },
    {
     "name": "stdout",
     "output_type": "stream",
     "text": [
      "[CV]  estimator__n_estimators=40, estimator__max_depth=6, estimator__min_samples_split=6, estimator__min_samples_leaf=2 -  26.4s\n",
      "[CV] estimator__n_estimators=10, estimator__max_depth=6, estimator__min_samples_split=2, estimator__min_samples_leaf=4 \n"
     ]
    },
    {
     "name": "stderr",
     "output_type": "stream",
     "text": [
      "/Users/rob/anaconda/lib/python3.5/site-packages/sklearn/externals/joblib/parallel.py:540: UserWarning: Multiprocessing-backed parallel loops cannot be nested, setting n_jobs=1\n",
      "  **self._backend_args)\n"
     ]
    },
    {
     "name": "stdout",
     "output_type": "stream",
     "text": [
      "[CV]  estimator__n_estimators=10, estimator__max_depth=6, estimator__min_samples_split=2, estimator__min_samples_leaf=4 -   6.7s\n",
      "[CV] estimator__n_estimators=10, estimator__max_depth=6, estimator__min_samples_split=2, estimator__min_samples_leaf=4 \n"
     ]
    },
    {
     "name": "stderr",
     "output_type": "stream",
     "text": [
      "/Users/rob/anaconda/lib/python3.5/site-packages/sklearn/externals/joblib/parallel.py:540: UserWarning: Multiprocessing-backed parallel loops cannot be nested, setting n_jobs=1\n",
      "  **self._backend_args)\n"
     ]
    },
    {
     "name": "stdout",
     "output_type": "stream",
     "text": [
      "[CV]  estimator__n_estimators=10, estimator__max_depth=6, estimator__min_samples_split=2, estimator__min_samples_leaf=4 -   6.8s\n",
      "[CV] estimator__n_estimators=20, estimator__max_depth=6, estimator__min_samples_split=2, estimator__min_samples_leaf=4 \n"
     ]
    },
    {
     "name": "stderr",
     "output_type": "stream",
     "text": [
      "/Users/rob/anaconda/lib/python3.5/site-packages/sklearn/externals/joblib/parallel.py:540: UserWarning: Multiprocessing-backed parallel loops cannot be nested, setting n_jobs=1\n",
      "  **self._backend_args)\n"
     ]
    },
    {
     "name": "stdout",
     "output_type": "stream",
     "text": [
      "[CV]  estimator__n_estimators=10, estimator__max_depth=6, estimator__min_samples_split=2, estimator__min_samples_leaf=4 -   6.8s\n",
      "[CV] estimator__n_estimators=20, estimator__max_depth=6, estimator__min_samples_split=2, estimator__min_samples_leaf=4 \n"
     ]
    },
    {
     "name": "stderr",
     "output_type": "stream",
     "text": [
      "/Users/rob/anaconda/lib/python3.5/site-packages/sklearn/externals/joblib/parallel.py:540: UserWarning: Multiprocessing-backed parallel loops cannot be nested, setting n_jobs=1\n",
      "  **self._backend_args)\n"
     ]
    },
    {
     "name": "stdout",
     "output_type": "stream",
     "text": [
      "[CV]  estimator__n_estimators=10, estimator__max_depth=6, estimator__min_samples_split=2, estimator__min_samples_leaf=4 -   6.7s\n",
      "[CV] estimator__n_estimators=20, estimator__max_depth=6, estimator__min_samples_split=2, estimator__min_samples_leaf=4 \n"
     ]
    },
    {
     "name": "stderr",
     "output_type": "stream",
     "text": [
      "/Users/rob/anaconda/lib/python3.5/site-packages/sklearn/externals/joblib/parallel.py:540: UserWarning: Multiprocessing-backed parallel loops cannot be nested, setting n_jobs=1\n",
      "  **self._backend_args)\n"
     ]
    },
    {
     "name": "stdout",
     "output_type": "stream",
     "text": [
      "[CV]  estimator__n_estimators=50, estimator__max_depth=6, estimator__min_samples_split=6, estimator__min_samples_leaf=2 -  33.0s\n",
      "[CV] estimator__n_estimators=20, estimator__max_depth=6, estimator__min_samples_split=2, estimator__min_samples_leaf=4 \n"
     ]
    },
    {
     "name": "stderr",
     "output_type": "stream",
     "text": [
      "/Users/rob/anaconda/lib/python3.5/site-packages/sklearn/externals/joblib/parallel.py:540: UserWarning: Multiprocessing-backed parallel loops cannot be nested, setting n_jobs=1\n",
      "  **self._backend_args)\n"
     ]
    },
    {
     "name": "stdout",
     "output_type": "stream",
     "text": [
      "[CV]  estimator__n_estimators=50, estimator__max_depth=6, estimator__min_samples_split=6, estimator__min_samples_leaf=2 -  32.8s\n",
      "[CV] estimator__n_estimators=20, estimator__max_depth=6, estimator__min_samples_split=2, estimator__min_samples_leaf=4 \n"
     ]
    },
    {
     "name": "stderr",
     "output_type": "stream",
     "text": [
      "/Users/rob/anaconda/lib/python3.5/site-packages/sklearn/externals/joblib/parallel.py:540: UserWarning: Multiprocessing-backed parallel loops cannot be nested, setting n_jobs=1\n",
      "  **self._backend_args)\n"
     ]
    },
    {
     "name": "stdout",
     "output_type": "stream",
     "text": [
      "[CV]  estimator__n_estimators=50, estimator__max_depth=6, estimator__min_samples_split=6, estimator__min_samples_leaf=2 -  33.0s\n",
      "[CV] estimator__n_estimators=30, estimator__max_depth=6, estimator__min_samples_split=2, estimator__min_samples_leaf=4 \n"
     ]
    },
    {
     "name": "stderr",
     "output_type": "stream",
     "text": [
      "/Users/rob/anaconda/lib/python3.5/site-packages/sklearn/externals/joblib/parallel.py:540: UserWarning: Multiprocessing-backed parallel loops cannot be nested, setting n_jobs=1\n",
      "  **self._backend_args)\n"
     ]
    },
    {
     "name": "stdout",
     "output_type": "stream",
     "text": [
      "[CV]  estimator__n_estimators=20, estimator__max_depth=6, estimator__min_samples_split=2, estimator__min_samples_leaf=4 -  13.3s\n",
      "[CV] estimator__n_estimators=30, estimator__max_depth=6, estimator__min_samples_split=2, estimator__min_samples_leaf=4 \n"
     ]
    },
    {
     "name": "stderr",
     "output_type": "stream",
     "text": [
      "/Users/rob/anaconda/lib/python3.5/site-packages/sklearn/externals/joblib/parallel.py:540: UserWarning: Multiprocessing-backed parallel loops cannot be nested, setting n_jobs=1\n",
      "  **self._backend_args)\n"
     ]
    },
    {
     "name": "stdout",
     "output_type": "stream",
     "text": [
      "[CV]  estimator__n_estimators=50, estimator__max_depth=6, estimator__min_samples_split=6, estimator__min_samples_leaf=2 -  33.4s\n",
      "[CV] estimator__n_estimators=30, estimator__max_depth=6, estimator__min_samples_split=2, estimator__min_samples_leaf=4 \n"
     ]
    },
    {
     "name": "stderr",
     "output_type": "stream",
     "text": [
      "/Users/rob/anaconda/lib/python3.5/site-packages/sklearn/externals/joblib/parallel.py:540: UserWarning: Multiprocessing-backed parallel loops cannot be nested, setting n_jobs=1\n",
      "  **self._backend_args)\n"
     ]
    },
    {
     "name": "stdout",
     "output_type": "stream",
     "text": [
      "[CV]  estimator__n_estimators=20, estimator__max_depth=6, estimator__min_samples_split=2, estimator__min_samples_leaf=4 -  13.7s\n",
      "[CV] estimator__n_estimators=30, estimator__max_depth=6, estimator__min_samples_split=2, estimator__min_samples_leaf=4 \n",
      "[CV]  estimator__n_estimators=50, estimator__max_depth=6, estimator__min_samples_split=6, estimator__min_samples_leaf=2 -  33.7s\n",
      "[CV] estimator__n_estimators=30, estimator__max_depth=6, estimator__min_samples_split=2, estimator__min_samples_leaf=4 \n"
     ]
    },
    {
     "name": "stderr",
     "output_type": "stream",
     "text": [
      "/Users/rob/anaconda/lib/python3.5/site-packages/sklearn/externals/joblib/parallel.py:540: UserWarning: Multiprocessing-backed parallel loops cannot be nested, setting n_jobs=1\n",
      "  **self._backend_args)\n",
      "/Users/rob/anaconda/lib/python3.5/site-packages/sklearn/externals/joblib/parallel.py:540: UserWarning: Multiprocessing-backed parallel loops cannot be nested, setting n_jobs=1\n",
      "  **self._backend_args)\n"
     ]
    },
    {
     "name": "stdout",
     "output_type": "stream",
     "text": [
      "[CV]  estimator__n_estimators=20, estimator__max_depth=6, estimator__min_samples_split=2, estimator__min_samples_leaf=4 -  13.8s\n",
      "[CV] estimator__n_estimators=40, estimator__max_depth=6, estimator__min_samples_split=2, estimator__min_samples_leaf=4 \n"
     ]
    },
    {
     "name": "stderr",
     "output_type": "stream",
     "text": [
      "/Users/rob/anaconda/lib/python3.5/site-packages/sklearn/externals/joblib/parallel.py:540: UserWarning: Multiprocessing-backed parallel loops cannot be nested, setting n_jobs=1\n",
      "  **self._backend_args)\n"
     ]
    },
    {
     "name": "stdout",
     "output_type": "stream",
     "text": [
      "[CV]  estimator__n_estimators=20, estimator__max_depth=6, estimator__min_samples_split=2, estimator__min_samples_leaf=4 -  13.8s\n",
      "[CV] estimator__n_estimators=40, estimator__max_depth=6, estimator__min_samples_split=2, estimator__min_samples_leaf=4 \n"
     ]
    },
    {
     "name": "stderr",
     "output_type": "stream",
     "text": [
      "/Users/rob/anaconda/lib/python3.5/site-packages/sklearn/externals/joblib/parallel.py:540: UserWarning: Multiprocessing-backed parallel loops cannot be nested, setting n_jobs=1\n",
      "  **self._backend_args)\n"
     ]
    },
    {
     "name": "stdout",
     "output_type": "stream",
     "text": [
      "[CV]  estimator__n_estimators=20, estimator__max_depth=6, estimator__min_samples_split=2, estimator__min_samples_leaf=4 -  13.9s\n",
      "[CV] estimator__n_estimators=40, estimator__max_depth=6, estimator__min_samples_split=2, estimator__min_samples_leaf=4 \n"
     ]
    },
    {
     "name": "stderr",
     "output_type": "stream",
     "text": [
      "/Users/rob/anaconda/lib/python3.5/site-packages/sklearn/externals/joblib/parallel.py:540: UserWarning: Multiprocessing-backed parallel loops cannot be nested, setting n_jobs=1\n",
      "  **self._backend_args)\n"
     ]
    },
    {
     "name": "stdout",
     "output_type": "stream",
     "text": [
      "[CV]  estimator__n_estimators=30, estimator__max_depth=6, estimator__min_samples_split=2, estimator__min_samples_leaf=4 -  20.2s\n",
      "[CV] estimator__n_estimators=40, estimator__max_depth=6, estimator__min_samples_split=2, estimator__min_samples_leaf=4 \n"
     ]
    },
    {
     "name": "stderr",
     "output_type": "stream",
     "text": [
      "/Users/rob/anaconda/lib/python3.5/site-packages/sklearn/externals/joblib/parallel.py:540: UserWarning: Multiprocessing-backed parallel loops cannot be nested, setting n_jobs=1\n",
      "  **self._backend_args)\n"
     ]
    },
    {
     "name": "stdout",
     "output_type": "stream",
     "text": [
      "[CV]  estimator__n_estimators=30, estimator__max_depth=6, estimator__min_samples_split=2, estimator__min_samples_leaf=4 -  20.4s\n",
      "[CV] estimator__n_estimators=40, estimator__max_depth=6, estimator__min_samples_split=2, estimator__min_samples_leaf=4 \n"
     ]
    },
    {
     "name": "stderr",
     "output_type": "stream",
     "text": [
      "/Users/rob/anaconda/lib/python3.5/site-packages/sklearn/externals/joblib/parallel.py:540: UserWarning: Multiprocessing-backed parallel loops cannot be nested, setting n_jobs=1\n",
      "  **self._backend_args)\n"
     ]
    },
    {
     "name": "stdout",
     "output_type": "stream",
     "text": [
      "[CV]  estimator__n_estimators=30, estimator__max_depth=6, estimator__min_samples_split=2, estimator__min_samples_leaf=4 -  20.0s\n",
      "[CV] estimator__n_estimators=50, estimator__max_depth=6, estimator__min_samples_split=2, estimator__min_samples_leaf=4 \n"
     ]
    },
    {
     "name": "stderr",
     "output_type": "stream",
     "text": [
      "/Users/rob/anaconda/lib/python3.5/site-packages/sklearn/externals/joblib/parallel.py:540: UserWarning: Multiprocessing-backed parallel loops cannot be nested, setting n_jobs=1\n",
      "  **self._backend_args)\n"
     ]
    },
    {
     "name": "stdout",
     "output_type": "stream",
     "text": [
      "[CV]  estimator__n_estimators=30, estimator__max_depth=6, estimator__min_samples_split=2, estimator__min_samples_leaf=4 -  20.1s\n",
      "[CV]  estimator__n_estimators=30, estimator__max_depth=6, estimator__min_samples_split=2, estimator__min_samples_leaf=4 -  19.9s\n",
      "[CV] estimator__n_estimators=50, estimator__max_depth=6, estimator__min_samples_split=2, estimator__min_samples_leaf=4 \n"
     ]
    },
    {
     "name": "stderr",
     "output_type": "stream",
     "text": [
      "/Users/rob/anaconda/lib/python3.5/site-packages/sklearn/externals/joblib/parallel.py:540: UserWarning: Multiprocessing-backed parallel loops cannot be nested, setting n_jobs=1\n",
      "  **self._backend_args)\n"
     ]
    },
    {
     "name": "stdout",
     "output_type": "stream",
     "text": [
      "[CV] estimator__n_estimators=50, estimator__max_depth=6, estimator__min_samples_split=2, estimator__min_samples_leaf=4 \n"
     ]
    },
    {
     "name": "stderr",
     "output_type": "stream",
     "text": [
      "/Users/rob/anaconda/lib/python3.5/site-packages/sklearn/externals/joblib/parallel.py:540: UserWarning: Multiprocessing-backed parallel loops cannot be nested, setting n_jobs=1\n",
      "  **self._backend_args)\n"
     ]
    },
    {
     "name": "stdout",
     "output_type": "stream",
     "text": [
      "[CV]  estimator__n_estimators=40, estimator__max_depth=6, estimator__min_samples_split=2, estimator__min_samples_leaf=4 -  26.6s\n",
      "[CV] estimator__n_estimators=50, estimator__max_depth=6, estimator__min_samples_split=2, estimator__min_samples_leaf=4 \n"
     ]
    },
    {
     "name": "stderr",
     "output_type": "stream",
     "text": [
      "/Users/rob/anaconda/lib/python3.5/site-packages/sklearn/externals/joblib/parallel.py:540: UserWarning: Multiprocessing-backed parallel loops cannot be nested, setting n_jobs=1\n",
      "  **self._backend_args)\n"
     ]
    },
    {
     "name": "stdout",
     "output_type": "stream",
     "text": [
      "[CV]  estimator__n_estimators=40, estimator__max_depth=6, estimator__min_samples_split=2, estimator__min_samples_leaf=4 -  26.6s\n",
      "[CV] estimator__n_estimators=50, estimator__max_depth=6, estimator__min_samples_split=2, estimator__min_samples_leaf=4 \n"
     ]
    },
    {
     "name": "stderr",
     "output_type": "stream",
     "text": [
      "/Users/rob/anaconda/lib/python3.5/site-packages/sklearn/externals/joblib/parallel.py:540: UserWarning: Multiprocessing-backed parallel loops cannot be nested, setting n_jobs=1\n",
      "  **self._backend_args)\n"
     ]
    },
    {
     "name": "stdout",
     "output_type": "stream",
     "text": [
      "[CV]  estimator__n_estimators=40, estimator__max_depth=6, estimator__min_samples_split=2, estimator__min_samples_leaf=4 -  26.6s\n",
      "[CV] estimator__n_estimators=10, estimator__max_depth=6, estimator__min_samples_split=4, estimator__min_samples_leaf=4 \n"
     ]
    },
    {
     "name": "stderr",
     "output_type": "stream",
     "text": [
      "/Users/rob/anaconda/lib/python3.5/site-packages/sklearn/externals/joblib/parallel.py:540: UserWarning: Multiprocessing-backed parallel loops cannot be nested, setting n_jobs=1\n",
      "  **self._backend_args)\n"
     ]
    },
    {
     "name": "stdout",
     "output_type": "stream",
     "text": [
      "[CV]  estimator__n_estimators=40, estimator__max_depth=6, estimator__min_samples_split=2, estimator__min_samples_leaf=4 -  26.7s\n",
      "[CV] estimator__n_estimators=10, estimator__max_depth=6, estimator__min_samples_split=4, estimator__min_samples_leaf=4 \n",
      "[CV]  estimator__n_estimators=10, estimator__max_depth=6, estimator__min_samples_split=4, estimator__min_samples_leaf=4 -   6.7s\n"
     ]
    },
    {
     "name": "stderr",
     "output_type": "stream",
     "text": [
      "/Users/rob/anaconda/lib/python3.5/site-packages/sklearn/externals/joblib/parallel.py:540: UserWarning: Multiprocessing-backed parallel loops cannot be nested, setting n_jobs=1\n",
      "  **self._backend_args)\n"
     ]
    },
    {
     "name": "stdout",
     "output_type": "stream",
     "text": [
      "[CV] estimator__n_estimators=10, estimator__max_depth=6, estimator__min_samples_split=4, estimator__min_samples_leaf=4 \n"
     ]
    },
    {
     "name": "stderr",
     "output_type": "stream",
     "text": [
      "/Users/rob/anaconda/lib/python3.5/site-packages/sklearn/externals/joblib/parallel.py:540: UserWarning: Multiprocessing-backed parallel loops cannot be nested, setting n_jobs=1\n",
      "  **self._backend_args)\n"
     ]
    },
    {
     "name": "stdout",
     "output_type": "stream",
     "text": [
      "[CV]  estimator__n_estimators=40, estimator__max_depth=6, estimator__min_samples_split=2, estimator__min_samples_leaf=4 -  26.5s\n",
      "[CV] estimator__n_estimators=10, estimator__max_depth=6, estimator__min_samples_split=4, estimator__min_samples_leaf=4 \n"
     ]
    },
    {
     "name": "stderr",
     "output_type": "stream",
     "text": [
      "/Users/rob/anaconda/lib/python3.5/site-packages/sklearn/externals/joblib/parallel.py:540: UserWarning: Multiprocessing-backed parallel loops cannot be nested, setting n_jobs=1\n",
      "  **self._backend_args)\n"
     ]
    },
    {
     "name": "stdout",
     "output_type": "stream",
     "text": [
      "[CV]  estimator__n_estimators=10, estimator__max_depth=6, estimator__min_samples_split=4, estimator__min_samples_leaf=4 -   6.8s\n",
      "[CV] estimator__n_estimators=10, estimator__max_depth=6, estimator__min_samples_split=4, estimator__min_samples_leaf=4 \n"
     ]
    },
    {
     "name": "stderr",
     "output_type": "stream",
     "text": [
      "/Users/rob/anaconda/lib/python3.5/site-packages/sklearn/externals/joblib/parallel.py:540: UserWarning: Multiprocessing-backed parallel loops cannot be nested, setting n_jobs=1\n",
      "  **self._backend_args)\n"
     ]
    },
    {
     "name": "stdout",
     "output_type": "stream",
     "text": [
      "[CV]  estimator__n_estimators=10, estimator__max_depth=6, estimator__min_samples_split=4, estimator__min_samples_leaf=4 -   6.9s\n",
      "[CV] estimator__n_estimators=20, estimator__max_depth=6, estimator__min_samples_split=4, estimator__min_samples_leaf=4 \n"
     ]
    },
    {
     "name": "stderr",
     "output_type": "stream",
     "text": [
      "/Users/rob/anaconda/lib/python3.5/site-packages/sklearn/externals/joblib/parallel.py:540: UserWarning: Multiprocessing-backed parallel loops cannot be nested, setting n_jobs=1\n",
      "  **self._backend_args)\n"
     ]
    },
    {
     "name": "stdout",
     "output_type": "stream",
     "text": [
      "[CV]  estimator__n_estimators=10, estimator__max_depth=6, estimator__min_samples_split=4, estimator__min_samples_leaf=4 -   6.8s\n",
      "[CV] estimator__n_estimators=20, estimator__max_depth=6, estimator__min_samples_split=4, estimator__min_samples_leaf=4 \n"
     ]
    },
    {
     "name": "stderr",
     "output_type": "stream",
     "text": [
      "/Users/rob/anaconda/lib/python3.5/site-packages/sklearn/externals/joblib/parallel.py:540: UserWarning: Multiprocessing-backed parallel loops cannot be nested, setting n_jobs=1\n",
      "  **self._backend_args)\n"
     ]
    },
    {
     "name": "stdout",
     "output_type": "stream",
     "text": [
      "[CV]  estimator__n_estimators=10, estimator__max_depth=6, estimator__min_samples_split=4, estimator__min_samples_leaf=4 -   6.7s\n",
      "[CV] estimator__n_estimators=20, estimator__max_depth=6, estimator__min_samples_split=4, estimator__min_samples_leaf=4 \n"
     ]
    },
    {
     "name": "stderr",
     "output_type": "stream",
     "text": [
      "/Users/rob/anaconda/lib/python3.5/site-packages/sklearn/externals/joblib/parallel.py:540: UserWarning: Multiprocessing-backed parallel loops cannot be nested, setting n_jobs=1\n",
      "  **self._backend_args)\n"
     ]
    },
    {
     "name": "stdout",
     "output_type": "stream",
     "text": [
      "[CV]  estimator__n_estimators=50, estimator__max_depth=6, estimator__min_samples_split=2, estimator__min_samples_leaf=4 -  33.1s\n",
      "[CV] estimator__n_estimators=20, estimator__max_depth=6, estimator__min_samples_split=4, estimator__min_samples_leaf=4 \n"
     ]
    },
    {
     "name": "stderr",
     "output_type": "stream",
     "text": [
      "/Users/rob/anaconda/lib/python3.5/site-packages/sklearn/externals/joblib/parallel.py:540: UserWarning: Multiprocessing-backed parallel loops cannot be nested, setting n_jobs=1\n",
      "  **self._backend_args)\n"
     ]
    },
    {
     "name": "stdout",
     "output_type": "stream",
     "text": [
      "[CV]  estimator__n_estimators=50, estimator__max_depth=6, estimator__min_samples_split=2, estimator__min_samples_leaf=4 -  33.0s\n",
      "[CV]  estimator__n_estimators=50, estimator__max_depth=6, estimator__min_samples_split=2, estimator__min_samples_leaf=4 -  33.0s\n",
      "[CV] estimator__n_estimators=20, estimator__max_depth=6, estimator__min_samples_split=4, estimator__min_samples_leaf=4 \n"
     ]
    },
    {
     "name": "stderr",
     "output_type": "stream",
     "text": [
      "/Users/rob/anaconda/lib/python3.5/site-packages/sklearn/externals/joblib/parallel.py:540: UserWarning: Multiprocessing-backed parallel loops cannot be nested, setting n_jobs=1\n",
      "  **self._backend_args)\n"
     ]
    },
    {
     "name": "stdout",
     "output_type": "stream",
     "text": [
      "[CV] estimator__n_estimators=30, estimator__max_depth=6, estimator__min_samples_split=4, estimator__min_samples_leaf=4 \n"
     ]
    },
    {
     "name": "stderr",
     "output_type": "stream",
     "text": [
      "/Users/rob/anaconda/lib/python3.5/site-packages/sklearn/externals/joblib/parallel.py:540: UserWarning: Multiprocessing-backed parallel loops cannot be nested, setting n_jobs=1\n",
      "  **self._backend_args)\n"
     ]
    },
    {
     "name": "stdout",
     "output_type": "stream",
     "text": [
      "[CV]  estimator__n_estimators=20, estimator__max_depth=6, estimator__min_samples_split=4, estimator__min_samples_leaf=4 -  13.3s\n",
      "[CV] estimator__n_estimators=30, estimator__max_depth=6, estimator__min_samples_split=4, estimator__min_samples_leaf=4 \n"
     ]
    },
    {
     "name": "stderr",
     "output_type": "stream",
     "text": [
      "/Users/rob/anaconda/lib/python3.5/site-packages/sklearn/externals/joblib/parallel.py:540: UserWarning: Multiprocessing-backed parallel loops cannot be nested, setting n_jobs=1\n",
      "  **self._backend_args)\n"
     ]
    },
    {
     "name": "stdout",
     "output_type": "stream",
     "text": [
      "[CV]  estimator__n_estimators=50, estimator__max_depth=6, estimator__min_samples_split=2, estimator__min_samples_leaf=4 -  33.1s\n",
      "[CV] estimator__n_estimators=30, estimator__max_depth=6, estimator__min_samples_split=4, estimator__min_samples_leaf=4 \n"
     ]
    },
    {
     "name": "stderr",
     "output_type": "stream",
     "text": [
      "/Users/rob/anaconda/lib/python3.5/site-packages/sklearn/externals/joblib/parallel.py:540: UserWarning: Multiprocessing-backed parallel loops cannot be nested, setting n_jobs=1\n",
      "  **self._backend_args)\n"
     ]
    },
    {
     "name": "stdout",
     "output_type": "stream",
     "text": [
      "[CV]  estimator__n_estimators=20, estimator__max_depth=6, estimator__min_samples_split=4, estimator__min_samples_leaf=4 -  13.4s\n",
      "[CV] estimator__n_estimators=30, estimator__max_depth=6, estimator__min_samples_split=4, estimator__min_samples_leaf=4 \n"
     ]
    },
    {
     "name": "stderr",
     "output_type": "stream",
     "text": [
      "/Users/rob/anaconda/lib/python3.5/site-packages/sklearn/externals/joblib/parallel.py:540: UserWarning: Multiprocessing-backed parallel loops cannot be nested, setting n_jobs=1\n",
      "  **self._backend_args)\n"
     ]
    },
    {
     "name": "stdout",
     "output_type": "stream",
     "text": [
      "[CV]  estimator__n_estimators=50, estimator__max_depth=6, estimator__min_samples_split=2, estimator__min_samples_leaf=4 -  33.3s\n",
      "[CV] estimator__n_estimators=30, estimator__max_depth=6, estimator__min_samples_split=4, estimator__min_samples_leaf=4 \n"
     ]
    },
    {
     "name": "stderr",
     "output_type": "stream",
     "text": [
      "/Users/rob/anaconda/lib/python3.5/site-packages/sklearn/externals/joblib/parallel.py:540: UserWarning: Multiprocessing-backed parallel loops cannot be nested, setting n_jobs=1\n",
      "  **self._backend_args)\n"
     ]
    },
    {
     "name": "stdout",
     "output_type": "stream",
     "text": [
      "[CV]  estimator__n_estimators=20, estimator__max_depth=6, estimator__min_samples_split=4, estimator__min_samples_leaf=4 -  13.3s\n",
      "[CV] estimator__n_estimators=40, estimator__max_depth=6, estimator__min_samples_split=4, estimator__min_samples_leaf=4 \n"
     ]
    },
    {
     "name": "stderr",
     "output_type": "stream",
     "text": [
      "/Users/rob/anaconda/lib/python3.5/site-packages/sklearn/externals/joblib/parallel.py:540: UserWarning: Multiprocessing-backed parallel loops cannot be nested, setting n_jobs=1\n",
      "  **self._backend_args)\n"
     ]
    },
    {
     "name": "stdout",
     "output_type": "stream",
     "text": [
      "[CV]  estimator__n_estimators=20, estimator__max_depth=6, estimator__min_samples_split=4, estimator__min_samples_leaf=4 -  13.2s\n",
      "[CV] estimator__n_estimators=40, estimator__max_depth=6, estimator__min_samples_split=4, estimator__min_samples_leaf=4 \n"
     ]
    },
    {
     "name": "stderr",
     "output_type": "stream",
     "text": [
      "/Users/rob/anaconda/lib/python3.5/site-packages/sklearn/externals/joblib/parallel.py:540: UserWarning: Multiprocessing-backed parallel loops cannot be nested, setting n_jobs=1\n",
      "  **self._backend_args)\n"
     ]
    },
    {
     "name": "stdout",
     "output_type": "stream",
     "text": [
      "[CV]  estimator__n_estimators=20, estimator__max_depth=6, estimator__min_samples_split=4, estimator__min_samples_leaf=4 -  13.4s\n",
      "[CV] estimator__n_estimators=40, estimator__max_depth=6, estimator__min_samples_split=4, estimator__min_samples_leaf=4 \n"
     ]
    },
    {
     "name": "stderr",
     "output_type": "stream",
     "text": [
      "/Users/rob/anaconda/lib/python3.5/site-packages/sklearn/externals/joblib/parallel.py:540: UserWarning: Multiprocessing-backed parallel loops cannot be nested, setting n_jobs=1\n",
      "  **self._backend_args)\n"
     ]
    },
    {
     "name": "stdout",
     "output_type": "stream",
     "text": [
      "[CV]  estimator__n_estimators=30, estimator__max_depth=6, estimator__min_samples_split=4, estimator__min_samples_leaf=4 -  19.9s\n",
      "[CV] estimator__n_estimators=40, estimator__max_depth=6, estimator__min_samples_split=4, estimator__min_samples_leaf=4 \n"
     ]
    },
    {
     "name": "stderr",
     "output_type": "stream",
     "text": [
      "/Users/rob/anaconda/lib/python3.5/site-packages/sklearn/externals/joblib/parallel.py:540: UserWarning: Multiprocessing-backed parallel loops cannot be nested, setting n_jobs=1\n",
      "  **self._backend_args)\n"
     ]
    },
    {
     "name": "stdout",
     "output_type": "stream",
     "text": [
      "[CV]  estimator__n_estimators=30, estimator__max_depth=6, estimator__min_samples_split=4, estimator__min_samples_leaf=4 -  19.8s\n",
      "[CV] estimator__n_estimators=40, estimator__max_depth=6, estimator__min_samples_split=4, estimator__min_samples_leaf=4 \n"
     ]
    },
    {
     "name": "stderr",
     "output_type": "stream",
     "text": [
      "/Users/rob/anaconda/lib/python3.5/site-packages/sklearn/externals/joblib/parallel.py:540: UserWarning: Multiprocessing-backed parallel loops cannot be nested, setting n_jobs=1\n",
      "  **self._backend_args)\n"
     ]
    },
    {
     "name": "stdout",
     "output_type": "stream",
     "text": [
      "[CV]  estimator__n_estimators=30, estimator__max_depth=6, estimator__min_samples_split=4, estimator__min_samples_leaf=4 -  20.0s\n",
      "[CV] estimator__n_estimators=50, estimator__max_depth=6, estimator__min_samples_split=4, estimator__min_samples_leaf=4 \n"
     ]
    },
    {
     "name": "stderr",
     "output_type": "stream",
     "text": [
      "/Users/rob/anaconda/lib/python3.5/site-packages/sklearn/externals/joblib/parallel.py:540: UserWarning: Multiprocessing-backed parallel loops cannot be nested, setting n_jobs=1\n",
      "  **self._backend_args)\n"
     ]
    },
    {
     "name": "stdout",
     "output_type": "stream",
     "text": [
      "[CV]  estimator__n_estimators=30, estimator__max_depth=6, estimator__min_samples_split=4, estimator__min_samples_leaf=4 -  20.1s\n",
      "[CV] estimator__n_estimators=50, estimator__max_depth=6, estimator__min_samples_split=4, estimator__min_samples_leaf=4 \n"
     ]
    },
    {
     "name": "stderr",
     "output_type": "stream",
     "text": [
      "/Users/rob/anaconda/lib/python3.5/site-packages/sklearn/externals/joblib/parallel.py:540: UserWarning: Multiprocessing-backed parallel loops cannot be nested, setting n_jobs=1\n",
      "  **self._backend_args)\n"
     ]
    },
    {
     "name": "stdout",
     "output_type": "stream",
     "text": [
      "[CV]  estimator__n_estimators=30, estimator__max_depth=6, estimator__min_samples_split=4, estimator__min_samples_leaf=4 -  20.0s\n",
      "[CV] estimator__n_estimators=50, estimator__max_depth=6, estimator__min_samples_split=4, estimator__min_samples_leaf=4 \n"
     ]
    },
    {
     "name": "stderr",
     "output_type": "stream",
     "text": [
      "/Users/rob/anaconda/lib/python3.5/site-packages/sklearn/externals/joblib/parallel.py:540: UserWarning: Multiprocessing-backed parallel loops cannot be nested, setting n_jobs=1\n",
      "  **self._backend_args)\n"
     ]
    },
    {
     "name": "stdout",
     "output_type": "stream",
     "text": [
      "[CV]  estimator__n_estimators=40, estimator__max_depth=6, estimator__min_samples_split=4, estimator__min_samples_leaf=4 -  26.7s\n",
      "[CV] estimator__n_estimators=50, estimator__max_depth=6, estimator__min_samples_split=4, estimator__min_samples_leaf=4 \n"
     ]
    },
    {
     "name": "stderr",
     "output_type": "stream",
     "text": [
      "/Users/rob/anaconda/lib/python3.5/site-packages/sklearn/externals/joblib/parallel.py:540: UserWarning: Multiprocessing-backed parallel loops cannot be nested, setting n_jobs=1\n",
      "  **self._backend_args)\n"
     ]
    },
    {
     "name": "stdout",
     "output_type": "stream",
     "text": [
      "[CV]  estimator__n_estimators=40, estimator__max_depth=6, estimator__min_samples_split=4, estimator__min_samples_leaf=4 -  26.6s\n",
      "[CV] estimator__n_estimators=50, estimator__max_depth=6, estimator__min_samples_split=4, estimator__min_samples_leaf=4 \n"
     ]
    },
    {
     "name": "stderr",
     "output_type": "stream",
     "text": [
      "/Users/rob/anaconda/lib/python3.5/site-packages/sklearn/externals/joblib/parallel.py:540: UserWarning: Multiprocessing-backed parallel loops cannot be nested, setting n_jobs=1\n",
      "  **self._backend_args)\n"
     ]
    },
    {
     "name": "stdout",
     "output_type": "stream",
     "text": [
      "[CV]  estimator__n_estimators=40, estimator__max_depth=6, estimator__min_samples_split=4, estimator__min_samples_leaf=4 -  26.6s\n",
      "[CV] estimator__n_estimators=10, estimator__max_depth=6, estimator__min_samples_split=6, estimator__min_samples_leaf=4 \n"
     ]
    },
    {
     "name": "stderr",
     "output_type": "stream",
     "text": [
      "/Users/rob/anaconda/lib/python3.5/site-packages/sklearn/externals/joblib/parallel.py:540: UserWarning: Multiprocessing-backed parallel loops cannot be nested, setting n_jobs=1\n",
      "  **self._backend_args)\n"
     ]
    },
    {
     "name": "stdout",
     "output_type": "stream",
     "text": [
      "[CV]  estimator__n_estimators=40, estimator__max_depth=6, estimator__min_samples_split=4, estimator__min_samples_leaf=4 -  26.5s\n",
      "[CV] estimator__n_estimators=10, estimator__max_depth=6, estimator__min_samples_split=6, estimator__min_samples_leaf=4 \n"
     ]
    },
    {
     "name": "stderr",
     "output_type": "stream",
     "text": [
      "/Users/rob/anaconda/lib/python3.5/site-packages/sklearn/externals/joblib/parallel.py:540: UserWarning: Multiprocessing-backed parallel loops cannot be nested, setting n_jobs=1\n",
      "  **self._backend_args)\n"
     ]
    },
    {
     "name": "stdout",
     "output_type": "stream",
     "text": [
      "[CV]  estimator__n_estimators=10, estimator__max_depth=6, estimator__min_samples_split=6, estimator__min_samples_leaf=4 -   6.7s\n",
      "[CV] estimator__n_estimators=10, estimator__max_depth=6, estimator__min_samples_split=6, estimator__min_samples_leaf=4 \n"
     ]
    },
    {
     "name": "stderr",
     "output_type": "stream",
     "text": [
      "/Users/rob/anaconda/lib/python3.5/site-packages/sklearn/externals/joblib/parallel.py:540: UserWarning: Multiprocessing-backed parallel loops cannot be nested, setting n_jobs=1\n",
      "  **self._backend_args)\n"
     ]
    },
    {
     "name": "stdout",
     "output_type": "stream",
     "text": [
      "[CV]  estimator__n_estimators=40, estimator__max_depth=6, estimator__min_samples_split=4, estimator__min_samples_leaf=4 -  26.6s\n",
      "[CV] estimator__n_estimators=10, estimator__max_depth=6, estimator__min_samples_split=6, estimator__min_samples_leaf=4 \n"
     ]
    },
    {
     "name": "stderr",
     "output_type": "stream",
     "text": [
      "/Users/rob/anaconda/lib/python3.5/site-packages/sklearn/externals/joblib/parallel.py:540: UserWarning: Multiprocessing-backed parallel loops cannot be nested, setting n_jobs=1\n",
      "  **self._backend_args)\n"
     ]
    },
    {
     "name": "stdout",
     "output_type": "stream",
     "text": [
      "[CV]  estimator__n_estimators=10, estimator__max_depth=6, estimator__min_samples_split=6, estimator__min_samples_leaf=4 -   6.7s\n",
      "[CV] estimator__n_estimators=10, estimator__max_depth=6, estimator__min_samples_split=6, estimator__min_samples_leaf=4 \n"
     ]
    },
    {
     "name": "stderr",
     "output_type": "stream",
     "text": [
      "/Users/rob/anaconda/lib/python3.5/site-packages/sklearn/externals/joblib/parallel.py:540: UserWarning: Multiprocessing-backed parallel loops cannot be nested, setting n_jobs=1\n",
      "  **self._backend_args)\n"
     ]
    },
    {
     "name": "stdout",
     "output_type": "stream",
     "text": [
      "[CV]  estimator__n_estimators=10, estimator__max_depth=6, estimator__min_samples_split=6, estimator__min_samples_leaf=4 -   6.9s\n",
      "[CV] estimator__n_estimators=20, estimator__max_depth=6, estimator__min_samples_split=6, estimator__min_samples_leaf=4 \n"
     ]
    },
    {
     "name": "stderr",
     "output_type": "stream",
     "text": [
      "/Users/rob/anaconda/lib/python3.5/site-packages/sklearn/externals/joblib/parallel.py:540: UserWarning: Multiprocessing-backed parallel loops cannot be nested, setting n_jobs=1\n",
      "  **self._backend_args)\n"
     ]
    },
    {
     "name": "stdout",
     "output_type": "stream",
     "text": [
      "[CV]  estimator__n_estimators=10, estimator__max_depth=6, estimator__min_samples_split=6, estimator__min_samples_leaf=4 -   6.7s\n",
      "[CV] estimator__n_estimators=20, estimator__max_depth=6, estimator__min_samples_split=6, estimator__min_samples_leaf=4 \n"
     ]
    },
    {
     "name": "stderr",
     "output_type": "stream",
     "text": [
      "/Users/rob/anaconda/lib/python3.5/site-packages/sklearn/externals/joblib/parallel.py:540: UserWarning: Multiprocessing-backed parallel loops cannot be nested, setting n_jobs=1\n",
      "  **self._backend_args)\n"
     ]
    },
    {
     "name": "stdout",
     "output_type": "stream",
     "text": [
      "[CV]  estimator__n_estimators=10, estimator__max_depth=6, estimator__min_samples_split=6, estimator__min_samples_leaf=4 -   6.8s\n",
      "[CV] estimator__n_estimators=20, estimator__max_depth=6, estimator__min_samples_split=6, estimator__min_samples_leaf=4 \n",
      "[CV]  estimator__n_estimators=50, estimator__max_depth=6, estimator__min_samples_split=4, estimator__min_samples_leaf=4 -  33.1s\n",
      "[CV] estimator__n_estimators=20, estimator__max_depth=6, estimator__min_samples_split=6, estimator__min_samples_leaf=4 \n"
     ]
    },
    {
     "name": "stderr",
     "output_type": "stream",
     "text": [
      "/Users/rob/anaconda/lib/python3.5/site-packages/sklearn/externals/joblib/parallel.py:540: UserWarning: Multiprocessing-backed parallel loops cannot be nested, setting n_jobs=1\n",
      "  **self._backend_args)\n",
      "/Users/rob/anaconda/lib/python3.5/site-packages/sklearn/externals/joblib/parallel.py:540: UserWarning: Multiprocessing-backed parallel loops cannot be nested, setting n_jobs=1\n",
      "  **self._backend_args)\n"
     ]
    },
    {
     "name": "stdout",
     "output_type": "stream",
     "text": [
      "[CV]  estimator__n_estimators=50, estimator__max_depth=6, estimator__min_samples_split=4, estimator__min_samples_leaf=4 -  33.2s\n",
      "[CV] estimator__n_estimators=20, estimator__max_depth=6, estimator__min_samples_split=6, estimator__min_samples_leaf=4 \n"
     ]
    },
    {
     "name": "stderr",
     "output_type": "stream",
     "text": [
      "/Users/rob/anaconda/lib/python3.5/site-packages/sklearn/externals/joblib/parallel.py:540: UserWarning: Multiprocessing-backed parallel loops cannot be nested, setting n_jobs=1\n",
      "  **self._backend_args)\n"
     ]
    },
    {
     "name": "stdout",
     "output_type": "stream",
     "text": [
      "[CV]  estimator__n_estimators=50, estimator__max_depth=6, estimator__min_samples_split=4, estimator__min_samples_leaf=4 -  33.4s\n",
      "[CV] estimator__n_estimators=30, estimator__max_depth=6, estimator__min_samples_split=6, estimator__min_samples_leaf=4 \n"
     ]
    },
    {
     "name": "stderr",
     "output_type": "stream",
     "text": [
      "/Users/rob/anaconda/lib/python3.5/site-packages/sklearn/externals/joblib/parallel.py:540: UserWarning: Multiprocessing-backed parallel loops cannot be nested, setting n_jobs=1\n",
      "  **self._backend_args)\n"
     ]
    },
    {
     "name": "stdout",
     "output_type": "stream",
     "text": [
      "[CV]  estimator__n_estimators=20, estimator__max_depth=6, estimator__min_samples_split=6, estimator__min_samples_leaf=4 -  13.7s\n",
      "[CV] estimator__n_estimators=30, estimator__max_depth=6, estimator__min_samples_split=6, estimator__min_samples_leaf=4 \n"
     ]
    },
    {
     "name": "stderr",
     "output_type": "stream",
     "text": [
      "/Users/rob/anaconda/lib/python3.5/site-packages/sklearn/externals/joblib/parallel.py:540: UserWarning: Multiprocessing-backed parallel loops cannot be nested, setting n_jobs=1\n",
      "  **self._backend_args)\n"
     ]
    },
    {
     "name": "stdout",
     "output_type": "stream",
     "text": [
      "[CV]  estimator__n_estimators=50, estimator__max_depth=6, estimator__min_samples_split=4, estimator__min_samples_leaf=4 -  33.3s\n",
      "[CV] estimator__n_estimators=30, estimator__max_depth=6, estimator__min_samples_split=6, estimator__min_samples_leaf=4 \n",
      "[CV]  estimator__n_estimators=20, estimator__max_depth=6, estimator__min_samples_split=6, estimator__min_samples_leaf=4 -  13.4s\n",
      "[CV] estimator__n_estimators=30, estimator__max_depth=6, estimator__min_samples_split=6, estimator__min_samples_leaf=4 \n"
     ]
    },
    {
     "name": "stderr",
     "output_type": "stream",
     "text": [
      "/Users/rob/anaconda/lib/python3.5/site-packages/sklearn/externals/joblib/parallel.py:540: UserWarning: Multiprocessing-backed parallel loops cannot be nested, setting n_jobs=1\n",
      "  **self._backend_args)\n",
      "/Users/rob/anaconda/lib/python3.5/site-packages/sklearn/externals/joblib/parallel.py:540: UserWarning: Multiprocessing-backed parallel loops cannot be nested, setting n_jobs=1\n",
      "  **self._backend_args)\n"
     ]
    },
    {
     "name": "stdout",
     "output_type": "stream",
     "text": [
      "[CV]  estimator__n_estimators=50, estimator__max_depth=6, estimator__min_samples_split=4, estimator__min_samples_leaf=4 -  33.4s\n",
      "[CV] estimator__n_estimators=30, estimator__max_depth=6, estimator__min_samples_split=6, estimator__min_samples_leaf=4 \n"
     ]
    },
    {
     "name": "stderr",
     "output_type": "stream",
     "text": [
      "/Users/rob/anaconda/lib/python3.5/site-packages/sklearn/externals/joblib/parallel.py:540: UserWarning: Multiprocessing-backed parallel loops cannot be nested, setting n_jobs=1\n",
      "  **self._backend_args)\n"
     ]
    },
    {
     "name": "stdout",
     "output_type": "stream",
     "text": [
      "[CV]  estimator__n_estimators=20, estimator__max_depth=6, estimator__min_samples_split=6, estimator__min_samples_leaf=4 -  13.5s\n",
      "[CV]  estimator__n_estimators=20, estimator__max_depth=6, estimator__min_samples_split=6, estimator__min_samples_leaf=4 -  13.5s\n",
      "[CV] estimator__n_estimators=40, estimator__max_depth=6, estimator__min_samples_split=6, estimator__min_samples_leaf=4 \n"
     ]
    },
    {
     "name": "stderr",
     "output_type": "stream",
     "text": [
      "/Users/rob/anaconda/lib/python3.5/site-packages/sklearn/externals/joblib/parallel.py:540: UserWarning: Multiprocessing-backed parallel loops cannot be nested, setting n_jobs=1\n",
      "  **self._backend_args)\n"
     ]
    },
    {
     "name": "stdout",
     "output_type": "stream",
     "text": [
      "[CV] estimator__n_estimators=40, estimator__max_depth=6, estimator__min_samples_split=6, estimator__min_samples_leaf=4 \n"
     ]
    },
    {
     "name": "stderr",
     "output_type": "stream",
     "text": [
      "/Users/rob/anaconda/lib/python3.5/site-packages/sklearn/externals/joblib/parallel.py:540: UserWarning: Multiprocessing-backed parallel loops cannot be nested, setting n_jobs=1\n",
      "  **self._backend_args)\n"
     ]
    },
    {
     "name": "stdout",
     "output_type": "stream",
     "text": [
      "[CV]  estimator__n_estimators=20, estimator__max_depth=6, estimator__min_samples_split=6, estimator__min_samples_leaf=4 -  13.4s\n",
      "[CV] estimator__n_estimators=40, estimator__max_depth=6, estimator__min_samples_split=6, estimator__min_samples_leaf=4 \n"
     ]
    },
    {
     "name": "stderr",
     "output_type": "stream",
     "text": [
      "/Users/rob/anaconda/lib/python3.5/site-packages/sklearn/externals/joblib/parallel.py:540: UserWarning: Multiprocessing-backed parallel loops cannot be nested, setting n_jobs=1\n",
      "  **self._backend_args)\n"
     ]
    },
    {
     "name": "stdout",
     "output_type": "stream",
     "text": [
      "[CV]  estimator__n_estimators=30, estimator__max_depth=6, estimator__min_samples_split=6, estimator__min_samples_leaf=4 -  20.2s\n",
      "[CV] estimator__n_estimators=40, estimator__max_depth=6, estimator__min_samples_split=6, estimator__min_samples_leaf=4 \n"
     ]
    },
    {
     "name": "stderr",
     "output_type": "stream",
     "text": [
      "/Users/rob/anaconda/lib/python3.5/site-packages/sklearn/externals/joblib/parallel.py:540: UserWarning: Multiprocessing-backed parallel loops cannot be nested, setting n_jobs=1\n",
      "  **self._backend_args)\n"
     ]
    },
    {
     "name": "stdout",
     "output_type": "stream",
     "text": [
      "[CV]  estimator__n_estimators=30, estimator__max_depth=6, estimator__min_samples_split=6, estimator__min_samples_leaf=4 -  20.3s\n",
      "[CV] estimator__n_estimators=40, estimator__max_depth=6, estimator__min_samples_split=6, estimator__min_samples_leaf=4 \n"
     ]
    },
    {
     "name": "stderr",
     "output_type": "stream",
     "text": [
      "/Users/rob/anaconda/lib/python3.5/site-packages/sklearn/externals/joblib/parallel.py:540: UserWarning: Multiprocessing-backed parallel loops cannot be nested, setting n_jobs=1\n",
      "  **self._backend_args)\n"
     ]
    },
    {
     "name": "stdout",
     "output_type": "stream",
     "text": [
      "[CV]  estimator__n_estimators=30, estimator__max_depth=6, estimator__min_samples_split=6, estimator__min_samples_leaf=4 -  20.2s\n",
      "[CV] estimator__n_estimators=50, estimator__max_depth=6, estimator__min_samples_split=6, estimator__min_samples_leaf=4 \n"
     ]
    },
    {
     "name": "stderr",
     "output_type": "stream",
     "text": [
      "/Users/rob/anaconda/lib/python3.5/site-packages/sklearn/externals/joblib/parallel.py:540: UserWarning: Multiprocessing-backed parallel loops cannot be nested, setting n_jobs=1\n",
      "  **self._backend_args)\n"
     ]
    },
    {
     "name": "stdout",
     "output_type": "stream",
     "text": [
      "[CV]  estimator__n_estimators=30, estimator__max_depth=6, estimator__min_samples_split=6, estimator__min_samples_leaf=4 -  20.3s\n",
      "[CV] estimator__n_estimators=50, estimator__max_depth=6, estimator__min_samples_split=6, estimator__min_samples_leaf=4 \n"
     ]
    },
    {
     "name": "stderr",
     "output_type": "stream",
     "text": [
      "/Users/rob/anaconda/lib/python3.5/site-packages/sklearn/externals/joblib/parallel.py:540: UserWarning: Multiprocessing-backed parallel loops cannot be nested, setting n_jobs=1\n",
      "  **self._backend_args)\n"
     ]
    },
    {
     "name": "stdout",
     "output_type": "stream",
     "text": [
      "[CV]  estimator__n_estimators=30, estimator__max_depth=6, estimator__min_samples_split=6, estimator__min_samples_leaf=4 -  20.3s\n",
      "[CV] estimator__n_estimators=50, estimator__max_depth=6, estimator__min_samples_split=6, estimator__min_samples_leaf=4 \n"
     ]
    },
    {
     "name": "stderr",
     "output_type": "stream",
     "text": [
      "/Users/rob/anaconda/lib/python3.5/site-packages/sklearn/externals/joblib/parallel.py:540: UserWarning: Multiprocessing-backed parallel loops cannot be nested, setting n_jobs=1\n",
      "  **self._backend_args)\n"
     ]
    },
    {
     "name": "stdout",
     "output_type": "stream",
     "text": [
      "[CV]  estimator__n_estimators=40, estimator__max_depth=6, estimator__min_samples_split=6, estimator__min_samples_leaf=4 -  26.9s\n",
      "[CV] estimator__n_estimators=50, estimator__max_depth=6, estimator__min_samples_split=6, estimator__min_samples_leaf=4 \n",
      "[CV]  estimator__n_estimators=40, estimator__max_depth=6, estimator__min_samples_split=6, estimator__min_samples_leaf=4 -  26.8s\n",
      "[CV] estimator__n_estimators=50, estimator__max_depth=6, estimator__min_samples_split=6, estimator__min_samples_leaf=4 \n"
     ]
    },
    {
     "name": "stderr",
     "output_type": "stream",
     "text": [
      "/Users/rob/anaconda/lib/python3.5/site-packages/sklearn/externals/joblib/parallel.py:540: UserWarning: Multiprocessing-backed parallel loops cannot be nested, setting n_jobs=1\n",
      "  **self._backend_args)\n",
      "/Users/rob/anaconda/lib/python3.5/site-packages/sklearn/externals/joblib/parallel.py:540: UserWarning: Multiprocessing-backed parallel loops cannot be nested, setting n_jobs=1\n",
      "  **self._backend_args)\n"
     ]
    },
    {
     "name": "stdout",
     "output_type": "stream",
     "text": [
      "[CV]  estimator__n_estimators=40, estimator__max_depth=6, estimator__min_samples_split=6, estimator__min_samples_leaf=4 -  26.9s\n",
      "[CV] estimator__n_estimators=10, estimator__max_depth=8, estimator__min_samples_split=2, estimator__min_samples_leaf=1 \n"
     ]
    },
    {
     "name": "stderr",
     "output_type": "stream",
     "text": [
      "/Users/rob/anaconda/lib/python3.5/site-packages/sklearn/externals/joblib/parallel.py:540: UserWarning: Multiprocessing-backed parallel loops cannot be nested, setting n_jobs=1\n",
      "  **self._backend_args)\n"
     ]
    },
    {
     "name": "stdout",
     "output_type": "stream",
     "text": [
      "[CV]  estimator__n_estimators=40, estimator__max_depth=6, estimator__min_samples_split=6, estimator__min_samples_leaf=4 -  26.4s\n",
      "[CV] estimator__n_estimators=10, estimator__max_depth=8, estimator__min_samples_split=2, estimator__min_samples_leaf=1 \n"
     ]
    },
    {
     "name": "stderr",
     "output_type": "stream",
     "text": [
      "/Users/rob/anaconda/lib/python3.5/site-packages/sklearn/externals/joblib/parallel.py:540: UserWarning: Multiprocessing-backed parallel loops cannot be nested, setting n_jobs=1\n",
      "  **self._backend_args)\n"
     ]
    },
    {
     "name": "stdout",
     "output_type": "stream",
     "text": [
      "[CV]  estimator__n_estimators=10, estimator__max_depth=8, estimator__min_samples_split=2, estimator__min_samples_leaf=1 -   8.6s\n",
      "[CV] estimator__n_estimators=10, estimator__max_depth=8, estimator__min_samples_split=2, estimator__min_samples_leaf=1 \n"
     ]
    },
    {
     "name": "stderr",
     "output_type": "stream",
     "text": [
      "/Users/rob/anaconda/lib/python3.5/site-packages/sklearn/externals/joblib/parallel.py:540: UserWarning: Multiprocessing-backed parallel loops cannot be nested, setting n_jobs=1\n",
      "  **self._backend_args)\n"
     ]
    },
    {
     "name": "stdout",
     "output_type": "stream",
     "text": [
      "[CV]  estimator__n_estimators=40, estimator__max_depth=6, estimator__min_samples_split=6, estimator__min_samples_leaf=4 -  26.3s\n",
      "[CV] estimator__n_estimators=10, estimator__max_depth=8, estimator__min_samples_split=2, estimator__min_samples_leaf=1 \n"
     ]
    },
    {
     "name": "stderr",
     "output_type": "stream",
     "text": [
      "/Users/rob/anaconda/lib/python3.5/site-packages/sklearn/externals/joblib/parallel.py:540: UserWarning: Multiprocessing-backed parallel loops cannot be nested, setting n_jobs=1\n",
      "  **self._backend_args)\n"
     ]
    },
    {
     "name": "stdout",
     "output_type": "stream",
     "text": [
      "[CV]  estimator__n_estimators=10, estimator__max_depth=8, estimator__min_samples_split=2, estimator__min_samples_leaf=1 -   8.8s\n",
      "[CV] estimator__n_estimators=10, estimator__max_depth=8, estimator__min_samples_split=2, estimator__min_samples_leaf=1 \n"
     ]
    },
    {
     "name": "stderr",
     "output_type": "stream",
     "text": [
      "/Users/rob/anaconda/lib/python3.5/site-packages/sklearn/externals/joblib/parallel.py:540: UserWarning: Multiprocessing-backed parallel loops cannot be nested, setting n_jobs=1\n",
      "  **self._backend_args)\n"
     ]
    },
    {
     "name": "stdout",
     "output_type": "stream",
     "text": [
      "[CV]  estimator__n_estimators=10, estimator__max_depth=8, estimator__min_samples_split=2, estimator__min_samples_leaf=1 -   8.8s\n",
      "[CV] estimator__n_estimators=20, estimator__max_depth=8, estimator__min_samples_split=2, estimator__min_samples_leaf=1 \n"
     ]
    },
    {
     "name": "stderr",
     "output_type": "stream",
     "text": [
      "/Users/rob/anaconda/lib/python3.5/site-packages/sklearn/externals/joblib/parallel.py:540: UserWarning: Multiprocessing-backed parallel loops cannot be nested, setting n_jobs=1\n",
      "  **self._backend_args)\n"
     ]
    },
    {
     "name": "stdout",
     "output_type": "stream",
     "text": [
      "[CV]  estimator__n_estimators=10, estimator__max_depth=8, estimator__min_samples_split=2, estimator__min_samples_leaf=1 -   8.8s\n",
      "[CV] estimator__n_estimators=20, estimator__max_depth=8, estimator__min_samples_split=2, estimator__min_samples_leaf=1 \n"
     ]
    },
    {
     "name": "stderr",
     "output_type": "stream",
     "text": [
      "/Users/rob/anaconda/lib/python3.5/site-packages/sklearn/externals/joblib/parallel.py:540: UserWarning: Multiprocessing-backed parallel loops cannot be nested, setting n_jobs=1\n",
      "  **self._backend_args)\n"
     ]
    },
    {
     "name": "stdout",
     "output_type": "stream",
     "text": [
      "[CV]  estimator__n_estimators=50, estimator__max_depth=6, estimator__min_samples_split=6, estimator__min_samples_leaf=4 -  32.9s\n",
      "[CV] estimator__n_estimators=20, estimator__max_depth=8, estimator__min_samples_split=2, estimator__min_samples_leaf=1 \n"
     ]
    },
    {
     "name": "stderr",
     "output_type": "stream",
     "text": [
      "/Users/rob/anaconda/lib/python3.5/site-packages/sklearn/externals/joblib/parallel.py:540: UserWarning: Multiprocessing-backed parallel loops cannot be nested, setting n_jobs=1\n",
      "  **self._backend_args)\n"
     ]
    },
    {
     "name": "stdout",
     "output_type": "stream",
     "text": [
      "[CV]  estimator__n_estimators=50, estimator__max_depth=6, estimator__min_samples_split=6, estimator__min_samples_leaf=4 -  33.1s\n",
      "[CV] estimator__n_estimators=20, estimator__max_depth=8, estimator__min_samples_split=2, estimator__min_samples_leaf=1 \n"
     ]
    },
    {
     "name": "stderr",
     "output_type": "stream",
     "text": [
      "/Users/rob/anaconda/lib/python3.5/site-packages/sklearn/externals/joblib/parallel.py:540: UserWarning: Multiprocessing-backed parallel loops cannot be nested, setting n_jobs=1\n",
      "  **self._backend_args)\n"
     ]
    },
    {
     "name": "stdout",
     "output_type": "stream",
     "text": [
      "[CV]  estimator__n_estimators=50, estimator__max_depth=6, estimator__min_samples_split=6, estimator__min_samples_leaf=4 -  33.3s\n",
      "[CV] estimator__n_estimators=20, estimator__max_depth=8, estimator__min_samples_split=2, estimator__min_samples_leaf=1 \n"
     ]
    },
    {
     "name": "stderr",
     "output_type": "stream",
     "text": [
      "/Users/rob/anaconda/lib/python3.5/site-packages/sklearn/externals/joblib/parallel.py:540: UserWarning: Multiprocessing-backed parallel loops cannot be nested, setting n_jobs=1\n",
      "  **self._backend_args)\n"
     ]
    },
    {
     "name": "stdout",
     "output_type": "stream",
     "text": [
      "[CV]  estimator__n_estimators=10, estimator__max_depth=8, estimator__min_samples_split=2, estimator__min_samples_leaf=1 -   8.8s\n",
      "[CV] estimator__n_estimators=30, estimator__max_depth=8, estimator__min_samples_split=2, estimator__min_samples_leaf=1 \n"
     ]
    },
    {
     "name": "stderr",
     "output_type": "stream",
     "text": [
      "/Users/rob/anaconda/lib/python3.5/site-packages/sklearn/externals/joblib/parallel.py:540: UserWarning: Multiprocessing-backed parallel loops cannot be nested, setting n_jobs=1\n",
      "  **self._backend_args)\n"
     ]
    },
    {
     "name": "stdout",
     "output_type": "stream",
     "text": [
      "[CV]  estimator__n_estimators=50, estimator__max_depth=6, estimator__min_samples_split=6, estimator__min_samples_leaf=4 -  33.0s\n",
      "[CV] estimator__n_estimators=30, estimator__max_depth=8, estimator__min_samples_split=2, estimator__min_samples_leaf=1 \n",
      "[CV]  estimator__n_estimators=50, estimator__max_depth=6, estimator__min_samples_split=6, estimator__min_samples_leaf=4 -  33.1s\n"
     ]
    },
    {
     "name": "stderr",
     "output_type": "stream",
     "text": [
      "/Users/rob/anaconda/lib/python3.5/site-packages/sklearn/externals/joblib/parallel.py:540: UserWarning: Multiprocessing-backed parallel loops cannot be nested, setting n_jobs=1\n",
      "  **self._backend_args)\n"
     ]
    },
    {
     "name": "stdout",
     "output_type": "stream",
     "text": [
      "[CV] estimator__n_estimators=30, estimator__max_depth=8, estimator__min_samples_split=2, estimator__min_samples_leaf=1 \n"
     ]
    },
    {
     "name": "stderr",
     "output_type": "stream",
     "text": [
      "/Users/rob/anaconda/lib/python3.5/site-packages/sklearn/externals/joblib/parallel.py:540: UserWarning: Multiprocessing-backed parallel loops cannot be nested, setting n_jobs=1\n",
      "  **self._backend_args)\n"
     ]
    },
    {
     "name": "stdout",
     "output_type": "stream",
     "text": [
      "[CV]  estimator__n_estimators=20, estimator__max_depth=8, estimator__min_samples_split=2, estimator__min_samples_leaf=1 -  17.3s\n",
      "[CV] estimator__n_estimators=30, estimator__max_depth=8, estimator__min_samples_split=2, estimator__min_samples_leaf=1 \n"
     ]
    },
    {
     "name": "stderr",
     "output_type": "stream",
     "text": [
      "/Users/rob/anaconda/lib/python3.5/site-packages/sklearn/externals/joblib/parallel.py:540: UserWarning: Multiprocessing-backed parallel loops cannot be nested, setting n_jobs=1\n",
      "  **self._backend_args)\n"
     ]
    },
    {
     "name": "stdout",
     "output_type": "stream",
     "text": [
      "[CV]  estimator__n_estimators=20, estimator__max_depth=8, estimator__min_samples_split=2, estimator__min_samples_leaf=1 -  17.4s\n",
      "[CV] estimator__n_estimators=30, estimator__max_depth=8, estimator__min_samples_split=2, estimator__min_samples_leaf=1 \n"
     ]
    },
    {
     "name": "stderr",
     "output_type": "stream",
     "text": [
      "/Users/rob/anaconda/lib/python3.5/site-packages/sklearn/externals/joblib/parallel.py:540: UserWarning: Multiprocessing-backed parallel loops cannot be nested, setting n_jobs=1\n",
      "  **self._backend_args)\n"
     ]
    },
    {
     "name": "stdout",
     "output_type": "stream",
     "text": [
      "[CV]  estimator__n_estimators=20, estimator__max_depth=8, estimator__min_samples_split=2, estimator__min_samples_leaf=1 -  17.5s\n",
      "[CV] estimator__n_estimators=40, estimator__max_depth=8, estimator__min_samples_split=2, estimator__min_samples_leaf=1 \n"
     ]
    },
    {
     "name": "stderr",
     "output_type": "stream",
     "text": [
      "/Users/rob/anaconda/lib/python3.5/site-packages/sklearn/externals/joblib/parallel.py:540: UserWarning: Multiprocessing-backed parallel loops cannot be nested, setting n_jobs=1\n",
      "  **self._backend_args)\n"
     ]
    },
    {
     "name": "stdout",
     "output_type": "stream",
     "text": [
      "[CV]  estimator__n_estimators=20, estimator__max_depth=8, estimator__min_samples_split=2, estimator__min_samples_leaf=1 -  17.4s\n",
      "[CV] estimator__n_estimators=40, estimator__max_depth=8, estimator__min_samples_split=2, estimator__min_samples_leaf=1 \n"
     ]
    },
    {
     "name": "stderr",
     "output_type": "stream",
     "text": [
      "/Users/rob/anaconda/lib/python3.5/site-packages/sklearn/externals/joblib/parallel.py:540: UserWarning: Multiprocessing-backed parallel loops cannot be nested, setting n_jobs=1\n",
      "  **self._backend_args)\n"
     ]
    },
    {
     "name": "stdout",
     "output_type": "stream",
     "text": [
      "[CV]  estimator__n_estimators=20, estimator__max_depth=8, estimator__min_samples_split=2, estimator__min_samples_leaf=1 -  17.4s\n",
      "[CV] estimator__n_estimators=40, estimator__max_depth=8, estimator__min_samples_split=2, estimator__min_samples_leaf=1 \n"
     ]
    },
    {
     "name": "stderr",
     "output_type": "stream",
     "text": [
      "/Users/rob/anaconda/lib/python3.5/site-packages/sklearn/externals/joblib/parallel.py:540: UserWarning: Multiprocessing-backed parallel loops cannot be nested, setting n_jobs=1\n",
      "  **self._backend_args)\n"
     ]
    },
    {
     "name": "stdout",
     "output_type": "stream",
     "text": [
      "[CV]  estimator__n_estimators=30, estimator__max_depth=8, estimator__min_samples_split=2, estimator__min_samples_leaf=1 -  25.6s\n",
      "[CV] estimator__n_estimators=40, estimator__max_depth=8, estimator__min_samples_split=2, estimator__min_samples_leaf=1 \n"
     ]
    },
    {
     "name": "stderr",
     "output_type": "stream",
     "text": [
      "/Users/rob/anaconda/lib/python3.5/site-packages/sklearn/externals/joblib/parallel.py:540: UserWarning: Multiprocessing-backed parallel loops cannot be nested, setting n_jobs=1\n",
      "  **self._backend_args)\n"
     ]
    },
    {
     "name": "stdout",
     "output_type": "stream",
     "text": [
      "[CV]  estimator__n_estimators=30, estimator__max_depth=8, estimator__min_samples_split=2, estimator__min_samples_leaf=1 -  25.5s\n",
      "[CV] estimator__n_estimators=40, estimator__max_depth=8, estimator__min_samples_split=2, estimator__min_samples_leaf=1 \n"
     ]
    },
    {
     "name": "stderr",
     "output_type": "stream",
     "text": [
      "/Users/rob/anaconda/lib/python3.5/site-packages/sklearn/externals/joblib/parallel.py:540: UserWarning: Multiprocessing-backed parallel loops cannot be nested, setting n_jobs=1\n",
      "  **self._backend_args)\n"
     ]
    },
    {
     "name": "stdout",
     "output_type": "stream",
     "text": [
      "[CV]  estimator__n_estimators=30, estimator__max_depth=8, estimator__min_samples_split=2, estimator__min_samples_leaf=1 -  25.6s\n",
      "[CV] estimator__n_estimators=50, estimator__max_depth=8, estimator__min_samples_split=2, estimator__min_samples_leaf=1 \n"
     ]
    },
    {
     "name": "stderr",
     "output_type": "stream",
     "text": [
      "/Users/rob/anaconda/lib/python3.5/site-packages/sklearn/externals/joblib/parallel.py:540: UserWarning: Multiprocessing-backed parallel loops cannot be nested, setting n_jobs=1\n",
      "  **self._backend_args)\n"
     ]
    },
    {
     "name": "stdout",
     "output_type": "stream",
     "text": [
      "[CV]  estimator__n_estimators=30, estimator__max_depth=8, estimator__min_samples_split=2, estimator__min_samples_leaf=1 -  25.5s\n",
      "[CV] estimator__n_estimators=50, estimator__max_depth=8, estimator__min_samples_split=2, estimator__min_samples_leaf=1 \n"
     ]
    },
    {
     "name": "stderr",
     "output_type": "stream",
     "text": [
      "/Users/rob/anaconda/lib/python3.5/site-packages/sklearn/externals/joblib/parallel.py:540: UserWarning: Multiprocessing-backed parallel loops cannot be nested, setting n_jobs=1\n",
      "  **self._backend_args)\n"
     ]
    },
    {
     "name": "stdout",
     "output_type": "stream",
     "text": [
      "[CV]  estimator__n_estimators=30, estimator__max_depth=8, estimator__min_samples_split=2, estimator__min_samples_leaf=1 -  25.3s\n",
      "[CV] estimator__n_estimators=50, estimator__max_depth=8, estimator__min_samples_split=2, estimator__min_samples_leaf=1 \n"
     ]
    },
    {
     "name": "stderr",
     "output_type": "stream",
     "text": [
      "/Users/rob/anaconda/lib/python3.5/site-packages/sklearn/externals/joblib/parallel.py:540: UserWarning: Multiprocessing-backed parallel loops cannot be nested, setting n_jobs=1\n",
      "  **self._backend_args)\n"
     ]
    },
    {
     "name": "stdout",
     "output_type": "stream",
     "text": [
      "[CV]  estimator__n_estimators=40, estimator__max_depth=8, estimator__min_samples_split=2, estimator__min_samples_leaf=1 -  33.8s\n",
      "[CV] estimator__n_estimators=50, estimator__max_depth=8, estimator__min_samples_split=2, estimator__min_samples_leaf=1 \n"
     ]
    },
    {
     "name": "stderr",
     "output_type": "stream",
     "text": [
      "/Users/rob/anaconda/lib/python3.5/site-packages/sklearn/externals/joblib/parallel.py:540: UserWarning: Multiprocessing-backed parallel loops cannot be nested, setting n_jobs=1\n",
      "  **self._backend_args)\n"
     ]
    },
    {
     "name": "stdout",
     "output_type": "stream",
     "text": [
      "[CV]  estimator__n_estimators=40, estimator__max_depth=8, estimator__min_samples_split=2, estimator__min_samples_leaf=1 -  34.1s\n",
      "[CV] estimator__n_estimators=50, estimator__max_depth=8, estimator__min_samples_split=2, estimator__min_samples_leaf=1 \n"
     ]
    },
    {
     "name": "stderr",
     "output_type": "stream",
     "text": [
      "/Users/rob/anaconda/lib/python3.5/site-packages/sklearn/externals/joblib/parallel.py:540: UserWarning: Multiprocessing-backed parallel loops cannot be nested, setting n_jobs=1\n",
      "  **self._backend_args)\n"
     ]
    },
    {
     "name": "stdout",
     "output_type": "stream",
     "text": [
      "[CV]  estimator__n_estimators=40, estimator__max_depth=8, estimator__min_samples_split=2, estimator__min_samples_leaf=1 -  34.0s\n",
      "[CV] estimator__n_estimators=10, estimator__max_depth=8, estimator__min_samples_split=4, estimator__min_samples_leaf=1 \n"
     ]
    },
    {
     "name": "stderr",
     "output_type": "stream",
     "text": [
      "/Users/rob/anaconda/lib/python3.5/site-packages/sklearn/externals/joblib/parallel.py:540: UserWarning: Multiprocessing-backed parallel loops cannot be nested, setting n_jobs=1\n",
      "  **self._backend_args)\n"
     ]
    },
    {
     "name": "stdout",
     "output_type": "stream",
     "text": [
      "[CV]  estimator__n_estimators=10, estimator__max_depth=8, estimator__min_samples_split=4, estimator__min_samples_leaf=1 -   8.6s\n",
      "[CV] estimator__n_estimators=10, estimator__max_depth=8, estimator__min_samples_split=4, estimator__min_samples_leaf=1 \n"
     ]
    },
    {
     "name": "stderr",
     "output_type": "stream",
     "text": [
      "/Users/rob/anaconda/lib/python3.5/site-packages/sklearn/externals/joblib/parallel.py:540: UserWarning: Multiprocessing-backed parallel loops cannot be nested, setting n_jobs=1\n",
      "  **self._backend_args)\n"
     ]
    },
    {
     "name": "stdout",
     "output_type": "stream",
     "text": [
      "[CV]  estimator__n_estimators=40, estimator__max_depth=8, estimator__min_samples_split=2, estimator__min_samples_leaf=1 -  34.2s\n",
      "[CV] estimator__n_estimators=10, estimator__max_depth=8, estimator__min_samples_split=4, estimator__min_samples_leaf=1 \n"
     ]
    },
    {
     "name": "stderr",
     "output_type": "stream",
     "text": [
      "/Users/rob/anaconda/lib/python3.5/site-packages/sklearn/externals/joblib/parallel.py:540: UserWarning: Multiprocessing-backed parallel loops cannot be nested, setting n_jobs=1\n",
      "  **self._backend_args)\n"
     ]
    },
    {
     "name": "stdout",
     "output_type": "stream",
     "text": [
      "[CV]  estimator__n_estimators=40, estimator__max_depth=8, estimator__min_samples_split=2, estimator__min_samples_leaf=1 -  34.5s\n",
      "[CV] estimator__n_estimators=10, estimator__max_depth=8, estimator__min_samples_split=4, estimator__min_samples_leaf=1 \n"
     ]
    },
    {
     "name": "stderr",
     "output_type": "stream",
     "text": [
      "/Users/rob/anaconda/lib/python3.5/site-packages/sklearn/externals/joblib/parallel.py:540: UserWarning: Multiprocessing-backed parallel loops cannot be nested, setting n_jobs=1\n",
      "  **self._backend_args)\n"
     ]
    },
    {
     "name": "stdout",
     "output_type": "stream",
     "text": [
      "[CV]  estimator__n_estimators=10, estimator__max_depth=8, estimator__min_samples_split=4, estimator__min_samples_leaf=1 -   8.7s\n",
      "[CV] estimator__n_estimators=10, estimator__max_depth=8, estimator__min_samples_split=4, estimator__min_samples_leaf=1 \n"
     ]
    },
    {
     "name": "stderr",
     "output_type": "stream",
     "text": [
      "/Users/rob/anaconda/lib/python3.5/site-packages/sklearn/externals/joblib/parallel.py:540: UserWarning: Multiprocessing-backed parallel loops cannot be nested, setting n_jobs=1\n",
      "  **self._backend_args)\n"
     ]
    },
    {
     "name": "stdout",
     "output_type": "stream",
     "text": [
      "[CV]  estimator__n_estimators=10, estimator__max_depth=8, estimator__min_samples_split=4, estimator__min_samples_leaf=1 -   8.8s\n",
      "[CV] estimator__n_estimators=20, estimator__max_depth=8, estimator__min_samples_split=4, estimator__min_samples_leaf=1 \n"
     ]
    },
    {
     "name": "stderr",
     "output_type": "stream",
     "text": [
      "/Users/rob/anaconda/lib/python3.5/site-packages/sklearn/externals/joblib/parallel.py:540: UserWarning: Multiprocessing-backed parallel loops cannot be nested, setting n_jobs=1\n",
      "  **self._backend_args)\n"
     ]
    },
    {
     "name": "stdout",
     "output_type": "stream",
     "text": [
      "[CV]  estimator__n_estimators=50, estimator__max_depth=8, estimator__min_samples_split=2, estimator__min_samples_leaf=1 -  42.9s\n",
      "[CV] estimator__n_estimators=20, estimator__max_depth=8, estimator__min_samples_split=4, estimator__min_samples_leaf=1 \n"
     ]
    },
    {
     "name": "stderr",
     "output_type": "stream",
     "text": [
      "/Users/rob/anaconda/lib/python3.5/site-packages/sklearn/externals/joblib/parallel.py:540: UserWarning: Multiprocessing-backed parallel loops cannot be nested, setting n_jobs=1\n",
      "  **self._backend_args)\n"
     ]
    },
    {
     "name": "stdout",
     "output_type": "stream",
     "text": [
      "[CV]  estimator__n_estimators=10, estimator__max_depth=8, estimator__min_samples_split=4, estimator__min_samples_leaf=1 -   8.9s\n",
      "[CV] estimator__n_estimators=20, estimator__max_depth=8, estimator__min_samples_split=4, estimator__min_samples_leaf=1 \n"
     ]
    },
    {
     "name": "stderr",
     "output_type": "stream",
     "text": [
      "/Users/rob/anaconda/lib/python3.5/site-packages/sklearn/externals/joblib/parallel.py:540: UserWarning: Multiprocessing-backed parallel loops cannot be nested, setting n_jobs=1\n",
      "  **self._backend_args)\n"
     ]
    },
    {
     "name": "stdout",
     "output_type": "stream",
     "text": [
      "[CV]  estimator__n_estimators=10, estimator__max_depth=8, estimator__min_samples_split=4, estimator__min_samples_leaf=1 -   8.8s\n",
      "[CV] estimator__n_estimators=20, estimator__max_depth=8, estimator__min_samples_split=4, estimator__min_samples_leaf=1 \n"
     ]
    },
    {
     "name": "stderr",
     "output_type": "stream",
     "text": [
      "/Users/rob/anaconda/lib/python3.5/site-packages/sklearn/externals/joblib/parallel.py:540: UserWarning: Multiprocessing-backed parallel loops cannot be nested, setting n_jobs=1\n",
      "  **self._backend_args)\n"
     ]
    },
    {
     "name": "stdout",
     "output_type": "stream",
     "text": [
      "[CV]  estimator__n_estimators=50, estimator__max_depth=8, estimator__min_samples_split=2, estimator__min_samples_leaf=1 -  43.0s\n",
      "[CV] estimator__n_estimators=20, estimator__max_depth=8, estimator__min_samples_split=4, estimator__min_samples_leaf=1 \n"
     ]
    },
    {
     "name": "stderr",
     "output_type": "stream",
     "text": [
      "/Users/rob/anaconda/lib/python3.5/site-packages/sklearn/externals/joblib/parallel.py:540: UserWarning: Multiprocessing-backed parallel loops cannot be nested, setting n_jobs=1\n",
      "  **self._backend_args)\n"
     ]
    },
    {
     "name": "stdout",
     "output_type": "stream",
     "text": [
      "[CV]  estimator__n_estimators=50, estimator__max_depth=8, estimator__min_samples_split=2, estimator__min_samples_leaf=1 -  43.1s\n",
      "[CV] estimator__n_estimators=30, estimator__max_depth=8, estimator__min_samples_split=4, estimator__min_samples_leaf=1 \n"
     ]
    },
    {
     "name": "stderr",
     "output_type": "stream",
     "text": [
      "/Users/rob/anaconda/lib/python3.5/site-packages/sklearn/externals/joblib/parallel.py:540: UserWarning: Multiprocessing-backed parallel loops cannot be nested, setting n_jobs=1\n",
      "  **self._backend_args)\n"
     ]
    },
    {
     "name": "stdout",
     "output_type": "stream",
     "text": [
      "[CV]  estimator__n_estimators=20, estimator__max_depth=8, estimator__min_samples_split=4, estimator__min_samples_leaf=1 -  17.3s\n",
      "[CV] estimator__n_estimators=30, estimator__max_depth=8, estimator__min_samples_split=4, estimator__min_samples_leaf=1 \n"
     ]
    },
    {
     "name": "stderr",
     "output_type": "stream",
     "text": [
      "/Users/rob/anaconda/lib/python3.5/site-packages/sklearn/externals/joblib/parallel.py:540: UserWarning: Multiprocessing-backed parallel loops cannot be nested, setting n_jobs=1\n",
      "  **self._backend_args)\n"
     ]
    },
    {
     "name": "stdout",
     "output_type": "stream",
     "text": [
      "[CV]  estimator__n_estimators=50, estimator__max_depth=8, estimator__min_samples_split=2, estimator__min_samples_leaf=1 -  43.3s\n",
      "[CV] estimator__n_estimators=30, estimator__max_depth=8, estimator__min_samples_split=4, estimator__min_samples_leaf=1 \n"
     ]
    },
    {
     "name": "stderr",
     "output_type": "stream",
     "text": [
      "/Users/rob/anaconda/lib/python3.5/site-packages/sklearn/externals/joblib/parallel.py:540: UserWarning: Multiprocessing-backed parallel loops cannot be nested, setting n_jobs=1\n",
      "  **self._backend_args)\n"
     ]
    },
    {
     "name": "stdout",
     "output_type": "stream",
     "text": [
      "[CV]  estimator__n_estimators=50, estimator__max_depth=8, estimator__min_samples_split=2, estimator__min_samples_leaf=1 -  43.0s\n",
      "[CV] estimator__n_estimators=30, estimator__max_depth=8, estimator__min_samples_split=4, estimator__min_samples_leaf=1 \n"
     ]
    },
    {
     "name": "stderr",
     "output_type": "stream",
     "text": [
      "/Users/rob/anaconda/lib/python3.5/site-packages/sklearn/externals/joblib/parallel.py:540: UserWarning: Multiprocessing-backed parallel loops cannot be nested, setting n_jobs=1\n",
      "  **self._backend_args)\n"
     ]
    },
    {
     "name": "stdout",
     "output_type": "stream",
     "text": [
      "[CV]  estimator__n_estimators=20, estimator__max_depth=8, estimator__min_samples_split=4, estimator__min_samples_leaf=1 -  17.3s\n",
      "[CV] estimator__n_estimators=30, estimator__max_depth=8, estimator__min_samples_split=4, estimator__min_samples_leaf=1 \n"
     ]
    },
    {
     "name": "stderr",
     "output_type": "stream",
     "text": [
      "/Users/rob/anaconda/lib/python3.5/site-packages/sklearn/externals/joblib/parallel.py:540: UserWarning: Multiprocessing-backed parallel loops cannot be nested, setting n_jobs=1\n",
      "  **self._backend_args)\n"
     ]
    },
    {
     "name": "stdout",
     "output_type": "stream",
     "text": [
      "[CV]  estimator__n_estimators=20, estimator__max_depth=8, estimator__min_samples_split=4, estimator__min_samples_leaf=1 -  17.4s\n",
      "[CV] estimator__n_estimators=40, estimator__max_depth=8, estimator__min_samples_split=4, estimator__min_samples_leaf=1 \n"
     ]
    },
    {
     "name": "stderr",
     "output_type": "stream",
     "text": [
      "/Users/rob/anaconda/lib/python3.5/site-packages/sklearn/externals/joblib/parallel.py:540: UserWarning: Multiprocessing-backed parallel loops cannot be nested, setting n_jobs=1\n",
      "  **self._backend_args)\n"
     ]
    },
    {
     "name": "stdout",
     "output_type": "stream",
     "text": [
      "[CV]  estimator__n_estimators=20, estimator__max_depth=8, estimator__min_samples_split=4, estimator__min_samples_leaf=1 -  17.4s\n",
      "[CV] estimator__n_estimators=40, estimator__max_depth=8, estimator__min_samples_split=4, estimator__min_samples_leaf=1 \n"
     ]
    },
    {
     "name": "stderr",
     "output_type": "stream",
     "text": [
      "/Users/rob/anaconda/lib/python3.5/site-packages/sklearn/externals/joblib/parallel.py:540: UserWarning: Multiprocessing-backed parallel loops cannot be nested, setting n_jobs=1\n",
      "  **self._backend_args)\n"
     ]
    },
    {
     "name": "stdout",
     "output_type": "stream",
     "text": [
      "[CV]  estimator__n_estimators=20, estimator__max_depth=8, estimator__min_samples_split=4, estimator__min_samples_leaf=1 -  17.4s\n",
      "[CV] estimator__n_estimators=40, estimator__max_depth=8, estimator__min_samples_split=4, estimator__min_samples_leaf=1 \n"
     ]
    },
    {
     "name": "stderr",
     "output_type": "stream",
     "text": [
      "/Users/rob/anaconda/lib/python3.5/site-packages/sklearn/externals/joblib/parallel.py:540: UserWarning: Multiprocessing-backed parallel loops cannot be nested, setting n_jobs=1\n",
      "  **self._backend_args)\n"
     ]
    },
    {
     "name": "stdout",
     "output_type": "stream",
     "text": [
      "[CV]  estimator__n_estimators=30, estimator__max_depth=8, estimator__min_samples_split=4, estimator__min_samples_leaf=1 -  25.8s\n",
      "[CV] estimator__n_estimators=40, estimator__max_depth=8, estimator__min_samples_split=4, estimator__min_samples_leaf=1 \n"
     ]
    },
    {
     "name": "stderr",
     "output_type": "stream",
     "text": [
      "/Users/rob/anaconda/lib/python3.5/site-packages/sklearn/externals/joblib/parallel.py:540: UserWarning: Multiprocessing-backed parallel loops cannot be nested, setting n_jobs=1\n",
      "  **self._backend_args)\n"
     ]
    },
    {
     "name": "stdout",
     "output_type": "stream",
     "text": [
      "[CV]  estimator__n_estimators=30, estimator__max_depth=8, estimator__min_samples_split=4, estimator__min_samples_leaf=1 -  25.9s\n",
      "[CV] estimator__n_estimators=40, estimator__max_depth=8, estimator__min_samples_split=4, estimator__min_samples_leaf=1 \n"
     ]
    },
    {
     "name": "stderr",
     "output_type": "stream",
     "text": [
      "/Users/rob/anaconda/lib/python3.5/site-packages/sklearn/externals/joblib/parallel.py:540: UserWarning: Multiprocessing-backed parallel loops cannot be nested, setting n_jobs=1\n",
      "  **self._backend_args)\n"
     ]
    },
    {
     "name": "stdout",
     "output_type": "stream",
     "text": [
      "[CV]  estimator__n_estimators=30, estimator__max_depth=8, estimator__min_samples_split=4, estimator__min_samples_leaf=1 -  25.9s\n",
      "[CV] estimator__n_estimators=50, estimator__max_depth=8, estimator__min_samples_split=4, estimator__min_samples_leaf=1 \n"
     ]
    },
    {
     "name": "stderr",
     "output_type": "stream",
     "text": [
      "/Users/rob/anaconda/lib/python3.5/site-packages/sklearn/externals/joblib/parallel.py:540: UserWarning: Multiprocessing-backed parallel loops cannot be nested, setting n_jobs=1\n",
      "  **self._backend_args)\n"
     ]
    },
    {
     "name": "stdout",
     "output_type": "stream",
     "text": [
      "[CV]  estimator__n_estimators=30, estimator__max_depth=8, estimator__min_samples_split=4, estimator__min_samples_leaf=1 -  26.3s\n",
      "[CV] estimator__n_estimators=50, estimator__max_depth=8, estimator__min_samples_split=4, estimator__min_samples_leaf=1 \n"
     ]
    },
    {
     "name": "stderr",
     "output_type": "stream",
     "text": [
      "/Users/rob/anaconda/lib/python3.5/site-packages/sklearn/externals/joblib/parallel.py:540: UserWarning: Multiprocessing-backed parallel loops cannot be nested, setting n_jobs=1\n",
      "  **self._backend_args)\n"
     ]
    },
    {
     "name": "stdout",
     "output_type": "stream",
     "text": [
      "[CV]  estimator__n_estimators=30, estimator__max_depth=8, estimator__min_samples_split=4, estimator__min_samples_leaf=1 -  26.3s\n",
      "[CV] estimator__n_estimators=50, estimator__max_depth=8, estimator__min_samples_split=4, estimator__min_samples_leaf=1 \n"
     ]
    },
    {
     "name": "stderr",
     "output_type": "stream",
     "text": [
      "/Users/rob/anaconda/lib/python3.5/site-packages/sklearn/externals/joblib/parallel.py:540: UserWarning: Multiprocessing-backed parallel loops cannot be nested, setting n_jobs=1\n",
      "  **self._backend_args)\n"
     ]
    },
    {
     "name": "stdout",
     "output_type": "stream",
     "text": [
      "[CV]  estimator__n_estimators=40, estimator__max_depth=8, estimator__min_samples_split=4, estimator__min_samples_leaf=1 -  34.8s\n",
      "[CV] estimator__n_estimators=50, estimator__max_depth=8, estimator__min_samples_split=4, estimator__min_samples_leaf=1 \n",
      "[CV]  estimator__n_estimators=40, estimator__max_depth=8, estimator__min_samples_split=4, estimator__min_samples_leaf=1 -  34.7s\n",
      "[CV] estimator__n_estimators=50, estimator__max_depth=8, estimator__min_samples_split=4, estimator__min_samples_leaf=1 \n"
     ]
    },
    {
     "name": "stderr",
     "output_type": "stream",
     "text": [
      "/Users/rob/anaconda/lib/python3.5/site-packages/sklearn/externals/joblib/parallel.py:540: UserWarning: Multiprocessing-backed parallel loops cannot be nested, setting n_jobs=1\n",
      "  **self._backend_args)\n",
      "/Users/rob/anaconda/lib/python3.5/site-packages/sklearn/externals/joblib/parallel.py:540: UserWarning: Multiprocessing-backed parallel loops cannot be nested, setting n_jobs=1\n",
      "  **self._backend_args)\n"
     ]
    },
    {
     "name": "stdout",
     "output_type": "stream",
     "text": [
      "[CV]  estimator__n_estimators=40, estimator__max_depth=8, estimator__min_samples_split=4, estimator__min_samples_leaf=1 -  34.9s\n",
      "[CV] estimator__n_estimators=10, estimator__max_depth=8, estimator__min_samples_split=6, estimator__min_samples_leaf=1 \n"
     ]
    },
    {
     "name": "stderr",
     "output_type": "stream",
     "text": [
      "/Users/rob/anaconda/lib/python3.5/site-packages/sklearn/externals/joblib/parallel.py:540: UserWarning: Multiprocessing-backed parallel loops cannot be nested, setting n_jobs=1\n",
      "  **self._backend_args)\n"
     ]
    },
    {
     "name": "stdout",
     "output_type": "stream",
     "text": [
      "[CV]  estimator__n_estimators=10, estimator__max_depth=8, estimator__min_samples_split=6, estimator__min_samples_leaf=1 -   8.6s\n",
      "[CV] estimator__n_estimators=10, estimator__max_depth=8, estimator__min_samples_split=6, estimator__min_samples_leaf=1 \n"
     ]
    },
    {
     "name": "stderr",
     "output_type": "stream",
     "text": [
      "/Users/rob/anaconda/lib/python3.5/site-packages/sklearn/externals/joblib/parallel.py:540: UserWarning: Multiprocessing-backed parallel loops cannot be nested, setting n_jobs=1\n",
      "  **self._backend_args)\n"
     ]
    },
    {
     "name": "stdout",
     "output_type": "stream",
     "text": [
      "[CV]  estimator__n_estimators=40, estimator__max_depth=8, estimator__min_samples_split=4, estimator__min_samples_leaf=1 -  34.9s\n",
      "[CV] estimator__n_estimators=10, estimator__max_depth=8, estimator__min_samples_split=6, estimator__min_samples_leaf=1 \n"
     ]
    },
    {
     "name": "stderr",
     "output_type": "stream",
     "text": [
      "/Users/rob/anaconda/lib/python3.5/site-packages/sklearn/externals/joblib/parallel.py:540: UserWarning: Multiprocessing-backed parallel loops cannot be nested, setting n_jobs=1\n",
      "  **self._backend_args)\n"
     ]
    },
    {
     "name": "stdout",
     "output_type": "stream",
     "text": [
      "[CV]  estimator__n_estimators=40, estimator__max_depth=8, estimator__min_samples_split=4, estimator__min_samples_leaf=1 -  34.9s\n",
      "[CV] estimator__n_estimators=10, estimator__max_depth=8, estimator__min_samples_split=6, estimator__min_samples_leaf=1 \n"
     ]
    },
    {
     "name": "stderr",
     "output_type": "stream",
     "text": [
      "/Users/rob/anaconda/lib/python3.5/site-packages/sklearn/externals/joblib/parallel.py:540: UserWarning: Multiprocessing-backed parallel loops cannot be nested, setting n_jobs=1\n",
      "  **self._backend_args)\n"
     ]
    },
    {
     "name": "stdout",
     "output_type": "stream",
     "text": [
      "[CV]  estimator__n_estimators=10, estimator__max_depth=8, estimator__min_samples_split=6, estimator__min_samples_leaf=1 -   8.7s\n",
      "[CV] estimator__n_estimators=10, estimator__max_depth=8, estimator__min_samples_split=6, estimator__min_samples_leaf=1 \n"
     ]
    },
    {
     "name": "stderr",
     "output_type": "stream",
     "text": [
      "/Users/rob/anaconda/lib/python3.5/site-packages/sklearn/externals/joblib/parallel.py:540: UserWarning: Multiprocessing-backed parallel loops cannot be nested, setting n_jobs=1\n",
      "  **self._backend_args)\n"
     ]
    },
    {
     "name": "stdout",
     "output_type": "stream",
     "text": [
      "[CV]  estimator__n_estimators=10, estimator__max_depth=8, estimator__min_samples_split=6, estimator__min_samples_leaf=1 -   8.8s\n",
      "[CV] estimator__n_estimators=20, estimator__max_depth=8, estimator__min_samples_split=6, estimator__min_samples_leaf=1 \n"
     ]
    },
    {
     "name": "stderr",
     "output_type": "stream",
     "text": [
      "/Users/rob/anaconda/lib/python3.5/site-packages/sklearn/externals/joblib/parallel.py:540: UserWarning: Multiprocessing-backed parallel loops cannot be nested, setting n_jobs=1\n",
      "  **self._backend_args)\n"
     ]
    },
    {
     "name": "stdout",
     "output_type": "stream",
     "text": [
      "[CV]  estimator__n_estimators=10, estimator__max_depth=8, estimator__min_samples_split=6, estimator__min_samples_leaf=1 -   8.9s\n",
      "[CV] estimator__n_estimators=20, estimator__max_depth=8, estimator__min_samples_split=6, estimator__min_samples_leaf=1 \n"
     ]
    },
    {
     "name": "stderr",
     "output_type": "stream",
     "text": [
      "/Users/rob/anaconda/lib/python3.5/site-packages/sklearn/externals/joblib/parallel.py:540: UserWarning: Multiprocessing-backed parallel loops cannot be nested, setting n_jobs=1\n",
      "  **self._backend_args)\n"
     ]
    },
    {
     "name": "stdout",
     "output_type": "stream",
     "text": [
      "[CV]  estimator__n_estimators=10, estimator__max_depth=8, estimator__min_samples_split=6, estimator__min_samples_leaf=1 -   8.8s\n",
      "[CV] estimator__n_estimators=20, estimator__max_depth=8, estimator__min_samples_split=6, estimator__min_samples_leaf=1 \n"
     ]
    },
    {
     "name": "stderr",
     "output_type": "stream",
     "text": [
      "/Users/rob/anaconda/lib/python3.5/site-packages/sklearn/externals/joblib/parallel.py:540: UserWarning: Multiprocessing-backed parallel loops cannot be nested, setting n_jobs=1\n",
      "  **self._backend_args)\n"
     ]
    },
    {
     "name": "stdout",
     "output_type": "stream",
     "text": [
      "[CV]  estimator__n_estimators=50, estimator__max_depth=8, estimator__min_samples_split=4, estimator__min_samples_leaf=1 -  43.5s\n",
      "[CV] estimator__n_estimators=20, estimator__max_depth=8, estimator__min_samples_split=6, estimator__min_samples_leaf=1 \n"
     ]
    },
    {
     "name": "stderr",
     "output_type": "stream",
     "text": [
      "/Users/rob/anaconda/lib/python3.5/site-packages/sklearn/externals/joblib/parallel.py:540: UserWarning: Multiprocessing-backed parallel loops cannot be nested, setting n_jobs=1\n",
      "  **self._backend_args)\n"
     ]
    },
    {
     "name": "stdout",
     "output_type": "stream",
     "text": [
      "[CV]  estimator__n_estimators=50, estimator__max_depth=8, estimator__min_samples_split=4, estimator__min_samples_leaf=1 -  43.0s\n",
      "[CV] estimator__n_estimators=20, estimator__max_depth=8, estimator__min_samples_split=6, estimator__min_samples_leaf=1 \n"
     ]
    },
    {
     "name": "stderr",
     "output_type": "stream",
     "text": [
      "/Users/rob/anaconda/lib/python3.5/site-packages/sklearn/externals/joblib/parallel.py:540: UserWarning: Multiprocessing-backed parallel loops cannot be nested, setting n_jobs=1\n",
      "  **self._backend_args)\n"
     ]
    },
    {
     "name": "stdout",
     "output_type": "stream",
     "text": [
      "[CV]  estimator__n_estimators=50, estimator__max_depth=8, estimator__min_samples_split=4, estimator__min_samples_leaf=1 -  43.4s\n",
      "[CV] estimator__n_estimators=30, estimator__max_depth=8, estimator__min_samples_split=6, estimator__min_samples_leaf=1 \n"
     ]
    },
    {
     "name": "stderr",
     "output_type": "stream",
     "text": [
      "/Users/rob/anaconda/lib/python3.5/site-packages/sklearn/externals/joblib/parallel.py:540: UserWarning: Multiprocessing-backed parallel loops cannot be nested, setting n_jobs=1\n",
      "  **self._backend_args)\n"
     ]
    },
    {
     "name": "stdout",
     "output_type": "stream",
     "text": [
      "[CV]  estimator__n_estimators=20, estimator__max_depth=8, estimator__min_samples_split=6, estimator__min_samples_leaf=1 -  17.4s\n",
      "[CV] estimator__n_estimators=30, estimator__max_depth=8, estimator__min_samples_split=6, estimator__min_samples_leaf=1 \n"
     ]
    },
    {
     "name": "stderr",
     "output_type": "stream",
     "text": [
      "/Users/rob/anaconda/lib/python3.5/site-packages/sklearn/externals/joblib/parallel.py:540: UserWarning: Multiprocessing-backed parallel loops cannot be nested, setting n_jobs=1\n",
      "  **self._backend_args)\n"
     ]
    },
    {
     "name": "stdout",
     "output_type": "stream",
     "text": [
      "[CV]  estimator__n_estimators=50, estimator__max_depth=8, estimator__min_samples_split=4, estimator__min_samples_leaf=1 -  43.1s\n",
      "[CV] estimator__n_estimators=30, estimator__max_depth=8, estimator__min_samples_split=6, estimator__min_samples_leaf=1 \n",
      "[CV]  estimator__n_estimators=50, estimator__max_depth=8, estimator__min_samples_split=4, estimator__min_samples_leaf=1 -  43.0s\n",
      "[CV] estimator__n_estimators=30, estimator__max_depth=8, estimator__min_samples_split=6, estimator__min_samples_leaf=1 \n"
     ]
    },
    {
     "name": "stderr",
     "output_type": "stream",
     "text": [
      "/Users/rob/anaconda/lib/python3.5/site-packages/sklearn/externals/joblib/parallel.py:540: UserWarning: Multiprocessing-backed parallel loops cannot be nested, setting n_jobs=1\n",
      "  **self._backend_args)\n",
      "/Users/rob/anaconda/lib/python3.5/site-packages/sklearn/externals/joblib/parallel.py:540: UserWarning: Multiprocessing-backed parallel loops cannot be nested, setting n_jobs=1\n",
      "  **self._backend_args)\n"
     ]
    },
    {
     "name": "stdout",
     "output_type": "stream",
     "text": [
      "[CV]  estimator__n_estimators=20, estimator__max_depth=8, estimator__min_samples_split=6, estimator__min_samples_leaf=1 -  17.4s\n",
      "[CV] estimator__n_estimators=30, estimator__max_depth=8, estimator__min_samples_split=6, estimator__min_samples_leaf=1 \n"
     ]
    },
    {
     "name": "stderr",
     "output_type": "stream",
     "text": [
      "/Users/rob/anaconda/lib/python3.5/site-packages/sklearn/externals/joblib/parallel.py:540: UserWarning: Multiprocessing-backed parallel loops cannot be nested, setting n_jobs=1\n",
      "  **self._backend_args)\n"
     ]
    },
    {
     "name": "stdout",
     "output_type": "stream",
     "text": [
      "[CV]  estimator__n_estimators=20, estimator__max_depth=8, estimator__min_samples_split=6, estimator__min_samples_leaf=1 -  17.4s\n",
      "[CV] estimator__n_estimators=40, estimator__max_depth=8, estimator__min_samples_split=6, estimator__min_samples_leaf=1 \n"
     ]
    },
    {
     "name": "stderr",
     "output_type": "stream",
     "text": [
      "/Users/rob/anaconda/lib/python3.5/site-packages/sklearn/externals/joblib/parallel.py:540: UserWarning: Multiprocessing-backed parallel loops cannot be nested, setting n_jobs=1\n",
      "  **self._backend_args)\n"
     ]
    },
    {
     "name": "stdout",
     "output_type": "stream",
     "text": [
      "[CV]  estimator__n_estimators=20, estimator__max_depth=8, estimator__min_samples_split=6, estimator__min_samples_leaf=1 -  17.4s\n",
      "[CV] estimator__n_estimators=40, estimator__max_depth=8, estimator__min_samples_split=6, estimator__min_samples_leaf=1 \n"
     ]
    },
    {
     "name": "stderr",
     "output_type": "stream",
     "text": [
      "/Users/rob/anaconda/lib/python3.5/site-packages/sklearn/externals/joblib/parallel.py:540: UserWarning: Multiprocessing-backed parallel loops cannot be nested, setting n_jobs=1\n",
      "  **self._backend_args)\n"
     ]
    },
    {
     "name": "stdout",
     "output_type": "stream",
     "text": [
      "[CV]  estimator__n_estimators=20, estimator__max_depth=8, estimator__min_samples_split=6, estimator__min_samples_leaf=1 -  17.3s\n",
      "[CV] estimator__n_estimators=40, estimator__max_depth=8, estimator__min_samples_split=6, estimator__min_samples_leaf=1 \n"
     ]
    },
    {
     "name": "stderr",
     "output_type": "stream",
     "text": [
      "/Users/rob/anaconda/lib/python3.5/site-packages/sklearn/externals/joblib/parallel.py:540: UserWarning: Multiprocessing-backed parallel loops cannot be nested, setting n_jobs=1\n",
      "  **self._backend_args)\n"
     ]
    },
    {
     "name": "stdout",
     "output_type": "stream",
     "text": [
      "[CV]  estimator__n_estimators=30, estimator__max_depth=8, estimator__min_samples_split=6, estimator__min_samples_leaf=1 -  25.7s\n",
      "[CV] estimator__n_estimators=40, estimator__max_depth=8, estimator__min_samples_split=6, estimator__min_samples_leaf=1 \n"
     ]
    },
    {
     "name": "stderr",
     "output_type": "stream",
     "text": [
      "/Users/rob/anaconda/lib/python3.5/site-packages/sklearn/externals/joblib/parallel.py:540: UserWarning: Multiprocessing-backed parallel loops cannot be nested, setting n_jobs=1\n",
      "  **self._backend_args)\n"
     ]
    },
    {
     "name": "stdout",
     "output_type": "stream",
     "text": [
      "[CV]  estimator__n_estimators=30, estimator__max_depth=8, estimator__min_samples_split=6, estimator__min_samples_leaf=1 -  25.9s\n",
      "[CV] estimator__n_estimators=40, estimator__max_depth=8, estimator__min_samples_split=6, estimator__min_samples_leaf=1 \n"
     ]
    },
    {
     "name": "stderr",
     "output_type": "stream",
     "text": [
      "/Users/rob/anaconda/lib/python3.5/site-packages/sklearn/externals/joblib/parallel.py:540: UserWarning: Multiprocessing-backed parallel loops cannot be nested, setting n_jobs=1\n",
      "  **self._backend_args)\n"
     ]
    },
    {
     "name": "stdout",
     "output_type": "stream",
     "text": [
      "[CV]  estimator__n_estimators=30, estimator__max_depth=8, estimator__min_samples_split=6, estimator__min_samples_leaf=1 -  26.0s\n",
      "[CV] estimator__n_estimators=50, estimator__max_depth=8, estimator__min_samples_split=6, estimator__min_samples_leaf=1 \n"
     ]
    },
    {
     "name": "stderr",
     "output_type": "stream",
     "text": [
      "/Users/rob/anaconda/lib/python3.5/site-packages/sklearn/externals/joblib/parallel.py:540: UserWarning: Multiprocessing-backed parallel loops cannot be nested, setting n_jobs=1\n",
      "  **self._backend_args)\n"
     ]
    },
    {
     "name": "stdout",
     "output_type": "stream",
     "text": [
      "[CV]  estimator__n_estimators=30, estimator__max_depth=8, estimator__min_samples_split=6, estimator__min_samples_leaf=1 -  26.0s\n",
      "[CV] estimator__n_estimators=50, estimator__max_depth=8, estimator__min_samples_split=6, estimator__min_samples_leaf=1 \n"
     ]
    },
    {
     "name": "stderr",
     "output_type": "stream",
     "text": [
      "/Users/rob/anaconda/lib/python3.5/site-packages/sklearn/externals/joblib/parallel.py:540: UserWarning: Multiprocessing-backed parallel loops cannot be nested, setting n_jobs=1\n",
      "  **self._backend_args)\n"
     ]
    },
    {
     "name": "stdout",
     "output_type": "stream",
     "text": [
      "[CV]  estimator__n_estimators=30, estimator__max_depth=8, estimator__min_samples_split=6, estimator__min_samples_leaf=1 -  26.0s\n",
      "[CV] estimator__n_estimators=50, estimator__max_depth=8, estimator__min_samples_split=6, estimator__min_samples_leaf=1 \n"
     ]
    },
    {
     "name": "stderr",
     "output_type": "stream",
     "text": [
      "/Users/rob/anaconda/lib/python3.5/site-packages/sklearn/externals/joblib/parallel.py:540: UserWarning: Multiprocessing-backed parallel loops cannot be nested, setting n_jobs=1\n",
      "  **self._backend_args)\n"
     ]
    },
    {
     "name": "stdout",
     "output_type": "stream",
     "text": [
      "[CV]  estimator__n_estimators=40, estimator__max_depth=8, estimator__min_samples_split=6, estimator__min_samples_leaf=1 -  34.4s\n",
      "[CV] estimator__n_estimators=50, estimator__max_depth=8, estimator__min_samples_split=6, estimator__min_samples_leaf=1 \n"
     ]
    },
    {
     "name": "stderr",
     "output_type": "stream",
     "text": [
      "/Users/rob/anaconda/lib/python3.5/site-packages/sklearn/externals/joblib/parallel.py:540: UserWarning: Multiprocessing-backed parallel loops cannot be nested, setting n_jobs=1\n",
      "  **self._backend_args)\n"
     ]
    },
    {
     "name": "stdout",
     "output_type": "stream",
     "text": [
      "[CV]  estimator__n_estimators=40, estimator__max_depth=8, estimator__min_samples_split=6, estimator__min_samples_leaf=1 -  34.3s\n",
      "[CV] estimator__n_estimators=50, estimator__max_depth=8, estimator__min_samples_split=6, estimator__min_samples_leaf=1 \n"
     ]
    },
    {
     "name": "stderr",
     "output_type": "stream",
     "text": [
      "/Users/rob/anaconda/lib/python3.5/site-packages/sklearn/externals/joblib/parallel.py:540: UserWarning: Multiprocessing-backed parallel loops cannot be nested, setting n_jobs=1\n",
      "  **self._backend_args)\n"
     ]
    },
    {
     "name": "stdout",
     "output_type": "stream",
     "text": [
      "[CV]  estimator__n_estimators=40, estimator__max_depth=8, estimator__min_samples_split=6, estimator__min_samples_leaf=1 -  34.5s\n",
      "[CV] estimator__n_estimators=10, estimator__max_depth=8, estimator__min_samples_split=2, estimator__min_samples_leaf=2 \n"
     ]
    },
    {
     "name": "stderr",
     "output_type": "stream",
     "text": [
      "/Users/rob/anaconda/lib/python3.5/site-packages/sklearn/externals/joblib/parallel.py:540: UserWarning: Multiprocessing-backed parallel loops cannot be nested, setting n_jobs=1\n",
      "  **self._backend_args)\n"
     ]
    },
    {
     "name": "stdout",
     "output_type": "stream",
     "text": [
      "[CV]  estimator__n_estimators=10, estimator__max_depth=8, estimator__min_samples_split=2, estimator__min_samples_leaf=2 -   8.7s\n",
      "[CV] estimator__n_estimators=10, estimator__max_depth=8, estimator__min_samples_split=2, estimator__min_samples_leaf=2 \n"
     ]
    },
    {
     "name": "stderr",
     "output_type": "stream",
     "text": [
      "/Users/rob/anaconda/lib/python3.5/site-packages/sklearn/externals/joblib/parallel.py:540: UserWarning: Multiprocessing-backed parallel loops cannot be nested, setting n_jobs=1\n",
      "  **self._backend_args)\n"
     ]
    },
    {
     "name": "stdout",
     "output_type": "stream",
     "text": [
      "[CV]  estimator__n_estimators=40, estimator__max_depth=8, estimator__min_samples_split=6, estimator__min_samples_leaf=1 -  34.7s\n",
      "[CV] estimator__n_estimators=10, estimator__max_depth=8, estimator__min_samples_split=2, estimator__min_samples_leaf=2 \n"
     ]
    },
    {
     "name": "stderr",
     "output_type": "stream",
     "text": [
      "/Users/rob/anaconda/lib/python3.5/site-packages/sklearn/externals/joblib/parallel.py:540: UserWarning: Multiprocessing-backed parallel loops cannot be nested, setting n_jobs=1\n",
      "  **self._backend_args)\n"
     ]
    },
    {
     "name": "stdout",
     "output_type": "stream",
     "text": [
      "[CV]  estimator__n_estimators=40, estimator__max_depth=8, estimator__min_samples_split=6, estimator__min_samples_leaf=1 -  34.2s\n",
      "[CV] estimator__n_estimators=10, estimator__max_depth=8, estimator__min_samples_split=2, estimator__min_samples_leaf=2 \n"
     ]
    },
    {
     "name": "stderr",
     "output_type": "stream",
     "text": [
      "/Users/rob/anaconda/lib/python3.5/site-packages/sklearn/externals/joblib/parallel.py:540: UserWarning: Multiprocessing-backed parallel loops cannot be nested, setting n_jobs=1\n",
      "  **self._backend_args)\n"
     ]
    },
    {
     "name": "stdout",
     "output_type": "stream",
     "text": [
      "[CV]  estimator__n_estimators=10, estimator__max_depth=8, estimator__min_samples_split=2, estimator__min_samples_leaf=2 -   8.5s\n",
      "[CV] estimator__n_estimators=10, estimator__max_depth=8, estimator__min_samples_split=2, estimator__min_samples_leaf=2 \n"
     ]
    },
    {
     "name": "stderr",
     "output_type": "stream",
     "text": [
      "/Users/rob/anaconda/lib/python3.5/site-packages/sklearn/externals/joblib/parallel.py:540: UserWarning: Multiprocessing-backed parallel loops cannot be nested, setting n_jobs=1\n",
      "  **self._backend_args)\n"
     ]
    },
    {
     "name": "stdout",
     "output_type": "stream",
     "text": [
      "[CV]  estimator__n_estimators=10, estimator__max_depth=8, estimator__min_samples_split=2, estimator__min_samples_leaf=2 -   8.9s\n",
      "[CV] estimator__n_estimators=20, estimator__max_depth=8, estimator__min_samples_split=2, estimator__min_samples_leaf=2 \n"
     ]
    },
    {
     "name": "stderr",
     "output_type": "stream",
     "text": [
      "/Users/rob/anaconda/lib/python3.5/site-packages/sklearn/externals/joblib/parallel.py:540: UserWarning: Multiprocessing-backed parallel loops cannot be nested, setting n_jobs=1\n",
      "  **self._backend_args)\n"
     ]
    },
    {
     "name": "stdout",
     "output_type": "stream",
     "text": [
      "[CV]  estimator__n_estimators=10, estimator__max_depth=8, estimator__min_samples_split=2, estimator__min_samples_leaf=2 -   9.1s\n",
      "[CV] estimator__n_estimators=20, estimator__max_depth=8, estimator__min_samples_split=2, estimator__min_samples_leaf=2 \n"
     ]
    },
    {
     "name": "stderr",
     "output_type": "stream",
     "text": [
      "/Users/rob/anaconda/lib/python3.5/site-packages/sklearn/externals/joblib/parallel.py:540: UserWarning: Multiprocessing-backed parallel loops cannot be nested, setting n_jobs=1\n",
      "  **self._backend_args)\n"
     ]
    },
    {
     "name": "stdout",
     "output_type": "stream",
     "text": [
      "[CV]  estimator__n_estimators=10, estimator__max_depth=8, estimator__min_samples_split=2, estimator__min_samples_leaf=2 -   9.0s\n",
      "[CV] estimator__n_estimators=20, estimator__max_depth=8, estimator__min_samples_split=2, estimator__min_samples_leaf=2 \n"
     ]
    },
    {
     "name": "stderr",
     "output_type": "stream",
     "text": [
      "/Users/rob/anaconda/lib/python3.5/site-packages/sklearn/externals/joblib/parallel.py:540: UserWarning: Multiprocessing-backed parallel loops cannot be nested, setting n_jobs=1\n",
      "  **self._backend_args)\n"
     ]
    },
    {
     "name": "stdout",
     "output_type": "stream",
     "text": [
      "[CV]  estimator__n_estimators=50, estimator__max_depth=8, estimator__min_samples_split=6, estimator__min_samples_leaf=1 -  43.2s\n",
      "[CV] estimator__n_estimators=20, estimator__max_depth=8, estimator__min_samples_split=2, estimator__min_samples_leaf=2 \n"
     ]
    },
    {
     "name": "stderr",
     "output_type": "stream",
     "text": [
      "/Users/rob/anaconda/lib/python3.5/site-packages/sklearn/externals/joblib/parallel.py:540: UserWarning: Multiprocessing-backed parallel loops cannot be nested, setting n_jobs=1\n",
      "  **self._backend_args)\n"
     ]
    },
    {
     "name": "stdout",
     "output_type": "stream",
     "text": [
      "[CV]  estimator__n_estimators=50, estimator__max_depth=8, estimator__min_samples_split=6, estimator__min_samples_leaf=1 -  43.3s\n",
      "[CV] estimator__n_estimators=20, estimator__max_depth=8, estimator__min_samples_split=2, estimator__min_samples_leaf=2 \n"
     ]
    },
    {
     "name": "stderr",
     "output_type": "stream",
     "text": [
      "/Users/rob/anaconda/lib/python3.5/site-packages/sklearn/externals/joblib/parallel.py:540: UserWarning: Multiprocessing-backed parallel loops cannot be nested, setting n_jobs=1\n",
      "  **self._backend_args)\n"
     ]
    },
    {
     "name": "stdout",
     "output_type": "stream",
     "text": [
      "[CV]  estimator__n_estimators=50, estimator__max_depth=8, estimator__min_samples_split=6, estimator__min_samples_leaf=1 -  43.4s\n",
      "[CV] estimator__n_estimators=30, estimator__max_depth=8, estimator__min_samples_split=2, estimator__min_samples_leaf=2 \n"
     ]
    },
    {
     "name": "stderr",
     "output_type": "stream",
     "text": [
      "/Users/rob/anaconda/lib/python3.5/site-packages/sklearn/externals/joblib/parallel.py:540: UserWarning: Multiprocessing-backed parallel loops cannot be nested, setting n_jobs=1\n",
      "  **self._backend_args)\n"
     ]
    },
    {
     "name": "stdout",
     "output_type": "stream",
     "text": [
      "[CV]  estimator__n_estimators=20, estimator__max_depth=8, estimator__min_samples_split=2, estimator__min_samples_leaf=2 -  17.5s\n",
      "[CV] estimator__n_estimators=30, estimator__max_depth=8, estimator__min_samples_split=2, estimator__min_samples_leaf=2 \n"
     ]
    },
    {
     "name": "stderr",
     "output_type": "stream",
     "text": [
      "/Users/rob/anaconda/lib/python3.5/site-packages/sklearn/externals/joblib/parallel.py:540: UserWarning: Multiprocessing-backed parallel loops cannot be nested, setting n_jobs=1\n",
      "  **self._backend_args)\n"
     ]
    },
    {
     "name": "stdout",
     "output_type": "stream",
     "text": [
      "[CV]  estimator__n_estimators=50, estimator__max_depth=8, estimator__min_samples_split=6, estimator__min_samples_leaf=1 -  43.3s\n",
      "[CV] estimator__n_estimators=30, estimator__max_depth=8, estimator__min_samples_split=2, estimator__min_samples_leaf=2 \n"
     ]
    },
    {
     "name": "stderr",
     "output_type": "stream",
     "text": [
      "/Users/rob/anaconda/lib/python3.5/site-packages/sklearn/externals/joblib/parallel.py:540: UserWarning: Multiprocessing-backed parallel loops cannot be nested, setting n_jobs=1\n",
      "  **self._backend_args)\n"
     ]
    },
    {
     "name": "stdout",
     "output_type": "stream",
     "text": [
      "[CV]  estimator__n_estimators=20, estimator__max_depth=8, estimator__min_samples_split=2, estimator__min_samples_leaf=2 -  17.2s\n",
      "[CV] estimator__n_estimators=30, estimator__max_depth=8, estimator__min_samples_split=2, estimator__min_samples_leaf=2 \n"
     ]
    },
    {
     "name": "stderr",
     "output_type": "stream",
     "text": [
      "/Users/rob/anaconda/lib/python3.5/site-packages/sklearn/externals/joblib/parallel.py:540: UserWarning: Multiprocessing-backed parallel loops cannot be nested, setting n_jobs=1\n",
      "  **self._backend_args)\n"
     ]
    },
    {
     "name": "stdout",
     "output_type": "stream",
     "text": [
      "[CV]  estimator__n_estimators=50, estimator__max_depth=8, estimator__min_samples_split=6, estimator__min_samples_leaf=1 -  43.4s\n",
      "[CV] estimator__n_estimators=30, estimator__max_depth=8, estimator__min_samples_split=2, estimator__min_samples_leaf=2 \n"
     ]
    },
    {
     "name": "stderr",
     "output_type": "stream",
     "text": [
      "/Users/rob/anaconda/lib/python3.5/site-packages/sklearn/externals/joblib/parallel.py:540: UserWarning: Multiprocessing-backed parallel loops cannot be nested, setting n_jobs=1\n",
      "  **self._backend_args)\n"
     ]
    },
    {
     "name": "stdout",
     "output_type": "stream",
     "text": [
      "[CV]  estimator__n_estimators=20, estimator__max_depth=8, estimator__min_samples_split=2, estimator__min_samples_leaf=2 -  17.5s\n",
      "[CV] estimator__n_estimators=40, estimator__max_depth=8, estimator__min_samples_split=2, estimator__min_samples_leaf=2 \n"
     ]
    },
    {
     "name": "stderr",
     "output_type": "stream",
     "text": [
      "/Users/rob/anaconda/lib/python3.5/site-packages/sklearn/externals/joblib/parallel.py:540: UserWarning: Multiprocessing-backed parallel loops cannot be nested, setting n_jobs=1\n",
      "  **self._backend_args)\n"
     ]
    },
    {
     "name": "stdout",
     "output_type": "stream",
     "text": [
      "[CV]  estimator__n_estimators=20, estimator__max_depth=8, estimator__min_samples_split=2, estimator__min_samples_leaf=2 -  17.4s\n",
      "[CV] estimator__n_estimators=40, estimator__max_depth=8, estimator__min_samples_split=2, estimator__min_samples_leaf=2 \n"
     ]
    },
    {
     "name": "stderr",
     "output_type": "stream",
     "text": [
      "/Users/rob/anaconda/lib/python3.5/site-packages/sklearn/externals/joblib/parallel.py:540: UserWarning: Multiprocessing-backed parallel loops cannot be nested, setting n_jobs=1\n",
      "  **self._backend_args)\n"
     ]
    },
    {
     "name": "stdout",
     "output_type": "stream",
     "text": [
      "[CV]  estimator__n_estimators=20, estimator__max_depth=8, estimator__min_samples_split=2, estimator__min_samples_leaf=2 -  17.4s\n",
      "[CV] estimator__n_estimators=40, estimator__max_depth=8, estimator__min_samples_split=2, estimator__min_samples_leaf=2 \n"
     ]
    },
    {
     "name": "stderr",
     "output_type": "stream",
     "text": [
      "/Users/rob/anaconda/lib/python3.5/site-packages/sklearn/externals/joblib/parallel.py:540: UserWarning: Multiprocessing-backed parallel loops cannot be nested, setting n_jobs=1\n",
      "  **self._backend_args)\n"
     ]
    },
    {
     "name": "stdout",
     "output_type": "stream",
     "text": [
      "[CV]  estimator__n_estimators=30, estimator__max_depth=8, estimator__min_samples_split=2, estimator__min_samples_leaf=2 -  25.7s\n",
      "[CV] estimator__n_estimators=40, estimator__max_depth=8, estimator__min_samples_split=2, estimator__min_samples_leaf=2 \n"
     ]
    },
    {
     "name": "stderr",
     "output_type": "stream",
     "text": [
      "/Users/rob/anaconda/lib/python3.5/site-packages/sklearn/externals/joblib/parallel.py:540: UserWarning: Multiprocessing-backed parallel loops cannot be nested, setting n_jobs=1\n",
      "  **self._backend_args)\n"
     ]
    },
    {
     "name": "stdout",
     "output_type": "stream",
     "text": [
      "[CV]  estimator__n_estimators=30, estimator__max_depth=8, estimator__min_samples_split=2, estimator__min_samples_leaf=2 -  25.9s\n",
      "[CV] estimator__n_estimators=40, estimator__max_depth=8, estimator__min_samples_split=2, estimator__min_samples_leaf=2 \n"
     ]
    },
    {
     "name": "stderr",
     "output_type": "stream",
     "text": [
      "/Users/rob/anaconda/lib/python3.5/site-packages/sklearn/externals/joblib/parallel.py:540: UserWarning: Multiprocessing-backed parallel loops cannot be nested, setting n_jobs=1\n",
      "  **self._backend_args)\n"
     ]
    },
    {
     "name": "stdout",
     "output_type": "stream",
     "text": [
      "[CV]  estimator__n_estimators=30, estimator__max_depth=8, estimator__min_samples_split=2, estimator__min_samples_leaf=2 -  26.2s\n",
      "[CV] estimator__n_estimators=50, estimator__max_depth=8, estimator__min_samples_split=2, estimator__min_samples_leaf=2 \n"
     ]
    },
    {
     "name": "stderr",
     "output_type": "stream",
     "text": [
      "/Users/rob/anaconda/lib/python3.5/site-packages/sklearn/externals/joblib/parallel.py:540: UserWarning: Multiprocessing-backed parallel loops cannot be nested, setting n_jobs=1\n",
      "  **self._backend_args)\n"
     ]
    },
    {
     "name": "stdout",
     "output_type": "stream",
     "text": [
      "[CV]  estimator__n_estimators=30, estimator__max_depth=8, estimator__min_samples_split=2, estimator__min_samples_leaf=2 -  26.1s\n",
      "[CV] estimator__n_estimators=50, estimator__max_depth=8, estimator__min_samples_split=2, estimator__min_samples_leaf=2 \n"
     ]
    },
    {
     "name": "stderr",
     "output_type": "stream",
     "text": [
      "/Users/rob/anaconda/lib/python3.5/site-packages/sklearn/externals/joblib/parallel.py:540: UserWarning: Multiprocessing-backed parallel loops cannot be nested, setting n_jobs=1\n",
      "  **self._backend_args)\n"
     ]
    },
    {
     "name": "stdout",
     "output_type": "stream",
     "text": [
      "[CV]  estimator__n_estimators=30, estimator__max_depth=8, estimator__min_samples_split=2, estimator__min_samples_leaf=2 -  26.1s\n",
      "[CV] estimator__n_estimators=50, estimator__max_depth=8, estimator__min_samples_split=2, estimator__min_samples_leaf=2 \n"
     ]
    },
    {
     "name": "stderr",
     "output_type": "stream",
     "text": [
      "/Users/rob/anaconda/lib/python3.5/site-packages/sklearn/externals/joblib/parallel.py:540: UserWarning: Multiprocessing-backed parallel loops cannot be nested, setting n_jobs=1\n",
      "  **self._backend_args)\n"
     ]
    },
    {
     "name": "stdout",
     "output_type": "stream",
     "text": [
      "[CV]  estimator__n_estimators=40, estimator__max_depth=8, estimator__min_samples_split=2, estimator__min_samples_leaf=2 -  34.6s\n",
      "[CV] estimator__n_estimators=50, estimator__max_depth=8, estimator__min_samples_split=2, estimator__min_samples_leaf=2 \n"
     ]
    },
    {
     "name": "stderr",
     "output_type": "stream",
     "text": [
      "/Users/rob/anaconda/lib/python3.5/site-packages/sklearn/externals/joblib/parallel.py:540: UserWarning: Multiprocessing-backed parallel loops cannot be nested, setting n_jobs=1\n",
      "  **self._backend_args)\n"
     ]
    },
    {
     "name": "stdout",
     "output_type": "stream",
     "text": [
      "[CV]  estimator__n_estimators=40, estimator__max_depth=8, estimator__min_samples_split=2, estimator__min_samples_leaf=2 -  34.9s\n",
      "[CV] estimator__n_estimators=50, estimator__max_depth=8, estimator__min_samples_split=2, estimator__min_samples_leaf=2 \n",
      "[CV]  estimator__n_estimators=40, estimator__max_depth=8, estimator__min_samples_split=2, estimator__min_samples_leaf=2 -  34.7s\n"
     ]
    },
    {
     "name": "stderr",
     "output_type": "stream",
     "text": [
      "/Users/rob/anaconda/lib/python3.5/site-packages/sklearn/externals/joblib/parallel.py:540: UserWarning: Multiprocessing-backed parallel loops cannot be nested, setting n_jobs=1\n",
      "  **self._backend_args)\n"
     ]
    },
    {
     "name": "stdout",
     "output_type": "stream",
     "text": [
      "[CV] estimator__n_estimators=10, estimator__max_depth=8, estimator__min_samples_split=4, estimator__min_samples_leaf=2 \n"
     ]
    },
    {
     "name": "stderr",
     "output_type": "stream",
     "text": [
      "/Users/rob/anaconda/lib/python3.5/site-packages/sklearn/externals/joblib/parallel.py:540: UserWarning: Multiprocessing-backed parallel loops cannot be nested, setting n_jobs=1\n",
      "  **self._backend_args)\n"
     ]
    },
    {
     "name": "stdout",
     "output_type": "stream",
     "text": [
      "[CV]  estimator__n_estimators=10, estimator__max_depth=8, estimator__min_samples_split=4, estimator__min_samples_leaf=2 -   8.6s\n",
      "[CV] estimator__n_estimators=10, estimator__max_depth=8, estimator__min_samples_split=4, estimator__min_samples_leaf=2 \n"
     ]
    },
    {
     "name": "stderr",
     "output_type": "stream",
     "text": [
      "/Users/rob/anaconda/lib/python3.5/site-packages/sklearn/externals/joblib/parallel.py:540: UserWarning: Multiprocessing-backed parallel loops cannot be nested, setting n_jobs=1\n",
      "  **self._backend_args)\n"
     ]
    },
    {
     "name": "stdout",
     "output_type": "stream",
     "text": [
      "[CV]  estimator__n_estimators=40, estimator__max_depth=8, estimator__min_samples_split=2, estimator__min_samples_leaf=2 -  34.7s\n",
      "[CV] estimator__n_estimators=10, estimator__max_depth=8, estimator__min_samples_split=4, estimator__min_samples_leaf=2 \n"
     ]
    },
    {
     "name": "stderr",
     "output_type": "stream",
     "text": [
      "/Users/rob/anaconda/lib/python3.5/site-packages/sklearn/externals/joblib/parallel.py:540: UserWarning: Multiprocessing-backed parallel loops cannot be nested, setting n_jobs=1\n",
      "  **self._backend_args)\n"
     ]
    },
    {
     "name": "stdout",
     "output_type": "stream",
     "text": [
      "[CV]  estimator__n_estimators=40, estimator__max_depth=8, estimator__min_samples_split=2, estimator__min_samples_leaf=2 -  34.7s\n",
      "[CV] estimator__n_estimators=10, estimator__max_depth=8, estimator__min_samples_split=4, estimator__min_samples_leaf=2 \n",
      "[CV]  estimator__n_estimators=10, estimator__max_depth=8, estimator__min_samples_split=4, estimator__min_samples_leaf=2 -   8.7s\n",
      "[CV] estimator__n_estimators=10, estimator__max_depth=8, estimator__min_samples_split=4, estimator__min_samples_leaf=2 \n"
     ]
    },
    {
     "name": "stderr",
     "output_type": "stream",
     "text": [
      "/Users/rob/anaconda/lib/python3.5/site-packages/sklearn/externals/joblib/parallel.py:540: UserWarning: Multiprocessing-backed parallel loops cannot be nested, setting n_jobs=1\n",
      "  **self._backend_args)\n",
      "/Users/rob/anaconda/lib/python3.5/site-packages/sklearn/externals/joblib/parallel.py:540: UserWarning: Multiprocessing-backed parallel loops cannot be nested, setting n_jobs=1\n",
      "  **self._backend_args)\n"
     ]
    },
    {
     "name": "stdout",
     "output_type": "stream",
     "text": [
      "[CV]  estimator__n_estimators=10, estimator__max_depth=8, estimator__min_samples_split=4, estimator__min_samples_leaf=2 -   8.9s\n",
      "[CV] estimator__n_estimators=20, estimator__max_depth=8, estimator__min_samples_split=4, estimator__min_samples_leaf=2 \n"
     ]
    },
    {
     "name": "stderr",
     "output_type": "stream",
     "text": [
      "/Users/rob/anaconda/lib/python3.5/site-packages/sklearn/externals/joblib/parallel.py:540: UserWarning: Multiprocessing-backed parallel loops cannot be nested, setting n_jobs=1\n",
      "  **self._backend_args)\n"
     ]
    },
    {
     "name": "stdout",
     "output_type": "stream",
     "text": [
      "[CV]  estimator__n_estimators=10, estimator__max_depth=8, estimator__min_samples_split=4, estimator__min_samples_leaf=2 -   9.0s\n",
      "[CV] estimator__n_estimators=20, estimator__max_depth=8, estimator__min_samples_split=4, estimator__min_samples_leaf=2 \n"
     ]
    },
    {
     "name": "stderr",
     "output_type": "stream",
     "text": [
      "/Users/rob/anaconda/lib/python3.5/site-packages/sklearn/externals/joblib/parallel.py:540: UserWarning: Multiprocessing-backed parallel loops cannot be nested, setting n_jobs=1\n",
      "  **self._backend_args)\n"
     ]
    },
    {
     "name": "stdout",
     "output_type": "stream",
     "text": [
      "[CV]  estimator__n_estimators=10, estimator__max_depth=8, estimator__min_samples_split=4, estimator__min_samples_leaf=2 -   8.9s\n",
      "[CV] estimator__n_estimators=20, estimator__max_depth=8, estimator__min_samples_split=4, estimator__min_samples_leaf=2 \n"
     ]
    },
    {
     "name": "stderr",
     "output_type": "stream",
     "text": [
      "/Users/rob/anaconda/lib/python3.5/site-packages/sklearn/externals/joblib/parallel.py:540: UserWarning: Multiprocessing-backed parallel loops cannot be nested, setting n_jobs=1\n",
      "  **self._backend_args)\n"
     ]
    },
    {
     "name": "stdout",
     "output_type": "stream",
     "text": [
      "[CV]  estimator__n_estimators=50, estimator__max_depth=8, estimator__min_samples_split=2, estimator__min_samples_leaf=2 -  43.1s\n",
      "[CV] estimator__n_estimators=20, estimator__max_depth=8, estimator__min_samples_split=4, estimator__min_samples_leaf=2 \n"
     ]
    },
    {
     "name": "stderr",
     "output_type": "stream",
     "text": [
      "/Users/rob/anaconda/lib/python3.5/site-packages/sklearn/externals/joblib/parallel.py:540: UserWarning: Multiprocessing-backed parallel loops cannot be nested, setting n_jobs=1\n",
      "  **self._backend_args)\n"
     ]
    },
    {
     "name": "stdout",
     "output_type": "stream",
     "text": [
      "[CV]  estimator__n_estimators=50, estimator__max_depth=8, estimator__min_samples_split=2, estimator__min_samples_leaf=2 -  43.3s\n",
      "[CV] estimator__n_estimators=20, estimator__max_depth=8, estimator__min_samples_split=4, estimator__min_samples_leaf=2 \n"
     ]
    },
    {
     "name": "stderr",
     "output_type": "stream",
     "text": [
      "/Users/rob/anaconda/lib/python3.5/site-packages/sklearn/externals/joblib/parallel.py:540: UserWarning: Multiprocessing-backed parallel loops cannot be nested, setting n_jobs=1\n",
      "  **self._backend_args)\n"
     ]
    },
    {
     "name": "stdout",
     "output_type": "stream",
     "text": [
      "[CV]  estimator__n_estimators=50, estimator__max_depth=8, estimator__min_samples_split=2, estimator__min_samples_leaf=2 -  43.4s\n",
      "[CV] estimator__n_estimators=30, estimator__max_depth=8, estimator__min_samples_split=4, estimator__min_samples_leaf=2 \n"
     ]
    },
    {
     "name": "stderr",
     "output_type": "stream",
     "text": [
      "/Users/rob/anaconda/lib/python3.5/site-packages/sklearn/externals/joblib/parallel.py:540: UserWarning: Multiprocessing-backed parallel loops cannot be nested, setting n_jobs=1\n",
      "  **self._backend_args)\n"
     ]
    },
    {
     "name": "stdout",
     "output_type": "stream",
     "text": [
      "[CV]  estimator__n_estimators=20, estimator__max_depth=8, estimator__min_samples_split=4, estimator__min_samples_leaf=2 -  17.4s\n",
      "[CV] estimator__n_estimators=30, estimator__max_depth=8, estimator__min_samples_split=4, estimator__min_samples_leaf=2 \n"
     ]
    },
    {
     "name": "stderr",
     "output_type": "stream",
     "text": [
      "/Users/rob/anaconda/lib/python3.5/site-packages/sklearn/externals/joblib/parallel.py:540: UserWarning: Multiprocessing-backed parallel loops cannot be nested, setting n_jobs=1\n",
      "  **self._backend_args)\n"
     ]
    },
    {
     "name": "stdout",
     "output_type": "stream",
     "text": [
      "[CV]  estimator__n_estimators=50, estimator__max_depth=8, estimator__min_samples_split=2, estimator__min_samples_leaf=2 -  43.1s\n",
      "[CV] estimator__n_estimators=30, estimator__max_depth=8, estimator__min_samples_split=4, estimator__min_samples_leaf=2 \n"
     ]
    },
    {
     "name": "stderr",
     "output_type": "stream",
     "text": [
      "/Users/rob/anaconda/lib/python3.5/site-packages/sklearn/externals/joblib/parallel.py:540: UserWarning: Multiprocessing-backed parallel loops cannot be nested, setting n_jobs=1\n",
      "  **self._backend_args)\n"
     ]
    },
    {
     "name": "stdout",
     "output_type": "stream",
     "text": [
      "[CV]  estimator__n_estimators=50, estimator__max_depth=8, estimator__min_samples_split=2, estimator__min_samples_leaf=2 -  43.2s\n",
      "[CV] estimator__n_estimators=30, estimator__max_depth=8, estimator__min_samples_split=4, estimator__min_samples_leaf=2 \n"
     ]
    },
    {
     "name": "stderr",
     "output_type": "stream",
     "text": [
      "/Users/rob/anaconda/lib/python3.5/site-packages/sklearn/externals/joblib/parallel.py:540: UserWarning: Multiprocessing-backed parallel loops cannot be nested, setting n_jobs=1\n",
      "  **self._backend_args)\n"
     ]
    },
    {
     "name": "stdout",
     "output_type": "stream",
     "text": [
      "[CV]  estimator__n_estimators=20, estimator__max_depth=8, estimator__min_samples_split=4, estimator__min_samples_leaf=2 -  17.4s\n",
      "[CV] estimator__n_estimators=30, estimator__max_depth=8, estimator__min_samples_split=4, estimator__min_samples_leaf=2 \n"
     ]
    },
    {
     "name": "stderr",
     "output_type": "stream",
     "text": [
      "/Users/rob/anaconda/lib/python3.5/site-packages/sklearn/externals/joblib/parallel.py:540: UserWarning: Multiprocessing-backed parallel loops cannot be nested, setting n_jobs=1\n",
      "  **self._backend_args)\n"
     ]
    },
    {
     "name": "stdout",
     "output_type": "stream",
     "text": [
      "[CV]  estimator__n_estimators=20, estimator__max_depth=8, estimator__min_samples_split=4, estimator__min_samples_leaf=2 -  17.4s\n",
      "[CV] estimator__n_estimators=40, estimator__max_depth=8, estimator__min_samples_split=4, estimator__min_samples_leaf=2 \n"
     ]
    },
    {
     "name": "stderr",
     "output_type": "stream",
     "text": [
      "/Users/rob/anaconda/lib/python3.5/site-packages/sklearn/externals/joblib/parallel.py:540: UserWarning: Multiprocessing-backed parallel loops cannot be nested, setting n_jobs=1\n",
      "  **self._backend_args)\n"
     ]
    },
    {
     "name": "stdout",
     "output_type": "stream",
     "text": [
      "[CV]  estimator__n_estimators=20, estimator__max_depth=8, estimator__min_samples_split=4, estimator__min_samples_leaf=2 -  17.3s\n",
      "[CV] estimator__n_estimators=40, estimator__max_depth=8, estimator__min_samples_split=4, estimator__min_samples_leaf=2 \n"
     ]
    },
    {
     "name": "stderr",
     "output_type": "stream",
     "text": [
      "/Users/rob/anaconda/lib/python3.5/site-packages/sklearn/externals/joblib/parallel.py:540: UserWarning: Multiprocessing-backed parallel loops cannot be nested, setting n_jobs=1\n",
      "  **self._backend_args)\n"
     ]
    },
    {
     "name": "stdout",
     "output_type": "stream",
     "text": [
      "[CV]  estimator__n_estimators=20, estimator__max_depth=8, estimator__min_samples_split=4, estimator__min_samples_leaf=2 -  17.3s\n",
      "[CV] estimator__n_estimators=40, estimator__max_depth=8, estimator__min_samples_split=4, estimator__min_samples_leaf=2 \n"
     ]
    },
    {
     "name": "stderr",
     "output_type": "stream",
     "text": [
      "/Users/rob/anaconda/lib/python3.5/site-packages/sklearn/externals/joblib/parallel.py:540: UserWarning: Multiprocessing-backed parallel loops cannot be nested, setting n_jobs=1\n",
      "  **self._backend_args)\n"
     ]
    },
    {
     "name": "stdout",
     "output_type": "stream",
     "text": [
      "[CV]  estimator__n_estimators=30, estimator__max_depth=8, estimator__min_samples_split=4, estimator__min_samples_leaf=2 -  25.7s\n",
      "[CV] estimator__n_estimators=40, estimator__max_depth=8, estimator__min_samples_split=4, estimator__min_samples_leaf=2 \n"
     ]
    },
    {
     "name": "stderr",
     "output_type": "stream",
     "text": [
      "/Users/rob/anaconda/lib/python3.5/site-packages/sklearn/externals/joblib/parallel.py:540: UserWarning: Multiprocessing-backed parallel loops cannot be nested, setting n_jobs=1\n",
      "  **self._backend_args)\n"
     ]
    },
    {
     "name": "stdout",
     "output_type": "stream",
     "text": [
      "[CV]  estimator__n_estimators=30, estimator__max_depth=8, estimator__min_samples_split=4, estimator__min_samples_leaf=2 -  25.8s\n",
      "[CV] estimator__n_estimators=40, estimator__max_depth=8, estimator__min_samples_split=4, estimator__min_samples_leaf=2 \n"
     ]
    },
    {
     "name": "stderr",
     "output_type": "stream",
     "text": [
      "/Users/rob/anaconda/lib/python3.5/site-packages/sklearn/externals/joblib/parallel.py:540: UserWarning: Multiprocessing-backed parallel loops cannot be nested, setting n_jobs=1\n",
      "  **self._backend_args)\n"
     ]
    },
    {
     "name": "stdout",
     "output_type": "stream",
     "text": [
      "[CV]  estimator__n_estimators=30, estimator__max_depth=8, estimator__min_samples_split=4, estimator__min_samples_leaf=2 -  25.8s\n",
      "[CV] estimator__n_estimators=50, estimator__max_depth=8, estimator__min_samples_split=4, estimator__min_samples_leaf=2 \n"
     ]
    },
    {
     "name": "stderr",
     "output_type": "stream",
     "text": [
      "/Users/rob/anaconda/lib/python3.5/site-packages/sklearn/externals/joblib/parallel.py:540: UserWarning: Multiprocessing-backed parallel loops cannot be nested, setting n_jobs=1\n",
      "  **self._backend_args)\n"
     ]
    },
    {
     "name": "stdout",
     "output_type": "stream",
     "text": [
      "[CV]  estimator__n_estimators=30, estimator__max_depth=8, estimator__min_samples_split=4, estimator__min_samples_leaf=2 -  25.9s\n",
      "[CV] estimator__n_estimators=50, estimator__max_depth=8, estimator__min_samples_split=4, estimator__min_samples_leaf=2 \n"
     ]
    },
    {
     "name": "stderr",
     "output_type": "stream",
     "text": [
      "/Users/rob/anaconda/lib/python3.5/site-packages/sklearn/externals/joblib/parallel.py:540: UserWarning: Multiprocessing-backed parallel loops cannot be nested, setting n_jobs=1\n",
      "  **self._backend_args)\n"
     ]
    },
    {
     "name": "stdout",
     "output_type": "stream",
     "text": [
      "[CV]  estimator__n_estimators=30, estimator__max_depth=8, estimator__min_samples_split=4, estimator__min_samples_leaf=2 -  25.7s\n",
      "[CV] estimator__n_estimators=50, estimator__max_depth=8, estimator__min_samples_split=4, estimator__min_samples_leaf=2 \n"
     ]
    },
    {
     "name": "stderr",
     "output_type": "stream",
     "text": [
      "/Users/rob/anaconda/lib/python3.5/site-packages/sklearn/externals/joblib/parallel.py:540: UserWarning: Multiprocessing-backed parallel loops cannot be nested, setting n_jobs=1\n",
      "  **self._backend_args)\n"
     ]
    },
    {
     "name": "stdout",
     "output_type": "stream",
     "text": [
      "[CV]  estimator__n_estimators=40, estimator__max_depth=8, estimator__min_samples_split=4, estimator__min_samples_leaf=2 -  34.2s\n",
      "[CV] estimator__n_estimators=50, estimator__max_depth=8, estimator__min_samples_split=4, estimator__min_samples_leaf=2 \n"
     ]
    },
    {
     "name": "stderr",
     "output_type": "stream",
     "text": [
      "/Users/rob/anaconda/lib/python3.5/site-packages/sklearn/externals/joblib/parallel.py:540: UserWarning: Multiprocessing-backed parallel loops cannot be nested, setting n_jobs=1\n",
      "  **self._backend_args)\n"
     ]
    },
    {
     "name": "stdout",
     "output_type": "stream",
     "text": [
      "[CV]  estimator__n_estimators=40, estimator__max_depth=8, estimator__min_samples_split=4, estimator__min_samples_leaf=2 -  34.3s\n",
      "[CV] estimator__n_estimators=50, estimator__max_depth=8, estimator__min_samples_split=4, estimator__min_samples_leaf=2 \n"
     ]
    },
    {
     "name": "stderr",
     "output_type": "stream",
     "text": [
      "/Users/rob/anaconda/lib/python3.5/site-packages/sklearn/externals/joblib/parallel.py:540: UserWarning: Multiprocessing-backed parallel loops cannot be nested, setting n_jobs=1\n",
      "  **self._backend_args)\n"
     ]
    },
    {
     "name": "stdout",
     "output_type": "stream",
     "text": [
      "[CV]  estimator__n_estimators=40, estimator__max_depth=8, estimator__min_samples_split=4, estimator__min_samples_leaf=2 -  34.2s\n",
      "[CV] estimator__n_estimators=10, estimator__max_depth=8, estimator__min_samples_split=6, estimator__min_samples_leaf=2 \n"
     ]
    },
    {
     "name": "stderr",
     "output_type": "stream",
     "text": [
      "/Users/rob/anaconda/lib/python3.5/site-packages/sklearn/externals/joblib/parallel.py:540: UserWarning: Multiprocessing-backed parallel loops cannot be nested, setting n_jobs=1\n",
      "  **self._backend_args)\n"
     ]
    },
    {
     "name": "stdout",
     "output_type": "stream",
     "text": [
      "[CV]  estimator__n_estimators=10, estimator__max_depth=8, estimator__min_samples_split=6, estimator__min_samples_leaf=2 -   8.7s\n",
      "[CV] estimator__n_estimators=10, estimator__max_depth=8, estimator__min_samples_split=6, estimator__min_samples_leaf=2 \n"
     ]
    },
    {
     "name": "stderr",
     "output_type": "stream",
     "text": [
      "/Users/rob/anaconda/lib/python3.5/site-packages/sklearn/externals/joblib/parallel.py:540: UserWarning: Multiprocessing-backed parallel loops cannot be nested, setting n_jobs=1\n",
      "  **self._backend_args)\n"
     ]
    },
    {
     "name": "stdout",
     "output_type": "stream",
     "text": [
      "[CV]  estimator__n_estimators=40, estimator__max_depth=8, estimator__min_samples_split=4, estimator__min_samples_leaf=2 -  35.1s\n",
      "[CV] estimator__n_estimators=10, estimator__max_depth=8, estimator__min_samples_split=6, estimator__min_samples_leaf=2 \n"
     ]
    },
    {
     "name": "stderr",
     "output_type": "stream",
     "text": [
      "/Users/rob/anaconda/lib/python3.5/site-packages/sklearn/externals/joblib/parallel.py:540: UserWarning: Multiprocessing-backed parallel loops cannot be nested, setting n_jobs=1\n",
      "  **self._backend_args)\n"
     ]
    },
    {
     "name": "stdout",
     "output_type": "stream",
     "text": [
      "[CV]  estimator__n_estimators=40, estimator__max_depth=8, estimator__min_samples_split=4, estimator__min_samples_leaf=2 -  35.5s\n",
      "[CV] estimator__n_estimators=10, estimator__max_depth=8, estimator__min_samples_split=6, estimator__min_samples_leaf=2 \n"
     ]
    },
    {
     "name": "stderr",
     "output_type": "stream",
     "text": [
      "/Users/rob/anaconda/lib/python3.5/site-packages/sklearn/externals/joblib/parallel.py:540: UserWarning: Multiprocessing-backed parallel loops cannot be nested, setting n_jobs=1\n",
      "  **self._backend_args)\n"
     ]
    },
    {
     "name": "stdout",
     "output_type": "stream",
     "text": [
      "[CV]  estimator__n_estimators=10, estimator__max_depth=8, estimator__min_samples_split=6, estimator__min_samples_leaf=2 -   9.9s\n",
      "[CV] estimator__n_estimators=10, estimator__max_depth=8, estimator__min_samples_split=6, estimator__min_samples_leaf=2 \n"
     ]
    },
    {
     "name": "stderr",
     "output_type": "stream",
     "text": [
      "/Users/rob/anaconda/lib/python3.5/site-packages/sklearn/externals/joblib/parallel.py:540: UserWarning: Multiprocessing-backed parallel loops cannot be nested, setting n_jobs=1\n",
      "  **self._backend_args)\n"
     ]
    },
    {
     "name": "stdout",
     "output_type": "stream",
     "text": [
      "[CV]  estimator__n_estimators=10, estimator__max_depth=8, estimator__min_samples_split=6, estimator__min_samples_leaf=2 -   9.5s\n",
      "[CV] estimator__n_estimators=20, estimator__max_depth=8, estimator__min_samples_split=6, estimator__min_samples_leaf=2 \n"
     ]
    },
    {
     "name": "stderr",
     "output_type": "stream",
     "text": [
      "/Users/rob/anaconda/lib/python3.5/site-packages/sklearn/externals/joblib/parallel.py:540: UserWarning: Multiprocessing-backed parallel loops cannot be nested, setting n_jobs=1\n",
      "  **self._backend_args)\n"
     ]
    },
    {
     "name": "stdout",
     "output_type": "stream",
     "text": [
      "[CV]  estimator__n_estimators=10, estimator__max_depth=8, estimator__min_samples_split=6, estimator__min_samples_leaf=2 -   8.9s\n",
      "[CV] estimator__n_estimators=20, estimator__max_depth=8, estimator__min_samples_split=6, estimator__min_samples_leaf=2 \n"
     ]
    },
    {
     "name": "stderr",
     "output_type": "stream",
     "text": [
      "/Users/rob/anaconda/lib/python3.5/site-packages/sklearn/externals/joblib/parallel.py:540: UserWarning: Multiprocessing-backed parallel loops cannot be nested, setting n_jobs=1\n",
      "  **self._backend_args)\n"
     ]
    },
    {
     "name": "stdout",
     "output_type": "stream",
     "text": [
      "[CV]  estimator__n_estimators=10, estimator__max_depth=8, estimator__min_samples_split=6, estimator__min_samples_leaf=2 -   8.9s\n",
      "[CV] estimator__n_estimators=20, estimator__max_depth=8, estimator__min_samples_split=6, estimator__min_samples_leaf=2 \n"
     ]
    },
    {
     "name": "stderr",
     "output_type": "stream",
     "text": [
      "/Users/rob/anaconda/lib/python3.5/site-packages/sklearn/externals/joblib/parallel.py:540: UserWarning: Multiprocessing-backed parallel loops cannot be nested, setting n_jobs=1\n",
      "  **self._backend_args)\n"
     ]
    },
    {
     "name": "stdout",
     "output_type": "stream",
     "text": [
      "[CV]  estimator__n_estimators=50, estimator__max_depth=8, estimator__min_samples_split=4, estimator__min_samples_leaf=2 -  44.4s\n",
      "[CV] estimator__n_estimators=20, estimator__max_depth=8, estimator__min_samples_split=6, estimator__min_samples_leaf=2 \n"
     ]
    },
    {
     "name": "stderr",
     "output_type": "stream",
     "text": [
      "/Users/rob/anaconda/lib/python3.5/site-packages/sklearn/externals/joblib/parallel.py:540: UserWarning: Multiprocessing-backed parallel loops cannot be nested, setting n_jobs=1\n",
      "  **self._backend_args)\n"
     ]
    },
    {
     "name": "stdout",
     "output_type": "stream",
     "text": [
      "[CV]  estimator__n_estimators=50, estimator__max_depth=8, estimator__min_samples_split=4, estimator__min_samples_leaf=2 -  44.6s\n",
      "[CV] estimator__n_estimators=20, estimator__max_depth=8, estimator__min_samples_split=6, estimator__min_samples_leaf=2 \n"
     ]
    },
    {
     "name": "stderr",
     "output_type": "stream",
     "text": [
      "/Users/rob/anaconda/lib/python3.5/site-packages/sklearn/externals/joblib/parallel.py:540: UserWarning: Multiprocessing-backed parallel loops cannot be nested, setting n_jobs=1\n",
      "  **self._backend_args)\n"
     ]
    },
    {
     "name": "stdout",
     "output_type": "stream",
     "text": [
      "[CV]  estimator__n_estimators=50, estimator__max_depth=8, estimator__min_samples_split=4, estimator__min_samples_leaf=2 -  45.0s\n",
      "[CV] estimator__n_estimators=30, estimator__max_depth=8, estimator__min_samples_split=6, estimator__min_samples_leaf=2 \n"
     ]
    },
    {
     "name": "stderr",
     "output_type": "stream",
     "text": [
      "/Users/rob/anaconda/lib/python3.5/site-packages/sklearn/externals/joblib/parallel.py:540: UserWarning: Multiprocessing-backed parallel loops cannot be nested, setting n_jobs=1\n",
      "  **self._backend_args)\n"
     ]
    },
    {
     "name": "stdout",
     "output_type": "stream",
     "text": [
      "[CV]  estimator__n_estimators=20, estimator__max_depth=8, estimator__min_samples_split=6, estimator__min_samples_leaf=2 -  21.0s\n",
      "[CV] estimator__n_estimators=30, estimator__max_depth=8, estimator__min_samples_split=6, estimator__min_samples_leaf=2 \n"
     ]
    },
    {
     "name": "stderr",
     "output_type": "stream",
     "text": [
      "/Users/rob/anaconda/lib/python3.5/site-packages/sklearn/externals/joblib/parallel.py:540: UserWarning: Multiprocessing-backed parallel loops cannot be nested, setting n_jobs=1\n",
      "  **self._backend_args)\n"
     ]
    },
    {
     "name": "stdout",
     "output_type": "stream",
     "text": [
      "[CV]  estimator__n_estimators=50, estimator__max_depth=8, estimator__min_samples_split=4, estimator__min_samples_leaf=2 -  48.8s\n",
      "[CV] estimator__n_estimators=30, estimator__max_depth=8, estimator__min_samples_split=6, estimator__min_samples_leaf=2 \n"
     ]
    },
    {
     "name": "stderr",
     "output_type": "stream",
     "text": [
      "/Users/rob/anaconda/lib/python3.5/site-packages/sklearn/externals/joblib/parallel.py:540: UserWarning: Multiprocessing-backed parallel loops cannot be nested, setting n_jobs=1\n",
      "  **self._backend_args)\n"
     ]
    },
    {
     "name": "stdout",
     "output_type": "stream",
     "text": [
      "[CV]  estimator__n_estimators=50, estimator__max_depth=8, estimator__min_samples_split=4, estimator__min_samples_leaf=2 -  49.1s\n",
      "[CV] estimator__n_estimators=30, estimator__max_depth=8, estimator__min_samples_split=6, estimator__min_samples_leaf=2 \n"
     ]
    },
    {
     "name": "stderr",
     "output_type": "stream",
     "text": [
      "/Users/rob/anaconda/lib/python3.5/site-packages/sklearn/externals/joblib/parallel.py:540: UserWarning: Multiprocessing-backed parallel loops cannot be nested, setting n_jobs=1\n",
      "  **self._backend_args)\n"
     ]
    },
    {
     "name": "stdout",
     "output_type": "stream",
     "text": [
      "[CV]  estimator__n_estimators=20, estimator__max_depth=8, estimator__min_samples_split=6, estimator__min_samples_leaf=2 -  22.3s\n",
      "[CV] estimator__n_estimators=30, estimator__max_depth=8, estimator__min_samples_split=6, estimator__min_samples_leaf=2 \n"
     ]
    },
    {
     "name": "stderr",
     "output_type": "stream",
     "text": [
      "/Users/rob/anaconda/lib/python3.5/site-packages/sklearn/externals/joblib/parallel.py:540: UserWarning: Multiprocessing-backed parallel loops cannot be nested, setting n_jobs=1\n",
      "  **self._backend_args)\n"
     ]
    },
    {
     "name": "stdout",
     "output_type": "stream",
     "text": [
      "[CV]  estimator__n_estimators=20, estimator__max_depth=8, estimator__min_samples_split=6, estimator__min_samples_leaf=2 -  22.3s\n",
      "[CV] estimator__n_estimators=40, estimator__max_depth=8, estimator__min_samples_split=6, estimator__min_samples_leaf=2 \n"
     ]
    },
    {
     "name": "stderr",
     "output_type": "stream",
     "text": [
      "/Users/rob/anaconda/lib/python3.5/site-packages/sklearn/externals/joblib/parallel.py:540: UserWarning: Multiprocessing-backed parallel loops cannot be nested, setting n_jobs=1\n",
      "  **self._backend_args)\n"
     ]
    },
    {
     "name": "stdout",
     "output_type": "stream",
     "text": [
      "[CV]  estimator__n_estimators=20, estimator__max_depth=8, estimator__min_samples_split=6, estimator__min_samples_leaf=2 -  22.4s\n",
      "[CV] estimator__n_estimators=40, estimator__max_depth=8, estimator__min_samples_split=6, estimator__min_samples_leaf=2 \n"
     ]
    },
    {
     "name": "stderr",
     "output_type": "stream",
     "text": [
      "/Users/rob/anaconda/lib/python3.5/site-packages/sklearn/externals/joblib/parallel.py:540: UserWarning: Multiprocessing-backed parallel loops cannot be nested, setting n_jobs=1\n",
      "  **self._backend_args)\n"
     ]
    },
    {
     "name": "stdout",
     "output_type": "stream",
     "text": [
      "[CV]  estimator__n_estimators=20, estimator__max_depth=8, estimator__min_samples_split=6, estimator__min_samples_leaf=2 -  22.0s\n",
      "[CV] estimator__n_estimators=40, estimator__max_depth=8, estimator__min_samples_split=6, estimator__min_samples_leaf=2 \n"
     ]
    },
    {
     "name": "stderr",
     "output_type": "stream",
     "text": [
      "/Users/rob/anaconda/lib/python3.5/site-packages/sklearn/externals/joblib/parallel.py:540: UserWarning: Multiprocessing-backed parallel loops cannot be nested, setting n_jobs=1\n",
      "  **self._backend_args)\n"
     ]
    },
    {
     "name": "stdout",
     "output_type": "stream",
     "text": [
      "[CV]  estimator__n_estimators=30, estimator__max_depth=8, estimator__min_samples_split=6, estimator__min_samples_leaf=2 -  30.2s\n",
      "[CV] estimator__n_estimators=40, estimator__max_depth=8, estimator__min_samples_split=6, estimator__min_samples_leaf=2 \n"
     ]
    },
    {
     "name": "stderr",
     "output_type": "stream",
     "text": [
      "/Users/rob/anaconda/lib/python3.5/site-packages/sklearn/externals/joblib/parallel.py:540: UserWarning: Multiprocessing-backed parallel loops cannot be nested, setting n_jobs=1\n",
      "  **self._backend_args)\n"
     ]
    },
    {
     "name": "stdout",
     "output_type": "stream",
     "text": [
      "[CV]  estimator__n_estimators=30, estimator__max_depth=8, estimator__min_samples_split=6, estimator__min_samples_leaf=2 -  27.1s\n",
      "[CV] estimator__n_estimators=40, estimator__max_depth=8, estimator__min_samples_split=6, estimator__min_samples_leaf=2 \n"
     ]
    },
    {
     "name": "stderr",
     "output_type": "stream",
     "text": [
      "/Users/rob/anaconda/lib/python3.5/site-packages/sklearn/externals/joblib/parallel.py:540: UserWarning: Multiprocessing-backed parallel loops cannot be nested, setting n_jobs=1\n",
      "  **self._backend_args)\n"
     ]
    },
    {
     "name": "stdout",
     "output_type": "stream",
     "text": [
      "[CV]  estimator__n_estimators=30, estimator__max_depth=8, estimator__min_samples_split=6, estimator__min_samples_leaf=2 -  27.1s\n",
      "[CV] estimator__n_estimators=50, estimator__max_depth=8, estimator__min_samples_split=6, estimator__min_samples_leaf=2 \n"
     ]
    },
    {
     "name": "stderr",
     "output_type": "stream",
     "text": [
      "/Users/rob/anaconda/lib/python3.5/site-packages/sklearn/externals/joblib/parallel.py:540: UserWarning: Multiprocessing-backed parallel loops cannot be nested, setting n_jobs=1\n",
      "  **self._backend_args)\n"
     ]
    },
    {
     "name": "stdout",
     "output_type": "stream",
     "text": [
      "[CV]  estimator__n_estimators=30, estimator__max_depth=8, estimator__min_samples_split=6, estimator__min_samples_leaf=2 -  26.2s\n",
      "[CV] estimator__n_estimators=50, estimator__max_depth=8, estimator__min_samples_split=6, estimator__min_samples_leaf=2 \n"
     ]
    },
    {
     "name": "stderr",
     "output_type": "stream",
     "text": [
      "/Users/rob/anaconda/lib/python3.5/site-packages/sklearn/externals/joblib/parallel.py:540: UserWarning: Multiprocessing-backed parallel loops cannot be nested, setting n_jobs=1\n",
      "  **self._backend_args)\n"
     ]
    },
    {
     "name": "stdout",
     "output_type": "stream",
     "text": [
      "[CV]  estimator__n_estimators=30, estimator__max_depth=8, estimator__min_samples_split=6, estimator__min_samples_leaf=2 -  26.1s\n",
      "[CV] estimator__n_estimators=50, estimator__max_depth=8, estimator__min_samples_split=6, estimator__min_samples_leaf=2 \n"
     ]
    },
    {
     "name": "stderr",
     "output_type": "stream",
     "text": [
      "/Users/rob/anaconda/lib/python3.5/site-packages/sklearn/externals/joblib/parallel.py:540: UserWarning: Multiprocessing-backed parallel loops cannot be nested, setting n_jobs=1\n",
      "  **self._backend_args)\n"
     ]
    },
    {
     "name": "stdout",
     "output_type": "stream",
     "text": [
      "[CV]  estimator__n_estimators=40, estimator__max_depth=8, estimator__min_samples_split=6, estimator__min_samples_leaf=2 -  34.5s\n",
      "[CV] estimator__n_estimators=50, estimator__max_depth=8, estimator__min_samples_split=6, estimator__min_samples_leaf=2 \n"
     ]
    },
    {
     "name": "stderr",
     "output_type": "stream",
     "text": [
      "/Users/rob/anaconda/lib/python3.5/site-packages/sklearn/externals/joblib/parallel.py:540: UserWarning: Multiprocessing-backed parallel loops cannot be nested, setting n_jobs=1\n",
      "  **self._backend_args)\n"
     ]
    },
    {
     "name": "stdout",
     "output_type": "stream",
     "text": [
      "[CV]  estimator__n_estimators=40, estimator__max_depth=8, estimator__min_samples_split=6, estimator__min_samples_leaf=2 -  34.5s\n",
      "[CV] estimator__n_estimators=50, estimator__max_depth=8, estimator__min_samples_split=6, estimator__min_samples_leaf=2 \n"
     ]
    },
    {
     "name": "stderr",
     "output_type": "stream",
     "text": [
      "/Users/rob/anaconda/lib/python3.5/site-packages/sklearn/externals/joblib/parallel.py:540: UserWarning: Multiprocessing-backed parallel loops cannot be nested, setting n_jobs=1\n",
      "  **self._backend_args)\n"
     ]
    },
    {
     "name": "stdout",
     "output_type": "stream",
     "text": [
      "[CV]  estimator__n_estimators=40, estimator__max_depth=8, estimator__min_samples_split=6, estimator__min_samples_leaf=2 -  34.7s\n",
      "[CV] estimator__n_estimators=10, estimator__max_depth=8, estimator__min_samples_split=2, estimator__min_samples_leaf=4 \n"
     ]
    },
    {
     "name": "stderr",
     "output_type": "stream",
     "text": [
      "/Users/rob/anaconda/lib/python3.5/site-packages/sklearn/externals/joblib/parallel.py:540: UserWarning: Multiprocessing-backed parallel loops cannot be nested, setting n_jobs=1\n",
      "  **self._backend_args)\n"
     ]
    },
    {
     "name": "stdout",
     "output_type": "stream",
     "text": [
      "[CV]  estimator__n_estimators=10, estimator__max_depth=8, estimator__min_samples_split=2, estimator__min_samples_leaf=4 -   8.7s\n",
      "[CV] estimator__n_estimators=10, estimator__max_depth=8, estimator__min_samples_split=2, estimator__min_samples_leaf=4 \n"
     ]
    },
    {
     "name": "stderr",
     "output_type": "stream",
     "text": [
      "/Users/rob/anaconda/lib/python3.5/site-packages/sklearn/externals/joblib/parallel.py:540: UserWarning: Multiprocessing-backed parallel loops cannot be nested, setting n_jobs=1\n",
      "  **self._backend_args)\n"
     ]
    },
    {
     "name": "stdout",
     "output_type": "stream",
     "text": [
      "[CV]  estimator__n_estimators=40, estimator__max_depth=8, estimator__min_samples_split=6, estimator__min_samples_leaf=2 -  35.1s\n",
      "[CV] estimator__n_estimators=10, estimator__max_depth=8, estimator__min_samples_split=2, estimator__min_samples_leaf=4 \n"
     ]
    },
    {
     "name": "stderr",
     "output_type": "stream",
     "text": [
      "/Users/rob/anaconda/lib/python3.5/site-packages/sklearn/externals/joblib/parallel.py:540: UserWarning: Multiprocessing-backed parallel loops cannot be nested, setting n_jobs=1\n",
      "  **self._backend_args)\n"
     ]
    },
    {
     "name": "stdout",
     "output_type": "stream",
     "text": [
      "[CV]  estimator__n_estimators=40, estimator__max_depth=8, estimator__min_samples_split=6, estimator__min_samples_leaf=2 -  35.0s\n",
      "[CV] estimator__n_estimators=10, estimator__max_depth=8, estimator__min_samples_split=2, estimator__min_samples_leaf=4 \n"
     ]
    },
    {
     "name": "stderr",
     "output_type": "stream",
     "text": [
      "/Users/rob/anaconda/lib/python3.5/site-packages/sklearn/externals/joblib/parallel.py:540: UserWarning: Multiprocessing-backed parallel loops cannot be nested, setting n_jobs=1\n",
      "  **self._backend_args)\n"
     ]
    },
    {
     "name": "stdout",
     "output_type": "stream",
     "text": [
      "[CV]  estimator__n_estimators=10, estimator__max_depth=8, estimator__min_samples_split=2, estimator__min_samples_leaf=4 -   9.0s\n",
      "[CV] estimator__n_estimators=10, estimator__max_depth=8, estimator__min_samples_split=2, estimator__min_samples_leaf=4 \n"
     ]
    },
    {
     "name": "stderr",
     "output_type": "stream",
     "text": [
      "/Users/rob/anaconda/lib/python3.5/site-packages/sklearn/externals/joblib/parallel.py:540: UserWarning: Multiprocessing-backed parallel loops cannot be nested, setting n_jobs=1\n",
      "  **self._backend_args)\n"
     ]
    },
    {
     "name": "stdout",
     "output_type": "stream",
     "text": [
      "[CV]  estimator__n_estimators=10, estimator__max_depth=8, estimator__min_samples_split=2, estimator__min_samples_leaf=4 -   9.2s\n",
      "[CV] estimator__n_estimators=20, estimator__max_depth=8, estimator__min_samples_split=2, estimator__min_samples_leaf=4 \n"
     ]
    },
    {
     "name": "stderr",
     "output_type": "stream",
     "text": [
      "/Users/rob/anaconda/lib/python3.5/site-packages/sklearn/externals/joblib/parallel.py:540: UserWarning: Multiprocessing-backed parallel loops cannot be nested, setting n_jobs=1\n",
      "  **self._backend_args)\n"
     ]
    },
    {
     "name": "stdout",
     "output_type": "stream",
     "text": [
      "[CV]  estimator__n_estimators=10, estimator__max_depth=8, estimator__min_samples_split=2, estimator__min_samples_leaf=4 -   8.8s\n",
      "[CV] estimator__n_estimators=20, estimator__max_depth=8, estimator__min_samples_split=2, estimator__min_samples_leaf=4 \n"
     ]
    },
    {
     "name": "stderr",
     "output_type": "stream",
     "text": [
      "/Users/rob/anaconda/lib/python3.5/site-packages/sklearn/externals/joblib/parallel.py:540: UserWarning: Multiprocessing-backed parallel loops cannot be nested, setting n_jobs=1\n",
      "  **self._backend_args)\n"
     ]
    },
    {
     "name": "stdout",
     "output_type": "stream",
     "text": [
      "[CV]  estimator__n_estimators=10, estimator__max_depth=8, estimator__min_samples_split=2, estimator__min_samples_leaf=4 -   8.8s\n",
      "[CV] estimator__n_estimators=20, estimator__max_depth=8, estimator__min_samples_split=2, estimator__min_samples_leaf=4 \n"
     ]
    },
    {
     "name": "stderr",
     "output_type": "stream",
     "text": [
      "/Users/rob/anaconda/lib/python3.5/site-packages/sklearn/externals/joblib/parallel.py:540: UserWarning: Multiprocessing-backed parallel loops cannot be nested, setting n_jobs=1\n",
      "  **self._backend_args)\n"
     ]
    },
    {
     "name": "stdout",
     "output_type": "stream",
     "text": [
      "[CV]  estimator__n_estimators=50, estimator__max_depth=8, estimator__min_samples_split=6, estimator__min_samples_leaf=2 -  43.6s\n",
      "[CV] estimator__n_estimators=20, estimator__max_depth=8, estimator__min_samples_split=2, estimator__min_samples_leaf=4 \n"
     ]
    },
    {
     "name": "stderr",
     "output_type": "stream",
     "text": [
      "/Users/rob/anaconda/lib/python3.5/site-packages/sklearn/externals/joblib/parallel.py:540: UserWarning: Multiprocessing-backed parallel loops cannot be nested, setting n_jobs=1\n",
      "  **self._backend_args)\n"
     ]
    },
    {
     "name": "stdout",
     "output_type": "stream",
     "text": [
      "[CV]  estimator__n_estimators=50, estimator__max_depth=8, estimator__min_samples_split=6, estimator__min_samples_leaf=2 -  43.4s\n",
      "[CV] estimator__n_estimators=20, estimator__max_depth=8, estimator__min_samples_split=2, estimator__min_samples_leaf=4 \n",
      "[CV]  estimator__n_estimators=50, estimator__max_depth=8, estimator__min_samples_split=6, estimator__min_samples_leaf=2 -  43.7s\n"
     ]
    },
    {
     "name": "stderr",
     "output_type": "stream",
     "text": [
      "/Users/rob/anaconda/lib/python3.5/site-packages/sklearn/externals/joblib/parallel.py:540: UserWarning: Multiprocessing-backed parallel loops cannot be nested, setting n_jobs=1\n",
      "  **self._backend_args)\n"
     ]
    },
    {
     "name": "stdout",
     "output_type": "stream",
     "text": [
      "[CV] estimator__n_estimators=30, estimator__max_depth=8, estimator__min_samples_split=2, estimator__min_samples_leaf=4 \n"
     ]
    },
    {
     "name": "stderr",
     "output_type": "stream",
     "text": [
      "/Users/rob/anaconda/lib/python3.5/site-packages/sklearn/externals/joblib/parallel.py:540: UserWarning: Multiprocessing-backed parallel loops cannot be nested, setting n_jobs=1\n",
      "  **self._backend_args)\n"
     ]
    },
    {
     "name": "stdout",
     "output_type": "stream",
     "text": [
      "[CV]  estimator__n_estimators=20, estimator__max_depth=8, estimator__min_samples_split=2, estimator__min_samples_leaf=4 -  17.5s\n",
      "[CV] estimator__n_estimators=30, estimator__max_depth=8, estimator__min_samples_split=2, estimator__min_samples_leaf=4 \n"
     ]
    },
    {
     "name": "stderr",
     "output_type": "stream",
     "text": [
      "/Users/rob/anaconda/lib/python3.5/site-packages/sklearn/externals/joblib/parallel.py:540: UserWarning: Multiprocessing-backed parallel loops cannot be nested, setting n_jobs=1\n",
      "  **self._backend_args)\n"
     ]
    },
    {
     "name": "stdout",
     "output_type": "stream",
     "text": [
      "[CV]  estimator__n_estimators=50, estimator__max_depth=8, estimator__min_samples_split=6, estimator__min_samples_leaf=2 -  43.9s\n",
      "[CV] estimator__n_estimators=30, estimator__max_depth=8, estimator__min_samples_split=2, estimator__min_samples_leaf=4 \n"
     ]
    },
    {
     "name": "stderr",
     "output_type": "stream",
     "text": [
      "/Users/rob/anaconda/lib/python3.5/site-packages/sklearn/externals/joblib/parallel.py:540: UserWarning: Multiprocessing-backed parallel loops cannot be nested, setting n_jobs=1\n",
      "  **self._backend_args)\n"
     ]
    },
    {
     "name": "stdout",
     "output_type": "stream",
     "text": [
      "[CV]  estimator__n_estimators=20, estimator__max_depth=8, estimator__min_samples_split=2, estimator__min_samples_leaf=4 -  17.5s\n",
      "[CV] estimator__n_estimators=30, estimator__max_depth=8, estimator__min_samples_split=2, estimator__min_samples_leaf=4 \n",
      "[CV]  estimator__n_estimators=50, estimator__max_depth=8, estimator__min_samples_split=6, estimator__min_samples_leaf=2 -  43.8s\n",
      "[CV] estimator__n_estimators=30, estimator__max_depth=8, estimator__min_samples_split=2, estimator__min_samples_leaf=4 \n"
     ]
    },
    {
     "name": "stderr",
     "output_type": "stream",
     "text": [
      "/Users/rob/anaconda/lib/python3.5/site-packages/sklearn/externals/joblib/parallel.py:540: UserWarning: Multiprocessing-backed parallel loops cannot be nested, setting n_jobs=1\n",
      "  **self._backend_args)\n",
      "/Users/rob/anaconda/lib/python3.5/site-packages/sklearn/externals/joblib/parallel.py:540: UserWarning: Multiprocessing-backed parallel loops cannot be nested, setting n_jobs=1\n",
      "  **self._backend_args)\n"
     ]
    },
    {
     "name": "stdout",
     "output_type": "stream",
     "text": [
      "[CV]  estimator__n_estimators=20, estimator__max_depth=8, estimator__min_samples_split=2, estimator__min_samples_leaf=4 -  17.5s\n",
      "[CV] estimator__n_estimators=40, estimator__max_depth=8, estimator__min_samples_split=2, estimator__min_samples_leaf=4 \n"
     ]
    },
    {
     "name": "stderr",
     "output_type": "stream",
     "text": [
      "/Users/rob/anaconda/lib/python3.5/site-packages/sklearn/externals/joblib/parallel.py:540: UserWarning: Multiprocessing-backed parallel loops cannot be nested, setting n_jobs=1\n",
      "  **self._backend_args)\n"
     ]
    },
    {
     "name": "stdout",
     "output_type": "stream",
     "text": [
      "[CV]  estimator__n_estimators=20, estimator__max_depth=8, estimator__min_samples_split=2, estimator__min_samples_leaf=4 -  17.6s\n",
      "[CV] estimator__n_estimators=40, estimator__max_depth=8, estimator__min_samples_split=2, estimator__min_samples_leaf=4 \n"
     ]
    },
    {
     "name": "stderr",
     "output_type": "stream",
     "text": [
      "/Users/rob/anaconda/lib/python3.5/site-packages/sklearn/externals/joblib/parallel.py:540: UserWarning: Multiprocessing-backed parallel loops cannot be nested, setting n_jobs=1\n",
      "  **self._backend_args)\n"
     ]
    },
    {
     "name": "stdout",
     "output_type": "stream",
     "text": [
      "[CV]  estimator__n_estimators=20, estimator__max_depth=8, estimator__min_samples_split=2, estimator__min_samples_leaf=4 -  17.4s\n",
      "[CV] estimator__n_estimators=40, estimator__max_depth=8, estimator__min_samples_split=2, estimator__min_samples_leaf=4 \n"
     ]
    },
    {
     "name": "stderr",
     "output_type": "stream",
     "text": [
      "/Users/rob/anaconda/lib/python3.5/site-packages/sklearn/externals/joblib/parallel.py:540: UserWarning: Multiprocessing-backed parallel loops cannot be nested, setting n_jobs=1\n",
      "  **self._backend_args)\n"
     ]
    },
    {
     "name": "stdout",
     "output_type": "stream",
     "text": [
      "[CV]  estimator__n_estimators=30, estimator__max_depth=8, estimator__min_samples_split=2, estimator__min_samples_leaf=4 -  25.9s\n",
      "[CV] estimator__n_estimators=40, estimator__max_depth=8, estimator__min_samples_split=2, estimator__min_samples_leaf=4 \n"
     ]
    },
    {
     "name": "stderr",
     "output_type": "stream",
     "text": [
      "/Users/rob/anaconda/lib/python3.5/site-packages/sklearn/externals/joblib/parallel.py:540: UserWarning: Multiprocessing-backed parallel loops cannot be nested, setting n_jobs=1\n",
      "  **self._backend_args)\n"
     ]
    },
    {
     "name": "stdout",
     "output_type": "stream",
     "text": [
      "[CV]  estimator__n_estimators=30, estimator__max_depth=8, estimator__min_samples_split=2, estimator__min_samples_leaf=4 -  26.2s\n",
      "[CV] estimator__n_estimators=40, estimator__max_depth=8, estimator__min_samples_split=2, estimator__min_samples_leaf=4 \n"
     ]
    },
    {
     "name": "stderr",
     "output_type": "stream",
     "text": [
      "/Users/rob/anaconda/lib/python3.5/site-packages/sklearn/externals/joblib/parallel.py:540: UserWarning: Multiprocessing-backed parallel loops cannot be nested, setting n_jobs=1\n",
      "  **self._backend_args)\n"
     ]
    },
    {
     "name": "stdout",
     "output_type": "stream",
     "text": [
      "[CV]  estimator__n_estimators=30, estimator__max_depth=8, estimator__min_samples_split=2, estimator__min_samples_leaf=4 -  26.0s\n",
      "[CV] estimator__n_estimators=50, estimator__max_depth=8, estimator__min_samples_split=2, estimator__min_samples_leaf=4 \n"
     ]
    },
    {
     "name": "stderr",
     "output_type": "stream",
     "text": [
      "/Users/rob/anaconda/lib/python3.5/site-packages/sklearn/externals/joblib/parallel.py:540: UserWarning: Multiprocessing-backed parallel loops cannot be nested, setting n_jobs=1\n",
      "  **self._backend_args)\n"
     ]
    },
    {
     "name": "stdout",
     "output_type": "stream",
     "text": [
      "[CV]  estimator__n_estimators=30, estimator__max_depth=8, estimator__min_samples_split=2, estimator__min_samples_leaf=4 -  26.1s\n",
      "[CV] estimator__n_estimators=50, estimator__max_depth=8, estimator__min_samples_split=2, estimator__min_samples_leaf=4 \n"
     ]
    },
    {
     "name": "stderr",
     "output_type": "stream",
     "text": [
      "/Users/rob/anaconda/lib/python3.5/site-packages/sklearn/externals/joblib/parallel.py:540: UserWarning: Multiprocessing-backed parallel loops cannot be nested, setting n_jobs=1\n",
      "  **self._backend_args)\n"
     ]
    },
    {
     "name": "stdout",
     "output_type": "stream",
     "text": [
      "[CV]  estimator__n_estimators=30, estimator__max_depth=8, estimator__min_samples_split=2, estimator__min_samples_leaf=4 -  26.1s\n",
      "[CV] estimator__n_estimators=50, estimator__max_depth=8, estimator__min_samples_split=2, estimator__min_samples_leaf=4 \n"
     ]
    },
    {
     "name": "stderr",
     "output_type": "stream",
     "text": [
      "/Users/rob/anaconda/lib/python3.5/site-packages/sklearn/externals/joblib/parallel.py:540: UserWarning: Multiprocessing-backed parallel loops cannot be nested, setting n_jobs=1\n",
      "  **self._backend_args)\n"
     ]
    },
    {
     "name": "stdout",
     "output_type": "stream",
     "text": [
      "[CV]  estimator__n_estimators=40, estimator__max_depth=8, estimator__min_samples_split=2, estimator__min_samples_leaf=4 -  34.5s\n",
      "[CV] estimator__n_estimators=50, estimator__max_depth=8, estimator__min_samples_split=2, estimator__min_samples_leaf=4 \n"
     ]
    },
    {
     "name": "stderr",
     "output_type": "stream",
     "text": [
      "/Users/rob/anaconda/lib/python3.5/site-packages/sklearn/externals/joblib/parallel.py:540: UserWarning: Multiprocessing-backed parallel loops cannot be nested, setting n_jobs=1\n",
      "  **self._backend_args)\n"
     ]
    },
    {
     "name": "stdout",
     "output_type": "stream",
     "text": [
      "[CV]  estimator__n_estimators=40, estimator__max_depth=8, estimator__min_samples_split=2, estimator__min_samples_leaf=4 -  34.4s\n",
      "[CV] estimator__n_estimators=50, estimator__max_depth=8, estimator__min_samples_split=2, estimator__min_samples_leaf=4 \n"
     ]
    },
    {
     "name": "stderr",
     "output_type": "stream",
     "text": [
      "/Users/rob/anaconda/lib/python3.5/site-packages/sklearn/externals/joblib/parallel.py:540: UserWarning: Multiprocessing-backed parallel loops cannot be nested, setting n_jobs=1\n",
      "  **self._backend_args)\n"
     ]
    },
    {
     "name": "stdout",
     "output_type": "stream",
     "text": [
      "[CV]  estimator__n_estimators=40, estimator__max_depth=8, estimator__min_samples_split=2, estimator__min_samples_leaf=4 -  34.4s\n",
      "[CV] estimator__n_estimators=10, estimator__max_depth=8, estimator__min_samples_split=4, estimator__min_samples_leaf=4 \n"
     ]
    },
    {
     "name": "stderr",
     "output_type": "stream",
     "text": [
      "/Users/rob/anaconda/lib/python3.5/site-packages/sklearn/externals/joblib/parallel.py:540: UserWarning: Multiprocessing-backed parallel loops cannot be nested, setting n_jobs=1\n",
      "  **self._backend_args)\n"
     ]
    },
    {
     "name": "stdout",
     "output_type": "stream",
     "text": [
      "[CV]  estimator__n_estimators=40, estimator__max_depth=8, estimator__min_samples_split=2, estimator__min_samples_leaf=4 -  34.1s\n",
      "[CV] estimator__n_estimators=10, estimator__max_depth=8, estimator__min_samples_split=4, estimator__min_samples_leaf=4 \n"
     ]
    },
    {
     "name": "stderr",
     "output_type": "stream",
     "text": [
      "/Users/rob/anaconda/lib/python3.5/site-packages/sklearn/externals/joblib/parallel.py:540: UserWarning: Multiprocessing-backed parallel loops cannot be nested, setting n_jobs=1\n",
      "  **self._backend_args)\n"
     ]
    },
    {
     "name": "stdout",
     "output_type": "stream",
     "text": [
      "[CV]  estimator__n_estimators=10, estimator__max_depth=8, estimator__min_samples_split=4, estimator__min_samples_leaf=4 -   8.4s\n",
      "[CV] estimator__n_estimators=10, estimator__max_depth=8, estimator__min_samples_split=4, estimator__min_samples_leaf=4 \n"
     ]
    },
    {
     "name": "stderr",
     "output_type": "stream",
     "text": [
      "/Users/rob/anaconda/lib/python3.5/site-packages/sklearn/externals/joblib/parallel.py:540: UserWarning: Multiprocessing-backed parallel loops cannot be nested, setting n_jobs=1\n",
      "  **self._backend_args)\n"
     ]
    },
    {
     "name": "stdout",
     "output_type": "stream",
     "text": [
      "[CV]  estimator__n_estimators=40, estimator__max_depth=8, estimator__min_samples_split=2, estimator__min_samples_leaf=4 -  33.3s\n",
      "[CV] estimator__n_estimators=10, estimator__max_depth=8, estimator__min_samples_split=4, estimator__min_samples_leaf=4 \n"
     ]
    },
    {
     "name": "stderr",
     "output_type": "stream",
     "text": [
      "/Users/rob/anaconda/lib/python3.5/site-packages/sklearn/externals/joblib/parallel.py:540: UserWarning: Multiprocessing-backed parallel loops cannot be nested, setting n_jobs=1\n",
      "  **self._backend_args)\n"
     ]
    },
    {
     "name": "stdout",
     "output_type": "stream",
     "text": [
      "[CV]  estimator__n_estimators=10, estimator__max_depth=8, estimator__min_samples_split=4, estimator__min_samples_leaf=4 -   8.4s\n",
      "[CV] estimator__n_estimators=10, estimator__max_depth=8, estimator__min_samples_split=4, estimator__min_samples_leaf=4 \n"
     ]
    },
    {
     "name": "stderr",
     "output_type": "stream",
     "text": [
      "/Users/rob/anaconda/lib/python3.5/site-packages/sklearn/externals/joblib/parallel.py:540: UserWarning: Multiprocessing-backed parallel loops cannot be nested, setting n_jobs=1\n",
      "  **self._backend_args)\n"
     ]
    },
    {
     "name": "stdout",
     "output_type": "stream",
     "text": [
      "[CV]  estimator__n_estimators=10, estimator__max_depth=8, estimator__min_samples_split=4, estimator__min_samples_leaf=4 -   8.5s\n",
      "[CV] estimator__n_estimators=20, estimator__max_depth=8, estimator__min_samples_split=4, estimator__min_samples_leaf=4 \n"
     ]
    },
    {
     "name": "stderr",
     "output_type": "stream",
     "text": [
      "/Users/rob/anaconda/lib/python3.5/site-packages/sklearn/externals/joblib/parallel.py:540: UserWarning: Multiprocessing-backed parallel loops cannot be nested, setting n_jobs=1\n",
      "  **self._backend_args)\n"
     ]
    },
    {
     "name": "stdout",
     "output_type": "stream",
     "text": [
      "[CV]  estimator__n_estimators=10, estimator__max_depth=8, estimator__min_samples_split=4, estimator__min_samples_leaf=4 -   8.7s\n",
      "[CV] estimator__n_estimators=20, estimator__max_depth=8, estimator__min_samples_split=4, estimator__min_samples_leaf=4 \n"
     ]
    },
    {
     "name": "stderr",
     "output_type": "stream",
     "text": [
      "/Users/rob/anaconda/lib/python3.5/site-packages/sklearn/externals/joblib/parallel.py:540: UserWarning: Multiprocessing-backed parallel loops cannot be nested, setting n_jobs=1\n",
      "  **self._backend_args)\n"
     ]
    },
    {
     "name": "stdout",
     "output_type": "stream",
     "text": [
      "[CV]  estimator__n_estimators=10, estimator__max_depth=8, estimator__min_samples_split=4, estimator__min_samples_leaf=4 -   8.6s\n",
      "[CV] estimator__n_estimators=20, estimator__max_depth=8, estimator__min_samples_split=4, estimator__min_samples_leaf=4 \n"
     ]
    },
    {
     "name": "stderr",
     "output_type": "stream",
     "text": [
      "/Users/rob/anaconda/lib/python3.5/site-packages/sklearn/externals/joblib/parallel.py:540: UserWarning: Multiprocessing-backed parallel loops cannot be nested, setting n_jobs=1\n",
      "  **self._backend_args)\n"
     ]
    },
    {
     "name": "stdout",
     "output_type": "stream",
     "text": [
      "[CV]  estimator__n_estimators=50, estimator__max_depth=8, estimator__min_samples_split=2, estimator__min_samples_leaf=4 -  41.7s\n",
      "[CV] estimator__n_estimators=20, estimator__max_depth=8, estimator__min_samples_split=4, estimator__min_samples_leaf=4 \n"
     ]
    },
    {
     "name": "stderr",
     "output_type": "stream",
     "text": [
      "/Users/rob/anaconda/lib/python3.5/site-packages/sklearn/externals/joblib/parallel.py:540: UserWarning: Multiprocessing-backed parallel loops cannot be nested, setting n_jobs=1\n",
      "  **self._backend_args)\n"
     ]
    },
    {
     "name": "stdout",
     "output_type": "stream",
     "text": [
      "[CV]  estimator__n_estimators=50, estimator__max_depth=8, estimator__min_samples_split=2, estimator__min_samples_leaf=4 -  41.5s\n",
      "[CV] estimator__n_estimators=20, estimator__max_depth=8, estimator__min_samples_split=4, estimator__min_samples_leaf=4 \n"
     ]
    },
    {
     "name": "stderr",
     "output_type": "stream",
     "text": [
      "/Users/rob/anaconda/lib/python3.5/site-packages/sklearn/externals/joblib/parallel.py:540: UserWarning: Multiprocessing-backed parallel loops cannot be nested, setting n_jobs=1\n",
      "  **self._backend_args)\n"
     ]
    },
    {
     "name": "stdout",
     "output_type": "stream",
     "text": [
      "[CV]  estimator__n_estimators=50, estimator__max_depth=8, estimator__min_samples_split=2, estimator__min_samples_leaf=4 -  41.7s\n",
      "[CV] estimator__n_estimators=30, estimator__max_depth=8, estimator__min_samples_split=4, estimator__min_samples_leaf=4 \n"
     ]
    },
    {
     "name": "stderr",
     "output_type": "stream",
     "text": [
      "/Users/rob/anaconda/lib/python3.5/site-packages/sklearn/externals/joblib/parallel.py:540: UserWarning: Multiprocessing-backed parallel loops cannot be nested, setting n_jobs=1\n",
      "  **self._backend_args)\n"
     ]
    },
    {
     "name": "stdout",
     "output_type": "stream",
     "text": [
      "[CV]  estimator__n_estimators=20, estimator__max_depth=8, estimator__min_samples_split=4, estimator__min_samples_leaf=4 -  17.0s\n",
      "[CV] estimator__n_estimators=30, estimator__max_depth=8, estimator__min_samples_split=4, estimator__min_samples_leaf=4 \n"
     ]
    },
    {
     "name": "stderr",
     "output_type": "stream",
     "text": [
      "/Users/rob/anaconda/lib/python3.5/site-packages/sklearn/externals/joblib/parallel.py:540: UserWarning: Multiprocessing-backed parallel loops cannot be nested, setting n_jobs=1\n",
      "  **self._backend_args)\n"
     ]
    },
    {
     "name": "stdout",
     "output_type": "stream",
     "text": [
      "[CV]  estimator__n_estimators=50, estimator__max_depth=8, estimator__min_samples_split=2, estimator__min_samples_leaf=4 -  42.0s\n",
      "[CV] estimator__n_estimators=30, estimator__max_depth=8, estimator__min_samples_split=4, estimator__min_samples_leaf=4 \n"
     ]
    },
    {
     "name": "stderr",
     "output_type": "stream",
     "text": [
      "/Users/rob/anaconda/lib/python3.5/site-packages/sklearn/externals/joblib/parallel.py:540: UserWarning: Multiprocessing-backed parallel loops cannot be nested, setting n_jobs=1\n",
      "  **self._backend_args)\n"
     ]
    },
    {
     "name": "stdout",
     "output_type": "stream",
     "text": [
      "[CV]  estimator__n_estimators=20, estimator__max_depth=8, estimator__min_samples_split=4, estimator__min_samples_leaf=4 -  17.0s\n",
      "[CV] estimator__n_estimators=30, estimator__max_depth=8, estimator__min_samples_split=4, estimator__min_samples_leaf=4 \n",
      "[CV]  estimator__n_estimators=50, estimator__max_depth=8, estimator__min_samples_split=2, estimator__min_samples_leaf=4 -  42.1s\n",
      "[CV] estimator__n_estimators=30, estimator__max_depth=8, estimator__min_samples_split=4, estimator__min_samples_leaf=4 \n"
     ]
    },
    {
     "name": "stderr",
     "output_type": "stream",
     "text": [
      "/Users/rob/anaconda/lib/python3.5/site-packages/sklearn/externals/joblib/parallel.py:540: UserWarning: Multiprocessing-backed parallel loops cannot be nested, setting n_jobs=1\n",
      "  **self._backend_args)\n",
      "/Users/rob/anaconda/lib/python3.5/site-packages/sklearn/externals/joblib/parallel.py:540: UserWarning: Multiprocessing-backed parallel loops cannot be nested, setting n_jobs=1\n",
      "  **self._backend_args)\n",
      "[Parallel(n_jobs=8)]: Done 632 tasks      | elapsed: 24.1min\n"
     ]
    },
    {
     "name": "stdout",
     "output_type": "stream",
     "text": [
      "[CV]  estimator__n_estimators=20, estimator__max_depth=8, estimator__min_samples_split=4, estimator__min_samples_leaf=4 -  17.2s\n",
      "[CV] estimator__n_estimators=40, estimator__max_depth=8, estimator__min_samples_split=4, estimator__min_samples_leaf=4 \n"
     ]
    },
    {
     "name": "stderr",
     "output_type": "stream",
     "text": [
      "/Users/rob/anaconda/lib/python3.5/site-packages/sklearn/externals/joblib/parallel.py:540: UserWarning: Multiprocessing-backed parallel loops cannot be nested, setting n_jobs=1\n",
      "  **self._backend_args)\n"
     ]
    },
    {
     "name": "stdout",
     "output_type": "stream",
     "text": [
      "[CV]  estimator__n_estimators=20, estimator__max_depth=8, estimator__min_samples_split=4, estimator__min_samples_leaf=4 -  17.3s\n",
      "[CV] estimator__n_estimators=40, estimator__max_depth=8, estimator__min_samples_split=4, estimator__min_samples_leaf=4 \n"
     ]
    },
    {
     "name": "stderr",
     "output_type": "stream",
     "text": [
      "/Users/rob/anaconda/lib/python3.5/site-packages/sklearn/externals/joblib/parallel.py:540: UserWarning: Multiprocessing-backed parallel loops cannot be nested, setting n_jobs=1\n",
      "  **self._backend_args)\n"
     ]
    },
    {
     "name": "stdout",
     "output_type": "stream",
     "text": [
      "[CV]  estimator__n_estimators=20, estimator__max_depth=8, estimator__min_samples_split=4, estimator__min_samples_leaf=4 -  17.2s\n",
      "[CV] estimator__n_estimators=40, estimator__max_depth=8, estimator__min_samples_split=4, estimator__min_samples_leaf=4 \n"
     ]
    },
    {
     "name": "stderr",
     "output_type": "stream",
     "text": [
      "/Users/rob/anaconda/lib/python3.5/site-packages/sklearn/externals/joblib/parallel.py:540: UserWarning: Multiprocessing-backed parallel loops cannot be nested, setting n_jobs=1\n",
      "  **self._backend_args)\n"
     ]
    },
    {
     "name": "stdout",
     "output_type": "stream",
     "text": [
      "[CV]  estimator__n_estimators=30, estimator__max_depth=8, estimator__min_samples_split=4, estimator__min_samples_leaf=4 -  25.4s\n",
      "[CV] estimator__n_estimators=40, estimator__max_depth=8, estimator__min_samples_split=4, estimator__min_samples_leaf=4 \n"
     ]
    },
    {
     "name": "stderr",
     "output_type": "stream",
     "text": [
      "/Users/rob/anaconda/lib/python3.5/site-packages/sklearn/externals/joblib/parallel.py:540: UserWarning: Multiprocessing-backed parallel loops cannot be nested, setting n_jobs=1\n",
      "  **self._backend_args)\n"
     ]
    },
    {
     "name": "stdout",
     "output_type": "stream",
     "text": [
      "[CV]  estimator__n_estimators=30, estimator__max_depth=8, estimator__min_samples_split=4, estimator__min_samples_leaf=4 -  25.4s\n",
      "[CV] estimator__n_estimators=40, estimator__max_depth=8, estimator__min_samples_split=4, estimator__min_samples_leaf=4 \n"
     ]
    },
    {
     "name": "stderr",
     "output_type": "stream",
     "text": [
      "/Users/rob/anaconda/lib/python3.5/site-packages/sklearn/externals/joblib/parallel.py:540: UserWarning: Multiprocessing-backed parallel loops cannot be nested, setting n_jobs=1\n",
      "  **self._backend_args)\n"
     ]
    },
    {
     "name": "stdout",
     "output_type": "stream",
     "text": [
      "[CV]  estimator__n_estimators=30, estimator__max_depth=8, estimator__min_samples_split=4, estimator__min_samples_leaf=4 -  25.4s\n",
      "[CV] estimator__n_estimators=50, estimator__max_depth=8, estimator__min_samples_split=4, estimator__min_samples_leaf=4 \n"
     ]
    },
    {
     "name": "stderr",
     "output_type": "stream",
     "text": [
      "/Users/rob/anaconda/lib/python3.5/site-packages/sklearn/externals/joblib/parallel.py:540: UserWarning: Multiprocessing-backed parallel loops cannot be nested, setting n_jobs=1\n",
      "  **self._backend_args)\n"
     ]
    },
    {
     "name": "stdout",
     "output_type": "stream",
     "text": [
      "[CV]  estimator__n_estimators=30, estimator__max_depth=8, estimator__min_samples_split=4, estimator__min_samples_leaf=4 -  25.2s\n",
      "[CV] estimator__n_estimators=50, estimator__max_depth=8, estimator__min_samples_split=4, estimator__min_samples_leaf=4 \n"
     ]
    },
    {
     "name": "stderr",
     "output_type": "stream",
     "text": [
      "/Users/rob/anaconda/lib/python3.5/site-packages/sklearn/externals/joblib/parallel.py:540: UserWarning: Multiprocessing-backed parallel loops cannot be nested, setting n_jobs=1\n",
      "  **self._backend_args)\n"
     ]
    },
    {
     "name": "stdout",
     "output_type": "stream",
     "text": [
      "[CV]  estimator__n_estimators=30, estimator__max_depth=8, estimator__min_samples_split=4, estimator__min_samples_leaf=4 -  25.2s\n",
      "[CV] estimator__n_estimators=50, estimator__max_depth=8, estimator__min_samples_split=4, estimator__min_samples_leaf=4 \n"
     ]
    },
    {
     "name": "stderr",
     "output_type": "stream",
     "text": [
      "/Users/rob/anaconda/lib/python3.5/site-packages/sklearn/externals/joblib/parallel.py:540: UserWarning: Multiprocessing-backed parallel loops cannot be nested, setting n_jobs=1\n",
      "  **self._backend_args)\n"
     ]
    },
    {
     "name": "stdout",
     "output_type": "stream",
     "text": [
      "[CV]  estimator__n_estimators=40, estimator__max_depth=8, estimator__min_samples_split=4, estimator__min_samples_leaf=4 -  33.6s\n",
      "[CV] estimator__n_estimators=50, estimator__max_depth=8, estimator__min_samples_split=4, estimator__min_samples_leaf=4 \n"
     ]
    },
    {
     "name": "stderr",
     "output_type": "stream",
     "text": [
      "/Users/rob/anaconda/lib/python3.5/site-packages/sklearn/externals/joblib/parallel.py:540: UserWarning: Multiprocessing-backed parallel loops cannot be nested, setting n_jobs=1\n",
      "  **self._backend_args)\n"
     ]
    },
    {
     "name": "stdout",
     "output_type": "stream",
     "text": [
      "[CV]  estimator__n_estimators=40, estimator__max_depth=8, estimator__min_samples_split=4, estimator__min_samples_leaf=4 -  33.5s\n",
      "[CV] estimator__n_estimators=50, estimator__max_depth=8, estimator__min_samples_split=4, estimator__min_samples_leaf=4 \n"
     ]
    },
    {
     "name": "stderr",
     "output_type": "stream",
     "text": [
      "/Users/rob/anaconda/lib/python3.5/site-packages/sklearn/externals/joblib/parallel.py:540: UserWarning: Multiprocessing-backed parallel loops cannot be nested, setting n_jobs=1\n",
      "  **self._backend_args)\n"
     ]
    },
    {
     "name": "stdout",
     "output_type": "stream",
     "text": [
      "[CV]  estimator__n_estimators=40, estimator__max_depth=8, estimator__min_samples_split=4, estimator__min_samples_leaf=4 -  33.7s\n",
      "[CV] estimator__n_estimators=10, estimator__max_depth=8, estimator__min_samples_split=6, estimator__min_samples_leaf=4 \n"
     ]
    },
    {
     "name": "stderr",
     "output_type": "stream",
     "text": [
      "/Users/rob/anaconda/lib/python3.5/site-packages/sklearn/externals/joblib/parallel.py:540: UserWarning: Multiprocessing-backed parallel loops cannot be nested, setting n_jobs=1\n",
      "  **self._backend_args)\n"
     ]
    },
    {
     "name": "stdout",
     "output_type": "stream",
     "text": [
      "[CV]  estimator__n_estimators=40, estimator__max_depth=8, estimator__min_samples_split=4, estimator__min_samples_leaf=4 -  33.8s\n",
      "[CV] estimator__n_estimators=10, estimator__max_depth=8, estimator__min_samples_split=6, estimator__min_samples_leaf=4 \n"
     ]
    },
    {
     "name": "stderr",
     "output_type": "stream",
     "text": [
      "/Users/rob/anaconda/lib/python3.5/site-packages/sklearn/externals/joblib/parallel.py:540: UserWarning: Multiprocessing-backed parallel loops cannot be nested, setting n_jobs=1\n",
      "  **self._backend_args)\n"
     ]
    },
    {
     "name": "stdout",
     "output_type": "stream",
     "text": [
      "[CV]  estimator__n_estimators=10, estimator__max_depth=8, estimator__min_samples_split=6, estimator__min_samples_leaf=4 -   8.5s\n",
      "[CV] estimator__n_estimators=10, estimator__max_depth=8, estimator__min_samples_split=6, estimator__min_samples_leaf=4 \n"
     ]
    },
    {
     "name": "stderr",
     "output_type": "stream",
     "text": [
      "/Users/rob/anaconda/lib/python3.5/site-packages/sklearn/externals/joblib/parallel.py:540: UserWarning: Multiprocessing-backed parallel loops cannot be nested, setting n_jobs=1\n",
      "  **self._backend_args)\n"
     ]
    },
    {
     "name": "stdout",
     "output_type": "stream",
     "text": [
      "[CV]  estimator__n_estimators=40, estimator__max_depth=8, estimator__min_samples_split=4, estimator__min_samples_leaf=4 -  34.1s\n",
      "[CV] estimator__n_estimators=10, estimator__max_depth=8, estimator__min_samples_split=6, estimator__min_samples_leaf=4 \n"
     ]
    },
    {
     "name": "stderr",
     "output_type": "stream",
     "text": [
      "/Users/rob/anaconda/lib/python3.5/site-packages/sklearn/externals/joblib/parallel.py:540: UserWarning: Multiprocessing-backed parallel loops cannot be nested, setting n_jobs=1\n",
      "  **self._backend_args)\n"
     ]
    },
    {
     "name": "stdout",
     "output_type": "stream",
     "text": [
      "[CV]  estimator__n_estimators=10, estimator__max_depth=8, estimator__min_samples_split=6, estimator__min_samples_leaf=4 -   8.7s\n",
      "[CV] estimator__n_estimators=10, estimator__max_depth=8, estimator__min_samples_split=6, estimator__min_samples_leaf=4 \n",
      "[CV]  estimator__n_estimators=10, estimator__max_depth=8, estimator__min_samples_split=6, estimator__min_samples_leaf=4 -   8.7s\n"
     ]
    },
    {
     "name": "stderr",
     "output_type": "stream",
     "text": [
      "/Users/rob/anaconda/lib/python3.5/site-packages/sklearn/externals/joblib/parallel.py:540: UserWarning: Multiprocessing-backed parallel loops cannot be nested, setting n_jobs=1\n",
      "  **self._backend_args)\n"
     ]
    },
    {
     "name": "stdout",
     "output_type": "stream",
     "text": [
      "[CV] estimator__n_estimators=20, estimator__max_depth=8, estimator__min_samples_split=6, estimator__min_samples_leaf=4 \n"
     ]
    },
    {
     "name": "stderr",
     "output_type": "stream",
     "text": [
      "/Users/rob/anaconda/lib/python3.5/site-packages/sklearn/externals/joblib/parallel.py:540: UserWarning: Multiprocessing-backed parallel loops cannot be nested, setting n_jobs=1\n",
      "  **self._backend_args)\n"
     ]
    },
    {
     "name": "stdout",
     "output_type": "stream",
     "text": [
      "[CV]  estimator__n_estimators=10, estimator__max_depth=8, estimator__min_samples_split=6, estimator__min_samples_leaf=4 -   8.6s\n",
      "[CV] estimator__n_estimators=20, estimator__max_depth=8, estimator__min_samples_split=6, estimator__min_samples_leaf=4 \n"
     ]
    },
    {
     "name": "stderr",
     "output_type": "stream",
     "text": [
      "/Users/rob/anaconda/lib/python3.5/site-packages/sklearn/externals/joblib/parallel.py:540: UserWarning: Multiprocessing-backed parallel loops cannot be nested, setting n_jobs=1\n",
      "  **self._backend_args)\n"
     ]
    },
    {
     "name": "stdout",
     "output_type": "stream",
     "text": [
      "[CV]  estimator__n_estimators=10, estimator__max_depth=8, estimator__min_samples_split=6, estimator__min_samples_leaf=4 -   8.7s\n",
      "[CV] estimator__n_estimators=20, estimator__max_depth=8, estimator__min_samples_split=6, estimator__min_samples_leaf=4 \n"
     ]
    },
    {
     "name": "stderr",
     "output_type": "stream",
     "text": [
      "/Users/rob/anaconda/lib/python3.5/site-packages/sklearn/externals/joblib/parallel.py:540: UserWarning: Multiprocessing-backed parallel loops cannot be nested, setting n_jobs=1\n",
      "  **self._backend_args)\n"
     ]
    },
    {
     "name": "stdout",
     "output_type": "stream",
     "text": [
      "[CV]  estimator__n_estimators=50, estimator__max_depth=8, estimator__min_samples_split=4, estimator__min_samples_leaf=4 -  42.4s\n",
      "[CV] estimator__n_estimators=20, estimator__max_depth=8, estimator__min_samples_split=6, estimator__min_samples_leaf=4 \n"
     ]
    },
    {
     "name": "stderr",
     "output_type": "stream",
     "text": [
      "/Users/rob/anaconda/lib/python3.5/site-packages/sklearn/externals/joblib/parallel.py:540: UserWarning: Multiprocessing-backed parallel loops cannot be nested, setting n_jobs=1\n",
      "  **self._backend_args)\n"
     ]
    },
    {
     "name": "stdout",
     "output_type": "stream",
     "text": [
      "[CV]  estimator__n_estimators=50, estimator__max_depth=8, estimator__min_samples_split=4, estimator__min_samples_leaf=4 -  42.5s\n",
      "[CV] estimator__n_estimators=20, estimator__max_depth=8, estimator__min_samples_split=6, estimator__min_samples_leaf=4 \n"
     ]
    },
    {
     "name": "stderr",
     "output_type": "stream",
     "text": [
      "/Users/rob/anaconda/lib/python3.5/site-packages/sklearn/externals/joblib/parallel.py:540: UserWarning: Multiprocessing-backed parallel loops cannot be nested, setting n_jobs=1\n",
      "  **self._backend_args)\n"
     ]
    },
    {
     "name": "stdout",
     "output_type": "stream",
     "text": [
      "[CV]  estimator__n_estimators=50, estimator__max_depth=8, estimator__min_samples_split=4, estimator__min_samples_leaf=4 -  42.7s\n",
      "[CV] estimator__n_estimators=30, estimator__max_depth=8, estimator__min_samples_split=6, estimator__min_samples_leaf=4 \n"
     ]
    },
    {
     "name": "stderr",
     "output_type": "stream",
     "text": [
      "/Users/rob/anaconda/lib/python3.5/site-packages/sklearn/externals/joblib/parallel.py:540: UserWarning: Multiprocessing-backed parallel loops cannot be nested, setting n_jobs=1\n",
      "  **self._backend_args)\n"
     ]
    },
    {
     "name": "stdout",
     "output_type": "stream",
     "text": [
      "[CV]  estimator__n_estimators=20, estimator__max_depth=8, estimator__min_samples_split=6, estimator__min_samples_leaf=4 -  16.9s\n",
      "[CV] estimator__n_estimators=30, estimator__max_depth=8, estimator__min_samples_split=6, estimator__min_samples_leaf=4 \n"
     ]
    },
    {
     "name": "stderr",
     "output_type": "stream",
     "text": [
      "/Users/rob/anaconda/lib/python3.5/site-packages/sklearn/externals/joblib/parallel.py:540: UserWarning: Multiprocessing-backed parallel loops cannot be nested, setting n_jobs=1\n",
      "  **self._backend_args)\n"
     ]
    },
    {
     "name": "stdout",
     "output_type": "stream",
     "text": [
      "[CV]  estimator__n_estimators=50, estimator__max_depth=8, estimator__min_samples_split=4, estimator__min_samples_leaf=4 -  42.3s\n",
      "[CV] estimator__n_estimators=30, estimator__max_depth=8, estimator__min_samples_split=6, estimator__min_samples_leaf=4 \n"
     ]
    },
    {
     "name": "stderr",
     "output_type": "stream",
     "text": [
      "/Users/rob/anaconda/lib/python3.5/site-packages/sklearn/externals/joblib/parallel.py:540: UserWarning: Multiprocessing-backed parallel loops cannot be nested, setting n_jobs=1\n",
      "  **self._backend_args)\n"
     ]
    },
    {
     "name": "stdout",
     "output_type": "stream",
     "text": [
      "[CV]  estimator__n_estimators=20, estimator__max_depth=8, estimator__min_samples_split=6, estimator__min_samples_leaf=4 -  16.8s\n",
      "[CV] estimator__n_estimators=30, estimator__max_depth=8, estimator__min_samples_split=6, estimator__min_samples_leaf=4 \n"
     ]
    },
    {
     "name": "stderr",
     "output_type": "stream",
     "text": [
      "/Users/rob/anaconda/lib/python3.5/site-packages/sklearn/externals/joblib/parallel.py:540: UserWarning: Multiprocessing-backed parallel loops cannot be nested, setting n_jobs=1\n",
      "  **self._backend_args)\n"
     ]
    },
    {
     "name": "stdout",
     "output_type": "stream",
     "text": [
      "[CV]  estimator__n_estimators=50, estimator__max_depth=8, estimator__min_samples_split=4, estimator__min_samples_leaf=4 -  42.3s\n",
      "[CV] estimator__n_estimators=30, estimator__max_depth=8, estimator__min_samples_split=6, estimator__min_samples_leaf=4 \n"
     ]
    },
    {
     "name": "stderr",
     "output_type": "stream",
     "text": [
      "/Users/rob/anaconda/lib/python3.5/site-packages/sklearn/externals/joblib/parallel.py:540: UserWarning: Multiprocessing-backed parallel loops cannot be nested, setting n_jobs=1\n",
      "  **self._backend_args)\n"
     ]
    },
    {
     "name": "stdout",
     "output_type": "stream",
     "text": [
      "[CV]  estimator__n_estimators=20, estimator__max_depth=8, estimator__min_samples_split=6, estimator__min_samples_leaf=4 -  16.9s\n",
      "[CV] estimator__n_estimators=40, estimator__max_depth=8, estimator__min_samples_split=6, estimator__min_samples_leaf=4 \n"
     ]
    },
    {
     "name": "stderr",
     "output_type": "stream",
     "text": [
      "/Users/rob/anaconda/lib/python3.5/site-packages/sklearn/externals/joblib/parallel.py:540: UserWarning: Multiprocessing-backed parallel loops cannot be nested, setting n_jobs=1\n",
      "  **self._backend_args)\n"
     ]
    },
    {
     "name": "stdout",
     "output_type": "stream",
     "text": [
      "[CV]  estimator__n_estimators=20, estimator__max_depth=8, estimator__min_samples_split=6, estimator__min_samples_leaf=4 -  16.8s\n",
      "[CV] estimator__n_estimators=40, estimator__max_depth=8, estimator__min_samples_split=6, estimator__min_samples_leaf=4 \n"
     ]
    },
    {
     "name": "stderr",
     "output_type": "stream",
     "text": [
      "/Users/rob/anaconda/lib/python3.5/site-packages/sklearn/externals/joblib/parallel.py:540: UserWarning: Multiprocessing-backed parallel loops cannot be nested, setting n_jobs=1\n",
      "  **self._backend_args)\n"
     ]
    },
    {
     "name": "stdout",
     "output_type": "stream",
     "text": [
      "[CV]  estimator__n_estimators=20, estimator__max_depth=8, estimator__min_samples_split=6, estimator__min_samples_leaf=4 -  16.8s\n",
      "[CV] estimator__n_estimators=40, estimator__max_depth=8, estimator__min_samples_split=6, estimator__min_samples_leaf=4 \n"
     ]
    },
    {
     "name": "stderr",
     "output_type": "stream",
     "text": [
      "/Users/rob/anaconda/lib/python3.5/site-packages/sklearn/externals/joblib/parallel.py:540: UserWarning: Multiprocessing-backed parallel loops cannot be nested, setting n_jobs=1\n",
      "  **self._backend_args)\n"
     ]
    },
    {
     "name": "stdout",
     "output_type": "stream",
     "text": [
      "[CV]  estimator__n_estimators=30, estimator__max_depth=8, estimator__min_samples_split=6, estimator__min_samples_leaf=4 -  25.0s\n",
      "[CV] estimator__n_estimators=40, estimator__max_depth=8, estimator__min_samples_split=6, estimator__min_samples_leaf=4 \n"
     ]
    },
    {
     "name": "stderr",
     "output_type": "stream",
     "text": [
      "/Users/rob/anaconda/lib/python3.5/site-packages/sklearn/externals/joblib/parallel.py:540: UserWarning: Multiprocessing-backed parallel loops cannot be nested, setting n_jobs=1\n",
      "  **self._backend_args)\n"
     ]
    },
    {
     "name": "stdout",
     "output_type": "stream",
     "text": [
      "[CV]  estimator__n_estimators=30, estimator__max_depth=8, estimator__min_samples_split=6, estimator__min_samples_leaf=4 -  25.1s\n",
      "[CV] estimator__n_estimators=40, estimator__max_depth=8, estimator__min_samples_split=6, estimator__min_samples_leaf=4 \n"
     ]
    },
    {
     "name": "stderr",
     "output_type": "stream",
     "text": [
      "/Users/rob/anaconda/lib/python3.5/site-packages/sklearn/externals/joblib/parallel.py:540: UserWarning: Multiprocessing-backed parallel loops cannot be nested, setting n_jobs=1\n",
      "  **self._backend_args)\n"
     ]
    },
    {
     "name": "stdout",
     "output_type": "stream",
     "text": [
      "[CV]  estimator__n_estimators=30, estimator__max_depth=8, estimator__min_samples_split=6, estimator__min_samples_leaf=4 -  25.2s\n",
      "[CV] estimator__n_estimators=50, estimator__max_depth=8, estimator__min_samples_split=6, estimator__min_samples_leaf=4 \n"
     ]
    },
    {
     "name": "stderr",
     "output_type": "stream",
     "text": [
      "/Users/rob/anaconda/lib/python3.5/site-packages/sklearn/externals/joblib/parallel.py:540: UserWarning: Multiprocessing-backed parallel loops cannot be nested, setting n_jobs=1\n",
      "  **self._backend_args)\n"
     ]
    },
    {
     "name": "stdout",
     "output_type": "stream",
     "text": [
      "[CV]  estimator__n_estimators=30, estimator__max_depth=8, estimator__min_samples_split=6, estimator__min_samples_leaf=4 -  25.2s\n",
      "[CV] estimator__n_estimators=50, estimator__max_depth=8, estimator__min_samples_split=6, estimator__min_samples_leaf=4 \n"
     ]
    },
    {
     "name": "stderr",
     "output_type": "stream",
     "text": [
      "/Users/rob/anaconda/lib/python3.5/site-packages/sklearn/externals/joblib/parallel.py:540: UserWarning: Multiprocessing-backed parallel loops cannot be nested, setting n_jobs=1\n",
      "  **self._backend_args)\n"
     ]
    },
    {
     "name": "stdout",
     "output_type": "stream",
     "text": [
      "[CV]  estimator__n_estimators=30, estimator__max_depth=8, estimator__min_samples_split=6, estimator__min_samples_leaf=4 -  25.3s\n",
      "[CV] estimator__n_estimators=50, estimator__max_depth=8, estimator__min_samples_split=6, estimator__min_samples_leaf=4 \n"
     ]
    },
    {
     "name": "stderr",
     "output_type": "stream",
     "text": [
      "/Users/rob/anaconda/lib/python3.5/site-packages/sklearn/externals/joblib/parallel.py:540: UserWarning: Multiprocessing-backed parallel loops cannot be nested, setting n_jobs=1\n",
      "  **self._backend_args)\n"
     ]
    },
    {
     "name": "stdout",
     "output_type": "stream",
     "text": [
      "[CV]  estimator__n_estimators=40, estimator__max_depth=8, estimator__min_samples_split=6, estimator__min_samples_leaf=4 -  33.6s\n",
      "[CV] estimator__n_estimators=50, estimator__max_depth=8, estimator__min_samples_split=6, estimator__min_samples_leaf=4 \n"
     ]
    },
    {
     "name": "stderr",
     "output_type": "stream",
     "text": [
      "/Users/rob/anaconda/lib/python3.5/site-packages/sklearn/externals/joblib/parallel.py:540: UserWarning: Multiprocessing-backed parallel loops cannot be nested, setting n_jobs=1\n",
      "  **self._backend_args)\n"
     ]
    },
    {
     "name": "stdout",
     "output_type": "stream",
     "text": [
      "[CV]  estimator__n_estimators=40, estimator__max_depth=8, estimator__min_samples_split=6, estimator__min_samples_leaf=4 -  33.5s\n",
      "[CV] estimator__n_estimators=50, estimator__max_depth=8, estimator__min_samples_split=6, estimator__min_samples_leaf=4 \n"
     ]
    },
    {
     "name": "stderr",
     "output_type": "stream",
     "text": [
      "/Users/rob/anaconda/lib/python3.5/site-packages/sklearn/externals/joblib/parallel.py:540: UserWarning: Multiprocessing-backed parallel loops cannot be nested, setting n_jobs=1\n",
      "  **self._backend_args)\n"
     ]
    },
    {
     "name": "stdout",
     "output_type": "stream",
     "text": [
      "[CV]  estimator__n_estimators=40, estimator__max_depth=8, estimator__min_samples_split=6, estimator__min_samples_leaf=4 -  33.5s\n",
      "[CV] estimator__n_estimators=10, estimator__max_depth=12, estimator__min_samples_split=2, estimator__min_samples_leaf=1 \n"
     ]
    },
    {
     "name": "stderr",
     "output_type": "stream",
     "text": [
      "/Users/rob/anaconda/lib/python3.5/site-packages/sklearn/externals/joblib/parallel.py:540: UserWarning: Multiprocessing-backed parallel loops cannot be nested, setting n_jobs=1\n",
      "  **self._backend_args)\n"
     ]
    },
    {
     "name": "stdout",
     "output_type": "stream",
     "text": [
      "[CV]  estimator__n_estimators=40, estimator__max_depth=8, estimator__min_samples_split=6, estimator__min_samples_leaf=4 -  33.5s\n",
      "[CV] estimator__n_estimators=10, estimator__max_depth=12, estimator__min_samples_split=2, estimator__min_samples_leaf=1 \n"
     ]
    },
    {
     "name": "stderr",
     "output_type": "stream",
     "text": [
      "/Users/rob/anaconda/lib/python3.5/site-packages/sklearn/externals/joblib/parallel.py:540: UserWarning: Multiprocessing-backed parallel loops cannot be nested, setting n_jobs=1\n",
      "  **self._backend_args)\n"
     ]
    },
    {
     "name": "stdout",
     "output_type": "stream",
     "text": [
      "[CV]  estimator__n_estimators=10, estimator__max_depth=12, estimator__min_samples_split=2, estimator__min_samples_leaf=1 -  11.6s\n",
      "[CV] estimator__n_estimators=10, estimator__max_depth=12, estimator__min_samples_split=2, estimator__min_samples_leaf=1 \n"
     ]
    },
    {
     "name": "stderr",
     "output_type": "stream",
     "text": [
      "/Users/rob/anaconda/lib/python3.5/site-packages/sklearn/externals/joblib/parallel.py:540: UserWarning: Multiprocessing-backed parallel loops cannot be nested, setting n_jobs=1\n",
      "  **self._backend_args)\n"
     ]
    },
    {
     "name": "stdout",
     "output_type": "stream",
     "text": [
      "[CV]  estimator__n_estimators=40, estimator__max_depth=8, estimator__min_samples_split=6, estimator__min_samples_leaf=4 -  33.4s\n",
      "[CV] estimator__n_estimators=10, estimator__max_depth=12, estimator__min_samples_split=2, estimator__min_samples_leaf=1 \n"
     ]
    },
    {
     "name": "stderr",
     "output_type": "stream",
     "text": [
      "/Users/rob/anaconda/lib/python3.5/site-packages/sklearn/externals/joblib/parallel.py:540: UserWarning: Multiprocessing-backed parallel loops cannot be nested, setting n_jobs=1\n",
      "  **self._backend_args)\n"
     ]
    },
    {
     "name": "stdout",
     "output_type": "stream",
     "text": [
      "[CV]  estimator__n_estimators=10, estimator__max_depth=12, estimator__min_samples_split=2, estimator__min_samples_leaf=1 -  11.9s\n",
      "[CV] estimator__n_estimators=10, estimator__max_depth=12, estimator__min_samples_split=2, estimator__min_samples_leaf=1 \n"
     ]
    },
    {
     "name": "stderr",
     "output_type": "stream",
     "text": [
      "/Users/rob/anaconda/lib/python3.5/site-packages/sklearn/externals/joblib/parallel.py:540: UserWarning: Multiprocessing-backed parallel loops cannot be nested, setting n_jobs=1\n",
      "  **self._backend_args)\n"
     ]
    },
    {
     "name": "stdout",
     "output_type": "stream",
     "text": [
      "[CV]  estimator__n_estimators=10, estimator__max_depth=12, estimator__min_samples_split=2, estimator__min_samples_leaf=1 -  12.2s\n",
      "[CV] estimator__n_estimators=20, estimator__max_depth=12, estimator__min_samples_split=2, estimator__min_samples_leaf=1 \n"
     ]
    },
    {
     "name": "stderr",
     "output_type": "stream",
     "text": [
      "/Users/rob/anaconda/lib/python3.5/site-packages/sklearn/externals/joblib/parallel.py:540: UserWarning: Multiprocessing-backed parallel loops cannot be nested, setting n_jobs=1\n",
      "  **self._backend_args)\n"
     ]
    },
    {
     "name": "stdout",
     "output_type": "stream",
     "text": [
      "[CV]  estimator__n_estimators=50, estimator__max_depth=8, estimator__min_samples_split=6, estimator__min_samples_leaf=4 -  41.9s\n",
      "[CV] estimator__n_estimators=20, estimator__max_depth=12, estimator__min_samples_split=2, estimator__min_samples_leaf=1 \n"
     ]
    },
    {
     "name": "stderr",
     "output_type": "stream",
     "text": [
      "/Users/rob/anaconda/lib/python3.5/site-packages/sklearn/externals/joblib/parallel.py:540: UserWarning: Multiprocessing-backed parallel loops cannot be nested, setting n_jobs=1\n",
      "  **self._backend_args)\n"
     ]
    },
    {
     "name": "stdout",
     "output_type": "stream",
     "text": [
      "[CV]  estimator__n_estimators=50, estimator__max_depth=8, estimator__min_samples_split=6, estimator__min_samples_leaf=4 -  42.0s\n",
      "[CV] estimator__n_estimators=20, estimator__max_depth=12, estimator__min_samples_split=2, estimator__min_samples_leaf=1 \n"
     ]
    },
    {
     "name": "stderr",
     "output_type": "stream",
     "text": [
      "/Users/rob/anaconda/lib/python3.5/site-packages/sklearn/externals/joblib/parallel.py:540: UserWarning: Multiprocessing-backed parallel loops cannot be nested, setting n_jobs=1\n",
      "  **self._backend_args)\n"
     ]
    },
    {
     "name": "stdout",
     "output_type": "stream",
     "text": [
      "[CV]  estimator__n_estimators=10, estimator__max_depth=12, estimator__min_samples_split=2, estimator__min_samples_leaf=1 -  12.0s\n",
      "[CV] estimator__n_estimators=20, estimator__max_depth=12, estimator__min_samples_split=2, estimator__min_samples_leaf=1 \n"
     ]
    },
    {
     "name": "stderr",
     "output_type": "stream",
     "text": [
      "/Users/rob/anaconda/lib/python3.5/site-packages/sklearn/externals/joblib/parallel.py:540: UserWarning: Multiprocessing-backed parallel loops cannot be nested, setting n_jobs=1\n",
      "  **self._backend_args)\n"
     ]
    },
    {
     "name": "stdout",
     "output_type": "stream",
     "text": [
      "[CV]  estimator__n_estimators=50, estimator__max_depth=8, estimator__min_samples_split=6, estimator__min_samples_leaf=4 -  41.9s\n",
      "[CV] estimator__n_estimators=20, estimator__max_depth=12, estimator__min_samples_split=2, estimator__min_samples_leaf=1 \n"
     ]
    },
    {
     "name": "stderr",
     "output_type": "stream",
     "text": [
      "/Users/rob/anaconda/lib/python3.5/site-packages/sklearn/externals/joblib/parallel.py:540: UserWarning: Multiprocessing-backed parallel loops cannot be nested, setting n_jobs=1\n",
      "  **self._backend_args)\n"
     ]
    },
    {
     "name": "stdout",
     "output_type": "stream",
     "text": [
      "[CV]  estimator__n_estimators=10, estimator__max_depth=12, estimator__min_samples_split=2, estimator__min_samples_leaf=1 -  11.9s\n",
      "[CV] estimator__n_estimators=30, estimator__max_depth=12, estimator__min_samples_split=2, estimator__min_samples_leaf=1 \n"
     ]
    },
    {
     "name": "stderr",
     "output_type": "stream",
     "text": [
      "/Users/rob/anaconda/lib/python3.5/site-packages/sklearn/externals/joblib/parallel.py:540: UserWarning: Multiprocessing-backed parallel loops cannot be nested, setting n_jobs=1\n",
      "  **self._backend_args)\n"
     ]
    },
    {
     "name": "stdout",
     "output_type": "stream",
     "text": [
      "[CV]  estimator__n_estimators=50, estimator__max_depth=8, estimator__min_samples_split=6, estimator__min_samples_leaf=4 -  42.2s\n",
      "[CV] estimator__n_estimators=30, estimator__max_depth=12, estimator__min_samples_split=2, estimator__min_samples_leaf=1 \n"
     ]
    },
    {
     "name": "stderr",
     "output_type": "stream",
     "text": [
      "/Users/rob/anaconda/lib/python3.5/site-packages/sklearn/externals/joblib/parallel.py:540: UserWarning: Multiprocessing-backed parallel loops cannot be nested, setting n_jobs=1\n",
      "  **self._backend_args)\n"
     ]
    },
    {
     "name": "stdout",
     "output_type": "stream",
     "text": [
      "[CV]  estimator__n_estimators=50, estimator__max_depth=8, estimator__min_samples_split=6, estimator__min_samples_leaf=4 -  42.0s\n",
      "[CV] estimator__n_estimators=30, estimator__max_depth=12, estimator__min_samples_split=2, estimator__min_samples_leaf=1 \n"
     ]
    },
    {
     "name": "stderr",
     "output_type": "stream",
     "text": [
      "/Users/rob/anaconda/lib/python3.5/site-packages/sklearn/externals/joblib/parallel.py:540: UserWarning: Multiprocessing-backed parallel loops cannot be nested, setting n_jobs=1\n",
      "  **self._backend_args)\n"
     ]
    },
    {
     "name": "stdout",
     "output_type": "stream",
     "text": [
      "[CV]  estimator__n_estimators=20, estimator__max_depth=12, estimator__min_samples_split=2, estimator__min_samples_leaf=1 -  23.6s\n",
      "[CV] estimator__n_estimators=30, estimator__max_depth=12, estimator__min_samples_split=2, estimator__min_samples_leaf=1 \n"
     ]
    },
    {
     "name": "stderr",
     "output_type": "stream",
     "text": [
      "/Users/rob/anaconda/lib/python3.5/site-packages/sklearn/externals/joblib/parallel.py:540: UserWarning: Multiprocessing-backed parallel loops cannot be nested, setting n_jobs=1\n",
      "  **self._backend_args)\n"
     ]
    },
    {
     "name": "stdout",
     "output_type": "stream",
     "text": [
      "[CV]  estimator__n_estimators=20, estimator__max_depth=12, estimator__min_samples_split=2, estimator__min_samples_leaf=1 -  23.8s\n",
      "[CV] estimator__n_estimators=30, estimator__max_depth=12, estimator__min_samples_split=2, estimator__min_samples_leaf=1 \n"
     ]
    },
    {
     "name": "stderr",
     "output_type": "stream",
     "text": [
      "/Users/rob/anaconda/lib/python3.5/site-packages/sklearn/externals/joblib/parallel.py:540: UserWarning: Multiprocessing-backed parallel loops cannot be nested, setting n_jobs=1\n",
      "  **self._backend_args)\n"
     ]
    },
    {
     "name": "stdout",
     "output_type": "stream",
     "text": [
      "[CV]  estimator__n_estimators=20, estimator__max_depth=12, estimator__min_samples_split=2, estimator__min_samples_leaf=1 -  24.1s\n",
      "[CV] estimator__n_estimators=40, estimator__max_depth=12, estimator__min_samples_split=2, estimator__min_samples_leaf=1 \n"
     ]
    },
    {
     "name": "stderr",
     "output_type": "stream",
     "text": [
      "/Users/rob/anaconda/lib/python3.5/site-packages/sklearn/externals/joblib/parallel.py:540: UserWarning: Multiprocessing-backed parallel loops cannot be nested, setting n_jobs=1\n",
      "  **self._backend_args)\n"
     ]
    },
    {
     "name": "stdout",
     "output_type": "stream",
     "text": [
      "[CV]  estimator__n_estimators=20, estimator__max_depth=12, estimator__min_samples_split=2, estimator__min_samples_leaf=1 -  24.2s\n",
      "[CV] estimator__n_estimators=40, estimator__max_depth=12, estimator__min_samples_split=2, estimator__min_samples_leaf=1 \n"
     ]
    },
    {
     "name": "stderr",
     "output_type": "stream",
     "text": [
      "/Users/rob/anaconda/lib/python3.5/site-packages/sklearn/externals/joblib/parallel.py:540: UserWarning: Multiprocessing-backed parallel loops cannot be nested, setting n_jobs=1\n",
      "  **self._backend_args)\n"
     ]
    },
    {
     "name": "stdout",
     "output_type": "stream",
     "text": [
      "[CV]  estimator__n_estimators=20, estimator__max_depth=12, estimator__min_samples_split=2, estimator__min_samples_leaf=1 -  24.3s\n",
      "[CV] estimator__n_estimators=40, estimator__max_depth=12, estimator__min_samples_split=2, estimator__min_samples_leaf=1 \n"
     ]
    },
    {
     "name": "stderr",
     "output_type": "stream",
     "text": [
      "/Users/rob/anaconda/lib/python3.5/site-packages/sklearn/externals/joblib/parallel.py:540: UserWarning: Multiprocessing-backed parallel loops cannot be nested, setting n_jobs=1\n",
      "  **self._backend_args)\n"
     ]
    },
    {
     "name": "stdout",
     "output_type": "stream",
     "text": [
      "[CV]  estimator__n_estimators=30, estimator__max_depth=12, estimator__min_samples_split=2, estimator__min_samples_leaf=1 -  35.8s\n",
      "[CV] estimator__n_estimators=40, estimator__max_depth=12, estimator__min_samples_split=2, estimator__min_samples_leaf=1 \n"
     ]
    },
    {
     "name": "stderr",
     "output_type": "stream",
     "text": [
      "/Users/rob/anaconda/lib/python3.5/site-packages/sklearn/externals/joblib/parallel.py:540: UserWarning: Multiprocessing-backed parallel loops cannot be nested, setting n_jobs=1\n",
      "  **self._backend_args)\n"
     ]
    },
    {
     "name": "stdout",
     "output_type": "stream",
     "text": [
      "[CV]  estimator__n_estimators=30, estimator__max_depth=12, estimator__min_samples_split=2, estimator__min_samples_leaf=1 -  35.4s\n",
      "[CV] estimator__n_estimators=40, estimator__max_depth=12, estimator__min_samples_split=2, estimator__min_samples_leaf=1 \n"
     ]
    },
    {
     "name": "stderr",
     "output_type": "stream",
     "text": [
      "/Users/rob/anaconda/lib/python3.5/site-packages/sklearn/externals/joblib/parallel.py:540: UserWarning: Multiprocessing-backed parallel loops cannot be nested, setting n_jobs=1\n",
      "  **self._backend_args)\n"
     ]
    },
    {
     "name": "stdout",
     "output_type": "stream",
     "text": [
      "[CV]  estimator__n_estimators=30, estimator__max_depth=12, estimator__min_samples_split=2, estimator__min_samples_leaf=1 -  35.3s\n",
      "[CV] estimator__n_estimators=50, estimator__max_depth=12, estimator__min_samples_split=2, estimator__min_samples_leaf=1 \n"
     ]
    },
    {
     "name": "stderr",
     "output_type": "stream",
     "text": [
      "/Users/rob/anaconda/lib/python3.5/site-packages/sklearn/externals/joblib/parallel.py:540: UserWarning: Multiprocessing-backed parallel loops cannot be nested, setting n_jobs=1\n",
      "  **self._backend_args)\n"
     ]
    },
    {
     "name": "stdout",
     "output_type": "stream",
     "text": [
      "[CV]  estimator__n_estimators=30, estimator__max_depth=12, estimator__min_samples_split=2, estimator__min_samples_leaf=1 -  35.7s\n",
      "[CV] estimator__n_estimators=50, estimator__max_depth=12, estimator__min_samples_split=2, estimator__min_samples_leaf=1 \n"
     ]
    },
    {
     "name": "stderr",
     "output_type": "stream",
     "text": [
      "/Users/rob/anaconda/lib/python3.5/site-packages/sklearn/externals/joblib/parallel.py:540: UserWarning: Multiprocessing-backed parallel loops cannot be nested, setting n_jobs=1\n",
      "  **self._backend_args)\n"
     ]
    },
    {
     "name": "stdout",
     "output_type": "stream",
     "text": [
      "[CV]  estimator__n_estimators=30, estimator__max_depth=12, estimator__min_samples_split=2, estimator__min_samples_leaf=1 -  35.1s\n",
      "[CV] estimator__n_estimators=50, estimator__max_depth=12, estimator__min_samples_split=2, estimator__min_samples_leaf=1 \n"
     ]
    },
    {
     "name": "stderr",
     "output_type": "stream",
     "text": [
      "/Users/rob/anaconda/lib/python3.5/site-packages/sklearn/externals/joblib/parallel.py:540: UserWarning: Multiprocessing-backed parallel loops cannot be nested, setting n_jobs=1\n",
      "  **self._backend_args)\n"
     ]
    },
    {
     "name": "stdout",
     "output_type": "stream",
     "text": [
      "[CV]  estimator__n_estimators=40, estimator__max_depth=12, estimator__min_samples_split=2, estimator__min_samples_leaf=1 -  46.3s\n",
      "[CV] estimator__n_estimators=50, estimator__max_depth=12, estimator__min_samples_split=2, estimator__min_samples_leaf=1 \n"
     ]
    },
    {
     "name": "stderr",
     "output_type": "stream",
     "text": [
      "/Users/rob/anaconda/lib/python3.5/site-packages/sklearn/externals/joblib/parallel.py:540: UserWarning: Multiprocessing-backed parallel loops cannot be nested, setting n_jobs=1\n",
      "  **self._backend_args)\n"
     ]
    },
    {
     "name": "stdout",
     "output_type": "stream",
     "text": [
      "[CV]  estimator__n_estimators=40, estimator__max_depth=12, estimator__min_samples_split=2, estimator__min_samples_leaf=1 -  45.9s\n",
      "[CV] estimator__n_estimators=50, estimator__max_depth=12, estimator__min_samples_split=2, estimator__min_samples_leaf=1 \n"
     ]
    },
    {
     "name": "stderr",
     "output_type": "stream",
     "text": [
      "/Users/rob/anaconda/lib/python3.5/site-packages/sklearn/externals/joblib/parallel.py:540: UserWarning: Multiprocessing-backed parallel loops cannot be nested, setting n_jobs=1\n",
      "  **self._backend_args)\n"
     ]
    },
    {
     "name": "stdout",
     "output_type": "stream",
     "text": [
      "[CV]  estimator__n_estimators=40, estimator__max_depth=12, estimator__min_samples_split=2, estimator__min_samples_leaf=1 -  45.8s\n",
      "[CV] estimator__n_estimators=10, estimator__max_depth=12, estimator__min_samples_split=4, estimator__min_samples_leaf=1 \n"
     ]
    },
    {
     "name": "stderr",
     "output_type": "stream",
     "text": [
      "/Users/rob/anaconda/lib/python3.5/site-packages/sklearn/externals/joblib/parallel.py:540: UserWarning: Multiprocessing-backed parallel loops cannot be nested, setting n_jobs=1\n",
      "  **self._backend_args)\n"
     ]
    },
    {
     "name": "stdout",
     "output_type": "stream",
     "text": [
      "[CV]  estimator__n_estimators=10, estimator__max_depth=12, estimator__min_samples_split=4, estimator__min_samples_leaf=1 -  11.5s\n",
      "[CV] estimator__n_estimators=10, estimator__max_depth=12, estimator__min_samples_split=4, estimator__min_samples_leaf=1 \n"
     ]
    },
    {
     "name": "stderr",
     "output_type": "stream",
     "text": [
      "/Users/rob/anaconda/lib/python3.5/site-packages/sklearn/externals/joblib/parallel.py:540: UserWarning: Multiprocessing-backed parallel loops cannot be nested, setting n_jobs=1\n",
      "  **self._backend_args)\n"
     ]
    },
    {
     "name": "stdout",
     "output_type": "stream",
     "text": [
      "[CV]  estimator__n_estimators=40, estimator__max_depth=12, estimator__min_samples_split=2, estimator__min_samples_leaf=1 -  45.7s\n",
      "[CV] estimator__n_estimators=10, estimator__max_depth=12, estimator__min_samples_split=4, estimator__min_samples_leaf=1 \n"
     ]
    },
    {
     "name": "stderr",
     "output_type": "stream",
     "text": [
      "/Users/rob/anaconda/lib/python3.5/site-packages/sklearn/externals/joblib/parallel.py:540: UserWarning: Multiprocessing-backed parallel loops cannot be nested, setting n_jobs=1\n",
      "  **self._backend_args)\n"
     ]
    },
    {
     "name": "stdout",
     "output_type": "stream",
     "text": [
      "[CV]  estimator__n_estimators=40, estimator__max_depth=12, estimator__min_samples_split=2, estimator__min_samples_leaf=1 -  45.8s\n",
      "[CV] estimator__n_estimators=10, estimator__max_depth=12, estimator__min_samples_split=4, estimator__min_samples_leaf=1 \n"
     ]
    },
    {
     "name": "stderr",
     "output_type": "stream",
     "text": [
      "/Users/rob/anaconda/lib/python3.5/site-packages/sklearn/externals/joblib/parallel.py:540: UserWarning: Multiprocessing-backed parallel loops cannot be nested, setting n_jobs=1\n",
      "  **self._backend_args)\n"
     ]
    },
    {
     "name": "stdout",
     "output_type": "stream",
     "text": [
      "[CV]  estimator__n_estimators=10, estimator__max_depth=12, estimator__min_samples_split=4, estimator__min_samples_leaf=1 -  11.8s\n",
      "[CV] estimator__n_estimators=10, estimator__max_depth=12, estimator__min_samples_split=4, estimator__min_samples_leaf=1 \n"
     ]
    },
    {
     "name": "stderr",
     "output_type": "stream",
     "text": [
      "/Users/rob/anaconda/lib/python3.5/site-packages/sklearn/externals/joblib/parallel.py:540: UserWarning: Multiprocessing-backed parallel loops cannot be nested, setting n_jobs=1\n",
      "  **self._backend_args)\n"
     ]
    },
    {
     "name": "stdout",
     "output_type": "stream",
     "text": [
      "[CV]  estimator__n_estimators=10, estimator__max_depth=12, estimator__min_samples_split=4, estimator__min_samples_leaf=1 -  12.1s\n",
      "[CV] estimator__n_estimators=20, estimator__max_depth=12, estimator__min_samples_split=4, estimator__min_samples_leaf=1 \n"
     ]
    },
    {
     "name": "stderr",
     "output_type": "stream",
     "text": [
      "/Users/rob/anaconda/lib/python3.5/site-packages/sklearn/externals/joblib/parallel.py:540: UserWarning: Multiprocessing-backed parallel loops cannot be nested, setting n_jobs=1\n",
      "  **self._backend_args)\n"
     ]
    },
    {
     "name": "stdout",
     "output_type": "stream",
     "text": [
      "[CV]  estimator__n_estimators=10, estimator__max_depth=12, estimator__min_samples_split=4, estimator__min_samples_leaf=1 -  12.1s\n",
      "[CV] estimator__n_estimators=20, estimator__max_depth=12, estimator__min_samples_split=4, estimator__min_samples_leaf=1 \n"
     ]
    },
    {
     "name": "stderr",
     "output_type": "stream",
     "text": [
      "/Users/rob/anaconda/lib/python3.5/site-packages/sklearn/externals/joblib/parallel.py:540: UserWarning: Multiprocessing-backed parallel loops cannot be nested, setting n_jobs=1\n",
      "  **self._backend_args)\n"
     ]
    },
    {
     "name": "stdout",
     "output_type": "stream",
     "text": [
      "[CV]  estimator__n_estimators=50, estimator__max_depth=12, estimator__min_samples_split=2, estimator__min_samples_leaf=1 -  57.6s\n",
      "[CV] estimator__n_estimators=20, estimator__max_depth=12, estimator__min_samples_split=4, estimator__min_samples_leaf=1 \n"
     ]
    },
    {
     "name": "stderr",
     "output_type": "stream",
     "text": [
      "/Users/rob/anaconda/lib/python3.5/site-packages/sklearn/externals/joblib/parallel.py:540: UserWarning: Multiprocessing-backed parallel loops cannot be nested, setting n_jobs=1\n",
      "  **self._backend_args)\n"
     ]
    },
    {
     "name": "stdout",
     "output_type": "stream",
     "text": [
      "[CV]  estimator__n_estimators=10, estimator__max_depth=12, estimator__min_samples_split=4, estimator__min_samples_leaf=1 -  11.7s\n",
      "[CV] estimator__n_estimators=20, estimator__max_depth=12, estimator__min_samples_split=4, estimator__min_samples_leaf=1 \n"
     ]
    },
    {
     "name": "stderr",
     "output_type": "stream",
     "text": [
      "/Users/rob/anaconda/lib/python3.5/site-packages/sklearn/externals/joblib/parallel.py:540: UserWarning: Multiprocessing-backed parallel loops cannot be nested, setting n_jobs=1\n",
      "  **self._backend_args)\n"
     ]
    },
    {
     "name": "stdout",
     "output_type": "stream",
     "text": [
      "[CV]  estimator__n_estimators=50, estimator__max_depth=12, estimator__min_samples_split=2, estimator__min_samples_leaf=1 -  57.8s\n",
      "[CV] estimator__n_estimators=20, estimator__max_depth=12, estimator__min_samples_split=4, estimator__min_samples_leaf=1 \n"
     ]
    },
    {
     "name": "stderr",
     "output_type": "stream",
     "text": [
      "/Users/rob/anaconda/lib/python3.5/site-packages/sklearn/externals/joblib/parallel.py:540: UserWarning: Multiprocessing-backed parallel loops cannot be nested, setting n_jobs=1\n",
      "  **self._backend_args)\n"
     ]
    },
    {
     "name": "stdout",
     "output_type": "stream",
     "text": [
      "[CV]  estimator__n_estimators=50, estimator__max_depth=12, estimator__min_samples_split=2, estimator__min_samples_leaf=1 -  57.7s\n",
      "[CV] estimator__n_estimators=30, estimator__max_depth=12, estimator__min_samples_split=4, estimator__min_samples_leaf=1 \n"
     ]
    },
    {
     "name": "stderr",
     "output_type": "stream",
     "text": [
      "/Users/rob/anaconda/lib/python3.5/site-packages/sklearn/externals/joblib/parallel.py:540: UserWarning: Multiprocessing-backed parallel loops cannot be nested, setting n_jobs=1\n",
      "  **self._backend_args)\n"
     ]
    },
    {
     "name": "stdout",
     "output_type": "stream",
     "text": [
      "[CV]  estimator__n_estimators=20, estimator__max_depth=12, estimator__min_samples_split=4, estimator__min_samples_leaf=1 -  23.1s\n",
      "[CV] estimator__n_estimators=30, estimator__max_depth=12, estimator__min_samples_split=4, estimator__min_samples_leaf=1 \n"
     ]
    },
    {
     "name": "stderr",
     "output_type": "stream",
     "text": [
      "/Users/rob/anaconda/lib/python3.5/site-packages/sklearn/externals/joblib/parallel.py:540: UserWarning: Multiprocessing-backed parallel loops cannot be nested, setting n_jobs=1\n",
      "  **self._backend_args)\n"
     ]
    },
    {
     "name": "stdout",
     "output_type": "stream",
     "text": [
      "[CV]  estimator__n_estimators=50, estimator__max_depth=12, estimator__min_samples_split=2, estimator__min_samples_leaf=1 -  57.9s\n",
      "[CV] estimator__n_estimators=30, estimator__max_depth=12, estimator__min_samples_split=4, estimator__min_samples_leaf=1 \n",
      "[CV]  estimator__n_estimators=50, estimator__max_depth=12, estimator__min_samples_split=2, estimator__min_samples_leaf=1 -  57.7s\n",
      "[CV] estimator__n_estimators=30, estimator__max_depth=12, estimator__min_samples_split=4, estimator__min_samples_leaf=1 \n"
     ]
    },
    {
     "name": "stderr",
     "output_type": "stream",
     "text": [
      "/Users/rob/anaconda/lib/python3.5/site-packages/sklearn/externals/joblib/parallel.py:540: UserWarning: Multiprocessing-backed parallel loops cannot be nested, setting n_jobs=1\n",
      "  **self._backend_args)\n",
      "/Users/rob/anaconda/lib/python3.5/site-packages/sklearn/externals/joblib/parallel.py:540: UserWarning: Multiprocessing-backed parallel loops cannot be nested, setting n_jobs=1\n",
      "  **self._backend_args)\n"
     ]
    },
    {
     "name": "stdout",
     "output_type": "stream",
     "text": [
      "[CV]  estimator__n_estimators=20, estimator__max_depth=12, estimator__min_samples_split=4, estimator__min_samples_leaf=1 -  23.0s\n",
      "[CV] estimator__n_estimators=30, estimator__max_depth=12, estimator__min_samples_split=4, estimator__min_samples_leaf=1 \n"
     ]
    },
    {
     "name": "stderr",
     "output_type": "stream",
     "text": [
      "/Users/rob/anaconda/lib/python3.5/site-packages/sklearn/externals/joblib/parallel.py:540: UserWarning: Multiprocessing-backed parallel loops cannot be nested, setting n_jobs=1\n",
      "  **self._backend_args)\n"
     ]
    },
    {
     "name": "stdout",
     "output_type": "stream",
     "text": [
      "[CV]  estimator__n_estimators=20, estimator__max_depth=12, estimator__min_samples_split=4, estimator__min_samples_leaf=1 -  23.0s\n",
      "[CV] estimator__n_estimators=40, estimator__max_depth=12, estimator__min_samples_split=4, estimator__min_samples_leaf=1 \n"
     ]
    },
    {
     "name": "stderr",
     "output_type": "stream",
     "text": [
      "/Users/rob/anaconda/lib/python3.5/site-packages/sklearn/externals/joblib/parallel.py:540: UserWarning: Multiprocessing-backed parallel loops cannot be nested, setting n_jobs=1\n",
      "  **self._backend_args)\n"
     ]
    },
    {
     "name": "stdout",
     "output_type": "stream",
     "text": [
      "[CV]  estimator__n_estimators=20, estimator__max_depth=12, estimator__min_samples_split=4, estimator__min_samples_leaf=1 -  23.1s\n",
      "[CV] estimator__n_estimators=40, estimator__max_depth=12, estimator__min_samples_split=4, estimator__min_samples_leaf=1 \n"
     ]
    },
    {
     "name": "stderr",
     "output_type": "stream",
     "text": [
      "/Users/rob/anaconda/lib/python3.5/site-packages/sklearn/externals/joblib/parallel.py:540: UserWarning: Multiprocessing-backed parallel loops cannot be nested, setting n_jobs=1\n",
      "  **self._backend_args)\n"
     ]
    },
    {
     "name": "stdout",
     "output_type": "stream",
     "text": [
      "[CV]  estimator__n_estimators=20, estimator__max_depth=12, estimator__min_samples_split=4, estimator__min_samples_leaf=1 -  23.1s\n",
      "[CV] estimator__n_estimators=40, estimator__max_depth=12, estimator__min_samples_split=4, estimator__min_samples_leaf=1 \n"
     ]
    },
    {
     "name": "stderr",
     "output_type": "stream",
     "text": [
      "/Users/rob/anaconda/lib/python3.5/site-packages/sklearn/externals/joblib/parallel.py:540: UserWarning: Multiprocessing-backed parallel loops cannot be nested, setting n_jobs=1\n",
      "  **self._backend_args)\n"
     ]
    },
    {
     "name": "stdout",
     "output_type": "stream",
     "text": [
      "[CV]  estimator__n_estimators=30, estimator__max_depth=12, estimator__min_samples_split=4, estimator__min_samples_leaf=1 -  34.3s\n",
      "[CV] estimator__n_estimators=40, estimator__max_depth=12, estimator__min_samples_split=4, estimator__min_samples_leaf=1 \n"
     ]
    },
    {
     "name": "stderr",
     "output_type": "stream",
     "text": [
      "/Users/rob/anaconda/lib/python3.5/site-packages/sklearn/externals/joblib/parallel.py:540: UserWarning: Multiprocessing-backed parallel loops cannot be nested, setting n_jobs=1\n",
      "  **self._backend_args)\n"
     ]
    },
    {
     "name": "stdout",
     "output_type": "stream",
     "text": [
      "[CV]  estimator__n_estimators=30, estimator__max_depth=12, estimator__min_samples_split=4, estimator__min_samples_leaf=1 -  34.3s\n",
      "[CV] estimator__n_estimators=40, estimator__max_depth=12, estimator__min_samples_split=4, estimator__min_samples_leaf=1 \n"
     ]
    },
    {
     "name": "stderr",
     "output_type": "stream",
     "text": [
      "/Users/rob/anaconda/lib/python3.5/site-packages/sklearn/externals/joblib/parallel.py:540: UserWarning: Multiprocessing-backed parallel loops cannot be nested, setting n_jobs=1\n",
      "  **self._backend_args)\n"
     ]
    },
    {
     "name": "stdout",
     "output_type": "stream",
     "text": [
      "[CV]  estimator__n_estimators=30, estimator__max_depth=12, estimator__min_samples_split=4, estimator__min_samples_leaf=1 -  34.3s\n",
      "[CV] estimator__n_estimators=50, estimator__max_depth=12, estimator__min_samples_split=4, estimator__min_samples_leaf=1 \n"
     ]
    },
    {
     "name": "stderr",
     "output_type": "stream",
     "text": [
      "/Users/rob/anaconda/lib/python3.5/site-packages/sklearn/externals/joblib/parallel.py:540: UserWarning: Multiprocessing-backed parallel loops cannot be nested, setting n_jobs=1\n",
      "  **self._backend_args)\n"
     ]
    },
    {
     "name": "stdout",
     "output_type": "stream",
     "text": [
      "[CV]  estimator__n_estimators=30, estimator__max_depth=12, estimator__min_samples_split=4, estimator__min_samples_leaf=1 -  34.4s\n",
      "[CV] estimator__n_estimators=50, estimator__max_depth=12, estimator__min_samples_split=4, estimator__min_samples_leaf=1 \n"
     ]
    },
    {
     "name": "stderr",
     "output_type": "stream",
     "text": [
      "/Users/rob/anaconda/lib/python3.5/site-packages/sklearn/externals/joblib/parallel.py:540: UserWarning: Multiprocessing-backed parallel loops cannot be nested, setting n_jobs=1\n",
      "  **self._backend_args)\n"
     ]
    },
    {
     "name": "stdout",
     "output_type": "stream",
     "text": [
      "[CV]  estimator__n_estimators=30, estimator__max_depth=12, estimator__min_samples_split=4, estimator__min_samples_leaf=1 -  34.3s\n",
      "[CV] estimator__n_estimators=50, estimator__max_depth=12, estimator__min_samples_split=4, estimator__min_samples_leaf=1 \n"
     ]
    },
    {
     "name": "stderr",
     "output_type": "stream",
     "text": [
      "/Users/rob/anaconda/lib/python3.5/site-packages/sklearn/externals/joblib/parallel.py:540: UserWarning: Multiprocessing-backed parallel loops cannot be nested, setting n_jobs=1\n",
      "  **self._backend_args)\n"
     ]
    },
    {
     "name": "stdout",
     "output_type": "stream",
     "text": [
      "[CV]  estimator__n_estimators=40, estimator__max_depth=12, estimator__min_samples_split=4, estimator__min_samples_leaf=1 -  45.7s\n",
      "[CV] estimator__n_estimators=50, estimator__max_depth=12, estimator__min_samples_split=4, estimator__min_samples_leaf=1 \n"
     ]
    },
    {
     "name": "stderr",
     "output_type": "stream",
     "text": [
      "/Users/rob/anaconda/lib/python3.5/site-packages/sklearn/externals/joblib/parallel.py:540: UserWarning: Multiprocessing-backed parallel loops cannot be nested, setting n_jobs=1\n",
      "  **self._backend_args)\n"
     ]
    },
    {
     "name": "stdout",
     "output_type": "stream",
     "text": [
      "[CV]  estimator__n_estimators=40, estimator__max_depth=12, estimator__min_samples_split=4, estimator__min_samples_leaf=1 -  45.6s\n",
      "[CV] estimator__n_estimators=50, estimator__max_depth=12, estimator__min_samples_split=4, estimator__min_samples_leaf=1 \n"
     ]
    },
    {
     "name": "stderr",
     "output_type": "stream",
     "text": [
      "/Users/rob/anaconda/lib/python3.5/site-packages/sklearn/externals/joblib/parallel.py:540: UserWarning: Multiprocessing-backed parallel loops cannot be nested, setting n_jobs=1\n",
      "  **self._backend_args)\n"
     ]
    },
    {
     "name": "stdout",
     "output_type": "stream",
     "text": [
      "[CV]  estimator__n_estimators=40, estimator__max_depth=12, estimator__min_samples_split=4, estimator__min_samples_leaf=1 -  45.7s\n",
      "[CV] estimator__n_estimators=10, estimator__max_depth=12, estimator__min_samples_split=6, estimator__min_samples_leaf=1 \n"
     ]
    },
    {
     "name": "stderr",
     "output_type": "stream",
     "text": [
      "/Users/rob/anaconda/lib/python3.5/site-packages/sklearn/externals/joblib/parallel.py:540: UserWarning: Multiprocessing-backed parallel loops cannot be nested, setting n_jobs=1\n",
      "  **self._backend_args)\n"
     ]
    },
    {
     "name": "stdout",
     "output_type": "stream",
     "text": [
      "[CV]  estimator__n_estimators=10, estimator__max_depth=12, estimator__min_samples_split=6, estimator__min_samples_leaf=1 -  11.6s\n",
      "[CV] estimator__n_estimators=10, estimator__max_depth=12, estimator__min_samples_split=6, estimator__min_samples_leaf=1 \n"
     ]
    },
    {
     "name": "stderr",
     "output_type": "stream",
     "text": [
      "/Users/rob/anaconda/lib/python3.5/site-packages/sklearn/externals/joblib/parallel.py:540: UserWarning: Multiprocessing-backed parallel loops cannot be nested, setting n_jobs=1\n",
      "  **self._backend_args)\n"
     ]
    },
    {
     "name": "stdout",
     "output_type": "stream",
     "text": [
      "[CV]  estimator__n_estimators=40, estimator__max_depth=12, estimator__min_samples_split=4, estimator__min_samples_leaf=1 -  45.9s\n",
      "[CV] estimator__n_estimators=10, estimator__max_depth=12, estimator__min_samples_split=6, estimator__min_samples_leaf=1 \n"
     ]
    },
    {
     "name": "stderr",
     "output_type": "stream",
     "text": [
      "/Users/rob/anaconda/lib/python3.5/site-packages/sklearn/externals/joblib/parallel.py:540: UserWarning: Multiprocessing-backed parallel loops cannot be nested, setting n_jobs=1\n",
      "  **self._backend_args)\n"
     ]
    },
    {
     "name": "stdout",
     "output_type": "stream",
     "text": [
      "[CV]  estimator__n_estimators=40, estimator__max_depth=12, estimator__min_samples_split=4, estimator__min_samples_leaf=1 -  45.7s\n",
      "[CV] estimator__n_estimators=10, estimator__max_depth=12, estimator__min_samples_split=6, estimator__min_samples_leaf=1 \n"
     ]
    },
    {
     "name": "stderr",
     "output_type": "stream",
     "text": [
      "/Users/rob/anaconda/lib/python3.5/site-packages/sklearn/externals/joblib/parallel.py:540: UserWarning: Multiprocessing-backed parallel loops cannot be nested, setting n_jobs=1\n",
      "  **self._backend_args)\n"
     ]
    },
    {
     "name": "stdout",
     "output_type": "stream",
     "text": [
      "[CV]  estimator__n_estimators=10, estimator__max_depth=12, estimator__min_samples_split=6, estimator__min_samples_leaf=1 -  11.5s\n",
      "[CV] estimator__n_estimators=10, estimator__max_depth=12, estimator__min_samples_split=6, estimator__min_samples_leaf=1 \n"
     ]
    },
    {
     "name": "stderr",
     "output_type": "stream",
     "text": [
      "/Users/rob/anaconda/lib/python3.5/site-packages/sklearn/externals/joblib/parallel.py:540: UserWarning: Multiprocessing-backed parallel loops cannot be nested, setting n_jobs=1\n",
      "  **self._backend_args)\n"
     ]
    },
    {
     "name": "stdout",
     "output_type": "stream",
     "text": [
      "[CV]  estimator__n_estimators=10, estimator__max_depth=12, estimator__min_samples_split=6, estimator__min_samples_leaf=1 -  11.6s\n",
      "[CV] estimator__n_estimators=20, estimator__max_depth=12, estimator__min_samples_split=6, estimator__min_samples_leaf=1 \n"
     ]
    },
    {
     "name": "stderr",
     "output_type": "stream",
     "text": [
      "/Users/rob/anaconda/lib/python3.5/site-packages/sklearn/externals/joblib/parallel.py:540: UserWarning: Multiprocessing-backed parallel loops cannot be nested, setting n_jobs=1\n",
      "  **self._backend_args)\n"
     ]
    },
    {
     "name": "stdout",
     "output_type": "stream",
     "text": [
      "[CV]  estimator__n_estimators=10, estimator__max_depth=12, estimator__min_samples_split=6, estimator__min_samples_leaf=1 -  11.5s\n",
      "[CV] estimator__n_estimators=20, estimator__max_depth=12, estimator__min_samples_split=6, estimator__min_samples_leaf=1 \n"
     ]
    },
    {
     "name": "stderr",
     "output_type": "stream",
     "text": [
      "/Users/rob/anaconda/lib/python3.5/site-packages/sklearn/externals/joblib/parallel.py:540: UserWarning: Multiprocessing-backed parallel loops cannot be nested, setting n_jobs=1\n",
      "  **self._backend_args)\n"
     ]
    },
    {
     "name": "stdout",
     "output_type": "stream",
     "text": [
      "[CV]  estimator__n_estimators=10, estimator__max_depth=12, estimator__min_samples_split=6, estimator__min_samples_leaf=1 -  11.5s\n",
      "[CV] estimator__n_estimators=20, estimator__max_depth=12, estimator__min_samples_split=6, estimator__min_samples_leaf=1 \n"
     ]
    },
    {
     "name": "stderr",
     "output_type": "stream",
     "text": [
      "/Users/rob/anaconda/lib/python3.5/site-packages/sklearn/externals/joblib/parallel.py:540: UserWarning: Multiprocessing-backed parallel loops cannot be nested, setting n_jobs=1\n",
      "  **self._backend_args)\n"
     ]
    },
    {
     "name": "stdout",
     "output_type": "stream",
     "text": [
      "[CV]  estimator__n_estimators=50, estimator__max_depth=12, estimator__min_samples_split=4, estimator__min_samples_leaf=1 -  57.2s\n",
      "[CV] estimator__n_estimators=20, estimator__max_depth=12, estimator__min_samples_split=6, estimator__min_samples_leaf=1 \n"
     ]
    },
    {
     "name": "stderr",
     "output_type": "stream",
     "text": [
      "/Users/rob/anaconda/lib/python3.5/site-packages/sklearn/externals/joblib/parallel.py:540: UserWarning: Multiprocessing-backed parallel loops cannot be nested, setting n_jobs=1\n",
      "  **self._backend_args)\n"
     ]
    },
    {
     "name": "stdout",
     "output_type": "stream",
     "text": [
      "[CV]  estimator__n_estimators=50, estimator__max_depth=12, estimator__min_samples_split=4, estimator__min_samples_leaf=1 -  57.2s\n",
      "[CV] estimator__n_estimators=20, estimator__max_depth=12, estimator__min_samples_split=6, estimator__min_samples_leaf=1 \n"
     ]
    },
    {
     "name": "stderr",
     "output_type": "stream",
     "text": [
      "/Users/rob/anaconda/lib/python3.5/site-packages/sklearn/externals/joblib/parallel.py:540: UserWarning: Multiprocessing-backed parallel loops cannot be nested, setting n_jobs=1\n",
      "  **self._backend_args)\n"
     ]
    },
    {
     "name": "stdout",
     "output_type": "stream",
     "text": [
      "[CV]  estimator__n_estimators=50, estimator__max_depth=12, estimator__min_samples_split=4, estimator__min_samples_leaf=1 -  57.2s\n",
      "[CV] estimator__n_estimators=30, estimator__max_depth=12, estimator__min_samples_split=6, estimator__min_samples_leaf=1 \n"
     ]
    },
    {
     "name": "stderr",
     "output_type": "stream",
     "text": [
      "/Users/rob/anaconda/lib/python3.5/site-packages/sklearn/externals/joblib/parallel.py:540: UserWarning: Multiprocessing-backed parallel loops cannot be nested, setting n_jobs=1\n",
      "  **self._backend_args)\n"
     ]
    },
    {
     "name": "stdout",
     "output_type": "stream",
     "text": [
      "[CV]  estimator__n_estimators=20, estimator__max_depth=12, estimator__min_samples_split=6, estimator__min_samples_leaf=1 -  22.9s\n",
      "[CV] estimator__n_estimators=30, estimator__max_depth=12, estimator__min_samples_split=6, estimator__min_samples_leaf=1 \n"
     ]
    },
    {
     "name": "stderr",
     "output_type": "stream",
     "text": [
      "/Users/rob/anaconda/lib/python3.5/site-packages/sklearn/externals/joblib/parallel.py:540: UserWarning: Multiprocessing-backed parallel loops cannot be nested, setting n_jobs=1\n",
      "  **self._backend_args)\n"
     ]
    },
    {
     "name": "stdout",
     "output_type": "stream",
     "text": [
      "[CV]  estimator__n_estimators=50, estimator__max_depth=12, estimator__min_samples_split=4, estimator__min_samples_leaf=1 -  57.4s\n",
      "[CV] estimator__n_estimators=30, estimator__max_depth=12, estimator__min_samples_split=6, estimator__min_samples_leaf=1 \n"
     ]
    },
    {
     "name": "stderr",
     "output_type": "stream",
     "text": [
      "/Users/rob/anaconda/lib/python3.5/site-packages/sklearn/externals/joblib/parallel.py:540: UserWarning: Multiprocessing-backed parallel loops cannot be nested, setting n_jobs=1\n",
      "  **self._backend_args)\n"
     ]
    },
    {
     "name": "stdout",
     "output_type": "stream",
     "text": [
      "[CV]  estimator__n_estimators=50, estimator__max_depth=12, estimator__min_samples_split=4, estimator__min_samples_leaf=1 -  57.2s\n",
      "[CV] estimator__n_estimators=30, estimator__max_depth=12, estimator__min_samples_split=6, estimator__min_samples_leaf=1 \n"
     ]
    },
    {
     "name": "stderr",
     "output_type": "stream",
     "text": [
      "/Users/rob/anaconda/lib/python3.5/site-packages/sklearn/externals/joblib/parallel.py:540: UserWarning: Multiprocessing-backed parallel loops cannot be nested, setting n_jobs=1\n",
      "  **self._backend_args)\n"
     ]
    },
    {
     "name": "stdout",
     "output_type": "stream",
     "text": [
      "[CV]  estimator__n_estimators=20, estimator__max_depth=12, estimator__min_samples_split=6, estimator__min_samples_leaf=1 -  23.1s\n",
      "[CV] estimator__n_estimators=30, estimator__max_depth=12, estimator__min_samples_split=6, estimator__min_samples_leaf=1 \n"
     ]
    },
    {
     "name": "stderr",
     "output_type": "stream",
     "text": [
      "/Users/rob/anaconda/lib/python3.5/site-packages/sklearn/externals/joblib/parallel.py:540: UserWarning: Multiprocessing-backed parallel loops cannot be nested, setting n_jobs=1\n",
      "  **self._backend_args)\n"
     ]
    },
    {
     "name": "stdout",
     "output_type": "stream",
     "text": [
      "[CV]  estimator__n_estimators=20, estimator__max_depth=12, estimator__min_samples_split=6, estimator__min_samples_leaf=1 -  23.2s\n",
      "[CV] estimator__n_estimators=40, estimator__max_depth=12, estimator__min_samples_split=6, estimator__min_samples_leaf=1 \n"
     ]
    },
    {
     "name": "stderr",
     "output_type": "stream",
     "text": [
      "/Users/rob/anaconda/lib/python3.5/site-packages/sklearn/externals/joblib/parallel.py:540: UserWarning: Multiprocessing-backed parallel loops cannot be nested, setting n_jobs=1\n",
      "  **self._backend_args)\n"
     ]
    },
    {
     "name": "stdout",
     "output_type": "stream",
     "text": [
      "[CV]  estimator__n_estimators=20, estimator__max_depth=12, estimator__min_samples_split=6, estimator__min_samples_leaf=1 -  23.2s\n",
      "[CV]  estimator__n_estimators=20, estimator__max_depth=12, estimator__min_samples_split=6, estimator__min_samples_leaf=1 -  23.0s\n",
      "[CV] estimator__n_estimators=40, estimator__max_depth=12, estimator__min_samples_split=6, estimator__min_samples_leaf=1 \n"
     ]
    },
    {
     "name": "stderr",
     "output_type": "stream",
     "text": [
      "/Users/rob/anaconda/lib/python3.5/site-packages/sklearn/externals/joblib/parallel.py:540: UserWarning: Multiprocessing-backed parallel loops cannot be nested, setting n_jobs=1\n",
      "  **self._backend_args)\n"
     ]
    },
    {
     "name": "stdout",
     "output_type": "stream",
     "text": [
      "[CV] estimator__n_estimators=40, estimator__max_depth=12, estimator__min_samples_split=6, estimator__min_samples_leaf=1 \n"
     ]
    },
    {
     "name": "stderr",
     "output_type": "stream",
     "text": [
      "/Users/rob/anaconda/lib/python3.5/site-packages/sklearn/externals/joblib/parallel.py:540: UserWarning: Multiprocessing-backed parallel loops cannot be nested, setting n_jobs=1\n",
      "  **self._backend_args)\n"
     ]
    },
    {
     "name": "stdout",
     "output_type": "stream",
     "text": [
      "[CV]  estimator__n_estimators=30, estimator__max_depth=12, estimator__min_samples_split=6, estimator__min_samples_leaf=1 -  34.5s\n",
      "[CV] estimator__n_estimators=40, estimator__max_depth=12, estimator__min_samples_split=6, estimator__min_samples_leaf=1 \n"
     ]
    },
    {
     "name": "stderr",
     "output_type": "stream",
     "text": [
      "/Users/rob/anaconda/lib/python3.5/site-packages/sklearn/externals/joblib/parallel.py:540: UserWarning: Multiprocessing-backed parallel loops cannot be nested, setting n_jobs=1\n",
      "  **self._backend_args)\n"
     ]
    },
    {
     "name": "stdout",
     "output_type": "stream",
     "text": [
      "[CV]  estimator__n_estimators=30, estimator__max_depth=12, estimator__min_samples_split=6, estimator__min_samples_leaf=1 -  34.3s\n",
      "[CV] estimator__n_estimators=40, estimator__max_depth=12, estimator__min_samples_split=6, estimator__min_samples_leaf=1 \n"
     ]
    },
    {
     "name": "stderr",
     "output_type": "stream",
     "text": [
      "/Users/rob/anaconda/lib/python3.5/site-packages/sklearn/externals/joblib/parallel.py:540: UserWarning: Multiprocessing-backed parallel loops cannot be nested, setting n_jobs=1\n",
      "  **self._backend_args)\n"
     ]
    },
    {
     "name": "stdout",
     "output_type": "stream",
     "text": [
      "[CV]  estimator__n_estimators=30, estimator__max_depth=12, estimator__min_samples_split=6, estimator__min_samples_leaf=1 -  34.2s\n",
      "[CV] estimator__n_estimators=50, estimator__max_depth=12, estimator__min_samples_split=6, estimator__min_samples_leaf=1 \n"
     ]
    },
    {
     "name": "stderr",
     "output_type": "stream",
     "text": [
      "/Users/rob/anaconda/lib/python3.5/site-packages/sklearn/externals/joblib/parallel.py:540: UserWarning: Multiprocessing-backed parallel loops cannot be nested, setting n_jobs=1\n",
      "  **self._backend_args)\n"
     ]
    },
    {
     "name": "stdout",
     "output_type": "stream",
     "text": [
      "[CV]  estimator__n_estimators=30, estimator__max_depth=12, estimator__min_samples_split=6, estimator__min_samples_leaf=1 -  34.3s\n",
      "[CV] estimator__n_estimators=50, estimator__max_depth=12, estimator__min_samples_split=6, estimator__min_samples_leaf=1 \n"
     ]
    },
    {
     "name": "stderr",
     "output_type": "stream",
     "text": [
      "/Users/rob/anaconda/lib/python3.5/site-packages/sklearn/externals/joblib/parallel.py:540: UserWarning: Multiprocessing-backed parallel loops cannot be nested, setting n_jobs=1\n",
      "  **self._backend_args)\n"
     ]
    },
    {
     "name": "stdout",
     "output_type": "stream",
     "text": [
      "[CV]  estimator__n_estimators=30, estimator__max_depth=12, estimator__min_samples_split=6, estimator__min_samples_leaf=1 -  34.2s\n",
      "[CV] estimator__n_estimators=50, estimator__max_depth=12, estimator__min_samples_split=6, estimator__min_samples_leaf=1 \n"
     ]
    },
    {
     "name": "stderr",
     "output_type": "stream",
     "text": [
      "/Users/rob/anaconda/lib/python3.5/site-packages/sklearn/externals/joblib/parallel.py:540: UserWarning: Multiprocessing-backed parallel loops cannot be nested, setting n_jobs=1\n",
      "  **self._backend_args)\n"
     ]
    },
    {
     "name": "stdout",
     "output_type": "stream",
     "text": [
      "[CV]  estimator__n_estimators=40, estimator__max_depth=12, estimator__min_samples_split=6, estimator__min_samples_leaf=1 -  45.5s\n",
      "[CV] estimator__n_estimators=50, estimator__max_depth=12, estimator__min_samples_split=6, estimator__min_samples_leaf=1 \n"
     ]
    },
    {
     "name": "stderr",
     "output_type": "stream",
     "text": [
      "/Users/rob/anaconda/lib/python3.5/site-packages/sklearn/externals/joblib/parallel.py:540: UserWarning: Multiprocessing-backed parallel loops cannot be nested, setting n_jobs=1\n",
      "  **self._backend_args)\n"
     ]
    },
    {
     "name": "stdout",
     "output_type": "stream",
     "text": [
      "[CV]  estimator__n_estimators=40, estimator__max_depth=12, estimator__min_samples_split=6, estimator__min_samples_leaf=1 -  45.4s\n",
      "[CV] estimator__n_estimators=50, estimator__max_depth=12, estimator__min_samples_split=6, estimator__min_samples_leaf=1 \n"
     ]
    },
    {
     "name": "stderr",
     "output_type": "stream",
     "text": [
      "/Users/rob/anaconda/lib/python3.5/site-packages/sklearn/externals/joblib/parallel.py:540: UserWarning: Multiprocessing-backed parallel loops cannot be nested, setting n_jobs=1\n",
      "  **self._backend_args)\n"
     ]
    },
    {
     "name": "stdout",
     "output_type": "stream",
     "text": [
      "[CV]  estimator__n_estimators=40, estimator__max_depth=12, estimator__min_samples_split=6, estimator__min_samples_leaf=1 -  45.5s\n",
      "[CV] estimator__n_estimators=10, estimator__max_depth=12, estimator__min_samples_split=2, estimator__min_samples_leaf=2 \n"
     ]
    },
    {
     "name": "stderr",
     "output_type": "stream",
     "text": [
      "/Users/rob/anaconda/lib/python3.5/site-packages/sklearn/externals/joblib/parallel.py:540: UserWarning: Multiprocessing-backed parallel loops cannot be nested, setting n_jobs=1\n",
      "  **self._backend_args)\n"
     ]
    },
    {
     "name": "stdout",
     "output_type": "stream",
     "text": [
      "[CV]  estimator__n_estimators=10, estimator__max_depth=12, estimator__min_samples_split=2, estimator__min_samples_leaf=2 -  11.3s\n",
      "[CV] estimator__n_estimators=10, estimator__max_depth=12, estimator__min_samples_split=2, estimator__min_samples_leaf=2 \n"
     ]
    },
    {
     "name": "stderr",
     "output_type": "stream",
     "text": [
      "/Users/rob/anaconda/lib/python3.5/site-packages/sklearn/externals/joblib/parallel.py:540: UserWarning: Multiprocessing-backed parallel loops cannot be nested, setting n_jobs=1\n",
      "  **self._backend_args)\n"
     ]
    },
    {
     "name": "stdout",
     "output_type": "stream",
     "text": [
      "[CV]  estimator__n_estimators=40, estimator__max_depth=12, estimator__min_samples_split=6, estimator__min_samples_leaf=1 -  45.5s\n",
      "[CV] estimator__n_estimators=10, estimator__max_depth=12, estimator__min_samples_split=2, estimator__min_samples_leaf=2 \n"
     ]
    },
    {
     "name": "stderr",
     "output_type": "stream",
     "text": [
      "/Users/rob/anaconda/lib/python3.5/site-packages/sklearn/externals/joblib/parallel.py:540: UserWarning: Multiprocessing-backed parallel loops cannot be nested, setting n_jobs=1\n",
      "  **self._backend_args)\n"
     ]
    },
    {
     "name": "stdout",
     "output_type": "stream",
     "text": [
      "[CV]  estimator__n_estimators=40, estimator__max_depth=12, estimator__min_samples_split=6, estimator__min_samples_leaf=1 -  45.3s\n",
      "[CV] estimator__n_estimators=10, estimator__max_depth=12, estimator__min_samples_split=2, estimator__min_samples_leaf=2 \n"
     ]
    },
    {
     "name": "stderr",
     "output_type": "stream",
     "text": [
      "/Users/rob/anaconda/lib/python3.5/site-packages/sklearn/externals/joblib/parallel.py:540: UserWarning: Multiprocessing-backed parallel loops cannot be nested, setting n_jobs=1\n",
      "  **self._backend_args)\n"
     ]
    },
    {
     "name": "stdout",
     "output_type": "stream",
     "text": [
      "[CV]  estimator__n_estimators=10, estimator__max_depth=12, estimator__min_samples_split=2, estimator__min_samples_leaf=2 -  11.5s\n",
      "[CV] estimator__n_estimators=10, estimator__max_depth=12, estimator__min_samples_split=2, estimator__min_samples_leaf=2 \n"
     ]
    },
    {
     "name": "stderr",
     "output_type": "stream",
     "text": [
      "/Users/rob/anaconda/lib/python3.5/site-packages/sklearn/externals/joblib/parallel.py:540: UserWarning: Multiprocessing-backed parallel loops cannot be nested, setting n_jobs=1\n",
      "  **self._backend_args)\n"
     ]
    },
    {
     "name": "stdout",
     "output_type": "stream",
     "text": [
      "[CV]  estimator__n_estimators=10, estimator__max_depth=12, estimator__min_samples_split=2, estimator__min_samples_leaf=2 -  11.6s\n",
      "[CV] estimator__n_estimators=20, estimator__max_depth=12, estimator__min_samples_split=2, estimator__min_samples_leaf=2 \n"
     ]
    },
    {
     "name": "stderr",
     "output_type": "stream",
     "text": [
      "/Users/rob/anaconda/lib/python3.5/site-packages/sklearn/externals/joblib/parallel.py:540: UserWarning: Multiprocessing-backed parallel loops cannot be nested, setting n_jobs=1\n",
      "  **self._backend_args)\n"
     ]
    },
    {
     "name": "stdout",
     "output_type": "stream",
     "text": [
      "[CV]  estimator__n_estimators=10, estimator__max_depth=12, estimator__min_samples_split=2, estimator__min_samples_leaf=2 -  11.6s\n",
      "[CV] estimator__n_estimators=20, estimator__max_depth=12, estimator__min_samples_split=2, estimator__min_samples_leaf=2 \n"
     ]
    },
    {
     "name": "stderr",
     "output_type": "stream",
     "text": [
      "/Users/rob/anaconda/lib/python3.5/site-packages/sklearn/externals/joblib/parallel.py:540: UserWarning: Multiprocessing-backed parallel loops cannot be nested, setting n_jobs=1\n",
      "  **self._backend_args)\n"
     ]
    },
    {
     "name": "stdout",
     "output_type": "stream",
     "text": [
      "[CV]  estimator__n_estimators=10, estimator__max_depth=12, estimator__min_samples_split=2, estimator__min_samples_leaf=2 -  11.5s\n",
      "[CV] estimator__n_estimators=20, estimator__max_depth=12, estimator__min_samples_split=2, estimator__min_samples_leaf=2 \n"
     ]
    },
    {
     "name": "stderr",
     "output_type": "stream",
     "text": [
      "/Users/rob/anaconda/lib/python3.5/site-packages/sklearn/externals/joblib/parallel.py:540: UserWarning: Multiprocessing-backed parallel loops cannot be nested, setting n_jobs=1\n",
      "  **self._backend_args)\n"
     ]
    },
    {
     "name": "stdout",
     "output_type": "stream",
     "text": [
      "[CV]  estimator__n_estimators=50, estimator__max_depth=12, estimator__min_samples_split=6, estimator__min_samples_leaf=1 -  57.0s\n",
      "[CV] estimator__n_estimators=20, estimator__max_depth=12, estimator__min_samples_split=2, estimator__min_samples_leaf=2 \n"
     ]
    },
    {
     "name": "stderr",
     "output_type": "stream",
     "text": [
      "/Users/rob/anaconda/lib/python3.5/site-packages/sklearn/externals/joblib/parallel.py:540: UserWarning: Multiprocessing-backed parallel loops cannot be nested, setting n_jobs=1\n",
      "  **self._backend_args)\n"
     ]
    },
    {
     "name": "stdout",
     "output_type": "stream",
     "text": [
      "[CV]  estimator__n_estimators=50, estimator__max_depth=12, estimator__min_samples_split=6, estimator__min_samples_leaf=1 -  56.8s\n",
      "[CV] estimator__n_estimators=20, estimator__max_depth=12, estimator__min_samples_split=2, estimator__min_samples_leaf=2 \n"
     ]
    },
    {
     "name": "stderr",
     "output_type": "stream",
     "text": [
      "/Users/rob/anaconda/lib/python3.5/site-packages/sklearn/externals/joblib/parallel.py:540: UserWarning: Multiprocessing-backed parallel loops cannot be nested, setting n_jobs=1\n",
      "  **self._backend_args)\n"
     ]
    },
    {
     "name": "stdout",
     "output_type": "stream",
     "text": [
      "[CV]  estimator__n_estimators=50, estimator__max_depth=12, estimator__min_samples_split=6, estimator__min_samples_leaf=1 -  57.0s\n",
      "[CV] estimator__n_estimators=30, estimator__max_depth=12, estimator__min_samples_split=2, estimator__min_samples_leaf=2 \n"
     ]
    },
    {
     "name": "stderr",
     "output_type": "stream",
     "text": [
      "/Users/rob/anaconda/lib/python3.5/site-packages/sklearn/externals/joblib/parallel.py:540: UserWarning: Multiprocessing-backed parallel loops cannot be nested, setting n_jobs=1\n",
      "  **self._backend_args)\n"
     ]
    },
    {
     "name": "stdout",
     "output_type": "stream",
     "text": [
      "[CV]  estimator__n_estimators=20, estimator__max_depth=12, estimator__min_samples_split=2, estimator__min_samples_leaf=2 -  22.7s\n",
      "[CV] estimator__n_estimators=30, estimator__max_depth=12, estimator__min_samples_split=2, estimator__min_samples_leaf=2 \n"
     ]
    },
    {
     "name": "stderr",
     "output_type": "stream",
     "text": [
      "/Users/rob/anaconda/lib/python3.5/site-packages/sklearn/externals/joblib/parallel.py:540: UserWarning: Multiprocessing-backed parallel loops cannot be nested, setting n_jobs=1\n",
      "  **self._backend_args)\n"
     ]
    },
    {
     "name": "stdout",
     "output_type": "stream",
     "text": [
      "[CV]  estimator__n_estimators=50, estimator__max_depth=12, estimator__min_samples_split=6, estimator__min_samples_leaf=1 -  57.2s\n",
      "[CV] estimator__n_estimators=30, estimator__max_depth=12, estimator__min_samples_split=2, estimator__min_samples_leaf=2 \n"
     ]
    },
    {
     "name": "stderr",
     "output_type": "stream",
     "text": [
      "/Users/rob/anaconda/lib/python3.5/site-packages/sklearn/externals/joblib/parallel.py:540: UserWarning: Multiprocessing-backed parallel loops cannot be nested, setting n_jobs=1\n",
      "  **self._backend_args)\n"
     ]
    },
    {
     "name": "stdout",
     "output_type": "stream",
     "text": [
      "[CV]  estimator__n_estimators=20, estimator__max_depth=12, estimator__min_samples_split=2, estimator__min_samples_leaf=2 -  22.7s\n",
      "[CV] estimator__n_estimators=30, estimator__max_depth=12, estimator__min_samples_split=2, estimator__min_samples_leaf=2 \n"
     ]
    },
    {
     "name": "stderr",
     "output_type": "stream",
     "text": [
      "/Users/rob/anaconda/lib/python3.5/site-packages/sklearn/externals/joblib/parallel.py:540: UserWarning: Multiprocessing-backed parallel loops cannot be nested, setting n_jobs=1\n",
      "  **self._backend_args)\n"
     ]
    },
    {
     "name": "stdout",
     "output_type": "stream",
     "text": [
      "[CV]  estimator__n_estimators=50, estimator__max_depth=12, estimator__min_samples_split=6, estimator__min_samples_leaf=1 -  57.2s\n",
      "[CV] estimator__n_estimators=30, estimator__max_depth=12, estimator__min_samples_split=2, estimator__min_samples_leaf=2 \n",
      "[CV]  estimator__n_estimators=20, estimator__max_depth=12, estimator__min_samples_split=2, estimator__min_samples_leaf=2 -  22.8s\n"
     ]
    },
    {
     "name": "stderr",
     "output_type": "stream",
     "text": [
      "/Users/rob/anaconda/lib/python3.5/site-packages/sklearn/externals/joblib/parallel.py:540: UserWarning: Multiprocessing-backed parallel loops cannot be nested, setting n_jobs=1\n",
      "  **self._backend_args)\n"
     ]
    },
    {
     "name": "stdout",
     "output_type": "stream",
     "text": [
      "[CV] estimator__n_estimators=40, estimator__max_depth=12, estimator__min_samples_split=2, estimator__min_samples_leaf=2 \n"
     ]
    },
    {
     "name": "stderr",
     "output_type": "stream",
     "text": [
      "/Users/rob/anaconda/lib/python3.5/site-packages/sklearn/externals/joblib/parallel.py:540: UserWarning: Multiprocessing-backed parallel loops cannot be nested, setting n_jobs=1\n",
      "  **self._backend_args)\n"
     ]
    },
    {
     "name": "stdout",
     "output_type": "stream",
     "text": [
      "[CV]  estimator__n_estimators=20, estimator__max_depth=12, estimator__min_samples_split=2, estimator__min_samples_leaf=2 -  22.8s\n",
      "[CV] estimator__n_estimators=40, estimator__max_depth=12, estimator__min_samples_split=2, estimator__min_samples_leaf=2 \n"
     ]
    },
    {
     "name": "stderr",
     "output_type": "stream",
     "text": [
      "/Users/rob/anaconda/lib/python3.5/site-packages/sklearn/externals/joblib/parallel.py:540: UserWarning: Multiprocessing-backed parallel loops cannot be nested, setting n_jobs=1\n",
      "  **self._backend_args)\n"
     ]
    },
    {
     "name": "stdout",
     "output_type": "stream",
     "text": [
      "[CV]  estimator__n_estimators=20, estimator__max_depth=12, estimator__min_samples_split=2, estimator__min_samples_leaf=2 -  22.7s\n",
      "[CV] estimator__n_estimators=40, estimator__max_depth=12, estimator__min_samples_split=2, estimator__min_samples_leaf=2 \n"
     ]
    },
    {
     "name": "stderr",
     "output_type": "stream",
     "text": [
      "/Users/rob/anaconda/lib/python3.5/site-packages/sklearn/externals/joblib/parallel.py:540: UserWarning: Multiprocessing-backed parallel loops cannot be nested, setting n_jobs=1\n",
      "  **self._backend_args)\n"
     ]
    },
    {
     "name": "stdout",
     "output_type": "stream",
     "text": [
      "[CV]  estimator__n_estimators=30, estimator__max_depth=12, estimator__min_samples_split=2, estimator__min_samples_leaf=2 -  33.8s\n",
      "[CV] estimator__n_estimators=40, estimator__max_depth=12, estimator__min_samples_split=2, estimator__min_samples_leaf=2 \n"
     ]
    },
    {
     "name": "stderr",
     "output_type": "stream",
     "text": [
      "/Users/rob/anaconda/lib/python3.5/site-packages/sklearn/externals/joblib/parallel.py:540: UserWarning: Multiprocessing-backed parallel loops cannot be nested, setting n_jobs=1\n",
      "  **self._backend_args)\n"
     ]
    },
    {
     "name": "stdout",
     "output_type": "stream",
     "text": [
      "[CV]  estimator__n_estimators=30, estimator__max_depth=12, estimator__min_samples_split=2, estimator__min_samples_leaf=2 -  33.9s\n",
      "[CV] estimator__n_estimators=40, estimator__max_depth=12, estimator__min_samples_split=2, estimator__min_samples_leaf=2 \n"
     ]
    },
    {
     "name": "stderr",
     "output_type": "stream",
     "text": [
      "/Users/rob/anaconda/lib/python3.5/site-packages/sklearn/externals/joblib/parallel.py:540: UserWarning: Multiprocessing-backed parallel loops cannot be nested, setting n_jobs=1\n",
      "  **self._backend_args)\n"
     ]
    },
    {
     "name": "stdout",
     "output_type": "stream",
     "text": [
      "[CV]  estimator__n_estimators=30, estimator__max_depth=12, estimator__min_samples_split=2, estimator__min_samples_leaf=2 -  34.0s\n",
      "[CV] estimator__n_estimators=50, estimator__max_depth=12, estimator__min_samples_split=2, estimator__min_samples_leaf=2 \n"
     ]
    },
    {
     "name": "stderr",
     "output_type": "stream",
     "text": [
      "/Users/rob/anaconda/lib/python3.5/site-packages/sklearn/externals/joblib/parallel.py:540: UserWarning: Multiprocessing-backed parallel loops cannot be nested, setting n_jobs=1\n",
      "  **self._backend_args)\n"
     ]
    },
    {
     "name": "stdout",
     "output_type": "stream",
     "text": [
      "[CV]  estimator__n_estimators=30, estimator__max_depth=12, estimator__min_samples_split=2, estimator__min_samples_leaf=2 -  34.0s\n",
      "[CV] estimator__n_estimators=50, estimator__max_depth=12, estimator__min_samples_split=2, estimator__min_samples_leaf=2 \n"
     ]
    },
    {
     "name": "stderr",
     "output_type": "stream",
     "text": [
      "/Users/rob/anaconda/lib/python3.5/site-packages/sklearn/externals/joblib/parallel.py:540: UserWarning: Multiprocessing-backed parallel loops cannot be nested, setting n_jobs=1\n",
      "  **self._backend_args)\n"
     ]
    },
    {
     "name": "stdout",
     "output_type": "stream",
     "text": [
      "[CV]  estimator__n_estimators=30, estimator__max_depth=12, estimator__min_samples_split=2, estimator__min_samples_leaf=2 -  33.9s\n",
      "[CV] estimator__n_estimators=50, estimator__max_depth=12, estimator__min_samples_split=2, estimator__min_samples_leaf=2 \n"
     ]
    },
    {
     "name": "stderr",
     "output_type": "stream",
     "text": [
      "/Users/rob/anaconda/lib/python3.5/site-packages/sklearn/externals/joblib/parallel.py:540: UserWarning: Multiprocessing-backed parallel loops cannot be nested, setting n_jobs=1\n",
      "  **self._backend_args)\n"
     ]
    },
    {
     "name": "stdout",
     "output_type": "stream",
     "text": [
      "[CV]  estimator__n_estimators=40, estimator__max_depth=12, estimator__min_samples_split=2, estimator__min_samples_leaf=2 -  44.9s\n",
      "[CV] estimator__n_estimators=50, estimator__max_depth=12, estimator__min_samples_split=2, estimator__min_samples_leaf=2 \n"
     ]
    },
    {
     "name": "stderr",
     "output_type": "stream",
     "text": [
      "/Users/rob/anaconda/lib/python3.5/site-packages/sklearn/externals/joblib/parallel.py:540: UserWarning: Multiprocessing-backed parallel loops cannot be nested, setting n_jobs=1\n",
      "  **self._backend_args)\n"
     ]
    },
    {
     "name": "stdout",
     "output_type": "stream",
     "text": [
      "[CV]  estimator__n_estimators=40, estimator__max_depth=12, estimator__min_samples_split=2, estimator__min_samples_leaf=2 -  45.1s\n",
      "[CV] estimator__n_estimators=50, estimator__max_depth=12, estimator__min_samples_split=2, estimator__min_samples_leaf=2 \n"
     ]
    },
    {
     "name": "stderr",
     "output_type": "stream",
     "text": [
      "/Users/rob/anaconda/lib/python3.5/site-packages/sklearn/externals/joblib/parallel.py:540: UserWarning: Multiprocessing-backed parallel loops cannot be nested, setting n_jobs=1\n",
      "  **self._backend_args)\n"
     ]
    },
    {
     "name": "stdout",
     "output_type": "stream",
     "text": [
      "[CV]  estimator__n_estimators=40, estimator__max_depth=12, estimator__min_samples_split=2, estimator__min_samples_leaf=2 -  45.2s\n",
      "[CV] estimator__n_estimators=10, estimator__max_depth=12, estimator__min_samples_split=4, estimator__min_samples_leaf=2 \n"
     ]
    },
    {
     "name": "stderr",
     "output_type": "stream",
     "text": [
      "/Users/rob/anaconda/lib/python3.5/site-packages/sklearn/externals/joblib/parallel.py:540: UserWarning: Multiprocessing-backed parallel loops cannot be nested, setting n_jobs=1\n",
      "  **self._backend_args)\n"
     ]
    },
    {
     "name": "stdout",
     "output_type": "stream",
     "text": [
      "[CV]  estimator__n_estimators=10, estimator__max_depth=12, estimator__min_samples_split=4, estimator__min_samples_leaf=2 -  11.4s\n",
      "[CV] estimator__n_estimators=10, estimator__max_depth=12, estimator__min_samples_split=4, estimator__min_samples_leaf=2 \n"
     ]
    },
    {
     "name": "stderr",
     "output_type": "stream",
     "text": [
      "/Users/rob/anaconda/lib/python3.5/site-packages/sklearn/externals/joblib/parallel.py:540: UserWarning: Multiprocessing-backed parallel loops cannot be nested, setting n_jobs=1\n",
      "  **self._backend_args)\n"
     ]
    },
    {
     "name": "stdout",
     "output_type": "stream",
     "text": [
      "[CV]  estimator__n_estimators=40, estimator__max_depth=12, estimator__min_samples_split=2, estimator__min_samples_leaf=2 -  45.5s\n",
      "[CV] estimator__n_estimators=10, estimator__max_depth=12, estimator__min_samples_split=4, estimator__min_samples_leaf=2 \n"
     ]
    },
    {
     "name": "stderr",
     "output_type": "stream",
     "text": [
      "/Users/rob/anaconda/lib/python3.5/site-packages/sklearn/externals/joblib/parallel.py:540: UserWarning: Multiprocessing-backed parallel loops cannot be nested, setting n_jobs=1\n",
      "  **self._backend_args)\n"
     ]
    },
    {
     "name": "stdout",
     "output_type": "stream",
     "text": [
      "[CV]  estimator__n_estimators=40, estimator__max_depth=12, estimator__min_samples_split=2, estimator__min_samples_leaf=2 -  45.3s\n",
      "[CV] estimator__n_estimators=10, estimator__max_depth=12, estimator__min_samples_split=4, estimator__min_samples_leaf=2 \n"
     ]
    },
    {
     "name": "stderr",
     "output_type": "stream",
     "text": [
      "/Users/rob/anaconda/lib/python3.5/site-packages/sklearn/externals/joblib/parallel.py:540: UserWarning: Multiprocessing-backed parallel loops cannot be nested, setting n_jobs=1\n",
      "  **self._backend_args)\n"
     ]
    },
    {
     "name": "stdout",
     "output_type": "stream",
     "text": [
      "[CV]  estimator__n_estimators=10, estimator__max_depth=12, estimator__min_samples_split=4, estimator__min_samples_leaf=2 -  11.3s\n",
      "[CV] estimator__n_estimators=10, estimator__max_depth=12, estimator__min_samples_split=4, estimator__min_samples_leaf=2 \n"
     ]
    },
    {
     "name": "stderr",
     "output_type": "stream",
     "text": [
      "/Users/rob/anaconda/lib/python3.5/site-packages/sklearn/externals/joblib/parallel.py:540: UserWarning: Multiprocessing-backed parallel loops cannot be nested, setting n_jobs=1\n",
      "  **self._backend_args)\n"
     ]
    },
    {
     "name": "stdout",
     "output_type": "stream",
     "text": [
      "[CV]  estimator__n_estimators=10, estimator__max_depth=12, estimator__min_samples_split=4, estimator__min_samples_leaf=2 -  11.5s\n",
      "[CV] estimator__n_estimators=20, estimator__max_depth=12, estimator__min_samples_split=4, estimator__min_samples_leaf=2 \n"
     ]
    },
    {
     "name": "stderr",
     "output_type": "stream",
     "text": [
      "/Users/rob/anaconda/lib/python3.5/site-packages/sklearn/externals/joblib/parallel.py:540: UserWarning: Multiprocessing-backed parallel loops cannot be nested, setting n_jobs=1\n",
      "  **self._backend_args)\n"
     ]
    },
    {
     "name": "stdout",
     "output_type": "stream",
     "text": [
      "[CV]  estimator__n_estimators=10, estimator__max_depth=12, estimator__min_samples_split=4, estimator__min_samples_leaf=2 -  11.5s\n",
      "[CV] estimator__n_estimators=20, estimator__max_depth=12, estimator__min_samples_split=4, estimator__min_samples_leaf=2 \n"
     ]
    },
    {
     "name": "stderr",
     "output_type": "stream",
     "text": [
      "/Users/rob/anaconda/lib/python3.5/site-packages/sklearn/externals/joblib/parallel.py:540: UserWarning: Multiprocessing-backed parallel loops cannot be nested, setting n_jobs=1\n",
      "  **self._backend_args)\n"
     ]
    },
    {
     "name": "stdout",
     "output_type": "stream",
     "text": [
      "[CV]  estimator__n_estimators=10, estimator__max_depth=12, estimator__min_samples_split=4, estimator__min_samples_leaf=2 -  11.4s\n",
      "[CV] estimator__n_estimators=20, estimator__max_depth=12, estimator__min_samples_split=4, estimator__min_samples_leaf=2 \n"
     ]
    },
    {
     "name": "stderr",
     "output_type": "stream",
     "text": [
      "/Users/rob/anaconda/lib/python3.5/site-packages/sklearn/externals/joblib/parallel.py:540: UserWarning: Multiprocessing-backed parallel loops cannot be nested, setting n_jobs=1\n",
      "  **self._backend_args)\n"
     ]
    },
    {
     "name": "stdout",
     "output_type": "stream",
     "text": [
      "[CV]  estimator__n_estimators=50, estimator__max_depth=12, estimator__min_samples_split=2, estimator__min_samples_leaf=2 -  56.4s\n",
      "[CV] estimator__n_estimators=20, estimator__max_depth=12, estimator__min_samples_split=4, estimator__min_samples_leaf=2 \n"
     ]
    },
    {
     "name": "stderr",
     "output_type": "stream",
     "text": [
      "/Users/rob/anaconda/lib/python3.5/site-packages/sklearn/externals/joblib/parallel.py:540: UserWarning: Multiprocessing-backed parallel loops cannot be nested, setting n_jobs=1\n",
      "  **self._backend_args)\n"
     ]
    },
    {
     "name": "stdout",
     "output_type": "stream",
     "text": [
      "[CV]  estimator__n_estimators=50, estimator__max_depth=12, estimator__min_samples_split=2, estimator__min_samples_leaf=2 -  56.3s\n",
      "[CV] estimator__n_estimators=20, estimator__max_depth=12, estimator__min_samples_split=4, estimator__min_samples_leaf=2 \n"
     ]
    },
    {
     "name": "stderr",
     "output_type": "stream",
     "text": [
      "/Users/rob/anaconda/lib/python3.5/site-packages/sklearn/externals/joblib/parallel.py:540: UserWarning: Multiprocessing-backed parallel loops cannot be nested, setting n_jobs=1\n",
      "  **self._backend_args)\n"
     ]
    },
    {
     "name": "stdout",
     "output_type": "stream",
     "text": [
      "[CV]  estimator__n_estimators=50, estimator__max_depth=12, estimator__min_samples_split=2, estimator__min_samples_leaf=2 -  56.6s\n",
      "[CV] estimator__n_estimators=30, estimator__max_depth=12, estimator__min_samples_split=4, estimator__min_samples_leaf=2 \n"
     ]
    },
    {
     "name": "stderr",
     "output_type": "stream",
     "text": [
      "/Users/rob/anaconda/lib/python3.5/site-packages/sklearn/externals/joblib/parallel.py:540: UserWarning: Multiprocessing-backed parallel loops cannot be nested, setting n_jobs=1\n",
      "  **self._backend_args)\n"
     ]
    },
    {
     "name": "stdout",
     "output_type": "stream",
     "text": [
      "[CV]  estimator__n_estimators=20, estimator__max_depth=12, estimator__min_samples_split=4, estimator__min_samples_leaf=2 -  22.5s\n",
      "[CV] estimator__n_estimators=30, estimator__max_depth=12, estimator__min_samples_split=4, estimator__min_samples_leaf=2 \n"
     ]
    },
    {
     "name": "stderr",
     "output_type": "stream",
     "text": [
      "/Users/rob/anaconda/lib/python3.5/site-packages/sklearn/externals/joblib/parallel.py:540: UserWarning: Multiprocessing-backed parallel loops cannot be nested, setting n_jobs=1\n",
      "  **self._backend_args)\n"
     ]
    },
    {
     "name": "stdout",
     "output_type": "stream",
     "text": [
      "[CV]  estimator__n_estimators=50, estimator__max_depth=12, estimator__min_samples_split=2, estimator__min_samples_leaf=2 -  56.6s\n",
      "[CV] estimator__n_estimators=30, estimator__max_depth=12, estimator__min_samples_split=4, estimator__min_samples_leaf=2 \n"
     ]
    },
    {
     "name": "stderr",
     "output_type": "stream",
     "text": [
      "/Users/rob/anaconda/lib/python3.5/site-packages/sklearn/externals/joblib/parallel.py:540: UserWarning: Multiprocessing-backed parallel loops cannot be nested, setting n_jobs=1\n",
      "  **self._backend_args)\n"
     ]
    },
    {
     "name": "stdout",
     "output_type": "stream",
     "text": [
      "[CV]  estimator__n_estimators=50, estimator__max_depth=12, estimator__min_samples_split=2, estimator__min_samples_leaf=2 -  56.4s\n",
      "[CV] estimator__n_estimators=30, estimator__max_depth=12, estimator__min_samples_split=4, estimator__min_samples_leaf=2 \n"
     ]
    },
    {
     "name": "stderr",
     "output_type": "stream",
     "text": [
      "/Users/rob/anaconda/lib/python3.5/site-packages/sklearn/externals/joblib/parallel.py:540: UserWarning: Multiprocessing-backed parallel loops cannot be nested, setting n_jobs=1\n",
      "  **self._backend_args)\n"
     ]
    },
    {
     "name": "stdout",
     "output_type": "stream",
     "text": [
      "[CV]  estimator__n_estimators=20, estimator__max_depth=12, estimator__min_samples_split=4, estimator__min_samples_leaf=2 -  22.8s\n",
      "[CV] estimator__n_estimators=30, estimator__max_depth=12, estimator__min_samples_split=4, estimator__min_samples_leaf=2 \n"
     ]
    },
    {
     "name": "stderr",
     "output_type": "stream",
     "text": [
      "/Users/rob/anaconda/lib/python3.5/site-packages/sklearn/externals/joblib/parallel.py:540: UserWarning: Multiprocessing-backed parallel loops cannot be nested, setting n_jobs=1\n",
      "  **self._backend_args)\n"
     ]
    },
    {
     "name": "stdout",
     "output_type": "stream",
     "text": [
      "[CV]  estimator__n_estimators=20, estimator__max_depth=12, estimator__min_samples_split=4, estimator__min_samples_leaf=2 -  22.8s\n",
      "[CV] estimator__n_estimators=40, estimator__max_depth=12, estimator__min_samples_split=4, estimator__min_samples_leaf=2 \n"
     ]
    },
    {
     "name": "stderr",
     "output_type": "stream",
     "text": [
      "/Users/rob/anaconda/lib/python3.5/site-packages/sklearn/externals/joblib/parallel.py:540: UserWarning: Multiprocessing-backed parallel loops cannot be nested, setting n_jobs=1\n",
      "  **self._backend_args)\n"
     ]
    },
    {
     "name": "stdout",
     "output_type": "stream",
     "text": [
      "[CV]  estimator__n_estimators=20, estimator__max_depth=12, estimator__min_samples_split=4, estimator__min_samples_leaf=2 -  22.8s\n",
      "[CV] estimator__n_estimators=40, estimator__max_depth=12, estimator__min_samples_split=4, estimator__min_samples_leaf=2 \n"
     ]
    },
    {
     "name": "stderr",
     "output_type": "stream",
     "text": [
      "/Users/rob/anaconda/lib/python3.5/site-packages/sklearn/externals/joblib/parallel.py:540: UserWarning: Multiprocessing-backed parallel loops cannot be nested, setting n_jobs=1\n",
      "  **self._backend_args)\n"
     ]
    },
    {
     "name": "stdout",
     "output_type": "stream",
     "text": [
      "[CV]  estimator__n_estimators=20, estimator__max_depth=12, estimator__min_samples_split=4, estimator__min_samples_leaf=2 -  22.7s\n",
      "[CV] estimator__n_estimators=40, estimator__max_depth=12, estimator__min_samples_split=4, estimator__min_samples_leaf=2 \n"
     ]
    },
    {
     "name": "stderr",
     "output_type": "stream",
     "text": [
      "/Users/rob/anaconda/lib/python3.5/site-packages/sklearn/externals/joblib/parallel.py:540: UserWarning: Multiprocessing-backed parallel loops cannot be nested, setting n_jobs=1\n",
      "  **self._backend_args)\n"
     ]
    },
    {
     "name": "stdout",
     "output_type": "stream",
     "text": [
      "[CV]  estimator__n_estimators=30, estimator__max_depth=12, estimator__min_samples_split=4, estimator__min_samples_leaf=2 -  33.7s\n",
      "[CV] estimator__n_estimators=40, estimator__max_depth=12, estimator__min_samples_split=4, estimator__min_samples_leaf=2 \n"
     ]
    },
    {
     "name": "stderr",
     "output_type": "stream",
     "text": [
      "/Users/rob/anaconda/lib/python3.5/site-packages/sklearn/externals/joblib/parallel.py:540: UserWarning: Multiprocessing-backed parallel loops cannot be nested, setting n_jobs=1\n",
      "  **self._backend_args)\n"
     ]
    },
    {
     "name": "stdout",
     "output_type": "stream",
     "text": [
      "[CV]  estimator__n_estimators=30, estimator__max_depth=12, estimator__min_samples_split=4, estimator__min_samples_leaf=2 -  34.0s\n",
      "[CV] estimator__n_estimators=40, estimator__max_depth=12, estimator__min_samples_split=4, estimator__min_samples_leaf=2 \n"
     ]
    },
    {
     "name": "stderr",
     "output_type": "stream",
     "text": [
      "/Users/rob/anaconda/lib/python3.5/site-packages/sklearn/externals/joblib/parallel.py:540: UserWarning: Multiprocessing-backed parallel loops cannot be nested, setting n_jobs=1\n",
      "  **self._backend_args)\n"
     ]
    },
    {
     "name": "stdout",
     "output_type": "stream",
     "text": [
      "[CV]  estimator__n_estimators=30, estimator__max_depth=12, estimator__min_samples_split=4, estimator__min_samples_leaf=2 -  34.0s\n",
      "[CV] estimator__n_estimators=50, estimator__max_depth=12, estimator__min_samples_split=4, estimator__min_samples_leaf=2 \n"
     ]
    },
    {
     "name": "stderr",
     "output_type": "stream",
     "text": [
      "/Users/rob/anaconda/lib/python3.5/site-packages/sklearn/externals/joblib/parallel.py:540: UserWarning: Multiprocessing-backed parallel loops cannot be nested, setting n_jobs=1\n",
      "  **self._backend_args)\n"
     ]
    },
    {
     "name": "stdout",
     "output_type": "stream",
     "text": [
      "[CV]  estimator__n_estimators=30, estimator__max_depth=12, estimator__min_samples_split=4, estimator__min_samples_leaf=2 -  34.0s\n",
      "[CV] estimator__n_estimators=50, estimator__max_depth=12, estimator__min_samples_split=4, estimator__min_samples_leaf=2 \n"
     ]
    },
    {
     "name": "stderr",
     "output_type": "stream",
     "text": [
      "/Users/rob/anaconda/lib/python3.5/site-packages/sklearn/externals/joblib/parallel.py:540: UserWarning: Multiprocessing-backed parallel loops cannot be nested, setting n_jobs=1\n",
      "  **self._backend_args)\n"
     ]
    },
    {
     "name": "stdout",
     "output_type": "stream",
     "text": [
      "[CV]  estimator__n_estimators=30, estimator__max_depth=12, estimator__min_samples_split=4, estimator__min_samples_leaf=2 -  34.0s\n",
      "[CV] estimator__n_estimators=50, estimator__max_depth=12, estimator__min_samples_split=4, estimator__min_samples_leaf=2 \n"
     ]
    },
    {
     "name": "stderr",
     "output_type": "stream",
     "text": [
      "/Users/rob/anaconda/lib/python3.5/site-packages/sklearn/externals/joblib/parallel.py:540: UserWarning: Multiprocessing-backed parallel loops cannot be nested, setting n_jobs=1\n",
      "  **self._backend_args)\n"
     ]
    },
    {
     "name": "stdout",
     "output_type": "stream",
     "text": [
      "[CV]  estimator__n_estimators=40, estimator__max_depth=12, estimator__min_samples_split=4, estimator__min_samples_leaf=2 -  45.1s\n",
      "[CV] estimator__n_estimators=50, estimator__max_depth=12, estimator__min_samples_split=4, estimator__min_samples_leaf=2 \n"
     ]
    },
    {
     "name": "stderr",
     "output_type": "stream",
     "text": [
      "/Users/rob/anaconda/lib/python3.5/site-packages/sklearn/externals/joblib/parallel.py:540: UserWarning: Multiprocessing-backed parallel loops cannot be nested, setting n_jobs=1\n",
      "  **self._backend_args)\n"
     ]
    },
    {
     "name": "stdout",
     "output_type": "stream",
     "text": [
      "[CV]  estimator__n_estimators=40, estimator__max_depth=12, estimator__min_samples_split=4, estimator__min_samples_leaf=2 -  45.0s\n",
      "[CV] estimator__n_estimators=50, estimator__max_depth=12, estimator__min_samples_split=4, estimator__min_samples_leaf=2 \n"
     ]
    },
    {
     "name": "stderr",
     "output_type": "stream",
     "text": [
      "/Users/rob/anaconda/lib/python3.5/site-packages/sklearn/externals/joblib/parallel.py:540: UserWarning: Multiprocessing-backed parallel loops cannot be nested, setting n_jobs=1\n",
      "  **self._backend_args)\n"
     ]
    },
    {
     "name": "stdout",
     "output_type": "stream",
     "text": [
      "[CV]  estimator__n_estimators=40, estimator__max_depth=12, estimator__min_samples_split=4, estimator__min_samples_leaf=2 -  45.2s\n",
      "[CV] estimator__n_estimators=10, estimator__max_depth=12, estimator__min_samples_split=6, estimator__min_samples_leaf=2 \n"
     ]
    },
    {
     "name": "stderr",
     "output_type": "stream",
     "text": [
      "/Users/rob/anaconda/lib/python3.5/site-packages/sklearn/externals/joblib/parallel.py:540: UserWarning: Multiprocessing-backed parallel loops cannot be nested, setting n_jobs=1\n",
      "  **self._backend_args)\n"
     ]
    },
    {
     "name": "stdout",
     "output_type": "stream",
     "text": [
      "[CV]  estimator__n_estimators=10, estimator__max_depth=12, estimator__min_samples_split=6, estimator__min_samples_leaf=2 -  11.4s\n",
      "[CV] estimator__n_estimators=10, estimator__max_depth=12, estimator__min_samples_split=6, estimator__min_samples_leaf=2 \n"
     ]
    },
    {
     "name": "stderr",
     "output_type": "stream",
     "text": [
      "/Users/rob/anaconda/lib/python3.5/site-packages/sklearn/externals/joblib/parallel.py:540: UserWarning: Multiprocessing-backed parallel loops cannot be nested, setting n_jobs=1\n",
      "  **self._backend_args)\n"
     ]
    },
    {
     "name": "stdout",
     "output_type": "stream",
     "text": [
      "[CV]  estimator__n_estimators=40, estimator__max_depth=12, estimator__min_samples_split=4, estimator__min_samples_leaf=2 -  45.4s\n",
      "[CV] estimator__n_estimators=10, estimator__max_depth=12, estimator__min_samples_split=6, estimator__min_samples_leaf=2 \n"
     ]
    },
    {
     "name": "stderr",
     "output_type": "stream",
     "text": [
      "/Users/rob/anaconda/lib/python3.5/site-packages/sklearn/externals/joblib/parallel.py:540: UserWarning: Multiprocessing-backed parallel loops cannot be nested, setting n_jobs=1\n",
      "  **self._backend_args)\n"
     ]
    },
    {
     "name": "stdout",
     "output_type": "stream",
     "text": [
      "[CV]  estimator__n_estimators=40, estimator__max_depth=12, estimator__min_samples_split=4, estimator__min_samples_leaf=2 -  45.4s\n",
      "[CV] estimator__n_estimators=10, estimator__max_depth=12, estimator__min_samples_split=6, estimator__min_samples_leaf=2 \n"
     ]
    },
    {
     "name": "stderr",
     "output_type": "stream",
     "text": [
      "/Users/rob/anaconda/lib/python3.5/site-packages/sklearn/externals/joblib/parallel.py:540: UserWarning: Multiprocessing-backed parallel loops cannot be nested, setting n_jobs=1\n",
      "  **self._backend_args)\n"
     ]
    },
    {
     "name": "stdout",
     "output_type": "stream",
     "text": [
      "[CV]  estimator__n_estimators=10, estimator__max_depth=12, estimator__min_samples_split=6, estimator__min_samples_leaf=2 -  11.4s\n",
      "[CV] estimator__n_estimators=10, estimator__max_depth=12, estimator__min_samples_split=6, estimator__min_samples_leaf=2 \n"
     ]
    },
    {
     "name": "stderr",
     "output_type": "stream",
     "text": [
      "/Users/rob/anaconda/lib/python3.5/site-packages/sklearn/externals/joblib/parallel.py:540: UserWarning: Multiprocessing-backed parallel loops cannot be nested, setting n_jobs=1\n",
      "  **self._backend_args)\n"
     ]
    },
    {
     "name": "stdout",
     "output_type": "stream",
     "text": [
      "[CV]  estimator__n_estimators=10, estimator__max_depth=12, estimator__min_samples_split=6, estimator__min_samples_leaf=2 -  11.5s\n",
      "[CV] estimator__n_estimators=20, estimator__max_depth=12, estimator__min_samples_split=6, estimator__min_samples_leaf=2 \n"
     ]
    },
    {
     "name": "stderr",
     "output_type": "stream",
     "text": [
      "/Users/rob/anaconda/lib/python3.5/site-packages/sklearn/externals/joblib/parallel.py:540: UserWarning: Multiprocessing-backed parallel loops cannot be nested, setting n_jobs=1\n",
      "  **self._backend_args)\n"
     ]
    },
    {
     "name": "stdout",
     "output_type": "stream",
     "text": [
      "[CV]  estimator__n_estimators=10, estimator__max_depth=12, estimator__min_samples_split=6, estimator__min_samples_leaf=2 -  11.4s\n",
      "[CV] estimator__n_estimators=20, estimator__max_depth=12, estimator__min_samples_split=6, estimator__min_samples_leaf=2 \n"
     ]
    },
    {
     "name": "stderr",
     "output_type": "stream",
     "text": [
      "/Users/rob/anaconda/lib/python3.5/site-packages/sklearn/externals/joblib/parallel.py:540: UserWarning: Multiprocessing-backed parallel loops cannot be nested, setting n_jobs=1\n",
      "  **self._backend_args)\n"
     ]
    },
    {
     "name": "stdout",
     "output_type": "stream",
     "text": [
      "[CV]  estimator__n_estimators=10, estimator__max_depth=12, estimator__min_samples_split=6, estimator__min_samples_leaf=2 -  11.5s\n",
      "[CV] estimator__n_estimators=20, estimator__max_depth=12, estimator__min_samples_split=6, estimator__min_samples_leaf=2 \n",
      "[CV]  estimator__n_estimators=50, estimator__max_depth=12, estimator__min_samples_split=4, estimator__min_samples_leaf=2 -  56.5s\n",
      "[CV] estimator__n_estimators=20, estimator__max_depth=12, estimator__min_samples_split=6, estimator__min_samples_leaf=2 \n"
     ]
    },
    {
     "name": "stderr",
     "output_type": "stream",
     "text": [
      "/Users/rob/anaconda/lib/python3.5/site-packages/sklearn/externals/joblib/parallel.py:540: UserWarning: Multiprocessing-backed parallel loops cannot be nested, setting n_jobs=1\n",
      "  **self._backend_args)\n",
      "/Users/rob/anaconda/lib/python3.5/site-packages/sklearn/externals/joblib/parallel.py:540: UserWarning: Multiprocessing-backed parallel loops cannot be nested, setting n_jobs=1\n",
      "  **self._backend_args)\n"
     ]
    },
    {
     "name": "stdout",
     "output_type": "stream",
     "text": [
      "[CV]  estimator__n_estimators=50, estimator__max_depth=12, estimator__min_samples_split=4, estimator__min_samples_leaf=2 -  56.4s\n",
      "[CV] estimator__n_estimators=20, estimator__max_depth=12, estimator__min_samples_split=6, estimator__min_samples_leaf=2 \n"
     ]
    },
    {
     "name": "stderr",
     "output_type": "stream",
     "text": [
      "/Users/rob/anaconda/lib/python3.5/site-packages/sklearn/externals/joblib/parallel.py:540: UserWarning: Multiprocessing-backed parallel loops cannot be nested, setting n_jobs=1\n",
      "  **self._backend_args)\n"
     ]
    },
    {
     "name": "stdout",
     "output_type": "stream",
     "text": [
      "[CV]  estimator__n_estimators=50, estimator__max_depth=12, estimator__min_samples_split=4, estimator__min_samples_leaf=2 -  56.6s\n",
      "[CV] estimator__n_estimators=30, estimator__max_depth=12, estimator__min_samples_split=6, estimator__min_samples_leaf=2 \n"
     ]
    },
    {
     "name": "stderr",
     "output_type": "stream",
     "text": [
      "/Users/rob/anaconda/lib/python3.5/site-packages/sklearn/externals/joblib/parallel.py:540: UserWarning: Multiprocessing-backed parallel loops cannot be nested, setting n_jobs=1\n",
      "  **self._backend_args)\n"
     ]
    },
    {
     "name": "stdout",
     "output_type": "stream",
     "text": [
      "[CV]  estimator__n_estimators=20, estimator__max_depth=12, estimator__min_samples_split=6, estimator__min_samples_leaf=2 -  22.7s\n",
      "[CV] estimator__n_estimators=30, estimator__max_depth=12, estimator__min_samples_split=6, estimator__min_samples_leaf=2 \n"
     ]
    },
    {
     "name": "stderr",
     "output_type": "stream",
     "text": [
      "/Users/rob/anaconda/lib/python3.5/site-packages/sklearn/externals/joblib/parallel.py:540: UserWarning: Multiprocessing-backed parallel loops cannot be nested, setting n_jobs=1\n",
      "  **self._backend_args)\n"
     ]
    },
    {
     "name": "stdout",
     "output_type": "stream",
     "text": [
      "[CV]  estimator__n_estimators=50, estimator__max_depth=12, estimator__min_samples_split=4, estimator__min_samples_leaf=2 -  57.1s\n",
      "[CV] estimator__n_estimators=30, estimator__max_depth=12, estimator__min_samples_split=6, estimator__min_samples_leaf=2 \n"
     ]
    },
    {
     "name": "stderr",
     "output_type": "stream",
     "text": [
      "/Users/rob/anaconda/lib/python3.5/site-packages/sklearn/externals/joblib/parallel.py:540: UserWarning: Multiprocessing-backed parallel loops cannot be nested, setting n_jobs=1\n",
      "  **self._backend_args)\n"
     ]
    },
    {
     "name": "stdout",
     "output_type": "stream",
     "text": [
      "[CV]  estimator__n_estimators=20, estimator__max_depth=12, estimator__min_samples_split=6, estimator__min_samples_leaf=2 -  23.3s\n",
      "[CV] estimator__n_estimators=30, estimator__max_depth=12, estimator__min_samples_split=6, estimator__min_samples_leaf=2 \n"
     ]
    },
    {
     "name": "stderr",
     "output_type": "stream",
     "text": [
      "/Users/rob/anaconda/lib/python3.5/site-packages/sklearn/externals/joblib/parallel.py:540: UserWarning: Multiprocessing-backed parallel loops cannot be nested, setting n_jobs=1\n",
      "  **self._backend_args)\n"
     ]
    },
    {
     "name": "stdout",
     "output_type": "stream",
     "text": [
      "[CV]  estimator__n_estimators=50, estimator__max_depth=12, estimator__min_samples_split=4, estimator__min_samples_leaf=2 -  57.5s\n",
      "[CV] estimator__n_estimators=30, estimator__max_depth=12, estimator__min_samples_split=6, estimator__min_samples_leaf=2 \n"
     ]
    },
    {
     "name": "stderr",
     "output_type": "stream",
     "text": [
      "/Users/rob/anaconda/lib/python3.5/site-packages/sklearn/externals/joblib/parallel.py:540: UserWarning: Multiprocessing-backed parallel loops cannot be nested, setting n_jobs=1\n",
      "  **self._backend_args)\n"
     ]
    },
    {
     "name": "stdout",
     "output_type": "stream",
     "text": [
      "[CV]  estimator__n_estimators=20, estimator__max_depth=12, estimator__min_samples_split=6, estimator__min_samples_leaf=2 -  23.5s\n",
      "[CV] estimator__n_estimators=40, estimator__max_depth=12, estimator__min_samples_split=6, estimator__min_samples_leaf=2 \n"
     ]
    },
    {
     "name": "stderr",
     "output_type": "stream",
     "text": [
      "/Users/rob/anaconda/lib/python3.5/site-packages/sklearn/externals/joblib/parallel.py:540: UserWarning: Multiprocessing-backed parallel loops cannot be nested, setting n_jobs=1\n",
      "  **self._backend_args)\n"
     ]
    },
    {
     "name": "stdout",
     "output_type": "stream",
     "text": [
      "[CV]  estimator__n_estimators=20, estimator__max_depth=12, estimator__min_samples_split=6, estimator__min_samples_leaf=2 -  23.6s\n",
      "[CV] estimator__n_estimators=40, estimator__max_depth=12, estimator__min_samples_split=6, estimator__min_samples_leaf=2 \n"
     ]
    },
    {
     "name": "stderr",
     "output_type": "stream",
     "text": [
      "/Users/rob/anaconda/lib/python3.5/site-packages/sklearn/externals/joblib/parallel.py:540: UserWarning: Multiprocessing-backed parallel loops cannot be nested, setting n_jobs=1\n",
      "  **self._backend_args)\n"
     ]
    },
    {
     "name": "stdout",
     "output_type": "stream",
     "text": [
      "[CV]  estimator__n_estimators=20, estimator__max_depth=12, estimator__min_samples_split=6, estimator__min_samples_leaf=2 -  23.6s\n",
      "[CV] estimator__n_estimators=40, estimator__max_depth=12, estimator__min_samples_split=6, estimator__min_samples_leaf=2 \n"
     ]
    },
    {
     "name": "stderr",
     "output_type": "stream",
     "text": [
      "/Users/rob/anaconda/lib/python3.5/site-packages/sklearn/externals/joblib/parallel.py:540: UserWarning: Multiprocessing-backed parallel loops cannot be nested, setting n_jobs=1\n",
      "  **self._backend_args)\n"
     ]
    },
    {
     "name": "stdout",
     "output_type": "stream",
     "text": [
      "[CV]  estimator__n_estimators=30, estimator__max_depth=12, estimator__min_samples_split=6, estimator__min_samples_leaf=2 -  35.4s\n",
      "[CV] estimator__n_estimators=40, estimator__max_depth=12, estimator__min_samples_split=6, estimator__min_samples_leaf=2 \n"
     ]
    },
    {
     "name": "stderr",
     "output_type": "stream",
     "text": [
      "/Users/rob/anaconda/lib/python3.5/site-packages/sklearn/externals/joblib/parallel.py:540: UserWarning: Multiprocessing-backed parallel loops cannot be nested, setting n_jobs=1\n",
      "  **self._backend_args)\n"
     ]
    },
    {
     "name": "stdout",
     "output_type": "stream",
     "text": [
      "[CV]  estimator__n_estimators=30, estimator__max_depth=12, estimator__min_samples_split=6, estimator__min_samples_leaf=2 -  36.0s\n",
      "[CV] estimator__n_estimators=40, estimator__max_depth=12, estimator__min_samples_split=6, estimator__min_samples_leaf=2 \n"
     ]
    },
    {
     "name": "stderr",
     "output_type": "stream",
     "text": [
      "/Users/rob/anaconda/lib/python3.5/site-packages/sklearn/externals/joblib/parallel.py:540: UserWarning: Multiprocessing-backed parallel loops cannot be nested, setting n_jobs=1\n",
      "  **self._backend_args)\n"
     ]
    },
    {
     "name": "stdout",
     "output_type": "stream",
     "text": [
      "[CV]  estimator__n_estimators=30, estimator__max_depth=12, estimator__min_samples_split=6, estimator__min_samples_leaf=2 -  35.7s\n",
      "[CV] estimator__n_estimators=50, estimator__max_depth=12, estimator__min_samples_split=6, estimator__min_samples_leaf=2 \n"
     ]
    },
    {
     "name": "stderr",
     "output_type": "stream",
     "text": [
      "/Users/rob/anaconda/lib/python3.5/site-packages/sklearn/externals/joblib/parallel.py:540: UserWarning: Multiprocessing-backed parallel loops cannot be nested, setting n_jobs=1\n",
      "  **self._backend_args)\n"
     ]
    },
    {
     "name": "stdout",
     "output_type": "stream",
     "text": [
      "[CV]  estimator__n_estimators=30, estimator__max_depth=12, estimator__min_samples_split=6, estimator__min_samples_leaf=2 -  35.6s\n",
      "[CV] estimator__n_estimators=50, estimator__max_depth=12, estimator__min_samples_split=6, estimator__min_samples_leaf=2 \n"
     ]
    },
    {
     "name": "stderr",
     "output_type": "stream",
     "text": [
      "/Users/rob/anaconda/lib/python3.5/site-packages/sklearn/externals/joblib/parallel.py:540: UserWarning: Multiprocessing-backed parallel loops cannot be nested, setting n_jobs=1\n",
      "  **self._backend_args)\n"
     ]
    },
    {
     "name": "stdout",
     "output_type": "stream",
     "text": [
      "[CV]  estimator__n_estimators=30, estimator__max_depth=12, estimator__min_samples_split=6, estimator__min_samples_leaf=2 -  35.5s\n",
      "[CV] estimator__n_estimators=50, estimator__max_depth=12, estimator__min_samples_split=6, estimator__min_samples_leaf=2 \n"
     ]
    },
    {
     "name": "stderr",
     "output_type": "stream",
     "text": [
      "/Users/rob/anaconda/lib/python3.5/site-packages/sklearn/externals/joblib/parallel.py:540: UserWarning: Multiprocessing-backed parallel loops cannot be nested, setting n_jobs=1\n",
      "  **self._backend_args)\n"
     ]
    },
    {
     "name": "stdout",
     "output_type": "stream",
     "text": [
      "[CV]  estimator__n_estimators=40, estimator__max_depth=12, estimator__min_samples_split=6, estimator__min_samples_leaf=2 -  47.0s\n",
      "[CV] estimator__n_estimators=50, estimator__max_depth=12, estimator__min_samples_split=6, estimator__min_samples_leaf=2 \n"
     ]
    },
    {
     "name": "stderr",
     "output_type": "stream",
     "text": [
      "/Users/rob/anaconda/lib/python3.5/site-packages/sklearn/externals/joblib/parallel.py:540: UserWarning: Multiprocessing-backed parallel loops cannot be nested, setting n_jobs=1\n",
      "  **self._backend_args)\n"
     ]
    },
    {
     "name": "stdout",
     "output_type": "stream",
     "text": [
      "[CV]  estimator__n_estimators=40, estimator__max_depth=12, estimator__min_samples_split=6, estimator__min_samples_leaf=2 -  47.1s\n",
      "[CV] estimator__n_estimators=50, estimator__max_depth=12, estimator__min_samples_split=6, estimator__min_samples_leaf=2 \n"
     ]
    },
    {
     "name": "stderr",
     "output_type": "stream",
     "text": [
      "/Users/rob/anaconda/lib/python3.5/site-packages/sklearn/externals/joblib/parallel.py:540: UserWarning: Multiprocessing-backed parallel loops cannot be nested, setting n_jobs=1\n",
      "  **self._backend_args)\n"
     ]
    },
    {
     "name": "stdout",
     "output_type": "stream",
     "text": [
      "[CV]  estimator__n_estimators=40, estimator__max_depth=12, estimator__min_samples_split=6, estimator__min_samples_leaf=2 -  47.2s\n",
      "[CV] estimator__n_estimators=10, estimator__max_depth=12, estimator__min_samples_split=2, estimator__min_samples_leaf=4 \n"
     ]
    },
    {
     "name": "stderr",
     "output_type": "stream",
     "text": [
      "/Users/rob/anaconda/lib/python3.5/site-packages/sklearn/externals/joblib/parallel.py:540: UserWarning: Multiprocessing-backed parallel loops cannot be nested, setting n_jobs=1\n",
      "  **self._backend_args)\n"
     ]
    },
    {
     "name": "stdout",
     "output_type": "stream",
     "text": [
      "[CV]  estimator__n_estimators=10, estimator__max_depth=12, estimator__min_samples_split=2, estimator__min_samples_leaf=4 -  11.5s\n",
      "[CV] estimator__n_estimators=10, estimator__max_depth=12, estimator__min_samples_split=2, estimator__min_samples_leaf=4 \n"
     ]
    },
    {
     "name": "stderr",
     "output_type": "stream",
     "text": [
      "/Users/rob/anaconda/lib/python3.5/site-packages/sklearn/externals/joblib/parallel.py:540: UserWarning: Multiprocessing-backed parallel loops cannot be nested, setting n_jobs=1\n",
      "  **self._backend_args)\n"
     ]
    },
    {
     "name": "stdout",
     "output_type": "stream",
     "text": [
      "[CV]  estimator__n_estimators=40, estimator__max_depth=12, estimator__min_samples_split=6, estimator__min_samples_leaf=2 -  47.0s\n",
      "[CV] estimator__n_estimators=10, estimator__max_depth=12, estimator__min_samples_split=2, estimator__min_samples_leaf=4 \n"
     ]
    },
    {
     "name": "stderr",
     "output_type": "stream",
     "text": [
      "/Users/rob/anaconda/lib/python3.5/site-packages/sklearn/externals/joblib/parallel.py:540: UserWarning: Multiprocessing-backed parallel loops cannot be nested, setting n_jobs=1\n",
      "  **self._backend_args)\n"
     ]
    },
    {
     "name": "stdout",
     "output_type": "stream",
     "text": [
      "[CV]  estimator__n_estimators=40, estimator__max_depth=12, estimator__min_samples_split=6, estimator__min_samples_leaf=2 -  46.8s\n",
      "[CV] estimator__n_estimators=10, estimator__max_depth=12, estimator__min_samples_split=2, estimator__min_samples_leaf=4 \n"
     ]
    },
    {
     "name": "stderr",
     "output_type": "stream",
     "text": [
      "/Users/rob/anaconda/lib/python3.5/site-packages/sklearn/externals/joblib/parallel.py:540: UserWarning: Multiprocessing-backed parallel loops cannot be nested, setting n_jobs=1\n",
      "  **self._backend_args)\n"
     ]
    },
    {
     "name": "stdout",
     "output_type": "stream",
     "text": [
      "[CV]  estimator__n_estimators=10, estimator__max_depth=12, estimator__min_samples_split=2, estimator__min_samples_leaf=4 -  11.6s\n",
      "[CV] estimator__n_estimators=10, estimator__max_depth=12, estimator__min_samples_split=2, estimator__min_samples_leaf=4 \n"
     ]
    },
    {
     "name": "stderr",
     "output_type": "stream",
     "text": [
      "/Users/rob/anaconda/lib/python3.5/site-packages/sklearn/externals/joblib/parallel.py:540: UserWarning: Multiprocessing-backed parallel loops cannot be nested, setting n_jobs=1\n",
      "  **self._backend_args)\n"
     ]
    },
    {
     "name": "stdout",
     "output_type": "stream",
     "text": [
      "[CV]  estimator__n_estimators=10, estimator__max_depth=12, estimator__min_samples_split=2, estimator__min_samples_leaf=4 -  11.7s\n",
      "[CV] estimator__n_estimators=20, estimator__max_depth=12, estimator__min_samples_split=2, estimator__min_samples_leaf=4 \n"
     ]
    },
    {
     "name": "stderr",
     "output_type": "stream",
     "text": [
      "/Users/rob/anaconda/lib/python3.5/site-packages/sklearn/externals/joblib/parallel.py:540: UserWarning: Multiprocessing-backed parallel loops cannot be nested, setting n_jobs=1\n",
      "  **self._backend_args)\n"
     ]
    },
    {
     "name": "stdout",
     "output_type": "stream",
     "text": [
      "[CV]  estimator__n_estimators=10, estimator__max_depth=12, estimator__min_samples_split=2, estimator__min_samples_leaf=4 -  11.6s\n",
      "[CV] estimator__n_estimators=20, estimator__max_depth=12, estimator__min_samples_split=2, estimator__min_samples_leaf=4 \n"
     ]
    },
    {
     "name": "stderr",
     "output_type": "stream",
     "text": [
      "/Users/rob/anaconda/lib/python3.5/site-packages/sklearn/externals/joblib/parallel.py:540: UserWarning: Multiprocessing-backed parallel loops cannot be nested, setting n_jobs=1\n",
      "  **self._backend_args)\n"
     ]
    },
    {
     "name": "stdout",
     "output_type": "stream",
     "text": [
      "[CV]  estimator__n_estimators=10, estimator__max_depth=12, estimator__min_samples_split=2, estimator__min_samples_leaf=4 -  11.6s\n",
      "[CV] estimator__n_estimators=20, estimator__max_depth=12, estimator__min_samples_split=2, estimator__min_samples_leaf=4 \n"
     ]
    },
    {
     "name": "stderr",
     "output_type": "stream",
     "text": [
      "/Users/rob/anaconda/lib/python3.5/site-packages/sklearn/externals/joblib/parallel.py:540: UserWarning: Multiprocessing-backed parallel loops cannot be nested, setting n_jobs=1\n",
      "  **self._backend_args)\n"
     ]
    },
    {
     "name": "stdout",
     "output_type": "stream",
     "text": [
      "[CV]  estimator__n_estimators=50, estimator__max_depth=12, estimator__min_samples_split=6, estimator__min_samples_leaf=2 -  59.1s\n",
      "[CV] estimator__n_estimators=20, estimator__max_depth=12, estimator__min_samples_split=2, estimator__min_samples_leaf=4 \n"
     ]
    },
    {
     "name": "stderr",
     "output_type": "stream",
     "text": [
      "/Users/rob/anaconda/lib/python3.5/site-packages/sklearn/externals/joblib/parallel.py:540: UserWarning: Multiprocessing-backed parallel loops cannot be nested, setting n_jobs=1\n",
      "  **self._backend_args)\n"
     ]
    },
    {
     "name": "stdout",
     "output_type": "stream",
     "text": [
      "[CV]  estimator__n_estimators=50, estimator__max_depth=12, estimator__min_samples_split=6, estimator__min_samples_leaf=2 -  58.8s\n",
      "[CV] estimator__n_estimators=20, estimator__max_depth=12, estimator__min_samples_split=2, estimator__min_samples_leaf=4 \n"
     ]
    },
    {
     "name": "stderr",
     "output_type": "stream",
     "text": [
      "/Users/rob/anaconda/lib/python3.5/site-packages/sklearn/externals/joblib/parallel.py:540: UserWarning: Multiprocessing-backed parallel loops cannot be nested, setting n_jobs=1\n",
      "  **self._backend_args)\n"
     ]
    },
    {
     "name": "stdout",
     "output_type": "stream",
     "text": [
      "[CV]  estimator__n_estimators=50, estimator__max_depth=12, estimator__min_samples_split=6, estimator__min_samples_leaf=2 -  59.1s\n",
      "[CV] estimator__n_estimators=30, estimator__max_depth=12, estimator__min_samples_split=2, estimator__min_samples_leaf=4 \n"
     ]
    },
    {
     "name": "stderr",
     "output_type": "stream",
     "text": [
      "/Users/rob/anaconda/lib/python3.5/site-packages/sklearn/externals/joblib/parallel.py:540: UserWarning: Multiprocessing-backed parallel loops cannot be nested, setting n_jobs=1\n",
      "  **self._backend_args)\n"
     ]
    },
    {
     "name": "stdout",
     "output_type": "stream",
     "text": [
      "[CV]  estimator__n_estimators=20, estimator__max_depth=12, estimator__min_samples_split=2, estimator__min_samples_leaf=4 -  23.5s\n",
      "[CV] estimator__n_estimators=30, estimator__max_depth=12, estimator__min_samples_split=2, estimator__min_samples_leaf=4 \n"
     ]
    },
    {
     "name": "stderr",
     "output_type": "stream",
     "text": [
      "/Users/rob/anaconda/lib/python3.5/site-packages/sklearn/externals/joblib/parallel.py:540: UserWarning: Multiprocessing-backed parallel loops cannot be nested, setting n_jobs=1\n",
      "  **self._backend_args)\n"
     ]
    },
    {
     "name": "stdout",
     "output_type": "stream",
     "text": [
      "[CV]  estimator__n_estimators=50, estimator__max_depth=12, estimator__min_samples_split=6, estimator__min_samples_leaf=2 -  59.1s\n",
      "[CV]  estimator__n_estimators=20, estimator__max_depth=12, estimator__min_samples_split=2, estimator__min_samples_leaf=4 -  23.2s\n",
      "[CV] estimator__n_estimators=30, estimator__max_depth=12, estimator__min_samples_split=2, estimator__min_samples_leaf=4 \n",
      "[CV]  estimator__n_estimators=50, estimator__max_depth=12, estimator__min_samples_split=6, estimator__min_samples_leaf=2 -  59.0s\n",
      "[CV] estimator__n_estimators=30, estimator__max_depth=12, estimator__min_samples_split=2, estimator__min_samples_leaf=4 \n"
     ]
    },
    {
     "name": "stderr",
     "output_type": "stream",
     "text": [
      "/Users/rob/anaconda/lib/python3.5/site-packages/sklearn/externals/joblib/parallel.py:540: UserWarning: Multiprocessing-backed parallel loops cannot be nested, setting n_jobs=1\n",
      "  **self._backend_args)\n"
     ]
    },
    {
     "name": "stdout",
     "output_type": "stream",
     "text": [
      "[CV] estimator__n_estimators=30, estimator__max_depth=12, estimator__min_samples_split=2, estimator__min_samples_leaf=4 \n"
     ]
    },
    {
     "name": "stderr",
     "output_type": "stream",
     "text": [
      "/Users/rob/anaconda/lib/python3.5/site-packages/sklearn/externals/joblib/parallel.py:540: UserWarning: Multiprocessing-backed parallel loops cannot be nested, setting n_jobs=1\n",
      "  **self._backend_args)\n",
      "/Users/rob/anaconda/lib/python3.5/site-packages/sklearn/externals/joblib/parallel.py:540: UserWarning: Multiprocessing-backed parallel loops cannot be nested, setting n_jobs=1\n",
      "  **self._backend_args)\n"
     ]
    },
    {
     "name": "stdout",
     "output_type": "stream",
     "text": [
      "[CV]  estimator__n_estimators=20, estimator__max_depth=12, estimator__min_samples_split=2, estimator__min_samples_leaf=4 -  23.6s\n",
      "[CV] estimator__n_estimators=40, estimator__max_depth=12, estimator__min_samples_split=2, estimator__min_samples_leaf=4 \n"
     ]
    },
    {
     "name": "stderr",
     "output_type": "stream",
     "text": [
      "/Users/rob/anaconda/lib/python3.5/site-packages/sklearn/externals/joblib/parallel.py:540: UserWarning: Multiprocessing-backed parallel loops cannot be nested, setting n_jobs=1\n",
      "  **self._backend_args)\n"
     ]
    },
    {
     "name": "stdout",
     "output_type": "stream",
     "text": [
      "[CV]  estimator__n_estimators=20, estimator__max_depth=12, estimator__min_samples_split=2, estimator__min_samples_leaf=4 -  23.3s\n",
      "[CV] estimator__n_estimators=40, estimator__max_depth=12, estimator__min_samples_split=2, estimator__min_samples_leaf=4 \n"
     ]
    },
    {
     "name": "stderr",
     "output_type": "stream",
     "text": [
      "/Users/rob/anaconda/lib/python3.5/site-packages/sklearn/externals/joblib/parallel.py:540: UserWarning: Multiprocessing-backed parallel loops cannot be nested, setting n_jobs=1\n",
      "  **self._backend_args)\n"
     ]
    },
    {
     "name": "stdout",
     "output_type": "stream",
     "text": [
      "[CV]  estimator__n_estimators=20, estimator__max_depth=12, estimator__min_samples_split=2, estimator__min_samples_leaf=4 -  23.3s\n",
      "[CV] estimator__n_estimators=40, estimator__max_depth=12, estimator__min_samples_split=2, estimator__min_samples_leaf=4 \n"
     ]
    },
    {
     "name": "stderr",
     "output_type": "stream",
     "text": [
      "/Users/rob/anaconda/lib/python3.5/site-packages/sklearn/externals/joblib/parallel.py:540: UserWarning: Multiprocessing-backed parallel loops cannot be nested, setting n_jobs=1\n",
      "  **self._backend_args)\n"
     ]
    },
    {
     "name": "stdout",
     "output_type": "stream",
     "text": [
      "[CV]  estimator__n_estimators=30, estimator__max_depth=12, estimator__min_samples_split=2, estimator__min_samples_leaf=4 -  34.5s\n",
      "[CV] estimator__n_estimators=40, estimator__max_depth=12, estimator__min_samples_split=2, estimator__min_samples_leaf=4 \n"
     ]
    },
    {
     "name": "stderr",
     "output_type": "stream",
     "text": [
      "/Users/rob/anaconda/lib/python3.5/site-packages/sklearn/externals/joblib/parallel.py:540: UserWarning: Multiprocessing-backed parallel loops cannot be nested, setting n_jobs=1\n",
      "  **self._backend_args)\n"
     ]
    },
    {
     "name": "stdout",
     "output_type": "stream",
     "text": [
      "[CV]  estimator__n_estimators=30, estimator__max_depth=12, estimator__min_samples_split=2, estimator__min_samples_leaf=4 -  34.7s\n",
      "[CV] estimator__n_estimators=40, estimator__max_depth=12, estimator__min_samples_split=2, estimator__min_samples_leaf=4 \n"
     ]
    },
    {
     "name": "stderr",
     "output_type": "stream",
     "text": [
      "/Users/rob/anaconda/lib/python3.5/site-packages/sklearn/externals/joblib/parallel.py:540: UserWarning: Multiprocessing-backed parallel loops cannot be nested, setting n_jobs=1\n",
      "  **self._backend_args)\n"
     ]
    },
    {
     "name": "stdout",
     "output_type": "stream",
     "text": [
      "[CV]  estimator__n_estimators=30, estimator__max_depth=12, estimator__min_samples_split=2, estimator__min_samples_leaf=4 -  35.0s\n",
      "[CV]  estimator__n_estimators=30, estimator__max_depth=12, estimator__min_samples_split=2, estimator__min_samples_leaf=4 -  35.2s\n",
      "[CV]  estimator__n_estimators=30, estimator__max_depth=12, estimator__min_samples_split=2, estimator__min_samples_leaf=4 -  35.1s\n",
      "[CV] estimator__n_estimators=50, estimator__max_depth=12, estimator__min_samples_split=2, estimator__min_samples_leaf=4 \n"
     ]
    },
    {
     "name": "stderr",
     "output_type": "stream",
     "text": [
      "/Users/rob/anaconda/lib/python3.5/site-packages/sklearn/externals/joblib/parallel.py:540: UserWarning: Multiprocessing-backed parallel loops cannot be nested, setting n_jobs=1\n",
      "  **self._backend_args)\n"
     ]
    },
    {
     "name": "stdout",
     "output_type": "stream",
     "text": [
      "[CV] estimator__n_estimators=50, estimator__max_depth=12, estimator__min_samples_split=2, estimator__min_samples_leaf=4 \n"
     ]
    },
    {
     "name": "stderr",
     "output_type": "stream",
     "text": [
      "/Users/rob/anaconda/lib/python3.5/site-packages/sklearn/externals/joblib/parallel.py:540: UserWarning: Multiprocessing-backed parallel loops cannot be nested, setting n_jobs=1\n",
      "  **self._backend_args)\n"
     ]
    },
    {
     "name": "stdout",
     "output_type": "stream",
     "text": [
      "[CV] estimator__n_estimators=50, estimator__max_depth=12, estimator__min_samples_split=2, estimator__min_samples_leaf=4 \n"
     ]
    },
    {
     "name": "stderr",
     "output_type": "stream",
     "text": [
      "/Users/rob/anaconda/lib/python3.5/site-packages/sklearn/externals/joblib/parallel.py:540: UserWarning: Multiprocessing-backed parallel loops cannot be nested, setting n_jobs=1\n",
      "  **self._backend_args)\n"
     ]
    },
    {
     "name": "stdout",
     "output_type": "stream",
     "text": [
      "[CV]  estimator__n_estimators=40, estimator__max_depth=12, estimator__min_samples_split=2, estimator__min_samples_leaf=4 -  46.3s\n",
      "[CV] estimator__n_estimators=50, estimator__max_depth=12, estimator__min_samples_split=2, estimator__min_samples_leaf=4 \n"
     ]
    },
    {
     "name": "stderr",
     "output_type": "stream",
     "text": [
      "/Users/rob/anaconda/lib/python3.5/site-packages/sklearn/externals/joblib/parallel.py:540: UserWarning: Multiprocessing-backed parallel loops cannot be nested, setting n_jobs=1\n",
      "  **self._backend_args)\n"
     ]
    },
    {
     "name": "stdout",
     "output_type": "stream",
     "text": [
      "[CV]  estimator__n_estimators=40, estimator__max_depth=12, estimator__min_samples_split=2, estimator__min_samples_leaf=4 -  46.5s\n",
      "[CV] estimator__n_estimators=50, estimator__max_depth=12, estimator__min_samples_split=2, estimator__min_samples_leaf=4 \n"
     ]
    },
    {
     "name": "stderr",
     "output_type": "stream",
     "text": [
      "/Users/rob/anaconda/lib/python3.5/site-packages/sklearn/externals/joblib/parallel.py:540: UserWarning: Multiprocessing-backed parallel loops cannot be nested, setting n_jobs=1\n",
      "  **self._backend_args)\n"
     ]
    },
    {
     "name": "stdout",
     "output_type": "stream",
     "text": [
      "[CV]  estimator__n_estimators=40, estimator__max_depth=12, estimator__min_samples_split=2, estimator__min_samples_leaf=4 -  46.3s\n",
      "[CV] estimator__n_estimators=10, estimator__max_depth=12, estimator__min_samples_split=4, estimator__min_samples_leaf=4 \n"
     ]
    },
    {
     "name": "stderr",
     "output_type": "stream",
     "text": [
      "/Users/rob/anaconda/lib/python3.5/site-packages/sklearn/externals/joblib/parallel.py:540: UserWarning: Multiprocessing-backed parallel loops cannot be nested, setting n_jobs=1\n",
      "  **self._backend_args)\n"
     ]
    },
    {
     "name": "stdout",
     "output_type": "stream",
     "text": [
      "[CV]  estimator__n_estimators=10, estimator__max_depth=12, estimator__min_samples_split=4, estimator__min_samples_leaf=4 -  11.6s\n",
      "[CV] estimator__n_estimators=10, estimator__max_depth=12, estimator__min_samples_split=4, estimator__min_samples_leaf=4 \n"
     ]
    },
    {
     "name": "stderr",
     "output_type": "stream",
     "text": [
      "/Users/rob/anaconda/lib/python3.5/site-packages/sklearn/externals/joblib/parallel.py:540: UserWarning: Multiprocessing-backed parallel loops cannot be nested, setting n_jobs=1\n",
      "  **self._backend_args)\n"
     ]
    },
    {
     "name": "stdout",
     "output_type": "stream",
     "text": [
      "[CV]  estimator__n_estimators=40, estimator__max_depth=12, estimator__min_samples_split=2, estimator__min_samples_leaf=4 -  46.6s\n",
      "[CV] estimator__n_estimators=10, estimator__max_depth=12, estimator__min_samples_split=4, estimator__min_samples_leaf=4 \n"
     ]
    },
    {
     "name": "stderr",
     "output_type": "stream",
     "text": [
      "/Users/rob/anaconda/lib/python3.5/site-packages/sklearn/externals/joblib/parallel.py:540: UserWarning: Multiprocessing-backed parallel loops cannot be nested, setting n_jobs=1\n",
      "  **self._backend_args)\n"
     ]
    },
    {
     "name": "stdout",
     "output_type": "stream",
     "text": [
      "[CV]  estimator__n_estimators=40, estimator__max_depth=12, estimator__min_samples_split=2, estimator__min_samples_leaf=4 -  46.5s\n",
      "[CV] estimator__n_estimators=10, estimator__max_depth=12, estimator__min_samples_split=4, estimator__min_samples_leaf=4 \n"
     ]
    },
    {
     "name": "stderr",
     "output_type": "stream",
     "text": [
      "/Users/rob/anaconda/lib/python3.5/site-packages/sklearn/externals/joblib/parallel.py:540: UserWarning: Multiprocessing-backed parallel loops cannot be nested, setting n_jobs=1\n",
      "  **self._backend_args)\n"
     ]
    },
    {
     "name": "stdout",
     "output_type": "stream",
     "text": [
      "[CV]  estimator__n_estimators=10, estimator__max_depth=12, estimator__min_samples_split=4, estimator__min_samples_leaf=4 -  11.6s\n",
      "[CV] estimator__n_estimators=10, estimator__max_depth=12, estimator__min_samples_split=4, estimator__min_samples_leaf=4 \n"
     ]
    },
    {
     "name": "stderr",
     "output_type": "stream",
     "text": [
      "/Users/rob/anaconda/lib/python3.5/site-packages/sklearn/externals/joblib/parallel.py:540: UserWarning: Multiprocessing-backed parallel loops cannot be nested, setting n_jobs=1\n",
      "  **self._backend_args)\n"
     ]
    },
    {
     "name": "stdout",
     "output_type": "stream",
     "text": [
      "[CV]  estimator__n_estimators=10, estimator__max_depth=12, estimator__min_samples_split=4, estimator__min_samples_leaf=4 -  11.8s\n",
      "[CV] estimator__n_estimators=20, estimator__max_depth=12, estimator__min_samples_split=4, estimator__min_samples_leaf=4 \n"
     ]
    },
    {
     "name": "stderr",
     "output_type": "stream",
     "text": [
      "/Users/rob/anaconda/lib/python3.5/site-packages/sklearn/externals/joblib/parallel.py:540: UserWarning: Multiprocessing-backed parallel loops cannot be nested, setting n_jobs=1\n",
      "  **self._backend_args)\n"
     ]
    },
    {
     "name": "stdout",
     "output_type": "stream",
     "text": [
      "[CV]  estimator__n_estimators=10, estimator__max_depth=12, estimator__min_samples_split=4, estimator__min_samples_leaf=4 -  11.7s\n",
      "[CV] estimator__n_estimators=20, estimator__max_depth=12, estimator__min_samples_split=4, estimator__min_samples_leaf=4 \n"
     ]
    },
    {
     "name": "stderr",
     "output_type": "stream",
     "text": [
      "/Users/rob/anaconda/lib/python3.5/site-packages/sklearn/externals/joblib/parallel.py:540: UserWarning: Multiprocessing-backed parallel loops cannot be nested, setting n_jobs=1\n",
      "  **self._backend_args)\n"
     ]
    },
    {
     "name": "stdout",
     "output_type": "stream",
     "text": [
      "[CV]  estimator__n_estimators=10, estimator__max_depth=12, estimator__min_samples_split=4, estimator__min_samples_leaf=4 -  11.5s\n",
      "[CV] estimator__n_estimators=20, estimator__max_depth=12, estimator__min_samples_split=4, estimator__min_samples_leaf=4 \n"
     ]
    },
    {
     "name": "stderr",
     "output_type": "stream",
     "text": [
      "/Users/rob/anaconda/lib/python3.5/site-packages/sklearn/externals/joblib/parallel.py:540: UserWarning: Multiprocessing-backed parallel loops cannot be nested, setting n_jobs=1\n",
      "  **self._backend_args)\n"
     ]
    },
    {
     "name": "stdout",
     "output_type": "stream",
     "text": [
      "[CV]  estimator__n_estimators=50, estimator__max_depth=12, estimator__min_samples_split=2, estimator__min_samples_leaf=4 -  57.4s\n",
      "[CV] estimator__n_estimators=20, estimator__max_depth=12, estimator__min_samples_split=4, estimator__min_samples_leaf=4 \n"
     ]
    },
    {
     "name": "stderr",
     "output_type": "stream",
     "text": [
      "/Users/rob/anaconda/lib/python3.5/site-packages/sklearn/externals/joblib/parallel.py:540: UserWarning: Multiprocessing-backed parallel loops cannot be nested, setting n_jobs=1\n",
      "  **self._backend_args)\n"
     ]
    },
    {
     "name": "stdout",
     "output_type": "stream",
     "text": [
      "[CV]  estimator__n_estimators=50, estimator__max_depth=12, estimator__min_samples_split=2, estimator__min_samples_leaf=4 -  57.5s\n",
      "[CV]  estimator__n_estimators=50, estimator__max_depth=12, estimator__min_samples_split=2, estimator__min_samples_leaf=4 -  57.7s\n",
      "[CV] estimator__n_estimators=20, estimator__max_depth=12, estimator__min_samples_split=4, estimator__min_samples_leaf=4 \n"
     ]
    },
    {
     "name": "stderr",
     "output_type": "stream",
     "text": [
      "/Users/rob/anaconda/lib/python3.5/site-packages/sklearn/externals/joblib/parallel.py:540: UserWarning: Multiprocessing-backed parallel loops cannot be nested, setting n_jobs=1\n",
      "  **self._backend_args)\n"
     ]
    },
    {
     "name": "stdout",
     "output_type": "stream",
     "text": [
      "[CV] estimator__n_estimators=30, estimator__max_depth=12, estimator__min_samples_split=4, estimator__min_samples_leaf=4 \n"
     ]
    },
    {
     "name": "stderr",
     "output_type": "stream",
     "text": [
      "/Users/rob/anaconda/lib/python3.5/site-packages/sklearn/externals/joblib/parallel.py:540: UserWarning: Multiprocessing-backed parallel loops cannot be nested, setting n_jobs=1\n",
      "  **self._backend_args)\n"
     ]
    },
    {
     "name": "stdout",
     "output_type": "stream",
     "text": [
      "[CV]  estimator__n_estimators=20, estimator__max_depth=12, estimator__min_samples_split=4, estimator__min_samples_leaf=4 -  22.9s\n",
      "[CV] estimator__n_estimators=30, estimator__max_depth=12, estimator__min_samples_split=4, estimator__min_samples_leaf=4 \n"
     ]
    },
    {
     "name": "stderr",
     "output_type": "stream",
     "text": [
      "/Users/rob/anaconda/lib/python3.5/site-packages/sklearn/externals/joblib/parallel.py:540: UserWarning: Multiprocessing-backed parallel loops cannot be nested, setting n_jobs=1\n",
      "  **self._backend_args)\n"
     ]
    },
    {
     "name": "stdout",
     "output_type": "stream",
     "text": [
      "[CV]  estimator__n_estimators=50, estimator__max_depth=12, estimator__min_samples_split=2, estimator__min_samples_leaf=4 -  57.5s\n",
      "[CV] estimator__n_estimators=30, estimator__max_depth=12, estimator__min_samples_split=4, estimator__min_samples_leaf=4 \n"
     ]
    },
    {
     "name": "stderr",
     "output_type": "stream",
     "text": [
      "/Users/rob/anaconda/lib/python3.5/site-packages/sklearn/externals/joblib/parallel.py:540: UserWarning: Multiprocessing-backed parallel loops cannot be nested, setting n_jobs=1\n",
      "  **self._backend_args)\n"
     ]
    },
    {
     "name": "stdout",
     "output_type": "stream",
     "text": [
      "[CV]  estimator__n_estimators=20, estimator__max_depth=12, estimator__min_samples_split=4, estimator__min_samples_leaf=4 -  23.0s\n",
      "[CV] estimator__n_estimators=30, estimator__max_depth=12, estimator__min_samples_split=4, estimator__min_samples_leaf=4 \n"
     ]
    },
    {
     "name": "stderr",
     "output_type": "stream",
     "text": [
      "/Users/rob/anaconda/lib/python3.5/site-packages/sklearn/externals/joblib/parallel.py:540: UserWarning: Multiprocessing-backed parallel loops cannot be nested, setting n_jobs=1\n",
      "  **self._backend_args)\n"
     ]
    },
    {
     "name": "stdout",
     "output_type": "stream",
     "text": [
      "[CV]  estimator__n_estimators=50, estimator__max_depth=12, estimator__min_samples_split=2, estimator__min_samples_leaf=4 -  57.5s\n",
      "[CV] estimator__n_estimators=30, estimator__max_depth=12, estimator__min_samples_split=4, estimator__min_samples_leaf=4 \n"
     ]
    },
    {
     "name": "stderr",
     "output_type": "stream",
     "text": [
      "/Users/rob/anaconda/lib/python3.5/site-packages/sklearn/externals/joblib/parallel.py:540: UserWarning: Multiprocessing-backed parallel loops cannot be nested, setting n_jobs=1\n",
      "  **self._backend_args)\n"
     ]
    },
    {
     "name": "stdout",
     "output_type": "stream",
     "text": [
      "[CV]  estimator__n_estimators=20, estimator__max_depth=12, estimator__min_samples_split=4, estimator__min_samples_leaf=4 -  23.5s\n",
      "[CV] estimator__n_estimators=40, estimator__max_depth=12, estimator__min_samples_split=4, estimator__min_samples_leaf=4 \n"
     ]
    },
    {
     "name": "stderr",
     "output_type": "stream",
     "text": [
      "/Users/rob/anaconda/lib/python3.5/site-packages/sklearn/externals/joblib/parallel.py:540: UserWarning: Multiprocessing-backed parallel loops cannot be nested, setting n_jobs=1\n",
      "  **self._backend_args)\n"
     ]
    },
    {
     "name": "stdout",
     "output_type": "stream",
     "text": [
      "[CV]  estimator__n_estimators=20, estimator__max_depth=12, estimator__min_samples_split=4, estimator__min_samples_leaf=4 -  23.2s\n",
      "[CV] estimator__n_estimators=40, estimator__max_depth=12, estimator__min_samples_split=4, estimator__min_samples_leaf=4 \n"
     ]
    },
    {
     "name": "stderr",
     "output_type": "stream",
     "text": [
      "/Users/rob/anaconda/lib/python3.5/site-packages/sklearn/externals/joblib/parallel.py:540: UserWarning: Multiprocessing-backed parallel loops cannot be nested, setting n_jobs=1\n",
      "  **self._backend_args)\n"
     ]
    },
    {
     "name": "stdout",
     "output_type": "stream",
     "text": [
      "[CV]  estimator__n_estimators=20, estimator__max_depth=12, estimator__min_samples_split=4, estimator__min_samples_leaf=4 -  23.2s\n",
      "[CV] estimator__n_estimators=40, estimator__max_depth=12, estimator__min_samples_split=4, estimator__min_samples_leaf=4 \n"
     ]
    },
    {
     "name": "stderr",
     "output_type": "stream",
     "text": [
      "/Users/rob/anaconda/lib/python3.5/site-packages/sklearn/externals/joblib/parallel.py:540: UserWarning: Multiprocessing-backed parallel loops cannot be nested, setting n_jobs=1\n",
      "  **self._backend_args)\n"
     ]
    },
    {
     "name": "stdout",
     "output_type": "stream",
     "text": [
      "[CV]  estimator__n_estimators=30, estimator__max_depth=12, estimator__min_samples_split=4, estimator__min_samples_leaf=4 -  34.7s\n",
      "[CV] estimator__n_estimators=40, estimator__max_depth=12, estimator__min_samples_split=4, estimator__min_samples_leaf=4 \n"
     ]
    },
    {
     "name": "stderr",
     "output_type": "stream",
     "text": [
      "/Users/rob/anaconda/lib/python3.5/site-packages/sklearn/externals/joblib/parallel.py:540: UserWarning: Multiprocessing-backed parallel loops cannot be nested, setting n_jobs=1\n",
      "  **self._backend_args)\n"
     ]
    },
    {
     "name": "stdout",
     "output_type": "stream",
     "text": [
      "[CV]  estimator__n_estimators=30, estimator__max_depth=12, estimator__min_samples_split=4, estimator__min_samples_leaf=4 -  34.6s\n",
      "[CV] estimator__n_estimators=40, estimator__max_depth=12, estimator__min_samples_split=4, estimator__min_samples_leaf=4 \n"
     ]
    },
    {
     "name": "stderr",
     "output_type": "stream",
     "text": [
      "/Users/rob/anaconda/lib/python3.5/site-packages/sklearn/externals/joblib/parallel.py:540: UserWarning: Multiprocessing-backed parallel loops cannot be nested, setting n_jobs=1\n",
      "  **self._backend_args)\n"
     ]
    },
    {
     "name": "stdout",
     "output_type": "stream",
     "text": [
      "[CV]  estimator__n_estimators=30, estimator__max_depth=12, estimator__min_samples_split=4, estimator__min_samples_leaf=4 -  34.8s\n",
      "[CV] estimator__n_estimators=50, estimator__max_depth=12, estimator__min_samples_split=4, estimator__min_samples_leaf=4 \n"
     ]
    },
    {
     "name": "stderr",
     "output_type": "stream",
     "text": [
      "/Users/rob/anaconda/lib/python3.5/site-packages/sklearn/externals/joblib/parallel.py:540: UserWarning: Multiprocessing-backed parallel loops cannot be nested, setting n_jobs=1\n",
      "  **self._backend_args)\n"
     ]
    },
    {
     "name": "stdout",
     "output_type": "stream",
     "text": [
      "[CV]  estimator__n_estimators=30, estimator__max_depth=12, estimator__min_samples_split=4, estimator__min_samples_leaf=4 -  34.9s\n",
      "[CV] estimator__n_estimators=50, estimator__max_depth=12, estimator__min_samples_split=4, estimator__min_samples_leaf=4 \n"
     ]
    },
    {
     "name": "stderr",
     "output_type": "stream",
     "text": [
      "/Users/rob/anaconda/lib/python3.5/site-packages/sklearn/externals/joblib/parallel.py:540: UserWarning: Multiprocessing-backed parallel loops cannot be nested, setting n_jobs=1\n",
      "  **self._backend_args)\n"
     ]
    },
    {
     "name": "stdout",
     "output_type": "stream",
     "text": [
      "[CV]  estimator__n_estimators=30, estimator__max_depth=12, estimator__min_samples_split=4, estimator__min_samples_leaf=4 -  34.6s\n",
      "[CV] estimator__n_estimators=50, estimator__max_depth=12, estimator__min_samples_split=4, estimator__min_samples_leaf=4 \n"
     ]
    },
    {
     "name": "stderr",
     "output_type": "stream",
     "text": [
      "/Users/rob/anaconda/lib/python3.5/site-packages/sklearn/externals/joblib/parallel.py:540: UserWarning: Multiprocessing-backed parallel loops cannot be nested, setting n_jobs=1\n",
      "  **self._backend_args)\n"
     ]
    },
    {
     "name": "stdout",
     "output_type": "stream",
     "text": [
      "[CV]  estimator__n_estimators=40, estimator__max_depth=12, estimator__min_samples_split=4, estimator__min_samples_leaf=4 -  46.0s\n",
      "[CV] estimator__n_estimators=50, estimator__max_depth=12, estimator__min_samples_split=4, estimator__min_samples_leaf=4 \n"
     ]
    },
    {
     "name": "stderr",
     "output_type": "stream",
     "text": [
      "/Users/rob/anaconda/lib/python3.5/site-packages/sklearn/externals/joblib/parallel.py:540: UserWarning: Multiprocessing-backed parallel loops cannot be nested, setting n_jobs=1\n",
      "  **self._backend_args)\n"
     ]
    },
    {
     "name": "stdout",
     "output_type": "stream",
     "text": [
      "[CV]  estimator__n_estimators=40, estimator__max_depth=12, estimator__min_samples_split=4, estimator__min_samples_leaf=4 -  46.0s\n",
      "[CV] estimator__n_estimators=50, estimator__max_depth=12, estimator__min_samples_split=4, estimator__min_samples_leaf=4 \n"
     ]
    },
    {
     "name": "stderr",
     "output_type": "stream",
     "text": [
      "/Users/rob/anaconda/lib/python3.5/site-packages/sklearn/externals/joblib/parallel.py:540: UserWarning: Multiprocessing-backed parallel loops cannot be nested, setting n_jobs=1\n",
      "  **self._backend_args)\n"
     ]
    },
    {
     "name": "stdout",
     "output_type": "stream",
     "text": [
      "[CV]  estimator__n_estimators=40, estimator__max_depth=12, estimator__min_samples_split=4, estimator__min_samples_leaf=4 -  46.0s\n",
      "[CV] estimator__n_estimators=10, estimator__max_depth=12, estimator__min_samples_split=6, estimator__min_samples_leaf=4 \n"
     ]
    },
    {
     "name": "stderr",
     "output_type": "stream",
     "text": [
      "/Users/rob/anaconda/lib/python3.5/site-packages/sklearn/externals/joblib/parallel.py:540: UserWarning: Multiprocessing-backed parallel loops cannot be nested, setting n_jobs=1\n",
      "  **self._backend_args)\n"
     ]
    },
    {
     "name": "stdout",
     "output_type": "stream",
     "text": [
      "[CV]  estimator__n_estimators=40, estimator__max_depth=12, estimator__min_samples_split=4, estimator__min_samples_leaf=4 -  46.3s\n",
      "[CV] estimator__n_estimators=10, estimator__max_depth=12, estimator__min_samples_split=6, estimator__min_samples_leaf=4 \n",
      "[CV]  estimator__n_estimators=10, estimator__max_depth=12, estimator__min_samples_split=6, estimator__min_samples_leaf=4 -  11.9s\n"
     ]
    },
    {
     "name": "stderr",
     "output_type": "stream",
     "text": [
      "/Users/rob/anaconda/lib/python3.5/site-packages/sklearn/externals/joblib/parallel.py:540: UserWarning: Multiprocessing-backed parallel loops cannot be nested, setting n_jobs=1\n",
      "  **self._backend_args)\n"
     ]
    },
    {
     "name": "stdout",
     "output_type": "stream",
     "text": [
      "[CV] estimator__n_estimators=10, estimator__max_depth=12, estimator__min_samples_split=6, estimator__min_samples_leaf=4 \n"
     ]
    },
    {
     "name": "stderr",
     "output_type": "stream",
     "text": [
      "/Users/rob/anaconda/lib/python3.5/site-packages/sklearn/externals/joblib/parallel.py:540: UserWarning: Multiprocessing-backed parallel loops cannot be nested, setting n_jobs=1\n",
      "  **self._backend_args)\n"
     ]
    },
    {
     "name": "stdout",
     "output_type": "stream",
     "text": [
      "[CV]  estimator__n_estimators=40, estimator__max_depth=12, estimator__min_samples_split=4, estimator__min_samples_leaf=4 -  46.5s\n",
      "[CV] estimator__n_estimators=10, estimator__max_depth=12, estimator__min_samples_split=6, estimator__min_samples_leaf=4 \n"
     ]
    },
    {
     "name": "stderr",
     "output_type": "stream",
     "text": [
      "/Users/rob/anaconda/lib/python3.5/site-packages/sklearn/externals/joblib/parallel.py:540: UserWarning: Multiprocessing-backed parallel loops cannot be nested, setting n_jobs=1\n",
      "  **self._backend_args)\n"
     ]
    },
    {
     "name": "stdout",
     "output_type": "stream",
     "text": [
      "[CV]  estimator__n_estimators=10, estimator__max_depth=12, estimator__min_samples_split=6, estimator__min_samples_leaf=4 -  11.8s\n",
      "[CV] estimator__n_estimators=10, estimator__max_depth=12, estimator__min_samples_split=6, estimator__min_samples_leaf=4 \n",
      "[CV]  estimator__n_estimators=10, estimator__max_depth=12, estimator__min_samples_split=6, estimator__min_samples_leaf=4 -  11.8s\n",
      "[CV] estimator__n_estimators=20, estimator__max_depth=12, estimator__min_samples_split=6, estimator__min_samples_leaf=4 \n"
     ]
    },
    {
     "name": "stderr",
     "output_type": "stream",
     "text": [
      "/Users/rob/anaconda/lib/python3.5/site-packages/sklearn/externals/joblib/parallel.py:540: UserWarning: Multiprocessing-backed parallel loops cannot be nested, setting n_jobs=1\n",
      "  **self._backend_args)\n",
      "/Users/rob/anaconda/lib/python3.5/site-packages/sklearn/externals/joblib/parallel.py:540: UserWarning: Multiprocessing-backed parallel loops cannot be nested, setting n_jobs=1\n",
      "  **self._backend_args)\n"
     ]
    },
    {
     "name": "stdout",
     "output_type": "stream",
     "text": [
      "[CV]  estimator__n_estimators=10, estimator__max_depth=12, estimator__min_samples_split=6, estimator__min_samples_leaf=4 -  12.3s\n",
      "[CV] estimator__n_estimators=20, estimator__max_depth=12, estimator__min_samples_split=6, estimator__min_samples_leaf=4 \n"
     ]
    },
    {
     "name": "stderr",
     "output_type": "stream",
     "text": [
      "/Users/rob/anaconda/lib/python3.5/site-packages/sklearn/externals/joblib/parallel.py:540: UserWarning: Multiprocessing-backed parallel loops cannot be nested, setting n_jobs=1\n",
      "  **self._backend_args)\n"
     ]
    },
    {
     "name": "stdout",
     "output_type": "stream",
     "text": [
      "[CV]  estimator__n_estimators=10, estimator__max_depth=12, estimator__min_samples_split=6, estimator__min_samples_leaf=4 -  12.8s\n",
      "[CV] estimator__n_estimators=20, estimator__max_depth=12, estimator__min_samples_split=6, estimator__min_samples_leaf=4 \n"
     ]
    },
    {
     "name": "stderr",
     "output_type": "stream",
     "text": [
      "/Users/rob/anaconda/lib/python3.5/site-packages/sklearn/externals/joblib/parallel.py:540: UserWarning: Multiprocessing-backed parallel loops cannot be nested, setting n_jobs=1\n",
      "  **self._backend_args)\n"
     ]
    },
    {
     "name": "stdout",
     "output_type": "stream",
     "text": [
      "[CV]  estimator__n_estimators=50, estimator__max_depth=12, estimator__min_samples_split=4, estimator__min_samples_leaf=4 -  59.2s\n",
      "[CV] estimator__n_estimators=20, estimator__max_depth=12, estimator__min_samples_split=6, estimator__min_samples_leaf=4 \n"
     ]
    },
    {
     "name": "stderr",
     "output_type": "stream",
     "text": [
      "/Users/rob/anaconda/lib/python3.5/site-packages/sklearn/externals/joblib/parallel.py:540: UserWarning: Multiprocessing-backed parallel loops cannot be nested, setting n_jobs=1\n",
      "  **self._backend_args)\n"
     ]
    },
    {
     "name": "stdout",
     "output_type": "stream",
     "text": [
      "[CV]  estimator__n_estimators=50, estimator__max_depth=12, estimator__min_samples_split=4, estimator__min_samples_leaf=4 -  59.6s\n",
      "[CV] estimator__n_estimators=20, estimator__max_depth=12, estimator__min_samples_split=6, estimator__min_samples_leaf=4 \n"
     ]
    },
    {
     "name": "stderr",
     "output_type": "stream",
     "text": [
      "/Users/rob/anaconda/lib/python3.5/site-packages/sklearn/externals/joblib/parallel.py:540: UserWarning: Multiprocessing-backed parallel loops cannot be nested, setting n_jobs=1\n",
      "  **self._backend_args)\n"
     ]
    },
    {
     "name": "stdout",
     "output_type": "stream",
     "text": [
      "[CV]  estimator__n_estimators=50, estimator__max_depth=12, estimator__min_samples_split=4, estimator__min_samples_leaf=4 - 1.0min\n",
      "[CV] estimator__n_estimators=30, estimator__max_depth=12, estimator__min_samples_split=6, estimator__min_samples_leaf=4 \n"
     ]
    },
    {
     "name": "stderr",
     "output_type": "stream",
     "text": [
      "/Users/rob/anaconda/lib/python3.5/site-packages/sklearn/externals/joblib/parallel.py:540: UserWarning: Multiprocessing-backed parallel loops cannot be nested, setting n_jobs=1\n",
      "  **self._backend_args)\n"
     ]
    },
    {
     "name": "stdout",
     "output_type": "stream",
     "text": [
      "[CV]  estimator__n_estimators=20, estimator__max_depth=12, estimator__min_samples_split=6, estimator__min_samples_leaf=4 -  26.7s\n",
      "[CV] estimator__n_estimators=30, estimator__max_depth=12, estimator__min_samples_split=6, estimator__min_samples_leaf=4 \n"
     ]
    },
    {
     "name": "stderr",
     "output_type": "stream",
     "text": [
      "/Users/rob/anaconda/lib/python3.5/site-packages/sklearn/externals/joblib/parallel.py:540: UserWarning: Multiprocessing-backed parallel loops cannot be nested, setting n_jobs=1\n",
      "  **self._backend_args)\n"
     ]
    },
    {
     "name": "stdout",
     "output_type": "stream",
     "text": [
      "[CV]  estimator__n_estimators=50, estimator__max_depth=12, estimator__min_samples_split=4, estimator__min_samples_leaf=4 - 1.0min\n",
      "[CV] estimator__n_estimators=30, estimator__max_depth=12, estimator__min_samples_split=6, estimator__min_samples_leaf=4 \n"
     ]
    },
    {
     "name": "stderr",
     "output_type": "stream",
     "text": [
      "/Users/rob/anaconda/lib/python3.5/site-packages/sklearn/externals/joblib/parallel.py:540: UserWarning: Multiprocessing-backed parallel loops cannot be nested, setting n_jobs=1\n",
      "  **self._backend_args)\n"
     ]
    },
    {
     "name": "stdout",
     "output_type": "stream",
     "text": [
      "[CV]  estimator__n_estimators=20, estimator__max_depth=12, estimator__min_samples_split=6, estimator__min_samples_leaf=4 -  25.6s\n",
      "[CV] estimator__n_estimators=30, estimator__max_depth=12, estimator__min_samples_split=6, estimator__min_samples_leaf=4 \n"
     ]
    },
    {
     "name": "stderr",
     "output_type": "stream",
     "text": [
      "/Users/rob/anaconda/lib/python3.5/site-packages/sklearn/externals/joblib/parallel.py:540: UserWarning: Multiprocessing-backed parallel loops cannot be nested, setting n_jobs=1\n",
      "  **self._backend_args)\n"
     ]
    },
    {
     "name": "stdout",
     "output_type": "stream",
     "text": [
      "[CV]  estimator__n_estimators=50, estimator__max_depth=12, estimator__min_samples_split=4, estimator__min_samples_leaf=4 - 1.0min\n",
      "[CV] estimator__n_estimators=30, estimator__max_depth=12, estimator__min_samples_split=6, estimator__min_samples_leaf=4 \n"
     ]
    },
    {
     "name": "stderr",
     "output_type": "stream",
     "text": [
      "/Users/rob/anaconda/lib/python3.5/site-packages/sklearn/externals/joblib/parallel.py:540: UserWarning: Multiprocessing-backed parallel loops cannot be nested, setting n_jobs=1\n",
      "  **self._backend_args)\n"
     ]
    },
    {
     "name": "stdout",
     "output_type": "stream",
     "text": [
      "[CV]  estimator__n_estimators=20, estimator__max_depth=12, estimator__min_samples_split=6, estimator__min_samples_leaf=4 -  25.4s\n",
      "[CV] estimator__n_estimators=40, estimator__max_depth=12, estimator__min_samples_split=6, estimator__min_samples_leaf=4 \n"
     ]
    },
    {
     "name": "stderr",
     "output_type": "stream",
     "text": [
      "/Users/rob/anaconda/lib/python3.5/site-packages/sklearn/externals/joblib/parallel.py:540: UserWarning: Multiprocessing-backed parallel loops cannot be nested, setting n_jobs=1\n",
      "  **self._backend_args)\n"
     ]
    },
    {
     "name": "stdout",
     "output_type": "stream",
     "text": [
      "[CV]  estimator__n_estimators=20, estimator__max_depth=12, estimator__min_samples_split=6, estimator__min_samples_leaf=4 -  25.1s\n",
      "[CV] estimator__n_estimators=40, estimator__max_depth=12, estimator__min_samples_split=6, estimator__min_samples_leaf=4 \n"
     ]
    },
    {
     "name": "stderr",
     "output_type": "stream",
     "text": [
      "/Users/rob/anaconda/lib/python3.5/site-packages/sklearn/externals/joblib/parallel.py:540: UserWarning: Multiprocessing-backed parallel loops cannot be nested, setting n_jobs=1\n",
      "  **self._backend_args)\n"
     ]
    },
    {
     "name": "stdout",
     "output_type": "stream",
     "text": [
      "[CV]  estimator__n_estimators=20, estimator__max_depth=12, estimator__min_samples_split=6, estimator__min_samples_leaf=4 -  24.5s\n",
      "[CV] estimator__n_estimators=40, estimator__max_depth=12, estimator__min_samples_split=6, estimator__min_samples_leaf=4 \n"
     ]
    },
    {
     "name": "stderr",
     "output_type": "stream",
     "text": [
      "/Users/rob/anaconda/lib/python3.5/site-packages/sklearn/externals/joblib/parallel.py:540: UserWarning: Multiprocessing-backed parallel loops cannot be nested, setting n_jobs=1\n",
      "  **self._backend_args)\n"
     ]
    },
    {
     "name": "stdout",
     "output_type": "stream",
     "text": [
      "[CV]  estimator__n_estimators=30, estimator__max_depth=12, estimator__min_samples_split=6, estimator__min_samples_leaf=4 -  35.3s\n",
      "[CV] estimator__n_estimators=40, estimator__max_depth=12, estimator__min_samples_split=6, estimator__min_samples_leaf=4 \n"
     ]
    },
    {
     "name": "stderr",
     "output_type": "stream",
     "text": [
      "/Users/rob/anaconda/lib/python3.5/site-packages/sklearn/externals/joblib/parallel.py:540: UserWarning: Multiprocessing-backed parallel loops cannot be nested, setting n_jobs=1\n",
      "  **self._backend_args)\n"
     ]
    },
    {
     "name": "stdout",
     "output_type": "stream",
     "text": [
      "[CV]  estimator__n_estimators=30, estimator__max_depth=12, estimator__min_samples_split=6, estimator__min_samples_leaf=4 -  34.2s\n",
      "[CV] estimator__n_estimators=40, estimator__max_depth=12, estimator__min_samples_split=6, estimator__min_samples_leaf=4 \n"
     ]
    },
    {
     "name": "stderr",
     "output_type": "stream",
     "text": [
      "/Users/rob/anaconda/lib/python3.5/site-packages/sklearn/externals/joblib/parallel.py:540: UserWarning: Multiprocessing-backed parallel loops cannot be nested, setting n_jobs=1\n",
      "  **self._backend_args)\n"
     ]
    },
    {
     "name": "stdout",
     "output_type": "stream",
     "text": [
      "[CV]  estimator__n_estimators=30, estimator__max_depth=12, estimator__min_samples_split=6, estimator__min_samples_leaf=4 -  34.6s\n",
      "[CV] estimator__n_estimators=50, estimator__max_depth=12, estimator__min_samples_split=6, estimator__min_samples_leaf=4 \n"
     ]
    },
    {
     "name": "stderr",
     "output_type": "stream",
     "text": [
      "/Users/rob/anaconda/lib/python3.5/site-packages/sklearn/externals/joblib/parallel.py:540: UserWarning: Multiprocessing-backed parallel loops cannot be nested, setting n_jobs=1\n",
      "  **self._backend_args)\n"
     ]
    },
    {
     "name": "stdout",
     "output_type": "stream",
     "text": [
      "[CV]  estimator__n_estimators=30, estimator__max_depth=12, estimator__min_samples_split=6, estimator__min_samples_leaf=4 -  34.5s\n",
      "[CV] estimator__n_estimators=50, estimator__max_depth=12, estimator__min_samples_split=6, estimator__min_samples_leaf=4 \n"
     ]
    },
    {
     "name": "stderr",
     "output_type": "stream",
     "text": [
      "/Users/rob/anaconda/lib/python3.5/site-packages/sklearn/externals/joblib/parallel.py:540: UserWarning: Multiprocessing-backed parallel loops cannot be nested, setting n_jobs=1\n",
      "  **self._backend_args)\n"
     ]
    },
    {
     "name": "stdout",
     "output_type": "stream",
     "text": [
      "[CV]  estimator__n_estimators=30, estimator__max_depth=12, estimator__min_samples_split=6, estimator__min_samples_leaf=4 -  34.3s\n",
      "[CV] estimator__n_estimators=50, estimator__max_depth=12, estimator__min_samples_split=6, estimator__min_samples_leaf=4 \n"
     ]
    },
    {
     "name": "stderr",
     "output_type": "stream",
     "text": [
      "/Users/rob/anaconda/lib/python3.5/site-packages/sklearn/externals/joblib/parallel.py:540: UserWarning: Multiprocessing-backed parallel loops cannot be nested, setting n_jobs=1\n",
      "  **self._backend_args)\n"
     ]
    },
    {
     "name": "stdout",
     "output_type": "stream",
     "text": [
      "[CV]  estimator__n_estimators=40, estimator__max_depth=12, estimator__min_samples_split=6, estimator__min_samples_leaf=4 -  45.7s\n",
      "[CV] estimator__n_estimators=50, estimator__max_depth=12, estimator__min_samples_split=6, estimator__min_samples_leaf=4 \n"
     ]
    },
    {
     "name": "stderr",
     "output_type": "stream",
     "text": [
      "/Users/rob/anaconda/lib/python3.5/site-packages/sklearn/externals/joblib/parallel.py:540: UserWarning: Multiprocessing-backed parallel loops cannot be nested, setting n_jobs=1\n",
      "  **self._backend_args)\n"
     ]
    },
    {
     "name": "stdout",
     "output_type": "stream",
     "text": [
      "[CV]  estimator__n_estimators=40, estimator__max_depth=12, estimator__min_samples_split=6, estimator__min_samples_leaf=4 -  45.8s\n",
      "[CV] estimator__n_estimators=50, estimator__max_depth=12, estimator__min_samples_split=6, estimator__min_samples_leaf=4 \n"
     ]
    },
    {
     "name": "stderr",
     "output_type": "stream",
     "text": [
      "/Users/rob/anaconda/lib/python3.5/site-packages/sklearn/externals/joblib/parallel.py:540: UserWarning: Multiprocessing-backed parallel loops cannot be nested, setting n_jobs=1\n",
      "  **self._backend_args)\n"
     ]
    },
    {
     "name": "stdout",
     "output_type": "stream",
     "text": [
      "[CV]  estimator__n_estimators=40, estimator__max_depth=12, estimator__min_samples_split=6, estimator__min_samples_leaf=4 -  46.1s\n",
      "[CV] estimator__n_estimators=10, estimator__max_depth=24, estimator__min_samples_split=2, estimator__min_samples_leaf=1 \n"
     ]
    },
    {
     "name": "stderr",
     "output_type": "stream",
     "text": [
      "/Users/rob/anaconda/lib/python3.5/site-packages/sklearn/externals/joblib/parallel.py:540: UserWarning: Multiprocessing-backed parallel loops cannot be nested, setting n_jobs=1\n",
      "  **self._backend_args)\n"
     ]
    },
    {
     "name": "stdout",
     "output_type": "stream",
     "text": [
      "[CV]  estimator__n_estimators=40, estimator__max_depth=12, estimator__min_samples_split=6, estimator__min_samples_leaf=4 -  45.9s\n",
      "[CV] estimator__n_estimators=10, estimator__max_depth=24, estimator__min_samples_split=2, estimator__min_samples_leaf=1 \n"
     ]
    },
    {
     "name": "stderr",
     "output_type": "stream",
     "text": [
      "/Users/rob/anaconda/lib/python3.5/site-packages/sklearn/externals/joblib/parallel.py:540: UserWarning: Multiprocessing-backed parallel loops cannot be nested, setting n_jobs=1\n",
      "  **self._backend_args)\n"
     ]
    },
    {
     "name": "stdout",
     "output_type": "stream",
     "text": [
      "[CV]  estimator__n_estimators=10, estimator__max_depth=24, estimator__min_samples_split=2, estimator__min_samples_leaf=1 -  16.4s\n",
      "[CV] estimator__n_estimators=10, estimator__max_depth=24, estimator__min_samples_split=2, estimator__min_samples_leaf=1 \n"
     ]
    },
    {
     "name": "stderr",
     "output_type": "stream",
     "text": [
      "/Users/rob/anaconda/lib/python3.5/site-packages/sklearn/externals/joblib/parallel.py:540: UserWarning: Multiprocessing-backed parallel loops cannot be nested, setting n_jobs=1\n",
      "  **self._backend_args)\n"
     ]
    },
    {
     "name": "stdout",
     "output_type": "stream",
     "text": [
      "[CV]  estimator__n_estimators=40, estimator__max_depth=12, estimator__min_samples_split=6, estimator__min_samples_leaf=4 -  45.7s\n",
      "[CV] estimator__n_estimators=10, estimator__max_depth=24, estimator__min_samples_split=2, estimator__min_samples_leaf=1 \n"
     ]
    },
    {
     "name": "stderr",
     "output_type": "stream",
     "text": [
      "/Users/rob/anaconda/lib/python3.5/site-packages/sklearn/externals/joblib/parallel.py:540: UserWarning: Multiprocessing-backed parallel loops cannot be nested, setting n_jobs=1\n",
      "  **self._backend_args)\n"
     ]
    },
    {
     "name": "stdout",
     "output_type": "stream",
     "text": [
      "[CV]  estimator__n_estimators=10, estimator__max_depth=24, estimator__min_samples_split=2, estimator__min_samples_leaf=1 -  17.6s\n",
      "[CV] estimator__n_estimators=10, estimator__max_depth=24, estimator__min_samples_split=2, estimator__min_samples_leaf=1 \n"
     ]
    },
    {
     "name": "stderr",
     "output_type": "stream",
     "text": [
      "/Users/rob/anaconda/lib/python3.5/site-packages/sklearn/externals/joblib/parallel.py:540: UserWarning: Multiprocessing-backed parallel loops cannot be nested, setting n_jobs=1\n",
      "  **self._backend_args)\n"
     ]
    },
    {
     "name": "stdout",
     "output_type": "stream",
     "text": [
      "[CV]  estimator__n_estimators=10, estimator__max_depth=24, estimator__min_samples_split=2, estimator__min_samples_leaf=1 -  18.1s\n",
      "[CV] estimator__n_estimators=20, estimator__max_depth=24, estimator__min_samples_split=2, estimator__min_samples_leaf=1 \n"
     ]
    },
    {
     "name": "stderr",
     "output_type": "stream",
     "text": [
      "/Users/rob/anaconda/lib/python3.5/site-packages/sklearn/externals/joblib/parallel.py:540: UserWarning: Multiprocessing-backed parallel loops cannot be nested, setting n_jobs=1\n",
      "  **self._backend_args)\n"
     ]
    },
    {
     "name": "stdout",
     "output_type": "stream",
     "text": [
      "[CV]  estimator__n_estimators=50, estimator__max_depth=12, estimator__min_samples_split=6, estimator__min_samples_leaf=4 -  57.4s\n",
      "[CV] estimator__n_estimators=20, estimator__max_depth=24, estimator__min_samples_split=2, estimator__min_samples_leaf=1 \n"
     ]
    },
    {
     "name": "stderr",
     "output_type": "stream",
     "text": [
      "/Users/rob/anaconda/lib/python3.5/site-packages/sklearn/externals/joblib/parallel.py:540: UserWarning: Multiprocessing-backed parallel loops cannot be nested, setting n_jobs=1\n",
      "  **self._backend_args)\n"
     ]
    },
    {
     "name": "stdout",
     "output_type": "stream",
     "text": [
      "[CV]  estimator__n_estimators=10, estimator__max_depth=24, estimator__min_samples_split=2, estimator__min_samples_leaf=1 -  18.0s\n",
      "[CV] estimator__n_estimators=20, estimator__max_depth=24, estimator__min_samples_split=2, estimator__min_samples_leaf=1 \n"
     ]
    },
    {
     "name": "stderr",
     "output_type": "stream",
     "text": [
      "/Users/rob/anaconda/lib/python3.5/site-packages/sklearn/externals/joblib/parallel.py:540: UserWarning: Multiprocessing-backed parallel loops cannot be nested, setting n_jobs=1\n",
      "  **self._backend_args)\n"
     ]
    },
    {
     "name": "stdout",
     "output_type": "stream",
     "text": [
      "[CV]  estimator__n_estimators=50, estimator__max_depth=12, estimator__min_samples_split=6, estimator__min_samples_leaf=4 -  57.4s\n",
      "[CV] estimator__n_estimators=20, estimator__max_depth=24, estimator__min_samples_split=2, estimator__min_samples_leaf=1 \n"
     ]
    },
    {
     "name": "stderr",
     "output_type": "stream",
     "text": [
      "/Users/rob/anaconda/lib/python3.5/site-packages/sklearn/externals/joblib/parallel.py:540: UserWarning: Multiprocessing-backed parallel loops cannot be nested, setting n_jobs=1\n",
      "  **self._backend_args)\n"
     ]
    },
    {
     "name": "stdout",
     "output_type": "stream",
     "text": [
      "[CV]  estimator__n_estimators=50, estimator__max_depth=12, estimator__min_samples_split=6, estimator__min_samples_leaf=4 -  58.0s\n",
      "[CV] estimator__n_estimators=20, estimator__max_depth=24, estimator__min_samples_split=2, estimator__min_samples_leaf=1 \n"
     ]
    },
    {
     "name": "stderr",
     "output_type": "stream",
     "text": [
      "/Users/rob/anaconda/lib/python3.5/site-packages/sklearn/externals/joblib/parallel.py:540: UserWarning: Multiprocessing-backed parallel loops cannot be nested, setting n_jobs=1\n",
      "  **self._backend_args)\n"
     ]
    },
    {
     "name": "stdout",
     "output_type": "stream",
     "text": [
      "[CV]  estimator__n_estimators=10, estimator__max_depth=24, estimator__min_samples_split=2, estimator__min_samples_leaf=1 -  17.6s\n",
      "[CV] estimator__n_estimators=30, estimator__max_depth=24, estimator__min_samples_split=2, estimator__min_samples_leaf=1 \n"
     ]
    },
    {
     "name": "stderr",
     "output_type": "stream",
     "text": [
      "/Users/rob/anaconda/lib/python3.5/site-packages/sklearn/externals/joblib/parallel.py:540: UserWarning: Multiprocessing-backed parallel loops cannot be nested, setting n_jobs=1\n",
      "  **self._backend_args)\n"
     ]
    },
    {
     "name": "stdout",
     "output_type": "stream",
     "text": [
      "[CV]  estimator__n_estimators=50, estimator__max_depth=12, estimator__min_samples_split=6, estimator__min_samples_leaf=4 -  58.4s\n",
      "[CV] estimator__n_estimators=30, estimator__max_depth=24, estimator__min_samples_split=2, estimator__min_samples_leaf=1 \n"
     ]
    },
    {
     "name": "stderr",
     "output_type": "stream",
     "text": [
      "/Users/rob/anaconda/lib/python3.5/site-packages/sklearn/externals/joblib/parallel.py:540: UserWarning: Multiprocessing-backed parallel loops cannot be nested, setting n_jobs=1\n",
      "  **self._backend_args)\n"
     ]
    },
    {
     "name": "stdout",
     "output_type": "stream",
     "text": [
      "[CV]  estimator__n_estimators=50, estimator__max_depth=12, estimator__min_samples_split=6, estimator__min_samples_leaf=4 -  58.1s\n",
      "[CV] estimator__n_estimators=30, estimator__max_depth=24, estimator__min_samples_split=2, estimator__min_samples_leaf=1 \n"
     ]
    },
    {
     "name": "stderr",
     "output_type": "stream",
     "text": [
      "/Users/rob/anaconda/lib/python3.5/site-packages/sklearn/externals/joblib/parallel.py:540: UserWarning: Multiprocessing-backed parallel loops cannot be nested, setting n_jobs=1\n",
      "  **self._backend_args)\n"
     ]
    },
    {
     "name": "stdout",
     "output_type": "stream",
     "text": [
      "[CV]  estimator__n_estimators=20, estimator__max_depth=24, estimator__min_samples_split=2, estimator__min_samples_leaf=1 -  34.4s\n",
      "[CV] estimator__n_estimators=30, estimator__max_depth=24, estimator__min_samples_split=2, estimator__min_samples_leaf=1 \n"
     ]
    },
    {
     "name": "stderr",
     "output_type": "stream",
     "text": [
      "/Users/rob/anaconda/lib/python3.5/site-packages/sklearn/externals/joblib/parallel.py:540: UserWarning: Multiprocessing-backed parallel loops cannot be nested, setting n_jobs=1\n",
      "  **self._backend_args)\n"
     ]
    },
    {
     "name": "stdout",
     "output_type": "stream",
     "text": [
      "[CV]  estimator__n_estimators=20, estimator__max_depth=24, estimator__min_samples_split=2, estimator__min_samples_leaf=1 -  34.2s\n",
      "[CV] estimator__n_estimators=30, estimator__max_depth=24, estimator__min_samples_split=2, estimator__min_samples_leaf=1 \n"
     ]
    },
    {
     "name": "stderr",
     "output_type": "stream",
     "text": [
      "/Users/rob/anaconda/lib/python3.5/site-packages/sklearn/externals/joblib/parallel.py:540: UserWarning: Multiprocessing-backed parallel loops cannot be nested, setting n_jobs=1\n",
      "  **self._backend_args)\n"
     ]
    },
    {
     "name": "stdout",
     "output_type": "stream",
     "text": [
      "[CV]  estimator__n_estimators=20, estimator__max_depth=24, estimator__min_samples_split=2, estimator__min_samples_leaf=1 -  34.9s\n",
      "[CV] estimator__n_estimators=40, estimator__max_depth=24, estimator__min_samples_split=2, estimator__min_samples_leaf=1 \n"
     ]
    },
    {
     "name": "stderr",
     "output_type": "stream",
     "text": [
      "/Users/rob/anaconda/lib/python3.5/site-packages/sklearn/externals/joblib/parallel.py:540: UserWarning: Multiprocessing-backed parallel loops cannot be nested, setting n_jobs=1\n",
      "  **self._backend_args)\n"
     ]
    },
    {
     "name": "stdout",
     "output_type": "stream",
     "text": [
      "[CV]  estimator__n_estimators=20, estimator__max_depth=24, estimator__min_samples_split=2, estimator__min_samples_leaf=1 -  34.5s\n",
      "[CV] estimator__n_estimators=40, estimator__max_depth=24, estimator__min_samples_split=2, estimator__min_samples_leaf=1 \n"
     ]
    },
    {
     "name": "stderr",
     "output_type": "stream",
     "text": [
      "/Users/rob/anaconda/lib/python3.5/site-packages/sklearn/externals/joblib/parallel.py:540: UserWarning: Multiprocessing-backed parallel loops cannot be nested, setting n_jobs=1\n",
      "  **self._backend_args)\n"
     ]
    },
    {
     "name": "stdout",
     "output_type": "stream",
     "text": [
      "[CV]  estimator__n_estimators=20, estimator__max_depth=24, estimator__min_samples_split=2, estimator__min_samples_leaf=1 -  34.3s\n",
      "[CV] estimator__n_estimators=40, estimator__max_depth=24, estimator__min_samples_split=2, estimator__min_samples_leaf=1 \n"
     ]
    },
    {
     "name": "stderr",
     "output_type": "stream",
     "text": [
      "/Users/rob/anaconda/lib/python3.5/site-packages/sklearn/externals/joblib/parallel.py:540: UserWarning: Multiprocessing-backed parallel loops cannot be nested, setting n_jobs=1\n",
      "  **self._backend_args)\n"
     ]
    },
    {
     "name": "stdout",
     "output_type": "stream",
     "text": [
      "[CV]  estimator__n_estimators=30, estimator__max_depth=24, estimator__min_samples_split=2, estimator__min_samples_leaf=1 -  51.2s\n",
      "[CV] estimator__n_estimators=40, estimator__max_depth=24, estimator__min_samples_split=2, estimator__min_samples_leaf=1 \n"
     ]
    },
    {
     "name": "stderr",
     "output_type": "stream",
     "text": [
      "/Users/rob/anaconda/lib/python3.5/site-packages/sklearn/externals/joblib/parallel.py:540: UserWarning: Multiprocessing-backed parallel loops cannot be nested, setting n_jobs=1\n",
      "  **self._backend_args)\n"
     ]
    },
    {
     "name": "stdout",
     "output_type": "stream",
     "text": [
      "[CV]  estimator__n_estimators=30, estimator__max_depth=24, estimator__min_samples_split=2, estimator__min_samples_leaf=1 -  50.2s\n",
      "[CV] estimator__n_estimators=40, estimator__max_depth=24, estimator__min_samples_split=2, estimator__min_samples_leaf=1 \n"
     ]
    },
    {
     "name": "stderr",
     "output_type": "stream",
     "text": [
      "/Users/rob/anaconda/lib/python3.5/site-packages/sklearn/externals/joblib/parallel.py:540: UserWarning: Multiprocessing-backed parallel loops cannot be nested, setting n_jobs=1\n",
      "  **self._backend_args)\n"
     ]
    },
    {
     "name": "stdout",
     "output_type": "stream",
     "text": [
      "[CV]  estimator__n_estimators=30, estimator__max_depth=24, estimator__min_samples_split=2, estimator__min_samples_leaf=1 -  50.6s\n",
      "[CV] estimator__n_estimators=50, estimator__max_depth=24, estimator__min_samples_split=2, estimator__min_samples_leaf=1 \n"
     ]
    },
    {
     "name": "stderr",
     "output_type": "stream",
     "text": [
      "/Users/rob/anaconda/lib/python3.5/site-packages/sklearn/externals/joblib/parallel.py:540: UserWarning: Multiprocessing-backed parallel loops cannot be nested, setting n_jobs=1\n",
      "  **self._backend_args)\n"
     ]
    },
    {
     "name": "stdout",
     "output_type": "stream",
     "text": [
      "[CV]  estimator__n_estimators=30, estimator__max_depth=24, estimator__min_samples_split=2, estimator__min_samples_leaf=1 -  50.3s\n",
      "[CV] estimator__n_estimators=50, estimator__max_depth=24, estimator__min_samples_split=2, estimator__min_samples_leaf=1 \n"
     ]
    },
    {
     "name": "stderr",
     "output_type": "stream",
     "text": [
      "/Users/rob/anaconda/lib/python3.5/site-packages/sklearn/externals/joblib/parallel.py:540: UserWarning: Multiprocessing-backed parallel loops cannot be nested, setting n_jobs=1\n",
      "  **self._backend_args)\n"
     ]
    },
    {
     "name": "stdout",
     "output_type": "stream",
     "text": [
      "[CV]  estimator__n_estimators=30, estimator__max_depth=24, estimator__min_samples_split=2, estimator__min_samples_leaf=1 -  49.8s\n",
      "[CV] estimator__n_estimators=50, estimator__max_depth=24, estimator__min_samples_split=2, estimator__min_samples_leaf=1 \n"
     ]
    },
    {
     "name": "stderr",
     "output_type": "stream",
     "text": [
      "/Users/rob/anaconda/lib/python3.5/site-packages/sklearn/externals/joblib/parallel.py:540: UserWarning: Multiprocessing-backed parallel loops cannot be nested, setting n_jobs=1\n",
      "  **self._backend_args)\n"
     ]
    },
    {
     "name": "stdout",
     "output_type": "stream",
     "text": [
      "[CV]  estimator__n_estimators=40, estimator__max_depth=24, estimator__min_samples_split=2, estimator__min_samples_leaf=1 - 1.1min\n",
      "[CV] estimator__n_estimators=50, estimator__max_depth=24, estimator__min_samples_split=2, estimator__min_samples_leaf=1 \n"
     ]
    },
    {
     "name": "stderr",
     "output_type": "stream",
     "text": [
      "/Users/rob/anaconda/lib/python3.5/site-packages/sklearn/externals/joblib/parallel.py:540: UserWarning: Multiprocessing-backed parallel loops cannot be nested, setting n_jobs=1\n",
      "  **self._backend_args)\n"
     ]
    },
    {
     "name": "stdout",
     "output_type": "stream",
     "text": [
      "[CV]  estimator__n_estimators=40, estimator__max_depth=24, estimator__min_samples_split=2, estimator__min_samples_leaf=1 - 1.1min\n",
      "[CV] estimator__n_estimators=50, estimator__max_depth=24, estimator__min_samples_split=2, estimator__min_samples_leaf=1 \n"
     ]
    },
    {
     "name": "stderr",
     "output_type": "stream",
     "text": [
      "/Users/rob/anaconda/lib/python3.5/site-packages/sklearn/externals/joblib/parallel.py:540: UserWarning: Multiprocessing-backed parallel loops cannot be nested, setting n_jobs=1\n",
      "  **self._backend_args)\n"
     ]
    },
    {
     "name": "stdout",
     "output_type": "stream",
     "text": [
      "[CV]  estimator__n_estimators=40, estimator__max_depth=24, estimator__min_samples_split=2, estimator__min_samples_leaf=1 - 1.1min\n",
      "[CV] estimator__n_estimators=10, estimator__max_depth=24, estimator__min_samples_split=4, estimator__min_samples_leaf=1 \n"
     ]
    },
    {
     "name": "stderr",
     "output_type": "stream",
     "text": [
      "/Users/rob/anaconda/lib/python3.5/site-packages/sklearn/externals/joblib/parallel.py:540: UserWarning: Multiprocessing-backed parallel loops cannot be nested, setting n_jobs=1\n",
      "  **self._backend_args)\n"
     ]
    },
    {
     "name": "stdout",
     "output_type": "stream",
     "text": [
      "[CV]  estimator__n_estimators=10, estimator__max_depth=24, estimator__min_samples_split=4, estimator__min_samples_leaf=1 -  17.2s\n",
      "[CV] estimator__n_estimators=10, estimator__max_depth=24, estimator__min_samples_split=4, estimator__min_samples_leaf=1 \n"
     ]
    },
    {
     "name": "stderr",
     "output_type": "stream",
     "text": [
      "/Users/rob/anaconda/lib/python3.5/site-packages/sklearn/externals/joblib/parallel.py:540: UserWarning: Multiprocessing-backed parallel loops cannot be nested, setting n_jobs=1\n",
      "  **self._backend_args)\n"
     ]
    },
    {
     "name": "stdout",
     "output_type": "stream",
     "text": [
      "[CV]  estimator__n_estimators=40, estimator__max_depth=24, estimator__min_samples_split=2, estimator__min_samples_leaf=1 - 1.1min\n",
      "[CV] estimator__n_estimators=10, estimator__max_depth=24, estimator__min_samples_split=4, estimator__min_samples_leaf=1 \n"
     ]
    },
    {
     "name": "stderr",
     "output_type": "stream",
     "text": [
      "/Users/rob/anaconda/lib/python3.5/site-packages/sklearn/externals/joblib/parallel.py:540: UserWarning: Multiprocessing-backed parallel loops cannot be nested, setting n_jobs=1\n",
      "  **self._backend_args)\n"
     ]
    },
    {
     "name": "stdout",
     "output_type": "stream",
     "text": [
      "[CV]  estimator__n_estimators=40, estimator__max_depth=24, estimator__min_samples_split=2, estimator__min_samples_leaf=1 - 1.1min\n",
      "[CV] estimator__n_estimators=10, estimator__max_depth=24, estimator__min_samples_split=4, estimator__min_samples_leaf=1 \n"
     ]
    },
    {
     "name": "stderr",
     "output_type": "stream",
     "text": [
      "/Users/rob/anaconda/lib/python3.5/site-packages/sklearn/externals/joblib/parallel.py:540: UserWarning: Multiprocessing-backed parallel loops cannot be nested, setting n_jobs=1\n",
      "  **self._backend_args)\n"
     ]
    },
    {
     "name": "stdout",
     "output_type": "stream",
     "text": [
      "[CV]  estimator__n_estimators=10, estimator__max_depth=24, estimator__min_samples_split=4, estimator__min_samples_leaf=1 -  18.7s\n",
      "[CV] estimator__n_estimators=10, estimator__max_depth=24, estimator__min_samples_split=4, estimator__min_samples_leaf=1 \n"
     ]
    },
    {
     "name": "stderr",
     "output_type": "stream",
     "text": [
      "/Users/rob/anaconda/lib/python3.5/site-packages/sklearn/externals/joblib/parallel.py:540: UserWarning: Multiprocessing-backed parallel loops cannot be nested, setting n_jobs=1\n",
      "  **self._backend_args)\n"
     ]
    },
    {
     "name": "stdout",
     "output_type": "stream",
     "text": [
      "[CV]  estimator__n_estimators=10, estimator__max_depth=24, estimator__min_samples_split=4, estimator__min_samples_leaf=1 -  18.2s\n",
      "[CV] estimator__n_estimators=20, estimator__max_depth=24, estimator__min_samples_split=4, estimator__min_samples_leaf=1 \n"
     ]
    },
    {
     "name": "stderr",
     "output_type": "stream",
     "text": [
      "/Users/rob/anaconda/lib/python3.5/site-packages/sklearn/externals/joblib/parallel.py:540: UserWarning: Multiprocessing-backed parallel loops cannot be nested, setting n_jobs=1\n",
      "  **self._backend_args)\n"
     ]
    },
    {
     "name": "stdout",
     "output_type": "stream",
     "text": [
      "[CV]  estimator__n_estimators=10, estimator__max_depth=24, estimator__min_samples_split=4, estimator__min_samples_leaf=1 -  17.7s\n",
      "[CV] estimator__n_estimators=20, estimator__max_depth=24, estimator__min_samples_split=4, estimator__min_samples_leaf=1 \n"
     ]
    },
    {
     "name": "stderr",
     "output_type": "stream",
     "text": [
      "/Users/rob/anaconda/lib/python3.5/site-packages/sklearn/externals/joblib/parallel.py:540: UserWarning: Multiprocessing-backed parallel loops cannot be nested, setting n_jobs=1\n",
      "  **self._backend_args)\n"
     ]
    },
    {
     "name": "stdout",
     "output_type": "stream",
     "text": [
      "[CV]  estimator__n_estimators=50, estimator__max_depth=24, estimator__min_samples_split=2, estimator__min_samples_leaf=1 - 1.4min\n",
      "[CV] estimator__n_estimators=20, estimator__max_depth=24, estimator__min_samples_split=4, estimator__min_samples_leaf=1 \n"
     ]
    },
    {
     "name": "stderr",
     "output_type": "stream",
     "text": [
      "/Users/rob/anaconda/lib/python3.5/site-packages/sklearn/externals/joblib/parallel.py:540: UserWarning: Multiprocessing-backed parallel loops cannot be nested, setting n_jobs=1\n",
      "  **self._backend_args)\n"
     ]
    },
    {
     "name": "stdout",
     "output_type": "stream",
     "text": [
      "[CV]  estimator__n_estimators=10, estimator__max_depth=24, estimator__min_samples_split=4, estimator__min_samples_leaf=1 -  16.8s\n",
      "[CV] estimator__n_estimators=20, estimator__max_depth=24, estimator__min_samples_split=4, estimator__min_samples_leaf=1 \n"
     ]
    },
    {
     "name": "stderr",
     "output_type": "stream",
     "text": [
      "/Users/rob/anaconda/lib/python3.5/site-packages/sklearn/externals/joblib/parallel.py:540: UserWarning: Multiprocessing-backed parallel loops cannot be nested, setting n_jobs=1\n",
      "  **self._backend_args)\n"
     ]
    },
    {
     "name": "stdout",
     "output_type": "stream",
     "text": [
      "[CV]  estimator__n_estimators=50, estimator__max_depth=24, estimator__min_samples_split=2, estimator__min_samples_leaf=1 - 1.4min\n",
      "[CV] estimator__n_estimators=20, estimator__max_depth=24, estimator__min_samples_split=4, estimator__min_samples_leaf=1 \n"
     ]
    },
    {
     "name": "stderr",
     "output_type": "stream",
     "text": [
      "/Users/rob/anaconda/lib/python3.5/site-packages/sklearn/externals/joblib/parallel.py:540: UserWarning: Multiprocessing-backed parallel loops cannot be nested, setting n_jobs=1\n",
      "  **self._backend_args)\n"
     ]
    },
    {
     "name": "stdout",
     "output_type": "stream",
     "text": [
      "[CV]  estimator__n_estimators=50, estimator__max_depth=24, estimator__min_samples_split=2, estimator__min_samples_leaf=1 - 1.4min\n",
      "[CV] estimator__n_estimators=30, estimator__max_depth=24, estimator__min_samples_split=4, estimator__min_samples_leaf=1 \n"
     ]
    },
    {
     "name": "stderr",
     "output_type": "stream",
     "text": [
      "/Users/rob/anaconda/lib/python3.5/site-packages/sklearn/externals/joblib/parallel.py:540: UserWarning: Multiprocessing-backed parallel loops cannot be nested, setting n_jobs=1\n",
      "  **self._backend_args)\n"
     ]
    },
    {
     "name": "stdout",
     "output_type": "stream",
     "text": [
      "[CV]  estimator__n_estimators=20, estimator__max_depth=24, estimator__min_samples_split=4, estimator__min_samples_leaf=1 -  32.6s\n",
      "[CV] estimator__n_estimators=30, estimator__max_depth=24, estimator__min_samples_split=4, estimator__min_samples_leaf=1 \n"
     ]
    },
    {
     "name": "stderr",
     "output_type": "stream",
     "text": [
      "/Users/rob/anaconda/lib/python3.5/site-packages/sklearn/externals/joblib/parallel.py:540: UserWarning: Multiprocessing-backed parallel loops cannot be nested, setting n_jobs=1\n",
      "  **self._backend_args)\n"
     ]
    },
    {
     "name": "stdout",
     "output_type": "stream",
     "text": [
      "[CV]  estimator__n_estimators=20, estimator__max_depth=24, estimator__min_samples_split=4, estimator__min_samples_leaf=1 -  32.4s\n",
      "[CV] estimator__n_estimators=30, estimator__max_depth=24, estimator__min_samples_split=4, estimator__min_samples_leaf=1 \n"
     ]
    },
    {
     "name": "stderr",
     "output_type": "stream",
     "text": [
      "/Users/rob/anaconda/lib/python3.5/site-packages/sklearn/externals/joblib/parallel.py:540: UserWarning: Multiprocessing-backed parallel loops cannot be nested, setting n_jobs=1\n",
      "  **self._backend_args)\n"
     ]
    },
    {
     "name": "stdout",
     "output_type": "stream",
     "text": [
      "[CV]  estimator__n_estimators=50, estimator__max_depth=24, estimator__min_samples_split=2, estimator__min_samples_leaf=1 - 1.4min\n",
      "[CV] estimator__n_estimators=30, estimator__max_depth=24, estimator__min_samples_split=4, estimator__min_samples_leaf=1 \n"
     ]
    },
    {
     "name": "stderr",
     "output_type": "stream",
     "text": [
      "/Users/rob/anaconda/lib/python3.5/site-packages/sklearn/externals/joblib/parallel.py:540: UserWarning: Multiprocessing-backed parallel loops cannot be nested, setting n_jobs=1\n",
      "  **self._backend_args)\n"
     ]
    },
    {
     "name": "stdout",
     "output_type": "stream",
     "text": [
      "[CV]  estimator__n_estimators=20, estimator__max_depth=24, estimator__min_samples_split=4, estimator__min_samples_leaf=1 -  32.8s\n",
      "[CV] estimator__n_estimators=30, estimator__max_depth=24, estimator__min_samples_split=4, estimator__min_samples_leaf=1 \n"
     ]
    },
    {
     "name": "stderr",
     "output_type": "stream",
     "text": [
      "/Users/rob/anaconda/lib/python3.5/site-packages/sklearn/externals/joblib/parallel.py:540: UserWarning: Multiprocessing-backed parallel loops cannot be nested, setting n_jobs=1\n",
      "  **self._backend_args)\n"
     ]
    },
    {
     "name": "stdout",
     "output_type": "stream",
     "text": [
      "[CV]  estimator__n_estimators=50, estimator__max_depth=24, estimator__min_samples_split=2, estimator__min_samples_leaf=1 - 1.4min\n",
      "[CV] estimator__n_estimators=40, estimator__max_depth=24, estimator__min_samples_split=4, estimator__min_samples_leaf=1 \n"
     ]
    },
    {
     "name": "stderr",
     "output_type": "stream",
     "text": [
      "/Users/rob/anaconda/lib/python3.5/site-packages/sklearn/externals/joblib/parallel.py:540: UserWarning: Multiprocessing-backed parallel loops cannot be nested, setting n_jobs=1\n",
      "  **self._backend_args)\n"
     ]
    },
    {
     "name": "stdout",
     "output_type": "stream",
     "text": [
      "[CV]  estimator__n_estimators=20, estimator__max_depth=24, estimator__min_samples_split=4, estimator__min_samples_leaf=1 -  32.8s\n",
      "[CV] estimator__n_estimators=40, estimator__max_depth=24, estimator__min_samples_split=4, estimator__min_samples_leaf=1 \n"
     ]
    },
    {
     "name": "stderr",
     "output_type": "stream",
     "text": [
      "/Users/rob/anaconda/lib/python3.5/site-packages/sklearn/externals/joblib/parallel.py:540: UserWarning: Multiprocessing-backed parallel loops cannot be nested, setting n_jobs=1\n",
      "  **self._backend_args)\n"
     ]
    },
    {
     "name": "stdout",
     "output_type": "stream",
     "text": [
      "[CV]  estimator__n_estimators=20, estimator__max_depth=24, estimator__min_samples_split=4, estimator__min_samples_leaf=1 -  33.0s\n",
      "[CV] estimator__n_estimators=40, estimator__max_depth=24, estimator__min_samples_split=4, estimator__min_samples_leaf=1 \n"
     ]
    },
    {
     "name": "stderr",
     "output_type": "stream",
     "text": [
      "/Users/rob/anaconda/lib/python3.5/site-packages/sklearn/externals/joblib/parallel.py:540: UserWarning: Multiprocessing-backed parallel loops cannot be nested, setting n_jobs=1\n",
      "  **self._backend_args)\n"
     ]
    },
    {
     "name": "stdout",
     "output_type": "stream",
     "text": [
      "[CV]  estimator__n_estimators=30, estimator__max_depth=24, estimator__min_samples_split=4, estimator__min_samples_leaf=1 -  49.1s\n",
      "[CV] estimator__n_estimators=40, estimator__max_depth=24, estimator__min_samples_split=4, estimator__min_samples_leaf=1 \n"
     ]
    },
    {
     "name": "stderr",
     "output_type": "stream",
     "text": [
      "/Users/rob/anaconda/lib/python3.5/site-packages/sklearn/externals/joblib/parallel.py:540: UserWarning: Multiprocessing-backed parallel loops cannot be nested, setting n_jobs=1\n",
      "  **self._backend_args)\n"
     ]
    },
    {
     "name": "stdout",
     "output_type": "stream",
     "text": [
      "[CV]  estimator__n_estimators=30, estimator__max_depth=24, estimator__min_samples_split=4, estimator__min_samples_leaf=1 -  48.7s\n",
      "[CV] estimator__n_estimators=40, estimator__max_depth=24, estimator__min_samples_split=4, estimator__min_samples_leaf=1 \n"
     ]
    },
    {
     "name": "stderr",
     "output_type": "stream",
     "text": [
      "/Users/rob/anaconda/lib/python3.5/site-packages/sklearn/externals/joblib/parallel.py:540: UserWarning: Multiprocessing-backed parallel loops cannot be nested, setting n_jobs=1\n",
      "  **self._backend_args)\n"
     ]
    },
    {
     "name": "stdout",
     "output_type": "stream",
     "text": [
      "[CV]  estimator__n_estimators=30, estimator__max_depth=24, estimator__min_samples_split=4, estimator__min_samples_leaf=1 -  49.3s\n",
      "[CV] estimator__n_estimators=50, estimator__max_depth=24, estimator__min_samples_split=4, estimator__min_samples_leaf=1 \n"
     ]
    },
    {
     "name": "stderr",
     "output_type": "stream",
     "text": [
      "/Users/rob/anaconda/lib/python3.5/site-packages/sklearn/externals/joblib/parallel.py:540: UserWarning: Multiprocessing-backed parallel loops cannot be nested, setting n_jobs=1\n",
      "  **self._backend_args)\n"
     ]
    },
    {
     "name": "stdout",
     "output_type": "stream",
     "text": [
      "[CV]  estimator__n_estimators=30, estimator__max_depth=24, estimator__min_samples_split=4, estimator__min_samples_leaf=1 -  49.1s\n",
      "[CV]  estimator__n_estimators=30, estimator__max_depth=24, estimator__min_samples_split=4, estimator__min_samples_leaf=1 -  49.4s\n",
      "[CV] estimator__n_estimators=50, estimator__max_depth=24, estimator__min_samples_split=4, estimator__min_samples_leaf=1 \n",
      "[CV] estimator__n_estimators=50, estimator__max_depth=24, estimator__min_samples_split=4, estimator__min_samples_leaf=1 \n"
     ]
    },
    {
     "name": "stderr",
     "output_type": "stream",
     "text": [
      "/Users/rob/anaconda/lib/python3.5/site-packages/sklearn/externals/joblib/parallel.py:540: UserWarning: Multiprocessing-backed parallel loops cannot be nested, setting n_jobs=1\n",
      "  **self._backend_args)\n",
      "/Users/rob/anaconda/lib/python3.5/site-packages/sklearn/externals/joblib/parallel.py:540: UserWarning: Multiprocessing-backed parallel loops cannot be nested, setting n_jobs=1\n",
      "  **self._backend_args)\n"
     ]
    },
    {
     "name": "stdout",
     "output_type": "stream",
     "text": [
      "[CV]  estimator__n_estimators=40, estimator__max_depth=24, estimator__min_samples_split=4, estimator__min_samples_leaf=1 - 1.1min\n",
      "[CV] estimator__n_estimators=50, estimator__max_depth=24, estimator__min_samples_split=4, estimator__min_samples_leaf=1 \n"
     ]
    },
    {
     "name": "stderr",
     "output_type": "stream",
     "text": [
      "/Users/rob/anaconda/lib/python3.5/site-packages/sklearn/externals/joblib/parallel.py:540: UserWarning: Multiprocessing-backed parallel loops cannot be nested, setting n_jobs=1\n",
      "  **self._backend_args)\n"
     ]
    },
    {
     "name": "stdout",
     "output_type": "stream",
     "text": [
      "[CV]  estimator__n_estimators=40, estimator__max_depth=24, estimator__min_samples_split=4, estimator__min_samples_leaf=1 - 1.1min\n",
      "[CV] estimator__n_estimators=50, estimator__max_depth=24, estimator__min_samples_split=4, estimator__min_samples_leaf=1 \n"
     ]
    },
    {
     "name": "stderr",
     "output_type": "stream",
     "text": [
      "/Users/rob/anaconda/lib/python3.5/site-packages/sklearn/externals/joblib/parallel.py:540: UserWarning: Multiprocessing-backed parallel loops cannot be nested, setting n_jobs=1\n",
      "  **self._backend_args)\n"
     ]
    },
    {
     "name": "stdout",
     "output_type": "stream",
     "text": [
      "[CV]  estimator__n_estimators=40, estimator__max_depth=24, estimator__min_samples_split=4, estimator__min_samples_leaf=1 - 1.1min\n",
      "[CV] estimator__n_estimators=10, estimator__max_depth=24, estimator__min_samples_split=6, estimator__min_samples_leaf=1 \n"
     ]
    },
    {
     "name": "stderr",
     "output_type": "stream",
     "text": [
      "/Users/rob/anaconda/lib/python3.5/site-packages/sklearn/externals/joblib/parallel.py:540: UserWarning: Multiprocessing-backed parallel loops cannot be nested, setting n_jobs=1\n",
      "  **self._backend_args)\n"
     ]
    },
    {
     "name": "stdout",
     "output_type": "stream",
     "text": [
      "[CV]  estimator__n_estimators=10, estimator__max_depth=24, estimator__min_samples_split=6, estimator__min_samples_leaf=1 -  16.4s\n",
      "[CV] estimator__n_estimators=10, estimator__max_depth=24, estimator__min_samples_split=6, estimator__min_samples_leaf=1 \n"
     ]
    },
    {
     "name": "stderr",
     "output_type": "stream",
     "text": [
      "/Users/rob/anaconda/lib/python3.5/site-packages/sklearn/externals/joblib/parallel.py:540: UserWarning: Multiprocessing-backed parallel loops cannot be nested, setting n_jobs=1\n",
      "  **self._backend_args)\n"
     ]
    },
    {
     "name": "stdout",
     "output_type": "stream",
     "text": [
      "[CV]  estimator__n_estimators=40, estimator__max_depth=24, estimator__min_samples_split=4, estimator__min_samples_leaf=1 - 1.1min\n",
      "[CV] estimator__n_estimators=10, estimator__max_depth=24, estimator__min_samples_split=6, estimator__min_samples_leaf=1 \n"
     ]
    },
    {
     "name": "stderr",
     "output_type": "stream",
     "text": [
      "/Users/rob/anaconda/lib/python3.5/site-packages/sklearn/externals/joblib/parallel.py:540: UserWarning: Multiprocessing-backed parallel loops cannot be nested, setting n_jobs=1\n",
      "  **self._backend_args)\n"
     ]
    },
    {
     "name": "stdout",
     "output_type": "stream",
     "text": [
      "[CV]  estimator__n_estimators=40, estimator__max_depth=24, estimator__min_samples_split=4, estimator__min_samples_leaf=1 - 1.1min\n",
      "[CV] estimator__n_estimators=10, estimator__max_depth=24, estimator__min_samples_split=6, estimator__min_samples_leaf=1 \n"
     ]
    },
    {
     "name": "stderr",
     "output_type": "stream",
     "text": [
      "/Users/rob/anaconda/lib/python3.5/site-packages/sklearn/externals/joblib/parallel.py:540: UserWarning: Multiprocessing-backed parallel loops cannot be nested, setting n_jobs=1\n",
      "  **self._backend_args)\n"
     ]
    },
    {
     "name": "stdout",
     "output_type": "stream",
     "text": [
      "[CV]  estimator__n_estimators=10, estimator__max_depth=24, estimator__min_samples_split=6, estimator__min_samples_leaf=1 -  16.4s\n",
      "[CV] estimator__n_estimators=10, estimator__max_depth=24, estimator__min_samples_split=6, estimator__min_samples_leaf=1 \n"
     ]
    },
    {
     "name": "stderr",
     "output_type": "stream",
     "text": [
      "/Users/rob/anaconda/lib/python3.5/site-packages/sklearn/externals/joblib/parallel.py:540: UserWarning: Multiprocessing-backed parallel loops cannot be nested, setting n_jobs=1\n",
      "  **self._backend_args)\n"
     ]
    },
    {
     "name": "stdout",
     "output_type": "stream",
     "text": [
      "[CV]  estimator__n_estimators=10, estimator__max_depth=24, estimator__min_samples_split=6, estimator__min_samples_leaf=1 -  16.5s\n",
      "[CV] estimator__n_estimators=20, estimator__max_depth=24, estimator__min_samples_split=6, estimator__min_samples_leaf=1 \n"
     ]
    },
    {
     "name": "stderr",
     "output_type": "stream",
     "text": [
      "/Users/rob/anaconda/lib/python3.5/site-packages/sklearn/externals/joblib/parallel.py:540: UserWarning: Multiprocessing-backed parallel loops cannot be nested, setting n_jobs=1\n",
      "  **self._backend_args)\n"
     ]
    },
    {
     "name": "stdout",
     "output_type": "stream",
     "text": [
      "[CV]  estimator__n_estimators=10, estimator__max_depth=24, estimator__min_samples_split=6, estimator__min_samples_leaf=1 -  16.5s\n",
      "[CV] estimator__n_estimators=20, estimator__max_depth=24, estimator__min_samples_split=6, estimator__min_samples_leaf=1 \n"
     ]
    },
    {
     "name": "stderr",
     "output_type": "stream",
     "text": [
      "/Users/rob/anaconda/lib/python3.5/site-packages/sklearn/externals/joblib/parallel.py:540: UserWarning: Multiprocessing-backed parallel loops cannot be nested, setting n_jobs=1\n",
      "  **self._backend_args)\n"
     ]
    },
    {
     "name": "stdout",
     "output_type": "stream",
     "text": [
      "[CV]  estimator__n_estimators=10, estimator__max_depth=24, estimator__min_samples_split=6, estimator__min_samples_leaf=1 -  16.4s\n",
      "[CV] estimator__n_estimators=20, estimator__max_depth=24, estimator__min_samples_split=6, estimator__min_samples_leaf=1 \n"
     ]
    },
    {
     "name": "stderr",
     "output_type": "stream",
     "text": [
      "/Users/rob/anaconda/lib/python3.5/site-packages/sklearn/externals/joblib/parallel.py:540: UserWarning: Multiprocessing-backed parallel loops cannot be nested, setting n_jobs=1\n",
      "  **self._backend_args)\n"
     ]
    },
    {
     "name": "stdout",
     "output_type": "stream",
     "text": [
      "[CV]  estimator__n_estimators=50, estimator__max_depth=24, estimator__min_samples_split=4, estimator__min_samples_leaf=1 - 1.4min\n",
      "[CV] estimator__n_estimators=20, estimator__max_depth=24, estimator__min_samples_split=6, estimator__min_samples_leaf=1 \n"
     ]
    },
    {
     "name": "stderr",
     "output_type": "stream",
     "text": [
      "/Users/rob/anaconda/lib/python3.5/site-packages/sklearn/externals/joblib/parallel.py:540: UserWarning: Multiprocessing-backed parallel loops cannot be nested, setting n_jobs=1\n",
      "  **self._backend_args)\n"
     ]
    },
    {
     "name": "stdout",
     "output_type": "stream",
     "text": [
      "[CV]  estimator__n_estimators=50, estimator__max_depth=24, estimator__min_samples_split=4, estimator__min_samples_leaf=1 - 1.4min\n",
      "[CV] estimator__n_estimators=20, estimator__max_depth=24, estimator__min_samples_split=6, estimator__min_samples_leaf=1 \n",
      "[CV]  estimator__n_estimators=50, estimator__max_depth=24, estimator__min_samples_split=4, estimator__min_samples_leaf=1 - 1.4min\n",
      "[CV] estimator__n_estimators=30, estimator__max_depth=24, estimator__min_samples_split=6, estimator__min_samples_leaf=1 \n"
     ]
    },
    {
     "name": "stderr",
     "output_type": "stream",
     "text": [
      "/Users/rob/anaconda/lib/python3.5/site-packages/sklearn/externals/joblib/parallel.py:540: UserWarning: Multiprocessing-backed parallel loops cannot be nested, setting n_jobs=1\n",
      "  **self._backend_args)\n",
      "/Users/rob/anaconda/lib/python3.5/site-packages/sklearn/externals/joblib/parallel.py:540: UserWarning: Multiprocessing-backed parallel loops cannot be nested, setting n_jobs=1\n",
      "  **self._backend_args)\n"
     ]
    },
    {
     "name": "stdout",
     "output_type": "stream",
     "text": [
      "[CV]  estimator__n_estimators=20, estimator__max_depth=24, estimator__min_samples_split=6, estimator__min_samples_leaf=1 -  32.4s\n",
      "[CV] estimator__n_estimators=30, estimator__max_depth=24, estimator__min_samples_split=6, estimator__min_samples_leaf=1 \n"
     ]
    },
    {
     "name": "stderr",
     "output_type": "stream",
     "text": [
      "/Users/rob/anaconda/lib/python3.5/site-packages/sklearn/externals/joblib/parallel.py:540: UserWarning: Multiprocessing-backed parallel loops cannot be nested, setting n_jobs=1\n",
      "  **self._backend_args)\n"
     ]
    },
    {
     "name": "stdout",
     "output_type": "stream",
     "text": [
      "[CV]  estimator__n_estimators=50, estimator__max_depth=24, estimator__min_samples_split=4, estimator__min_samples_leaf=1 - 1.4min\n",
      "[CV] estimator__n_estimators=30, estimator__max_depth=24, estimator__min_samples_split=6, estimator__min_samples_leaf=1 \n"
     ]
    },
    {
     "name": "stderr",
     "output_type": "stream",
     "text": [
      "/Users/rob/anaconda/lib/python3.5/site-packages/sklearn/externals/joblib/parallel.py:540: UserWarning: Multiprocessing-backed parallel loops cannot be nested, setting n_jobs=1\n",
      "  **self._backend_args)\n"
     ]
    },
    {
     "name": "stdout",
     "output_type": "stream",
     "text": [
      "[CV]  estimator__n_estimators=50, estimator__max_depth=24, estimator__min_samples_split=4, estimator__min_samples_leaf=1 - 1.4min\n",
      "[CV] estimator__n_estimators=30, estimator__max_depth=24, estimator__min_samples_split=6, estimator__min_samples_leaf=1 \n"
     ]
    },
    {
     "name": "stderr",
     "output_type": "stream",
     "text": [
      "/Users/rob/anaconda/lib/python3.5/site-packages/sklearn/externals/joblib/parallel.py:540: UserWarning: Multiprocessing-backed parallel loops cannot be nested, setting n_jobs=1\n",
      "  **self._backend_args)\n"
     ]
    },
    {
     "name": "stdout",
     "output_type": "stream",
     "text": [
      "[CV]  estimator__n_estimators=20, estimator__max_depth=24, estimator__min_samples_split=6, estimator__min_samples_leaf=1 -  32.6s\n",
      "[CV] estimator__n_estimators=30, estimator__max_depth=24, estimator__min_samples_split=6, estimator__min_samples_leaf=1 \n"
     ]
    },
    {
     "name": "stderr",
     "output_type": "stream",
     "text": [
      "/Users/rob/anaconda/lib/python3.5/site-packages/sklearn/externals/joblib/parallel.py:540: UserWarning: Multiprocessing-backed parallel loops cannot be nested, setting n_jobs=1\n",
      "  **self._backend_args)\n"
     ]
    },
    {
     "name": "stdout",
     "output_type": "stream",
     "text": [
      "[CV]  estimator__n_estimators=20, estimator__max_depth=24, estimator__min_samples_split=6, estimator__min_samples_leaf=1 -  32.6s\n",
      "[CV] estimator__n_estimators=40, estimator__max_depth=24, estimator__min_samples_split=6, estimator__min_samples_leaf=1 \n"
     ]
    },
    {
     "name": "stderr",
     "output_type": "stream",
     "text": [
      "/Users/rob/anaconda/lib/python3.5/site-packages/sklearn/externals/joblib/parallel.py:540: UserWarning: Multiprocessing-backed parallel loops cannot be nested, setting n_jobs=1\n",
      "  **self._backend_args)\n"
     ]
    },
    {
     "name": "stdout",
     "output_type": "stream",
     "text": [
      "[CV]  estimator__n_estimators=20, estimator__max_depth=24, estimator__min_samples_split=6, estimator__min_samples_leaf=1 -  33.0s\n",
      "[CV] estimator__n_estimators=40, estimator__max_depth=24, estimator__min_samples_split=6, estimator__min_samples_leaf=1 \n"
     ]
    },
    {
     "name": "stderr",
     "output_type": "stream",
     "text": [
      "/Users/rob/anaconda/lib/python3.5/site-packages/sklearn/externals/joblib/parallel.py:540: UserWarning: Multiprocessing-backed parallel loops cannot be nested, setting n_jobs=1\n",
      "  **self._backend_args)\n"
     ]
    },
    {
     "name": "stdout",
     "output_type": "stream",
     "text": [
      "[CV]  estimator__n_estimators=20, estimator__max_depth=24, estimator__min_samples_split=6, estimator__min_samples_leaf=1 -  32.8s\n",
      "[CV] estimator__n_estimators=40, estimator__max_depth=24, estimator__min_samples_split=6, estimator__min_samples_leaf=1 \n"
     ]
    },
    {
     "name": "stderr",
     "output_type": "stream",
     "text": [
      "/Users/rob/anaconda/lib/python3.5/site-packages/sklearn/externals/joblib/parallel.py:540: UserWarning: Multiprocessing-backed parallel loops cannot be nested, setting n_jobs=1\n",
      "  **self._backend_args)\n"
     ]
    },
    {
     "name": "stdout",
     "output_type": "stream",
     "text": [
      "[CV]  estimator__n_estimators=30, estimator__max_depth=24, estimator__min_samples_split=6, estimator__min_samples_leaf=1 -  48.5s\n",
      "[CV] estimator__n_estimators=40, estimator__max_depth=24, estimator__min_samples_split=6, estimator__min_samples_leaf=1 \n"
     ]
    },
    {
     "name": "stderr",
     "output_type": "stream",
     "text": [
      "/Users/rob/anaconda/lib/python3.5/site-packages/sklearn/externals/joblib/parallel.py:540: UserWarning: Multiprocessing-backed parallel loops cannot be nested, setting n_jobs=1\n",
      "  **self._backend_args)\n"
     ]
    },
    {
     "name": "stdout",
     "output_type": "stream",
     "text": [
      "[CV]  estimator__n_estimators=30, estimator__max_depth=24, estimator__min_samples_split=6, estimator__min_samples_leaf=1 -  48.4s\n",
      "[CV] estimator__n_estimators=40, estimator__max_depth=24, estimator__min_samples_split=6, estimator__min_samples_leaf=1 \n"
     ]
    },
    {
     "name": "stderr",
     "output_type": "stream",
     "text": [
      "/Users/rob/anaconda/lib/python3.5/site-packages/sklearn/externals/joblib/parallel.py:540: UserWarning: Multiprocessing-backed parallel loops cannot be nested, setting n_jobs=1\n",
      "  **self._backend_args)\n"
     ]
    },
    {
     "name": "stdout",
     "output_type": "stream",
     "text": [
      "[CV]  estimator__n_estimators=30, estimator__max_depth=24, estimator__min_samples_split=6, estimator__min_samples_leaf=1 -  48.5s\n",
      "[CV] estimator__n_estimators=50, estimator__max_depth=24, estimator__min_samples_split=6, estimator__min_samples_leaf=1 \n"
     ]
    },
    {
     "name": "stderr",
     "output_type": "stream",
     "text": [
      "/Users/rob/anaconda/lib/python3.5/site-packages/sklearn/externals/joblib/parallel.py:540: UserWarning: Multiprocessing-backed parallel loops cannot be nested, setting n_jobs=1\n",
      "  **self._backend_args)\n"
     ]
    },
    {
     "name": "stdout",
     "output_type": "stream",
     "text": [
      "[CV]  estimator__n_estimators=30, estimator__max_depth=24, estimator__min_samples_split=6, estimator__min_samples_leaf=1 -  48.7s\n",
      "[CV] estimator__n_estimators=50, estimator__max_depth=24, estimator__min_samples_split=6, estimator__min_samples_leaf=1 \n"
     ]
    },
    {
     "name": "stderr",
     "output_type": "stream",
     "text": [
      "/Users/rob/anaconda/lib/python3.5/site-packages/sklearn/externals/joblib/parallel.py:540: UserWarning: Multiprocessing-backed parallel loops cannot be nested, setting n_jobs=1\n",
      "  **self._backend_args)\n"
     ]
    },
    {
     "name": "stdout",
     "output_type": "stream",
     "text": [
      "[CV]  estimator__n_estimators=30, estimator__max_depth=24, estimator__min_samples_split=6, estimator__min_samples_leaf=1 -  48.4s\n",
      "[CV] estimator__n_estimators=50, estimator__max_depth=24, estimator__min_samples_split=6, estimator__min_samples_leaf=1 \n"
     ]
    },
    {
     "name": "stderr",
     "output_type": "stream",
     "text": [
      "/Users/rob/anaconda/lib/python3.5/site-packages/sklearn/externals/joblib/parallel.py:540: UserWarning: Multiprocessing-backed parallel loops cannot be nested, setting n_jobs=1\n",
      "  **self._backend_args)\n"
     ]
    },
    {
     "name": "stdout",
     "output_type": "stream",
     "text": [
      "[CV]  estimator__n_estimators=40, estimator__max_depth=24, estimator__min_samples_split=6, estimator__min_samples_leaf=1 - 1.1min\n",
      "[CV] estimator__n_estimators=50, estimator__max_depth=24, estimator__min_samples_split=6, estimator__min_samples_leaf=1 \n"
     ]
    },
    {
     "name": "stderr",
     "output_type": "stream",
     "text": [
      "/Users/rob/anaconda/lib/python3.5/site-packages/sklearn/externals/joblib/parallel.py:540: UserWarning: Multiprocessing-backed parallel loops cannot be nested, setting n_jobs=1\n",
      "  **self._backend_args)\n"
     ]
    },
    {
     "name": "stdout",
     "output_type": "stream",
     "text": [
      "[CV]  estimator__n_estimators=40, estimator__max_depth=24, estimator__min_samples_split=6, estimator__min_samples_leaf=1 - 1.1min\n",
      "[CV] estimator__n_estimators=50, estimator__max_depth=24, estimator__min_samples_split=6, estimator__min_samples_leaf=1 \n"
     ]
    },
    {
     "name": "stderr",
     "output_type": "stream",
     "text": [
      "/Users/rob/anaconda/lib/python3.5/site-packages/sklearn/externals/joblib/parallel.py:540: UserWarning: Multiprocessing-backed parallel loops cannot be nested, setting n_jobs=1\n",
      "  **self._backend_args)\n"
     ]
    },
    {
     "name": "stdout",
     "output_type": "stream",
     "text": [
      "[CV]  estimator__n_estimators=40, estimator__max_depth=24, estimator__min_samples_split=6, estimator__min_samples_leaf=1 - 1.1min\n",
      "[CV] estimator__n_estimators=10, estimator__max_depth=24, estimator__min_samples_split=2, estimator__min_samples_leaf=2 \n"
     ]
    },
    {
     "name": "stderr",
     "output_type": "stream",
     "text": [
      "/Users/rob/anaconda/lib/python3.5/site-packages/sklearn/externals/joblib/parallel.py:540: UserWarning: Multiprocessing-backed parallel loops cannot be nested, setting n_jobs=1\n",
      "  **self._backend_args)\n"
     ]
    },
    {
     "name": "stdout",
     "output_type": "stream",
     "text": [
      "[CV]  estimator__n_estimators=10, estimator__max_depth=24, estimator__min_samples_split=2, estimator__min_samples_leaf=2 -  15.4s\n",
      "[CV] estimator__n_estimators=10, estimator__max_depth=24, estimator__min_samples_split=2, estimator__min_samples_leaf=2 \n"
     ]
    },
    {
     "name": "stderr",
     "output_type": "stream",
     "text": [
      "/Users/rob/anaconda/lib/python3.5/site-packages/sklearn/externals/joblib/parallel.py:540: UserWarning: Multiprocessing-backed parallel loops cannot be nested, setting n_jobs=1\n",
      "  **self._backend_args)\n"
     ]
    },
    {
     "name": "stdout",
     "output_type": "stream",
     "text": [
      "[CV]  estimator__n_estimators=40, estimator__max_depth=24, estimator__min_samples_split=6, estimator__min_samples_leaf=1 - 1.1min\n",
      "[CV] estimator__n_estimators=10, estimator__max_depth=24, estimator__min_samples_split=2, estimator__min_samples_leaf=2 \n"
     ]
    },
    {
     "name": "stderr",
     "output_type": "stream",
     "text": [
      "/Users/rob/anaconda/lib/python3.5/site-packages/sklearn/externals/joblib/parallel.py:540: UserWarning: Multiprocessing-backed parallel loops cannot be nested, setting n_jobs=1\n",
      "  **self._backend_args)\n"
     ]
    },
    {
     "name": "stdout",
     "output_type": "stream",
     "text": [
      "[CV]  estimator__n_estimators=10, estimator__max_depth=24, estimator__min_samples_split=2, estimator__min_samples_leaf=2 -  16.0s\n",
      "[CV] estimator__n_estimators=10, estimator__max_depth=24, estimator__min_samples_split=2, estimator__min_samples_leaf=2 \n"
     ]
    },
    {
     "name": "stderr",
     "output_type": "stream",
     "text": [
      "/Users/rob/anaconda/lib/python3.5/site-packages/sklearn/externals/joblib/parallel.py:540: UserWarning: Multiprocessing-backed parallel loops cannot be nested, setting n_jobs=1\n",
      "  **self._backend_args)\n"
     ]
    },
    {
     "name": "stdout",
     "output_type": "stream",
     "text": [
      "[CV]  estimator__n_estimators=40, estimator__max_depth=24, estimator__min_samples_split=6, estimator__min_samples_leaf=1 - 1.1min\n",
      "[CV] estimator__n_estimators=10, estimator__max_depth=24, estimator__min_samples_split=2, estimator__min_samples_leaf=2 \n"
     ]
    },
    {
     "name": "stderr",
     "output_type": "stream",
     "text": [
      "/Users/rob/anaconda/lib/python3.5/site-packages/sklearn/externals/joblib/parallel.py:540: UserWarning: Multiprocessing-backed parallel loops cannot be nested, setting n_jobs=1\n",
      "  **self._backend_args)\n"
     ]
    },
    {
     "name": "stdout",
     "output_type": "stream",
     "text": [
      "[CV]  estimator__n_estimators=10, estimator__max_depth=24, estimator__min_samples_split=2, estimator__min_samples_leaf=2 -  16.1s\n",
      "[CV] estimator__n_estimators=20, estimator__max_depth=24, estimator__min_samples_split=2, estimator__min_samples_leaf=2 \n"
     ]
    },
    {
     "name": "stderr",
     "output_type": "stream",
     "text": [
      "/Users/rob/anaconda/lib/python3.5/site-packages/sklearn/externals/joblib/parallel.py:540: UserWarning: Multiprocessing-backed parallel loops cannot be nested, setting n_jobs=1\n",
      "  **self._backend_args)\n"
     ]
    },
    {
     "name": "stdout",
     "output_type": "stream",
     "text": [
      "[CV]  estimator__n_estimators=10, estimator__max_depth=24, estimator__min_samples_split=2, estimator__min_samples_leaf=2 -  16.2s\n",
      "[CV] estimator__n_estimators=20, estimator__max_depth=24, estimator__min_samples_split=2, estimator__min_samples_leaf=2 \n"
     ]
    },
    {
     "name": "stderr",
     "output_type": "stream",
     "text": [
      "/Users/rob/anaconda/lib/python3.5/site-packages/sklearn/externals/joblib/parallel.py:540: UserWarning: Multiprocessing-backed parallel loops cannot be nested, setting n_jobs=1\n",
      "  **self._backend_args)\n"
     ]
    },
    {
     "name": "stdout",
     "output_type": "stream",
     "text": [
      "[CV]  estimator__n_estimators=10, estimator__max_depth=24, estimator__min_samples_split=2, estimator__min_samples_leaf=2 -  16.1s\n",
      "[CV] estimator__n_estimators=20, estimator__max_depth=24, estimator__min_samples_split=2, estimator__min_samples_leaf=2 \n"
     ]
    },
    {
     "name": "stderr",
     "output_type": "stream",
     "text": [
      "/Users/rob/anaconda/lib/python3.5/site-packages/sklearn/externals/joblib/parallel.py:540: UserWarning: Multiprocessing-backed parallel loops cannot be nested, setting n_jobs=1\n",
      "  **self._backend_args)\n"
     ]
    },
    {
     "name": "stdout",
     "output_type": "stream",
     "text": [
      "[CV]  estimator__n_estimators=50, estimator__max_depth=24, estimator__min_samples_split=6, estimator__min_samples_leaf=1 - 1.4min\n",
      "[CV] estimator__n_estimators=20, estimator__max_depth=24, estimator__min_samples_split=2, estimator__min_samples_leaf=2 \n"
     ]
    },
    {
     "name": "stderr",
     "output_type": "stream",
     "text": [
      "/Users/rob/anaconda/lib/python3.5/site-packages/sklearn/externals/joblib/parallel.py:540: UserWarning: Multiprocessing-backed parallel loops cannot be nested, setting n_jobs=1\n",
      "  **self._backend_args)\n"
     ]
    },
    {
     "name": "stdout",
     "output_type": "stream",
     "text": [
      "[CV]  estimator__n_estimators=50, estimator__max_depth=24, estimator__min_samples_split=6, estimator__min_samples_leaf=1 - 1.4min\n",
      "[CV] estimator__n_estimators=20, estimator__max_depth=24, estimator__min_samples_split=2, estimator__min_samples_leaf=2 \n"
     ]
    },
    {
     "name": "stderr",
     "output_type": "stream",
     "text": [
      "/Users/rob/anaconda/lib/python3.5/site-packages/sklearn/externals/joblib/parallel.py:540: UserWarning: Multiprocessing-backed parallel loops cannot be nested, setting n_jobs=1\n",
      "  **self._backend_args)\n"
     ]
    },
    {
     "name": "stdout",
     "output_type": "stream",
     "text": [
      "[CV]  estimator__n_estimators=50, estimator__max_depth=24, estimator__min_samples_split=6, estimator__min_samples_leaf=1 - 1.4min\n",
      "[CV] estimator__n_estimators=30, estimator__max_depth=24, estimator__min_samples_split=2, estimator__min_samples_leaf=2 \n"
     ]
    },
    {
     "name": "stderr",
     "output_type": "stream",
     "text": [
      "/Users/rob/anaconda/lib/python3.5/site-packages/sklearn/externals/joblib/parallel.py:540: UserWarning: Multiprocessing-backed parallel loops cannot be nested, setting n_jobs=1\n",
      "  **self._backend_args)\n"
     ]
    },
    {
     "name": "stdout",
     "output_type": "stream",
     "text": [
      "[CV]  estimator__n_estimators=20, estimator__max_depth=24, estimator__min_samples_split=2, estimator__min_samples_leaf=2 -  32.0s\n",
      "[CV] estimator__n_estimators=30, estimator__max_depth=24, estimator__min_samples_split=2, estimator__min_samples_leaf=2 \n"
     ]
    },
    {
     "name": "stderr",
     "output_type": "stream",
     "text": [
      "/Users/rob/anaconda/lib/python3.5/site-packages/sklearn/externals/joblib/parallel.py:540: UserWarning: Multiprocessing-backed parallel loops cannot be nested, setting n_jobs=1\n",
      "  **self._backend_args)\n"
     ]
    },
    {
     "name": "stdout",
     "output_type": "stream",
     "text": [
      "[CV]  estimator__n_estimators=50, estimator__max_depth=24, estimator__min_samples_split=6, estimator__min_samples_leaf=1 - 1.4min\n",
      "[CV] estimator__n_estimators=30, estimator__max_depth=24, estimator__min_samples_split=2, estimator__min_samples_leaf=2 \n"
     ]
    },
    {
     "name": "stderr",
     "output_type": "stream",
     "text": [
      "/Users/rob/anaconda/lib/python3.5/site-packages/sklearn/externals/joblib/parallel.py:540: UserWarning: Multiprocessing-backed parallel loops cannot be nested, setting n_jobs=1\n",
      "  **self._backend_args)\n"
     ]
    },
    {
     "name": "stdout",
     "output_type": "stream",
     "text": [
      "[CV]  estimator__n_estimators=20, estimator__max_depth=24, estimator__min_samples_split=2, estimator__min_samples_leaf=2 -  31.9s\n",
      "[CV] estimator__n_estimators=30, estimator__max_depth=24, estimator__min_samples_split=2, estimator__min_samples_leaf=2 \n"
     ]
    },
    {
     "name": "stderr",
     "output_type": "stream",
     "text": [
      "/Users/rob/anaconda/lib/python3.5/site-packages/sklearn/externals/joblib/parallel.py:540: UserWarning: Multiprocessing-backed parallel loops cannot be nested, setting n_jobs=1\n",
      "  **self._backend_args)\n"
     ]
    },
    {
     "name": "stdout",
     "output_type": "stream",
     "text": [
      "[CV]  estimator__n_estimators=20, estimator__max_depth=24, estimator__min_samples_split=2, estimator__min_samples_leaf=2 -  32.1s\n",
      "[CV] estimator__n_estimators=30, estimator__max_depth=24, estimator__min_samples_split=2, estimator__min_samples_leaf=2 \n"
     ]
    },
    {
     "name": "stderr",
     "output_type": "stream",
     "text": [
      "/Users/rob/anaconda/lib/python3.5/site-packages/sklearn/externals/joblib/parallel.py:540: UserWarning: Multiprocessing-backed parallel loops cannot be nested, setting n_jobs=1\n",
      "  **self._backend_args)\n"
     ]
    },
    {
     "name": "stdout",
     "output_type": "stream",
     "text": [
      "[CV]  estimator__n_estimators=50, estimator__max_depth=24, estimator__min_samples_split=6, estimator__min_samples_leaf=1 - 1.4min\n",
      "[CV] estimator__n_estimators=40, estimator__max_depth=24, estimator__min_samples_split=2, estimator__min_samples_leaf=2 \n"
     ]
    },
    {
     "name": "stderr",
     "output_type": "stream",
     "text": [
      "/Users/rob/anaconda/lib/python3.5/site-packages/sklearn/externals/joblib/parallel.py:540: UserWarning: Multiprocessing-backed parallel loops cannot be nested, setting n_jobs=1\n",
      "  **self._backend_args)\n"
     ]
    },
    {
     "name": "stdout",
     "output_type": "stream",
     "text": [
      "[CV]  estimator__n_estimators=20, estimator__max_depth=24, estimator__min_samples_split=2, estimator__min_samples_leaf=2 -  32.1s\n",
      "[CV] estimator__n_estimators=40, estimator__max_depth=24, estimator__min_samples_split=2, estimator__min_samples_leaf=2 \n"
     ]
    },
    {
     "name": "stderr",
     "output_type": "stream",
     "text": [
      "/Users/rob/anaconda/lib/python3.5/site-packages/sklearn/externals/joblib/parallel.py:540: UserWarning: Multiprocessing-backed parallel loops cannot be nested, setting n_jobs=1\n",
      "  **self._backend_args)\n"
     ]
    },
    {
     "name": "stdout",
     "output_type": "stream",
     "text": [
      "[CV]  estimator__n_estimators=20, estimator__max_depth=24, estimator__min_samples_split=2, estimator__min_samples_leaf=2 -  32.1s\n",
      "[CV] estimator__n_estimators=40, estimator__max_depth=24, estimator__min_samples_split=2, estimator__min_samples_leaf=2 \n"
     ]
    },
    {
     "name": "stderr",
     "output_type": "stream",
     "text": [
      "/Users/rob/anaconda/lib/python3.5/site-packages/sklearn/externals/joblib/parallel.py:540: UserWarning: Multiprocessing-backed parallel loops cannot be nested, setting n_jobs=1\n",
      "  **self._backend_args)\n"
     ]
    },
    {
     "name": "stdout",
     "output_type": "stream",
     "text": [
      "[CV]  estimator__n_estimators=30, estimator__max_depth=24, estimator__min_samples_split=2, estimator__min_samples_leaf=2 -  48.0s\n",
      "[CV] estimator__n_estimators=40, estimator__max_depth=24, estimator__min_samples_split=2, estimator__min_samples_leaf=2 \n"
     ]
    },
    {
     "name": "stderr",
     "output_type": "stream",
     "text": [
      "/Users/rob/anaconda/lib/python3.5/site-packages/sklearn/externals/joblib/parallel.py:540: UserWarning: Multiprocessing-backed parallel loops cannot be nested, setting n_jobs=1\n",
      "  **self._backend_args)\n"
     ]
    },
    {
     "name": "stdout",
     "output_type": "stream",
     "text": [
      "[CV]  estimator__n_estimators=30, estimator__max_depth=24, estimator__min_samples_split=2, estimator__min_samples_leaf=2 -  47.8s\n",
      "[CV] estimator__n_estimators=40, estimator__max_depth=24, estimator__min_samples_split=2, estimator__min_samples_leaf=2 \n"
     ]
    },
    {
     "name": "stderr",
     "output_type": "stream",
     "text": [
      "/Users/rob/anaconda/lib/python3.5/site-packages/sklearn/externals/joblib/parallel.py:540: UserWarning: Multiprocessing-backed parallel loops cannot be nested, setting n_jobs=1\n",
      "  **self._backend_args)\n"
     ]
    },
    {
     "name": "stdout",
     "output_type": "stream",
     "text": [
      "[CV]  estimator__n_estimators=30, estimator__max_depth=24, estimator__min_samples_split=2, estimator__min_samples_leaf=2 -  48.7s\n",
      "[CV] estimator__n_estimators=50, estimator__max_depth=24, estimator__min_samples_split=2, estimator__min_samples_leaf=2 \n"
     ]
    },
    {
     "name": "stderr",
     "output_type": "stream",
     "text": [
      "/Users/rob/anaconda/lib/python3.5/site-packages/sklearn/externals/joblib/parallel.py:540: UserWarning: Multiprocessing-backed parallel loops cannot be nested, setting n_jobs=1\n",
      "  **self._backend_args)\n"
     ]
    },
    {
     "name": "stdout",
     "output_type": "stream",
     "text": [
      "[CV]  estimator__n_estimators=30, estimator__max_depth=24, estimator__min_samples_split=2, estimator__min_samples_leaf=2 -  48.7s\n",
      "[CV] estimator__n_estimators=50, estimator__max_depth=24, estimator__min_samples_split=2, estimator__min_samples_leaf=2 \n"
     ]
    },
    {
     "name": "stderr",
     "output_type": "stream",
     "text": [
      "/Users/rob/anaconda/lib/python3.5/site-packages/sklearn/externals/joblib/parallel.py:540: UserWarning: Multiprocessing-backed parallel loops cannot be nested, setting n_jobs=1\n",
      "  **self._backend_args)\n"
     ]
    },
    {
     "name": "stdout",
     "output_type": "stream",
     "text": [
      "[CV]  estimator__n_estimators=30, estimator__max_depth=24, estimator__min_samples_split=2, estimator__min_samples_leaf=2 -  48.5s\n",
      "[CV] estimator__n_estimators=50, estimator__max_depth=24, estimator__min_samples_split=2, estimator__min_samples_leaf=2 \n"
     ]
    },
    {
     "name": "stderr",
     "output_type": "stream",
     "text": [
      "/Users/rob/anaconda/lib/python3.5/site-packages/sklearn/externals/joblib/parallel.py:540: UserWarning: Multiprocessing-backed parallel loops cannot be nested, setting n_jobs=1\n",
      "  **self._backend_args)\n"
     ]
    },
    {
     "name": "stdout",
     "output_type": "stream",
     "text": [
      "[CV]  estimator__n_estimators=40, estimator__max_depth=24, estimator__min_samples_split=2, estimator__min_samples_leaf=2 - 1.1min\n",
      "[CV] estimator__n_estimators=50, estimator__max_depth=24, estimator__min_samples_split=2, estimator__min_samples_leaf=2 \n"
     ]
    },
    {
     "name": "stderr",
     "output_type": "stream",
     "text": [
      "/Users/rob/anaconda/lib/python3.5/site-packages/sklearn/externals/joblib/parallel.py:540: UserWarning: Multiprocessing-backed parallel loops cannot be nested, setting n_jobs=1\n",
      "  **self._backend_args)\n"
     ]
    },
    {
     "name": "stdout",
     "output_type": "stream",
     "text": [
      "[CV]  estimator__n_estimators=40, estimator__max_depth=24, estimator__min_samples_split=2, estimator__min_samples_leaf=2 - 1.1min\n",
      "[CV] estimator__n_estimators=50, estimator__max_depth=24, estimator__min_samples_split=2, estimator__min_samples_leaf=2 \n"
     ]
    },
    {
     "name": "stderr",
     "output_type": "stream",
     "text": [
      "/Users/rob/anaconda/lib/python3.5/site-packages/sklearn/externals/joblib/parallel.py:540: UserWarning: Multiprocessing-backed parallel loops cannot be nested, setting n_jobs=1\n",
      "  **self._backend_args)\n"
     ]
    },
    {
     "name": "stdout",
     "output_type": "stream",
     "text": [
      "[CV]  estimator__n_estimators=40, estimator__max_depth=24, estimator__min_samples_split=2, estimator__min_samples_leaf=2 - 1.1min\n",
      "[CV] estimator__n_estimators=10, estimator__max_depth=24, estimator__min_samples_split=4, estimator__min_samples_leaf=2 \n"
     ]
    },
    {
     "name": "stderr",
     "output_type": "stream",
     "text": [
      "/Users/rob/anaconda/lib/python3.5/site-packages/sklearn/externals/joblib/parallel.py:540: UserWarning: Multiprocessing-backed parallel loops cannot be nested, setting n_jobs=1\n",
      "  **self._backend_args)\n"
     ]
    },
    {
     "name": "stdout",
     "output_type": "stream",
     "text": [
      "[CV]  estimator__n_estimators=10, estimator__max_depth=24, estimator__min_samples_split=4, estimator__min_samples_leaf=2 -  16.5s\n",
      "[CV] estimator__n_estimators=10, estimator__max_depth=24, estimator__min_samples_split=4, estimator__min_samples_leaf=2 \n"
     ]
    },
    {
     "name": "stderr",
     "output_type": "stream",
     "text": [
      "/Users/rob/anaconda/lib/python3.5/site-packages/sklearn/externals/joblib/parallel.py:540: UserWarning: Multiprocessing-backed parallel loops cannot be nested, setting n_jobs=1\n",
      "  **self._backend_args)\n"
     ]
    },
    {
     "name": "stdout",
     "output_type": "stream",
     "text": [
      "[CV]  estimator__n_estimators=40, estimator__max_depth=24, estimator__min_samples_split=2, estimator__min_samples_leaf=2 - 1.1min\n",
      "[CV] estimator__n_estimators=10, estimator__max_depth=24, estimator__min_samples_split=4, estimator__min_samples_leaf=2 \n"
     ]
    },
    {
     "name": "stderr",
     "output_type": "stream",
     "text": [
      "/Users/rob/anaconda/lib/python3.5/site-packages/sklearn/externals/joblib/parallel.py:540: UserWarning: Multiprocessing-backed parallel loops cannot be nested, setting n_jobs=1\n",
      "  **self._backend_args)\n"
     ]
    },
    {
     "name": "stdout",
     "output_type": "stream",
     "text": [
      "[CV]  estimator__n_estimators=40, estimator__max_depth=24, estimator__min_samples_split=2, estimator__min_samples_leaf=2 - 1.1min\n",
      "[CV] estimator__n_estimators=10, estimator__max_depth=24, estimator__min_samples_split=4, estimator__min_samples_leaf=2 \n"
     ]
    },
    {
     "name": "stderr",
     "output_type": "stream",
     "text": [
      "/Users/rob/anaconda/lib/python3.5/site-packages/sklearn/externals/joblib/parallel.py:540: UserWarning: Multiprocessing-backed parallel loops cannot be nested, setting n_jobs=1\n",
      "  **self._backend_args)\n"
     ]
    },
    {
     "name": "stdout",
     "output_type": "stream",
     "text": [
      "[CV]  estimator__n_estimators=10, estimator__max_depth=24, estimator__min_samples_split=4, estimator__min_samples_leaf=2 -  16.1s\n",
      "[CV] estimator__n_estimators=10, estimator__max_depth=24, estimator__min_samples_split=4, estimator__min_samples_leaf=2 \n"
     ]
    },
    {
     "name": "stderr",
     "output_type": "stream",
     "text": [
      "/Users/rob/anaconda/lib/python3.5/site-packages/sklearn/externals/joblib/parallel.py:540: UserWarning: Multiprocessing-backed parallel loops cannot be nested, setting n_jobs=1\n",
      "  **self._backend_args)\n",
      "[Parallel(n_jobs=8)]: Done 997 tasks      | elapsed: 52.8min\n"
     ]
    },
    {
     "name": "stdout",
     "output_type": "stream",
     "text": [
      "[CV]  estimator__n_estimators=10, estimator__max_depth=24, estimator__min_samples_split=4, estimator__min_samples_leaf=2 -  16.2s\n",
      "[CV] estimator__n_estimators=20, estimator__max_depth=24, estimator__min_samples_split=4, estimator__min_samples_leaf=2 \n"
     ]
    },
    {
     "name": "stderr",
     "output_type": "stream",
     "text": [
      "/Users/rob/anaconda/lib/python3.5/site-packages/sklearn/externals/joblib/parallel.py:540: UserWarning: Multiprocessing-backed parallel loops cannot be nested, setting n_jobs=1\n",
      "  **self._backend_args)\n"
     ]
    },
    {
     "name": "stdout",
     "output_type": "stream",
     "text": [
      "[CV]  estimator__n_estimators=10, estimator__max_depth=24, estimator__min_samples_split=4, estimator__min_samples_leaf=2 -  16.3s\n",
      "[CV] estimator__n_estimators=20, estimator__max_depth=24, estimator__min_samples_split=4, estimator__min_samples_leaf=2 \n"
     ]
    },
    {
     "name": "stderr",
     "output_type": "stream",
     "text": [
      "/Users/rob/anaconda/lib/python3.5/site-packages/sklearn/externals/joblib/parallel.py:540: UserWarning: Multiprocessing-backed parallel loops cannot be nested, setting n_jobs=1\n",
      "  **self._backend_args)\n"
     ]
    },
    {
     "name": "stdout",
     "output_type": "stream",
     "text": [
      "[CV]  estimator__n_estimators=10, estimator__max_depth=24, estimator__min_samples_split=4, estimator__min_samples_leaf=2 -  16.2s\n",
      "[CV] estimator__n_estimators=20, estimator__max_depth=24, estimator__min_samples_split=4, estimator__min_samples_leaf=2 \n"
     ]
    },
    {
     "name": "stderr",
     "output_type": "stream",
     "text": [
      "/Users/rob/anaconda/lib/python3.5/site-packages/sklearn/externals/joblib/parallel.py:540: UserWarning: Multiprocessing-backed parallel loops cannot be nested, setting n_jobs=1\n",
      "  **self._backend_args)\n"
     ]
    },
    {
     "name": "stdout",
     "output_type": "stream",
     "text": [
      "[CV]  estimator__n_estimators=50, estimator__max_depth=24, estimator__min_samples_split=2, estimator__min_samples_leaf=2 - 1.3min\n",
      "[CV] estimator__n_estimators=20, estimator__max_depth=24, estimator__min_samples_split=4, estimator__min_samples_leaf=2 \n"
     ]
    },
    {
     "name": "stderr",
     "output_type": "stream",
     "text": [
      "/Users/rob/anaconda/lib/python3.5/site-packages/sklearn/externals/joblib/parallel.py:540: UserWarning: Multiprocessing-backed parallel loops cannot be nested, setting n_jobs=1\n",
      "  **self._backend_args)\n"
     ]
    },
    {
     "name": "stdout",
     "output_type": "stream",
     "text": [
      "[CV]  estimator__n_estimators=50, estimator__max_depth=24, estimator__min_samples_split=2, estimator__min_samples_leaf=2 - 1.3min\n",
      "[CV] estimator__n_estimators=20, estimator__max_depth=24, estimator__min_samples_split=4, estimator__min_samples_leaf=2 \n"
     ]
    },
    {
     "name": "stderr",
     "output_type": "stream",
     "text": [
      "/Users/rob/anaconda/lib/python3.5/site-packages/sklearn/externals/joblib/parallel.py:540: UserWarning: Multiprocessing-backed parallel loops cannot be nested, setting n_jobs=1\n",
      "  **self._backend_args)\n"
     ]
    },
    {
     "name": "stdout",
     "output_type": "stream",
     "text": [
      "[CV]  estimator__n_estimators=50, estimator__max_depth=24, estimator__min_samples_split=2, estimator__min_samples_leaf=2 - 1.3min\n",
      "[CV] estimator__n_estimators=30, estimator__max_depth=24, estimator__min_samples_split=4, estimator__min_samples_leaf=2 \n"
     ]
    },
    {
     "name": "stderr",
     "output_type": "stream",
     "text": [
      "/Users/rob/anaconda/lib/python3.5/site-packages/sklearn/externals/joblib/parallel.py:540: UserWarning: Multiprocessing-backed parallel loops cannot be nested, setting n_jobs=1\n",
      "  **self._backend_args)\n"
     ]
    },
    {
     "name": "stdout",
     "output_type": "stream",
     "text": [
      "[CV]  estimator__n_estimators=20, estimator__max_depth=24, estimator__min_samples_split=4, estimator__min_samples_leaf=2 -  32.2s\n",
      "[CV] estimator__n_estimators=30, estimator__max_depth=24, estimator__min_samples_split=4, estimator__min_samples_leaf=2 \n"
     ]
    },
    {
     "name": "stderr",
     "output_type": "stream",
     "text": [
      "/Users/rob/anaconda/lib/python3.5/site-packages/sklearn/externals/joblib/parallel.py:540: UserWarning: Multiprocessing-backed parallel loops cannot be nested, setting n_jobs=1\n",
      "  **self._backend_args)\n"
     ]
    },
    {
     "name": "stdout",
     "output_type": "stream",
     "text": [
      "[CV]  estimator__n_estimators=20, estimator__max_depth=24, estimator__min_samples_split=4, estimator__min_samples_leaf=2 -  32.3s\n",
      "[CV] estimator__n_estimators=30, estimator__max_depth=24, estimator__min_samples_split=4, estimator__min_samples_leaf=2 \n"
     ]
    },
    {
     "name": "stderr",
     "output_type": "stream",
     "text": [
      "/Users/rob/anaconda/lib/python3.5/site-packages/sklearn/externals/joblib/parallel.py:540: UserWarning: Multiprocessing-backed parallel loops cannot be nested, setting n_jobs=1\n",
      "  **self._backend_args)\n"
     ]
    },
    {
     "name": "stdout",
     "output_type": "stream",
     "text": [
      "[CV]  estimator__n_estimators=50, estimator__max_depth=24, estimator__min_samples_split=2, estimator__min_samples_leaf=2 - 1.3min\n",
      "[CV] estimator__n_estimators=30, estimator__max_depth=24, estimator__min_samples_split=4, estimator__min_samples_leaf=2 \n"
     ]
    },
    {
     "name": "stderr",
     "output_type": "stream",
     "text": [
      "/Users/rob/anaconda/lib/python3.5/site-packages/sklearn/externals/joblib/parallel.py:540: UserWarning: Multiprocessing-backed parallel loops cannot be nested, setting n_jobs=1\n",
      "  **self._backend_args)\n"
     ]
    },
    {
     "name": "stdout",
     "output_type": "stream",
     "text": [
      "[CV]  estimator__n_estimators=50, estimator__max_depth=24, estimator__min_samples_split=2, estimator__min_samples_leaf=2 - 1.3min\n",
      "[CV] estimator__n_estimators=30, estimator__max_depth=24, estimator__min_samples_split=4, estimator__min_samples_leaf=2 \n"
     ]
    },
    {
     "name": "stderr",
     "output_type": "stream",
     "text": [
      "/Users/rob/anaconda/lib/python3.5/site-packages/sklearn/externals/joblib/parallel.py:540: UserWarning: Multiprocessing-backed parallel loops cannot be nested, setting n_jobs=1\n",
      "  **self._backend_args)\n"
     ]
    },
    {
     "name": "stdout",
     "output_type": "stream",
     "text": [
      "[CV]  estimator__n_estimators=20, estimator__max_depth=24, estimator__min_samples_split=4, estimator__min_samples_leaf=2 -  32.4s\n",
      "[CV] estimator__n_estimators=40, estimator__max_depth=24, estimator__min_samples_split=4, estimator__min_samples_leaf=2 \n"
     ]
    },
    {
     "name": "stderr",
     "output_type": "stream",
     "text": [
      "/Users/rob/anaconda/lib/python3.5/site-packages/sklearn/externals/joblib/parallel.py:540: UserWarning: Multiprocessing-backed parallel loops cannot be nested, setting n_jobs=1\n",
      "  **self._backend_args)\n"
     ]
    },
    {
     "name": "stdout",
     "output_type": "stream",
     "text": [
      "[CV]  estimator__n_estimators=20, estimator__max_depth=24, estimator__min_samples_split=4, estimator__min_samples_leaf=2 -  32.0s\n",
      "[CV] estimator__n_estimators=40, estimator__max_depth=24, estimator__min_samples_split=4, estimator__min_samples_leaf=2 \n"
     ]
    },
    {
     "name": "stderr",
     "output_type": "stream",
     "text": [
      "/Users/rob/anaconda/lib/python3.5/site-packages/sklearn/externals/joblib/parallel.py:540: UserWarning: Multiprocessing-backed parallel loops cannot be nested, setting n_jobs=1\n",
      "  **self._backend_args)\n"
     ]
    },
    {
     "name": "stdout",
     "output_type": "stream",
     "text": [
      "[CV]  estimator__n_estimators=20, estimator__max_depth=24, estimator__min_samples_split=4, estimator__min_samples_leaf=2 -  31.9s\n",
      "[CV] estimator__n_estimators=40, estimator__max_depth=24, estimator__min_samples_split=4, estimator__min_samples_leaf=2 \n"
     ]
    },
    {
     "name": "stderr",
     "output_type": "stream",
     "text": [
      "/Users/rob/anaconda/lib/python3.5/site-packages/sklearn/externals/joblib/parallel.py:540: UserWarning: Multiprocessing-backed parallel loops cannot be nested, setting n_jobs=1\n",
      "  **self._backend_args)\n"
     ]
    },
    {
     "name": "stdout",
     "output_type": "stream",
     "text": [
      "[CV]  estimator__n_estimators=30, estimator__max_depth=24, estimator__min_samples_split=4, estimator__min_samples_leaf=2 -  47.5s\n",
      "[CV] estimator__n_estimators=40, estimator__max_depth=24, estimator__min_samples_split=4, estimator__min_samples_leaf=2 \n"
     ]
    },
    {
     "name": "stderr",
     "output_type": "stream",
     "text": [
      "/Users/rob/anaconda/lib/python3.5/site-packages/sklearn/externals/joblib/parallel.py:540: UserWarning: Multiprocessing-backed parallel loops cannot be nested, setting n_jobs=1\n",
      "  **self._backend_args)\n"
     ]
    },
    {
     "name": "stdout",
     "output_type": "stream",
     "text": [
      "[CV]  estimator__n_estimators=30, estimator__max_depth=24, estimator__min_samples_split=4, estimator__min_samples_leaf=2 -  47.7s\n",
      "[CV] estimator__n_estimators=40, estimator__max_depth=24, estimator__min_samples_split=4, estimator__min_samples_leaf=2 \n"
     ]
    },
    {
     "name": "stderr",
     "output_type": "stream",
     "text": [
      "/Users/rob/anaconda/lib/python3.5/site-packages/sklearn/externals/joblib/parallel.py:540: UserWarning: Multiprocessing-backed parallel loops cannot be nested, setting n_jobs=1\n",
      "  **self._backend_args)\n"
     ]
    },
    {
     "name": "stdout",
     "output_type": "stream",
     "text": [
      "[CV]  estimator__n_estimators=30, estimator__max_depth=24, estimator__min_samples_split=4, estimator__min_samples_leaf=2 -  47.9s\n",
      "[CV] estimator__n_estimators=50, estimator__max_depth=24, estimator__min_samples_split=4, estimator__min_samples_leaf=2 \n"
     ]
    },
    {
     "name": "stderr",
     "output_type": "stream",
     "text": [
      "/Users/rob/anaconda/lib/python3.5/site-packages/sklearn/externals/joblib/parallel.py:540: UserWarning: Multiprocessing-backed parallel loops cannot be nested, setting n_jobs=1\n",
      "  **self._backend_args)\n"
     ]
    },
    {
     "name": "stdout",
     "output_type": "stream",
     "text": [
      "[CV]  estimator__n_estimators=30, estimator__max_depth=24, estimator__min_samples_split=4, estimator__min_samples_leaf=2 -  48.3s\n",
      "[CV] estimator__n_estimators=50, estimator__max_depth=24, estimator__min_samples_split=4, estimator__min_samples_leaf=2 \n"
     ]
    },
    {
     "name": "stderr",
     "output_type": "stream",
     "text": [
      "/Users/rob/anaconda/lib/python3.5/site-packages/sklearn/externals/joblib/parallel.py:540: UserWarning: Multiprocessing-backed parallel loops cannot be nested, setting n_jobs=1\n",
      "  **self._backend_args)\n"
     ]
    },
    {
     "name": "stdout",
     "output_type": "stream",
     "text": [
      "[CV]  estimator__n_estimators=30, estimator__max_depth=24, estimator__min_samples_split=4, estimator__min_samples_leaf=2 -  48.3s\n",
      "[CV] estimator__n_estimators=50, estimator__max_depth=24, estimator__min_samples_split=4, estimator__min_samples_leaf=2 \n"
     ]
    },
    {
     "name": "stderr",
     "output_type": "stream",
     "text": [
      "/Users/rob/anaconda/lib/python3.5/site-packages/sklearn/externals/joblib/parallel.py:540: UserWarning: Multiprocessing-backed parallel loops cannot be nested, setting n_jobs=1\n",
      "  **self._backend_args)\n"
     ]
    },
    {
     "name": "stdout",
     "output_type": "stream",
     "text": [
      "[CV]  estimator__n_estimators=40, estimator__max_depth=24, estimator__min_samples_split=4, estimator__min_samples_leaf=2 - 1.1min\n",
      "[CV] estimator__n_estimators=50, estimator__max_depth=24, estimator__min_samples_split=4, estimator__min_samples_leaf=2 \n"
     ]
    },
    {
     "name": "stderr",
     "output_type": "stream",
     "text": [
      "/Users/rob/anaconda/lib/python3.5/site-packages/sklearn/externals/joblib/parallel.py:540: UserWarning: Multiprocessing-backed parallel loops cannot be nested, setting n_jobs=1\n",
      "  **self._backend_args)\n"
     ]
    },
    {
     "name": "stdout",
     "output_type": "stream",
     "text": [
      "[CV]  estimator__n_estimators=40, estimator__max_depth=24, estimator__min_samples_split=4, estimator__min_samples_leaf=2 - 1.1min\n",
      "[CV] estimator__n_estimators=50, estimator__max_depth=24, estimator__min_samples_split=4, estimator__min_samples_leaf=2 \n"
     ]
    },
    {
     "name": "stderr",
     "output_type": "stream",
     "text": [
      "/Users/rob/anaconda/lib/python3.5/site-packages/sklearn/externals/joblib/parallel.py:540: UserWarning: Multiprocessing-backed parallel loops cannot be nested, setting n_jobs=1\n",
      "  **self._backend_args)\n"
     ]
    },
    {
     "name": "stdout",
     "output_type": "stream",
     "text": [
      "[CV]  estimator__n_estimators=40, estimator__max_depth=24, estimator__min_samples_split=4, estimator__min_samples_leaf=2 - 1.1min\n",
      "[CV] estimator__n_estimators=10, estimator__max_depth=24, estimator__min_samples_split=6, estimator__min_samples_leaf=2 \n"
     ]
    },
    {
     "name": "stderr",
     "output_type": "stream",
     "text": [
      "/Users/rob/anaconda/lib/python3.5/site-packages/sklearn/externals/joblib/parallel.py:540: UserWarning: Multiprocessing-backed parallel loops cannot be nested, setting n_jobs=1\n",
      "  **self._backend_args)\n"
     ]
    },
    {
     "name": "stdout",
     "output_type": "stream",
     "text": [
      "[CV]  estimator__n_estimators=10, estimator__max_depth=24, estimator__min_samples_split=6, estimator__min_samples_leaf=2 -  16.1s\n",
      "[CV] estimator__n_estimators=10, estimator__max_depth=24, estimator__min_samples_split=6, estimator__min_samples_leaf=2 \n"
     ]
    },
    {
     "name": "stderr",
     "output_type": "stream",
     "text": [
      "/Users/rob/anaconda/lib/python3.5/site-packages/sklearn/externals/joblib/parallel.py:540: UserWarning: Multiprocessing-backed parallel loops cannot be nested, setting n_jobs=1\n",
      "  **self._backend_args)\n"
     ]
    },
    {
     "name": "stdout",
     "output_type": "stream",
     "text": [
      "[CV]  estimator__n_estimators=40, estimator__max_depth=24, estimator__min_samples_split=4, estimator__min_samples_leaf=2 - 1.1min\n",
      "[CV] estimator__n_estimators=10, estimator__max_depth=24, estimator__min_samples_split=6, estimator__min_samples_leaf=2 \n"
     ]
    },
    {
     "name": "stderr",
     "output_type": "stream",
     "text": [
      "/Users/rob/anaconda/lib/python3.5/site-packages/sklearn/externals/joblib/parallel.py:540: UserWarning: Multiprocessing-backed parallel loops cannot be nested, setting n_jobs=1\n",
      "  **self._backend_args)\n"
     ]
    },
    {
     "name": "stdout",
     "output_type": "stream",
     "text": [
      "[CV]  estimator__n_estimators=40, estimator__max_depth=24, estimator__min_samples_split=4, estimator__min_samples_leaf=2 - 1.1min\n",
      "[CV] estimator__n_estimators=10, estimator__max_depth=24, estimator__min_samples_split=6, estimator__min_samples_leaf=2 \n"
     ]
    },
    {
     "name": "stderr",
     "output_type": "stream",
     "text": [
      "/Users/rob/anaconda/lib/python3.5/site-packages/sklearn/externals/joblib/parallel.py:540: UserWarning: Multiprocessing-backed parallel loops cannot be nested, setting n_jobs=1\n",
      "  **self._backend_args)\n"
     ]
    },
    {
     "name": "stdout",
     "output_type": "stream",
     "text": [
      "[CV]  estimator__n_estimators=10, estimator__max_depth=24, estimator__min_samples_split=6, estimator__min_samples_leaf=2 -  16.4s\n",
      "[CV] estimator__n_estimators=10, estimator__max_depth=24, estimator__min_samples_split=6, estimator__min_samples_leaf=2 \n"
     ]
    },
    {
     "name": "stderr",
     "output_type": "stream",
     "text": [
      "/Users/rob/anaconda/lib/python3.5/site-packages/sklearn/externals/joblib/parallel.py:540: UserWarning: Multiprocessing-backed parallel loops cannot be nested, setting n_jobs=1\n",
      "  **self._backend_args)\n"
     ]
    },
    {
     "name": "stdout",
     "output_type": "stream",
     "text": [
      "[CV]  estimator__n_estimators=10, estimator__max_depth=24, estimator__min_samples_split=6, estimator__min_samples_leaf=2 -  16.8s\n",
      "[CV] estimator__n_estimators=20, estimator__max_depth=24, estimator__min_samples_split=6, estimator__min_samples_leaf=2 \n"
     ]
    },
    {
     "name": "stderr",
     "output_type": "stream",
     "text": [
      "/Users/rob/anaconda/lib/python3.5/site-packages/sklearn/externals/joblib/parallel.py:540: UserWarning: Multiprocessing-backed parallel loops cannot be nested, setting n_jobs=1\n",
      "  **self._backend_args)\n"
     ]
    },
    {
     "name": "stdout",
     "output_type": "stream",
     "text": [
      "[CV]  estimator__n_estimators=10, estimator__max_depth=24, estimator__min_samples_split=6, estimator__min_samples_leaf=2 -  16.2s\n",
      "[CV] estimator__n_estimators=20, estimator__max_depth=24, estimator__min_samples_split=6, estimator__min_samples_leaf=2 \n"
     ]
    },
    {
     "name": "stderr",
     "output_type": "stream",
     "text": [
      "/Users/rob/anaconda/lib/python3.5/site-packages/sklearn/externals/joblib/parallel.py:540: UserWarning: Multiprocessing-backed parallel loops cannot be nested, setting n_jobs=1\n",
      "  **self._backend_args)\n"
     ]
    },
    {
     "name": "stdout",
     "output_type": "stream",
     "text": [
      "[CV]  estimator__n_estimators=10, estimator__max_depth=24, estimator__min_samples_split=6, estimator__min_samples_leaf=2 -  16.2s\n",
      "[CV] estimator__n_estimators=20, estimator__max_depth=24, estimator__min_samples_split=6, estimator__min_samples_leaf=2 \n",
      "[CV]  estimator__n_estimators=50, estimator__max_depth=24, estimator__min_samples_split=4, estimator__min_samples_leaf=2 - 1.3min\n",
      "[CV] estimator__n_estimators=20, estimator__max_depth=24, estimator__min_samples_split=6, estimator__min_samples_leaf=2 \n"
     ]
    },
    {
     "name": "stderr",
     "output_type": "stream",
     "text": [
      "/Users/rob/anaconda/lib/python3.5/site-packages/sklearn/externals/joblib/parallel.py:540: UserWarning: Multiprocessing-backed parallel loops cannot be nested, setting n_jobs=1\n",
      "  **self._backend_args)\n",
      "/Users/rob/anaconda/lib/python3.5/site-packages/sklearn/externals/joblib/parallel.py:540: UserWarning: Multiprocessing-backed parallel loops cannot be nested, setting n_jobs=1\n",
      "  **self._backend_args)\n"
     ]
    },
    {
     "name": "stdout",
     "output_type": "stream",
     "text": [
      "[CV]  estimator__n_estimators=50, estimator__max_depth=24, estimator__min_samples_split=4, estimator__min_samples_leaf=2 - 1.4min\n",
      "[CV] estimator__n_estimators=20, estimator__max_depth=24, estimator__min_samples_split=6, estimator__min_samples_leaf=2 \n"
     ]
    },
    {
     "name": "stderr",
     "output_type": "stream",
     "text": [
      "/Users/rob/anaconda/lib/python3.5/site-packages/sklearn/externals/joblib/parallel.py:540: UserWarning: Multiprocessing-backed parallel loops cannot be nested, setting n_jobs=1\n",
      "  **self._backend_args)\n"
     ]
    },
    {
     "name": "stdout",
     "output_type": "stream",
     "text": [
      "[CV]  estimator__n_estimators=50, estimator__max_depth=24, estimator__min_samples_split=4, estimator__min_samples_leaf=2 - 1.4min\n",
      "[CV] estimator__n_estimators=30, estimator__max_depth=24, estimator__min_samples_split=6, estimator__min_samples_leaf=2 \n"
     ]
    },
    {
     "name": "stderr",
     "output_type": "stream",
     "text": [
      "/Users/rob/anaconda/lib/python3.5/site-packages/sklearn/externals/joblib/parallel.py:540: UserWarning: Multiprocessing-backed parallel loops cannot be nested, setting n_jobs=1\n",
      "  **self._backend_args)\n"
     ]
    },
    {
     "name": "stdout",
     "output_type": "stream",
     "text": [
      "[CV]  estimator__n_estimators=20, estimator__max_depth=24, estimator__min_samples_split=6, estimator__min_samples_leaf=2 -  32.0s\n",
      "[CV] estimator__n_estimators=30, estimator__max_depth=24, estimator__min_samples_split=6, estimator__min_samples_leaf=2 \n"
     ]
    },
    {
     "name": "stderr",
     "output_type": "stream",
     "text": [
      "/Users/rob/anaconda/lib/python3.5/site-packages/sklearn/externals/joblib/parallel.py:540: UserWarning: Multiprocessing-backed parallel loops cannot be nested, setting n_jobs=1\n",
      "  **self._backend_args)\n"
     ]
    },
    {
     "name": "stdout",
     "output_type": "stream",
     "text": [
      "[CV]  estimator__n_estimators=50, estimator__max_depth=24, estimator__min_samples_split=4, estimator__min_samples_leaf=2 - 1.3min\n",
      "[CV] estimator__n_estimators=30, estimator__max_depth=24, estimator__min_samples_split=6, estimator__min_samples_leaf=2 \n"
     ]
    },
    {
     "name": "stderr",
     "output_type": "stream",
     "text": [
      "/Users/rob/anaconda/lib/python3.5/site-packages/sklearn/externals/joblib/parallel.py:540: UserWarning: Multiprocessing-backed parallel loops cannot be nested, setting n_jobs=1\n",
      "  **self._backend_args)\n"
     ]
    },
    {
     "name": "stdout",
     "output_type": "stream",
     "text": [
      "[CV]  estimator__n_estimators=20, estimator__max_depth=24, estimator__min_samples_split=6, estimator__min_samples_leaf=2 -  32.0s\n",
      "[CV] estimator__n_estimators=30, estimator__max_depth=24, estimator__min_samples_split=6, estimator__min_samples_leaf=2 \n"
     ]
    },
    {
     "name": "stderr",
     "output_type": "stream",
     "text": [
      "/Users/rob/anaconda/lib/python3.5/site-packages/sklearn/externals/joblib/parallel.py:540: UserWarning: Multiprocessing-backed parallel loops cannot be nested, setting n_jobs=1\n",
      "  **self._backend_args)\n"
     ]
    },
    {
     "name": "stdout",
     "output_type": "stream",
     "text": [
      "[CV]  estimator__n_estimators=50, estimator__max_depth=24, estimator__min_samples_split=4, estimator__min_samples_leaf=2 - 1.3min\n",
      "[CV] estimator__n_estimators=30, estimator__max_depth=24, estimator__min_samples_split=6, estimator__min_samples_leaf=2 \n"
     ]
    },
    {
     "name": "stderr",
     "output_type": "stream",
     "text": [
      "/Users/rob/anaconda/lib/python3.5/site-packages/sklearn/externals/joblib/parallel.py:540: UserWarning: Multiprocessing-backed parallel loops cannot be nested, setting n_jobs=1\n",
      "  **self._backend_args)\n"
     ]
    },
    {
     "name": "stdout",
     "output_type": "stream",
     "text": [
      "[CV]  estimator__n_estimators=20, estimator__max_depth=24, estimator__min_samples_split=6, estimator__min_samples_leaf=2 -  32.1s\n",
      "[CV] estimator__n_estimators=40, estimator__max_depth=24, estimator__min_samples_split=6, estimator__min_samples_leaf=2 \n",
      "[CV]  estimator__n_estimators=20, estimator__max_depth=24, estimator__min_samples_split=6, estimator__min_samples_leaf=2 -  32.0s\n"
     ]
    },
    {
     "name": "stderr",
     "output_type": "stream",
     "text": [
      "/Users/rob/anaconda/lib/python3.5/site-packages/sklearn/externals/joblib/parallel.py:540: UserWarning: Multiprocessing-backed parallel loops cannot be nested, setting n_jobs=1\n",
      "  **self._backend_args)\n"
     ]
    },
    {
     "name": "stdout",
     "output_type": "stream",
     "text": [
      "[CV] estimator__n_estimators=40, estimator__max_depth=24, estimator__min_samples_split=6, estimator__min_samples_leaf=2 \n"
     ]
    },
    {
     "name": "stderr",
     "output_type": "stream",
     "text": [
      "/Users/rob/anaconda/lib/python3.5/site-packages/sklearn/externals/joblib/parallel.py:540: UserWarning: Multiprocessing-backed parallel loops cannot be nested, setting n_jobs=1\n",
      "  **self._backend_args)\n"
     ]
    },
    {
     "name": "stdout",
     "output_type": "stream",
     "text": [
      "[CV]  estimator__n_estimators=20, estimator__max_depth=24, estimator__min_samples_split=6, estimator__min_samples_leaf=2 -  32.0s\n",
      "[CV] estimator__n_estimators=40, estimator__max_depth=24, estimator__min_samples_split=6, estimator__min_samples_leaf=2 \n"
     ]
    },
    {
     "name": "stderr",
     "output_type": "stream",
     "text": [
      "/Users/rob/anaconda/lib/python3.5/site-packages/sklearn/externals/joblib/parallel.py:540: UserWarning: Multiprocessing-backed parallel loops cannot be nested, setting n_jobs=1\n",
      "  **self._backend_args)\n"
     ]
    },
    {
     "name": "stdout",
     "output_type": "stream",
     "text": [
      "[CV]  estimator__n_estimators=30, estimator__max_depth=24, estimator__min_samples_split=6, estimator__min_samples_leaf=2 -  48.0s\n",
      "[CV] estimator__n_estimators=40, estimator__max_depth=24, estimator__min_samples_split=6, estimator__min_samples_leaf=2 \n"
     ]
    },
    {
     "name": "stderr",
     "output_type": "stream",
     "text": [
      "/Users/rob/anaconda/lib/python3.5/site-packages/sklearn/externals/joblib/parallel.py:540: UserWarning: Multiprocessing-backed parallel loops cannot be nested, setting n_jobs=1\n",
      "  **self._backend_args)\n"
     ]
    },
    {
     "name": "stdout",
     "output_type": "stream",
     "text": [
      "[CV]  estimator__n_estimators=30, estimator__max_depth=24, estimator__min_samples_split=6, estimator__min_samples_leaf=2 -  48.3s\n",
      "[CV] estimator__n_estimators=40, estimator__max_depth=24, estimator__min_samples_split=6, estimator__min_samples_leaf=2 \n"
     ]
    },
    {
     "name": "stderr",
     "output_type": "stream",
     "text": [
      "/Users/rob/anaconda/lib/python3.5/site-packages/sklearn/externals/joblib/parallel.py:540: UserWarning: Multiprocessing-backed parallel loops cannot be nested, setting n_jobs=1\n",
      "  **self._backend_args)\n"
     ]
    },
    {
     "name": "stdout",
     "output_type": "stream",
     "text": [
      "[CV]  estimator__n_estimators=30, estimator__max_depth=24, estimator__min_samples_split=6, estimator__min_samples_leaf=2 -  48.4s\n",
      "[CV] estimator__n_estimators=50, estimator__max_depth=24, estimator__min_samples_split=6, estimator__min_samples_leaf=2 \n"
     ]
    },
    {
     "name": "stderr",
     "output_type": "stream",
     "text": [
      "/Users/rob/anaconda/lib/python3.5/site-packages/sklearn/externals/joblib/parallel.py:540: UserWarning: Multiprocessing-backed parallel loops cannot be nested, setting n_jobs=1\n",
      "  **self._backend_args)\n"
     ]
    },
    {
     "name": "stdout",
     "output_type": "stream",
     "text": [
      "[CV]  estimator__n_estimators=30, estimator__max_depth=24, estimator__min_samples_split=6, estimator__min_samples_leaf=2 -  48.3s\n",
      "[CV] estimator__n_estimators=50, estimator__max_depth=24, estimator__min_samples_split=6, estimator__min_samples_leaf=2 \n"
     ]
    },
    {
     "name": "stderr",
     "output_type": "stream",
     "text": [
      "/Users/rob/anaconda/lib/python3.5/site-packages/sklearn/externals/joblib/parallel.py:540: UserWarning: Multiprocessing-backed parallel loops cannot be nested, setting n_jobs=1\n",
      "  **self._backend_args)\n"
     ]
    },
    {
     "name": "stdout",
     "output_type": "stream",
     "text": [
      "[CV]  estimator__n_estimators=30, estimator__max_depth=24, estimator__min_samples_split=6, estimator__min_samples_leaf=2 -  48.4s\n",
      "[CV] estimator__n_estimators=50, estimator__max_depth=24, estimator__min_samples_split=6, estimator__min_samples_leaf=2 \n"
     ]
    },
    {
     "name": "stderr",
     "output_type": "stream",
     "text": [
      "/Users/rob/anaconda/lib/python3.5/site-packages/sklearn/externals/joblib/parallel.py:540: UserWarning: Multiprocessing-backed parallel loops cannot be nested, setting n_jobs=1\n",
      "  **self._backend_args)\n"
     ]
    },
    {
     "name": "stdout",
     "output_type": "stream",
     "text": [
      "[CV]  estimator__n_estimators=40, estimator__max_depth=24, estimator__min_samples_split=6, estimator__min_samples_leaf=2 - 1.1min\n",
      "[CV] estimator__n_estimators=50, estimator__max_depth=24, estimator__min_samples_split=6, estimator__min_samples_leaf=2 \n"
     ]
    },
    {
     "name": "stderr",
     "output_type": "stream",
     "text": [
      "/Users/rob/anaconda/lib/python3.5/site-packages/sklearn/externals/joblib/parallel.py:540: UserWarning: Multiprocessing-backed parallel loops cannot be nested, setting n_jobs=1\n",
      "  **self._backend_args)\n"
     ]
    },
    {
     "name": "stdout",
     "output_type": "stream",
     "text": [
      "[CV]  estimator__n_estimators=40, estimator__max_depth=24, estimator__min_samples_split=6, estimator__min_samples_leaf=2 - 1.1min\n",
      "[CV] estimator__n_estimators=50, estimator__max_depth=24, estimator__min_samples_split=6, estimator__min_samples_leaf=2 \n"
     ]
    },
    {
     "name": "stderr",
     "output_type": "stream",
     "text": [
      "/Users/rob/anaconda/lib/python3.5/site-packages/sklearn/externals/joblib/parallel.py:540: UserWarning: Multiprocessing-backed parallel loops cannot be nested, setting n_jobs=1\n",
      "  **self._backend_args)\n"
     ]
    },
    {
     "name": "stdout",
     "output_type": "stream",
     "text": [
      "[CV]  estimator__n_estimators=40, estimator__max_depth=24, estimator__min_samples_split=6, estimator__min_samples_leaf=2 - 1.1min\n",
      "[CV] estimator__n_estimators=10, estimator__max_depth=24, estimator__min_samples_split=2, estimator__min_samples_leaf=4 \n"
     ]
    },
    {
     "name": "stderr",
     "output_type": "stream",
     "text": [
      "/Users/rob/anaconda/lib/python3.5/site-packages/sklearn/externals/joblib/parallel.py:540: UserWarning: Multiprocessing-backed parallel loops cannot be nested, setting n_jobs=1\n",
      "  **self._backend_args)\n"
     ]
    },
    {
     "name": "stdout",
     "output_type": "stream",
     "text": [
      "[CV]  estimator__n_estimators=10, estimator__max_depth=24, estimator__min_samples_split=2, estimator__min_samples_leaf=4 -  14.7s\n",
      "[CV] estimator__n_estimators=10, estimator__max_depth=24, estimator__min_samples_split=2, estimator__min_samples_leaf=4 \n"
     ]
    },
    {
     "name": "stderr",
     "output_type": "stream",
     "text": [
      "/Users/rob/anaconda/lib/python3.5/site-packages/sklearn/externals/joblib/parallel.py:540: UserWarning: Multiprocessing-backed parallel loops cannot be nested, setting n_jobs=1\n",
      "  **self._backend_args)\n"
     ]
    },
    {
     "name": "stdout",
     "output_type": "stream",
     "text": [
      "[CV]  estimator__n_estimators=40, estimator__max_depth=24, estimator__min_samples_split=6, estimator__min_samples_leaf=2 - 1.1min\n",
      "[CV] estimator__n_estimators=10, estimator__max_depth=24, estimator__min_samples_split=2, estimator__min_samples_leaf=4 \n"
     ]
    },
    {
     "name": "stderr",
     "output_type": "stream",
     "text": [
      "/Users/rob/anaconda/lib/python3.5/site-packages/sklearn/externals/joblib/parallel.py:540: UserWarning: Multiprocessing-backed parallel loops cannot be nested, setting n_jobs=1\n",
      "  **self._backend_args)\n"
     ]
    },
    {
     "name": "stdout",
     "output_type": "stream",
     "text": [
      "[CV]  estimator__n_estimators=40, estimator__max_depth=24, estimator__min_samples_split=6, estimator__min_samples_leaf=2 - 1.1min\n",
      "[CV] estimator__n_estimators=10, estimator__max_depth=24, estimator__min_samples_split=2, estimator__min_samples_leaf=4 \n",
      "[CV]  estimator__n_estimators=10, estimator__max_depth=24, estimator__min_samples_split=2, estimator__min_samples_leaf=4 -  14.4s\n",
      "[CV] estimator__n_estimators=10, estimator__max_depth=24, estimator__min_samples_split=2, estimator__min_samples_leaf=4 \n"
     ]
    },
    {
     "name": "stderr",
     "output_type": "stream",
     "text": [
      "/Users/rob/anaconda/lib/python3.5/site-packages/sklearn/externals/joblib/parallel.py:540: UserWarning: Multiprocessing-backed parallel loops cannot be nested, setting n_jobs=1\n",
      "  **self._backend_args)\n",
      "/Users/rob/anaconda/lib/python3.5/site-packages/sklearn/externals/joblib/parallel.py:540: UserWarning: Multiprocessing-backed parallel loops cannot be nested, setting n_jobs=1\n",
      "  **self._backend_args)\n"
     ]
    },
    {
     "name": "stdout",
     "output_type": "stream",
     "text": [
      "[CV]  estimator__n_estimators=10, estimator__max_depth=24, estimator__min_samples_split=2, estimator__min_samples_leaf=4 -  15.2s\n",
      "[CV] estimator__n_estimators=20, estimator__max_depth=24, estimator__min_samples_split=2, estimator__min_samples_leaf=4 \n"
     ]
    },
    {
     "name": "stderr",
     "output_type": "stream",
     "text": [
      "/Users/rob/anaconda/lib/python3.5/site-packages/sklearn/externals/joblib/parallel.py:540: UserWarning: Multiprocessing-backed parallel loops cannot be nested, setting n_jobs=1\n",
      "  **self._backend_args)\n"
     ]
    },
    {
     "name": "stdout",
     "output_type": "stream",
     "text": [
      "[CV]  estimator__n_estimators=10, estimator__max_depth=24, estimator__min_samples_split=2, estimator__min_samples_leaf=4 -  15.0s\n",
      "[CV] estimator__n_estimators=20, estimator__max_depth=24, estimator__min_samples_split=2, estimator__min_samples_leaf=4 \n"
     ]
    },
    {
     "name": "stderr",
     "output_type": "stream",
     "text": [
      "/Users/rob/anaconda/lib/python3.5/site-packages/sklearn/externals/joblib/parallel.py:540: UserWarning: Multiprocessing-backed parallel loops cannot be nested, setting n_jobs=1\n",
      "  **self._backend_args)\n"
     ]
    },
    {
     "name": "stdout",
     "output_type": "stream",
     "text": [
      "[CV]  estimator__n_estimators=10, estimator__max_depth=24, estimator__min_samples_split=2, estimator__min_samples_leaf=4 -  15.1s\n",
      "[CV] estimator__n_estimators=20, estimator__max_depth=24, estimator__min_samples_split=2, estimator__min_samples_leaf=4 \n"
     ]
    },
    {
     "name": "stderr",
     "output_type": "stream",
     "text": [
      "/Users/rob/anaconda/lib/python3.5/site-packages/sklearn/externals/joblib/parallel.py:540: UserWarning: Multiprocessing-backed parallel loops cannot be nested, setting n_jobs=1\n",
      "  **self._backend_args)\n"
     ]
    },
    {
     "name": "stdout",
     "output_type": "stream",
     "text": [
      "[CV]  estimator__n_estimators=50, estimator__max_depth=24, estimator__min_samples_split=6, estimator__min_samples_leaf=2 - 1.3min\n",
      "[CV] estimator__n_estimators=20, estimator__max_depth=24, estimator__min_samples_split=2, estimator__min_samples_leaf=4 \n"
     ]
    },
    {
     "name": "stderr",
     "output_type": "stream",
     "text": [
      "/Users/rob/anaconda/lib/python3.5/site-packages/sklearn/externals/joblib/parallel.py:540: UserWarning: Multiprocessing-backed parallel loops cannot be nested, setting n_jobs=1\n",
      "  **self._backend_args)\n"
     ]
    },
    {
     "name": "stdout",
     "output_type": "stream",
     "text": [
      "[CV]  estimator__n_estimators=50, estimator__max_depth=24, estimator__min_samples_split=6, estimator__min_samples_leaf=2 - 1.3min\n",
      "[CV] estimator__n_estimators=20, estimator__max_depth=24, estimator__min_samples_split=2, estimator__min_samples_leaf=4 \n"
     ]
    },
    {
     "name": "stderr",
     "output_type": "stream",
     "text": [
      "/Users/rob/anaconda/lib/python3.5/site-packages/sklearn/externals/joblib/parallel.py:540: UserWarning: Multiprocessing-backed parallel loops cannot be nested, setting n_jobs=1\n",
      "  **self._backend_args)\n"
     ]
    },
    {
     "name": "stdout",
     "output_type": "stream",
     "text": [
      "[CV]  estimator__n_estimators=20, estimator__max_depth=24, estimator__min_samples_split=2, estimator__min_samples_leaf=4 -  29.4s\n",
      "[CV] estimator__n_estimators=30, estimator__max_depth=24, estimator__min_samples_split=2, estimator__min_samples_leaf=4 \n"
     ]
    },
    {
     "name": "stderr",
     "output_type": "stream",
     "text": [
      "/Users/rob/anaconda/lib/python3.5/site-packages/sklearn/externals/joblib/parallel.py:540: UserWarning: Multiprocessing-backed parallel loops cannot be nested, setting n_jobs=1\n",
      "  **self._backend_args)\n"
     ]
    },
    {
     "name": "stdout",
     "output_type": "stream",
     "text": [
      "[CV]  estimator__n_estimators=50, estimator__max_depth=24, estimator__min_samples_split=6, estimator__min_samples_leaf=2 - 1.3min\n",
      "[CV] estimator__n_estimators=30, estimator__max_depth=24, estimator__min_samples_split=2, estimator__min_samples_leaf=4 \n"
     ]
    },
    {
     "name": "stderr",
     "output_type": "stream",
     "text": [
      "/Users/rob/anaconda/lib/python3.5/site-packages/sklearn/externals/joblib/parallel.py:540: UserWarning: Multiprocessing-backed parallel loops cannot be nested, setting n_jobs=1\n",
      "  **self._backend_args)\n"
     ]
    },
    {
     "name": "stdout",
     "output_type": "stream",
     "text": [
      "[CV]  estimator__n_estimators=20, estimator__max_depth=24, estimator__min_samples_split=2, estimator__min_samples_leaf=4 -  29.6s\n",
      "[CV] estimator__n_estimators=30, estimator__max_depth=24, estimator__min_samples_split=2, estimator__min_samples_leaf=4 \n"
     ]
    },
    {
     "name": "stderr",
     "output_type": "stream",
     "text": [
      "/Users/rob/anaconda/lib/python3.5/site-packages/sklearn/externals/joblib/parallel.py:540: UserWarning: Multiprocessing-backed parallel loops cannot be nested, setting n_jobs=1\n",
      "  **self._backend_args)\n"
     ]
    },
    {
     "name": "stdout",
     "output_type": "stream",
     "text": [
      "[CV]  estimator__n_estimators=20, estimator__max_depth=24, estimator__min_samples_split=2, estimator__min_samples_leaf=4 -  30.2s\n",
      "[CV] estimator__n_estimators=30, estimator__max_depth=24, estimator__min_samples_split=2, estimator__min_samples_leaf=4 \n"
     ]
    },
    {
     "name": "stderr",
     "output_type": "stream",
     "text": [
      "/Users/rob/anaconda/lib/python3.5/site-packages/sklearn/externals/joblib/parallel.py:540: UserWarning: Multiprocessing-backed parallel loops cannot be nested, setting n_jobs=1\n",
      "  **self._backend_args)\n"
     ]
    },
    {
     "name": "stdout",
     "output_type": "stream",
     "text": [
      "[CV]  estimator__n_estimators=50, estimator__max_depth=24, estimator__min_samples_split=6, estimator__min_samples_leaf=2 - 1.3min\n",
      "[CV] estimator__n_estimators=30, estimator__max_depth=24, estimator__min_samples_split=2, estimator__min_samples_leaf=4 \n"
     ]
    },
    {
     "name": "stderr",
     "output_type": "stream",
     "text": [
      "/Users/rob/anaconda/lib/python3.5/site-packages/sklearn/externals/joblib/parallel.py:540: UserWarning: Multiprocessing-backed parallel loops cannot be nested, setting n_jobs=1\n",
      "  **self._backend_args)\n"
     ]
    },
    {
     "name": "stdout",
     "output_type": "stream",
     "text": [
      "[CV]  estimator__n_estimators=50, estimator__max_depth=24, estimator__min_samples_split=6, estimator__min_samples_leaf=2 - 1.3min\n",
      "[CV] estimator__n_estimators=40, estimator__max_depth=24, estimator__min_samples_split=2, estimator__min_samples_leaf=4 \n"
     ]
    },
    {
     "name": "stderr",
     "output_type": "stream",
     "text": [
      "/Users/rob/anaconda/lib/python3.5/site-packages/sklearn/externals/joblib/parallel.py:540: UserWarning: Multiprocessing-backed parallel loops cannot be nested, setting n_jobs=1\n",
      "  **self._backend_args)\n"
     ]
    },
    {
     "name": "stdout",
     "output_type": "stream",
     "text": [
      "[CV]  estimator__n_estimators=20, estimator__max_depth=24, estimator__min_samples_split=2, estimator__min_samples_leaf=4 -  29.8s\n",
      "[CV] estimator__n_estimators=40, estimator__max_depth=24, estimator__min_samples_split=2, estimator__min_samples_leaf=4 \n"
     ]
    },
    {
     "name": "stderr",
     "output_type": "stream",
     "text": [
      "/Users/rob/anaconda/lib/python3.5/site-packages/sklearn/externals/joblib/parallel.py:540: UserWarning: Multiprocessing-backed parallel loops cannot be nested, setting n_jobs=1\n",
      "  **self._backend_args)\n"
     ]
    },
    {
     "name": "stdout",
     "output_type": "stream",
     "text": [
      "[CV]  estimator__n_estimators=20, estimator__max_depth=24, estimator__min_samples_split=2, estimator__min_samples_leaf=4 -  29.7s\n",
      "[CV] estimator__n_estimators=40, estimator__max_depth=24, estimator__min_samples_split=2, estimator__min_samples_leaf=4 \n"
     ]
    },
    {
     "name": "stderr",
     "output_type": "stream",
     "text": [
      "/Users/rob/anaconda/lib/python3.5/site-packages/sklearn/externals/joblib/parallel.py:540: UserWarning: Multiprocessing-backed parallel loops cannot be nested, setting n_jobs=1\n",
      "  **self._backend_args)\n"
     ]
    },
    {
     "name": "stdout",
     "output_type": "stream",
     "text": [
      "[CV]  estimator__n_estimators=30, estimator__max_depth=24, estimator__min_samples_split=2, estimator__min_samples_leaf=4 -  43.9s\n",
      "[CV] estimator__n_estimators=40, estimator__max_depth=24, estimator__min_samples_split=2, estimator__min_samples_leaf=4 \n"
     ]
    },
    {
     "name": "stderr",
     "output_type": "stream",
     "text": [
      "/Users/rob/anaconda/lib/python3.5/site-packages/sklearn/externals/joblib/parallel.py:540: UserWarning: Multiprocessing-backed parallel loops cannot be nested, setting n_jobs=1\n",
      "  **self._backend_args)\n"
     ]
    },
    {
     "name": "stdout",
     "output_type": "stream",
     "text": [
      "[CV]  estimator__n_estimators=30, estimator__max_depth=24, estimator__min_samples_split=2, estimator__min_samples_leaf=4 -  44.2s\n",
      "[CV] estimator__n_estimators=40, estimator__max_depth=24, estimator__min_samples_split=2, estimator__min_samples_leaf=4 \n"
     ]
    },
    {
     "name": "stderr",
     "output_type": "stream",
     "text": [
      "/Users/rob/anaconda/lib/python3.5/site-packages/sklearn/externals/joblib/parallel.py:540: UserWarning: Multiprocessing-backed parallel loops cannot be nested, setting n_jobs=1\n",
      "  **self._backend_args)\n"
     ]
    },
    {
     "name": "stdout",
     "output_type": "stream",
     "text": [
      "[CV]  estimator__n_estimators=30, estimator__max_depth=24, estimator__min_samples_split=2, estimator__min_samples_leaf=4 -  44.3s\n",
      "[CV] estimator__n_estimators=50, estimator__max_depth=24, estimator__min_samples_split=2, estimator__min_samples_leaf=4 \n"
     ]
    },
    {
     "name": "stderr",
     "output_type": "stream",
     "text": [
      "/Users/rob/anaconda/lib/python3.5/site-packages/sklearn/externals/joblib/parallel.py:540: UserWarning: Multiprocessing-backed parallel loops cannot be nested, setting n_jobs=1\n",
      "  **self._backend_args)\n"
     ]
    },
    {
     "name": "stdout",
     "output_type": "stream",
     "text": [
      "[CV]  estimator__n_estimators=30, estimator__max_depth=24, estimator__min_samples_split=2, estimator__min_samples_leaf=4 -  44.0s\n",
      "[CV] estimator__n_estimators=50, estimator__max_depth=24, estimator__min_samples_split=2, estimator__min_samples_leaf=4 \n"
     ]
    },
    {
     "name": "stderr",
     "output_type": "stream",
     "text": [
      "/Users/rob/anaconda/lib/python3.5/site-packages/sklearn/externals/joblib/parallel.py:540: UserWarning: Multiprocessing-backed parallel loops cannot be nested, setting n_jobs=1\n",
      "  **self._backend_args)\n"
     ]
    },
    {
     "name": "stdout",
     "output_type": "stream",
     "text": [
      "[CV]  estimator__n_estimators=30, estimator__max_depth=24, estimator__min_samples_split=2, estimator__min_samples_leaf=4 -  43.7s\n",
      "[CV] estimator__n_estimators=50, estimator__max_depth=24, estimator__min_samples_split=2, estimator__min_samples_leaf=4 \n"
     ]
    },
    {
     "name": "stderr",
     "output_type": "stream",
     "text": [
      "/Users/rob/anaconda/lib/python3.5/site-packages/sklearn/externals/joblib/parallel.py:540: UserWarning: Multiprocessing-backed parallel loops cannot be nested, setting n_jobs=1\n",
      "  **self._backend_args)\n"
     ]
    },
    {
     "name": "stdout",
     "output_type": "stream",
     "text": [
      "[CV]  estimator__n_estimators=40, estimator__max_depth=24, estimator__min_samples_split=2, estimator__min_samples_leaf=4 -  58.6s\n",
      "[CV] estimator__n_estimators=50, estimator__max_depth=24, estimator__min_samples_split=2, estimator__min_samples_leaf=4 \n"
     ]
    },
    {
     "name": "stderr",
     "output_type": "stream",
     "text": [
      "/Users/rob/anaconda/lib/python3.5/site-packages/sklearn/externals/joblib/parallel.py:540: UserWarning: Multiprocessing-backed parallel loops cannot be nested, setting n_jobs=1\n",
      "  **self._backend_args)\n"
     ]
    },
    {
     "name": "stdout",
     "output_type": "stream",
     "text": [
      "[CV]  estimator__n_estimators=40, estimator__max_depth=24, estimator__min_samples_split=2, estimator__min_samples_leaf=4 -  59.0s\n",
      "[CV] estimator__n_estimators=50, estimator__max_depth=24, estimator__min_samples_split=2, estimator__min_samples_leaf=4 \n"
     ]
    },
    {
     "name": "stderr",
     "output_type": "stream",
     "text": [
      "/Users/rob/anaconda/lib/python3.5/site-packages/sklearn/externals/joblib/parallel.py:540: UserWarning: Multiprocessing-backed parallel loops cannot be nested, setting n_jobs=1\n",
      "  **self._backend_args)\n"
     ]
    },
    {
     "name": "stdout",
     "output_type": "stream",
     "text": [
      "[CV]  estimator__n_estimators=40, estimator__max_depth=24, estimator__min_samples_split=2, estimator__min_samples_leaf=4 -  59.4s\n",
      "[CV] estimator__n_estimators=10, estimator__max_depth=24, estimator__min_samples_split=4, estimator__min_samples_leaf=4 \n"
     ]
    },
    {
     "name": "stderr",
     "output_type": "stream",
     "text": [
      "/Users/rob/anaconda/lib/python3.5/site-packages/sklearn/externals/joblib/parallel.py:540: UserWarning: Multiprocessing-backed parallel loops cannot be nested, setting n_jobs=1\n",
      "  **self._backend_args)\n"
     ]
    },
    {
     "name": "stdout",
     "output_type": "stream",
     "text": [
      "[CV]  estimator__n_estimators=10, estimator__max_depth=24, estimator__min_samples_split=4, estimator__min_samples_leaf=4 -  14.9s\n",
      "[CV] estimator__n_estimators=10, estimator__max_depth=24, estimator__min_samples_split=4, estimator__min_samples_leaf=4 \n"
     ]
    },
    {
     "name": "stderr",
     "output_type": "stream",
     "text": [
      "/Users/rob/anaconda/lib/python3.5/site-packages/sklearn/externals/joblib/parallel.py:540: UserWarning: Multiprocessing-backed parallel loops cannot be nested, setting n_jobs=1\n",
      "  **self._backend_args)\n"
     ]
    },
    {
     "name": "stdout",
     "output_type": "stream",
     "text": [
      "[CV]  estimator__n_estimators=40, estimator__max_depth=24, estimator__min_samples_split=2, estimator__min_samples_leaf=4 -  58.5s\n",
      "[CV] estimator__n_estimators=10, estimator__max_depth=24, estimator__min_samples_split=4, estimator__min_samples_leaf=4 \n"
     ]
    },
    {
     "name": "stderr",
     "output_type": "stream",
     "text": [
      "/Users/rob/anaconda/lib/python3.5/site-packages/sklearn/externals/joblib/parallel.py:540: UserWarning: Multiprocessing-backed parallel loops cannot be nested, setting n_jobs=1\n",
      "  **self._backend_args)\n"
     ]
    },
    {
     "name": "stdout",
     "output_type": "stream",
     "text": [
      "[CV]  estimator__n_estimators=40, estimator__max_depth=24, estimator__min_samples_split=2, estimator__min_samples_leaf=4 -  59.3s\n",
      "[CV] estimator__n_estimators=10, estimator__max_depth=24, estimator__min_samples_split=4, estimator__min_samples_leaf=4 \n"
     ]
    },
    {
     "name": "stderr",
     "output_type": "stream",
     "text": [
      "/Users/rob/anaconda/lib/python3.5/site-packages/sklearn/externals/joblib/parallel.py:540: UserWarning: Multiprocessing-backed parallel loops cannot be nested, setting n_jobs=1\n",
      "  **self._backend_args)\n"
     ]
    },
    {
     "name": "stdout",
     "output_type": "stream",
     "text": [
      "[CV]  estimator__n_estimators=10, estimator__max_depth=24, estimator__min_samples_split=4, estimator__min_samples_leaf=4 -  14.5s\n",
      "[CV] estimator__n_estimators=10, estimator__max_depth=24, estimator__min_samples_split=4, estimator__min_samples_leaf=4 \n"
     ]
    },
    {
     "name": "stderr",
     "output_type": "stream",
     "text": [
      "/Users/rob/anaconda/lib/python3.5/site-packages/sklearn/externals/joblib/parallel.py:540: UserWarning: Multiprocessing-backed parallel loops cannot be nested, setting n_jobs=1\n",
      "  **self._backend_args)\n"
     ]
    },
    {
     "name": "stdout",
     "output_type": "stream",
     "text": [
      "[CV]  estimator__n_estimators=10, estimator__max_depth=24, estimator__min_samples_split=4, estimator__min_samples_leaf=4 -  14.8s\n",
      "[CV] estimator__n_estimators=20, estimator__max_depth=24, estimator__min_samples_split=4, estimator__min_samples_leaf=4 \n"
     ]
    },
    {
     "name": "stderr",
     "output_type": "stream",
     "text": [
      "/Users/rob/anaconda/lib/python3.5/site-packages/sklearn/externals/joblib/parallel.py:540: UserWarning: Multiprocessing-backed parallel loops cannot be nested, setting n_jobs=1\n",
      "  **self._backend_args)\n"
     ]
    },
    {
     "name": "stdout",
     "output_type": "stream",
     "text": [
      "[CV]  estimator__n_estimators=10, estimator__max_depth=24, estimator__min_samples_split=4, estimator__min_samples_leaf=4 -  15.0s\n",
      "[CV] estimator__n_estimators=20, estimator__max_depth=24, estimator__min_samples_split=4, estimator__min_samples_leaf=4 \n"
     ]
    },
    {
     "name": "stderr",
     "output_type": "stream",
     "text": [
      "/Users/rob/anaconda/lib/python3.5/site-packages/sklearn/externals/joblib/parallel.py:540: UserWarning: Multiprocessing-backed parallel loops cannot be nested, setting n_jobs=1\n",
      "  **self._backend_args)\n"
     ]
    },
    {
     "name": "stdout",
     "output_type": "stream",
     "text": [
      "[CV]  estimator__n_estimators=10, estimator__max_depth=24, estimator__min_samples_split=4, estimator__min_samples_leaf=4 -  14.6s\n",
      "[CV] estimator__n_estimators=20, estimator__max_depth=24, estimator__min_samples_split=4, estimator__min_samples_leaf=4 \n"
     ]
    },
    {
     "name": "stderr",
     "output_type": "stream",
     "text": [
      "/Users/rob/anaconda/lib/python3.5/site-packages/sklearn/externals/joblib/parallel.py:540: UserWarning: Multiprocessing-backed parallel loops cannot be nested, setting n_jobs=1\n",
      "  **self._backend_args)\n"
     ]
    },
    {
     "name": "stdout",
     "output_type": "stream",
     "text": [
      "[CV]  estimator__n_estimators=50, estimator__max_depth=24, estimator__min_samples_split=2, estimator__min_samples_leaf=4 - 1.2min\n",
      "[CV] estimator__n_estimators=20, estimator__max_depth=24, estimator__min_samples_split=4, estimator__min_samples_leaf=4 \n"
     ]
    },
    {
     "name": "stderr",
     "output_type": "stream",
     "text": [
      "/Users/rob/anaconda/lib/python3.5/site-packages/sklearn/externals/joblib/parallel.py:540: UserWarning: Multiprocessing-backed parallel loops cannot be nested, setting n_jobs=1\n",
      "  **self._backend_args)\n"
     ]
    },
    {
     "name": "stdout",
     "output_type": "stream",
     "text": [
      "[CV]  estimator__n_estimators=50, estimator__max_depth=24, estimator__min_samples_split=2, estimator__min_samples_leaf=4 - 1.2min\n",
      "[CV] estimator__n_estimators=20, estimator__max_depth=24, estimator__min_samples_split=4, estimator__min_samples_leaf=4 \n"
     ]
    },
    {
     "name": "stderr",
     "output_type": "stream",
     "text": [
      "/Users/rob/anaconda/lib/python3.5/site-packages/sklearn/externals/joblib/parallel.py:540: UserWarning: Multiprocessing-backed parallel loops cannot be nested, setting n_jobs=1\n",
      "  **self._backend_args)\n"
     ]
    },
    {
     "name": "stdout",
     "output_type": "stream",
     "text": [
      "[CV]  estimator__n_estimators=50, estimator__max_depth=24, estimator__min_samples_split=2, estimator__min_samples_leaf=4 - 1.2min\n",
      "[CV] estimator__n_estimators=30, estimator__max_depth=24, estimator__min_samples_split=4, estimator__min_samples_leaf=4 \n"
     ]
    },
    {
     "name": "stderr",
     "output_type": "stream",
     "text": [
      "/Users/rob/anaconda/lib/python3.5/site-packages/sklearn/externals/joblib/parallel.py:540: UserWarning: Multiprocessing-backed parallel loops cannot be nested, setting n_jobs=1\n",
      "  **self._backend_args)\n"
     ]
    },
    {
     "name": "stdout",
     "output_type": "stream",
     "text": [
      "[CV]  estimator__n_estimators=20, estimator__max_depth=24, estimator__min_samples_split=4, estimator__min_samples_leaf=4 -  29.3s\n",
      "[CV] estimator__n_estimators=30, estimator__max_depth=24, estimator__min_samples_split=4, estimator__min_samples_leaf=4 \n"
     ]
    },
    {
     "name": "stderr",
     "output_type": "stream",
     "text": [
      "/Users/rob/anaconda/lib/python3.5/site-packages/sklearn/externals/joblib/parallel.py:540: UserWarning: Multiprocessing-backed parallel loops cannot be nested, setting n_jobs=1\n",
      "  **self._backend_args)\n"
     ]
    },
    {
     "name": "stdout",
     "output_type": "stream",
     "text": [
      "[CV]  estimator__n_estimators=20, estimator__max_depth=24, estimator__min_samples_split=4, estimator__min_samples_leaf=4 -  29.0s\n",
      "[CV] estimator__n_estimators=30, estimator__max_depth=24, estimator__min_samples_split=4, estimator__min_samples_leaf=4 \n"
     ]
    },
    {
     "name": "stderr",
     "output_type": "stream",
     "text": [
      "/Users/rob/anaconda/lib/python3.5/site-packages/sklearn/externals/joblib/parallel.py:540: UserWarning: Multiprocessing-backed parallel loops cannot be nested, setting n_jobs=1\n",
      "  **self._backend_args)\n"
     ]
    },
    {
     "name": "stdout",
     "output_type": "stream",
     "text": [
      "[CV]  estimator__n_estimators=50, estimator__max_depth=24, estimator__min_samples_split=2, estimator__min_samples_leaf=4 - 1.2min\n",
      "[CV] estimator__n_estimators=30, estimator__max_depth=24, estimator__min_samples_split=4, estimator__min_samples_leaf=4 \n"
     ]
    },
    {
     "name": "stderr",
     "output_type": "stream",
     "text": [
      "/Users/rob/anaconda/lib/python3.5/site-packages/sklearn/externals/joblib/parallel.py:540: UserWarning: Multiprocessing-backed parallel loops cannot be nested, setting n_jobs=1\n",
      "  **self._backend_args)\n"
     ]
    },
    {
     "name": "stdout",
     "output_type": "stream",
     "text": [
      "[CV]  estimator__n_estimators=50, estimator__max_depth=24, estimator__min_samples_split=2, estimator__min_samples_leaf=4 - 1.2min\n",
      "[CV] estimator__n_estimators=30, estimator__max_depth=24, estimator__min_samples_split=4, estimator__min_samples_leaf=4 \n"
     ]
    },
    {
     "name": "stderr",
     "output_type": "stream",
     "text": [
      "/Users/rob/anaconda/lib/python3.5/site-packages/sklearn/externals/joblib/parallel.py:540: UserWarning: Multiprocessing-backed parallel loops cannot be nested, setting n_jobs=1\n",
      "  **self._backend_args)\n"
     ]
    },
    {
     "name": "stdout",
     "output_type": "stream",
     "text": [
      "[CV]  estimator__n_estimators=20, estimator__max_depth=24, estimator__min_samples_split=4, estimator__min_samples_leaf=4 -  29.7s\n",
      "[CV] estimator__n_estimators=40, estimator__max_depth=24, estimator__min_samples_split=4, estimator__min_samples_leaf=4 \n"
     ]
    },
    {
     "name": "stderr",
     "output_type": "stream",
     "text": [
      "/Users/rob/anaconda/lib/python3.5/site-packages/sklearn/externals/joblib/parallel.py:540: UserWarning: Multiprocessing-backed parallel loops cannot be nested, setting n_jobs=1\n",
      "  **self._backend_args)\n"
     ]
    },
    {
     "name": "stdout",
     "output_type": "stream",
     "text": [
      "[CV]  estimator__n_estimators=20, estimator__max_depth=24, estimator__min_samples_split=4, estimator__min_samples_leaf=4 -  29.7s\n",
      "[CV] estimator__n_estimators=40, estimator__max_depth=24, estimator__min_samples_split=4, estimator__min_samples_leaf=4 \n"
     ]
    },
    {
     "name": "stderr",
     "output_type": "stream",
     "text": [
      "/Users/rob/anaconda/lib/python3.5/site-packages/sklearn/externals/joblib/parallel.py:540: UserWarning: Multiprocessing-backed parallel loops cannot be nested, setting n_jobs=1\n",
      "  **self._backend_args)\n"
     ]
    },
    {
     "name": "stdout",
     "output_type": "stream",
     "text": [
      "[CV]  estimator__n_estimators=20, estimator__max_depth=24, estimator__min_samples_split=4, estimator__min_samples_leaf=4 -  29.9s\n",
      "[CV] estimator__n_estimators=40, estimator__max_depth=24, estimator__min_samples_split=4, estimator__min_samples_leaf=4 \n"
     ]
    },
    {
     "name": "stderr",
     "output_type": "stream",
     "text": [
      "/Users/rob/anaconda/lib/python3.5/site-packages/sklearn/externals/joblib/parallel.py:540: UserWarning: Multiprocessing-backed parallel loops cannot be nested, setting n_jobs=1\n",
      "  **self._backend_args)\n"
     ]
    },
    {
     "name": "stdout",
     "output_type": "stream",
     "text": [
      "[CV]  estimator__n_estimators=30, estimator__max_depth=24, estimator__min_samples_split=4, estimator__min_samples_leaf=4 -  44.0s\n",
      "[CV] estimator__n_estimators=40, estimator__max_depth=24, estimator__min_samples_split=4, estimator__min_samples_leaf=4 \n"
     ]
    },
    {
     "name": "stderr",
     "output_type": "stream",
     "text": [
      "/Users/rob/anaconda/lib/python3.5/site-packages/sklearn/externals/joblib/parallel.py:540: UserWarning: Multiprocessing-backed parallel loops cannot be nested, setting n_jobs=1\n",
      "  **self._backend_args)\n"
     ]
    },
    {
     "name": "stdout",
     "output_type": "stream",
     "text": [
      "[CV]  estimator__n_estimators=30, estimator__max_depth=24, estimator__min_samples_split=4, estimator__min_samples_leaf=4 -  44.2s\n",
      "[CV] estimator__n_estimators=40, estimator__max_depth=24, estimator__min_samples_split=4, estimator__min_samples_leaf=4 \n"
     ]
    },
    {
     "name": "stderr",
     "output_type": "stream",
     "text": [
      "/Users/rob/anaconda/lib/python3.5/site-packages/sklearn/externals/joblib/parallel.py:540: UserWarning: Multiprocessing-backed parallel loops cannot be nested, setting n_jobs=1\n",
      "  **self._backend_args)\n"
     ]
    },
    {
     "name": "stdout",
     "output_type": "stream",
     "text": [
      "[CV]  estimator__n_estimators=30, estimator__max_depth=24, estimator__min_samples_split=4, estimator__min_samples_leaf=4 -  44.4s\n",
      "[CV] estimator__n_estimators=50, estimator__max_depth=24, estimator__min_samples_split=4, estimator__min_samples_leaf=4 \n"
     ]
    },
    {
     "name": "stderr",
     "output_type": "stream",
     "text": [
      "/Users/rob/anaconda/lib/python3.5/site-packages/sklearn/externals/joblib/parallel.py:540: UserWarning: Multiprocessing-backed parallel loops cannot be nested, setting n_jobs=1\n",
      "  **self._backend_args)\n"
     ]
    },
    {
     "name": "stdout",
     "output_type": "stream",
     "text": [
      "[CV]  estimator__n_estimators=30, estimator__max_depth=24, estimator__min_samples_split=4, estimator__min_samples_leaf=4 -  44.3s\n",
      "[CV] estimator__n_estimators=50, estimator__max_depth=24, estimator__min_samples_split=4, estimator__min_samples_leaf=4 \n"
     ]
    },
    {
     "name": "stderr",
     "output_type": "stream",
     "text": [
      "/Users/rob/anaconda/lib/python3.5/site-packages/sklearn/externals/joblib/parallel.py:540: UserWarning: Multiprocessing-backed parallel loops cannot be nested, setting n_jobs=1\n",
      "  **self._backend_args)\n"
     ]
    },
    {
     "name": "stdout",
     "output_type": "stream",
     "text": [
      "[CV]  estimator__n_estimators=30, estimator__max_depth=24, estimator__min_samples_split=4, estimator__min_samples_leaf=4 -  44.5s\n",
      "[CV] estimator__n_estimators=50, estimator__max_depth=24, estimator__min_samples_split=4, estimator__min_samples_leaf=4 \n"
     ]
    },
    {
     "name": "stderr",
     "output_type": "stream",
     "text": [
      "/Users/rob/anaconda/lib/python3.5/site-packages/sklearn/externals/joblib/parallel.py:540: UserWarning: Multiprocessing-backed parallel loops cannot be nested, setting n_jobs=1\n",
      "  **self._backend_args)\n"
     ]
    },
    {
     "name": "stdout",
     "output_type": "stream",
     "text": [
      "[CV]  estimator__n_estimators=40, estimator__max_depth=24, estimator__min_samples_split=4, estimator__min_samples_leaf=4 -  58.4s\n",
      "[CV] estimator__n_estimators=50, estimator__max_depth=24, estimator__min_samples_split=4, estimator__min_samples_leaf=4 \n"
     ]
    },
    {
     "name": "stderr",
     "output_type": "stream",
     "text": [
      "/Users/rob/anaconda/lib/python3.5/site-packages/sklearn/externals/joblib/parallel.py:540: UserWarning: Multiprocessing-backed parallel loops cannot be nested, setting n_jobs=1\n",
      "  **self._backend_args)\n"
     ]
    },
    {
     "name": "stdout",
     "output_type": "stream",
     "text": [
      "[CV]  estimator__n_estimators=40, estimator__max_depth=24, estimator__min_samples_split=4, estimator__min_samples_leaf=4 -  58.3s\n",
      "[CV] estimator__n_estimators=50, estimator__max_depth=24, estimator__min_samples_split=4, estimator__min_samples_leaf=4 \n"
     ]
    },
    {
     "name": "stderr",
     "output_type": "stream",
     "text": [
      "/Users/rob/anaconda/lib/python3.5/site-packages/sklearn/externals/joblib/parallel.py:540: UserWarning: Multiprocessing-backed parallel loops cannot be nested, setting n_jobs=1\n",
      "  **self._backend_args)\n"
     ]
    },
    {
     "name": "stdout",
     "output_type": "stream",
     "text": [
      "[CV]  estimator__n_estimators=40, estimator__max_depth=24, estimator__min_samples_split=4, estimator__min_samples_leaf=4 -  58.8s\n",
      "[CV] estimator__n_estimators=10, estimator__max_depth=24, estimator__min_samples_split=6, estimator__min_samples_leaf=4 \n"
     ]
    },
    {
     "name": "stderr",
     "output_type": "stream",
     "text": [
      "/Users/rob/anaconda/lib/python3.5/site-packages/sklearn/externals/joblib/parallel.py:540: UserWarning: Multiprocessing-backed parallel loops cannot be nested, setting n_jobs=1\n",
      "  **self._backend_args)\n"
     ]
    },
    {
     "name": "stdout",
     "output_type": "stream",
     "text": [
      "[CV]  estimator__n_estimators=10, estimator__max_depth=24, estimator__min_samples_split=6, estimator__min_samples_leaf=4 -  14.6s\n",
      "[CV] estimator__n_estimators=10, estimator__max_depth=24, estimator__min_samples_split=6, estimator__min_samples_leaf=4 \n"
     ]
    },
    {
     "name": "stderr",
     "output_type": "stream",
     "text": [
      "/Users/rob/anaconda/lib/python3.5/site-packages/sklearn/externals/joblib/parallel.py:540: UserWarning: Multiprocessing-backed parallel loops cannot be nested, setting n_jobs=1\n",
      "  **self._backend_args)\n"
     ]
    },
    {
     "name": "stdout",
     "output_type": "stream",
     "text": [
      "[CV]  estimator__n_estimators=40, estimator__max_depth=24, estimator__min_samples_split=4, estimator__min_samples_leaf=4 -  58.7s\n",
      "[CV] estimator__n_estimators=10, estimator__max_depth=24, estimator__min_samples_split=6, estimator__min_samples_leaf=4 \n"
     ]
    },
    {
     "name": "stderr",
     "output_type": "stream",
     "text": [
      "/Users/rob/anaconda/lib/python3.5/site-packages/sklearn/externals/joblib/parallel.py:540: UserWarning: Multiprocessing-backed parallel loops cannot be nested, setting n_jobs=1\n",
      "  **self._backend_args)\n"
     ]
    },
    {
     "name": "stdout",
     "output_type": "stream",
     "text": [
      "[CV]  estimator__n_estimators=40, estimator__max_depth=24, estimator__min_samples_split=4, estimator__min_samples_leaf=4 -  58.5s\n",
      "[CV] estimator__n_estimators=10, estimator__max_depth=24, estimator__min_samples_split=6, estimator__min_samples_leaf=4 \n",
      "[CV]  estimator__n_estimators=10, estimator__max_depth=24, estimator__min_samples_split=6, estimator__min_samples_leaf=4 -  14.7s\n",
      "[CV] estimator__n_estimators=10, estimator__max_depth=24, estimator__min_samples_split=6, estimator__min_samples_leaf=4 \n"
     ]
    },
    {
     "name": "stderr",
     "output_type": "stream",
     "text": [
      "/Users/rob/anaconda/lib/python3.5/site-packages/sklearn/externals/joblib/parallel.py:540: UserWarning: Multiprocessing-backed parallel loops cannot be nested, setting n_jobs=1\n",
      "  **self._backend_args)\n",
      "/Users/rob/anaconda/lib/python3.5/site-packages/sklearn/externals/joblib/parallel.py:540: UserWarning: Multiprocessing-backed parallel loops cannot be nested, setting n_jobs=1\n",
      "  **self._backend_args)\n"
     ]
    },
    {
     "name": "stdout",
     "output_type": "stream",
     "text": [
      "[CV]  estimator__n_estimators=10, estimator__max_depth=24, estimator__min_samples_split=6, estimator__min_samples_leaf=4 -  14.7s\n",
      "[CV] estimator__n_estimators=20, estimator__max_depth=24, estimator__min_samples_split=6, estimator__min_samples_leaf=4 \n"
     ]
    },
    {
     "name": "stderr",
     "output_type": "stream",
     "text": [
      "/Users/rob/anaconda/lib/python3.5/site-packages/sklearn/externals/joblib/parallel.py:540: UserWarning: Multiprocessing-backed parallel loops cannot be nested, setting n_jobs=1\n",
      "  **self._backend_args)\n"
     ]
    },
    {
     "name": "stdout",
     "output_type": "stream",
     "text": [
      "[CV]  estimator__n_estimators=10, estimator__max_depth=24, estimator__min_samples_split=6, estimator__min_samples_leaf=4 -  15.0s\n",
      "[CV]  estimator__n_estimators=50, estimator__max_depth=24, estimator__min_samples_split=4, estimator__min_samples_leaf=4 - 1.2min\n",
      "[CV] estimator__n_estimators=20, estimator__max_depth=24, estimator__min_samples_split=6, estimator__min_samples_leaf=4 \n"
     ]
    },
    {
     "name": "stderr",
     "output_type": "stream",
     "text": [
      "/Users/rob/anaconda/lib/python3.5/site-packages/sklearn/externals/joblib/parallel.py:540: UserWarning: Multiprocessing-backed parallel loops cannot be nested, setting n_jobs=1\n",
      "  **self._backend_args)\n"
     ]
    },
    {
     "name": "stdout",
     "output_type": "stream",
     "text": [
      "[CV] estimator__n_estimators=20, estimator__max_depth=24, estimator__min_samples_split=6, estimator__min_samples_leaf=4 \n",
      "[CV]  estimator__n_estimators=10, estimator__max_depth=24, estimator__min_samples_split=6, estimator__min_samples_leaf=4 -  15.4s\n",
      "[CV] estimator__n_estimators=20, estimator__max_depth=24, estimator__min_samples_split=6, estimator__min_samples_leaf=4 \n"
     ]
    },
    {
     "name": "stderr",
     "output_type": "stream",
     "text": [
      "/Users/rob/anaconda/lib/python3.5/site-packages/sklearn/externals/joblib/parallel.py:540: UserWarning: Multiprocessing-backed parallel loops cannot be nested, setting n_jobs=1\n",
      "  **self._backend_args)\n",
      "/Users/rob/anaconda/lib/python3.5/site-packages/sklearn/externals/joblib/parallel.py:540: UserWarning: Multiprocessing-backed parallel loops cannot be nested, setting n_jobs=1\n",
      "  **self._backend_args)\n"
     ]
    },
    {
     "name": "stdout",
     "output_type": "stream",
     "text": [
      "[CV]  estimator__n_estimators=50, estimator__max_depth=24, estimator__min_samples_split=4, estimator__min_samples_leaf=4 - 1.2min\n",
      "[CV] estimator__n_estimators=20, estimator__max_depth=24, estimator__min_samples_split=6, estimator__min_samples_leaf=4 \n"
     ]
    },
    {
     "name": "stderr",
     "output_type": "stream",
     "text": [
      "/Users/rob/anaconda/lib/python3.5/site-packages/sklearn/externals/joblib/parallel.py:540: UserWarning: Multiprocessing-backed parallel loops cannot be nested, setting n_jobs=1\n",
      "  **self._backend_args)\n"
     ]
    },
    {
     "name": "stdout",
     "output_type": "stream",
     "text": [
      "[CV]  estimator__n_estimators=50, estimator__max_depth=24, estimator__min_samples_split=4, estimator__min_samples_leaf=4 - 1.2min\n",
      "[CV] estimator__n_estimators=30, estimator__max_depth=24, estimator__min_samples_split=6, estimator__min_samples_leaf=4 \n"
     ]
    },
    {
     "name": "stderr",
     "output_type": "stream",
     "text": [
      "/Users/rob/anaconda/lib/python3.5/site-packages/sklearn/externals/joblib/parallel.py:540: UserWarning: Multiprocessing-backed parallel loops cannot be nested, setting n_jobs=1\n",
      "  **self._backend_args)\n"
     ]
    },
    {
     "name": "stdout",
     "output_type": "stream",
     "text": [
      "[CV]  estimator__n_estimators=20, estimator__max_depth=24, estimator__min_samples_split=6, estimator__min_samples_leaf=4 -  29.4s\n",
      "[CV] estimator__n_estimators=30, estimator__max_depth=24, estimator__min_samples_split=6, estimator__min_samples_leaf=4 \n"
     ]
    },
    {
     "name": "stderr",
     "output_type": "stream",
     "text": [
      "/Users/rob/anaconda/lib/python3.5/site-packages/sklearn/externals/joblib/parallel.py:540: UserWarning: Multiprocessing-backed parallel loops cannot be nested, setting n_jobs=1\n",
      "  **self._backend_args)\n"
     ]
    },
    {
     "name": "stdout",
     "output_type": "stream",
     "text": [
      "[CV]  estimator__n_estimators=50, estimator__max_depth=24, estimator__min_samples_split=4, estimator__min_samples_leaf=4 - 1.2min\n",
      "[CV] estimator__n_estimators=30, estimator__max_depth=24, estimator__min_samples_split=6, estimator__min_samples_leaf=4 \n"
     ]
    },
    {
     "name": "stderr",
     "output_type": "stream",
     "text": [
      "/Users/rob/anaconda/lib/python3.5/site-packages/sklearn/externals/joblib/parallel.py:540: UserWarning: Multiprocessing-backed parallel loops cannot be nested, setting n_jobs=1\n",
      "  **self._backend_args)\n"
     ]
    },
    {
     "name": "stdout",
     "output_type": "stream",
     "text": [
      "[CV]  estimator__n_estimators=50, estimator__max_depth=24, estimator__min_samples_split=4, estimator__min_samples_leaf=4 - 1.2min\n",
      "[CV] estimator__n_estimators=30, estimator__max_depth=24, estimator__min_samples_split=6, estimator__min_samples_leaf=4 \n"
     ]
    },
    {
     "name": "stderr",
     "output_type": "stream",
     "text": [
      "/Users/rob/anaconda/lib/python3.5/site-packages/sklearn/externals/joblib/parallel.py:540: UserWarning: Multiprocessing-backed parallel loops cannot be nested, setting n_jobs=1\n",
      "  **self._backend_args)\n"
     ]
    },
    {
     "name": "stdout",
     "output_type": "stream",
     "text": [
      "[CV]  estimator__n_estimators=20, estimator__max_depth=24, estimator__min_samples_split=6, estimator__min_samples_leaf=4 -  29.4s\n",
      "[CV] estimator__n_estimators=30, estimator__max_depth=24, estimator__min_samples_split=6, estimator__min_samples_leaf=4 \n"
     ]
    },
    {
     "name": "stderr",
     "output_type": "stream",
     "text": [
      "/Users/rob/anaconda/lib/python3.5/site-packages/sklearn/externals/joblib/parallel.py:540: UserWarning: Multiprocessing-backed parallel loops cannot be nested, setting n_jobs=1\n",
      "  **self._backend_args)\n"
     ]
    },
    {
     "name": "stdout",
     "output_type": "stream",
     "text": [
      "[CV]  estimator__n_estimators=20, estimator__max_depth=24, estimator__min_samples_split=6, estimator__min_samples_leaf=4 -  29.7s\n",
      "[CV] estimator__n_estimators=40, estimator__max_depth=24, estimator__min_samples_split=6, estimator__min_samples_leaf=4 \n"
     ]
    },
    {
     "name": "stderr",
     "output_type": "stream",
     "text": [
      "/Users/rob/anaconda/lib/python3.5/site-packages/sklearn/externals/joblib/parallel.py:540: UserWarning: Multiprocessing-backed parallel loops cannot be nested, setting n_jobs=1\n",
      "  **self._backend_args)\n"
     ]
    },
    {
     "name": "stdout",
     "output_type": "stream",
     "text": [
      "[CV]  estimator__n_estimators=20, estimator__max_depth=24, estimator__min_samples_split=6, estimator__min_samples_leaf=4 -  30.0s\n",
      "[CV] estimator__n_estimators=40, estimator__max_depth=24, estimator__min_samples_split=6, estimator__min_samples_leaf=4 \n"
     ]
    },
    {
     "name": "stderr",
     "output_type": "stream",
     "text": [
      "/Users/rob/anaconda/lib/python3.5/site-packages/sklearn/externals/joblib/parallel.py:540: UserWarning: Multiprocessing-backed parallel loops cannot be nested, setting n_jobs=1\n",
      "  **self._backend_args)\n"
     ]
    },
    {
     "name": "stdout",
     "output_type": "stream",
     "text": [
      "[CV]  estimator__n_estimators=20, estimator__max_depth=24, estimator__min_samples_split=6, estimator__min_samples_leaf=4 -  29.2s\n",
      "[CV] estimator__n_estimators=40, estimator__max_depth=24, estimator__min_samples_split=6, estimator__min_samples_leaf=4 \n"
     ]
    },
    {
     "name": "stderr",
     "output_type": "stream",
     "text": [
      "/Users/rob/anaconda/lib/python3.5/site-packages/sklearn/externals/joblib/parallel.py:540: UserWarning: Multiprocessing-backed parallel loops cannot be nested, setting n_jobs=1\n",
      "  **self._backend_args)\n"
     ]
    },
    {
     "name": "stdout",
     "output_type": "stream",
     "text": [
      "[CV]  estimator__n_estimators=30, estimator__max_depth=24, estimator__min_samples_split=6, estimator__min_samples_leaf=4 -  43.9s\n",
      "[CV] estimator__n_estimators=40, estimator__max_depth=24, estimator__min_samples_split=6, estimator__min_samples_leaf=4 \n"
     ]
    },
    {
     "name": "stderr",
     "output_type": "stream",
     "text": [
      "/Users/rob/anaconda/lib/python3.5/site-packages/sklearn/externals/joblib/parallel.py:540: UserWarning: Multiprocessing-backed parallel loops cannot be nested, setting n_jobs=1\n",
      "  **self._backend_args)\n"
     ]
    },
    {
     "name": "stdout",
     "output_type": "stream",
     "text": [
      "[CV]  estimator__n_estimators=30, estimator__max_depth=24, estimator__min_samples_split=6, estimator__min_samples_leaf=4 -  44.1s\n",
      "[CV] estimator__n_estimators=40, estimator__max_depth=24, estimator__min_samples_split=6, estimator__min_samples_leaf=4 \n"
     ]
    },
    {
     "name": "stderr",
     "output_type": "stream",
     "text": [
      "/Users/rob/anaconda/lib/python3.5/site-packages/sklearn/externals/joblib/parallel.py:540: UserWarning: Multiprocessing-backed parallel loops cannot be nested, setting n_jobs=1\n",
      "  **self._backend_args)\n"
     ]
    },
    {
     "name": "stdout",
     "output_type": "stream",
     "text": [
      "[CV]  estimator__n_estimators=30, estimator__max_depth=24, estimator__min_samples_split=6, estimator__min_samples_leaf=4 -  44.6s\n",
      "[CV] estimator__n_estimators=50, estimator__max_depth=24, estimator__min_samples_split=6, estimator__min_samples_leaf=4 \n"
     ]
    },
    {
     "name": "stderr",
     "output_type": "stream",
     "text": [
      "/Users/rob/anaconda/lib/python3.5/site-packages/sklearn/externals/joblib/parallel.py:540: UserWarning: Multiprocessing-backed parallel loops cannot be nested, setting n_jobs=1\n",
      "  **self._backend_args)\n"
     ]
    },
    {
     "name": "stdout",
     "output_type": "stream",
     "text": [
      "[CV]  estimator__n_estimators=30, estimator__max_depth=24, estimator__min_samples_split=6, estimator__min_samples_leaf=4 -  44.4s\n",
      "[CV] estimator__n_estimators=50, estimator__max_depth=24, estimator__min_samples_split=6, estimator__min_samples_leaf=4 \n"
     ]
    },
    {
     "name": "stderr",
     "output_type": "stream",
     "text": [
      "/Users/rob/anaconda/lib/python3.5/site-packages/sklearn/externals/joblib/parallel.py:540: UserWarning: Multiprocessing-backed parallel loops cannot be nested, setting n_jobs=1\n",
      "  **self._backend_args)\n"
     ]
    },
    {
     "name": "stdout",
     "output_type": "stream",
     "text": [
      "[CV]  estimator__n_estimators=30, estimator__max_depth=24, estimator__min_samples_split=6, estimator__min_samples_leaf=4 -  44.3s\n",
      "[CV] estimator__n_estimators=50, estimator__max_depth=24, estimator__min_samples_split=6, estimator__min_samples_leaf=4 \n"
     ]
    },
    {
     "name": "stderr",
     "output_type": "stream",
     "text": [
      "/Users/rob/anaconda/lib/python3.5/site-packages/sklearn/externals/joblib/parallel.py:540: UserWarning: Multiprocessing-backed parallel loops cannot be nested, setting n_jobs=1\n",
      "  **self._backend_args)\n"
     ]
    },
    {
     "name": "stdout",
     "output_type": "stream",
     "text": [
      "[CV]  estimator__n_estimators=40, estimator__max_depth=24, estimator__min_samples_split=6, estimator__min_samples_leaf=4 -  58.7s\n",
      "[CV] estimator__n_estimators=50, estimator__max_depth=24, estimator__min_samples_split=6, estimator__min_samples_leaf=4 \n"
     ]
    },
    {
     "name": "stderr",
     "output_type": "stream",
     "text": [
      "/Users/rob/anaconda/lib/python3.5/site-packages/sklearn/externals/joblib/parallel.py:540: UserWarning: Multiprocessing-backed parallel loops cannot be nested, setting n_jobs=1\n",
      "  **self._backend_args)\n"
     ]
    },
    {
     "name": "stdout",
     "output_type": "stream",
     "text": [
      "[CV]  estimator__n_estimators=40, estimator__max_depth=24, estimator__min_samples_split=6, estimator__min_samples_leaf=4 -  59.4s\n",
      "[CV] estimator__n_estimators=50, estimator__max_depth=24, estimator__min_samples_split=6, estimator__min_samples_leaf=4 \n"
     ]
    },
    {
     "name": "stderr",
     "output_type": "stream",
     "text": [
      "/Users/rob/anaconda/lib/python3.5/site-packages/sklearn/externals/joblib/parallel.py:540: UserWarning: Multiprocessing-backed parallel loops cannot be nested, setting n_jobs=1\n",
      "  **self._backend_args)\n"
     ]
    },
    {
     "name": "stdout",
     "output_type": "stream",
     "text": [
      "[CV]  estimator__n_estimators=40, estimator__max_depth=24, estimator__min_samples_split=6, estimator__min_samples_leaf=4 -  59.2s\n",
      "[CV] estimator__n_estimators=10, estimator__max_depth=32, estimator__min_samples_split=2, estimator__min_samples_leaf=1 \n"
     ]
    },
    {
     "name": "stderr",
     "output_type": "stream",
     "text": [
      "/Users/rob/anaconda/lib/python3.5/site-packages/sklearn/externals/joblib/parallel.py:540: UserWarning: Multiprocessing-backed parallel loops cannot be nested, setting n_jobs=1\n",
      "  **self._backend_args)\n"
     ]
    },
    {
     "name": "stdout",
     "output_type": "stream",
     "text": [
      "[CV]  estimator__n_estimators=40, estimator__max_depth=24, estimator__min_samples_split=6, estimator__min_samples_leaf=4 -  59.0s\n",
      "[CV] estimator__n_estimators=10, estimator__max_depth=32, estimator__min_samples_split=2, estimator__min_samples_leaf=1 \n"
     ]
    },
    {
     "name": "stderr",
     "output_type": "stream",
     "text": [
      "/Users/rob/anaconda/lib/python3.5/site-packages/sklearn/externals/joblib/parallel.py:540: UserWarning: Multiprocessing-backed parallel loops cannot be nested, setting n_jobs=1\n",
      "  **self._backend_args)\n"
     ]
    },
    {
     "name": "stdout",
     "output_type": "stream",
     "text": [
      "[CV]  estimator__n_estimators=10, estimator__max_depth=32, estimator__min_samples_split=2, estimator__min_samples_leaf=1 -  18.5s\n",
      "[CV] estimator__n_estimators=10, estimator__max_depth=32, estimator__min_samples_split=2, estimator__min_samples_leaf=1 \n"
     ]
    },
    {
     "name": "stderr",
     "output_type": "stream",
     "text": [
      "/Users/rob/anaconda/lib/python3.5/site-packages/sklearn/externals/joblib/parallel.py:540: UserWarning: Multiprocessing-backed parallel loops cannot be nested, setting n_jobs=1\n",
      "  **self._backend_args)\n"
     ]
    },
    {
     "name": "stdout",
     "output_type": "stream",
     "text": [
      "[CV]  estimator__n_estimators=40, estimator__max_depth=24, estimator__min_samples_split=6, estimator__min_samples_leaf=4 -  58.9s\n",
      "[CV] estimator__n_estimators=10, estimator__max_depth=32, estimator__min_samples_split=2, estimator__min_samples_leaf=1 \n"
     ]
    },
    {
     "name": "stderr",
     "output_type": "stream",
     "text": [
      "/Users/rob/anaconda/lib/python3.5/site-packages/sklearn/externals/joblib/parallel.py:540: UserWarning: Multiprocessing-backed parallel loops cannot be nested, setting n_jobs=1\n",
      "  **self._backend_args)\n"
     ]
    },
    {
     "name": "stdout",
     "output_type": "stream",
     "text": [
      "[CV]  estimator__n_estimators=10, estimator__max_depth=32, estimator__min_samples_split=2, estimator__min_samples_leaf=1 -  18.9s\n",
      "[CV] estimator__n_estimators=10, estimator__max_depth=32, estimator__min_samples_split=2, estimator__min_samples_leaf=1 \n"
     ]
    },
    {
     "name": "stderr",
     "output_type": "stream",
     "text": [
      "/Users/rob/anaconda/lib/python3.5/site-packages/sklearn/externals/joblib/parallel.py:540: UserWarning: Multiprocessing-backed parallel loops cannot be nested, setting n_jobs=1\n",
      "  **self._backend_args)\n"
     ]
    },
    {
     "name": "stdout",
     "output_type": "stream",
     "text": [
      "[CV]  estimator__n_estimators=10, estimator__max_depth=32, estimator__min_samples_split=2, estimator__min_samples_leaf=1 -  19.0s\n",
      "[CV] estimator__n_estimators=20, estimator__max_depth=32, estimator__min_samples_split=2, estimator__min_samples_leaf=1 \n"
     ]
    },
    {
     "name": "stderr",
     "output_type": "stream",
     "text": [
      "/Users/rob/anaconda/lib/python3.5/site-packages/sklearn/externals/joblib/parallel.py:540: UserWarning: Multiprocessing-backed parallel loops cannot be nested, setting n_jobs=1\n",
      "  **self._backend_args)\n"
     ]
    },
    {
     "name": "stdout",
     "output_type": "stream",
     "text": [
      "[CV]  estimator__n_estimators=10, estimator__max_depth=32, estimator__min_samples_split=2, estimator__min_samples_leaf=1 -  19.0s\n",
      "[CV] estimator__n_estimators=20, estimator__max_depth=32, estimator__min_samples_split=2, estimator__min_samples_leaf=1 \n"
     ]
    },
    {
     "name": "stderr",
     "output_type": "stream",
     "text": [
      "/Users/rob/anaconda/lib/python3.5/site-packages/sklearn/externals/joblib/parallel.py:540: UserWarning: Multiprocessing-backed parallel loops cannot be nested, setting n_jobs=1\n",
      "  **self._backend_args)\n"
     ]
    },
    {
     "name": "stdout",
     "output_type": "stream",
     "text": [
      "[CV]  estimator__n_estimators=50, estimator__max_depth=24, estimator__min_samples_split=6, estimator__min_samples_leaf=4 - 1.2min\n",
      "[CV] estimator__n_estimators=20, estimator__max_depth=32, estimator__min_samples_split=2, estimator__min_samples_leaf=1 \n"
     ]
    },
    {
     "name": "stderr",
     "output_type": "stream",
     "text": [
      "/Users/rob/anaconda/lib/python3.5/site-packages/sklearn/externals/joblib/parallel.py:540: UserWarning: Multiprocessing-backed parallel loops cannot be nested, setting n_jobs=1\n",
      "  **self._backend_args)\n"
     ]
    },
    {
     "name": "stdout",
     "output_type": "stream",
     "text": [
      "[CV]  estimator__n_estimators=50, estimator__max_depth=24, estimator__min_samples_split=6, estimator__min_samples_leaf=4 - 1.2min\n",
      "[CV] estimator__n_estimators=20, estimator__max_depth=32, estimator__min_samples_split=2, estimator__min_samples_leaf=1 \n",
      "[CV]  estimator__n_estimators=10, estimator__max_depth=32, estimator__min_samples_split=2, estimator__min_samples_leaf=1 -  18.6s\n",
      "[CV] estimator__n_estimators=20, estimator__max_depth=32, estimator__min_samples_split=2, estimator__min_samples_leaf=1 \n"
     ]
    },
    {
     "name": "stderr",
     "output_type": "stream",
     "text": [
      "/Users/rob/anaconda/lib/python3.5/site-packages/sklearn/externals/joblib/parallel.py:540: UserWarning: Multiprocessing-backed parallel loops cannot be nested, setting n_jobs=1\n",
      "  **self._backend_args)\n",
      "/Users/rob/anaconda/lib/python3.5/site-packages/sklearn/externals/joblib/parallel.py:540: UserWarning: Multiprocessing-backed parallel loops cannot be nested, setting n_jobs=1\n",
      "  **self._backend_args)\n"
     ]
    },
    {
     "name": "stdout",
     "output_type": "stream",
     "text": [
      "[CV]  estimator__n_estimators=50, estimator__max_depth=24, estimator__min_samples_split=6, estimator__min_samples_leaf=4 - 1.2min\n",
      "[CV] estimator__n_estimators=30, estimator__max_depth=32, estimator__min_samples_split=2, estimator__min_samples_leaf=1 \n"
     ]
    },
    {
     "name": "stderr",
     "output_type": "stream",
     "text": [
      "/Users/rob/anaconda/lib/python3.5/site-packages/sklearn/externals/joblib/parallel.py:540: UserWarning: Multiprocessing-backed parallel loops cannot be nested, setting n_jobs=1\n",
      "  **self._backend_args)\n"
     ]
    },
    {
     "name": "stdout",
     "output_type": "stream",
     "text": [
      "[CV]  estimator__n_estimators=50, estimator__max_depth=24, estimator__min_samples_split=6, estimator__min_samples_leaf=4 - 1.2min\n",
      "[CV] estimator__n_estimators=30, estimator__max_depth=32, estimator__min_samples_split=2, estimator__min_samples_leaf=1 \n"
     ]
    },
    {
     "name": "stderr",
     "output_type": "stream",
     "text": [
      "/Users/rob/anaconda/lib/python3.5/site-packages/sklearn/externals/joblib/parallel.py:540: UserWarning: Multiprocessing-backed parallel loops cannot be nested, setting n_jobs=1\n",
      "  **self._backend_args)\n"
     ]
    },
    {
     "name": "stdout",
     "output_type": "stream",
     "text": [
      "[CV]  estimator__n_estimators=50, estimator__max_depth=24, estimator__min_samples_split=6, estimator__min_samples_leaf=4 - 1.2min\n",
      "[CV] estimator__n_estimators=30, estimator__max_depth=32, estimator__min_samples_split=2, estimator__min_samples_leaf=1 \n"
     ]
    },
    {
     "name": "stderr",
     "output_type": "stream",
     "text": [
      "/Users/rob/anaconda/lib/python3.5/site-packages/sklearn/externals/joblib/parallel.py:540: UserWarning: Multiprocessing-backed parallel loops cannot be nested, setting n_jobs=1\n",
      "  **self._backend_args)\n"
     ]
    },
    {
     "name": "stdout",
     "output_type": "stream",
     "text": [
      "[CV]  estimator__n_estimators=20, estimator__max_depth=32, estimator__min_samples_split=2, estimator__min_samples_leaf=1 -  36.9s\n",
      "[CV] estimator__n_estimators=30, estimator__max_depth=32, estimator__min_samples_split=2, estimator__min_samples_leaf=1 \n"
     ]
    },
    {
     "name": "stderr",
     "output_type": "stream",
     "text": [
      "/Users/rob/anaconda/lib/python3.5/site-packages/sklearn/externals/joblib/parallel.py:540: UserWarning: Multiprocessing-backed parallel loops cannot be nested, setting n_jobs=1\n",
      "  **self._backend_args)\n"
     ]
    },
    {
     "name": "stdout",
     "output_type": "stream",
     "text": [
      "[CV]  estimator__n_estimators=20, estimator__max_depth=32, estimator__min_samples_split=2, estimator__min_samples_leaf=1 -  36.9s\n",
      "[CV] estimator__n_estimators=30, estimator__max_depth=32, estimator__min_samples_split=2, estimator__min_samples_leaf=1 \n"
     ]
    },
    {
     "name": "stderr",
     "output_type": "stream",
     "text": [
      "/Users/rob/anaconda/lib/python3.5/site-packages/sklearn/externals/joblib/parallel.py:540: UserWarning: Multiprocessing-backed parallel loops cannot be nested, setting n_jobs=1\n",
      "  **self._backend_args)\n"
     ]
    },
    {
     "name": "stdout",
     "output_type": "stream",
     "text": [
      "[CV]  estimator__n_estimators=20, estimator__max_depth=32, estimator__min_samples_split=2, estimator__min_samples_leaf=1 -  37.4s\n",
      "[CV] estimator__n_estimators=40, estimator__max_depth=32, estimator__min_samples_split=2, estimator__min_samples_leaf=1 \n"
     ]
    },
    {
     "name": "stderr",
     "output_type": "stream",
     "text": [
      "/Users/rob/anaconda/lib/python3.5/site-packages/sklearn/externals/joblib/parallel.py:540: UserWarning: Multiprocessing-backed parallel loops cannot be nested, setting n_jobs=1\n",
      "  **self._backend_args)\n"
     ]
    },
    {
     "name": "stdout",
     "output_type": "stream",
     "text": [
      "[CV]  estimator__n_estimators=20, estimator__max_depth=32, estimator__min_samples_split=2, estimator__min_samples_leaf=1 -  36.7s\n",
      "[CV] estimator__n_estimators=40, estimator__max_depth=32, estimator__min_samples_split=2, estimator__min_samples_leaf=1 \n"
     ]
    },
    {
     "name": "stderr",
     "output_type": "stream",
     "text": [
      "/Users/rob/anaconda/lib/python3.5/site-packages/sklearn/externals/joblib/parallel.py:540: UserWarning: Multiprocessing-backed parallel loops cannot be nested, setting n_jobs=1\n",
      "  **self._backend_args)\n"
     ]
    },
    {
     "name": "stdout",
     "output_type": "stream",
     "text": [
      "[CV]  estimator__n_estimators=20, estimator__max_depth=32, estimator__min_samples_split=2, estimator__min_samples_leaf=1 -  37.2s\n",
      "[CV] estimator__n_estimators=40, estimator__max_depth=32, estimator__min_samples_split=2, estimator__min_samples_leaf=1 \n"
     ]
    },
    {
     "name": "stderr",
     "output_type": "stream",
     "text": [
      "/Users/rob/anaconda/lib/python3.5/site-packages/sklearn/externals/joblib/parallel.py:540: UserWarning: Multiprocessing-backed parallel loops cannot be nested, setting n_jobs=1\n",
      "  **self._backend_args)\n"
     ]
    },
    {
     "name": "stdout",
     "output_type": "stream",
     "text": [
      "[CV]  estimator__n_estimators=30, estimator__max_depth=32, estimator__min_samples_split=2, estimator__min_samples_leaf=1 -  56.0s\n",
      "[CV] estimator__n_estimators=40, estimator__max_depth=32, estimator__min_samples_split=2, estimator__min_samples_leaf=1 \n"
     ]
    },
    {
     "name": "stderr",
     "output_type": "stream",
     "text": [
      "/Users/rob/anaconda/lib/python3.5/site-packages/sklearn/externals/joblib/parallel.py:540: UserWarning: Multiprocessing-backed parallel loops cannot be nested, setting n_jobs=1\n",
      "  **self._backend_args)\n"
     ]
    },
    {
     "name": "stdout",
     "output_type": "stream",
     "text": [
      "[CV]  estimator__n_estimators=30, estimator__max_depth=32, estimator__min_samples_split=2, estimator__min_samples_leaf=1 -  55.5s\n",
      "[CV] estimator__n_estimators=40, estimator__max_depth=32, estimator__min_samples_split=2, estimator__min_samples_leaf=1 \n"
     ]
    },
    {
     "name": "stderr",
     "output_type": "stream",
     "text": [
      "/Users/rob/anaconda/lib/python3.5/site-packages/sklearn/externals/joblib/parallel.py:540: UserWarning: Multiprocessing-backed parallel loops cannot be nested, setting n_jobs=1\n",
      "  **self._backend_args)\n"
     ]
    },
    {
     "name": "stdout",
     "output_type": "stream",
     "text": [
      "[CV]  estimator__n_estimators=30, estimator__max_depth=32, estimator__min_samples_split=2, estimator__min_samples_leaf=1 -  56.3s\n",
      "[CV] estimator__n_estimators=50, estimator__max_depth=32, estimator__min_samples_split=2, estimator__min_samples_leaf=1 \n"
     ]
    },
    {
     "name": "stderr",
     "output_type": "stream",
     "text": [
      "/Users/rob/anaconda/lib/python3.5/site-packages/sklearn/externals/joblib/parallel.py:540: UserWarning: Multiprocessing-backed parallel loops cannot be nested, setting n_jobs=1\n",
      "  **self._backend_args)\n"
     ]
    },
    {
     "name": "stdout",
     "output_type": "stream",
     "text": [
      "[CV]  estimator__n_estimators=30, estimator__max_depth=32, estimator__min_samples_split=2, estimator__min_samples_leaf=1 -  56.1s\n",
      "[CV] estimator__n_estimators=50, estimator__max_depth=32, estimator__min_samples_split=2, estimator__min_samples_leaf=1 \n"
     ]
    },
    {
     "name": "stderr",
     "output_type": "stream",
     "text": [
      "/Users/rob/anaconda/lib/python3.5/site-packages/sklearn/externals/joblib/parallel.py:540: UserWarning: Multiprocessing-backed parallel loops cannot be nested, setting n_jobs=1\n",
      "  **self._backend_args)\n"
     ]
    },
    {
     "name": "stdout",
     "output_type": "stream",
     "text": [
      "[CV]  estimator__n_estimators=30, estimator__max_depth=32, estimator__min_samples_split=2, estimator__min_samples_leaf=1 -  55.4s\n",
      "[CV] estimator__n_estimators=50, estimator__max_depth=32, estimator__min_samples_split=2, estimator__min_samples_leaf=1 \n"
     ]
    },
    {
     "name": "stderr",
     "output_type": "stream",
     "text": [
      "/Users/rob/anaconda/lib/python3.5/site-packages/sklearn/externals/joblib/parallel.py:540: UserWarning: Multiprocessing-backed parallel loops cannot be nested, setting n_jobs=1\n",
      "  **self._backend_args)\n"
     ]
    },
    {
     "name": "stdout",
     "output_type": "stream",
     "text": [
      "[CV]  estimator__n_estimators=40, estimator__max_depth=32, estimator__min_samples_split=2, estimator__min_samples_leaf=1 - 1.2min\n",
      "[CV] estimator__n_estimators=50, estimator__max_depth=32, estimator__min_samples_split=2, estimator__min_samples_leaf=1 \n"
     ]
    },
    {
     "name": "stderr",
     "output_type": "stream",
     "text": [
      "/Users/rob/anaconda/lib/python3.5/site-packages/sklearn/externals/joblib/parallel.py:540: UserWarning: Multiprocessing-backed parallel loops cannot be nested, setting n_jobs=1\n",
      "  **self._backend_args)\n"
     ]
    },
    {
     "name": "stdout",
     "output_type": "stream",
     "text": [
      "[CV]  estimator__n_estimators=40, estimator__max_depth=32, estimator__min_samples_split=2, estimator__min_samples_leaf=1 - 1.2min\n",
      "[CV] estimator__n_estimators=50, estimator__max_depth=32, estimator__min_samples_split=2, estimator__min_samples_leaf=1 \n"
     ]
    },
    {
     "name": "stderr",
     "output_type": "stream",
     "text": [
      "/Users/rob/anaconda/lib/python3.5/site-packages/sklearn/externals/joblib/parallel.py:540: UserWarning: Multiprocessing-backed parallel loops cannot be nested, setting n_jobs=1\n",
      "  **self._backend_args)\n"
     ]
    },
    {
     "name": "stdout",
     "output_type": "stream",
     "text": [
      "[CV]  estimator__n_estimators=40, estimator__max_depth=32, estimator__min_samples_split=2, estimator__min_samples_leaf=1 - 1.2min\n",
      "[CV] estimator__n_estimators=10, estimator__max_depth=32, estimator__min_samples_split=4, estimator__min_samples_leaf=1 \n"
     ]
    },
    {
     "name": "stderr",
     "output_type": "stream",
     "text": [
      "/Users/rob/anaconda/lib/python3.5/site-packages/sklearn/externals/joblib/parallel.py:540: UserWarning: Multiprocessing-backed parallel loops cannot be nested, setting n_jobs=1\n",
      "  **self._backend_args)\n"
     ]
    },
    {
     "name": "stdout",
     "output_type": "stream",
     "text": [
      "[CV]  estimator__n_estimators=10, estimator__max_depth=32, estimator__min_samples_split=4, estimator__min_samples_leaf=1 -  18.7s\n",
      "[CV] estimator__n_estimators=10, estimator__max_depth=32, estimator__min_samples_split=4, estimator__min_samples_leaf=1 \n"
     ]
    },
    {
     "name": "stderr",
     "output_type": "stream",
     "text": [
      "/Users/rob/anaconda/lib/python3.5/site-packages/sklearn/externals/joblib/parallel.py:540: UserWarning: Multiprocessing-backed parallel loops cannot be nested, setting n_jobs=1\n",
      "  **self._backend_args)\n"
     ]
    },
    {
     "name": "stdout",
     "output_type": "stream",
     "text": [
      "[CV]  estimator__n_estimators=40, estimator__max_depth=32, estimator__min_samples_split=2, estimator__min_samples_leaf=1 - 1.2min\n",
      "[CV] estimator__n_estimators=10, estimator__max_depth=32, estimator__min_samples_split=4, estimator__min_samples_leaf=1 \n"
     ]
    },
    {
     "name": "stderr",
     "output_type": "stream",
     "text": [
      "/Users/rob/anaconda/lib/python3.5/site-packages/sklearn/externals/joblib/parallel.py:540: UserWarning: Multiprocessing-backed parallel loops cannot be nested, setting n_jobs=1\n",
      "  **self._backend_args)\n"
     ]
    },
    {
     "name": "stdout",
     "output_type": "stream",
     "text": [
      "[CV]  estimator__n_estimators=40, estimator__max_depth=32, estimator__min_samples_split=2, estimator__min_samples_leaf=1 - 1.2min\n",
      "[CV] estimator__n_estimators=10, estimator__max_depth=32, estimator__min_samples_split=4, estimator__min_samples_leaf=1 \n"
     ]
    },
    {
     "name": "stderr",
     "output_type": "stream",
     "text": [
      "/Users/rob/anaconda/lib/python3.5/site-packages/sklearn/externals/joblib/parallel.py:540: UserWarning: Multiprocessing-backed parallel loops cannot be nested, setting n_jobs=1\n",
      "  **self._backend_args)\n"
     ]
    },
    {
     "name": "stdout",
     "output_type": "stream",
     "text": [
      "[CV]  estimator__n_estimators=10, estimator__max_depth=32, estimator__min_samples_split=4, estimator__min_samples_leaf=1 -  18.5s\n",
      "[CV] estimator__n_estimators=10, estimator__max_depth=32, estimator__min_samples_split=4, estimator__min_samples_leaf=1 \n"
     ]
    },
    {
     "name": "stderr",
     "output_type": "stream",
     "text": [
      "/Users/rob/anaconda/lib/python3.5/site-packages/sklearn/externals/joblib/parallel.py:540: UserWarning: Multiprocessing-backed parallel loops cannot be nested, setting n_jobs=1\n",
      "  **self._backend_args)\n"
     ]
    },
    {
     "name": "stdout",
     "output_type": "stream",
     "text": [
      "[CV]  estimator__n_estimators=10, estimator__max_depth=32, estimator__min_samples_split=4, estimator__min_samples_leaf=1 -  18.6s\n",
      "[CV] estimator__n_estimators=20, estimator__max_depth=32, estimator__min_samples_split=4, estimator__min_samples_leaf=1 \n"
     ]
    },
    {
     "name": "stderr",
     "output_type": "stream",
     "text": [
      "/Users/rob/anaconda/lib/python3.5/site-packages/sklearn/externals/joblib/parallel.py:540: UserWarning: Multiprocessing-backed parallel loops cannot be nested, setting n_jobs=1\n",
      "  **self._backend_args)\n"
     ]
    },
    {
     "name": "stdout",
     "output_type": "stream",
     "text": [
      "[CV]  estimator__n_estimators=10, estimator__max_depth=32, estimator__min_samples_split=4, estimator__min_samples_leaf=1 -  18.5s\n",
      "[CV] estimator__n_estimators=20, estimator__max_depth=32, estimator__min_samples_split=4, estimator__min_samples_leaf=1 \n"
     ]
    },
    {
     "name": "stderr",
     "output_type": "stream",
     "text": [
      "/Users/rob/anaconda/lib/python3.5/site-packages/sklearn/externals/joblib/parallel.py:540: UserWarning: Multiprocessing-backed parallel loops cannot be nested, setting n_jobs=1\n",
      "  **self._backend_args)\n"
     ]
    },
    {
     "name": "stdout",
     "output_type": "stream",
     "text": [
      "[CV]  estimator__n_estimators=50, estimator__max_depth=32, estimator__min_samples_split=2, estimator__min_samples_leaf=1 - 1.5min\n",
      "[CV] estimator__n_estimators=20, estimator__max_depth=32, estimator__min_samples_split=4, estimator__min_samples_leaf=1 \n"
     ]
    },
    {
     "name": "stderr",
     "output_type": "stream",
     "text": [
      "/Users/rob/anaconda/lib/python3.5/site-packages/sklearn/externals/joblib/parallel.py:540: UserWarning: Multiprocessing-backed parallel loops cannot be nested, setting n_jobs=1\n",
      "  **self._backend_args)\n"
     ]
    },
    {
     "name": "stdout",
     "output_type": "stream",
     "text": [
      "[CV]  estimator__n_estimators=50, estimator__max_depth=32, estimator__min_samples_split=2, estimator__min_samples_leaf=1 - 1.5min\n",
      "[CV] estimator__n_estimators=20, estimator__max_depth=32, estimator__min_samples_split=4, estimator__min_samples_leaf=1 \n"
     ]
    },
    {
     "name": "stderr",
     "output_type": "stream",
     "text": [
      "/Users/rob/anaconda/lib/python3.5/site-packages/sklearn/externals/joblib/parallel.py:540: UserWarning: Multiprocessing-backed parallel loops cannot be nested, setting n_jobs=1\n",
      "  **self._backend_args)\n"
     ]
    },
    {
     "name": "stdout",
     "output_type": "stream",
     "text": [
      "[CV]  estimator__n_estimators=10, estimator__max_depth=32, estimator__min_samples_split=4, estimator__min_samples_leaf=1 -  18.5s\n",
      "[CV] estimator__n_estimators=20, estimator__max_depth=32, estimator__min_samples_split=4, estimator__min_samples_leaf=1 \n"
     ]
    },
    {
     "name": "stderr",
     "output_type": "stream",
     "text": [
      "/Users/rob/anaconda/lib/python3.5/site-packages/sklearn/externals/joblib/parallel.py:540: UserWarning: Multiprocessing-backed parallel loops cannot be nested, setting n_jobs=1\n",
      "  **self._backend_args)\n"
     ]
    },
    {
     "name": "stdout",
     "output_type": "stream",
     "text": [
      "[CV]  estimator__n_estimators=50, estimator__max_depth=32, estimator__min_samples_split=2, estimator__min_samples_leaf=1 - 1.5min\n",
      "[CV] estimator__n_estimators=30, estimator__max_depth=32, estimator__min_samples_split=4, estimator__min_samples_leaf=1 \n"
     ]
    },
    {
     "name": "stderr",
     "output_type": "stream",
     "text": [
      "/Users/rob/anaconda/lib/python3.5/site-packages/sklearn/externals/joblib/parallel.py:540: UserWarning: Multiprocessing-backed parallel loops cannot be nested, setting n_jobs=1\n",
      "  **self._backend_args)\n"
     ]
    },
    {
     "name": "stdout",
     "output_type": "stream",
     "text": [
      "[CV]  estimator__n_estimators=20, estimator__max_depth=32, estimator__min_samples_split=4, estimator__min_samples_leaf=1 -  37.2s\n",
      "[CV] estimator__n_estimators=30, estimator__max_depth=32, estimator__min_samples_split=4, estimator__min_samples_leaf=1 \n"
     ]
    },
    {
     "name": "stderr",
     "output_type": "stream",
     "text": [
      "/Users/rob/anaconda/lib/python3.5/site-packages/sklearn/externals/joblib/parallel.py:540: UserWarning: Multiprocessing-backed parallel loops cannot be nested, setting n_jobs=1\n",
      "  **self._backend_args)\n"
     ]
    },
    {
     "name": "stdout",
     "output_type": "stream",
     "text": [
      "[CV]  estimator__n_estimators=20, estimator__max_depth=32, estimator__min_samples_split=4, estimator__min_samples_leaf=1 -  36.8s\n",
      "[CV] estimator__n_estimators=30, estimator__max_depth=32, estimator__min_samples_split=4, estimator__min_samples_leaf=1 \n"
     ]
    },
    {
     "name": "stderr",
     "output_type": "stream",
     "text": [
      "/Users/rob/anaconda/lib/python3.5/site-packages/sklearn/externals/joblib/parallel.py:540: UserWarning: Multiprocessing-backed parallel loops cannot be nested, setting n_jobs=1\n",
      "  **self._backend_args)\n"
     ]
    },
    {
     "name": "stdout",
     "output_type": "stream",
     "text": [
      "[CV]  estimator__n_estimators=50, estimator__max_depth=32, estimator__min_samples_split=2, estimator__min_samples_leaf=1 - 1.5min\n",
      "[CV] estimator__n_estimators=30, estimator__max_depth=32, estimator__min_samples_split=4, estimator__min_samples_leaf=1 \n"
     ]
    },
    {
     "name": "stderr",
     "output_type": "stream",
     "text": [
      "/Users/rob/anaconda/lib/python3.5/site-packages/sklearn/externals/joblib/parallel.py:540: UserWarning: Multiprocessing-backed parallel loops cannot be nested, setting n_jobs=1\n",
      "  **self._backend_args)\n"
     ]
    },
    {
     "name": "stdout",
     "output_type": "stream",
     "text": [
      "[CV]  estimator__n_estimators=20, estimator__max_depth=32, estimator__min_samples_split=4, estimator__min_samples_leaf=1 -  37.1s\n",
      "[CV] estimator__n_estimators=30, estimator__max_depth=32, estimator__min_samples_split=4, estimator__min_samples_leaf=1 \n"
     ]
    },
    {
     "name": "stderr",
     "output_type": "stream",
     "text": [
      "/Users/rob/anaconda/lib/python3.5/site-packages/sklearn/externals/joblib/parallel.py:540: UserWarning: Multiprocessing-backed parallel loops cannot be nested, setting n_jobs=1\n",
      "  **self._backend_args)\n"
     ]
    },
    {
     "name": "stdout",
     "output_type": "stream",
     "text": [
      "[CV]  estimator__n_estimators=50, estimator__max_depth=32, estimator__min_samples_split=2, estimator__min_samples_leaf=1 - 1.5min\n",
      "[CV] estimator__n_estimators=40, estimator__max_depth=32, estimator__min_samples_split=4, estimator__min_samples_leaf=1 \n"
     ]
    },
    {
     "name": "stderr",
     "output_type": "stream",
     "text": [
      "/Users/rob/anaconda/lib/python3.5/site-packages/sklearn/externals/joblib/parallel.py:540: UserWarning: Multiprocessing-backed parallel loops cannot be nested, setting n_jobs=1\n",
      "  **self._backend_args)\n"
     ]
    },
    {
     "name": "stdout",
     "output_type": "stream",
     "text": [
      "[CV]  estimator__n_estimators=20, estimator__max_depth=32, estimator__min_samples_split=4, estimator__min_samples_leaf=1 -  37.2s\n",
      "[CV] estimator__n_estimators=40, estimator__max_depth=32, estimator__min_samples_split=4, estimator__min_samples_leaf=1 \n"
     ]
    },
    {
     "name": "stderr",
     "output_type": "stream",
     "text": [
      "/Users/rob/anaconda/lib/python3.5/site-packages/sklearn/externals/joblib/parallel.py:540: UserWarning: Multiprocessing-backed parallel loops cannot be nested, setting n_jobs=1\n",
      "  **self._backend_args)\n"
     ]
    },
    {
     "name": "stdout",
     "output_type": "stream",
     "text": [
      "[CV]  estimator__n_estimators=20, estimator__max_depth=32, estimator__min_samples_split=4, estimator__min_samples_leaf=1 -  37.5s\n",
      "[CV] estimator__n_estimators=40, estimator__max_depth=32, estimator__min_samples_split=4, estimator__min_samples_leaf=1 \n"
     ]
    },
    {
     "name": "stderr",
     "output_type": "stream",
     "text": [
      "/Users/rob/anaconda/lib/python3.5/site-packages/sklearn/externals/joblib/parallel.py:540: UserWarning: Multiprocessing-backed parallel loops cannot be nested, setting n_jobs=1\n",
      "  **self._backend_args)\n"
     ]
    },
    {
     "name": "stdout",
     "output_type": "stream",
     "text": [
      "[CV]  estimator__n_estimators=30, estimator__max_depth=32, estimator__min_samples_split=4, estimator__min_samples_leaf=1 -  55.6s\n",
      "[CV] estimator__n_estimators=40, estimator__max_depth=32, estimator__min_samples_split=4, estimator__min_samples_leaf=1 \n"
     ]
    },
    {
     "name": "stderr",
     "output_type": "stream",
     "text": [
      "/Users/rob/anaconda/lib/python3.5/site-packages/sklearn/externals/joblib/parallel.py:540: UserWarning: Multiprocessing-backed parallel loops cannot be nested, setting n_jobs=1\n",
      "  **self._backend_args)\n"
     ]
    },
    {
     "name": "stdout",
     "output_type": "stream",
     "text": [
      "[CV]  estimator__n_estimators=30, estimator__max_depth=32, estimator__min_samples_split=4, estimator__min_samples_leaf=1 -  55.1s\n",
      "[CV] estimator__n_estimators=40, estimator__max_depth=32, estimator__min_samples_split=4, estimator__min_samples_leaf=1 \n"
     ]
    },
    {
     "name": "stderr",
     "output_type": "stream",
     "text": [
      "/Users/rob/anaconda/lib/python3.5/site-packages/sklearn/externals/joblib/parallel.py:540: UserWarning: Multiprocessing-backed parallel loops cannot be nested, setting n_jobs=1\n",
      "  **self._backend_args)\n"
     ]
    },
    {
     "name": "stdout",
     "output_type": "stream",
     "text": [
      "[CV]  estimator__n_estimators=30, estimator__max_depth=32, estimator__min_samples_split=4, estimator__min_samples_leaf=1 -  56.3s\n",
      "[CV] estimator__n_estimators=50, estimator__max_depth=32, estimator__min_samples_split=4, estimator__min_samples_leaf=1 \n"
     ]
    },
    {
     "name": "stderr",
     "output_type": "stream",
     "text": [
      "/Users/rob/anaconda/lib/python3.5/site-packages/sklearn/externals/joblib/parallel.py:540: UserWarning: Multiprocessing-backed parallel loops cannot be nested, setting n_jobs=1\n",
      "  **self._backend_args)\n"
     ]
    },
    {
     "name": "stdout",
     "output_type": "stream",
     "text": [
      "[CV]  estimator__n_estimators=30, estimator__max_depth=32, estimator__min_samples_split=4, estimator__min_samples_leaf=1 -  55.9s\n",
      "[CV] estimator__n_estimators=50, estimator__max_depth=32, estimator__min_samples_split=4, estimator__min_samples_leaf=1 \n"
     ]
    },
    {
     "name": "stderr",
     "output_type": "stream",
     "text": [
      "/Users/rob/anaconda/lib/python3.5/site-packages/sklearn/externals/joblib/parallel.py:540: UserWarning: Multiprocessing-backed parallel loops cannot be nested, setting n_jobs=1\n",
      "  **self._backend_args)\n"
     ]
    },
    {
     "name": "stdout",
     "output_type": "stream",
     "text": [
      "[CV]  estimator__n_estimators=30, estimator__max_depth=32, estimator__min_samples_split=4, estimator__min_samples_leaf=1 -  56.1s\n",
      "[CV] estimator__n_estimators=50, estimator__max_depth=32, estimator__min_samples_split=4, estimator__min_samples_leaf=1 \n"
     ]
    },
    {
     "name": "stderr",
     "output_type": "stream",
     "text": [
      "/Users/rob/anaconda/lib/python3.5/site-packages/sklearn/externals/joblib/parallel.py:540: UserWarning: Multiprocessing-backed parallel loops cannot be nested, setting n_jobs=1\n",
      "  **self._backend_args)\n"
     ]
    },
    {
     "name": "stdout",
     "output_type": "stream",
     "text": [
      "[CV]  estimator__n_estimators=40, estimator__max_depth=32, estimator__min_samples_split=4, estimator__min_samples_leaf=1 - 1.2min\n",
      "[CV] estimator__n_estimators=50, estimator__max_depth=32, estimator__min_samples_split=4, estimator__min_samples_leaf=1 \n"
     ]
    },
    {
     "name": "stderr",
     "output_type": "stream",
     "text": [
      "/Users/rob/anaconda/lib/python3.5/site-packages/sklearn/externals/joblib/parallel.py:540: UserWarning: Multiprocessing-backed parallel loops cannot be nested, setting n_jobs=1\n",
      "  **self._backend_args)\n"
     ]
    },
    {
     "name": "stdout",
     "output_type": "stream",
     "text": [
      "[CV]  estimator__n_estimators=40, estimator__max_depth=32, estimator__min_samples_split=4, estimator__min_samples_leaf=1 - 1.2min\n",
      "[CV] estimator__n_estimators=50, estimator__max_depth=32, estimator__min_samples_split=4, estimator__min_samples_leaf=1 \n"
     ]
    },
    {
     "name": "stderr",
     "output_type": "stream",
     "text": [
      "/Users/rob/anaconda/lib/python3.5/site-packages/sklearn/externals/joblib/parallel.py:540: UserWarning: Multiprocessing-backed parallel loops cannot be nested, setting n_jobs=1\n",
      "  **self._backend_args)\n"
     ]
    },
    {
     "name": "stdout",
     "output_type": "stream",
     "text": [
      "[CV]  estimator__n_estimators=40, estimator__max_depth=32, estimator__min_samples_split=4, estimator__min_samples_leaf=1 - 1.2min\n",
      "[CV] estimator__n_estimators=10, estimator__max_depth=32, estimator__min_samples_split=6, estimator__min_samples_leaf=1 \n"
     ]
    },
    {
     "name": "stderr",
     "output_type": "stream",
     "text": [
      "/Users/rob/anaconda/lib/python3.5/site-packages/sklearn/externals/joblib/parallel.py:540: UserWarning: Multiprocessing-backed parallel loops cannot be nested, setting n_jobs=1\n",
      "  **self._backend_args)\n"
     ]
    },
    {
     "name": "stdout",
     "output_type": "stream",
     "text": [
      "[CV]  estimator__n_estimators=10, estimator__max_depth=32, estimator__min_samples_split=6, estimator__min_samples_leaf=1 -  18.5s\n",
      "[CV] estimator__n_estimators=10, estimator__max_depth=32, estimator__min_samples_split=6, estimator__min_samples_leaf=1 \n"
     ]
    },
    {
     "name": "stderr",
     "output_type": "stream",
     "text": [
      "/Users/rob/anaconda/lib/python3.5/site-packages/sklearn/externals/joblib/parallel.py:540: UserWarning: Multiprocessing-backed parallel loops cannot be nested, setting n_jobs=1\n",
      "  **self._backend_args)\n"
     ]
    },
    {
     "name": "stdout",
     "output_type": "stream",
     "text": [
      "[CV]  estimator__n_estimators=40, estimator__max_depth=32, estimator__min_samples_split=4, estimator__min_samples_leaf=1 - 1.2min\n",
      "[CV] estimator__n_estimators=10, estimator__max_depth=32, estimator__min_samples_split=6, estimator__min_samples_leaf=1 \n"
     ]
    },
    {
     "name": "stderr",
     "output_type": "stream",
     "text": [
      "/Users/rob/anaconda/lib/python3.5/site-packages/sklearn/externals/joblib/parallel.py:540: UserWarning: Multiprocessing-backed parallel loops cannot be nested, setting n_jobs=1\n",
      "  **self._backend_args)\n"
     ]
    },
    {
     "name": "stdout",
     "output_type": "stream",
     "text": [
      "[CV]  estimator__n_estimators=10, estimator__max_depth=32, estimator__min_samples_split=6, estimator__min_samples_leaf=1 -  18.6s\n",
      "[CV] estimator__n_estimators=10, estimator__max_depth=32, estimator__min_samples_split=6, estimator__min_samples_leaf=1 \n"
     ]
    },
    {
     "name": "stderr",
     "output_type": "stream",
     "text": [
      "/Users/rob/anaconda/lib/python3.5/site-packages/sklearn/externals/joblib/parallel.py:540: UserWarning: Multiprocessing-backed parallel loops cannot be nested, setting n_jobs=1\n",
      "  **self._backend_args)\n"
     ]
    },
    {
     "name": "stdout",
     "output_type": "stream",
     "text": [
      "[CV]  estimator__n_estimators=40, estimator__max_depth=32, estimator__min_samples_split=4, estimator__min_samples_leaf=1 - 1.2min\n",
      "[CV] estimator__n_estimators=10, estimator__max_depth=32, estimator__min_samples_split=6, estimator__min_samples_leaf=1 \n"
     ]
    },
    {
     "name": "stderr",
     "output_type": "stream",
     "text": [
      "/Users/rob/anaconda/lib/python3.5/site-packages/sklearn/externals/joblib/parallel.py:540: UserWarning: Multiprocessing-backed parallel loops cannot be nested, setting n_jobs=1\n",
      "  **self._backend_args)\n"
     ]
    },
    {
     "name": "stdout",
     "output_type": "stream",
     "text": [
      "[CV]  estimator__n_estimators=10, estimator__max_depth=32, estimator__min_samples_split=6, estimator__min_samples_leaf=1 -  19.0s\n",
      "[CV] estimator__n_estimators=20, estimator__max_depth=32, estimator__min_samples_split=6, estimator__min_samples_leaf=1 \n"
     ]
    },
    {
     "name": "stderr",
     "output_type": "stream",
     "text": [
      "/Users/rob/anaconda/lib/python3.5/site-packages/sklearn/externals/joblib/parallel.py:540: UserWarning: Multiprocessing-backed parallel loops cannot be nested, setting n_jobs=1\n",
      "  **self._backend_args)\n"
     ]
    },
    {
     "name": "stdout",
     "output_type": "stream",
     "text": [
      "[CV]  estimator__n_estimators=10, estimator__max_depth=32, estimator__min_samples_split=6, estimator__min_samples_leaf=1 -  18.9s\n",
      "[CV] estimator__n_estimators=20, estimator__max_depth=32, estimator__min_samples_split=6, estimator__min_samples_leaf=1 \n"
     ]
    },
    {
     "name": "stderr",
     "output_type": "stream",
     "text": [
      "/Users/rob/anaconda/lib/python3.5/site-packages/sklearn/externals/joblib/parallel.py:540: UserWarning: Multiprocessing-backed parallel loops cannot be nested, setting n_jobs=1\n",
      "  **self._backend_args)\n"
     ]
    },
    {
     "name": "stdout",
     "output_type": "stream",
     "text": [
      "[CV]  estimator__n_estimators=10, estimator__max_depth=32, estimator__min_samples_split=6, estimator__min_samples_leaf=1 -  18.8s\n",
      "[CV] estimator__n_estimators=20, estimator__max_depth=32, estimator__min_samples_split=6, estimator__min_samples_leaf=1 \n"
     ]
    },
    {
     "name": "stderr",
     "output_type": "stream",
     "text": [
      "/Users/rob/anaconda/lib/python3.5/site-packages/sklearn/externals/joblib/parallel.py:540: UserWarning: Multiprocessing-backed parallel loops cannot be nested, setting n_jobs=1\n",
      "  **self._backend_args)\n"
     ]
    },
    {
     "name": "stdout",
     "output_type": "stream",
     "text": [
      "[CV]  estimator__n_estimators=50, estimator__max_depth=32, estimator__min_samples_split=4, estimator__min_samples_leaf=1 - 1.5min\n",
      "[CV] estimator__n_estimators=20, estimator__max_depth=32, estimator__min_samples_split=6, estimator__min_samples_leaf=1 \n"
     ]
    },
    {
     "name": "stderr",
     "output_type": "stream",
     "text": [
      "/Users/rob/anaconda/lib/python3.5/site-packages/sklearn/externals/joblib/parallel.py:540: UserWarning: Multiprocessing-backed parallel loops cannot be nested, setting n_jobs=1\n",
      "  **self._backend_args)\n"
     ]
    },
    {
     "name": "stdout",
     "output_type": "stream",
     "text": [
      "[CV]  estimator__n_estimators=50, estimator__max_depth=32, estimator__min_samples_split=4, estimator__min_samples_leaf=1 - 1.6min\n",
      "[CV] estimator__n_estimators=20, estimator__max_depth=32, estimator__min_samples_split=6, estimator__min_samples_leaf=1 \n"
     ]
    },
    {
     "name": "stderr",
     "output_type": "stream",
     "text": [
      "/Users/rob/anaconda/lib/python3.5/site-packages/sklearn/externals/joblib/parallel.py:540: UserWarning: Multiprocessing-backed parallel loops cannot be nested, setting n_jobs=1\n",
      "  **self._backend_args)\n"
     ]
    },
    {
     "name": "stdout",
     "output_type": "stream",
     "text": [
      "[CV]  estimator__n_estimators=50, estimator__max_depth=32, estimator__min_samples_split=4, estimator__min_samples_leaf=1 - 1.6min\n",
      "[CV] estimator__n_estimators=30, estimator__max_depth=32, estimator__min_samples_split=6, estimator__min_samples_leaf=1 \n"
     ]
    },
    {
     "name": "stderr",
     "output_type": "stream",
     "text": [
      "/Users/rob/anaconda/lib/python3.5/site-packages/sklearn/externals/joblib/parallel.py:540: UserWarning: Multiprocessing-backed parallel loops cannot be nested, setting n_jobs=1\n",
      "  **self._backend_args)\n"
     ]
    },
    {
     "name": "stdout",
     "output_type": "stream",
     "text": [
      "[CV]  estimator__n_estimators=20, estimator__max_depth=32, estimator__min_samples_split=6, estimator__min_samples_leaf=1 -  37.2s\n",
      "[CV] estimator__n_estimators=30, estimator__max_depth=32, estimator__min_samples_split=6, estimator__min_samples_leaf=1 \n"
     ]
    },
    {
     "name": "stderr",
     "output_type": "stream",
     "text": [
      "/Users/rob/anaconda/lib/python3.5/site-packages/sklearn/externals/joblib/parallel.py:540: UserWarning: Multiprocessing-backed parallel loops cannot be nested, setting n_jobs=1\n",
      "  **self._backend_args)\n"
     ]
    },
    {
     "name": "stdout",
     "output_type": "stream",
     "text": [
      "[CV]  estimator__n_estimators=50, estimator__max_depth=32, estimator__min_samples_split=4, estimator__min_samples_leaf=1 - 1.6min\n",
      "[CV] estimator__n_estimators=30, estimator__max_depth=32, estimator__min_samples_split=6, estimator__min_samples_leaf=1 \n"
     ]
    },
    {
     "name": "stderr",
     "output_type": "stream",
     "text": [
      "/Users/rob/anaconda/lib/python3.5/site-packages/sklearn/externals/joblib/parallel.py:540: UserWarning: Multiprocessing-backed parallel loops cannot be nested, setting n_jobs=1\n",
      "  **self._backend_args)\n"
     ]
    },
    {
     "name": "stdout",
     "output_type": "stream",
     "text": [
      "[CV]  estimator__n_estimators=50, estimator__max_depth=32, estimator__min_samples_split=4, estimator__min_samples_leaf=1 - 1.6min\n",
      "[CV] estimator__n_estimators=30, estimator__max_depth=32, estimator__min_samples_split=6, estimator__min_samples_leaf=1 \n"
     ]
    },
    {
     "name": "stderr",
     "output_type": "stream",
     "text": [
      "/Users/rob/anaconda/lib/python3.5/site-packages/sklearn/externals/joblib/parallel.py:540: UserWarning: Multiprocessing-backed parallel loops cannot be nested, setting n_jobs=1\n",
      "  **self._backend_args)\n"
     ]
    },
    {
     "name": "stdout",
     "output_type": "stream",
     "text": [
      "[CV]  estimator__n_estimators=20, estimator__max_depth=32, estimator__min_samples_split=6, estimator__min_samples_leaf=1 -  37.5s\n",
      "[CV] estimator__n_estimators=30, estimator__max_depth=32, estimator__min_samples_split=6, estimator__min_samples_leaf=1 \n"
     ]
    },
    {
     "name": "stderr",
     "output_type": "stream",
     "text": [
      "/Users/rob/anaconda/lib/python3.5/site-packages/sklearn/externals/joblib/parallel.py:540: UserWarning: Multiprocessing-backed parallel loops cannot be nested, setting n_jobs=1\n",
      "  **self._backend_args)\n"
     ]
    },
    {
     "name": "stdout",
     "output_type": "stream",
     "text": [
      "[CV]  estimator__n_estimators=20, estimator__max_depth=32, estimator__min_samples_split=6, estimator__min_samples_leaf=1 -  37.8s\n",
      "[CV] estimator__n_estimators=40, estimator__max_depth=32, estimator__min_samples_split=6, estimator__min_samples_leaf=1 \n"
     ]
    },
    {
     "name": "stderr",
     "output_type": "stream",
     "text": [
      "/Users/rob/anaconda/lib/python3.5/site-packages/sklearn/externals/joblib/parallel.py:540: UserWarning: Multiprocessing-backed parallel loops cannot be nested, setting n_jobs=1\n",
      "  **self._backend_args)\n"
     ]
    },
    {
     "name": "stdout",
     "output_type": "stream",
     "text": [
      "[CV]  estimator__n_estimators=20, estimator__max_depth=32, estimator__min_samples_split=6, estimator__min_samples_leaf=1 -  37.6s\n",
      "[CV] estimator__n_estimators=40, estimator__max_depth=32, estimator__min_samples_split=6, estimator__min_samples_leaf=1 \n",
      "[CV]  estimator__n_estimators=20, estimator__max_depth=32, estimator__min_samples_split=6, estimator__min_samples_leaf=1 -  37.3s\n",
      "[CV] estimator__n_estimators=40, estimator__max_depth=32, estimator__min_samples_split=6, estimator__min_samples_leaf=1 \n"
     ]
    },
    {
     "name": "stderr",
     "output_type": "stream",
     "text": [
      "/Users/rob/anaconda/lib/python3.5/site-packages/sklearn/externals/joblib/parallel.py:540: UserWarning: Multiprocessing-backed parallel loops cannot be nested, setting n_jobs=1\n",
      "  **self._backend_args)\n",
      "/Users/rob/anaconda/lib/python3.5/site-packages/sklearn/externals/joblib/parallel.py:540: UserWarning: Multiprocessing-backed parallel loops cannot be nested, setting n_jobs=1\n",
      "  **self._backend_args)\n"
     ]
    },
    {
     "name": "stdout",
     "output_type": "stream",
     "text": [
      "[CV]  estimator__n_estimators=30, estimator__max_depth=32, estimator__min_samples_split=6, estimator__min_samples_leaf=1 -  55.9s\n",
      "[CV] estimator__n_estimators=40, estimator__max_depth=32, estimator__min_samples_split=6, estimator__min_samples_leaf=1 \n"
     ]
    },
    {
     "name": "stderr",
     "output_type": "stream",
     "text": [
      "/Users/rob/anaconda/lib/python3.5/site-packages/sklearn/externals/joblib/parallel.py:540: UserWarning: Multiprocessing-backed parallel loops cannot be nested, setting n_jobs=1\n",
      "  **self._backend_args)\n"
     ]
    },
    {
     "name": "stdout",
     "output_type": "stream",
     "text": [
      "[CV]  estimator__n_estimators=30, estimator__max_depth=32, estimator__min_samples_split=6, estimator__min_samples_leaf=1 -  55.9s\n",
      "[CV] estimator__n_estimators=40, estimator__max_depth=32, estimator__min_samples_split=6, estimator__min_samples_leaf=1 \n"
     ]
    },
    {
     "name": "stderr",
     "output_type": "stream",
     "text": [
      "/Users/rob/anaconda/lib/python3.5/site-packages/sklearn/externals/joblib/parallel.py:540: UserWarning: Multiprocessing-backed parallel loops cannot be nested, setting n_jobs=1\n",
      "  **self._backend_args)\n"
     ]
    },
    {
     "name": "stdout",
     "output_type": "stream",
     "text": [
      "[CV]  estimator__n_estimators=30, estimator__max_depth=32, estimator__min_samples_split=6, estimator__min_samples_leaf=1 -  56.2s\n",
      "[CV] estimator__n_estimators=50, estimator__max_depth=32, estimator__min_samples_split=6, estimator__min_samples_leaf=1 \n"
     ]
    },
    {
     "name": "stderr",
     "output_type": "stream",
     "text": [
      "/Users/rob/anaconda/lib/python3.5/site-packages/sklearn/externals/joblib/parallel.py:540: UserWarning: Multiprocessing-backed parallel loops cannot be nested, setting n_jobs=1\n",
      "  **self._backend_args)\n"
     ]
    },
    {
     "name": "stdout",
     "output_type": "stream",
     "text": [
      "[CV]  estimator__n_estimators=30, estimator__max_depth=32, estimator__min_samples_split=6, estimator__min_samples_leaf=1 -  56.3s\n",
      "[CV] estimator__n_estimators=50, estimator__max_depth=32, estimator__min_samples_split=6, estimator__min_samples_leaf=1 \n"
     ]
    },
    {
     "name": "stderr",
     "output_type": "stream",
     "text": [
      "/Users/rob/anaconda/lib/python3.5/site-packages/sklearn/externals/joblib/parallel.py:540: UserWarning: Multiprocessing-backed parallel loops cannot be nested, setting n_jobs=1\n",
      "  **self._backend_args)\n"
     ]
    },
    {
     "name": "stdout",
     "output_type": "stream",
     "text": [
      "[CV]  estimator__n_estimators=30, estimator__max_depth=32, estimator__min_samples_split=6, estimator__min_samples_leaf=1 -  55.7s\n",
      "[CV] estimator__n_estimators=50, estimator__max_depth=32, estimator__min_samples_split=6, estimator__min_samples_leaf=1 \n"
     ]
    },
    {
     "name": "stderr",
     "output_type": "stream",
     "text": [
      "/Users/rob/anaconda/lib/python3.5/site-packages/sklearn/externals/joblib/parallel.py:540: UserWarning: Multiprocessing-backed parallel loops cannot be nested, setting n_jobs=1\n",
      "  **self._backend_args)\n"
     ]
    },
    {
     "name": "stdout",
     "output_type": "stream",
     "text": [
      "[CV]  estimator__n_estimators=40, estimator__max_depth=32, estimator__min_samples_split=6, estimator__min_samples_leaf=1 - 1.2min\n",
      "[CV] estimator__n_estimators=50, estimator__max_depth=32, estimator__min_samples_split=6, estimator__min_samples_leaf=1 \n"
     ]
    },
    {
     "name": "stderr",
     "output_type": "stream",
     "text": [
      "/Users/rob/anaconda/lib/python3.5/site-packages/sklearn/externals/joblib/parallel.py:540: UserWarning: Multiprocessing-backed parallel loops cannot be nested, setting n_jobs=1\n",
      "  **self._backend_args)\n"
     ]
    },
    {
     "name": "stdout",
     "output_type": "stream",
     "text": [
      "[CV]  estimator__n_estimators=40, estimator__max_depth=32, estimator__min_samples_split=6, estimator__min_samples_leaf=1 - 1.2min\n",
      "[CV] estimator__n_estimators=50, estimator__max_depth=32, estimator__min_samples_split=6, estimator__min_samples_leaf=1 \n"
     ]
    },
    {
     "name": "stderr",
     "output_type": "stream",
     "text": [
      "/Users/rob/anaconda/lib/python3.5/site-packages/sklearn/externals/joblib/parallel.py:540: UserWarning: Multiprocessing-backed parallel loops cannot be nested, setting n_jobs=1\n",
      "  **self._backend_args)\n"
     ]
    },
    {
     "name": "stdout",
     "output_type": "stream",
     "text": [
      "[CV]  estimator__n_estimators=40, estimator__max_depth=32, estimator__min_samples_split=6, estimator__min_samples_leaf=1 - 1.2min\n",
      "[CV] estimator__n_estimators=10, estimator__max_depth=32, estimator__min_samples_split=2, estimator__min_samples_leaf=2 \n"
     ]
    },
    {
     "name": "stderr",
     "output_type": "stream",
     "text": [
      "/Users/rob/anaconda/lib/python3.5/site-packages/sklearn/externals/joblib/parallel.py:540: UserWarning: Multiprocessing-backed parallel loops cannot be nested, setting n_jobs=1\n",
      "  **self._backend_args)\n"
     ]
    },
    {
     "name": "stdout",
     "output_type": "stream",
     "text": [
      "[CV]  estimator__n_estimators=10, estimator__max_depth=32, estimator__min_samples_split=2, estimator__min_samples_leaf=2 -  17.4s\n",
      "[CV] estimator__n_estimators=10, estimator__max_depth=32, estimator__min_samples_split=2, estimator__min_samples_leaf=2 \n"
     ]
    },
    {
     "name": "stderr",
     "output_type": "stream",
     "text": [
      "/Users/rob/anaconda/lib/python3.5/site-packages/sklearn/externals/joblib/parallel.py:540: UserWarning: Multiprocessing-backed parallel loops cannot be nested, setting n_jobs=1\n",
      "  **self._backend_args)\n"
     ]
    },
    {
     "name": "stdout",
     "output_type": "stream",
     "text": [
      "[CV]  estimator__n_estimators=40, estimator__max_depth=32, estimator__min_samples_split=6, estimator__min_samples_leaf=1 - 1.3min\n",
      "[CV] estimator__n_estimators=10, estimator__max_depth=32, estimator__min_samples_split=2, estimator__min_samples_leaf=2 \n"
     ]
    },
    {
     "name": "stderr",
     "output_type": "stream",
     "text": [
      "/Users/rob/anaconda/lib/python3.5/site-packages/sklearn/externals/joblib/parallel.py:540: UserWarning: Multiprocessing-backed parallel loops cannot be nested, setting n_jobs=1\n",
      "  **self._backend_args)\n"
     ]
    },
    {
     "name": "stdout",
     "output_type": "stream",
     "text": [
      "[CV]  estimator__n_estimators=40, estimator__max_depth=32, estimator__min_samples_split=6, estimator__min_samples_leaf=1 - 1.3min\n",
      "[CV] estimator__n_estimators=10, estimator__max_depth=32, estimator__min_samples_split=2, estimator__min_samples_leaf=2 \n"
     ]
    },
    {
     "name": "stderr",
     "output_type": "stream",
     "text": [
      "/Users/rob/anaconda/lib/python3.5/site-packages/sklearn/externals/joblib/parallel.py:540: UserWarning: Multiprocessing-backed parallel loops cannot be nested, setting n_jobs=1\n",
      "  **self._backend_args)\n"
     ]
    },
    {
     "name": "stdout",
     "output_type": "stream",
     "text": [
      "[CV]  estimator__n_estimators=10, estimator__max_depth=32, estimator__min_samples_split=2, estimator__min_samples_leaf=2 -  18.1s\n",
      "[CV] estimator__n_estimators=10, estimator__max_depth=32, estimator__min_samples_split=2, estimator__min_samples_leaf=2 \n"
     ]
    },
    {
     "name": "stderr",
     "output_type": "stream",
     "text": [
      "/Users/rob/anaconda/lib/python3.5/site-packages/sklearn/externals/joblib/parallel.py:540: UserWarning: Multiprocessing-backed parallel loops cannot be nested, setting n_jobs=1\n",
      "  **self._backend_args)\n"
     ]
    },
    {
     "name": "stdout",
     "output_type": "stream",
     "text": [
      "[CV]  estimator__n_estimators=10, estimator__max_depth=32, estimator__min_samples_split=2, estimator__min_samples_leaf=2 -  17.8s\n",
      "[CV] estimator__n_estimators=20, estimator__max_depth=32, estimator__min_samples_split=2, estimator__min_samples_leaf=2 \n"
     ]
    },
    {
     "name": "stderr",
     "output_type": "stream",
     "text": [
      "/Users/rob/anaconda/lib/python3.5/site-packages/sklearn/externals/joblib/parallel.py:540: UserWarning: Multiprocessing-backed parallel loops cannot be nested, setting n_jobs=1\n",
      "  **self._backend_args)\n"
     ]
    },
    {
     "name": "stdout",
     "output_type": "stream",
     "text": [
      "[CV]  estimator__n_estimators=10, estimator__max_depth=32, estimator__min_samples_split=2, estimator__min_samples_leaf=2 -  17.9s\n",
      "[CV] estimator__n_estimators=20, estimator__max_depth=32, estimator__min_samples_split=2, estimator__min_samples_leaf=2 \n"
     ]
    },
    {
     "name": "stderr",
     "output_type": "stream",
     "text": [
      "/Users/rob/anaconda/lib/python3.5/site-packages/sklearn/externals/joblib/parallel.py:540: UserWarning: Multiprocessing-backed parallel loops cannot be nested, setting n_jobs=1\n",
      "  **self._backend_args)\n"
     ]
    },
    {
     "name": "stdout",
     "output_type": "stream",
     "text": [
      "[CV]  estimator__n_estimators=10, estimator__max_depth=32, estimator__min_samples_split=2, estimator__min_samples_leaf=2 -  17.3s\n",
      "[CV] estimator__n_estimators=20, estimator__max_depth=32, estimator__min_samples_split=2, estimator__min_samples_leaf=2 \n"
     ]
    },
    {
     "name": "stderr",
     "output_type": "stream",
     "text": [
      "/Users/rob/anaconda/lib/python3.5/site-packages/sklearn/externals/joblib/parallel.py:540: UserWarning: Multiprocessing-backed parallel loops cannot be nested, setting n_jobs=1\n",
      "  **self._backend_args)\n"
     ]
    },
    {
     "name": "stdout",
     "output_type": "stream",
     "text": [
      "[CV]  estimator__n_estimators=50, estimator__max_depth=32, estimator__min_samples_split=6, estimator__min_samples_leaf=1 - 1.6min\n",
      "[CV] estimator__n_estimators=20, estimator__max_depth=32, estimator__min_samples_split=2, estimator__min_samples_leaf=2 \n"
     ]
    },
    {
     "name": "stderr",
     "output_type": "stream",
     "text": [
      "/Users/rob/anaconda/lib/python3.5/site-packages/sklearn/externals/joblib/parallel.py:540: UserWarning: Multiprocessing-backed parallel loops cannot be nested, setting n_jobs=1\n",
      "  **self._backend_args)\n"
     ]
    },
    {
     "name": "stdout",
     "output_type": "stream",
     "text": [
      "[CV]  estimator__n_estimators=50, estimator__max_depth=32, estimator__min_samples_split=6, estimator__min_samples_leaf=1 - 1.6min\n",
      "[CV] estimator__n_estimators=20, estimator__max_depth=32, estimator__min_samples_split=2, estimator__min_samples_leaf=2 \n"
     ]
    },
    {
     "name": "stderr",
     "output_type": "stream",
     "text": [
      "/Users/rob/anaconda/lib/python3.5/site-packages/sklearn/externals/joblib/parallel.py:540: UserWarning: Multiprocessing-backed parallel loops cannot be nested, setting n_jobs=1\n",
      "  **self._backend_args)\n"
     ]
    },
    {
     "name": "stdout",
     "output_type": "stream",
     "text": [
      "[CV]  estimator__n_estimators=50, estimator__max_depth=32, estimator__min_samples_split=6, estimator__min_samples_leaf=1 - 1.6min\n",
      "[CV] estimator__n_estimators=30, estimator__max_depth=32, estimator__min_samples_split=2, estimator__min_samples_leaf=2 \n"
     ]
    },
    {
     "name": "stderr",
     "output_type": "stream",
     "text": [
      "/Users/rob/anaconda/lib/python3.5/site-packages/sklearn/externals/joblib/parallel.py:540: UserWarning: Multiprocessing-backed parallel loops cannot be nested, setting n_jobs=1\n",
      "  **self._backend_args)\n"
     ]
    },
    {
     "name": "stdout",
     "output_type": "stream",
     "text": [
      "[CV]  estimator__n_estimators=20, estimator__max_depth=32, estimator__min_samples_split=2, estimator__min_samples_leaf=2 -  35.2s\n",
      "[CV] estimator__n_estimators=30, estimator__max_depth=32, estimator__min_samples_split=2, estimator__min_samples_leaf=2 \n"
     ]
    },
    {
     "name": "stderr",
     "output_type": "stream",
     "text": [
      "/Users/rob/anaconda/lib/python3.5/site-packages/sklearn/externals/joblib/parallel.py:540: UserWarning: Multiprocessing-backed parallel loops cannot be nested, setting n_jobs=1\n",
      "  **self._backend_args)\n"
     ]
    },
    {
     "name": "stdout",
     "output_type": "stream",
     "text": [
      "[CV]  estimator__n_estimators=50, estimator__max_depth=32, estimator__min_samples_split=6, estimator__min_samples_leaf=1 - 1.6min\n",
      "[CV] estimator__n_estimators=30, estimator__max_depth=32, estimator__min_samples_split=2, estimator__min_samples_leaf=2 \n"
     ]
    },
    {
     "name": "stderr",
     "output_type": "stream",
     "text": [
      "/Users/rob/anaconda/lib/python3.5/site-packages/sklearn/externals/joblib/parallel.py:540: UserWarning: Multiprocessing-backed parallel loops cannot be nested, setting n_jobs=1\n",
      "  **self._backend_args)\n"
     ]
    },
    {
     "name": "stdout",
     "output_type": "stream",
     "text": [
      "[CV]  estimator__n_estimators=20, estimator__max_depth=32, estimator__min_samples_split=2, estimator__min_samples_leaf=2 -  35.4s\n",
      "[CV] estimator__n_estimators=30, estimator__max_depth=32, estimator__min_samples_split=2, estimator__min_samples_leaf=2 \n"
     ]
    },
    {
     "name": "stderr",
     "output_type": "stream",
     "text": [
      "/Users/rob/anaconda/lib/python3.5/site-packages/sklearn/externals/joblib/parallel.py:540: UserWarning: Multiprocessing-backed parallel loops cannot be nested, setting n_jobs=1\n",
      "  **self._backend_args)\n"
     ]
    },
    {
     "name": "stdout",
     "output_type": "stream",
     "text": [
      "[CV]  estimator__n_estimators=20, estimator__max_depth=32, estimator__min_samples_split=2, estimator__min_samples_leaf=2 -  35.3s\n",
      "[CV] estimator__n_estimators=30, estimator__max_depth=32, estimator__min_samples_split=2, estimator__min_samples_leaf=2 \n"
     ]
    },
    {
     "name": "stderr",
     "output_type": "stream",
     "text": [
      "/Users/rob/anaconda/lib/python3.5/site-packages/sklearn/externals/joblib/parallel.py:540: UserWarning: Multiprocessing-backed parallel loops cannot be nested, setting n_jobs=1\n",
      "  **self._backend_args)\n"
     ]
    },
    {
     "name": "stdout",
     "output_type": "stream",
     "text": [
      "[CV]  estimator__n_estimators=50, estimator__max_depth=32, estimator__min_samples_split=6, estimator__min_samples_leaf=1 - 1.6min\n",
      "[CV] estimator__n_estimators=40, estimator__max_depth=32, estimator__min_samples_split=2, estimator__min_samples_leaf=2 \n"
     ]
    },
    {
     "name": "stderr",
     "output_type": "stream",
     "text": [
      "/Users/rob/anaconda/lib/python3.5/site-packages/sklearn/externals/joblib/parallel.py:540: UserWarning: Multiprocessing-backed parallel loops cannot be nested, setting n_jobs=1\n",
      "  **self._backend_args)\n"
     ]
    },
    {
     "name": "stdout",
     "output_type": "stream",
     "text": [
      "[CV]  estimator__n_estimators=20, estimator__max_depth=32, estimator__min_samples_split=2, estimator__min_samples_leaf=2 -  34.6s\n",
      "[CV] estimator__n_estimators=40, estimator__max_depth=32, estimator__min_samples_split=2, estimator__min_samples_leaf=2 \n"
     ]
    },
    {
     "name": "stderr",
     "output_type": "stream",
     "text": [
      "/Users/rob/anaconda/lib/python3.5/site-packages/sklearn/externals/joblib/parallel.py:540: UserWarning: Multiprocessing-backed parallel loops cannot be nested, setting n_jobs=1\n",
      "  **self._backend_args)\n"
     ]
    },
    {
     "name": "stdout",
     "output_type": "stream",
     "text": [
      "[CV]  estimator__n_estimators=20, estimator__max_depth=32, estimator__min_samples_split=2, estimator__min_samples_leaf=2 -  35.0s\n",
      "[CV] estimator__n_estimators=40, estimator__max_depth=32, estimator__min_samples_split=2, estimator__min_samples_leaf=2 \n"
     ]
    },
    {
     "name": "stderr",
     "output_type": "stream",
     "text": [
      "/Users/rob/anaconda/lib/python3.5/site-packages/sklearn/externals/joblib/parallel.py:540: UserWarning: Multiprocessing-backed parallel loops cannot be nested, setting n_jobs=1\n",
      "  **self._backend_args)\n"
     ]
    },
    {
     "name": "stdout",
     "output_type": "stream",
     "text": [
      "[CV]  estimator__n_estimators=30, estimator__max_depth=32, estimator__min_samples_split=2, estimator__min_samples_leaf=2 -  52.5s\n",
      "[CV] estimator__n_estimators=40, estimator__max_depth=32, estimator__min_samples_split=2, estimator__min_samples_leaf=2 \n"
     ]
    },
    {
     "name": "stderr",
     "output_type": "stream",
     "text": [
      "/Users/rob/anaconda/lib/python3.5/site-packages/sklearn/externals/joblib/parallel.py:540: UserWarning: Multiprocessing-backed parallel loops cannot be nested, setting n_jobs=1\n",
      "  **self._backend_args)\n"
     ]
    },
    {
     "name": "stdout",
     "output_type": "stream",
     "text": [
      "[CV]  estimator__n_estimators=30, estimator__max_depth=32, estimator__min_samples_split=2, estimator__min_samples_leaf=2 -  51.9s\n",
      "[CV] estimator__n_estimators=40, estimator__max_depth=32, estimator__min_samples_split=2, estimator__min_samples_leaf=2 \n"
     ]
    },
    {
     "name": "stderr",
     "output_type": "stream",
     "text": [
      "/Users/rob/anaconda/lib/python3.5/site-packages/sklearn/externals/joblib/parallel.py:540: UserWarning: Multiprocessing-backed parallel loops cannot be nested, setting n_jobs=1\n",
      "  **self._backend_args)\n"
     ]
    },
    {
     "name": "stdout",
     "output_type": "stream",
     "text": [
      "[CV]  estimator__n_estimators=30, estimator__max_depth=32, estimator__min_samples_split=2, estimator__min_samples_leaf=2 -  52.7s\n",
      "[CV] estimator__n_estimators=50, estimator__max_depth=32, estimator__min_samples_split=2, estimator__min_samples_leaf=2 \n"
     ]
    },
    {
     "name": "stderr",
     "output_type": "stream",
     "text": [
      "/Users/rob/anaconda/lib/python3.5/site-packages/sklearn/externals/joblib/parallel.py:540: UserWarning: Multiprocessing-backed parallel loops cannot be nested, setting n_jobs=1\n",
      "  **self._backend_args)\n"
     ]
    },
    {
     "name": "stdout",
     "output_type": "stream",
     "text": [
      "[CV]  estimator__n_estimators=30, estimator__max_depth=32, estimator__min_samples_split=2, estimator__min_samples_leaf=2 -  52.5s\n",
      "[CV] estimator__n_estimators=50, estimator__max_depth=32, estimator__min_samples_split=2, estimator__min_samples_leaf=2 \n"
     ]
    },
    {
     "name": "stderr",
     "output_type": "stream",
     "text": [
      "/Users/rob/anaconda/lib/python3.5/site-packages/sklearn/externals/joblib/parallel.py:540: UserWarning: Multiprocessing-backed parallel loops cannot be nested, setting n_jobs=1\n",
      "  **self._backend_args)\n"
     ]
    },
    {
     "name": "stdout",
     "output_type": "stream",
     "text": [
      "[CV]  estimator__n_estimators=30, estimator__max_depth=32, estimator__min_samples_split=2, estimator__min_samples_leaf=2 -  52.0s\n",
      "[CV] estimator__n_estimators=50, estimator__max_depth=32, estimator__min_samples_split=2, estimator__min_samples_leaf=2 \n"
     ]
    },
    {
     "name": "stderr",
     "output_type": "stream",
     "text": [
      "/Users/rob/anaconda/lib/python3.5/site-packages/sklearn/externals/joblib/parallel.py:540: UserWarning: Multiprocessing-backed parallel loops cannot be nested, setting n_jobs=1\n",
      "  **self._backend_args)\n"
     ]
    },
    {
     "name": "stdout",
     "output_type": "stream",
     "text": [
      "[CV]  estimator__n_estimators=40, estimator__max_depth=32, estimator__min_samples_split=2, estimator__min_samples_leaf=2 - 1.2min\n",
      "[CV] estimator__n_estimators=50, estimator__max_depth=32, estimator__min_samples_split=2, estimator__min_samples_leaf=2 \n",
      "[CV]  estimator__n_estimators=40, estimator__max_depth=32, estimator__min_samples_split=2, estimator__min_samples_leaf=2 - 1.2min\n",
      "[CV] estimator__n_estimators=50, estimator__max_depth=32, estimator__min_samples_split=2, estimator__min_samples_leaf=2 \n"
     ]
    },
    {
     "name": "stderr",
     "output_type": "stream",
     "text": [
      "/Users/rob/anaconda/lib/python3.5/site-packages/sklearn/externals/joblib/parallel.py:540: UserWarning: Multiprocessing-backed parallel loops cannot be nested, setting n_jobs=1\n",
      "  **self._backend_args)\n",
      "/Users/rob/anaconda/lib/python3.5/site-packages/sklearn/externals/joblib/parallel.py:540: UserWarning: Multiprocessing-backed parallel loops cannot be nested, setting n_jobs=1\n",
      "  **self._backend_args)\n"
     ]
    },
    {
     "name": "stdout",
     "output_type": "stream",
     "text": [
      "[CV]  estimator__n_estimators=40, estimator__max_depth=32, estimator__min_samples_split=2, estimator__min_samples_leaf=2 - 1.2min\n",
      "[CV] estimator__n_estimators=10, estimator__max_depth=32, estimator__min_samples_split=4, estimator__min_samples_leaf=2 \n"
     ]
    },
    {
     "name": "stderr",
     "output_type": "stream",
     "text": [
      "/Users/rob/anaconda/lib/python3.5/site-packages/sklearn/externals/joblib/parallel.py:540: UserWarning: Multiprocessing-backed parallel loops cannot be nested, setting n_jobs=1\n",
      "  **self._backend_args)\n"
     ]
    },
    {
     "name": "stdout",
     "output_type": "stream",
     "text": [
      "[CV]  estimator__n_estimators=10, estimator__max_depth=32, estimator__min_samples_split=4, estimator__min_samples_leaf=2 -  17.8s\n",
      "[CV] estimator__n_estimators=10, estimator__max_depth=32, estimator__min_samples_split=4, estimator__min_samples_leaf=2 \n"
     ]
    },
    {
     "name": "stderr",
     "output_type": "stream",
     "text": [
      "/Users/rob/anaconda/lib/python3.5/site-packages/sklearn/externals/joblib/parallel.py:540: UserWarning: Multiprocessing-backed parallel loops cannot be nested, setting n_jobs=1\n",
      "  **self._backend_args)\n"
     ]
    },
    {
     "name": "stdout",
     "output_type": "stream",
     "text": [
      "[CV]  estimator__n_estimators=40, estimator__max_depth=32, estimator__min_samples_split=2, estimator__min_samples_leaf=2 - 1.2min\n",
      "[CV] estimator__n_estimators=10, estimator__max_depth=32, estimator__min_samples_split=4, estimator__min_samples_leaf=2 \n"
     ]
    },
    {
     "name": "stderr",
     "output_type": "stream",
     "text": [
      "/Users/rob/anaconda/lib/python3.5/site-packages/sklearn/externals/joblib/parallel.py:540: UserWarning: Multiprocessing-backed parallel loops cannot be nested, setting n_jobs=1\n",
      "  **self._backend_args)\n"
     ]
    },
    {
     "name": "stdout",
     "output_type": "stream",
     "text": [
      "[CV]  estimator__n_estimators=40, estimator__max_depth=32, estimator__min_samples_split=2, estimator__min_samples_leaf=2 - 1.2min\n",
      "[CV] estimator__n_estimators=10, estimator__max_depth=32, estimator__min_samples_split=4, estimator__min_samples_leaf=2 \n"
     ]
    },
    {
     "name": "stderr",
     "output_type": "stream",
     "text": [
      "/Users/rob/anaconda/lib/python3.5/site-packages/sklearn/externals/joblib/parallel.py:540: UserWarning: Multiprocessing-backed parallel loops cannot be nested, setting n_jobs=1\n",
      "  **self._backend_args)\n"
     ]
    },
    {
     "name": "stdout",
     "output_type": "stream",
     "text": [
      "[CV]  estimator__n_estimators=10, estimator__max_depth=32, estimator__min_samples_split=4, estimator__min_samples_leaf=2 -  17.7s\n",
      "[CV] estimator__n_estimators=10, estimator__max_depth=32, estimator__min_samples_split=4, estimator__min_samples_leaf=2 \n"
     ]
    },
    {
     "name": "stderr",
     "output_type": "stream",
     "text": [
      "/Users/rob/anaconda/lib/python3.5/site-packages/sklearn/externals/joblib/parallel.py:540: UserWarning: Multiprocessing-backed parallel loops cannot be nested, setting n_jobs=1\n",
      "  **self._backend_args)\n"
     ]
    },
    {
     "name": "stdout",
     "output_type": "stream",
     "text": [
      "[CV]  estimator__n_estimators=10, estimator__max_depth=32, estimator__min_samples_split=4, estimator__min_samples_leaf=2 -  18.1s\n",
      "[CV] estimator__n_estimators=20, estimator__max_depth=32, estimator__min_samples_split=4, estimator__min_samples_leaf=2 \n"
     ]
    },
    {
     "name": "stderr",
     "output_type": "stream",
     "text": [
      "/Users/rob/anaconda/lib/python3.5/site-packages/sklearn/externals/joblib/parallel.py:540: UserWarning: Multiprocessing-backed parallel loops cannot be nested, setting n_jobs=1\n",
      "  **self._backend_args)\n"
     ]
    },
    {
     "name": "stdout",
     "output_type": "stream",
     "text": [
      "[CV]  estimator__n_estimators=10, estimator__max_depth=32, estimator__min_samples_split=4, estimator__min_samples_leaf=2 -  18.1s\n",
      "[CV] estimator__n_estimators=20, estimator__max_depth=32, estimator__min_samples_split=4, estimator__min_samples_leaf=2 \n"
     ]
    },
    {
     "name": "stderr",
     "output_type": "stream",
     "text": [
      "/Users/rob/anaconda/lib/python3.5/site-packages/sklearn/externals/joblib/parallel.py:540: UserWarning: Multiprocessing-backed parallel loops cannot be nested, setting n_jobs=1\n",
      "  **self._backend_args)\n"
     ]
    },
    {
     "name": "stdout",
     "output_type": "stream",
     "text": [
      "[CV]  estimator__n_estimators=10, estimator__max_depth=32, estimator__min_samples_split=4, estimator__min_samples_leaf=2 -  17.8s\n",
      "[CV] estimator__n_estimators=20, estimator__max_depth=32, estimator__min_samples_split=4, estimator__min_samples_leaf=2 \n"
     ]
    },
    {
     "name": "stderr",
     "output_type": "stream",
     "text": [
      "/Users/rob/anaconda/lib/python3.5/site-packages/sklearn/externals/joblib/parallel.py:540: UserWarning: Multiprocessing-backed parallel loops cannot be nested, setting n_jobs=1\n",
      "  **self._backend_args)\n"
     ]
    },
    {
     "name": "stdout",
     "output_type": "stream",
     "text": [
      "[CV]  estimator__n_estimators=50, estimator__max_depth=32, estimator__min_samples_split=2, estimator__min_samples_leaf=2 - 1.5min\n",
      "[CV] estimator__n_estimators=20, estimator__max_depth=32, estimator__min_samples_split=4, estimator__min_samples_leaf=2 \n"
     ]
    },
    {
     "name": "stderr",
     "output_type": "stream",
     "text": [
      "/Users/rob/anaconda/lib/python3.5/site-packages/sklearn/externals/joblib/parallel.py:540: UserWarning: Multiprocessing-backed parallel loops cannot be nested, setting n_jobs=1\n",
      "  **self._backend_args)\n"
     ]
    },
    {
     "name": "stdout",
     "output_type": "stream",
     "text": [
      "[CV]  estimator__n_estimators=50, estimator__max_depth=32, estimator__min_samples_split=2, estimator__min_samples_leaf=2 - 1.5min\n",
      "[CV] estimator__n_estimators=20, estimator__max_depth=32, estimator__min_samples_split=4, estimator__min_samples_leaf=2 \n"
     ]
    },
    {
     "name": "stderr",
     "output_type": "stream",
     "text": [
      "/Users/rob/anaconda/lib/python3.5/site-packages/sklearn/externals/joblib/parallel.py:540: UserWarning: Multiprocessing-backed parallel loops cannot be nested, setting n_jobs=1\n",
      "  **self._backend_args)\n"
     ]
    },
    {
     "name": "stdout",
     "output_type": "stream",
     "text": [
      "[CV]  estimator__n_estimators=50, estimator__max_depth=32, estimator__min_samples_split=2, estimator__min_samples_leaf=2 - 1.5min\n",
      "[CV] estimator__n_estimators=30, estimator__max_depth=32, estimator__min_samples_split=4, estimator__min_samples_leaf=2 \n"
     ]
    },
    {
     "name": "stderr",
     "output_type": "stream",
     "text": [
      "/Users/rob/anaconda/lib/python3.5/site-packages/sklearn/externals/joblib/parallel.py:540: UserWarning: Multiprocessing-backed parallel loops cannot be nested, setting n_jobs=1\n",
      "  **self._backend_args)\n"
     ]
    },
    {
     "name": "stdout",
     "output_type": "stream",
     "text": [
      "[CV]  estimator__n_estimators=20, estimator__max_depth=32, estimator__min_samples_split=4, estimator__min_samples_leaf=2 -  35.1s\n",
      "[CV] estimator__n_estimators=30, estimator__max_depth=32, estimator__min_samples_split=4, estimator__min_samples_leaf=2 \n"
     ]
    },
    {
     "name": "stderr",
     "output_type": "stream",
     "text": [
      "/Users/rob/anaconda/lib/python3.5/site-packages/sklearn/externals/joblib/parallel.py:540: UserWarning: Multiprocessing-backed parallel loops cannot be nested, setting n_jobs=1\n",
      "  **self._backend_args)\n"
     ]
    },
    {
     "name": "stdout",
     "output_type": "stream",
     "text": [
      "[CV]  estimator__n_estimators=20, estimator__max_depth=32, estimator__min_samples_split=4, estimator__min_samples_leaf=2 -  35.5s\n",
      "[CV] estimator__n_estimators=30, estimator__max_depth=32, estimator__min_samples_split=4, estimator__min_samples_leaf=2 \n"
     ]
    },
    {
     "name": "stderr",
     "output_type": "stream",
     "text": [
      "/Users/rob/anaconda/lib/python3.5/site-packages/sklearn/externals/joblib/parallel.py:540: UserWarning: Multiprocessing-backed parallel loops cannot be nested, setting n_jobs=1\n",
      "  **self._backend_args)\n"
     ]
    },
    {
     "name": "stdout",
     "output_type": "stream",
     "text": [
      "[CV]  estimator__n_estimators=50, estimator__max_depth=32, estimator__min_samples_split=2, estimator__min_samples_leaf=2 - 1.5min\n",
      "[CV] estimator__n_estimators=30, estimator__max_depth=32, estimator__min_samples_split=4, estimator__min_samples_leaf=2 \n"
     ]
    },
    {
     "name": "stderr",
     "output_type": "stream",
     "text": [
      "/Users/rob/anaconda/lib/python3.5/site-packages/sklearn/externals/joblib/parallel.py:540: UserWarning: Multiprocessing-backed parallel loops cannot be nested, setting n_jobs=1\n",
      "  **self._backend_args)\n"
     ]
    },
    {
     "name": "stdout",
     "output_type": "stream",
     "text": [
      "[CV]  estimator__n_estimators=50, estimator__max_depth=32, estimator__min_samples_split=2, estimator__min_samples_leaf=2 - 1.5min\n",
      "[CV] estimator__n_estimators=30, estimator__max_depth=32, estimator__min_samples_split=4, estimator__min_samples_leaf=2 \n"
     ]
    },
    {
     "name": "stderr",
     "output_type": "stream",
     "text": [
      "/Users/rob/anaconda/lib/python3.5/site-packages/sklearn/externals/joblib/parallel.py:540: UserWarning: Multiprocessing-backed parallel loops cannot be nested, setting n_jobs=1\n",
      "  **self._backend_args)\n"
     ]
    },
    {
     "name": "stdout",
     "output_type": "stream",
     "text": [
      "[CV]  estimator__n_estimators=20, estimator__max_depth=32, estimator__min_samples_split=4, estimator__min_samples_leaf=2 -  35.5s\n",
      "[CV] estimator__n_estimators=40, estimator__max_depth=32, estimator__min_samples_split=4, estimator__min_samples_leaf=2 \n"
     ]
    },
    {
     "name": "stderr",
     "output_type": "stream",
     "text": [
      "/Users/rob/anaconda/lib/python3.5/site-packages/sklearn/externals/joblib/parallel.py:540: UserWarning: Multiprocessing-backed parallel loops cannot be nested, setting n_jobs=1\n",
      "  **self._backend_args)\n"
     ]
    },
    {
     "name": "stdout",
     "output_type": "stream",
     "text": [
      "[CV]  estimator__n_estimators=20, estimator__max_depth=32, estimator__min_samples_split=4, estimator__min_samples_leaf=2 -  35.3s\n",
      "[CV] estimator__n_estimators=40, estimator__max_depth=32, estimator__min_samples_split=4, estimator__min_samples_leaf=2 \n"
     ]
    },
    {
     "name": "stderr",
     "output_type": "stream",
     "text": [
      "/Users/rob/anaconda/lib/python3.5/site-packages/sklearn/externals/joblib/parallel.py:540: UserWarning: Multiprocessing-backed parallel loops cannot be nested, setting n_jobs=1\n",
      "  **self._backend_args)\n"
     ]
    },
    {
     "name": "stdout",
     "output_type": "stream",
     "text": [
      "[CV]  estimator__n_estimators=20, estimator__max_depth=32, estimator__min_samples_split=4, estimator__min_samples_leaf=2 -  35.2s\n",
      "[CV] estimator__n_estimators=40, estimator__max_depth=32, estimator__min_samples_split=4, estimator__min_samples_leaf=2 \n"
     ]
    },
    {
     "name": "stderr",
     "output_type": "stream",
     "text": [
      "/Users/rob/anaconda/lib/python3.5/site-packages/sklearn/externals/joblib/parallel.py:540: UserWarning: Multiprocessing-backed parallel loops cannot be nested, setting n_jobs=1\n",
      "  **self._backend_args)\n"
     ]
    },
    {
     "name": "stdout",
     "output_type": "stream",
     "text": [
      "[CV]  estimator__n_estimators=30, estimator__max_depth=32, estimator__min_samples_split=4, estimator__min_samples_leaf=2 -  53.0s\n",
      "[CV] estimator__n_estimators=40, estimator__max_depth=32, estimator__min_samples_split=4, estimator__min_samples_leaf=2 \n"
     ]
    },
    {
     "name": "stderr",
     "output_type": "stream",
     "text": [
      "/Users/rob/anaconda/lib/python3.5/site-packages/sklearn/externals/joblib/parallel.py:540: UserWarning: Multiprocessing-backed parallel loops cannot be nested, setting n_jobs=1\n",
      "  **self._backend_args)\n"
     ]
    },
    {
     "name": "stdout",
     "output_type": "stream",
     "text": [
      "[CV]  estimator__n_estimators=30, estimator__max_depth=32, estimator__min_samples_split=4, estimator__min_samples_leaf=2 -  53.1s\n",
      "[CV] estimator__n_estimators=40, estimator__max_depth=32, estimator__min_samples_split=4, estimator__min_samples_leaf=2 \n"
     ]
    },
    {
     "name": "stderr",
     "output_type": "stream",
     "text": [
      "/Users/rob/anaconda/lib/python3.5/site-packages/sklearn/externals/joblib/parallel.py:540: UserWarning: Multiprocessing-backed parallel loops cannot be nested, setting n_jobs=1\n",
      "  **self._backend_args)\n"
     ]
    },
    {
     "name": "stdout",
     "output_type": "stream",
     "text": [
      "[CV]  estimator__n_estimators=30, estimator__max_depth=32, estimator__min_samples_split=4, estimator__min_samples_leaf=2 -  54.0s\n",
      "[CV] estimator__n_estimators=50, estimator__max_depth=32, estimator__min_samples_split=4, estimator__min_samples_leaf=2 \n"
     ]
    },
    {
     "name": "stderr",
     "output_type": "stream",
     "text": [
      "/Users/rob/anaconda/lib/python3.5/site-packages/sklearn/externals/joblib/parallel.py:540: UserWarning: Multiprocessing-backed parallel loops cannot be nested, setting n_jobs=1\n",
      "  **self._backend_args)\n"
     ]
    },
    {
     "name": "stdout",
     "output_type": "stream",
     "text": [
      "[CV]  estimator__n_estimators=30, estimator__max_depth=32, estimator__min_samples_split=4, estimator__min_samples_leaf=2 -  53.8s\n",
      "[CV] estimator__n_estimators=50, estimator__max_depth=32, estimator__min_samples_split=4, estimator__min_samples_leaf=2 \n"
     ]
    },
    {
     "name": "stderr",
     "output_type": "stream",
     "text": [
      "/Users/rob/anaconda/lib/python3.5/site-packages/sklearn/externals/joblib/parallel.py:540: UserWarning: Multiprocessing-backed parallel loops cannot be nested, setting n_jobs=1\n",
      "  **self._backend_args)\n"
     ]
    },
    {
     "name": "stdout",
     "output_type": "stream",
     "text": [
      "[CV]  estimator__n_estimators=30, estimator__max_depth=32, estimator__min_samples_split=4, estimator__min_samples_leaf=2 -  53.7s\n",
      "[CV] estimator__n_estimators=50, estimator__max_depth=32, estimator__min_samples_split=4, estimator__min_samples_leaf=2 \n"
     ]
    },
    {
     "name": "stderr",
     "output_type": "stream",
     "text": [
      "/Users/rob/anaconda/lib/python3.5/site-packages/sklearn/externals/joblib/parallel.py:540: UserWarning: Multiprocessing-backed parallel loops cannot be nested, setting n_jobs=1\n",
      "  **self._backend_args)\n"
     ]
    },
    {
     "name": "stdout",
     "output_type": "stream",
     "text": [
      "[CV]  estimator__n_estimators=40, estimator__max_depth=32, estimator__min_samples_split=4, estimator__min_samples_leaf=2 - 1.2min\n",
      "[CV] estimator__n_estimators=50, estimator__max_depth=32, estimator__min_samples_split=4, estimator__min_samples_leaf=2 \n"
     ]
    },
    {
     "name": "stderr",
     "output_type": "stream",
     "text": [
      "/Users/rob/anaconda/lib/python3.5/site-packages/sklearn/externals/joblib/parallel.py:540: UserWarning: Multiprocessing-backed parallel loops cannot be nested, setting n_jobs=1\n",
      "  **self._backend_args)\n"
     ]
    },
    {
     "name": "stdout",
     "output_type": "stream",
     "text": [
      "[CV]  estimator__n_estimators=40, estimator__max_depth=32, estimator__min_samples_split=4, estimator__min_samples_leaf=2 - 1.2min\n",
      "[CV] estimator__n_estimators=50, estimator__max_depth=32, estimator__min_samples_split=4, estimator__min_samples_leaf=2 \n"
     ]
    },
    {
     "name": "stderr",
     "output_type": "stream",
     "text": [
      "/Users/rob/anaconda/lib/python3.5/site-packages/sklearn/externals/joblib/parallel.py:540: UserWarning: Multiprocessing-backed parallel loops cannot be nested, setting n_jobs=1\n",
      "  **self._backend_args)\n"
     ]
    },
    {
     "name": "stdout",
     "output_type": "stream",
     "text": [
      "[CV]  estimator__n_estimators=40, estimator__max_depth=32, estimator__min_samples_split=4, estimator__min_samples_leaf=2 - 1.2min\n",
      "[CV] estimator__n_estimators=10, estimator__max_depth=32, estimator__min_samples_split=6, estimator__min_samples_leaf=2 \n"
     ]
    },
    {
     "name": "stderr",
     "output_type": "stream",
     "text": [
      "/Users/rob/anaconda/lib/python3.5/site-packages/sklearn/externals/joblib/parallel.py:540: UserWarning: Multiprocessing-backed parallel loops cannot be nested, setting n_jobs=1\n",
      "  **self._backend_args)\n"
     ]
    },
    {
     "name": "stdout",
     "output_type": "stream",
     "text": [
      "[CV]  estimator__n_estimators=10, estimator__max_depth=32, estimator__min_samples_split=6, estimator__min_samples_leaf=2 -  17.7s\n",
      "[CV] estimator__n_estimators=10, estimator__max_depth=32, estimator__min_samples_split=6, estimator__min_samples_leaf=2 \n"
     ]
    },
    {
     "name": "stderr",
     "output_type": "stream",
     "text": [
      "/Users/rob/anaconda/lib/python3.5/site-packages/sklearn/externals/joblib/parallel.py:540: UserWarning: Multiprocessing-backed parallel loops cannot be nested, setting n_jobs=1\n",
      "  **self._backend_args)\n"
     ]
    },
    {
     "name": "stdout",
     "output_type": "stream",
     "text": [
      "[CV]  estimator__n_estimators=40, estimator__max_depth=32, estimator__min_samples_split=4, estimator__min_samples_leaf=2 - 1.2min\n",
      "[CV] estimator__n_estimators=10, estimator__max_depth=32, estimator__min_samples_split=6, estimator__min_samples_leaf=2 \n"
     ]
    },
    {
     "name": "stderr",
     "output_type": "stream",
     "text": [
      "/Users/rob/anaconda/lib/python3.5/site-packages/sklearn/externals/joblib/parallel.py:540: UserWarning: Multiprocessing-backed parallel loops cannot be nested, setting n_jobs=1\n",
      "  **self._backend_args)\n"
     ]
    },
    {
     "name": "stdout",
     "output_type": "stream",
     "text": [
      "[CV]  estimator__n_estimators=40, estimator__max_depth=32, estimator__min_samples_split=4, estimator__min_samples_leaf=2 - 1.2min\n",
      "[CV] estimator__n_estimators=10, estimator__max_depth=32, estimator__min_samples_split=6, estimator__min_samples_leaf=2 \n"
     ]
    },
    {
     "name": "stderr",
     "output_type": "stream",
     "text": [
      "/Users/rob/anaconda/lib/python3.5/site-packages/sklearn/externals/joblib/parallel.py:540: UserWarning: Multiprocessing-backed parallel loops cannot be nested, setting n_jobs=1\n",
      "  **self._backend_args)\n"
     ]
    },
    {
     "name": "stdout",
     "output_type": "stream",
     "text": [
      "[CV]  estimator__n_estimators=10, estimator__max_depth=32, estimator__min_samples_split=6, estimator__min_samples_leaf=2 -  18.0s\n",
      "[CV] estimator__n_estimators=10, estimator__max_depth=32, estimator__min_samples_split=6, estimator__min_samples_leaf=2 \n"
     ]
    },
    {
     "name": "stderr",
     "output_type": "stream",
     "text": [
      "/Users/rob/anaconda/lib/python3.5/site-packages/sklearn/externals/joblib/parallel.py:540: UserWarning: Multiprocessing-backed parallel loops cannot be nested, setting n_jobs=1\n",
      "  **self._backend_args)\n"
     ]
    },
    {
     "name": "stdout",
     "output_type": "stream",
     "text": [
      "[CV]  estimator__n_estimators=10, estimator__max_depth=32, estimator__min_samples_split=6, estimator__min_samples_leaf=2 -  18.3s\n",
      "[CV] estimator__n_estimators=20, estimator__max_depth=32, estimator__min_samples_split=6, estimator__min_samples_leaf=2 \n"
     ]
    },
    {
     "name": "stderr",
     "output_type": "stream",
     "text": [
      "/Users/rob/anaconda/lib/python3.5/site-packages/sklearn/externals/joblib/parallel.py:540: UserWarning: Multiprocessing-backed parallel loops cannot be nested, setting n_jobs=1\n",
      "  **self._backend_args)\n"
     ]
    },
    {
     "name": "stdout",
     "output_type": "stream",
     "text": [
      "[CV]  estimator__n_estimators=10, estimator__max_depth=32, estimator__min_samples_split=6, estimator__min_samples_leaf=2 -  18.3s\n",
      "[CV] estimator__n_estimators=20, estimator__max_depth=32, estimator__min_samples_split=6, estimator__min_samples_leaf=2 \n"
     ]
    },
    {
     "name": "stderr",
     "output_type": "stream",
     "text": [
      "/Users/rob/anaconda/lib/python3.5/site-packages/sklearn/externals/joblib/parallel.py:540: UserWarning: Multiprocessing-backed parallel loops cannot be nested, setting n_jobs=1\n",
      "  **self._backend_args)\n"
     ]
    },
    {
     "name": "stdout",
     "output_type": "stream",
     "text": [
      "[CV]  estimator__n_estimators=10, estimator__max_depth=32, estimator__min_samples_split=6, estimator__min_samples_leaf=2 -  17.9s\n",
      "[CV] estimator__n_estimators=20, estimator__max_depth=32, estimator__min_samples_split=6, estimator__min_samples_leaf=2 \n"
     ]
    },
    {
     "name": "stderr",
     "output_type": "stream",
     "text": [
      "/Users/rob/anaconda/lib/python3.5/site-packages/sklearn/externals/joblib/parallel.py:540: UserWarning: Multiprocessing-backed parallel loops cannot be nested, setting n_jobs=1\n",
      "  **self._backend_args)\n"
     ]
    },
    {
     "name": "stdout",
     "output_type": "stream",
     "text": [
      "[CV]  estimator__n_estimators=50, estimator__max_depth=32, estimator__min_samples_split=4, estimator__min_samples_leaf=2 - 1.5min\n",
      "[CV] estimator__n_estimators=20, estimator__max_depth=32, estimator__min_samples_split=6, estimator__min_samples_leaf=2 \n"
     ]
    },
    {
     "name": "stderr",
     "output_type": "stream",
     "text": [
      "/Users/rob/anaconda/lib/python3.5/site-packages/sklearn/externals/joblib/parallel.py:540: UserWarning: Multiprocessing-backed parallel loops cannot be nested, setting n_jobs=1\n",
      "  **self._backend_args)\n"
     ]
    },
    {
     "name": "stdout",
     "output_type": "stream",
     "text": [
      "[CV]  estimator__n_estimators=50, estimator__max_depth=32, estimator__min_samples_split=4, estimator__min_samples_leaf=2 - 1.5min\n",
      "[CV] estimator__n_estimators=20, estimator__max_depth=32, estimator__min_samples_split=6, estimator__min_samples_leaf=2 \n"
     ]
    },
    {
     "name": "stderr",
     "output_type": "stream",
     "text": [
      "/Users/rob/anaconda/lib/python3.5/site-packages/sklearn/externals/joblib/parallel.py:540: UserWarning: Multiprocessing-backed parallel loops cannot be nested, setting n_jobs=1\n",
      "  **self._backend_args)\n"
     ]
    },
    {
     "name": "stdout",
     "output_type": "stream",
     "text": [
      "[CV]  estimator__n_estimators=50, estimator__max_depth=32, estimator__min_samples_split=4, estimator__min_samples_leaf=2 - 1.5min\n",
      "[CV] estimator__n_estimators=30, estimator__max_depth=32, estimator__min_samples_split=6, estimator__min_samples_leaf=2 \n"
     ]
    },
    {
     "name": "stderr",
     "output_type": "stream",
     "text": [
      "/Users/rob/anaconda/lib/python3.5/site-packages/sklearn/externals/joblib/parallel.py:540: UserWarning: Multiprocessing-backed parallel loops cannot be nested, setting n_jobs=1\n",
      "  **self._backend_args)\n"
     ]
    },
    {
     "name": "stdout",
     "output_type": "stream",
     "text": [
      "[CV]  estimator__n_estimators=20, estimator__max_depth=32, estimator__min_samples_split=6, estimator__min_samples_leaf=2 -  35.9s\n",
      "[CV] estimator__n_estimators=30, estimator__max_depth=32, estimator__min_samples_split=6, estimator__min_samples_leaf=2 \n"
     ]
    },
    {
     "name": "stderr",
     "output_type": "stream",
     "text": [
      "/Users/rob/anaconda/lib/python3.5/site-packages/sklearn/externals/joblib/parallel.py:540: UserWarning: Multiprocessing-backed parallel loops cannot be nested, setting n_jobs=1\n",
      "  **self._backend_args)\n"
     ]
    },
    {
     "name": "stdout",
     "output_type": "stream",
     "text": [
      "[CV]  estimator__n_estimators=20, estimator__max_depth=32, estimator__min_samples_split=6, estimator__min_samples_leaf=2 -  35.6s\n",
      "[CV] estimator__n_estimators=30, estimator__max_depth=32, estimator__min_samples_split=6, estimator__min_samples_leaf=2 \n"
     ]
    },
    {
     "name": "stderr",
     "output_type": "stream",
     "text": [
      "/Users/rob/anaconda/lib/python3.5/site-packages/sklearn/externals/joblib/parallel.py:540: UserWarning: Multiprocessing-backed parallel loops cannot be nested, setting n_jobs=1\n",
      "  **self._backend_args)\n"
     ]
    },
    {
     "name": "stdout",
     "output_type": "stream",
     "text": [
      "[CV]  estimator__n_estimators=50, estimator__max_depth=32, estimator__min_samples_split=4, estimator__min_samples_leaf=2 - 1.5min\n",
      "[CV] estimator__n_estimators=30, estimator__max_depth=32, estimator__min_samples_split=6, estimator__min_samples_leaf=2 \n"
     ]
    },
    {
     "name": "stderr",
     "output_type": "stream",
     "text": [
      "/Users/rob/anaconda/lib/python3.5/site-packages/sklearn/externals/joblib/parallel.py:540: UserWarning: Multiprocessing-backed parallel loops cannot be nested, setting n_jobs=1\n",
      "  **self._backend_args)\n"
     ]
    },
    {
     "name": "stdout",
     "output_type": "stream",
     "text": [
      "[CV]  estimator__n_estimators=50, estimator__max_depth=32, estimator__min_samples_split=4, estimator__min_samples_leaf=2 - 1.5min\n",
      "[CV] estimator__n_estimators=30, estimator__max_depth=32, estimator__min_samples_split=6, estimator__min_samples_leaf=2 \n"
     ]
    },
    {
     "name": "stderr",
     "output_type": "stream",
     "text": [
      "/Users/rob/anaconda/lib/python3.5/site-packages/sklearn/externals/joblib/parallel.py:540: UserWarning: Multiprocessing-backed parallel loops cannot be nested, setting n_jobs=1\n",
      "  **self._backend_args)\n"
     ]
    },
    {
     "name": "stdout",
     "output_type": "stream",
     "text": [
      "[CV]  estimator__n_estimators=20, estimator__max_depth=32, estimator__min_samples_split=6, estimator__min_samples_leaf=2 -  35.8s\n",
      "[CV] estimator__n_estimators=40, estimator__max_depth=32, estimator__min_samples_split=6, estimator__min_samples_leaf=2 \n"
     ]
    },
    {
     "name": "stderr",
     "output_type": "stream",
     "text": [
      "/Users/rob/anaconda/lib/python3.5/site-packages/sklearn/externals/joblib/parallel.py:540: UserWarning: Multiprocessing-backed parallel loops cannot be nested, setting n_jobs=1\n",
      "  **self._backend_args)\n"
     ]
    },
    {
     "name": "stdout",
     "output_type": "stream",
     "text": [
      "[CV]  estimator__n_estimators=20, estimator__max_depth=32, estimator__min_samples_split=6, estimator__min_samples_leaf=2 -  36.1s\n",
      "[CV] estimator__n_estimators=40, estimator__max_depth=32, estimator__min_samples_split=6, estimator__min_samples_leaf=2 \n"
     ]
    },
    {
     "name": "stderr",
     "output_type": "stream",
     "text": [
      "/Users/rob/anaconda/lib/python3.5/site-packages/sklearn/externals/joblib/parallel.py:540: UserWarning: Multiprocessing-backed parallel loops cannot be nested, setting n_jobs=1\n",
      "  **self._backend_args)\n"
     ]
    },
    {
     "name": "stdout",
     "output_type": "stream",
     "text": [
      "[CV]  estimator__n_estimators=20, estimator__max_depth=32, estimator__min_samples_split=6, estimator__min_samples_leaf=2 -  36.1s\n",
      "[CV] estimator__n_estimators=40, estimator__max_depth=32, estimator__min_samples_split=6, estimator__min_samples_leaf=2 \n"
     ]
    },
    {
     "name": "stderr",
     "output_type": "stream",
     "text": [
      "/Users/rob/anaconda/lib/python3.5/site-packages/sklearn/externals/joblib/parallel.py:540: UserWarning: Multiprocessing-backed parallel loops cannot be nested, setting n_jobs=1\n",
      "  **self._backend_args)\n"
     ]
    },
    {
     "name": "stdout",
     "output_type": "stream",
     "text": [
      "[CV]  estimator__n_estimators=30, estimator__max_depth=32, estimator__min_samples_split=6, estimator__min_samples_leaf=2 -  53.8s\n",
      "[CV] estimator__n_estimators=40, estimator__max_depth=32, estimator__min_samples_split=6, estimator__min_samples_leaf=2 \n"
     ]
    },
    {
     "name": "stderr",
     "output_type": "stream",
     "text": [
      "/Users/rob/anaconda/lib/python3.5/site-packages/sklearn/externals/joblib/parallel.py:540: UserWarning: Multiprocessing-backed parallel loops cannot be nested, setting n_jobs=1\n",
      "  **self._backend_args)\n"
     ]
    },
    {
     "name": "stdout",
     "output_type": "stream",
     "text": [
      "[CV]  estimator__n_estimators=30, estimator__max_depth=32, estimator__min_samples_split=6, estimator__min_samples_leaf=2 -  54.6s\n",
      "[CV] estimator__n_estimators=40, estimator__max_depth=32, estimator__min_samples_split=6, estimator__min_samples_leaf=2 \n"
     ]
    },
    {
     "name": "stderr",
     "output_type": "stream",
     "text": [
      "/Users/rob/anaconda/lib/python3.5/site-packages/sklearn/externals/joblib/parallel.py:540: UserWarning: Multiprocessing-backed parallel loops cannot be nested, setting n_jobs=1\n",
      "  **self._backend_args)\n"
     ]
    },
    {
     "name": "stdout",
     "output_type": "stream",
     "text": [
      "[CV]  estimator__n_estimators=30, estimator__max_depth=32, estimator__min_samples_split=6, estimator__min_samples_leaf=2 -  54.3s\n",
      "[CV] estimator__n_estimators=50, estimator__max_depth=32, estimator__min_samples_split=6, estimator__min_samples_leaf=2 \n"
     ]
    },
    {
     "name": "stderr",
     "output_type": "stream",
     "text": [
      "/Users/rob/anaconda/lib/python3.5/site-packages/sklearn/externals/joblib/parallel.py:540: UserWarning: Multiprocessing-backed parallel loops cannot be nested, setting n_jobs=1\n",
      "  **self._backend_args)\n"
     ]
    },
    {
     "name": "stdout",
     "output_type": "stream",
     "text": [
      "[CV]  estimator__n_estimators=30, estimator__max_depth=32, estimator__min_samples_split=6, estimator__min_samples_leaf=2 -  54.4s\n",
      "[CV] estimator__n_estimators=50, estimator__max_depth=32, estimator__min_samples_split=6, estimator__min_samples_leaf=2 \n"
     ]
    },
    {
     "name": "stderr",
     "output_type": "stream",
     "text": [
      "/Users/rob/anaconda/lib/python3.5/site-packages/sklearn/externals/joblib/parallel.py:540: UserWarning: Multiprocessing-backed parallel loops cannot be nested, setting n_jobs=1\n",
      "  **self._backend_args)\n"
     ]
    },
    {
     "name": "stdout",
     "output_type": "stream",
     "text": [
      "[CV]  estimator__n_estimators=30, estimator__max_depth=32, estimator__min_samples_split=6, estimator__min_samples_leaf=2 -  54.3s\n",
      "[CV] estimator__n_estimators=50, estimator__max_depth=32, estimator__min_samples_split=6, estimator__min_samples_leaf=2 \n"
     ]
    },
    {
     "name": "stderr",
     "output_type": "stream",
     "text": [
      "/Users/rob/anaconda/lib/python3.5/site-packages/sklearn/externals/joblib/parallel.py:540: UserWarning: Multiprocessing-backed parallel loops cannot be nested, setting n_jobs=1\n",
      "  **self._backend_args)\n"
     ]
    },
    {
     "name": "stdout",
     "output_type": "stream",
     "text": [
      "[CV]  estimator__n_estimators=40, estimator__max_depth=32, estimator__min_samples_split=6, estimator__min_samples_leaf=2 - 1.2min\n",
      "[CV] estimator__n_estimators=50, estimator__max_depth=32, estimator__min_samples_split=6, estimator__min_samples_leaf=2 \n"
     ]
    },
    {
     "name": "stderr",
     "output_type": "stream",
     "text": [
      "/Users/rob/anaconda/lib/python3.5/site-packages/sklearn/externals/joblib/parallel.py:540: UserWarning: Multiprocessing-backed parallel loops cannot be nested, setting n_jobs=1\n",
      "  **self._backend_args)\n"
     ]
    },
    {
     "name": "stdout",
     "output_type": "stream",
     "text": [
      "[CV]  estimator__n_estimators=40, estimator__max_depth=32, estimator__min_samples_split=6, estimator__min_samples_leaf=2 - 1.2min\n",
      "[CV] estimator__n_estimators=50, estimator__max_depth=32, estimator__min_samples_split=6, estimator__min_samples_leaf=2 \n"
     ]
    },
    {
     "name": "stderr",
     "output_type": "stream",
     "text": [
      "/Users/rob/anaconda/lib/python3.5/site-packages/sklearn/externals/joblib/parallel.py:540: UserWarning: Multiprocessing-backed parallel loops cannot be nested, setting n_jobs=1\n",
      "  **self._backend_args)\n"
     ]
    },
    {
     "name": "stdout",
     "output_type": "stream",
     "text": [
      "[CV]  estimator__n_estimators=40, estimator__max_depth=32, estimator__min_samples_split=6, estimator__min_samples_leaf=2 - 1.2min\n",
      "[CV] estimator__n_estimators=10, estimator__max_depth=32, estimator__min_samples_split=2, estimator__min_samples_leaf=4 \n"
     ]
    },
    {
     "name": "stderr",
     "output_type": "stream",
     "text": [
      "/Users/rob/anaconda/lib/python3.5/site-packages/sklearn/externals/joblib/parallel.py:540: UserWarning: Multiprocessing-backed parallel loops cannot be nested, setting n_jobs=1\n",
      "  **self._backend_args)\n"
     ]
    },
    {
     "name": "stdout",
     "output_type": "stream",
     "text": [
      "[CV]  estimator__n_estimators=10, estimator__max_depth=32, estimator__min_samples_split=2, estimator__min_samples_leaf=4 -  15.6s\n",
      "[CV] estimator__n_estimators=10, estimator__max_depth=32, estimator__min_samples_split=2, estimator__min_samples_leaf=4 \n"
     ]
    },
    {
     "name": "stderr",
     "output_type": "stream",
     "text": [
      "/Users/rob/anaconda/lib/python3.5/site-packages/sklearn/externals/joblib/parallel.py:540: UserWarning: Multiprocessing-backed parallel loops cannot be nested, setting n_jobs=1\n",
      "  **self._backend_args)\n"
     ]
    },
    {
     "name": "stdout",
     "output_type": "stream",
     "text": [
      "[CV]  estimator__n_estimators=40, estimator__max_depth=32, estimator__min_samples_split=6, estimator__min_samples_leaf=2 - 1.2min\n",
      "[CV] estimator__n_estimators=10, estimator__max_depth=32, estimator__min_samples_split=2, estimator__min_samples_leaf=4 \n"
     ]
    },
    {
     "name": "stderr",
     "output_type": "stream",
     "text": [
      "/Users/rob/anaconda/lib/python3.5/site-packages/sklearn/externals/joblib/parallel.py:540: UserWarning: Multiprocessing-backed parallel loops cannot be nested, setting n_jobs=1\n",
      "  **self._backend_args)\n"
     ]
    },
    {
     "name": "stdout",
     "output_type": "stream",
     "text": [
      "[CV]  estimator__n_estimators=40, estimator__max_depth=32, estimator__min_samples_split=6, estimator__min_samples_leaf=2 - 1.2min\n",
      "[CV] estimator__n_estimators=10, estimator__max_depth=32, estimator__min_samples_split=2, estimator__min_samples_leaf=4 \n"
     ]
    },
    {
     "name": "stderr",
     "output_type": "stream",
     "text": [
      "/Users/rob/anaconda/lib/python3.5/site-packages/sklearn/externals/joblib/parallel.py:540: UserWarning: Multiprocessing-backed parallel loops cannot be nested, setting n_jobs=1\n",
      "  **self._backend_args)\n"
     ]
    },
    {
     "name": "stdout",
     "output_type": "stream",
     "text": [
      "[CV]  estimator__n_estimators=10, estimator__max_depth=32, estimator__min_samples_split=2, estimator__min_samples_leaf=4 -  16.1s\n",
      "[CV] estimator__n_estimators=10, estimator__max_depth=32, estimator__min_samples_split=2, estimator__min_samples_leaf=4 \n"
     ]
    },
    {
     "name": "stderr",
     "output_type": "stream",
     "text": [
      "/Users/rob/anaconda/lib/python3.5/site-packages/sklearn/externals/joblib/parallel.py:540: UserWarning: Multiprocessing-backed parallel loops cannot be nested, setting n_jobs=1\n",
      "  **self._backend_args)\n"
     ]
    },
    {
     "name": "stdout",
     "output_type": "stream",
     "text": [
      "[CV]  estimator__n_estimators=10, estimator__max_depth=32, estimator__min_samples_split=2, estimator__min_samples_leaf=4 -  16.5s\n",
      "[CV] estimator__n_estimators=20, estimator__max_depth=32, estimator__min_samples_split=2, estimator__min_samples_leaf=4 \n"
     ]
    },
    {
     "name": "stderr",
     "output_type": "stream",
     "text": [
      "/Users/rob/anaconda/lib/python3.5/site-packages/sklearn/externals/joblib/parallel.py:540: UserWarning: Multiprocessing-backed parallel loops cannot be nested, setting n_jobs=1\n",
      "  **self._backend_args)\n"
     ]
    },
    {
     "name": "stdout",
     "output_type": "stream",
     "text": [
      "[CV]  estimator__n_estimators=10, estimator__max_depth=32, estimator__min_samples_split=2, estimator__min_samples_leaf=4 -  16.4s\n",
      "[CV] estimator__n_estimators=20, estimator__max_depth=32, estimator__min_samples_split=2, estimator__min_samples_leaf=4 \n"
     ]
    },
    {
     "name": "stderr",
     "output_type": "stream",
     "text": [
      "/Users/rob/anaconda/lib/python3.5/site-packages/sklearn/externals/joblib/parallel.py:540: UserWarning: Multiprocessing-backed parallel loops cannot be nested, setting n_jobs=1\n",
      "  **self._backend_args)\n"
     ]
    },
    {
     "name": "stdout",
     "output_type": "stream",
     "text": [
      "[CV]  estimator__n_estimators=10, estimator__max_depth=32, estimator__min_samples_split=2, estimator__min_samples_leaf=4 -  16.4s\n",
      "[CV] estimator__n_estimators=20, estimator__max_depth=32, estimator__min_samples_split=2, estimator__min_samples_leaf=4 \n"
     ]
    },
    {
     "name": "stderr",
     "output_type": "stream",
     "text": [
      "/Users/rob/anaconda/lib/python3.5/site-packages/sklearn/externals/joblib/parallel.py:540: UserWarning: Multiprocessing-backed parallel loops cannot be nested, setting n_jobs=1\n",
      "  **self._backend_args)\n"
     ]
    },
    {
     "name": "stdout",
     "output_type": "stream",
     "text": [
      "[CV]  estimator__n_estimators=50, estimator__max_depth=32, estimator__min_samples_split=6, estimator__min_samples_leaf=2 - 1.5min\n",
      "[CV] estimator__n_estimators=20, estimator__max_depth=32, estimator__min_samples_split=2, estimator__min_samples_leaf=4 \n"
     ]
    },
    {
     "name": "stderr",
     "output_type": "stream",
     "text": [
      "/Users/rob/anaconda/lib/python3.5/site-packages/sklearn/externals/joblib/parallel.py:540: UserWarning: Multiprocessing-backed parallel loops cannot be nested, setting n_jobs=1\n",
      "  **self._backend_args)\n"
     ]
    },
    {
     "name": "stdout",
     "output_type": "stream",
     "text": [
      "[CV]  estimator__n_estimators=50, estimator__max_depth=32, estimator__min_samples_split=6, estimator__min_samples_leaf=2 - 1.5min\n",
      "[CV] estimator__n_estimators=20, estimator__max_depth=32, estimator__min_samples_split=2, estimator__min_samples_leaf=4 \n"
     ]
    },
    {
     "name": "stderr",
     "output_type": "stream",
     "text": [
      "/Users/rob/anaconda/lib/python3.5/site-packages/sklearn/externals/joblib/parallel.py:540: UserWarning: Multiprocessing-backed parallel loops cannot be nested, setting n_jobs=1\n",
      "  **self._backend_args)\n"
     ]
    },
    {
     "name": "stdout",
     "output_type": "stream",
     "text": [
      "[CV]  estimator__n_estimators=50, estimator__max_depth=32, estimator__min_samples_split=6, estimator__min_samples_leaf=2 - 1.5min\n",
      "[CV] estimator__n_estimators=30, estimator__max_depth=32, estimator__min_samples_split=2, estimator__min_samples_leaf=4 \n"
     ]
    },
    {
     "name": "stderr",
     "output_type": "stream",
     "text": [
      "/Users/rob/anaconda/lib/python3.5/site-packages/sklearn/externals/joblib/parallel.py:540: UserWarning: Multiprocessing-backed parallel loops cannot be nested, setting n_jobs=1\n",
      "  **self._backend_args)\n"
     ]
    },
    {
     "name": "stdout",
     "output_type": "stream",
     "text": [
      "[CV]  estimator__n_estimators=20, estimator__max_depth=32, estimator__min_samples_split=2, estimator__min_samples_leaf=4 -  32.3s\n",
      "[CV] estimator__n_estimators=30, estimator__max_depth=32, estimator__min_samples_split=2, estimator__min_samples_leaf=4 \n"
     ]
    },
    {
     "name": "stderr",
     "output_type": "stream",
     "text": [
      "/Users/rob/anaconda/lib/python3.5/site-packages/sklearn/externals/joblib/parallel.py:540: UserWarning: Multiprocessing-backed parallel loops cannot be nested, setting n_jobs=1\n",
      "  **self._backend_args)\n"
     ]
    },
    {
     "name": "stdout",
     "output_type": "stream",
     "text": [
      "[CV]  estimator__n_estimators=20, estimator__max_depth=32, estimator__min_samples_split=2, estimator__min_samples_leaf=4 -  32.4s\n",
      "[CV] estimator__n_estimators=30, estimator__max_depth=32, estimator__min_samples_split=2, estimator__min_samples_leaf=4 \n"
     ]
    },
    {
     "name": "stderr",
     "output_type": "stream",
     "text": [
      "/Users/rob/anaconda/lib/python3.5/site-packages/sklearn/externals/joblib/parallel.py:540: UserWarning: Multiprocessing-backed parallel loops cannot be nested, setting n_jobs=1\n",
      "  **self._backend_args)\n"
     ]
    },
    {
     "name": "stdout",
     "output_type": "stream",
     "text": [
      "[CV]  estimator__n_estimators=20, estimator__max_depth=32, estimator__min_samples_split=2, estimator__min_samples_leaf=4 -  32.5s\n",
      "[CV] estimator__n_estimators=30, estimator__max_depth=32, estimator__min_samples_split=2, estimator__min_samples_leaf=4 \n"
     ]
    },
    {
     "name": "stderr",
     "output_type": "stream",
     "text": [
      "/Users/rob/anaconda/lib/python3.5/site-packages/sklearn/externals/joblib/parallel.py:540: UserWarning: Multiprocessing-backed parallel loops cannot be nested, setting n_jobs=1\n",
      "  **self._backend_args)\n"
     ]
    },
    {
     "name": "stdout",
     "output_type": "stream",
     "text": [
      "[CV]  estimator__n_estimators=50, estimator__max_depth=32, estimator__min_samples_split=6, estimator__min_samples_leaf=2 - 1.5min\n",
      "[CV] estimator__n_estimators=30, estimator__max_depth=32, estimator__min_samples_split=2, estimator__min_samples_leaf=4 \n"
     ]
    },
    {
     "name": "stderr",
     "output_type": "stream",
     "text": [
      "/Users/rob/anaconda/lib/python3.5/site-packages/sklearn/externals/joblib/parallel.py:540: UserWarning: Multiprocessing-backed parallel loops cannot be nested, setting n_jobs=1\n",
      "  **self._backend_args)\n"
     ]
    },
    {
     "name": "stdout",
     "output_type": "stream",
     "text": [
      "[CV]  estimator__n_estimators=50, estimator__max_depth=32, estimator__min_samples_split=6, estimator__min_samples_leaf=2 - 1.5min\n",
      "[CV] estimator__n_estimators=40, estimator__max_depth=32, estimator__min_samples_split=2, estimator__min_samples_leaf=4 \n"
     ]
    },
    {
     "name": "stderr",
     "output_type": "stream",
     "text": [
      "/Users/rob/anaconda/lib/python3.5/site-packages/sklearn/externals/joblib/parallel.py:540: UserWarning: Multiprocessing-backed parallel loops cannot be nested, setting n_jobs=1\n",
      "  **self._backend_args)\n"
     ]
    },
    {
     "name": "stdout",
     "output_type": "stream",
     "text": [
      "[CV]  estimator__n_estimators=20, estimator__max_depth=32, estimator__min_samples_split=2, estimator__min_samples_leaf=4 -  32.8s\n",
      "[CV] estimator__n_estimators=40, estimator__max_depth=32, estimator__min_samples_split=2, estimator__min_samples_leaf=4 \n"
     ]
    },
    {
     "name": "stderr",
     "output_type": "stream",
     "text": [
      "/Users/rob/anaconda/lib/python3.5/site-packages/sklearn/externals/joblib/parallel.py:540: UserWarning: Multiprocessing-backed parallel loops cannot be nested, setting n_jobs=1\n",
      "  **self._backend_args)\n"
     ]
    },
    {
     "name": "stdout",
     "output_type": "stream",
     "text": [
      "[CV]  estimator__n_estimators=20, estimator__max_depth=32, estimator__min_samples_split=2, estimator__min_samples_leaf=4 -  32.6s\n",
      "[CV] estimator__n_estimators=40, estimator__max_depth=32, estimator__min_samples_split=2, estimator__min_samples_leaf=4 \n"
     ]
    },
    {
     "name": "stderr",
     "output_type": "stream",
     "text": [
      "/Users/rob/anaconda/lib/python3.5/site-packages/sklearn/externals/joblib/parallel.py:540: UserWarning: Multiprocessing-backed parallel loops cannot be nested, setting n_jobs=1\n",
      "  **self._backend_args)\n"
     ]
    },
    {
     "name": "stdout",
     "output_type": "stream",
     "text": [
      "[CV]  estimator__n_estimators=30, estimator__max_depth=32, estimator__min_samples_split=2, estimator__min_samples_leaf=4 -  47.3s\n",
      "[CV] estimator__n_estimators=40, estimator__max_depth=32, estimator__min_samples_split=2, estimator__min_samples_leaf=4 \n"
     ]
    },
    {
     "name": "stderr",
     "output_type": "stream",
     "text": [
      "/Users/rob/anaconda/lib/python3.5/site-packages/sklearn/externals/joblib/parallel.py:540: UserWarning: Multiprocessing-backed parallel loops cannot be nested, setting n_jobs=1\n",
      "  **self._backend_args)\n"
     ]
    },
    {
     "name": "stdout",
     "output_type": "stream",
     "text": [
      "[CV]  estimator__n_estimators=30, estimator__max_depth=32, estimator__min_samples_split=2, estimator__min_samples_leaf=4 -  48.8s\n",
      "[CV] estimator__n_estimators=40, estimator__max_depth=32, estimator__min_samples_split=2, estimator__min_samples_leaf=4 \n"
     ]
    },
    {
     "name": "stderr",
     "output_type": "stream",
     "text": [
      "/Users/rob/anaconda/lib/python3.5/site-packages/sklearn/externals/joblib/parallel.py:540: UserWarning: Multiprocessing-backed parallel loops cannot be nested, setting n_jobs=1\n",
      "  **self._backend_args)\n"
     ]
    },
    {
     "name": "stdout",
     "output_type": "stream",
     "text": [
      "[CV]  estimator__n_estimators=30, estimator__max_depth=32, estimator__min_samples_split=2, estimator__min_samples_leaf=4 -  48.9s\n",
      "[CV] estimator__n_estimators=50, estimator__max_depth=32, estimator__min_samples_split=2, estimator__min_samples_leaf=4 \n"
     ]
    },
    {
     "name": "stderr",
     "output_type": "stream",
     "text": [
      "/Users/rob/anaconda/lib/python3.5/site-packages/sklearn/externals/joblib/parallel.py:540: UserWarning: Multiprocessing-backed parallel loops cannot be nested, setting n_jobs=1\n",
      "  **self._backend_args)\n"
     ]
    },
    {
     "name": "stdout",
     "output_type": "stream",
     "text": [
      "[CV]  estimator__n_estimators=30, estimator__max_depth=32, estimator__min_samples_split=2, estimator__min_samples_leaf=4 -  49.1s\n",
      "[CV] estimator__n_estimators=50, estimator__max_depth=32, estimator__min_samples_split=2, estimator__min_samples_leaf=4 \n"
     ]
    },
    {
     "name": "stderr",
     "output_type": "stream",
     "text": [
      "/Users/rob/anaconda/lib/python3.5/site-packages/sklearn/externals/joblib/parallel.py:540: UserWarning: Multiprocessing-backed parallel loops cannot be nested, setting n_jobs=1\n",
      "  **self._backend_args)\n"
     ]
    },
    {
     "name": "stdout",
     "output_type": "stream",
     "text": [
      "[CV]  estimator__n_estimators=30, estimator__max_depth=32, estimator__min_samples_split=2, estimator__min_samples_leaf=4 -  49.5s\n",
      "[CV] estimator__n_estimators=50, estimator__max_depth=32, estimator__min_samples_split=2, estimator__min_samples_leaf=4 \n"
     ]
    },
    {
     "name": "stderr",
     "output_type": "stream",
     "text": [
      "/Users/rob/anaconda/lib/python3.5/site-packages/sklearn/externals/joblib/parallel.py:540: UserWarning: Multiprocessing-backed parallel loops cannot be nested, setting n_jobs=1\n",
      "  **self._backend_args)\n"
     ]
    },
    {
     "name": "stdout",
     "output_type": "stream",
     "text": [
      "[CV]  estimator__n_estimators=40, estimator__max_depth=32, estimator__min_samples_split=2, estimator__min_samples_leaf=4 - 1.1min\n",
      "[CV] estimator__n_estimators=50, estimator__max_depth=32, estimator__min_samples_split=2, estimator__min_samples_leaf=4 \n"
     ]
    },
    {
     "name": "stderr",
     "output_type": "stream",
     "text": [
      "/Users/rob/anaconda/lib/python3.5/site-packages/sklearn/externals/joblib/parallel.py:540: UserWarning: Multiprocessing-backed parallel loops cannot be nested, setting n_jobs=1\n",
      "  **self._backend_args)\n"
     ]
    },
    {
     "name": "stdout",
     "output_type": "stream",
     "text": [
      "[CV]  estimator__n_estimators=40, estimator__max_depth=32, estimator__min_samples_split=2, estimator__min_samples_leaf=4 - 1.1min\n",
      "[CV] estimator__n_estimators=50, estimator__max_depth=32, estimator__min_samples_split=2, estimator__min_samples_leaf=4 \n",
      "[CV]  estimator__n_estimators=40, estimator__max_depth=32, estimator__min_samples_split=2, estimator__min_samples_leaf=4 - 1.1min\n"
     ]
    },
    {
     "name": "stderr",
     "output_type": "stream",
     "text": [
      "/Users/rob/anaconda/lib/python3.5/site-packages/sklearn/externals/joblib/parallel.py:540: UserWarning: Multiprocessing-backed parallel loops cannot be nested, setting n_jobs=1\n",
      "  **self._backend_args)\n"
     ]
    },
    {
     "name": "stdout",
     "output_type": "stream",
     "text": [
      "[CV] estimator__n_estimators=10, estimator__max_depth=32, estimator__min_samples_split=4, estimator__min_samples_leaf=4 \n"
     ]
    },
    {
     "name": "stderr",
     "output_type": "stream",
     "text": [
      "/Users/rob/anaconda/lib/python3.5/site-packages/sklearn/externals/joblib/parallel.py:540: UserWarning: Multiprocessing-backed parallel loops cannot be nested, setting n_jobs=1\n",
      "  **self._backend_args)\n"
     ]
    },
    {
     "name": "stdout",
     "output_type": "stream",
     "text": [
      "[CV]  estimator__n_estimators=10, estimator__max_depth=32, estimator__min_samples_split=4, estimator__min_samples_leaf=4 -  18.1s\n",
      "[CV] estimator__n_estimators=10, estimator__max_depth=32, estimator__min_samples_split=4, estimator__min_samples_leaf=4 \n"
     ]
    },
    {
     "name": "stderr",
     "output_type": "stream",
     "text": [
      "/Users/rob/anaconda/lib/python3.5/site-packages/sklearn/externals/joblib/parallel.py:540: UserWarning: Multiprocessing-backed parallel loops cannot be nested, setting n_jobs=1\n",
      "  **self._backend_args)\n"
     ]
    },
    {
     "name": "stdout",
     "output_type": "stream",
     "text": [
      "[CV]  estimator__n_estimators=40, estimator__max_depth=32, estimator__min_samples_split=2, estimator__min_samples_leaf=4 - 1.1min\n",
      "[CV] estimator__n_estimators=10, estimator__max_depth=32, estimator__min_samples_split=4, estimator__min_samples_leaf=4 \n"
     ]
    },
    {
     "name": "stderr",
     "output_type": "stream",
     "text": [
      "/Users/rob/anaconda/lib/python3.5/site-packages/sklearn/externals/joblib/parallel.py:540: UserWarning: Multiprocessing-backed parallel loops cannot be nested, setting n_jobs=1\n",
      "  **self._backend_args)\n"
     ]
    },
    {
     "name": "stdout",
     "output_type": "stream",
     "text": [
      "[CV]  estimator__n_estimators=40, estimator__max_depth=32, estimator__min_samples_split=2, estimator__min_samples_leaf=4 - 1.1min\n",
      "[CV] estimator__n_estimators=10, estimator__max_depth=32, estimator__min_samples_split=4, estimator__min_samples_leaf=4 \n"
     ]
    },
    {
     "name": "stderr",
     "output_type": "stream",
     "text": [
      "/Users/rob/anaconda/lib/python3.5/site-packages/sklearn/externals/joblib/parallel.py:540: UserWarning: Multiprocessing-backed parallel loops cannot be nested, setting n_jobs=1\n",
      "  **self._backend_args)\n"
     ]
    },
    {
     "name": "stdout",
     "output_type": "stream",
     "text": [
      "[CV]  estimator__n_estimators=10, estimator__max_depth=32, estimator__min_samples_split=4, estimator__min_samples_leaf=4 -  15.4s\n",
      "[CV] estimator__n_estimators=10, estimator__max_depth=32, estimator__min_samples_split=4, estimator__min_samples_leaf=4 \n"
     ]
    },
    {
     "name": "stderr",
     "output_type": "stream",
     "text": [
      "/Users/rob/anaconda/lib/python3.5/site-packages/sklearn/externals/joblib/parallel.py:540: UserWarning: Multiprocessing-backed parallel loops cannot be nested, setting n_jobs=1\n",
      "  **self._backend_args)\n"
     ]
    },
    {
     "name": "stdout",
     "output_type": "stream",
     "text": [
      "[CV]  estimator__n_estimators=10, estimator__max_depth=32, estimator__min_samples_split=4, estimator__min_samples_leaf=4 -  15.7s\n",
      "[CV] estimator__n_estimators=20, estimator__max_depth=32, estimator__min_samples_split=4, estimator__min_samples_leaf=4 \n"
     ]
    },
    {
     "name": "stderr",
     "output_type": "stream",
     "text": [
      "/Users/rob/anaconda/lib/python3.5/site-packages/sklearn/externals/joblib/parallel.py:540: UserWarning: Multiprocessing-backed parallel loops cannot be nested, setting n_jobs=1\n",
      "  **self._backend_args)\n"
     ]
    },
    {
     "name": "stdout",
     "output_type": "stream",
     "text": [
      "[CV]  estimator__n_estimators=10, estimator__max_depth=32, estimator__min_samples_split=4, estimator__min_samples_leaf=4 -  15.5s\n",
      "[CV] estimator__n_estimators=20, estimator__max_depth=32, estimator__min_samples_split=4, estimator__min_samples_leaf=4 \n"
     ]
    },
    {
     "name": "stderr",
     "output_type": "stream",
     "text": [
      "/Users/rob/anaconda/lib/python3.5/site-packages/sklearn/externals/joblib/parallel.py:540: UserWarning: Multiprocessing-backed parallel loops cannot be nested, setting n_jobs=1\n",
      "  **self._backend_args)\n"
     ]
    },
    {
     "name": "stdout",
     "output_type": "stream",
     "text": [
      "[CV]  estimator__n_estimators=10, estimator__max_depth=32, estimator__min_samples_split=4, estimator__min_samples_leaf=4 -  15.4s\n",
      "[CV] estimator__n_estimators=20, estimator__max_depth=32, estimator__min_samples_split=4, estimator__min_samples_leaf=4 \n"
     ]
    },
    {
     "name": "stderr",
     "output_type": "stream",
     "text": [
      "/Users/rob/anaconda/lib/python3.5/site-packages/sklearn/externals/joblib/parallel.py:540: UserWarning: Multiprocessing-backed parallel loops cannot be nested, setting n_jobs=1\n",
      "  **self._backend_args)\n"
     ]
    },
    {
     "name": "stdout",
     "output_type": "stream",
     "text": [
      "[CV]  estimator__n_estimators=50, estimator__max_depth=32, estimator__min_samples_split=2, estimator__min_samples_leaf=4 - 1.4min\n",
      "[CV] estimator__n_estimators=20, estimator__max_depth=32, estimator__min_samples_split=4, estimator__min_samples_leaf=4 \n"
     ]
    },
    {
     "name": "stderr",
     "output_type": "stream",
     "text": [
      "/Users/rob/anaconda/lib/python3.5/site-packages/sklearn/externals/joblib/parallel.py:540: UserWarning: Multiprocessing-backed parallel loops cannot be nested, setting n_jobs=1\n",
      "  **self._backend_args)\n"
     ]
    },
    {
     "name": "stdout",
     "output_type": "stream",
     "text": [
      "[CV]  estimator__n_estimators=50, estimator__max_depth=32, estimator__min_samples_split=2, estimator__min_samples_leaf=4 - 1.4min\n",
      "[CV] estimator__n_estimators=20, estimator__max_depth=32, estimator__min_samples_split=4, estimator__min_samples_leaf=4 \n"
     ]
    },
    {
     "name": "stderr",
     "output_type": "stream",
     "text": [
      "/Users/rob/anaconda/lib/python3.5/site-packages/sklearn/externals/joblib/parallel.py:540: UserWarning: Multiprocessing-backed parallel loops cannot be nested, setting n_jobs=1\n",
      "  **self._backend_args)\n"
     ]
    },
    {
     "name": "stdout",
     "output_type": "stream",
     "text": [
      "[CV]  estimator__n_estimators=50, estimator__max_depth=32, estimator__min_samples_split=2, estimator__min_samples_leaf=4 - 1.4min\n",
      "[CV] estimator__n_estimators=30, estimator__max_depth=32, estimator__min_samples_split=4, estimator__min_samples_leaf=4 \n"
     ]
    },
    {
     "name": "stderr",
     "output_type": "stream",
     "text": [
      "/Users/rob/anaconda/lib/python3.5/site-packages/sklearn/externals/joblib/parallel.py:540: UserWarning: Multiprocessing-backed parallel loops cannot be nested, setting n_jobs=1\n",
      "  **self._backend_args)\n"
     ]
    },
    {
     "name": "stdout",
     "output_type": "stream",
     "text": [
      "[CV]  estimator__n_estimators=20, estimator__max_depth=32, estimator__min_samples_split=4, estimator__min_samples_leaf=4 -  30.1s\n",
      "[CV] estimator__n_estimators=30, estimator__max_depth=32, estimator__min_samples_split=4, estimator__min_samples_leaf=4 \n"
     ]
    },
    {
     "name": "stderr",
     "output_type": "stream",
     "text": [
      "/Users/rob/anaconda/lib/python3.5/site-packages/sklearn/externals/joblib/parallel.py:540: UserWarning: Multiprocessing-backed parallel loops cannot be nested, setting n_jobs=1\n",
      "  **self._backend_args)\n"
     ]
    },
    {
     "name": "stdout",
     "output_type": "stream",
     "text": [
      "[CV]  estimator__n_estimators=20, estimator__max_depth=32, estimator__min_samples_split=4, estimator__min_samples_leaf=4 -  31.1s\n",
      "[CV] estimator__n_estimators=30, estimator__max_depth=32, estimator__min_samples_split=4, estimator__min_samples_leaf=4 \n"
     ]
    },
    {
     "name": "stderr",
     "output_type": "stream",
     "text": [
      "/Users/rob/anaconda/lib/python3.5/site-packages/sklearn/externals/joblib/parallel.py:540: UserWarning: Multiprocessing-backed parallel loops cannot be nested, setting n_jobs=1\n",
      "  **self._backend_args)\n"
     ]
    },
    {
     "name": "stdout",
     "output_type": "stream",
     "text": [
      "[CV]  estimator__n_estimators=50, estimator__max_depth=32, estimator__min_samples_split=2, estimator__min_samples_leaf=4 - 1.3min\n",
      "[CV] estimator__n_estimators=30, estimator__max_depth=32, estimator__min_samples_split=4, estimator__min_samples_leaf=4 \n"
     ]
    },
    {
     "name": "stderr",
     "output_type": "stream",
     "text": [
      "/Users/rob/anaconda/lib/python3.5/site-packages/sklearn/externals/joblib/parallel.py:540: UserWarning: Multiprocessing-backed parallel loops cannot be nested, setting n_jobs=1\n",
      "  **self._backend_args)\n"
     ]
    },
    {
     "name": "stdout",
     "output_type": "stream",
     "text": [
      "[CV]  estimator__n_estimators=50, estimator__max_depth=32, estimator__min_samples_split=2, estimator__min_samples_leaf=4 - 1.3min\n",
      "[CV] estimator__n_estimators=30, estimator__max_depth=32, estimator__min_samples_split=4, estimator__min_samples_leaf=4 \n"
     ]
    },
    {
     "name": "stderr",
     "output_type": "stream",
     "text": [
      "/Users/rob/anaconda/lib/python3.5/site-packages/sklearn/externals/joblib/parallel.py:540: UserWarning: Multiprocessing-backed parallel loops cannot be nested, setting n_jobs=1\n",
      "  **self._backend_args)\n"
     ]
    },
    {
     "name": "stdout",
     "output_type": "stream",
     "text": [
      "[CV]  estimator__n_estimators=20, estimator__max_depth=32, estimator__min_samples_split=4, estimator__min_samples_leaf=4 -  30.9s\n",
      "[CV] estimator__n_estimators=40, estimator__max_depth=32, estimator__min_samples_split=4, estimator__min_samples_leaf=4 \n"
     ]
    },
    {
     "name": "stderr",
     "output_type": "stream",
     "text": [
      "/Users/rob/anaconda/lib/python3.5/site-packages/sklearn/externals/joblib/parallel.py:540: UserWarning: Multiprocessing-backed parallel loops cannot be nested, setting n_jobs=1\n",
      "  **self._backend_args)\n"
     ]
    },
    {
     "name": "stdout",
     "output_type": "stream",
     "text": [
      "[CV]  estimator__n_estimators=20, estimator__max_depth=32, estimator__min_samples_split=4, estimator__min_samples_leaf=4 -  30.6s\n",
      "[CV] estimator__n_estimators=40, estimator__max_depth=32, estimator__min_samples_split=4, estimator__min_samples_leaf=4 \n"
     ]
    },
    {
     "name": "stderr",
     "output_type": "stream",
     "text": [
      "/Users/rob/anaconda/lib/python3.5/site-packages/sklearn/externals/joblib/parallel.py:540: UserWarning: Multiprocessing-backed parallel loops cannot be nested, setting n_jobs=1\n",
      "  **self._backend_args)\n"
     ]
    },
    {
     "name": "stdout",
     "output_type": "stream",
     "text": [
      "[CV]  estimator__n_estimators=20, estimator__max_depth=32, estimator__min_samples_split=4, estimator__min_samples_leaf=4 -  30.4s\n",
      "[CV] estimator__n_estimators=40, estimator__max_depth=32, estimator__min_samples_split=4, estimator__min_samples_leaf=4 \n"
     ]
    },
    {
     "name": "stderr",
     "output_type": "stream",
     "text": [
      "/Users/rob/anaconda/lib/python3.5/site-packages/sklearn/externals/joblib/parallel.py:540: UserWarning: Multiprocessing-backed parallel loops cannot be nested, setting n_jobs=1\n",
      "  **self._backend_args)\n"
     ]
    },
    {
     "name": "stdout",
     "output_type": "stream",
     "text": [
      "[CV]  estimator__n_estimators=30, estimator__max_depth=32, estimator__min_samples_split=4, estimator__min_samples_leaf=4 -  46.0s\n",
      "[CV] estimator__n_estimators=40, estimator__max_depth=32, estimator__min_samples_split=4, estimator__min_samples_leaf=4 \n"
     ]
    },
    {
     "name": "stderr",
     "output_type": "stream",
     "text": [
      "/Users/rob/anaconda/lib/python3.5/site-packages/sklearn/externals/joblib/parallel.py:540: UserWarning: Multiprocessing-backed parallel loops cannot be nested, setting n_jobs=1\n",
      "  **self._backend_args)\n"
     ]
    },
    {
     "name": "stdout",
     "output_type": "stream",
     "text": [
      "[CV]  estimator__n_estimators=30, estimator__max_depth=32, estimator__min_samples_split=4, estimator__min_samples_leaf=4 -  45.8s\n",
      "[CV] estimator__n_estimators=40, estimator__max_depth=32, estimator__min_samples_split=4, estimator__min_samples_leaf=4 \n"
     ]
    },
    {
     "name": "stderr",
     "output_type": "stream",
     "text": [
      "/Users/rob/anaconda/lib/python3.5/site-packages/sklearn/externals/joblib/parallel.py:540: UserWarning: Multiprocessing-backed parallel loops cannot be nested, setting n_jobs=1\n",
      "  **self._backend_args)\n"
     ]
    },
    {
     "name": "stdout",
     "output_type": "stream",
     "text": [
      "[CV]  estimator__n_estimators=30, estimator__max_depth=32, estimator__min_samples_split=4, estimator__min_samples_leaf=4 -  46.3s\n",
      "[CV] estimator__n_estimators=50, estimator__max_depth=32, estimator__min_samples_split=4, estimator__min_samples_leaf=4 \n"
     ]
    },
    {
     "name": "stderr",
     "output_type": "stream",
     "text": [
      "/Users/rob/anaconda/lib/python3.5/site-packages/sklearn/externals/joblib/parallel.py:540: UserWarning: Multiprocessing-backed parallel loops cannot be nested, setting n_jobs=1\n",
      "  **self._backend_args)\n"
     ]
    },
    {
     "name": "stdout",
     "output_type": "stream",
     "text": [
      "[CV]  estimator__n_estimators=30, estimator__max_depth=32, estimator__min_samples_split=4, estimator__min_samples_leaf=4 -  46.1s\n",
      "[CV] estimator__n_estimators=50, estimator__max_depth=32, estimator__min_samples_split=4, estimator__min_samples_leaf=4 \n"
     ]
    },
    {
     "name": "stderr",
     "output_type": "stream",
     "text": [
      "/Users/rob/anaconda/lib/python3.5/site-packages/sklearn/externals/joblib/parallel.py:540: UserWarning: Multiprocessing-backed parallel loops cannot be nested, setting n_jobs=1\n",
      "  **self._backend_args)\n"
     ]
    },
    {
     "name": "stdout",
     "output_type": "stream",
     "text": [
      "[CV]  estimator__n_estimators=30, estimator__max_depth=32, estimator__min_samples_split=4, estimator__min_samples_leaf=4 -  46.7s\n",
      "[CV] estimator__n_estimators=50, estimator__max_depth=32, estimator__min_samples_split=4, estimator__min_samples_leaf=4 \n"
     ]
    },
    {
     "name": "stderr",
     "output_type": "stream",
     "text": [
      "/Users/rob/anaconda/lib/python3.5/site-packages/sklearn/externals/joblib/parallel.py:540: UserWarning: Multiprocessing-backed parallel loops cannot be nested, setting n_jobs=1\n",
      "  **self._backend_args)\n"
     ]
    },
    {
     "name": "stdout",
     "output_type": "stream",
     "text": [
      "[CV]  estimator__n_estimators=40, estimator__max_depth=32, estimator__min_samples_split=4, estimator__min_samples_leaf=4 - 1.0min\n",
      "[CV] estimator__n_estimators=50, estimator__max_depth=32, estimator__min_samples_split=4, estimator__min_samples_leaf=4 \n"
     ]
    },
    {
     "name": "stderr",
     "output_type": "stream",
     "text": [
      "/Users/rob/anaconda/lib/python3.5/site-packages/sklearn/externals/joblib/parallel.py:540: UserWarning: Multiprocessing-backed parallel loops cannot be nested, setting n_jobs=1\n",
      "  **self._backend_args)\n"
     ]
    },
    {
     "name": "stdout",
     "output_type": "stream",
     "text": [
      "[CV]  estimator__n_estimators=40, estimator__max_depth=32, estimator__min_samples_split=4, estimator__min_samples_leaf=4 - 1.0min\n",
      "[CV] estimator__n_estimators=50, estimator__max_depth=32, estimator__min_samples_split=4, estimator__min_samples_leaf=4 \n"
     ]
    },
    {
     "name": "stderr",
     "output_type": "stream",
     "text": [
      "/Users/rob/anaconda/lib/python3.5/site-packages/sklearn/externals/joblib/parallel.py:540: UserWarning: Multiprocessing-backed parallel loops cannot be nested, setting n_jobs=1\n",
      "  **self._backend_args)\n"
     ]
    },
    {
     "name": "stdout",
     "output_type": "stream",
     "text": [
      "[CV]  estimator__n_estimators=40, estimator__max_depth=32, estimator__min_samples_split=4, estimator__min_samples_leaf=4 - 1.0min\n",
      "[CV] estimator__n_estimators=10, estimator__max_depth=32, estimator__min_samples_split=6, estimator__min_samples_leaf=4 \n"
     ]
    },
    {
     "name": "stderr",
     "output_type": "stream",
     "text": [
      "/Users/rob/anaconda/lib/python3.5/site-packages/sklearn/externals/joblib/parallel.py:540: UserWarning: Multiprocessing-backed parallel loops cannot be nested, setting n_jobs=1\n",
      "  **self._backend_args)\n"
     ]
    },
    {
     "name": "stdout",
     "output_type": "stream",
     "text": [
      "[CV]  estimator__n_estimators=40, estimator__max_depth=32, estimator__min_samples_split=4, estimator__min_samples_leaf=4 - 1.0min\n",
      "[CV] estimator__n_estimators=10, estimator__max_depth=32, estimator__min_samples_split=6, estimator__min_samples_leaf=4 \n"
     ]
    },
    {
     "name": "stderr",
     "output_type": "stream",
     "text": [
      "/Users/rob/anaconda/lib/python3.5/site-packages/sklearn/externals/joblib/parallel.py:540: UserWarning: Multiprocessing-backed parallel loops cannot be nested, setting n_jobs=1\n",
      "  **self._backend_args)\n"
     ]
    },
    {
     "name": "stdout",
     "output_type": "stream",
     "text": [
      "[CV]  estimator__n_estimators=10, estimator__max_depth=32, estimator__min_samples_split=6, estimator__min_samples_leaf=4 -  15.4s\n",
      "[CV] estimator__n_estimators=10, estimator__max_depth=32, estimator__min_samples_split=6, estimator__min_samples_leaf=4 \n"
     ]
    },
    {
     "name": "stderr",
     "output_type": "stream",
     "text": [
      "/Users/rob/anaconda/lib/python3.5/site-packages/sklearn/externals/joblib/parallel.py:540: UserWarning: Multiprocessing-backed parallel loops cannot be nested, setting n_jobs=1\n",
      "  **self._backend_args)\n"
     ]
    },
    {
     "name": "stdout",
     "output_type": "stream",
     "text": [
      "[CV]  estimator__n_estimators=40, estimator__max_depth=32, estimator__min_samples_split=4, estimator__min_samples_leaf=4 - 1.0min\n",
      "[CV] estimator__n_estimators=10, estimator__max_depth=32, estimator__min_samples_split=6, estimator__min_samples_leaf=4 \n"
     ]
    },
    {
     "name": "stderr",
     "output_type": "stream",
     "text": [
      "/Users/rob/anaconda/lib/python3.5/site-packages/sklearn/externals/joblib/parallel.py:540: UserWarning: Multiprocessing-backed parallel loops cannot be nested, setting n_jobs=1\n",
      "  **self._backend_args)\n"
     ]
    },
    {
     "name": "stdout",
     "output_type": "stream",
     "text": [
      "[CV]  estimator__n_estimators=10, estimator__max_depth=32, estimator__min_samples_split=6, estimator__min_samples_leaf=4 -  16.5s\n",
      "[CV] estimator__n_estimators=10, estimator__max_depth=32, estimator__min_samples_split=6, estimator__min_samples_leaf=4 \n"
     ]
    },
    {
     "name": "stderr",
     "output_type": "stream",
     "text": [
      "/Users/rob/anaconda/lib/python3.5/site-packages/sklearn/externals/joblib/parallel.py:540: UserWarning: Multiprocessing-backed parallel loops cannot be nested, setting n_jobs=1\n",
      "  **self._backend_args)\n"
     ]
    },
    {
     "name": "stdout",
     "output_type": "stream",
     "text": [
      "[CV]  estimator__n_estimators=10, estimator__max_depth=32, estimator__min_samples_split=6, estimator__min_samples_leaf=4 -  16.7s\n",
      "[CV] estimator__n_estimators=20, estimator__max_depth=32, estimator__min_samples_split=6, estimator__min_samples_leaf=4 \n"
     ]
    },
    {
     "name": "stderr",
     "output_type": "stream",
     "text": [
      "/Users/rob/anaconda/lib/python3.5/site-packages/sklearn/externals/joblib/parallel.py:540: UserWarning: Multiprocessing-backed parallel loops cannot be nested, setting n_jobs=1\n",
      "  **self._backend_args)\n"
     ]
    },
    {
     "name": "stdout",
     "output_type": "stream",
     "text": [
      "[CV]  estimator__n_estimators=10, estimator__max_depth=32, estimator__min_samples_split=6, estimator__min_samples_leaf=4 -  15.6s\n",
      "[CV] estimator__n_estimators=20, estimator__max_depth=32, estimator__min_samples_split=6, estimator__min_samples_leaf=4 \n"
     ]
    },
    {
     "name": "stderr",
     "output_type": "stream",
     "text": [
      "/Users/rob/anaconda/lib/python3.5/site-packages/sklearn/externals/joblib/parallel.py:540: UserWarning: Multiprocessing-backed parallel loops cannot be nested, setting n_jobs=1\n",
      "  **self._backend_args)\n"
     ]
    },
    {
     "name": "stdout",
     "output_type": "stream",
     "text": [
      "[CV]  estimator__n_estimators=10, estimator__max_depth=32, estimator__min_samples_split=6, estimator__min_samples_leaf=4 -  15.5s\n",
      "[CV] estimator__n_estimators=20, estimator__max_depth=32, estimator__min_samples_split=6, estimator__min_samples_leaf=4 \n"
     ]
    },
    {
     "name": "stderr",
     "output_type": "stream",
     "text": [
      "/Users/rob/anaconda/lib/python3.5/site-packages/sklearn/externals/joblib/parallel.py:540: UserWarning: Multiprocessing-backed parallel loops cannot be nested, setting n_jobs=1\n",
      "  **self._backend_args)\n"
     ]
    },
    {
     "name": "stdout",
     "output_type": "stream",
     "text": [
      "[CV]  estimator__n_estimators=50, estimator__max_depth=32, estimator__min_samples_split=4, estimator__min_samples_leaf=4 - 1.3min\n",
      "[CV] estimator__n_estimators=20, estimator__max_depth=32, estimator__min_samples_split=6, estimator__min_samples_leaf=4 \n"
     ]
    },
    {
     "name": "stderr",
     "output_type": "stream",
     "text": [
      "/Users/rob/anaconda/lib/python3.5/site-packages/sklearn/externals/joblib/parallel.py:540: UserWarning: Multiprocessing-backed parallel loops cannot be nested, setting n_jobs=1\n",
      "  **self._backend_args)\n"
     ]
    },
    {
     "name": "stdout",
     "output_type": "stream",
     "text": [
      "[CV]  estimator__n_estimators=50, estimator__max_depth=32, estimator__min_samples_split=4, estimator__min_samples_leaf=4 - 1.3min\n",
      "[CV] estimator__n_estimators=20, estimator__max_depth=32, estimator__min_samples_split=6, estimator__min_samples_leaf=4 \n"
     ]
    },
    {
     "name": "stderr",
     "output_type": "stream",
     "text": [
      "/Users/rob/anaconda/lib/python3.5/site-packages/sklearn/externals/joblib/parallel.py:540: UserWarning: Multiprocessing-backed parallel loops cannot be nested, setting n_jobs=1\n",
      "  **self._backend_args)\n"
     ]
    },
    {
     "name": "stdout",
     "output_type": "stream",
     "text": [
      "[CV]  estimator__n_estimators=50, estimator__max_depth=32, estimator__min_samples_split=4, estimator__min_samples_leaf=4 - 1.3min\n",
      "[CV] estimator__n_estimators=30, estimator__max_depth=32, estimator__min_samples_split=6, estimator__min_samples_leaf=4 \n"
     ]
    },
    {
     "name": "stderr",
     "output_type": "stream",
     "text": [
      "/Users/rob/anaconda/lib/python3.5/site-packages/sklearn/externals/joblib/parallel.py:540: UserWarning: Multiprocessing-backed parallel loops cannot be nested, setting n_jobs=1\n",
      "  **self._backend_args)\n"
     ]
    },
    {
     "name": "stdout",
     "output_type": "stream",
     "text": [
      "[CV]  estimator__n_estimators=20, estimator__max_depth=32, estimator__min_samples_split=6, estimator__min_samples_leaf=4 -  31.1s\n",
      "[CV] estimator__n_estimators=30, estimator__max_depth=32, estimator__min_samples_split=6, estimator__min_samples_leaf=4 \n"
     ]
    },
    {
     "name": "stderr",
     "output_type": "stream",
     "text": [
      "/Users/rob/anaconda/lib/python3.5/site-packages/sklearn/externals/joblib/parallel.py:540: UserWarning: Multiprocessing-backed parallel loops cannot be nested, setting n_jobs=1\n",
      "  **self._backend_args)\n"
     ]
    },
    {
     "name": "stdout",
     "output_type": "stream",
     "text": [
      "[CV]  estimator__n_estimators=50, estimator__max_depth=32, estimator__min_samples_split=4, estimator__min_samples_leaf=4 - 1.3min\n",
      "[CV] estimator__n_estimators=30, estimator__max_depth=32, estimator__min_samples_split=6, estimator__min_samples_leaf=4 \n"
     ]
    },
    {
     "name": "stderr",
     "output_type": "stream",
     "text": [
      "/Users/rob/anaconda/lib/python3.5/site-packages/sklearn/externals/joblib/parallel.py:540: UserWarning: Multiprocessing-backed parallel loops cannot be nested, setting n_jobs=1\n",
      "  **self._backend_args)\n"
     ]
    },
    {
     "name": "stdout",
     "output_type": "stream",
     "text": [
      "[CV]  estimator__n_estimators=20, estimator__max_depth=32, estimator__min_samples_split=6, estimator__min_samples_leaf=4 -  30.9s\n",
      "[CV] estimator__n_estimators=30, estimator__max_depth=32, estimator__min_samples_split=6, estimator__min_samples_leaf=4 \n"
     ]
    },
    {
     "name": "stderr",
     "output_type": "stream",
     "text": [
      "/Users/rob/anaconda/lib/python3.5/site-packages/sklearn/externals/joblib/parallel.py:540: UserWarning: Multiprocessing-backed parallel loops cannot be nested, setting n_jobs=1\n",
      "  **self._backend_args)\n"
     ]
    },
    {
     "name": "stdout",
     "output_type": "stream",
     "text": [
      "[CV]  estimator__n_estimators=50, estimator__max_depth=32, estimator__min_samples_split=4, estimator__min_samples_leaf=4 - 1.3min\n",
      "[CV] estimator__n_estimators=30, estimator__max_depth=32, estimator__min_samples_split=6, estimator__min_samples_leaf=4 \n"
     ]
    },
    {
     "name": "stderr",
     "output_type": "stream",
     "text": [
      "/Users/rob/anaconda/lib/python3.5/site-packages/sklearn/externals/joblib/parallel.py:540: UserWarning: Multiprocessing-backed parallel loops cannot be nested, setting n_jobs=1\n",
      "  **self._backend_args)\n"
     ]
    },
    {
     "name": "stdout",
     "output_type": "stream",
     "text": [
      "[CV]  estimator__n_estimators=20, estimator__max_depth=32, estimator__min_samples_split=6, estimator__min_samples_leaf=4 -  31.1s\n",
      "[CV] estimator__n_estimators=40, estimator__max_depth=32, estimator__min_samples_split=6, estimator__min_samples_leaf=4 \n"
     ]
    },
    {
     "name": "stderr",
     "output_type": "stream",
     "text": [
      "/Users/rob/anaconda/lib/python3.5/site-packages/sklearn/externals/joblib/parallel.py:540: UserWarning: Multiprocessing-backed parallel loops cannot be nested, setting n_jobs=1\n",
      "  **self._backend_args)\n"
     ]
    },
    {
     "name": "stdout",
     "output_type": "stream",
     "text": [
      "[CV]  estimator__n_estimators=20, estimator__max_depth=32, estimator__min_samples_split=6, estimator__min_samples_leaf=4 -  31.0s\n",
      "[CV] estimator__n_estimators=40, estimator__max_depth=32, estimator__min_samples_split=6, estimator__min_samples_leaf=4 \n"
     ]
    },
    {
     "name": "stderr",
     "output_type": "stream",
     "text": [
      "/Users/rob/anaconda/lib/python3.5/site-packages/sklearn/externals/joblib/parallel.py:540: UserWarning: Multiprocessing-backed parallel loops cannot be nested, setting n_jobs=1\n",
      "  **self._backend_args)\n"
     ]
    },
    {
     "name": "stdout",
     "output_type": "stream",
     "text": [
      "[CV]  estimator__n_estimators=20, estimator__max_depth=32, estimator__min_samples_split=6, estimator__min_samples_leaf=4 -  30.8s\n",
      "[CV] estimator__n_estimators=40, estimator__max_depth=32, estimator__min_samples_split=6, estimator__min_samples_leaf=4 \n"
     ]
    },
    {
     "name": "stderr",
     "output_type": "stream",
     "text": [
      "/Users/rob/anaconda/lib/python3.5/site-packages/sklearn/externals/joblib/parallel.py:540: UserWarning: Multiprocessing-backed parallel loops cannot be nested, setting n_jobs=1\n",
      "  **self._backend_args)\n"
     ]
    },
    {
     "name": "stdout",
     "output_type": "stream",
     "text": [
      "[CV]  estimator__n_estimators=30, estimator__max_depth=32, estimator__min_samples_split=6, estimator__min_samples_leaf=4 -  46.1s\n",
      "[CV] estimator__n_estimators=40, estimator__max_depth=32, estimator__min_samples_split=6, estimator__min_samples_leaf=4 \n"
     ]
    },
    {
     "name": "stderr",
     "output_type": "stream",
     "text": [
      "/Users/rob/anaconda/lib/python3.5/site-packages/sklearn/externals/joblib/parallel.py:540: UserWarning: Multiprocessing-backed parallel loops cannot be nested, setting n_jobs=1\n",
      "  **self._backend_args)\n"
     ]
    },
    {
     "name": "stdout",
     "output_type": "stream",
     "text": [
      "[CV]  estimator__n_estimators=30, estimator__max_depth=32, estimator__min_samples_split=6, estimator__min_samples_leaf=4 -  46.4s\n",
      "[CV] estimator__n_estimators=40, estimator__max_depth=32, estimator__min_samples_split=6, estimator__min_samples_leaf=4 \n"
     ]
    },
    {
     "name": "stderr",
     "output_type": "stream",
     "text": [
      "/Users/rob/anaconda/lib/python3.5/site-packages/sklearn/externals/joblib/parallel.py:540: UserWarning: Multiprocessing-backed parallel loops cannot be nested, setting n_jobs=1\n",
      "  **self._backend_args)\n"
     ]
    },
    {
     "name": "stdout",
     "output_type": "stream",
     "text": [
      "[CV]  estimator__n_estimators=30, estimator__max_depth=32, estimator__min_samples_split=6, estimator__min_samples_leaf=4 -  46.7s\n",
      "[CV] estimator__n_estimators=50, estimator__max_depth=32, estimator__min_samples_split=6, estimator__min_samples_leaf=4 \n"
     ]
    },
    {
     "name": "stderr",
     "output_type": "stream",
     "text": [
      "/Users/rob/anaconda/lib/python3.5/site-packages/sklearn/externals/joblib/parallel.py:540: UserWarning: Multiprocessing-backed parallel loops cannot be nested, setting n_jobs=1\n",
      "  **self._backend_args)\n"
     ]
    },
    {
     "name": "stdout",
     "output_type": "stream",
     "text": [
      "[CV]  estimator__n_estimators=30, estimator__max_depth=32, estimator__min_samples_split=6, estimator__min_samples_leaf=4 -  46.3s\n",
      "[CV] estimator__n_estimators=50, estimator__max_depth=32, estimator__min_samples_split=6, estimator__min_samples_leaf=4 \n"
     ]
    },
    {
     "name": "stderr",
     "output_type": "stream",
     "text": [
      "/Users/rob/anaconda/lib/python3.5/site-packages/sklearn/externals/joblib/parallel.py:540: UserWarning: Multiprocessing-backed parallel loops cannot be nested, setting n_jobs=1\n",
      "  **self._backend_args)\n"
     ]
    },
    {
     "name": "stdout",
     "output_type": "stream",
     "text": [
      "[CV]  estimator__n_estimators=30, estimator__max_depth=32, estimator__min_samples_split=6, estimator__min_samples_leaf=4 -  46.2s\n",
      "[CV] estimator__n_estimators=50, estimator__max_depth=32, estimator__min_samples_split=6, estimator__min_samples_leaf=4 \n"
     ]
    },
    {
     "name": "stderr",
     "output_type": "stream",
     "text": [
      "/Users/rob/anaconda/lib/python3.5/site-packages/sklearn/externals/joblib/parallel.py:540: UserWarning: Multiprocessing-backed parallel loops cannot be nested, setting n_jobs=1\n",
      "  **self._backend_args)\n"
     ]
    },
    {
     "name": "stdout",
     "output_type": "stream",
     "text": [
      "[CV]  estimator__n_estimators=40, estimator__max_depth=32, estimator__min_samples_split=6, estimator__min_samples_leaf=4 - 1.0min\n",
      "[CV] estimator__n_estimators=50, estimator__max_depth=32, estimator__min_samples_split=6, estimator__min_samples_leaf=4 \n"
     ]
    },
    {
     "name": "stderr",
     "output_type": "stream",
     "text": [
      "/Users/rob/anaconda/lib/python3.5/site-packages/sklearn/externals/joblib/parallel.py:540: UserWarning: Multiprocessing-backed parallel loops cannot be nested, setting n_jobs=1\n",
      "  **self._backend_args)\n"
     ]
    },
    {
     "name": "stdout",
     "output_type": "stream",
     "text": [
      "[CV]  estimator__n_estimators=40, estimator__max_depth=32, estimator__min_samples_split=6, estimator__min_samples_leaf=4 - 1.0min\n",
      "[CV] estimator__n_estimators=50, estimator__max_depth=32, estimator__min_samples_split=6, estimator__min_samples_leaf=4 \n"
     ]
    },
    {
     "name": "stderr",
     "output_type": "stream",
     "text": [
      "/Users/rob/anaconda/lib/python3.5/site-packages/sklearn/externals/joblib/parallel.py:540: UserWarning: Multiprocessing-backed parallel loops cannot be nested, setting n_jobs=1\n",
      "  **self._backend_args)\n"
     ]
    },
    {
     "name": "stdout",
     "output_type": "stream",
     "text": [
      "[CV]  estimator__n_estimators=40, estimator__max_depth=32, estimator__min_samples_split=6, estimator__min_samples_leaf=4 - 1.0min\n",
      "[CV]  estimator__n_estimators=40, estimator__max_depth=32, estimator__min_samples_split=6, estimator__min_samples_leaf=4 - 1.0min\n",
      "[CV]  estimator__n_estimators=40, estimator__max_depth=32, estimator__min_samples_split=6, estimator__min_samples_leaf=4 -  58.8s\n",
      "[CV]  estimator__n_estimators=50, estimator__max_depth=32, estimator__min_samples_split=6, estimator__min_samples_leaf=4 - 1.1min\n",
      "[CV]  estimator__n_estimators=50, estimator__max_depth=32, estimator__min_samples_split=6, estimator__min_samples_leaf=4 - 1.1min\n",
      "[CV]  estimator__n_estimators=50, estimator__max_depth=32, estimator__min_samples_split=6, estimator__min_samples_leaf=4 - 1.1min\n",
      "[CV]  estimator__n_estimators=50, estimator__max_depth=32, estimator__min_samples_split=6, estimator__min_samples_leaf=4 -  59.0s\n",
      "[CV]  estimator__n_estimators=50, estimator__max_depth=32, estimator__min_samples_split=6, estimator__min_samples_leaf=4 -  57.6s\n"
     ]
    },
    {
     "name": "stderr",
     "output_type": "stream",
     "text": [
      "[Parallel(n_jobs=8)]: Done 1350 out of 1350 | elapsed: 89.6min finished\n"
     ]
    },
    {
     "name": "stdout",
     "output_type": "stream",
     "text": [
      "Calc ROC\n",
      "Baseline AUC is:  {0: 0.99996212682662722, 1: 0.99993172956870668, 2: 0.99996736488783788, 3: 0.99986086891635195}\n",
      "Tuesday AUC is:  {0: 0.99999891511100747, 1: 1.0, 2: 0.99999372674492126, 3: 1.0}\n"
     ]
    }
   ],
   "source": [
    "# This takes 86 min to run. Set to True if you want to run it, otherwise\n",
    "# the results will be taken from a previous run\n",
    "runLongRunningTest = False\n",
    "\n",
    "def runModelTuesdaySubmission(X,Y):\n",
    "    print('Run model')\n",
    "    \n",
    "    model_to_set = OneVsRestClassifier(RandomForestClassifier())\n",
    "\n",
    "    param_test1 = {'estimator__n_estimators':[10,20,30,40,50], 'estimator__max_depth':[3,6,8,12,24,32], \n",
    "               'estimator__min_samples_split':[2,4,6],'estimator__min_samples_leaf':[1,2,4]}\n",
    "    gsearch1 = GridSearchCV(estimator = model_to_set, \n",
    "                        param_grid = param_test1,n_jobs=8,iid=False, cv=5,verbose=2)\n",
    "    gsearch1.fit(X,Y)\n",
    "\n",
    "    Y_predict = gsearch1.predict_proba(X)\n",
    "    \n",
    "    #clf = OneVsRestClassifier(RandomForestClassifier(n_estimators = 10,random_state=25))\n",
    "    #clf.fit(X,Y)\n",
    "    #Y_predict = clf.predict_proba(X)\n",
    "    \n",
    "    return Y_predict, clf\n",
    "\n",
    "\n",
    "# Read the files in.   \n",
    "(X,Y) = readFiles()\n",
    "\n",
    "\n",
    "# Clean up the data\n",
    "(X,Y) = preprocessData3(X,Y)\n",
    "\n",
    "# Run the model\n",
    "Y_predict, clf = runModelTuesdaySubmission(X,Y)\n",
    "\n",
    "if runLongRunningTest:\n",
    "    tuesdaySubmissionAAUC = calculateROC(Y, Y_predict)\n",
    "    createSubmission(clf)\n",
    "else:\n",
    "    # Reults from previous run:\n",
    "    #  [Parallel(n_jobs=8)]: Done 1350 out of 1350 | elapsed: 89.6min finished\n",
    "    tuesdaySubmissionAAUC =  {0: 0.99999891511100747, 1: 1.0, 2: 0.99999372674492126, 3: 1.0}\n",
    "\n",
    "\n",
    "print('Baseline AUC is: ', baselineAUC)\n",
    "print('Tuesday AUC is: ', tuesdaySubmissionAAUC)\n",
    "\n"
   ]
  },
  {
   "cell_type": "code",
   "execution_count": null,
   "metadata": {
    "collapsed": true
   },
   "outputs": [],
   "source": []
  },
  {
   "cell_type": "markdown",
   "metadata": {},
   "source": [
    "\n",
    "# The Final Solution\n",
    "\n",
    "TBD"
   ]
  },
  {
   "cell_type": "markdown",
   "metadata": {
    "collapsed": true
   },
   "source": [
    "NB: When you run the sample (before upgrading) these are the values it produces: {0: 0.95755745500532141, 1: 0.94345356758244103, 2: 0.95754489510952012, 3: 0.935902875654121}"
   ]
  }
 ],
 "metadata": {
  "anaconda-cloud": {},
  "kernelspec": {
   "display_name": "Python [Root]",
   "language": "python",
   "name": "Python [Root]"
  },
  "language_info": {
   "codemirror_mode": {
    "name": "ipython",
    "version": 3
   },
   "file_extension": ".py",
   "mimetype": "text/x-python",
   "name": "python",
   "nbconvert_exporter": "python",
   "pygments_lexer": "ipython3",
   "version": "3.5.2"
  }
 },
 "nbformat": 4,
 "nbformat_minor": 0
}
