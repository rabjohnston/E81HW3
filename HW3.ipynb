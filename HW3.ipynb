{
 "cells": [
  {
   "cell_type": "markdown",
   "metadata": {
    "collapsed": false
   },
   "source": [
    "# The Journey\n",
    "\n",
    "This section describes the decisions taken to get to our final solution\n",
    " "
   ]
  },
  {
   "cell_type": "markdown",
   "metadata": {},
   "source": [
    "## The Baseline\n",
    "\n",
    "This section is the code we were given"
   ]
  },
  {
   "cell_type": "code",
   "execution_count": 2,
   "metadata": {
    "collapsed": false
   },
   "outputs": [
    {
     "name": "stdout",
     "output_type": "stream",
     "text": [
      "Preprocessing data (1).\n",
      "Run model\n",
      "Calc ROC\n",
      "Baseline AUC is:  {0: 0.99996212682662722, 1: 0.99993172956870668, 2: 0.99996736488783788, 3: 0.99986086891635195}\n"
     ]
    }
   ],
   "source": [
    "# requires sciket-learn 0.18\n",
    "# if required, conda update scikit-learn\n",
    "\n",
    "import pandas as pd\n",
    "import numpy as np\n",
    "from sklearn.ensemble import RandomForestClassifier\n",
    "from sklearn.preprocessing import label_binarize\n",
    "from sklearn.multiclass import OneVsRestClassifier\n",
    "from sklearn.metrics import roc_curve, auc\n",
    "from sklearn.grid_search import GridSearchCV   #Performing grid search\n",
    "\n",
    "\n",
    "def readFiles():\n",
    "    #Reading files\n",
    "    X = pd.read_csv(\"trainingData.txt\",sep='\\t',header=None)\n",
    "    Y = pd.read_csv(\"trainingTruth.txt\",sep='\\t',header=None)\n",
    "    Y = np.array(Y).ravel()\n",
    "    \n",
    "    return (X,Y)\n",
    "\n",
    "\n",
    "def preprocessFeatures1( X ):\n",
    "    print('Preprocessing data (1).')\n",
    "    \n",
    "    # Replace NAs with 0\n",
    "    X = X.fillna(0) \n",
    "    \n",
    "    return X\n",
    "\n",
    "\n",
    "def runModel1(X,Y):\n",
    "    print('Run model')\n",
    "    \n",
    "    clf = OneVsRestClassifier(RandomForestClassifier(n_estimators = 10,random_state=25))\n",
    "    clf.fit(X,Y)\n",
    "    Y_predict = clf.predict_proba(X)\n",
    "    \n",
    "    return Y_predict, clf\n",
    "\n",
    "\n",
    "def calculateROC(Y, Y_predict):\n",
    "    print('Calc ROC')\n",
    "    # Binarize the output\n",
    "    y_bin = label_binarize(Y, classes=[1, 2, 3,4])\n",
    "\n",
    "    #Calculate AUC\n",
    "    fpr = dict()\n",
    "    tpr = dict()\n",
    "    roc_auc = dict()\n",
    "    for i in range(4):\n",
    "        fpr[i], tpr[i], _ = roc_curve(y_bin[:, i], Y_predict[:, i])\n",
    "        roc_auc[i] = auc(fpr[i], tpr[i])\n",
    "\n",
    "    return roc_auc\n",
    "\n",
    "def createSubmission(clf, preprocessData=preprocessFeatures1):\n",
    "    #Create submission\n",
    "    Xtest = pd.read_csv(\"testData.txt\",sep=\"\\t\",header=None)\n",
    "    \n",
    "    (Xtest) = preprocessData(Xtest)\n",
    "    y_final_prob = clf.predict_proba(Xtest)\n",
    "    y_final_label = clf.predict(Xtest)\n",
    "\n",
    "    sample = pd.DataFrame(np.hstack([y_final_prob.round(5),y_final_label.reshape(y_final_prob.shape[0],1)]))\n",
    "    sample.columns = [\"prob1\",\"prob2\",\"prob3\",\"prob4\",\"label\"]\n",
    "    sample.label = sample.label.astype(int)\n",
    "    \n",
    "    #Submit this file to dropbox\n",
    "    sample.to_csv(\"Johnston_Memic.csv\",sep=\"\\t\" ,index=False,header=None)\n",
    "    \n",
    "\n",
    "# Read the files in.   \n",
    "(XOrig,YOrig) = readFiles()\n",
    "\n",
    "\n",
    "# Clean up the data\n",
    "X = preprocessFeatures1(XOrig)\n",
    "Y = YOrig\n",
    "\n",
    "# Run the model\n",
    "Y_predict, clf = runModel1(X,Y)\n",
    "\n",
    "baselineAUC = calculateROC(Y, Y_predict)\n",
    "\n",
    "print('Baseline AUC is: ', baselineAUC)\n",
    "\n",
    "#createSubmission(clf)\n",
    "\n",
    "\n"
   ]
  },
  {
   "cell_type": "markdown",
   "metadata": {},
   "source": [
    "## Pre-processing the data\n",
    "\n"
   ]
  },
  {
   "cell_type": "markdown",
   "metadata": {},
   "source": [
    "### Analysing NAs\n",
    "\n",
    "First we analyse the prevalance on NAs in our features. For each feature, we calculate the frequency of NAs. This will help determine whether we think the feature is worth keeping as too many NAs indicates that the feature is not giving us enough information.\n"
   ]
  },
  {
   "cell_type": "code",
   "execution_count": 3,
   "metadata": {
    "collapsed": false
   },
   "outputs": [
    {
     "ename": "NameError",
     "evalue": "name 'YORig' is not defined",
     "output_type": "error",
     "traceback": [
      "\u001b[0;31m---------------------------------------------------------------------------\u001b[0m",
      "\u001b[0;31mNameError\u001b[0m                                 Traceback (most recent call last)",
      "\u001b[0;32m<ipython-input-3-4b10b5ffac8a>\u001b[0m in \u001b[0;36m<module>\u001b[0;34m()\u001b[0m\n\u001b[1;32m      2\u001b[0m \u001b[0;34m\u001b[0m\u001b[0m\n\u001b[1;32m      3\u001b[0m \u001b[0mX\u001b[0m \u001b[0;34m=\u001b[0m \u001b[0mXOrig\u001b[0m\u001b[0;34m\u001b[0m\u001b[0m\n\u001b[0;32m----> 4\u001b[0;31m \u001b[0mY\u001b[0m \u001b[0;34m=\u001b[0m \u001b[0mYORig\u001b[0m\u001b[0;34m\u001b[0m\u001b[0m\n\u001b[0m\u001b[1;32m      5\u001b[0m \u001b[0;34m\u001b[0m\u001b[0m\n\u001b[1;32m      6\u001b[0m \u001b[0msums\u001b[0m \u001b[0;34m=\u001b[0m \u001b[0;34m{\u001b[0m\u001b[0;34m}\u001b[0m\u001b[0;34m\u001b[0m\u001b[0m\n",
      "\u001b[0;31mNameError\u001b[0m: name 'YORig' is not defined"
     ]
    }
   ],
   "source": [
    "from scipy.stats import itemfreq\n",
    "\n",
    "X = XOrig\n",
    "Y = YORig\n",
    "\n",
    "sums = {}\n",
    "\n",
    "total = X.shape[0]\n",
    "\n",
    "for col in X.columns:\n",
    "    # Count the NAs\n",
    "    sums[col] = total - X[col].count()\n",
    "    \n",
    "# Do something more clever here? Plot a distribution?\n",
    "#print(sums)\n",
    "print('Maximum number of NAs in one column: ', max(sums.values()))\n",
    "print('Minimum number of NAs in one column: ', min(sums.values()))\n",
    "\n",
    "# Check the rows to see if there are any rows with excessive NAs\n",
    "rowSums = X.isnull().sum(axis=1).tolist()\n",
    "print('Maximum number of NAs in one row: ', max(rowSums))\n",
    "print('Minimum number of NAs in one row: ', min(rowSums))\n",
    "\n",
    "X.describe()\n",
    "\n",
    "# Histogram of each variable?"
   ]
  },
  {
   "cell_type": "code",
   "execution_count": null,
   "metadata": {
    "collapsed": false
   },
   "outputs": [],
   "source": [
    "# What's the distribution of outcomes?\n",
    "print('\\nDistribution of truth values.')\n",
    "itemFrequencies = itemfreq(Y)\n",
    "for freq, count in itemFrequencies:\n",
    "    print('Frequencies:  ', freq, ': ', count/total, '%')"
   ]
  },
  {
   "cell_type": "markdown",
   "metadata": {},
   "source": [
    "### NAs Replaced with Mean\n",
    "We first looked at the treatment of nulls. The first step is, instead of replacing NAs with 0, replace them with the mean of the feature."
   ]
  },
  {
   "cell_type": "code",
   "execution_count": null,
   "metadata": {
    "collapsed": false
   },
   "outputs": [],
   "source": [
    "\n",
    "\n",
    "def preprocessFeatures3( X ):\n",
    "    print('Preprocessing data (3).')\n",
    "\n",
    "    # Q: Normalise data for SVMs - what about decision trees?\n",
    "    \n",
    "\n",
    "    #Rewrite this from the HW ipython book\n",
    "    # Replace any NaN in X with the mean of the column\n",
    "    # Replacing with the mean gives a better score\n",
    "    xMean = []\n",
    "    for col in X.columns:\n",
    "        xMean = X[col].mean()\n",
    "        #print(col, ' ', xMean)\n",
    "        X.loc[X[col].isnull(), col] = xMean\n",
    "    \n",
    "    return (X)\n",
    "\n",
    "\n",
    "# Clean up the data\n",
    "X = preprocessFeatures3(XOrig)\n",
    "Y = YOrig\n",
    "\n",
    "# Run the model\n",
    "Y_predict, clf = runModel1(X,Y)\n",
    "\n",
    "meanNAAUC = calculateROC(Y, Y_predict)\n",
    "\n",
    "print('Baseline AUC is: ', baselineAUC)\n",
    "print('Mean NA AUC is: ', meanNAAUC)\n",
    "\n",
    "\n"
   ]
  },
  {
   "cell_type": "markdown",
   "metadata": {},
   "source": [
    "## Feature Selection\n",
    "\n",
    "Run a RFC to see feature importance?\n",
    "Plot histograms of all features?\n",
    "\n",
    "See other notebook."
   ]
  },
  {
   "cell_type": "code",
   "execution_count": null,
   "metadata": {
    "collapsed": true
   },
   "outputs": [],
   "source": [
    "\n",
    "    "
   ]
  },
  {
   "cell_type": "markdown",
   "metadata": {},
   "source": [
    "## First Submission\n",
    "\n",
    "Our first submission on Wednesday was a basic RFC. The intention was to understand the process of sumbitting a file for the homework and to see just how bad a classifier this was!"
   ]
  },
  {
   "cell_type": "code",
   "execution_count": null,
   "metadata": {
    "collapsed": false,
    "scrolled": false
   },
   "outputs": [],
   "source": [
    "# This takes 86 min to run. Set to True if you want to run it, otherwise\n",
    "# the results will be taken from a previous run. The purpose of this was to run\n",
    "# a Grid Search to find best parameters for a random forest classifier.\n",
    "runLongRunningTest = False\n",
    "\n",
    "def runModelWedSubmission(X,Y):\n",
    "    print('Run model')\n",
    "    \n",
    "    model_to_set = OneVsRestClassifier(RandomForestClassifier())\n",
    "\n",
    "    param_test1 = {'estimator__n_estimators':[10,20,30,40,50], 'estimator__max_depth':[3,6,8,12,24,32], \n",
    "               'estimator__min_samples_split':[2,4,6],'estimator__min_samples_leaf':[1,2,4]}\n",
    "    \n",
    "        \n",
    "    gsearch1 = GridSearchCV(estimator = model_to_set, \n",
    "                        param_grid = param_test1,n_jobs=8,iid=False, cv=5,verbose=2)\n",
    "    gsearch1.fit(X,Y)\n",
    "\n",
    "    Y_predict = gsearch1.predict_proba(X)\n",
    "    \n",
    "    print('Best Params: ', gsearch1.best_params_)\n",
    "    print( 'Best Score: ', gsearch1.best_score_)\n",
    "\n",
    "    #clf = OneVsRestClassifier(RandomForestClassifier(n_estimators = 10,random_state=25))\n",
    "    #clf.fit(X,Y)\n",
    "    #Y_predict = clf.predict_proba(X)\n",
    "    \n",
    "    return Y_predict, clf\n",
    "\n",
    "\n",
    "# Clean up the data\n",
    "X = preprocessFeatures3(XOrig)\n",
    "\n",
    "\n",
    "\n",
    "if runLongRunningTest:\n",
    "    # Run the model\n",
    "    Y_predict, clf = runModelWedSubmission(X,Y)\n",
    "\n",
    "    wedSubmissionAAUC = calculateROC(Y, Y_predict)\n",
    "    createSubmission(clf)\n",
    "else:\n",
    "    # Results from previous run:\n",
    "    #  [Parallel(n_jobs=8)]: Done 1350 out of 1350 | elapsed: 89.6min finished\n",
    "    # Best Params:  {'estimator__max_depth': 32, 'estimator__min_samples_split': 4, 'estimator__n_estimators': 50, 'estimator__min_samples_leaf': 4}\n",
    "    # Best Score:  0.6728624493424956\n",
    "    wedSubmissionAAUC =  {0: 0.99999891511100747, 1: 1.0, 2: 0.99999372674492126, 3: 1.0}\n",
    "\n",
    "\n",
    "print('Baseline AUC is: ', baselineAUC)\n",
    "print('Wednesday AUC is: ', wedSubmissionAAUC)\n",
    "\n"
   ]
  },
  {
   "cell_type": "markdown",
   "metadata": {},
   "source": [
    "## Thursday Submission"
   ]
  },
  {
   "cell_type": "code",
   "execution_count": null,
   "metadata": {
    "collapsed": false
   },
   "outputs": [],
   "source": [
    "from sklearn.linear_model import LogisticRegression\n",
    "from sklearn.discriminant_analysis import QuadraticDiscriminantAnalysis\n",
    "from sklearn.neighbors import KNeighborsClassifier\n",
    "\n",
    "def runModelThurSubmission(X,Y):\n",
    "    print('Run model')\n",
    "    \n",
    "    # This is taken from the section notebook. The only modification is for the RFC which we have already\n",
    "    # run a hyperparameter search on.\n",
    "    \n",
    "    #Build Model1 - Level 0\n",
    "    Model1 = OneVsRestClassifier(RandomForestClassifier(\n",
    "            n_estimators=50, \n",
    "            max_depth=32, \n",
    "            min_samples_split=4, \n",
    "            min_samples_leaf=4))\n",
    "    Model1.fit(X,Y)\n",
    "\n",
    "    #Predict on X_train, X_test\n",
    "    Model1_pred_test = Model1.predict_proba(X)\n",
    "    #Model1_pred_train = Model1.predict_proba(X_train)\n",
    "\n",
    "    #Build Model3 - Level 0\n",
    "    Model3 = OneVsRestClassifier(QuadraticDiscriminantAnalysis())\n",
    "    Model3.fit(X,Y)\n",
    "    Model3_pred_test = Model3.predict_proba(X)\n",
    "    #Model3_pred_train = Model3.predict_proba(X_train)\n",
    "\n",
    "    #Build Model5 - Level 0\n",
    "    Model5 = OneVsRestClassifier(KNeighborsClassifier(n_neighbors=15, weights='distance'))\n",
    "    Model5.fit(X,Y)\n",
    "    Model5_pred_test = Model5.predict_proba(X)\n",
    "    #Model5_pred_train = Model5.predict_proba(X_train)\n",
    "    \n",
    "    #Model 4 - Level 1 \n",
    "    #Creating training attributes for Model4 (based on Model1, Model3, Model5 )\n",
    "    FeaturesTest1 = np.hstack([Model1_pred_test,Model3_pred_test,Model5_pred_test])  \n",
    "    Model4 = OneVsRestClassifier(LogisticRegression(random_state=49))\n",
    "    Model4.fit(FeaturesTest1,Y)\n",
    "\n",
    "    #Creating test attributes for Model3 (based on Model1 and Model2)\n",
    "    #FeaturesTest1 = np.hstack([Model1_pred_test,Model3_pred_test,Model5_pred_test])\n",
    "\n",
    "    #Final predictions\n",
    "    final_pred = Model4.predict_proba(FeaturesTest1)\n",
    "\n",
    "    #AUC\n",
    "    #fpr, tpr, thresholds = roc_curve(Y, final_pred[:, 1])\n",
    "    #roc_auc = auc(fpr, tpr)\n",
    "    #print(\"AUC with Stacking: \" , roc_auc)\n",
    "    #Minor improvement with stacking over stand alone models\n",
    "    \n",
    "    return final_pred, Model4\n",
    "\n",
    "\n",
    "\n",
    "\n",
    "# Clean up the data\n",
    "X = preprocessData3(XOrig)\n",
    "Y = YOrig\n",
    "\n",
    "# Run the model\n",
    "Y_predict, clf = runModelThurSubmission(X,Y)\n",
    "\n",
    "thurSubmissionAAUC = calculateROC(Y, Y_predict)\n",
    "\n",
    "createSubmission(clf,preprocessData3)"
   ]
  },
  {
   "cell_type": "code",
   "execution_count": null,
   "metadata": {
    "collapsed": false
   },
   "outputs": [],
   "source": [
    "createSubmission(clf,preprocessData3)"
   ]
  },
  {
   "cell_type": "markdown",
   "metadata": {},
   "source": [
    "\n",
    "# The Final Solution\n",
    "\n",
    "TBD"
   ]
  },
  {
   "cell_type": "markdown",
   "metadata": {
    "collapsed": true
   },
   "source": [
    "NB: When you run the sample (before upgrading) these are the values it produces: {0: 0.95755745500532141, 1: 0.94345356758244103, 2: 0.95754489510952012, 3: 0.935902875654121}"
   ]
  }
 ],
 "metadata": {
  "anaconda-cloud": {},
  "kernelspec": {
   "display_name": "Python [Root]",
   "language": "python",
   "name": "Python [Root]"
  },
  "language_info": {
   "codemirror_mode": {
    "name": "ipython",
    "version": 3
   },
   "file_extension": ".py",
   "mimetype": "text/x-python",
   "name": "python",
   "nbconvert_exporter": "python",
   "pygments_lexer": "ipython3",
   "version": "3.5.2"
  }
 },
 "nbformat": 4,
 "nbformat_minor": 0
}
